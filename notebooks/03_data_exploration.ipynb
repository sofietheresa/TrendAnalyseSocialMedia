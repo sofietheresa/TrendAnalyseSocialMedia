{
 "cells": [
  {
   "cell_type": "markdown",
   "id": "556bf447",
   "metadata": {},
   "source": [
    "<div style=\"text-align: center; font-size: 16px;\">\n",
    "    <strong>Course:</strong> Machine Learning Operations |\n",
    "    <strong>Lecturer:</strong> Prof. Dr. Klotz |\n",
    "    <strong>Date:</strong> 17.05.2025 |\n",
    "    <strong>Name:</strong> Sofie Pischl\n",
    "</div>\n",
    "\n",
    "# <center> Data Exploration </center>"
   ]
  },
  {
   "cell_type": "markdown",
   "id": "60106afd",
   "metadata": {},
   "source": [
    "# Inhaltsverzeichnis\n",
    "1. [Einleitung](#Einleitung)\n",
    "2. [Datenvorbereitung](#Datenvorbereitung)\n",
    "3. [Fortgeschrittenes Topic Modelling mit BERTopic](#Fortgeschrittenes-Topic-Modelling-mit-BERTopic)\n",
    "4. [Verbesserte Sentiment-Analyse](#Verbesserte-Sentiment-Analyse)\n",
    "5. [Zeitliche Analyse der Topics](#Zeitliche-Analyse-der-Topics)\n",
    "6. [UMAP-Visualisierung der Topics](#UMAP-Visualisierung-der-Topics)\n",
    "7. [Vorbereitung auf Klassifikation](#Vorbereitung-auf-Klassifikation)\n"
   ]
  },
  {
   "cell_type": "markdown",
   "id": "c296d7f0",
   "metadata": {},
   "source": [
    "## Einleitung\n",
    "Dieses Notebook untersucht kombinierte Social-Media-Daten aus Reddit, YouTube und TikTok. Ziel ist es, Muster in Themen und Stimmungen zu erkennen und die Daten für eine spätere Klassifikation vorzubereiten. Wir verwenden moderne Methoden wie **BERTopic**, **Transformer-basierte Sentimentanalyse** und **visuelle Embedding-Cluster**.\n",
    "\n",
    "In diesem Notebook bauen wir auf der bisherigen Datenexploration auf und ergänzen folgende moderne Verfahren:\n",
    "\n",
    "1. **Fortgeschrittenes Topic Modelling mit BERTopic**\n",
    "2. **Verbesserte Sentiment-Analyse mit VADER und Transformer-Modell**\n",
    "3. **Detaillierte Exploration von Text-Clustern und Zeitreihen**\n",
    "4. **Vorbereitung für Klassifikation und Vorhersagemodelle**\n",
    "\n",
    "Jede Methode wird durch beschreibenden Text begleitet und in das bestehende Datenformat integriert."
   ]
  },
  {
   "cell_type": "markdown",
   "id": "e83736c9",
   "metadata": {},
   "source": [
    "## Datenvorbereitung\n",
    "Wir laden die vorverarbeiteten Daten, konvertieren Zeitstempel und bereiten die Texte für die Analyse vor."
   ]
  },
  {
   "cell_type": "code",
   "execution_count": 98,
   "id": "4294c84e",
   "metadata": {},
   "outputs": [],
   "source": [
    "import pandas as pd\n",
    "pd.set_option('display.max_columns', 1000)\n",
    "from sklearn.feature_extraction.text import CountVectorizer\n",
    "from sklearn.decomposition import LatentDirichletAllocation\n",
    "import matplotlib.pyplot as plt\n",
    "import nltk\n",
    "from pathlib import Path"
   ]
  },
  {
   "cell_type": "code",
   "execution_count": 99,
   "id": "54454930",
   "metadata": {},
   "outputs": [
    {
     "data": {
      "text/html": [
       "<div>\n",
       "<style scoped>\n",
       "    .dataframe tbody tr th:only-of-type {\n",
       "        vertical-align: middle;\n",
       "    }\n",
       "\n",
       "    .dataframe tbody tr th {\n",
       "        vertical-align: top;\n",
       "    }\n",
       "\n",
       "    .dataframe thead th {\n",
       "        text-align: right;\n",
       "    }\n",
       "</style>\n",
       "<table border=\"1\" class=\"dataframe\">\n",
       "  <thead>\n",
       "    <tr style=\"text-align: right;\">\n",
       "      <th></th>\n",
       "      <th>source</th>\n",
       "      <th>id</th>\n",
       "      <th>title</th>\n",
       "      <th>text</th>\n",
       "      <th>username</th>\n",
       "      <th>likes</th>\n",
       "      <th>comments</th>\n",
       "      <th>shares</th>\n",
       "      <th>plays</th>\n",
       "      <th>timestamp</th>\n",
       "      <th>published_at</th>\n",
       "      <th>url</th>\n",
       "      <th>datetime</th>\n",
       "      <th>date</th>\n",
       "      <th>title_language</th>\n",
       "      <th>title_clean</th>\n",
       "      <th>title_char_count</th>\n",
       "      <th>title_word_count</th>\n",
       "      <th>title_uppercase_count</th>\n",
       "      <th>title_exclamation_count</th>\n",
       "      <th>title_question_count</th>\n",
       "      <th>title_emoji_count</th>\n",
       "      <th>title_mention_count</th>\n",
       "      <th>title_hashtag_count</th>\n",
       "      <th>title_avg_word_length</th>\n",
       "      <th>title_sentiment</th>\n",
       "      <th>title_sentiment_score</th>\n",
       "      <th>text_language</th>\n",
       "      <th>text_clean</th>\n",
       "      <th>text_char_count</th>\n",
       "      <th>text_word_count</th>\n",
       "      <th>text_uppercase_count</th>\n",
       "      <th>text_exclamation_count</th>\n",
       "      <th>text_question_count</th>\n",
       "      <th>text_emoji_count</th>\n",
       "      <th>text_mention_count</th>\n",
       "      <th>text_hashtag_count</th>\n",
       "      <th>text_avg_word_length</th>\n",
       "      <th>text_sentiment</th>\n",
       "      <th>text_sentiment_score</th>\n",
       "      <th>engagement_rate</th>\n",
       "      <th>hour</th>\n",
       "      <th>weekday</th>\n",
       "      <th>year</th>\n",
       "      <th>month</th>\n",
       "      <th>day_period</th>\n",
       "      <th>is_weekend</th>\n",
       "    </tr>\n",
       "  </thead>\n",
       "  <tbody>\n",
       "    <tr>\n",
       "      <th>0</th>\n",
       "      <td>tiktok</td>\n",
       "      <td>7493469801654881542</td>\n",
       "      <td>NaN</td>\n",
       "      <td>#vairalvideo_foryoupage  #🇦🇫ازبک_تاجک_پشتون_تر...</td>\n",
       "      <td>afgcap.cut</td>\n",
       "      <td>0.000407</td>\n",
       "      <td>0.000566</td>\n",
       "      <td>0.000096</td>\n",
       "      <td>0.001126</td>\n",
       "      <td>2025-04-15 09:30:06+00:00</td>\n",
       "      <td>NaN</td>\n",
       "      <td>https://v16-webapp-prime.tiktok.com/video/tos/...</td>\n",
       "      <td>2025-04-15 09:30:06+00:00</td>\n",
       "      <td>2025-04-15</td>\n",
       "      <td>unknown</td>\n",
       "      <td>NaN</td>\n",
       "      <td>0.0</td>\n",
       "      <td>0.0</td>\n",
       "      <td>0.0</td>\n",
       "      <td>0.0</td>\n",
       "      <td>0.0</td>\n",
       "      <td>0.0</td>\n",
       "      <td>0.0</td>\n",
       "      <td>0.0</td>\n",
       "      <td>0.0</td>\n",
       "      <td>neutral</td>\n",
       "      <td>0.0</td>\n",
       "      <td>unknown</td>\n",
       "      <td>NaN</td>\n",
       "      <td>0.0</td>\n",
       "      <td>0.0</td>\n",
       "      <td>0.0</td>\n",
       "      <td>0.0</td>\n",
       "      <td>0.0</td>\n",
       "      <td>0.0</td>\n",
       "      <td>0.0</td>\n",
       "      <td>0.0</td>\n",
       "      <td>0.0</td>\n",
       "      <td>neutral</td>\n",
       "      <td>0.0</td>\n",
       "      <td>0.116029</td>\n",
       "      <td>NaN</td>\n",
       "      <td>NaN</td>\n",
       "      <td>NaN</td>\n",
       "      <td>NaN</td>\n",
       "      <td>NaN</td>\n",
       "      <td>False</td>\n",
       "    </tr>\n",
       "    <tr>\n",
       "      <th>1</th>\n",
       "      <td>tiktok</td>\n",
       "      <td>7489427780397010198</td>\n",
       "      <td>NaN</td>\n",
       "      <td>#imapoliceofficer #tensheet #foryou #viral #fy...</td>\n",
       "      <td>backwheelbandit69</td>\n",
       "      <td>0.110825</td>\n",
       "      <td>0.024776</td>\n",
       "      <td>0.064638</td>\n",
       "      <td>0.129241</td>\n",
       "      <td>2025-04-04 12:04:57+00:00</td>\n",
       "      <td>NaN</td>\n",
       "      <td>https://v16-webapp-prime.tiktok.com/video/tos/...</td>\n",
       "      <td>2025-04-04 12:04:57+00:00</td>\n",
       "      <td>2025-04-04</td>\n",
       "      <td>unknown</td>\n",
       "      <td>NaN</td>\n",
       "      <td>0.0</td>\n",
       "      <td>0.0</td>\n",
       "      <td>0.0</td>\n",
       "      <td>0.0</td>\n",
       "      <td>0.0</td>\n",
       "      <td>0.0</td>\n",
       "      <td>0.0</td>\n",
       "      <td>0.0</td>\n",
       "      <td>0.0</td>\n",
       "      <td>neutral</td>\n",
       "      <td>0.0</td>\n",
       "      <td>unknown</td>\n",
       "      <td>NaN</td>\n",
       "      <td>0.0</td>\n",
       "      <td>0.0</td>\n",
       "      <td>0.0</td>\n",
       "      <td>0.0</td>\n",
       "      <td>0.0</td>\n",
       "      <td>0.0</td>\n",
       "      <td>0.0</td>\n",
       "      <td>0.0</td>\n",
       "      <td>0.0</td>\n",
       "      <td>neutral</td>\n",
       "      <td>0.0</td>\n",
       "      <td>0.273845</td>\n",
       "      <td>NaN</td>\n",
       "      <td>NaN</td>\n",
       "      <td>NaN</td>\n",
       "      <td>NaN</td>\n",
       "      <td>NaN</td>\n",
       "      <td>False</td>\n",
       "    </tr>\n",
       "    <tr>\n",
       "      <th>2</th>\n",
       "      <td>tiktok</td>\n",
       "      <td>7492000423641959685</td>\n",
       "      <td>NaN</td>\n",
       "      <td>#CapCut #قوالب_كاب_كات_جاهزه_للتصميم__🌴♥ #كاب_...</td>\n",
       "      <td>noordeen_cap_cat_0_1</td>\n",
       "      <td>0.001505</td>\n",
       "      <td>0.000989</td>\n",
       "      <td>0.000335</td>\n",
       "      <td>0.004010</td>\n",
       "      <td>2025-04-11 10:28:10+00:00</td>\n",
       "      <td>NaN</td>\n",
       "      <td>https://v16-webapp-prime.tiktok.com/video/tos/...</td>\n",
       "      <td>2025-04-11 10:28:10+00:00</td>\n",
       "      <td>2025-04-11</td>\n",
       "      <td>unknown</td>\n",
       "      <td>NaN</td>\n",
       "      <td>0.0</td>\n",
       "      <td>0.0</td>\n",
       "      <td>0.0</td>\n",
       "      <td>0.0</td>\n",
       "      <td>0.0</td>\n",
       "      <td>0.0</td>\n",
       "      <td>0.0</td>\n",
       "      <td>0.0</td>\n",
       "      <td>0.0</td>\n",
       "      <td>neutral</td>\n",
       "      <td>0.0</td>\n",
       "      <td>unknown</td>\n",
       "      <td>NaN</td>\n",
       "      <td>0.0</td>\n",
       "      <td>0.0</td>\n",
       "      <td>0.0</td>\n",
       "      <td>0.0</td>\n",
       "      <td>0.0</td>\n",
       "      <td>0.0</td>\n",
       "      <td>0.0</td>\n",
       "      <td>0.0</td>\n",
       "      <td>0.0</td>\n",
       "      <td>neutral</td>\n",
       "      <td>0.0</td>\n",
       "      <td>0.119509</td>\n",
       "      <td>NaN</td>\n",
       "      <td>NaN</td>\n",
       "      <td>NaN</td>\n",
       "      <td>NaN</td>\n",
       "      <td>NaN</td>\n",
       "      <td>False</td>\n",
       "    </tr>\n",
       "    <tr>\n",
       "      <th>3</th>\n",
       "      <td>tiktok</td>\n",
       "      <td>7472584144510373125</td>\n",
       "      <td>NaN</td>\n",
       "      <td>i think it was a bad idea</td>\n",
       "      <td>maligoshik</td>\n",
       "      <td>0.463918</td>\n",
       "      <td>0.052621</td>\n",
       "      <td>0.276596</td>\n",
       "      <td>0.520049</td>\n",
       "      <td>2025-02-18 02:43:04+00:00</td>\n",
       "      <td>NaN</td>\n",
       "      <td>https://v16-webapp-prime.tiktok.com/video/tos/...</td>\n",
       "      <td>2025-02-18 02:43:04+00:00</td>\n",
       "      <td>2025-02-18</td>\n",
       "      <td>unknown</td>\n",
       "      <td>NaN</td>\n",
       "      <td>0.0</td>\n",
       "      <td>0.0</td>\n",
       "      <td>0.0</td>\n",
       "      <td>0.0</td>\n",
       "      <td>0.0</td>\n",
       "      <td>0.0</td>\n",
       "      <td>0.0</td>\n",
       "      <td>0.0</td>\n",
       "      <td>0.0</td>\n",
       "      <td>neutral</td>\n",
       "      <td>0.0</td>\n",
       "      <td>en</td>\n",
       "      <td>think bad idea</td>\n",
       "      <td>14.0</td>\n",
       "      <td>3.0</td>\n",
       "      <td>0.0</td>\n",
       "      <td>0.0</td>\n",
       "      <td>0.0</td>\n",
       "      <td>0.0</td>\n",
       "      <td>0.0</td>\n",
       "      <td>0.0</td>\n",
       "      <td>4.0</td>\n",
       "      <td>negative</td>\n",
       "      <td>-0.7</td>\n",
       "      <td>0.284582</td>\n",
       "      <td>NaN</td>\n",
       "      <td>NaN</td>\n",
       "      <td>NaN</td>\n",
       "      <td>NaN</td>\n",
       "      <td>NaN</td>\n",
       "      <td>False</td>\n",
       "    </tr>\n",
       "    <tr>\n",
       "      <th>4</th>\n",
       "      <td>tiktok</td>\n",
       "      <td>7461927005689302280</td>\n",
       "      <td>NaN</td>\n",
       "      <td>welcome to the thanos world!! #squidgame #squi...</td>\n",
       "      <td>team_thanos_player230</td>\n",
       "      <td>0.006737</td>\n",
       "      <td>0.028503</td>\n",
       "      <td>0.002027</td>\n",
       "      <td>0.038248</td>\n",
       "      <td>2025-01-20 09:27:52+00:00</td>\n",
       "      <td>NaN</td>\n",
       "      <td>https://webapp-sg.tiktok.com/bf63b8aa40b9ff0ca...</td>\n",
       "      <td>2025-01-20 09:27:52+00:00</td>\n",
       "      <td>2025-01-20</td>\n",
       "      <td>unknown</td>\n",
       "      <td>NaN</td>\n",
       "      <td>0.0</td>\n",
       "      <td>0.0</td>\n",
       "      <td>0.0</td>\n",
       "      <td>0.0</td>\n",
       "      <td>0.0</td>\n",
       "      <td>0.0</td>\n",
       "      <td>0.0</td>\n",
       "      <td>0.0</td>\n",
       "      <td>0.0</td>\n",
       "      <td>neutral</td>\n",
       "      <td>0.0</td>\n",
       "      <td>en</td>\n",
       "      <td>welcome thanos world</td>\n",
       "      <td>20.0</td>\n",
       "      <td>3.0</td>\n",
       "      <td>0.0</td>\n",
       "      <td>0.0</td>\n",
       "      <td>0.0</td>\n",
       "      <td>0.0</td>\n",
       "      <td>0.0</td>\n",
       "      <td>0.0</td>\n",
       "      <td>6.0</td>\n",
       "      <td>positive</td>\n",
       "      <td>0.8</td>\n",
       "      <td>0.057531</td>\n",
       "      <td>NaN</td>\n",
       "      <td>NaN</td>\n",
       "      <td>NaN</td>\n",
       "      <td>NaN</td>\n",
       "      <td>NaN</td>\n",
       "      <td>False</td>\n",
       "    </tr>\n",
       "  </tbody>\n",
       "</table>\n",
       "</div>"
      ],
      "text/plain": [
       "   source                   id title  \\\n",
       "0  tiktok  7493469801654881542   NaN   \n",
       "1  tiktok  7489427780397010198   NaN   \n",
       "2  tiktok  7492000423641959685   NaN   \n",
       "3  tiktok  7472584144510373125   NaN   \n",
       "4  tiktok  7461927005689302280   NaN   \n",
       "\n",
       "                                                text               username  \\\n",
       "0  #vairalvideo_foryoupage  #🇦🇫ازبک_تاجک_پشتون_تر...             afgcap.cut   \n",
       "1  #imapoliceofficer #tensheet #foryou #viral #fy...      backwheelbandit69   \n",
       "2  #CapCut #قوالب_كاب_كات_جاهزه_للتصميم__🌴♥ #كاب_...   noordeen_cap_cat_0_1   \n",
       "3                          i think it was a bad idea             maligoshik   \n",
       "4  welcome to the thanos world!! #squidgame #squi...  team_thanos_player230   \n",
       "\n",
       "      likes  comments    shares     plays                  timestamp  \\\n",
       "0  0.000407  0.000566  0.000096  0.001126  2025-04-15 09:30:06+00:00   \n",
       "1  0.110825  0.024776  0.064638  0.129241  2025-04-04 12:04:57+00:00   \n",
       "2  0.001505  0.000989  0.000335  0.004010  2025-04-11 10:28:10+00:00   \n",
       "3  0.463918  0.052621  0.276596  0.520049  2025-02-18 02:43:04+00:00   \n",
       "4  0.006737  0.028503  0.002027  0.038248  2025-01-20 09:27:52+00:00   \n",
       "\n",
       "  published_at                                                url  \\\n",
       "0          NaN  https://v16-webapp-prime.tiktok.com/video/tos/...   \n",
       "1          NaN  https://v16-webapp-prime.tiktok.com/video/tos/...   \n",
       "2          NaN  https://v16-webapp-prime.tiktok.com/video/tos/...   \n",
       "3          NaN  https://v16-webapp-prime.tiktok.com/video/tos/...   \n",
       "4          NaN  https://webapp-sg.tiktok.com/bf63b8aa40b9ff0ca...   \n",
       "\n",
       "                    datetime        date title_language title_clean  \\\n",
       "0  2025-04-15 09:30:06+00:00  2025-04-15        unknown         NaN   \n",
       "1  2025-04-04 12:04:57+00:00  2025-04-04        unknown         NaN   \n",
       "2  2025-04-11 10:28:10+00:00  2025-04-11        unknown         NaN   \n",
       "3  2025-02-18 02:43:04+00:00  2025-02-18        unknown         NaN   \n",
       "4  2025-01-20 09:27:52+00:00  2025-01-20        unknown         NaN   \n",
       "\n",
       "   title_char_count  title_word_count  title_uppercase_count  \\\n",
       "0               0.0               0.0                    0.0   \n",
       "1               0.0               0.0                    0.0   \n",
       "2               0.0               0.0                    0.0   \n",
       "3               0.0               0.0                    0.0   \n",
       "4               0.0               0.0                    0.0   \n",
       "\n",
       "   title_exclamation_count  title_question_count  title_emoji_count  \\\n",
       "0                      0.0                   0.0                0.0   \n",
       "1                      0.0                   0.0                0.0   \n",
       "2                      0.0                   0.0                0.0   \n",
       "3                      0.0                   0.0                0.0   \n",
       "4                      0.0                   0.0                0.0   \n",
       "\n",
       "   title_mention_count  title_hashtag_count  title_avg_word_length  \\\n",
       "0                  0.0                  0.0                    0.0   \n",
       "1                  0.0                  0.0                    0.0   \n",
       "2                  0.0                  0.0                    0.0   \n",
       "3                  0.0                  0.0                    0.0   \n",
       "4                  0.0                  0.0                    0.0   \n",
       "\n",
       "  title_sentiment  title_sentiment_score text_language            text_clean  \\\n",
       "0         neutral                    0.0       unknown                   NaN   \n",
       "1         neutral                    0.0       unknown                   NaN   \n",
       "2         neutral                    0.0       unknown                   NaN   \n",
       "3         neutral                    0.0            en        think bad idea   \n",
       "4         neutral                    0.0            en  welcome thanos world   \n",
       "\n",
       "   text_char_count  text_word_count  text_uppercase_count  \\\n",
       "0              0.0              0.0                   0.0   \n",
       "1              0.0              0.0                   0.0   \n",
       "2              0.0              0.0                   0.0   \n",
       "3             14.0              3.0                   0.0   \n",
       "4             20.0              3.0                   0.0   \n",
       "\n",
       "   text_exclamation_count  text_question_count  text_emoji_count  \\\n",
       "0                     0.0                  0.0               0.0   \n",
       "1                     0.0                  0.0               0.0   \n",
       "2                     0.0                  0.0               0.0   \n",
       "3                     0.0                  0.0               0.0   \n",
       "4                     0.0                  0.0               0.0   \n",
       "\n",
       "   text_mention_count  text_hashtag_count  text_avg_word_length  \\\n",
       "0                 0.0                 0.0                   0.0   \n",
       "1                 0.0                 0.0                   0.0   \n",
       "2                 0.0                 0.0                   0.0   \n",
       "3                 0.0                 0.0                   4.0   \n",
       "4                 0.0                 0.0                   6.0   \n",
       "\n",
       "  text_sentiment  text_sentiment_score  engagement_rate  hour weekday  year  \\\n",
       "0        neutral                   0.0         0.116029   NaN     NaN   NaN   \n",
       "1        neutral                   0.0         0.273845   NaN     NaN   NaN   \n",
       "2        neutral                   0.0         0.119509   NaN     NaN   NaN   \n",
       "3       negative                  -0.7         0.284582   NaN     NaN   NaN   \n",
       "4       positive                   0.8         0.057531   NaN     NaN   NaN   \n",
       "\n",
       "   month day_period  is_weekend  \n",
       "0    NaN        NaN       False  \n",
       "1    NaN        NaN       False  \n",
       "2    NaN        NaN       False  \n",
       "3    NaN        NaN       False  \n",
       "4    NaN        NaN       False  "
      ]
     },
     "metadata": {},
     "output_type": "display_data"
    },
    {
     "name": "stdout",
     "output_type": "stream",
     "text": [
      "<class 'pandas.core.frame.DataFrame'>\n",
      "RangeIndex: 1728 entries, 0 to 1727\n",
      "Data columns (total 47 columns):\n",
      " #   Column                   Non-Null Count  Dtype  \n",
      "---  ------                   --------------  -----  \n",
      " 0   source                   1728 non-null   object \n",
      " 1   id                       1728 non-null   object \n",
      " 2   title                    646 non-null    object \n",
      " 3   text                     1727 non-null   object \n",
      " 4   username                 1398 non-null   object \n",
      " 5   likes                    1728 non-null   float64\n",
      " 6   comments                 1728 non-null   float64\n",
      " 7   shares                   1728 non-null   float64\n",
      " 8   plays                    1728 non-null   float64\n",
      " 9   timestamp                1560 non-null   object \n",
      " 10  published_at             645 non-null    object \n",
      " 11  url                      1304 non-null   object \n",
      " 12  datetime                 1726 non-null   object \n",
      " 13  date                     1726 non-null   object \n",
      " 14  title_language           1728 non-null   object \n",
      " 15  title_clean              645 non-null    object \n",
      " 16  title_char_count         1728 non-null   float64\n",
      " 17  title_word_count         1728 non-null   float64\n",
      " 18  title_uppercase_count    1728 non-null   float64\n",
      " 19  title_exclamation_count  1728 non-null   float64\n",
      " 20  title_question_count     1728 non-null   float64\n",
      " 21  title_emoji_count        1728 non-null   float64\n",
      " 22  title_mention_count      1728 non-null   float64\n",
      " 23  title_hashtag_count      1728 non-null   float64\n",
      " 24  title_avg_word_length    1728 non-null   float64\n",
      " 25  title_sentiment          1728 non-null   object \n",
      " 26  title_sentiment_score    1728 non-null   float64\n",
      " 27  text_language            1728 non-null   object \n",
      " 28  text_clean               1514 non-null   object \n",
      " 29  text_char_count          1728 non-null   float64\n",
      " 30  text_word_count          1728 non-null   float64\n",
      " 31  text_uppercase_count     1728 non-null   float64\n",
      " 32  text_exclamation_count   1728 non-null   float64\n",
      " 33  text_question_count      1728 non-null   float64\n",
      " 34  text_emoji_count         1728 non-null   float64\n",
      " 35  text_mention_count       1728 non-null   float64\n",
      " 36  text_hashtag_count       1728 non-null   float64\n",
      " 37  text_avg_word_length     1728 non-null   float64\n",
      " 38  text_sentiment           1728 non-null   object \n",
      " 39  text_sentiment_score     1728 non-null   float64\n",
      " 40  engagement_rate          1728 non-null   float64\n",
      " 41  hour                     645 non-null    float64\n",
      " 42  weekday                  645 non-null    object \n",
      " 43  year                     645 non-null    float64\n",
      " 44  month                    645 non-null    float64\n",
      " 45  day_period               645 non-null    object \n",
      " 46  is_weekend               1728 non-null   bool   \n",
      "dtypes: bool(1), float64(28), object(18)\n",
      "memory usage: 622.8+ KB\n"
     ]
    }
   ],
   "source": [
    "BASE_DIR = Path().resolve().parent\n",
    "RAW_DIR = (BASE_DIR / \"./data/processed\").resolve()\n",
    "\n",
    "# Datei laden\n",
    "df = pd.read_csv(RAW_DIR / \"social_media_data.csv\")\n",
    "\n",
    "display(df.head())\n",
    "df.info()"
   ]
  },
  {
   "cell_type": "code",
   "execution_count": 100,
   "id": "67922683",
   "metadata": {},
   "outputs": [
    {
     "name": "stdout",
     "output_type": "stream",
     "text": [
      "    source  num_posts\n",
      "0   tiktok       1082\n",
      "1   reddit        330\n",
      "2  youtube        316\n"
     ]
    }
   ],
   "source": [
    "# Anzahl der Posts pro Plattform\n",
    "post_counts = df[\"source\"].value_counts().reset_index()\n",
    "post_counts.columns = [\"source\", \"num_posts\"]\n",
    "\n",
    "# Anzeige\n",
    "print(post_counts)"
   ]
  },
  {
   "cell_type": "markdown",
   "id": "028bcd2c",
   "metadata": {},
   "source": [
    "# Preparations"
   ]
  },
  {
   "cell_type": "code",
   "execution_count": 101,
   "id": "b481a09b",
   "metadata": {},
   "outputs": [],
   "source": [
    "# Kombinieren von Titel und Text (beide bereinigt)\n",
    "texts = (df[\"title_clean\"].fillna(\"\") + \" \" + df[\"text_clean\"].fillna(\"\")).astype(str)"
   ]
  },
  {
   "cell_type": "markdown",
   "id": "f3d9ab5e",
   "metadata": {},
   "source": [
    "# LDA\n",
    "LDA ist ein probabilistisches generatives Modell, das davon ausgeht, dass jedes Dokument eine Mischung aus mehreren Themen ist und jedes Thema durch eine Verteilung über Wörter beschrieben werden kann. Es eignet sich gut für längere, formellere Texte, bietet jedoch auch bei kurzen Texten erste Einblicke in thematische Strukturen.\n",
    "\n",
    "Warum LDA als erster Ansatz?\n",
    "Einfachheit & Transparenz: LDA ist leicht verständlich und bietet eine gute Grundlage, um Themenmodelle zu interpretieren.\n",
    "\n",
    "Vergleichsbasis: Es dient als Referenzmodell, gegen das modernere Verfahren wie BERTopic verglichen werden können.\n",
    "\n",
    "Schnelle Anwendung: Mit scikit-learn lässt sich LDA effizient auf vorbereiteten TF-IDF-Daten trainieren"
   ]
  },
  {
   "cell_type": "code",
   "execution_count": 102,
   "id": "8eac9ff7",
   "metadata": {},
   "outputs": [
    {
     "data": {
      "text/html": [
       "<style>#sk-container-id-6 {\n",
       "  /* Definition of color scheme common for light and dark mode */\n",
       "  --sklearn-color-text: #000;\n",
       "  --sklearn-color-text-muted: #666;\n",
       "  --sklearn-color-line: gray;\n",
       "  /* Definition of color scheme for unfitted estimators */\n",
       "  --sklearn-color-unfitted-level-0: #fff5e6;\n",
       "  --sklearn-color-unfitted-level-1: #f6e4d2;\n",
       "  --sklearn-color-unfitted-level-2: #ffe0b3;\n",
       "  --sklearn-color-unfitted-level-3: chocolate;\n",
       "  /* Definition of color scheme for fitted estimators */\n",
       "  --sklearn-color-fitted-level-0: #f0f8ff;\n",
       "  --sklearn-color-fitted-level-1: #d4ebff;\n",
       "  --sklearn-color-fitted-level-2: #b3dbfd;\n",
       "  --sklearn-color-fitted-level-3: cornflowerblue;\n",
       "\n",
       "  /* Specific color for light theme */\n",
       "  --sklearn-color-text-on-default-background: var(--sg-text-color, var(--theme-code-foreground, var(--jp-content-font-color1, black)));\n",
       "  --sklearn-color-background: var(--sg-background-color, var(--theme-background, var(--jp-layout-color0, white)));\n",
       "  --sklearn-color-border-box: var(--sg-text-color, var(--theme-code-foreground, var(--jp-content-font-color1, black)));\n",
       "  --sklearn-color-icon: #696969;\n",
       "\n",
       "  @media (prefers-color-scheme: dark) {\n",
       "    /* Redefinition of color scheme for dark theme */\n",
       "    --sklearn-color-text-on-default-background: var(--sg-text-color, var(--theme-code-foreground, var(--jp-content-font-color1, white)));\n",
       "    --sklearn-color-background: var(--sg-background-color, var(--theme-background, var(--jp-layout-color0, #111)));\n",
       "    --sklearn-color-border-box: var(--sg-text-color, var(--theme-code-foreground, var(--jp-content-font-color1, white)));\n",
       "    --sklearn-color-icon: #878787;\n",
       "  }\n",
       "}\n",
       "\n",
       "#sk-container-id-6 {\n",
       "  color: var(--sklearn-color-text);\n",
       "}\n",
       "\n",
       "#sk-container-id-6 pre {\n",
       "  padding: 0;\n",
       "}\n",
       "\n",
       "#sk-container-id-6 input.sk-hidden--visually {\n",
       "  border: 0;\n",
       "  clip: rect(1px 1px 1px 1px);\n",
       "  clip: rect(1px, 1px, 1px, 1px);\n",
       "  height: 1px;\n",
       "  margin: -1px;\n",
       "  overflow: hidden;\n",
       "  padding: 0;\n",
       "  position: absolute;\n",
       "  width: 1px;\n",
       "}\n",
       "\n",
       "#sk-container-id-6 div.sk-dashed-wrapped {\n",
       "  border: 1px dashed var(--sklearn-color-line);\n",
       "  margin: 0 0.4em 0.5em 0.4em;\n",
       "  box-sizing: border-box;\n",
       "  padding-bottom: 0.4em;\n",
       "  background-color: var(--sklearn-color-background);\n",
       "}\n",
       "\n",
       "#sk-container-id-6 div.sk-container {\n",
       "  /* jupyter's `normalize.less` sets `[hidden] { display: none; }`\n",
       "     but bootstrap.min.css set `[hidden] { display: none !important; }`\n",
       "     so we also need the `!important` here to be able to override the\n",
       "     default hidden behavior on the sphinx rendered scikit-learn.org.\n",
       "     See: https://github.com/scikit-learn/scikit-learn/issues/21755 */\n",
       "  display: inline-block !important;\n",
       "  position: relative;\n",
       "}\n",
       "\n",
       "#sk-container-id-6 div.sk-text-repr-fallback {\n",
       "  display: none;\n",
       "}\n",
       "\n",
       "div.sk-parallel-item,\n",
       "div.sk-serial,\n",
       "div.sk-item {\n",
       "  /* draw centered vertical line to link estimators */\n",
       "  background-image: linear-gradient(var(--sklearn-color-text-on-default-background), var(--sklearn-color-text-on-default-background));\n",
       "  background-size: 2px 100%;\n",
       "  background-repeat: no-repeat;\n",
       "  background-position: center center;\n",
       "}\n",
       "\n",
       "/* Parallel-specific style estimator block */\n",
       "\n",
       "#sk-container-id-6 div.sk-parallel-item::after {\n",
       "  content: \"\";\n",
       "  width: 100%;\n",
       "  border-bottom: 2px solid var(--sklearn-color-text-on-default-background);\n",
       "  flex-grow: 1;\n",
       "}\n",
       "\n",
       "#sk-container-id-6 div.sk-parallel {\n",
       "  display: flex;\n",
       "  align-items: stretch;\n",
       "  justify-content: center;\n",
       "  background-color: var(--sklearn-color-background);\n",
       "  position: relative;\n",
       "}\n",
       "\n",
       "#sk-container-id-6 div.sk-parallel-item {\n",
       "  display: flex;\n",
       "  flex-direction: column;\n",
       "}\n",
       "\n",
       "#sk-container-id-6 div.sk-parallel-item:first-child::after {\n",
       "  align-self: flex-end;\n",
       "  width: 50%;\n",
       "}\n",
       "\n",
       "#sk-container-id-6 div.sk-parallel-item:last-child::after {\n",
       "  align-self: flex-start;\n",
       "  width: 50%;\n",
       "}\n",
       "\n",
       "#sk-container-id-6 div.sk-parallel-item:only-child::after {\n",
       "  width: 0;\n",
       "}\n",
       "\n",
       "/* Serial-specific style estimator block */\n",
       "\n",
       "#sk-container-id-6 div.sk-serial {\n",
       "  display: flex;\n",
       "  flex-direction: column;\n",
       "  align-items: center;\n",
       "  background-color: var(--sklearn-color-background);\n",
       "  padding-right: 1em;\n",
       "  padding-left: 1em;\n",
       "}\n",
       "\n",
       "\n",
       "/* Toggleable style: style used for estimator/Pipeline/ColumnTransformer box that is\n",
       "clickable and can be expanded/collapsed.\n",
       "- Pipeline and ColumnTransformer use this feature and define the default style\n",
       "- Estimators will overwrite some part of the style using the `sk-estimator` class\n",
       "*/\n",
       "\n",
       "/* Pipeline and ColumnTransformer style (default) */\n",
       "\n",
       "#sk-container-id-6 div.sk-toggleable {\n",
       "  /* Default theme specific background. It is overwritten whether we have a\n",
       "  specific estimator or a Pipeline/ColumnTransformer */\n",
       "  background-color: var(--sklearn-color-background);\n",
       "}\n",
       "\n",
       "/* Toggleable label */\n",
       "#sk-container-id-6 label.sk-toggleable__label {\n",
       "  cursor: pointer;\n",
       "  display: flex;\n",
       "  width: 100%;\n",
       "  margin-bottom: 0;\n",
       "  padding: 0.5em;\n",
       "  box-sizing: border-box;\n",
       "  text-align: center;\n",
       "  align-items: start;\n",
       "  justify-content: space-between;\n",
       "  gap: 0.5em;\n",
       "}\n",
       "\n",
       "#sk-container-id-6 label.sk-toggleable__label .caption {\n",
       "  font-size: 0.6rem;\n",
       "  font-weight: lighter;\n",
       "  color: var(--sklearn-color-text-muted);\n",
       "}\n",
       "\n",
       "#sk-container-id-6 label.sk-toggleable__label-arrow:before {\n",
       "  /* Arrow on the left of the label */\n",
       "  content: \"▸\";\n",
       "  float: left;\n",
       "  margin-right: 0.25em;\n",
       "  color: var(--sklearn-color-icon);\n",
       "}\n",
       "\n",
       "#sk-container-id-6 label.sk-toggleable__label-arrow:hover:before {\n",
       "  color: var(--sklearn-color-text);\n",
       "}\n",
       "\n",
       "/* Toggleable content - dropdown */\n",
       "\n",
       "#sk-container-id-6 div.sk-toggleable__content {\n",
       "  max-height: 0;\n",
       "  max-width: 0;\n",
       "  overflow: hidden;\n",
       "  text-align: left;\n",
       "  /* unfitted */\n",
       "  background-color: var(--sklearn-color-unfitted-level-0);\n",
       "}\n",
       "\n",
       "#sk-container-id-6 div.sk-toggleable__content.fitted {\n",
       "  /* fitted */\n",
       "  background-color: var(--sklearn-color-fitted-level-0);\n",
       "}\n",
       "\n",
       "#sk-container-id-6 div.sk-toggleable__content pre {\n",
       "  margin: 0.2em;\n",
       "  border-radius: 0.25em;\n",
       "  color: var(--sklearn-color-text);\n",
       "  /* unfitted */\n",
       "  background-color: var(--sklearn-color-unfitted-level-0);\n",
       "}\n",
       "\n",
       "#sk-container-id-6 div.sk-toggleable__content.fitted pre {\n",
       "  /* unfitted */\n",
       "  background-color: var(--sklearn-color-fitted-level-0);\n",
       "}\n",
       "\n",
       "#sk-container-id-6 input.sk-toggleable__control:checked~div.sk-toggleable__content {\n",
       "  /* Expand drop-down */\n",
       "  max-height: 200px;\n",
       "  max-width: 100%;\n",
       "  overflow: auto;\n",
       "}\n",
       "\n",
       "#sk-container-id-6 input.sk-toggleable__control:checked~label.sk-toggleable__label-arrow:before {\n",
       "  content: \"▾\";\n",
       "}\n",
       "\n",
       "/* Pipeline/ColumnTransformer-specific style */\n",
       "\n",
       "#sk-container-id-6 div.sk-label input.sk-toggleable__control:checked~label.sk-toggleable__label {\n",
       "  color: var(--sklearn-color-text);\n",
       "  background-color: var(--sklearn-color-unfitted-level-2);\n",
       "}\n",
       "\n",
       "#sk-container-id-6 div.sk-label.fitted input.sk-toggleable__control:checked~label.sk-toggleable__label {\n",
       "  background-color: var(--sklearn-color-fitted-level-2);\n",
       "}\n",
       "\n",
       "/* Estimator-specific style */\n",
       "\n",
       "/* Colorize estimator box */\n",
       "#sk-container-id-6 div.sk-estimator input.sk-toggleable__control:checked~label.sk-toggleable__label {\n",
       "  /* unfitted */\n",
       "  background-color: var(--sklearn-color-unfitted-level-2);\n",
       "}\n",
       "\n",
       "#sk-container-id-6 div.sk-estimator.fitted input.sk-toggleable__control:checked~label.sk-toggleable__label {\n",
       "  /* fitted */\n",
       "  background-color: var(--sklearn-color-fitted-level-2);\n",
       "}\n",
       "\n",
       "#sk-container-id-6 div.sk-label label.sk-toggleable__label,\n",
       "#sk-container-id-6 div.sk-label label {\n",
       "  /* The background is the default theme color */\n",
       "  color: var(--sklearn-color-text-on-default-background);\n",
       "}\n",
       "\n",
       "/* On hover, darken the color of the background */\n",
       "#sk-container-id-6 div.sk-label:hover label.sk-toggleable__label {\n",
       "  color: var(--sklearn-color-text);\n",
       "  background-color: var(--sklearn-color-unfitted-level-2);\n",
       "}\n",
       "\n",
       "/* Label box, darken color on hover, fitted */\n",
       "#sk-container-id-6 div.sk-label.fitted:hover label.sk-toggleable__label.fitted {\n",
       "  color: var(--sklearn-color-text);\n",
       "  background-color: var(--sklearn-color-fitted-level-2);\n",
       "}\n",
       "\n",
       "/* Estimator label */\n",
       "\n",
       "#sk-container-id-6 div.sk-label label {\n",
       "  font-family: monospace;\n",
       "  font-weight: bold;\n",
       "  display: inline-block;\n",
       "  line-height: 1.2em;\n",
       "}\n",
       "\n",
       "#sk-container-id-6 div.sk-label-container {\n",
       "  text-align: center;\n",
       "}\n",
       "\n",
       "/* Estimator-specific */\n",
       "#sk-container-id-6 div.sk-estimator {\n",
       "  font-family: monospace;\n",
       "  border: 1px dotted var(--sklearn-color-border-box);\n",
       "  border-radius: 0.25em;\n",
       "  box-sizing: border-box;\n",
       "  margin-bottom: 0.5em;\n",
       "  /* unfitted */\n",
       "  background-color: var(--sklearn-color-unfitted-level-0);\n",
       "}\n",
       "\n",
       "#sk-container-id-6 div.sk-estimator.fitted {\n",
       "  /* fitted */\n",
       "  background-color: var(--sklearn-color-fitted-level-0);\n",
       "}\n",
       "\n",
       "/* on hover */\n",
       "#sk-container-id-6 div.sk-estimator:hover {\n",
       "  /* unfitted */\n",
       "  background-color: var(--sklearn-color-unfitted-level-2);\n",
       "}\n",
       "\n",
       "#sk-container-id-6 div.sk-estimator.fitted:hover {\n",
       "  /* fitted */\n",
       "  background-color: var(--sklearn-color-fitted-level-2);\n",
       "}\n",
       "\n",
       "/* Specification for estimator info (e.g. \"i\" and \"?\") */\n",
       "\n",
       "/* Common style for \"i\" and \"?\" */\n",
       "\n",
       ".sk-estimator-doc-link,\n",
       "a:link.sk-estimator-doc-link,\n",
       "a:visited.sk-estimator-doc-link {\n",
       "  float: right;\n",
       "  font-size: smaller;\n",
       "  line-height: 1em;\n",
       "  font-family: monospace;\n",
       "  background-color: var(--sklearn-color-background);\n",
       "  border-radius: 1em;\n",
       "  height: 1em;\n",
       "  width: 1em;\n",
       "  text-decoration: none !important;\n",
       "  margin-left: 0.5em;\n",
       "  text-align: center;\n",
       "  /* unfitted */\n",
       "  border: var(--sklearn-color-unfitted-level-1) 1pt solid;\n",
       "  color: var(--sklearn-color-unfitted-level-1);\n",
       "}\n",
       "\n",
       ".sk-estimator-doc-link.fitted,\n",
       "a:link.sk-estimator-doc-link.fitted,\n",
       "a:visited.sk-estimator-doc-link.fitted {\n",
       "  /* fitted */\n",
       "  border: var(--sklearn-color-fitted-level-1) 1pt solid;\n",
       "  color: var(--sklearn-color-fitted-level-1);\n",
       "}\n",
       "\n",
       "/* On hover */\n",
       "div.sk-estimator:hover .sk-estimator-doc-link:hover,\n",
       ".sk-estimator-doc-link:hover,\n",
       "div.sk-label-container:hover .sk-estimator-doc-link:hover,\n",
       ".sk-estimator-doc-link:hover {\n",
       "  /* unfitted */\n",
       "  background-color: var(--sklearn-color-unfitted-level-3);\n",
       "  color: var(--sklearn-color-background);\n",
       "  text-decoration: none;\n",
       "}\n",
       "\n",
       "div.sk-estimator.fitted:hover .sk-estimator-doc-link.fitted:hover,\n",
       ".sk-estimator-doc-link.fitted:hover,\n",
       "div.sk-label-container:hover .sk-estimator-doc-link.fitted:hover,\n",
       ".sk-estimator-doc-link.fitted:hover {\n",
       "  /* fitted */\n",
       "  background-color: var(--sklearn-color-fitted-level-3);\n",
       "  color: var(--sklearn-color-background);\n",
       "  text-decoration: none;\n",
       "}\n",
       "\n",
       "/* Span, style for the box shown on hovering the info icon */\n",
       ".sk-estimator-doc-link span {\n",
       "  display: none;\n",
       "  z-index: 9999;\n",
       "  position: relative;\n",
       "  font-weight: normal;\n",
       "  right: .2ex;\n",
       "  padding: .5ex;\n",
       "  margin: .5ex;\n",
       "  width: min-content;\n",
       "  min-width: 20ex;\n",
       "  max-width: 50ex;\n",
       "  color: var(--sklearn-color-text);\n",
       "  box-shadow: 2pt 2pt 4pt #999;\n",
       "  /* unfitted */\n",
       "  background: var(--sklearn-color-unfitted-level-0);\n",
       "  border: .5pt solid var(--sklearn-color-unfitted-level-3);\n",
       "}\n",
       "\n",
       ".sk-estimator-doc-link.fitted span {\n",
       "  /* fitted */\n",
       "  background: var(--sklearn-color-fitted-level-0);\n",
       "  border: var(--sklearn-color-fitted-level-3);\n",
       "}\n",
       "\n",
       ".sk-estimator-doc-link:hover span {\n",
       "  display: block;\n",
       "}\n",
       "\n",
       "/* \"?\"-specific style due to the `<a>` HTML tag */\n",
       "\n",
       "#sk-container-id-6 a.estimator_doc_link {\n",
       "  float: right;\n",
       "  font-size: 1rem;\n",
       "  line-height: 1em;\n",
       "  font-family: monospace;\n",
       "  background-color: var(--sklearn-color-background);\n",
       "  border-radius: 1rem;\n",
       "  height: 1rem;\n",
       "  width: 1rem;\n",
       "  text-decoration: none;\n",
       "  /* unfitted */\n",
       "  color: var(--sklearn-color-unfitted-level-1);\n",
       "  border: var(--sklearn-color-unfitted-level-1) 1pt solid;\n",
       "}\n",
       "\n",
       "#sk-container-id-6 a.estimator_doc_link.fitted {\n",
       "  /* fitted */\n",
       "  border: var(--sklearn-color-fitted-level-1) 1pt solid;\n",
       "  color: var(--sklearn-color-fitted-level-1);\n",
       "}\n",
       "\n",
       "/* On hover */\n",
       "#sk-container-id-6 a.estimator_doc_link:hover {\n",
       "  /* unfitted */\n",
       "  background-color: var(--sklearn-color-unfitted-level-3);\n",
       "  color: var(--sklearn-color-background);\n",
       "  text-decoration: none;\n",
       "}\n",
       "\n",
       "#sk-container-id-6 a.estimator_doc_link.fitted:hover {\n",
       "  /* fitted */\n",
       "  background-color: var(--sklearn-color-fitted-level-3);\n",
       "}\n",
       "</style><div id=\"sk-container-id-6\" class=\"sk-top-container\"><div class=\"sk-text-repr-fallback\"><pre>LatentDirichletAllocation(learning_method=&#x27;online&#x27;, max_iter=3, n_components=9,\n",
       "                          random_state=42)</pre><b>In a Jupyter environment, please rerun this cell to show the HTML representation or trust the notebook. <br />On GitHub, the HTML representation is unable to render, please try loading this page with nbviewer.org.</b></div><div class=\"sk-container\" hidden><div class=\"sk-item\"><div class=\"sk-estimator fitted sk-toggleable\"><input class=\"sk-toggleable__control sk-hidden--visually\" id=\"sk-estimator-id-6\" type=\"checkbox\" checked><label for=\"sk-estimator-id-6\" class=\"sk-toggleable__label fitted sk-toggleable__label-arrow\"><div><div>LatentDirichletAllocation</div></div><div><a class=\"sk-estimator-doc-link fitted\" rel=\"noreferrer\" target=\"_blank\" href=\"https://scikit-learn.org/1.6/modules/generated/sklearn.decomposition.LatentDirichletAllocation.html\">?<span>Documentation for LatentDirichletAllocation</span></a><span class=\"sk-estimator-doc-link fitted\">i<span>Fitted</span></span></div></label><div class=\"sk-toggleable__content fitted\"><pre>LatentDirichletAllocation(learning_method=&#x27;online&#x27;, max_iter=3, n_components=9,\n",
       "                          random_state=42)</pre></div> </div></div></div></div>"
      ],
      "text/plain": [
       "LatentDirichletAllocation(learning_method='online', max_iter=3, n_components=9,\n",
       "                          random_state=42)"
      ]
     },
     "execution_count": 102,
     "metadata": {},
     "output_type": "execute_result"
    }
   ],
   "source": [
    "from sklearn.feature_extraction.text import CountVectorizer\n",
    "from sklearn.decomposition import LatentDirichletAllocation\n",
    "\n",
    "# CountVectorizer ohne Stopwords (da vorher entfernt)\n",
    "vectorizer = CountVectorizer(\n",
    "    max_df=0.95,\n",
    "    min_df=2\n",
    ")\n",
    "\n",
    "# Textmatrix erzeugen\n",
    "X = vectorizer.fit_transform(texts)  # texts = bereits bereinigte Texte\n",
    "\n",
    "# LDA-Modell definieren\n",
    "lda_model = LatentDirichletAllocation(\n",
    "    n_components=9,         # Anzahl der Themen\n",
    "    max_iter=3,\n",
    "    learning_method='online',\n",
    "    random_state=42\n",
    ")\n",
    "\n",
    "# LDA-Modell trainieren\n",
    "lda_model.fit(X)\n"
   ]
  },
  {
   "cell_type": "code",
   "execution_count": 103,
   "id": "2abb2199",
   "metadata": {},
   "outputs": [
    {
     "name": "stdout",
     "output_type": "stream",
     "text": [
      "🟢 Thema 1:\n",
      "would never baby asked year something last need back take\n",
      "\n",
      "🟢 Thema 2:\n",
      "kids dazn highlights sport live youtube klaas nhl besten the\n",
      "\n",
      "🟢 Thema 3:\n",
      "instagram youtube follow song twitter assistant production facebook music producer\n",
      "\n",
      "🟢 Thema 4:\n",
      "pf stl ast blk pts nbsp reb min ftm pm\n",
      "\n",
      "🟢 Thema 5:\n",
      "official league hair season highlights uefa champions make vs post\n",
      "\n",
      "🟢 Thema 6:\n",
      "like time get even people got us want know day\n",
      "\n",
      "🟢 Thema 7:\n",
      "video instagram tiktok mehr de kanal werbung geht facebook music\n",
      "\n",
      "🟢 Thema 8:\n",
      "said one told husband little really since feel stop aitah\n",
      "\n",
      "🟢 Thema 9:\n",
      "game tom team nba players points lead new search fg\n",
      "\n"
     ]
    }
   ],
   "source": [
    "# Funktion zum Anzeigen der Themen mit Top-Wörtern\n",
    "def display_topics(model, feature_names, no_top_words):\n",
    "    for topic_idx, topic in enumerate(model.components_):\n",
    "        print(f\"🟢 Thema {topic_idx + 1}:\")\n",
    "        print(\" \".join([feature_names[i] for i in topic.argsort()[:-no_top_words - 1:-1]]))\n",
    "        print()\n",
    "\n",
    "display_topics(lda_model, vectorizer.get_feature_names_out(), 10)\n"
   ]
  },
  {
   "cell_type": "markdown",
   "id": "bedcaec9",
   "metadata": {},
   "source": [
    "## 1. Fortgeschrittenes Topic Modelling mit BERTopic\n",
    "\n",
    "Das klassische LDA-Verfahren ist oft ungeeignet für kurze, informelle Texte. BERTopic nutzt Embeddings + Clustering + TF-IDF, um deutlich robustere und interpretierbare Themen zu erzeugen. Zudem unterstützt BERTopic die Analyse von Themen im Zeitverlauf."
   ]
  },
  {
   "cell_type": "code",
   "execution_count": 104,
   "id": "f835077f",
   "metadata": {},
   "outputs": [
    {
     "data": {
      "text/html": [
       "<div>\n",
       "<style scoped>\n",
       "    .dataframe tbody tr th:only-of-type {\n",
       "        vertical-align: middle;\n",
       "    }\n",
       "\n",
       "    .dataframe tbody tr th {\n",
       "        vertical-align: top;\n",
       "    }\n",
       "\n",
       "    .dataframe thead th {\n",
       "        text-align: right;\n",
       "    }\n",
       "</style>\n",
       "<table border=\"1\" class=\"dataframe\">\n",
       "  <thead>\n",
       "    <tr style=\"text-align: right;\">\n",
       "      <th></th>\n",
       "      <th>Topic</th>\n",
       "      <th>Count</th>\n",
       "      <th>Name</th>\n",
       "      <th>Representation</th>\n",
       "      <th>Representative_Docs</th>\n",
       "    </tr>\n",
       "  </thead>\n",
       "  <tbody>\n",
       "    <tr>\n",
       "      <th>0</th>\n",
       "      <td>-1</td>\n",
       "      <td>419</td>\n",
       "      <td>-1_instagram_tung_love_video</td>\n",
       "      <td>[instagram, tung, love, video, music, like, yo...</td>\n",
       "      <td>[get exclusive nordvpn deal months extra risk ...</td>\n",
       "    </tr>\n",
       "    <tr>\n",
       "      <th>1</th>\n",
       "      <td>0</td>\n",
       "      <td>278</td>\n",
       "      <td>0_said_like_would_told</td>\n",
       "      <td>[said, like, would, told, time, even, one, get...</td>\n",
       "      <td>[background f fiancé together years baby back ...</td>\n",
       "    </tr>\n",
       "    <tr>\n",
       "      <th>2</th>\n",
       "      <td>1</td>\n",
       "      <td>223</td>\n",
       "      <td>1_de_ik_en_het</td>\n",
       "      <td>[de, ik, en, het, zijn, van, dat, die, ze, als]</td>\n",
       "      <td>[badania wykazują że nawet społeczeństwa myli ...</td>\n",
       "    </tr>\n",
       "    <tr>\n",
       "      <th>3</th>\n",
       "      <td>2</td>\n",
       "      <td>160</td>\n",
       "      <td>2_instagram_video_tiktok_werbung</td>\n",
       "      <td>[instagram, video, tiktok, werbung, youtube, k...</td>\n",
       "      <td>[spaß video freunde original video sei live da...</td>\n",
       "    </tr>\n",
       "    <tr>\n",
       "      <th>4</th>\n",
       "      <td>3</td>\n",
       "      <td>90</td>\n",
       "      <td>3_wait_omg_ok_laugh</td>\n",
       "      <td>[wait, omg, ok, laugh, end, description, sweet...</td>\n",
       "      <td>[wait, wait, wait end]</td>\n",
       "    </tr>\n",
       "    <tr>\n",
       "      <th>5</th>\n",
       "      <td>4</td>\n",
       "      <td>45</td>\n",
       "      <td>4_brainrot_tragic_italian_cat</td>\n",
       "      <td>[brainrot, tragic, italian, cat, song, speedru...</td>\n",
       "      <td>[tralalero tralala x wakawaka brainrot movie t...</td>\n",
       "    </tr>\n",
       "    <tr>\n",
       "      <th>6</th>\n",
       "      <td>5</td>\n",
       "      <td>40</td>\n",
       "      <td>5_league_dazn_highlights_uefa</td>\n",
       "      <td>[league, dazn, highlights, uefa, champions, sp...</td>\n",
       "      <td>[königlichen gast beim tabellenzwöflten getafe...</td>\n",
       "    </tr>\n",
       "    <tr>\n",
       "      <th>7</th>\n",
       "      <td>6</td>\n",
       "      <td>34</td>\n",
       "      <td>6_pf_pts_ast_stl</td>\n",
       "      <td>[pf, pts, ast, stl, blk, nbsp, min, reb, stats...</td>\n",
       "      <td>[gsw min box scores nba yahoo nbsp game summar...</td>\n",
       "    </tr>\n",
       "    <tr>\n",
       "      <th>8</th>\n",
       "      <td>7</td>\n",
       "      <td>33</td>\n",
       "      <td>7_اللي_انا_official_في</td>\n",
       "      <td>[اللي, انا, official, في, والمزيكا, على, زفة, ...</td>\n",
       "      <td>[academy σας περιμένουμε και στα υπόλοιπα κατα...</td>\n",
       "    </tr>\n",
       "    <tr>\n",
       "      <th>9</th>\n",
       "      <td>8</td>\n",
       "      <td>31</td>\n",
       "      <td>8_production_assistant_director_producer</td>\n",
       "      <td>[production, assistant, director, producer, mu...</td>\n",
       "      <td>[spieglein spieglein jetzt hören spieglein spi...</td>\n",
       "    </tr>\n",
       "    <tr>\n",
       "      <th>10</th>\n",
       "      <td>9</td>\n",
       "      <td>22</td>\n",
       "      <td>9_hair_makeup_blush_wash</td>\n",
       "      <td>[hair, makeup, blush, wash, face, please, bead...</td>\n",
       "      <td>[ysk empty packets jar save beads next time ne...</td>\n",
       "    </tr>\n",
       "    <tr>\n",
       "      <th>11</th>\n",
       "      <td>10</td>\n",
       "      <td>21</td>\n",
       "      <td>10_nurburgring_turbo_bmw_mercedes</td>\n",
       "      <td>[nurburgring, turbo, bmw, mercedes, mehr, bi, ...</td>\n",
       "      <td>[geil diggi glänzt auto neu produkte nutzen al...</td>\n",
       "    </tr>\n",
       "    <tr>\n",
       "      <th>12</th>\n",
       "      <td>11</td>\n",
       "      <td>20</td>\n",
       "      <td>11_new_battle_players_support</td>\n",
       "      <td>[new, battle, players, support, play, fortnite...</td>\n",
       "      <td>[galactic reckoning coming heroes ready strike...</td>\n",
       "    </tr>\n",
       "    <tr>\n",
       "      <th>13</th>\n",
       "      <td>12</td>\n",
       "      <td>19</td>\n",
       "      <td>12_vibe_aura_essence_wave</td>\n",
       "      <td>[vibe, aura, essence, wave, vibes, real, night...</td>\n",
       "      <td>[yes quake fun stuff huh nice p wave got littl...</td>\n",
       "    </tr>\n",
       "    <tr>\n",
       "      <th>14</th>\n",
       "      <td>13</td>\n",
       "      <td>18</td>\n",
       "      <td>13_ronaldo_messi_valverde_assist</td>\n",
       "      <td>[ronaldo, messi, valverde, assist, pass, goal,...</td>\n",
       "      <td>[ronaldo minotaurus monster fusion, prime rona...</td>\n",
       "    </tr>\n",
       "    <tr>\n",
       "      <th>15</th>\n",
       "      <td>14</td>\n",
       "      <td>14</td>\n",
       "      <td>14_viral_duolingo_tiktok_liked</td>\n",
       "      <td>[viral, duolingo, tiktok, liked, go, free, ads...</td>\n",
       "      <td>[go viral tiktok million, go viral, seeing lot...</td>\n",
       "    </tr>\n",
       "    <tr>\n",
       "      <th>16</th>\n",
       "      <td>15</td>\n",
       "      <td>13</td>\n",
       "      <td>15_prank_anatoly_fart_spray</td>\n",
       "      <td>[prank, anatoly, fart, spray, replying, pranks...</td>\n",
       "      <td>[anatoly mop prank kg, clean anatoly prank, fa...</td>\n",
       "    </tr>\n",
       "    <tr>\n",
       "      <th>17</th>\n",
       "      <td>16</td>\n",
       "      <td>12</td>\n",
       "      <td>16_oblivion_scrolls_elder_game</td>\n",
       "      <td>[oblivion, scrolls, elder, game, remastered, s...</td>\n",
       "      <td>[welcome elder scrolls oblivion remaster annou...</td>\n",
       "    </tr>\n",
       "    <tr>\n",
       "      <th>18</th>\n",
       "      <td>17</td>\n",
       "      <td>11</td>\n",
       "      <td>17_mona_motion_lisa_plattforms</td>\n",
       "      <td>[mona, motion, lisa, plattforms, song, smile, ...</td>\n",
       "      <td>[third song mona lisa motion everywhere thursd...</td>\n",
       "    </tr>\n",
       "    <tr>\n",
       "      <th>19</th>\n",
       "      <td>18</td>\n",
       "      <td>11</td>\n",
       "      <td>18_template_new_capcut_edits</td>\n",
       "      <td>[template, new, capcut, edits, backup, try, mo...</td>\n",
       "      <td>[new template, new template, new capcut templa...</td>\n",
       "    </tr>\n",
       "  </tbody>\n",
       "</table>\n",
       "</div>"
      ],
      "text/plain": [
       "    Topic  Count                                      Name  \\\n",
       "0      -1    419              -1_instagram_tung_love_video   \n",
       "1       0    278                    0_said_like_would_told   \n",
       "2       1    223                            1_de_ik_en_het   \n",
       "3       2    160          2_instagram_video_tiktok_werbung   \n",
       "4       3     90                       3_wait_omg_ok_laugh   \n",
       "5       4     45             4_brainrot_tragic_italian_cat   \n",
       "6       5     40             5_league_dazn_highlights_uefa   \n",
       "7       6     34                          6_pf_pts_ast_stl   \n",
       "8       7     33                    7_اللي_انا_official_في   \n",
       "9       8     31  8_production_assistant_director_producer   \n",
       "10      9     22                  9_hair_makeup_blush_wash   \n",
       "11     10     21         10_nurburgring_turbo_bmw_mercedes   \n",
       "12     11     20             11_new_battle_players_support   \n",
       "13     12     19                 12_vibe_aura_essence_wave   \n",
       "14     13     18          13_ronaldo_messi_valverde_assist   \n",
       "15     14     14            14_viral_duolingo_tiktok_liked   \n",
       "16     15     13               15_prank_anatoly_fart_spray   \n",
       "17     16     12            16_oblivion_scrolls_elder_game   \n",
       "18     17     11            17_mona_motion_lisa_plattforms   \n",
       "19     18     11              18_template_new_capcut_edits   \n",
       "\n",
       "                                       Representation  \\\n",
       "0   [instagram, tung, love, video, music, like, yo...   \n",
       "1   [said, like, would, told, time, even, one, get...   \n",
       "2     [de, ik, en, het, zijn, van, dat, die, ze, als]   \n",
       "3   [instagram, video, tiktok, werbung, youtube, k...   \n",
       "4   [wait, omg, ok, laugh, end, description, sweet...   \n",
       "5   [brainrot, tragic, italian, cat, song, speedru...   \n",
       "6   [league, dazn, highlights, uefa, champions, sp...   \n",
       "7   [pf, pts, ast, stl, blk, nbsp, min, reb, stats...   \n",
       "8   [اللي, انا, official, في, والمزيكا, على, زفة, ...   \n",
       "9   [production, assistant, director, producer, mu...   \n",
       "10  [hair, makeup, blush, wash, face, please, bead...   \n",
       "11  [nurburgring, turbo, bmw, mercedes, mehr, bi, ...   \n",
       "12  [new, battle, players, support, play, fortnite...   \n",
       "13  [vibe, aura, essence, wave, vibes, real, night...   \n",
       "14  [ronaldo, messi, valverde, assist, pass, goal,...   \n",
       "15  [viral, duolingo, tiktok, liked, go, free, ads...   \n",
       "16  [prank, anatoly, fart, spray, replying, pranks...   \n",
       "17  [oblivion, scrolls, elder, game, remastered, s...   \n",
       "18  [mona, motion, lisa, plattforms, song, smile, ...   \n",
       "19  [template, new, capcut, edits, backup, try, mo...   \n",
       "\n",
       "                                  Representative_Docs  \n",
       "0   [get exclusive nordvpn deal months extra risk ...  \n",
       "1   [background f fiancé together years baby back ...  \n",
       "2   [badania wykazują że nawet społeczeństwa myli ...  \n",
       "3   [spaß video freunde original video sei live da...  \n",
       "4                              [wait, wait, wait end]  \n",
       "5   [tralalero tralala x wakawaka brainrot movie t...  \n",
       "6   [königlichen gast beim tabellenzwöflten getafe...  \n",
       "7   [gsw min box scores nba yahoo nbsp game summar...  \n",
       "8   [academy σας περιμένουμε και στα υπόλοιπα κατα...  \n",
       "9   [spieglein spieglein jetzt hören spieglein spi...  \n",
       "10  [ysk empty packets jar save beads next time ne...  \n",
       "11  [geil diggi glänzt auto neu produkte nutzen al...  \n",
       "12  [galactic reckoning coming heroes ready strike...  \n",
       "13  [yes quake fun stuff huh nice p wave got littl...  \n",
       "14  [ronaldo minotaurus monster fusion, prime rona...  \n",
       "15  [go viral tiktok million, go viral, seeing lot...  \n",
       "16  [anatoly mop prank kg, clean anatoly prank, fa...  \n",
       "17  [welcome elder scrolls oblivion remaster annou...  \n",
       "18  [third song mona lisa motion everywhere thursd...  \n",
       "19  [new template, new template, new capcut templa...  "
      ]
     },
     "execution_count": 104,
     "metadata": {},
     "output_type": "execute_result"
    }
   ],
   "source": [
    "# Installation (nur beim ersten Mal notwendig)\n",
    "# !pip install bertopic[visualization] sentence-transformers\n",
    "\n",
    "from bertopic import BERTopic\n",
    "from sklearn.feature_extraction.text import CountVectorizer\n",
    "from sentence_transformers import SentenceTransformer\n",
    "\n",
    "# Für deutschsprachige Texte kann ein mehrsprachiges Modell hilfreich sein\n",
    "embedding_model = SentenceTransformer('all-MiniLM-L6-v2')  # oder 'paraphrase-multilingual-MiniLM-L12-v2'\n",
    "\n",
    "# Daten vorbereiten\n",
    "texts = df['text_clean'].dropna().tolist()\n",
    "\n",
    "# BERTopic initialisieren und trainieren\n",
    "topic_model = BERTopic(embedding_model=embedding_model, language='multilingual')\n",
    "topics, probs = topic_model.fit_transform(texts)\n",
    "\n",
    "df_clean = df.loc[df['text_clean'].notna()].copy()\n",
    "df_clean['topic'] = topics\n",
    "\n",
    "topic_model.get_topic_info()"
   ]
  },
  {
   "cell_type": "markdown",
   "id": "5425d1d6",
   "metadata": {},
   "source": [
    "## 2. Verbesserte Sentiment-Analyse\n",
    "\n",
    "Die bisher genutzte Methode (`TextBlob`) ist eher für formellere englische Texte geeignet. Hier ergänzen wir zwei modernere Verfahren:\n",
    "\n",
    "- **VADER**: speziell für Social Media-Texte (auch kurze Aussagen) konzipiert.\n",
    "- **Transformer-Modell**: z. B. RoBERTa-basiert, feingetunt für Sentiment-Klassifikation auf Twitter-Daten."
   ]
  },
  {
   "cell_type": "code",
   "execution_count": 109,
   "id": "10399aae",
   "metadata": {},
   "outputs": [
    {
     "name": "stderr",
     "output_type": "stream",
     "text": [
      "Device set to use cpu\n",
      "Asking to truncate to max_length but no maximum length is provided and the model has no predefined maximum length. Default to no truncation.\n"
     ]
    },
    {
     "name": "stdout",
     "output_type": "stream",
     "text": [
      "Fehler bei Text: 𝗙𝗢𝗟𝗘 𝗣𝗨𝗕𝗟𝗜𝗦𝗛𝗜𝗡𝗚 ____________________________ 𝗫𝗵𝗲𝗻𝘀𝗶𝗹𝗮 𝘅 𝗟𝗲𝗱𝗿𝗶 𝗩𝘂𝗹𝗮 𝗠𝗮 𝗞𝘁𝗵𝗲 𝗢𝗳𝗳𝗶𝗰𝗶𝗮𝗹 𝗩𝗶𝗱𝗲𝗼 __________... -> The expanded size of the tensor (582) must match the existing size (514) at non-singleton dimension 1.  Target sizes: [1, 582].  Tensor sizes: [1, 514]\n",
      "Fehler bei Text: اشترك في قناة حسين الجسمي الرسمية حسين الجسمي فستانك الأبيض استمعوا على جميع المنصات كلمات أمير طعيم... -> The expanded size of the tensor (516) must match the existing size (514) at non-singleton dimension 1.  Target sizes: [1, 516].  Tensor sizes: [1, 514]\n"
     ]
    }
   ],
   "source": [
    "from transformers import pipeline\n",
    "\n",
    "# Sentiment-Pipeline laden (Roberta Twitter-Modell)\n",
    "sentiment_pipeline = pipeline(\n",
    "    \"sentiment-analysis\",\n",
    "    model=\"cardiffnlp/twitter-roberta-base-sentiment\",\n",
    "    tokenizer=\"cardiffnlp/twitter-roberta-base-sentiment\",\n",
    "    truncation=True\n",
    ")\n",
    "\n",
    "# Einzelne Zeilen durchgehen, um Fehler im Batch zu vermeiden\n",
    "def safe_sentiment(text):\n",
    "    try:\n",
    "        return sentiment_pipeline(text[:512])[0]['label']\n",
    "    except Exception as e:\n",
    "        print(f\"Fehler bei Text: {text[:100]}... -> {e}\")\n",
    "        return \"error\"\n",
    "\n",
    "# Auf eine Teilmenge testen (z. B. 500 Zeilen)\n",
    "# df_clean = df_clean.sample(n=500, random_state=42).copy()\n",
    "\n",
    "df_clean['roberta_sentiment'] = df_clean['text_clean'].astype(str).apply(safe_sentiment)"
   ]
  },
  {
   "cell_type": "markdown",
   "id": "2b49eb42",
   "metadata": {},
   "source": [
    "## 3. Zeitliche Analyse der Topics\n",
    "\n",
    "Ein großer Vorteil von BERTopic ist die Möglichkeit, Themen im Zeitverlauf zu analysieren. Dazu müssen wir das Erstellungsdatum korrekt als `datetime` interpretieren und in geeignete Zeitstempel transformieren."
   ]
  },
  {
   "cell_type": "code",
   "execution_count": 110,
   "id": "b87a2ee6",
   "metadata": {},
   "outputs": [
    {
     "name": "stdout",
     "output_type": "stream",
     "text": [
      "887 887 887\n"
     ]
    },
    {
     "data": {
      "application/vnd.plotly.v1+json": {
       "config": {
        "plotlyServerURL": "https://plot.ly"
       },
       "data": [
        {
         "hoverinfo": "text",
         "hovertext": [
          "<b>Topic 0</b><br>Words: deliver, lady, delivery, tells, driver",
          "<b>Topic 0</b><br>Words: streets, safe, keeping, said, like",
          "<b>Topic 0</b><br>Words: megalodon, ocean, size, exist, still",
          "<b>Topic 0</b><br>Words: janitor, day, boss, floors, hardworking",
          "<b>Topic 0</b><br>Words: grief, bby, sheldon, cleaner, stress",
          "<b>Topic 0</b><br>Words: never, fuck, like, time, said",
          "<b>Topic 0</b><br>Words: venezuelan, detainees, extra, formed, alleged"
         ],
         "marker": {
          "color": "#E69F00"
         },
         "mode": "lines",
         "name": "0_said_like_would_told",
         "type": "scatter",
         "x": [
          "2025-02-08T13:37:25.750000000",
          "2025-02-21T06:48:38.500000000",
          "2025-03-05T23:59:51.250000000",
          "2025-03-18T17:11:04.000000000",
          "2025-03-31T10:22:16.750000000",
          "2025-04-13T03:33:29.500000000",
          "2025-04-25T20:44:42.250000000"
         ],
         "y": {
          "bdata": "AQEDBAMSCA==",
          "dtype": "i1"
         }
        },
        {
         "hoverinfo": "text",
         "hovertext": [
          "<b>Topic 1</b><br>Words: anfasst, obacht, wen, de, ik",
          "<b>Topic 1</b><br>Words: kenan, yıldız, de, ik, en",
          "<b>Topic 1</b><br>Words: glaube, bock, de, ik, en",
          "<b>Topic 1</b><br>Words: peltsi, osmo, spielzeuge, ärsyttää, zseine",
          "<b>Topic 1</b><br>Words: może, też, się, que, de",
          "<b>Topic 1</b><br>Words: signoraaaa, część, neue, en, verschiedne",
          "<b>Topic 1</b><br>Words: nha, turkey, riunione, kommentarsfältet, rychlochodce",
          "<b>Topic 1</b><br>Words: cappucinna, therapie, lief, docent, doroty",
          "<b>Topic 1</b><br>Words: nem, hania, nie, ganz, mal",
          "<b>Topic 1</b><br>Words: att, mnie, na, que, en",
          "<b>Topic 1</b><br>Words: de, palestrante, bien, ms, kenza"
         ],
         "marker": {
          "color": "#56B4E9"
         },
         "mode": "lines",
         "name": "1_de_ik_en_het",
         "type": "scatter",
         "x": [
          "2024-08-27T00:05:26.545000000",
          "2024-09-08T23:22:52.750000000",
          "2025-01-14T03:15:00.250000000",
          "2025-01-26T20:26:13.000000000",
          "2025-02-08T13:37:25.750000000",
          "2025-02-21T06:48:38.500000000",
          "2025-03-05T23:59:51.250000000",
          "2025-03-18T17:11:04.000000000",
          "2025-03-31T10:22:16.750000000",
          "2025-04-13T03:33:29.500000000",
          "2025-04-25T20:44:42.250000000"
         ],
         "y": {
          "bdata": "AQEBAw0YEhccIkM=",
          "dtype": "i1"
         }
        },
        {
         "hoverinfo": "text",
         "hovertext": [
          "<b>Topic 2</b><br>Words: kokain, hamburg, drogen, tonnen, wurden",
          "<b>Topic 2</b><br>Words: äpfel, zutaten, schön, einfach, teig",
          "<b>Topic 2</b><br>Words: fotogen, gained, sagt, views, beat",
          "<b>Topic 2</b><br>Words: hund, mrsmrsea, trägt, musik, immer",
          "<b>Topic 2</b><br>Words: très, vidéo, cette, grave, ça",
          "<b>Topic 2</b><br>Words: käse, creme, backen, toasts, frischkäse"
         ],
         "marker": {
          "color": "#009E73"
         },
         "mode": "lines",
         "name": "2_instagram_video_tiktok_werbung",
         "type": "scatter",
         "x": [
          "2025-02-08T13:37:25.750000000",
          "2025-02-21T06:48:38.500000000",
          "2025-03-18T17:11:04.000000000",
          "2025-03-31T10:22:16.750000000",
          "2025-04-13T03:33:29.500000000",
          "2025-04-25T20:44:42.250000000"
         ],
         "y": {
          "bdata": "BAECAgIE",
          "dtype": "i1"
         }
        },
        {
         "hoverinfo": "text",
         "hovertext": [
          "<b>Topic 3</b><br>Words: admire, wait, omg, ok, laugh",
          "<b>Topic 3</b><br>Words: tomorrow, joke, wait, omg, ok",
          "<b>Topic 3</b><br>Words: hahaahah, obvious, kinda, wait, omg",
          "<b>Topic 3</b><br>Words: omg, um, omgggggg, yeah, idea",
          "<b>Topic 3</b><br>Words: whyyy, hilarious, wait, ending, result",
          "<b>Topic 3</b><br>Words: laugh, sweet, worst, boy, ever",
          "<b>Topic 3</b><br>Words: signal, tomorrow, yamal, evil, stopped",
          "<b>Topic 3</b><br>Words: yez, hahahahahha, incroyable, relatable, tough",
          "<b>Topic 3</b><br>Words: wait, done, laugh, handsome, garlic",
          "<b>Topic 3</b><br>Words: ok, wait, spam, bombooooclaaaaat, wooo"
         ],
         "marker": {
          "color": "#F0E442"
         },
         "mode": "lines",
         "name": "3_wait_omg_ok_laugh",
         "type": "scatter",
         "x": [
          "2025-01-01T10:03:47.500000000",
          "2025-01-14T03:15:00.250000000",
          "2025-01-26T20:26:13.000000000",
          "2025-02-08T13:37:25.750000000",
          "2025-02-21T06:48:38.500000000",
          "2025-03-05T23:59:51.250000000",
          "2025-03-18T17:11:04.000000000",
          "2025-03-31T10:22:16.750000000",
          "2025-04-13T03:33:29.500000000",
          "2025-04-25T20:44:42.250000000"
         ],
         "y": {
          "bdata": "AQECBA0FCQcSGg==",
          "dtype": "i1"
         }
        },
        {
         "hoverinfo": "text",
         "hovertext": [
          "<b>Topic 4</b><br>Words: chaos, minute, th, brainrot, tragic",
          "<b>Topic 4</b><br>Words: cat, brainrot, tragic, italian, song",
          "<b>Topic 4</b><br>Words: dances, cuteness, puppy, kitten, belly",
          "<b>Topic 4</b><br>Words: calf, kittens, diaper, moments, falling",
          "<b>Topic 4</b><br>Words: cat, dazzling, showww, clingy, kitten",
          "<b>Topic 4</b><br>Words: cat, speedrun, brainrot, copthorne, posture",
          "<b>Topic 4</b><br>Words: tragic, brainrot, tralala, movie, song",
          "<b>Topic 4</b><br>Words: brainrot, tragic, italian, song, movie",
          "<b>Topic 4</b><br>Words: brainrot, italian, speedrun, tragic, cat"
         ],
         "marker": {
          "color": "#D55E00"
         },
         "mode": "lines",
         "name": "4_brainrot_tragic_italian_cat",
         "type": "scatter",
         "x": [
          "2025-01-14T03:15:00.250000000",
          "2025-01-26T20:26:13.000000000",
          "2025-02-08T13:37:25.750000000",
          "2025-02-21T06:48:38.500000000",
          "2025-03-05T23:59:51.250000000",
          "2025-03-18T17:11:04.000000000",
          "2025-03-31T10:22:16.750000000",
          "2025-04-13T03:33:29.500000000",
          "2025-04-25T20:44:42.250000000"
         ],
         "y": {
          "bdata": "AQEBAwQHBQcQ",
          "dtype": "i1"
         }
        },
        {
         "hoverinfo": "text",
         "hovertext": [
          "<b>Topic 5</b><br>Words: devil, abra, superbowl, goin, jerseys",
          "<b>Topic 5</b><br>Words: barça, vamos, barcelona, matchday, league",
          "<b>Topic 5</b><br>Words: barça, remonta, psg, ucl, un",
          "<b>Topic 5</b><br>Words: bengals, milan, inter, barça, clip"
         ],
         "marker": {
          "color": "#0072B2"
         },
         "mode": "lines",
         "name": "5_league_dazn_highlights_uefa",
         "type": "scatter",
         "x": [
          "2025-02-08T13:37:25.750000000",
          "2025-03-05T23:59:51.250000000",
          "2025-04-13T03:33:29.500000000",
          "2025-04-25T20:44:42.250000000"
         ],
         "y": {
          "bdata": "AgIBBA==",
          "dtype": "i1"
         }
        },
        {
         "hoverinfo": "text",
         "hovertext": [
          "<b>Topic 6</b><br>Words: rank, knowing, without, next, pf",
          "<b>Topic 6</b><br>Words: games, located, madison, ontario, michigan",
          "<b>Topic 6</b><br>Words: minutes, summarised, enjoy, face, full"
         ],
         "marker": {
          "color": "#CC79A7"
         },
         "mode": "lines",
         "name": "6_pf_pts_ast_stl",
         "type": "scatter",
         "x": [
          "2025-02-21T06:48:38.500000000",
          "2025-04-13T03:33:29.500000000",
          "2025-04-25T20:44:42.250000000"
         ],
         "y": {
          "bdata": "AQMB",
          "dtype": "i1"
         }
        },
        {
         "hoverinfo": "text",
         "hovertext": [
          "<b>Topic 7</b><br>Words: και, ہم, που, μας, στο",
          "<b>Topic 7</b><br>Words: الحب, فينا, تحير, اوضاع, الي",
          "<b>Topic 7</b><br>Words: عفرين, كوردستان, 這耳朵會不會背了, نقولها, منتالي",
          "<b>Topic 7</b><br>Words: για, είναι, μια, μετς, brunch",
          "<b>Topic 7</b><br>Words: على, σφαίρες, εισαγωγή, قدر, الرد",
          "<b>Topic 7</b><br>Words: في, νέα, για, على, και"
         ],
         "marker": {
          "color": "#E69F00"
         },
         "mode": "lines",
         "name": "7_اللي_انا_official_في",
         "type": "scatter",
         "x": [
          "2025-02-21T06:48:38.500000000",
          "2025-03-05T23:59:51.250000000",
          "2025-03-18T17:11:04.000000000",
          "2025-03-31T10:22:16.750000000",
          "2025-04-13T03:33:29.500000000",
          "2025-04-25T20:44:42.250000000"
         ],
         "y": {
          "bdata": "BgMFBAUI",
          "dtype": "i1"
         }
        },
        {
         "hoverinfo": "text",
         "hovertext": [
          "<b>Topic 8</b><br>Words: kushner, david, daylight, coincidence, piano",
          "<b>Topic 8</b><br>Words: not, re, we, actors, dancers",
          "<b>Topic 8</b><br>Words: hanks, runway, sylvester, stallone, actors"
         ],
         "marker": {
          "color": "#56B4E9"
         },
         "mode": "lines",
         "name": "8_production_assistant_director_producer",
         "type": "scatter",
         "x": [
          "2025-02-21T06:48:38.500000000",
          "2025-03-05T23:59:51.250000000",
          "2025-04-25T20:44:42.250000000"
         ],
         "y": {
          "bdata": "AQEE",
          "dtype": "i1"
         }
        },
        {
         "hoverinfo": "text",
         "hovertext": [
          "<b>Topic 9</b><br>Words: powder, concealer, blush, mascara, makeup",
          "<b>Topic 9</b><br>Words: requested, makeup, tut, hair, blush",
          "<b>Topic 9</b><br>Words: hair, styles, makeup, please, ai",
          "<b>Topic 9</b><br>Words: airpods, cases, handcrafted, sleeping, iphone",
          "<b>Topic 9</b><br>Words: ballroom, removal, asmr, hair, full",
          "<b>Topic 9</b><br>Words: hair, blue, mascara, ny, tongue",
          "<b>Topic 9</b><br>Words: hair, wash, long, makeup, nair"
         ],
         "marker": {
          "color": "#009E73"
         },
         "mode": "lines",
         "name": "9_hair_makeup_blush_wash",
         "type": "scatter",
         "x": [
          "2025-02-08T13:37:25.750000000",
          "2025-02-21T06:48:38.500000000",
          "2025-03-05T23:59:51.250000000",
          "2025-03-18T17:11:04.000000000",
          "2025-03-31T10:22:16.750000000",
          "2025-04-13T03:33:29.500000000",
          "2025-04-25T20:44:42.250000000"
         ],
         "y": {
          "bdata": "AQEEAQEFBg==",
          "dtype": "i1"
         }
        },
        {
         "hoverinfo": "text",
         "hovertext": [
          "<b>Topic 10</b><br>Words: unstable, cars, mercedes, build, thought",
          "<b>Topic 10</b><br>Words: motormagazin, aprendiendo, sonntags, exhaust, derrapar"
         ],
         "marker": {
          "color": "#F0E442"
         },
         "mode": "lines",
         "name": "10_nurburgring_turbo_bmw_mercedes",
         "type": "scatter",
         "x": [
          "2025-02-21T06:48:38.500000000",
          "2025-04-25T20:44:42.250000000"
         ],
         "y": {
          "bdata": "AQM=",
          "dtype": "i1"
         }
        },
        {
         "hoverinfo": "text",
         "hovertext": [
          "<b>Topic 11</b><br>Words: sacrifices, champion, stands, silent, great",
          "<b>Topic 11</b><br>Words: conquest, locations, fortnite, secret, wars"
         ],
         "marker": {
          "color": "#D55E00"
         },
         "mode": "lines",
         "name": "11_new_battle_players_support",
         "type": "scatter",
         "x": [
          "2025-03-05T23:59:51.250000000",
          "2025-04-25T20:44:42.250000000"
         ],
         "y": {
          "bdata": "AQI=",
          "dtype": "i1"
         }
        },
        {
         "hoverinfo": "text",
         "hovertext": [
          "<b>Topic 12</b><br>Words: brutually, shocked, vibe, aura, wave",
          "<b>Topic 12</b><br>Words: vibe, iphone, house, aura, essence",
          "<b>Topic 12</b><br>Words: grounded, vibe, aura, essence, wave",
          "<b>Topic 12</b><br>Words: modo, vibe, on, aura, wave",
          "<b>Topic 12</b><br>Words: vibes, tinfoil, lightning, vibe, aura",
          "<b>Topic 12</b><br>Words: aura, real, essence, vibe, wave",
          "<b>Topic 12</b><br>Words: vibe, wave, aura, beluga, romance"
         ],
         "marker": {
          "color": "#0072B2"
         },
         "mode": "lines",
         "name": "12_vibe_aura_essence_wave",
         "type": "scatter",
         "x": [
          "2025-02-08T13:37:25.750000000",
          "2025-02-21T06:48:38.500000000",
          "2025-03-05T23:59:51.250000000",
          "2025-03-18T17:11:04.000000000",
          "2025-03-31T10:22:16.750000000",
          "2025-04-13T03:33:29.500000000",
          "2025-04-25T20:44:42.250000000"
         ],
         "y": {
          "bdata": "AQIBAQMDBg==",
          "dtype": "i1"
         }
        },
        {
         "hoverinfo": "text",
         "hovertext": [
          "<b>Topic 13</b><br>Words: andrés, goal, great, ronaldo, messi",
          "<b>Topic 13</b><br>Words: pass, messi, valverde, goalkeeper, vini",
          "<b>Topic 13</b><br>Words: ronaldo, messi, superhuman, lionel, minotaurus",
          "<b>Topic 13</b><br>Words: valverde, bonde, trenzinho, choi, zach",
          "<b>Topic 13</b><br>Words: messi, lamelo, smooth, plays, ball",
          "<b>Topic 13</b><br>Words: assist, best, ronaldo, messi, valverde",
          "<b>Topic 13</b><br>Words: ronaldo, cristiano, mohamed, reflex, best",
          "<b>Topic 13</b><br>Words: ronaldo, joins, or, lamine, toretto"
         ],
         "marker": {
          "color": "#CC79A7"
         },
         "mode": "lines",
         "name": "13_ronaldo_messi_valverde_assist",
         "type": "scatter",
         "x": [
          "2025-01-14T03:15:00.250000000",
          "2025-02-08T13:37:25.750000000",
          "2025-02-21T06:48:38.500000000",
          "2025-03-05T23:59:51.250000000",
          "2025-03-18T17:11:04.000000000",
          "2025-03-31T10:22:16.750000000",
          "2025-04-13T03:33:29.500000000",
          "2025-04-25T20:44:42.250000000"
         ],
         "y": {
          "bdata": "AQMEAwIBAgI=",
          "dtype": "i1"
         }
        },
        {
         "hoverinfo": "text",
         "hovertext": [
          "<b>Topic 14</b><br>Words: hacerte, raccoon, viral, asmr, tiktok",
          "<b>Topic 14</b><br>Words: hacer, vídeo, viral, tiktok, duolingo",
          "<b>Topic 14</b><br>Words: viral, template, sound, duolingo, tiktok",
          "<b>Topic 14</b><br>Words: viral, tiktok, liked, ranking, things",
          "<b>Topic 14</b><br>Words: viral, phonk, go, songs, april"
         ],
         "marker": {
          "color": "#E69F00"
         },
         "mode": "lines",
         "name": "14_viral_duolingo_tiktok_liked",
         "type": "scatter",
         "x": [
          "2025-02-21T06:48:38.500000000",
          "2025-03-18T17:11:04.000000000",
          "2025-03-31T10:22:16.750000000",
          "2025-04-13T03:33:29.500000000",
          "2025-04-25T20:44:42.250000000"
         ],
         "y": {
          "bdata": "AgECBAM=",
          "dtype": "i1"
         }
        },
        {
         "hoverinfo": "text",
         "hovertext": [
          "<b>Topic 15</b><br>Words: trick, creators, prank, anatoly, fart",
          "<b>Topic 15</b><br>Words: destroyer, anatoly, ego, prank, fart",
          "<b>Topic 15</b><br>Words: prank, fart, spray, pranking, elevator",
          "<b>Topic 15</b><br>Words: prank, award, goes, best, anatoly",
          "<b>Topic 15</b><br>Words: prank, anatoly, towel, prankeur, pranks",
          "<b>Topic 15</b><br>Words: prank, anatoly, bangin, granny, nastyyy"
         ],
         "marker": {
          "color": "#56B4E9"
         },
         "mode": "lines",
         "name": "15_prank_anatoly_fart_spray",
         "type": "scatter",
         "x": [
          "2025-01-26T20:26:13.000000000",
          "2025-02-21T06:48:38.500000000",
          "2025-03-05T23:59:51.250000000",
          "2025-03-18T17:11:04.000000000",
          "2025-03-31T10:22:16.750000000",
          "2025-04-25T20:44:42.250000000"
         ],
         "y": {
          "bdata": "AQECAQQE",
          "dtype": "i1"
         }
        },
        {
         "hoverinfo": "text",
         "hovertext": [
          "<b>Topic 17</b><br>Words: mona, motion, lisa, plattforms, february",
          "<b>Topic 17</b><br>Words: plattforms, mona, motion, lisa, check",
          "<b>Topic 17</b><br>Words: waited, dance, ib, trend, years",
          "<b>Topic 17</b><br>Words: unik, radiohead, cher, surprises, performing",
          "<b>Topic 17</b><br>Words: fangs, midnight, crimson, dancehall, incomplete"
         ],
         "marker": {
          "color": "#009E73"
         },
         "mode": "lines",
         "name": "17_mona_motion_lisa_plattforms",
         "type": "scatter",
         "x": [
          "2025-02-08T13:37:25.750000000",
          "2025-02-21T06:48:38.500000000",
          "2025-03-05T23:59:51.250000000",
          "2025-03-31T10:22:16.750000000",
          "2025-04-13T03:33:29.500000000"
         ],
         "y": {
          "bdata": "AwEBAwM=",
          "dtype": "i1"
         }
        },
        {
         "hoverinfo": "text",
         "hovertext": [
          "<b>Topic 18</b><br>Words: template, new, capcut, mona, motion",
          "<b>Topic 18</b><br>Words: template, new, mona, motion, lisa",
          "<b>Topic 18</b><br>Words: violet, sc, memoji, ib, rm",
          "<b>Topic 18</b><br>Words: template, muda, nunca, glow, new",
          "<b>Topic 18</b><br>Words: template, edits, backup, new, try",
          "<b>Topic 18</b><br>Words: trend, template, new, mona, motion",
          "<b>Topic 18</b><br>Words: novo, modelo, capcut, no, mona"
         ],
         "marker": {
          "color": "#F0E442"
         },
         "mode": "lines",
         "name": "18_template_new_capcut_edits",
         "type": "scatter",
         "x": [
          "2025-02-08T13:37:25.750000000",
          "2025-02-21T06:48:38.500000000",
          "2025-03-05T23:59:51.250000000",
          "2025-03-18T17:11:04.000000000",
          "2025-03-31T10:22:16.750000000",
          "2025-04-13T03:33:29.500000000",
          "2025-04-25T20:44:42.250000000"
         ],
         "y": {
          "bdata": "AQEBAgMBAQ==",
          "dtype": "i1"
         }
        }
       ],
       "layout": {
        "height": 450,
        "hoverlabel": {
         "bgcolor": "white",
         "font": {
          "family": "Rockwell",
          "size": 16
         }
        },
        "legend": {
         "title": {
          "text": "<b>Global Topic Representation"
         }
        },
        "template": {
         "data": {
          "bar": [
           {
            "error_x": {
             "color": "rgb(36,36,36)"
            },
            "error_y": {
             "color": "rgb(36,36,36)"
            },
            "marker": {
             "line": {
              "color": "white",
              "width": 0.5
             },
             "pattern": {
              "fillmode": "overlay",
              "size": 10,
              "solidity": 0.2
             }
            },
            "type": "bar"
           }
          ],
          "barpolar": [
           {
            "marker": {
             "line": {
              "color": "white",
              "width": 0.5
             },
             "pattern": {
              "fillmode": "overlay",
              "size": 10,
              "solidity": 0.2
             }
            },
            "type": "barpolar"
           }
          ],
          "carpet": [
           {
            "aaxis": {
             "endlinecolor": "rgb(36,36,36)",
             "gridcolor": "white",
             "linecolor": "white",
             "minorgridcolor": "white",
             "startlinecolor": "rgb(36,36,36)"
            },
            "baxis": {
             "endlinecolor": "rgb(36,36,36)",
             "gridcolor": "white",
             "linecolor": "white",
             "minorgridcolor": "white",
             "startlinecolor": "rgb(36,36,36)"
            },
            "type": "carpet"
           }
          ],
          "choropleth": [
           {
            "colorbar": {
             "outlinewidth": 1,
             "tickcolor": "rgb(36,36,36)",
             "ticks": "outside"
            },
            "type": "choropleth"
           }
          ],
          "contour": [
           {
            "colorbar": {
             "outlinewidth": 1,
             "tickcolor": "rgb(36,36,36)",
             "ticks": "outside"
            },
            "colorscale": [
             [
              0,
              "#440154"
             ],
             [
              0.1111111111111111,
              "#482878"
             ],
             [
              0.2222222222222222,
              "#3e4989"
             ],
             [
              0.3333333333333333,
              "#31688e"
             ],
             [
              0.4444444444444444,
              "#26828e"
             ],
             [
              0.5555555555555556,
              "#1f9e89"
             ],
             [
              0.6666666666666666,
              "#35b779"
             ],
             [
              0.7777777777777778,
              "#6ece58"
             ],
             [
              0.8888888888888888,
              "#b5de2b"
             ],
             [
              1,
              "#fde725"
             ]
            ],
            "type": "contour"
           }
          ],
          "contourcarpet": [
           {
            "colorbar": {
             "outlinewidth": 1,
             "tickcolor": "rgb(36,36,36)",
             "ticks": "outside"
            },
            "type": "contourcarpet"
           }
          ],
          "heatmap": [
           {
            "colorbar": {
             "outlinewidth": 1,
             "tickcolor": "rgb(36,36,36)",
             "ticks": "outside"
            },
            "colorscale": [
             [
              0,
              "#440154"
             ],
             [
              0.1111111111111111,
              "#482878"
             ],
             [
              0.2222222222222222,
              "#3e4989"
             ],
             [
              0.3333333333333333,
              "#31688e"
             ],
             [
              0.4444444444444444,
              "#26828e"
             ],
             [
              0.5555555555555556,
              "#1f9e89"
             ],
             [
              0.6666666666666666,
              "#35b779"
             ],
             [
              0.7777777777777778,
              "#6ece58"
             ],
             [
              0.8888888888888888,
              "#b5de2b"
             ],
             [
              1,
              "#fde725"
             ]
            ],
            "type": "heatmap"
           }
          ],
          "histogram": [
           {
            "marker": {
             "line": {
              "color": "white",
              "width": 0.6
             }
            },
            "type": "histogram"
           }
          ],
          "histogram2d": [
           {
            "colorbar": {
             "outlinewidth": 1,
             "tickcolor": "rgb(36,36,36)",
             "ticks": "outside"
            },
            "colorscale": [
             [
              0,
              "#440154"
             ],
             [
              0.1111111111111111,
              "#482878"
             ],
             [
              0.2222222222222222,
              "#3e4989"
             ],
             [
              0.3333333333333333,
              "#31688e"
             ],
             [
              0.4444444444444444,
              "#26828e"
             ],
             [
              0.5555555555555556,
              "#1f9e89"
             ],
             [
              0.6666666666666666,
              "#35b779"
             ],
             [
              0.7777777777777778,
              "#6ece58"
             ],
             [
              0.8888888888888888,
              "#b5de2b"
             ],
             [
              1,
              "#fde725"
             ]
            ],
            "type": "histogram2d"
           }
          ],
          "histogram2dcontour": [
           {
            "colorbar": {
             "outlinewidth": 1,
             "tickcolor": "rgb(36,36,36)",
             "ticks": "outside"
            },
            "colorscale": [
             [
              0,
              "#440154"
             ],
             [
              0.1111111111111111,
              "#482878"
             ],
             [
              0.2222222222222222,
              "#3e4989"
             ],
             [
              0.3333333333333333,
              "#31688e"
             ],
             [
              0.4444444444444444,
              "#26828e"
             ],
             [
              0.5555555555555556,
              "#1f9e89"
             ],
             [
              0.6666666666666666,
              "#35b779"
             ],
             [
              0.7777777777777778,
              "#6ece58"
             ],
             [
              0.8888888888888888,
              "#b5de2b"
             ],
             [
              1,
              "#fde725"
             ]
            ],
            "type": "histogram2dcontour"
           }
          ],
          "mesh3d": [
           {
            "colorbar": {
             "outlinewidth": 1,
             "tickcolor": "rgb(36,36,36)",
             "ticks": "outside"
            },
            "type": "mesh3d"
           }
          ],
          "parcoords": [
           {
            "line": {
             "colorbar": {
              "outlinewidth": 1,
              "tickcolor": "rgb(36,36,36)",
              "ticks": "outside"
             }
            },
            "type": "parcoords"
           }
          ],
          "pie": [
           {
            "automargin": true,
            "type": "pie"
           }
          ],
          "scatter": [
           {
            "fillpattern": {
             "fillmode": "overlay",
             "size": 10,
             "solidity": 0.2
            },
            "type": "scatter"
           }
          ],
          "scatter3d": [
           {
            "line": {
             "colorbar": {
              "outlinewidth": 1,
              "tickcolor": "rgb(36,36,36)",
              "ticks": "outside"
             }
            },
            "marker": {
             "colorbar": {
              "outlinewidth": 1,
              "tickcolor": "rgb(36,36,36)",
              "ticks": "outside"
             }
            },
            "type": "scatter3d"
           }
          ],
          "scattercarpet": [
           {
            "marker": {
             "colorbar": {
              "outlinewidth": 1,
              "tickcolor": "rgb(36,36,36)",
              "ticks": "outside"
             }
            },
            "type": "scattercarpet"
           }
          ],
          "scattergeo": [
           {
            "marker": {
             "colorbar": {
              "outlinewidth": 1,
              "tickcolor": "rgb(36,36,36)",
              "ticks": "outside"
             }
            },
            "type": "scattergeo"
           }
          ],
          "scattergl": [
           {
            "marker": {
             "colorbar": {
              "outlinewidth": 1,
              "tickcolor": "rgb(36,36,36)",
              "ticks": "outside"
             }
            },
            "type": "scattergl"
           }
          ],
          "scattermap": [
           {
            "marker": {
             "colorbar": {
              "outlinewidth": 1,
              "tickcolor": "rgb(36,36,36)",
              "ticks": "outside"
             }
            },
            "type": "scattermap"
           }
          ],
          "scattermapbox": [
           {
            "marker": {
             "colorbar": {
              "outlinewidth": 1,
              "tickcolor": "rgb(36,36,36)",
              "ticks": "outside"
             }
            },
            "type": "scattermapbox"
           }
          ],
          "scatterpolar": [
           {
            "marker": {
             "colorbar": {
              "outlinewidth": 1,
              "tickcolor": "rgb(36,36,36)",
              "ticks": "outside"
             }
            },
            "type": "scatterpolar"
           }
          ],
          "scatterpolargl": [
           {
            "marker": {
             "colorbar": {
              "outlinewidth": 1,
              "tickcolor": "rgb(36,36,36)",
              "ticks": "outside"
             }
            },
            "type": "scatterpolargl"
           }
          ],
          "scatterternary": [
           {
            "marker": {
             "colorbar": {
              "outlinewidth": 1,
              "tickcolor": "rgb(36,36,36)",
              "ticks": "outside"
             }
            },
            "type": "scatterternary"
           }
          ],
          "surface": [
           {
            "colorbar": {
             "outlinewidth": 1,
             "tickcolor": "rgb(36,36,36)",
             "ticks": "outside"
            },
            "colorscale": [
             [
              0,
              "#440154"
             ],
             [
              0.1111111111111111,
              "#482878"
             ],
             [
              0.2222222222222222,
              "#3e4989"
             ],
             [
              0.3333333333333333,
              "#31688e"
             ],
             [
              0.4444444444444444,
              "#26828e"
             ],
             [
              0.5555555555555556,
              "#1f9e89"
             ],
             [
              0.6666666666666666,
              "#35b779"
             ],
             [
              0.7777777777777778,
              "#6ece58"
             ],
             [
              0.8888888888888888,
              "#b5de2b"
             ],
             [
              1,
              "#fde725"
             ]
            ],
            "type": "surface"
           }
          ],
          "table": [
           {
            "cells": {
             "fill": {
              "color": "rgb(237,237,237)"
             },
             "line": {
              "color": "white"
             }
            },
            "header": {
             "fill": {
              "color": "rgb(217,217,217)"
             },
             "line": {
              "color": "white"
             }
            },
            "type": "table"
           }
          ]
         },
         "layout": {
          "annotationdefaults": {
           "arrowhead": 0,
           "arrowwidth": 1
          },
          "autotypenumbers": "strict",
          "coloraxis": {
           "colorbar": {
            "outlinewidth": 1,
            "tickcolor": "rgb(36,36,36)",
            "ticks": "outside"
           }
          },
          "colorscale": {
           "diverging": [
            [
             0,
             "rgb(103,0,31)"
            ],
            [
             0.1,
             "rgb(178,24,43)"
            ],
            [
             0.2,
             "rgb(214,96,77)"
            ],
            [
             0.3,
             "rgb(244,165,130)"
            ],
            [
             0.4,
             "rgb(253,219,199)"
            ],
            [
             0.5,
             "rgb(247,247,247)"
            ],
            [
             0.6,
             "rgb(209,229,240)"
            ],
            [
             0.7,
             "rgb(146,197,222)"
            ],
            [
             0.8,
             "rgb(67,147,195)"
            ],
            [
             0.9,
             "rgb(33,102,172)"
            ],
            [
             1,
             "rgb(5,48,97)"
            ]
           ],
           "sequential": [
            [
             0,
             "#440154"
            ],
            [
             0.1111111111111111,
             "#482878"
            ],
            [
             0.2222222222222222,
             "#3e4989"
            ],
            [
             0.3333333333333333,
             "#31688e"
            ],
            [
             0.4444444444444444,
             "#26828e"
            ],
            [
             0.5555555555555556,
             "#1f9e89"
            ],
            [
             0.6666666666666666,
             "#35b779"
            ],
            [
             0.7777777777777778,
             "#6ece58"
            ],
            [
             0.8888888888888888,
             "#b5de2b"
            ],
            [
             1,
             "#fde725"
            ]
           ],
           "sequentialminus": [
            [
             0,
             "#440154"
            ],
            [
             0.1111111111111111,
             "#482878"
            ],
            [
             0.2222222222222222,
             "#3e4989"
            ],
            [
             0.3333333333333333,
             "#31688e"
            ],
            [
             0.4444444444444444,
             "#26828e"
            ],
            [
             0.5555555555555556,
             "#1f9e89"
            ],
            [
             0.6666666666666666,
             "#35b779"
            ],
            [
             0.7777777777777778,
             "#6ece58"
            ],
            [
             0.8888888888888888,
             "#b5de2b"
            ],
            [
             1,
             "#fde725"
            ]
           ]
          },
          "colorway": [
           "#1F77B4",
           "#FF7F0E",
           "#2CA02C",
           "#D62728",
           "#9467BD",
           "#8C564B",
           "#E377C2",
           "#7F7F7F",
           "#BCBD22",
           "#17BECF"
          ],
          "font": {
           "color": "rgb(36,36,36)"
          },
          "geo": {
           "bgcolor": "white",
           "lakecolor": "white",
           "landcolor": "white",
           "showlakes": true,
           "showland": true,
           "subunitcolor": "white"
          },
          "hoverlabel": {
           "align": "left"
          },
          "hovermode": "closest",
          "mapbox": {
           "style": "light"
          },
          "paper_bgcolor": "white",
          "plot_bgcolor": "white",
          "polar": {
           "angularaxis": {
            "gridcolor": "rgb(232,232,232)",
            "linecolor": "rgb(36,36,36)",
            "showgrid": false,
            "showline": true,
            "ticks": "outside"
           },
           "bgcolor": "white",
           "radialaxis": {
            "gridcolor": "rgb(232,232,232)",
            "linecolor": "rgb(36,36,36)",
            "showgrid": false,
            "showline": true,
            "ticks": "outside"
           }
          },
          "scene": {
           "xaxis": {
            "backgroundcolor": "white",
            "gridcolor": "rgb(232,232,232)",
            "gridwidth": 2,
            "linecolor": "rgb(36,36,36)",
            "showbackground": true,
            "showgrid": false,
            "showline": true,
            "ticks": "outside",
            "zeroline": false,
            "zerolinecolor": "rgb(36,36,36)"
           },
           "yaxis": {
            "backgroundcolor": "white",
            "gridcolor": "rgb(232,232,232)",
            "gridwidth": 2,
            "linecolor": "rgb(36,36,36)",
            "showbackground": true,
            "showgrid": false,
            "showline": true,
            "ticks": "outside",
            "zeroline": false,
            "zerolinecolor": "rgb(36,36,36)"
           },
           "zaxis": {
            "backgroundcolor": "white",
            "gridcolor": "rgb(232,232,232)",
            "gridwidth": 2,
            "linecolor": "rgb(36,36,36)",
            "showbackground": true,
            "showgrid": false,
            "showline": true,
            "ticks": "outside",
            "zeroline": false,
            "zerolinecolor": "rgb(36,36,36)"
           }
          },
          "shapedefaults": {
           "fillcolor": "black",
           "line": {
            "width": 0
           },
           "opacity": 0.3
          },
          "ternary": {
           "aaxis": {
            "gridcolor": "rgb(232,232,232)",
            "linecolor": "rgb(36,36,36)",
            "showgrid": false,
            "showline": true,
            "ticks": "outside"
           },
           "baxis": {
            "gridcolor": "rgb(232,232,232)",
            "linecolor": "rgb(36,36,36)",
            "showgrid": false,
            "showline": true,
            "ticks": "outside"
           },
           "bgcolor": "white",
           "caxis": {
            "gridcolor": "rgb(232,232,232)",
            "linecolor": "rgb(36,36,36)",
            "showgrid": false,
            "showline": true,
            "ticks": "outside"
           }
          },
          "title": {
           "x": 0.05
          },
          "xaxis": {
           "automargin": true,
           "gridcolor": "rgb(232,232,232)",
           "linecolor": "rgb(36,36,36)",
           "showgrid": false,
           "showline": true,
           "ticks": "outside",
           "title": {
            "standoff": 15
           },
           "zeroline": false,
           "zerolinecolor": "rgb(36,36,36)"
          },
          "yaxis": {
           "automargin": true,
           "gridcolor": "rgb(232,232,232)",
           "linecolor": "rgb(36,36,36)",
           "showgrid": false,
           "showline": true,
           "ticks": "outside",
           "title": {
            "standoff": 15
           },
           "zeroline": false,
           "zerolinecolor": "rgb(36,36,36)"
          }
         }
        },
        "title": {
         "font": {
          "color": "Black",
          "size": 22
         },
         "text": "<b>Topics over Time</b>",
         "x": 0.4,
         "xanchor": "center",
         "y": 0.95,
         "yanchor": "top"
        },
        "width": 1250,
        "xaxis": {
         "showgrid": true
        },
        "yaxis": {
         "showgrid": true,
         "title": {
          "text": "Frequency"
         }
        }
       }
      }
     },
     "metadata": {},
     "output_type": "display_data"
    }
   ],
   "source": [
    "# Sicherstellen, dass timestamp eine gültige datetime-Spalte ist\n",
    "df_clean['timestamp'] = pd.to_datetime(df_clean['timestamp'], errors='coerce')\n",
    "df_clean = df_clean.dropna(subset=['timestamp'])\n",
    "\n",
    "# Alle Listen synchron extrahieren\n",
    "texts_synced = df_clean['text_clean'].tolist()\n",
    "topics_synced = df_clean['topic'].tolist()\n",
    "timestamps_synced = df_clean['timestamp'].tolist()  # echte datetime-Werte\n",
    "\n",
    "# Kontrollieren\n",
    "print(len(texts_synced), len(topics_synced), len(timestamps_synced))\n",
    "\n",
    "# Topics-over-time berechnen (echte Timestamps → funktioniert!)\n",
    "topics_over_time = topic_model.topics_over_time(\n",
    "    docs=texts_synced,\n",
    "    topics=topics_synced,\n",
    "    timestamps=timestamps_synced,\n",
    "    nr_bins=20  # oder eine andere sinnvolle Anzahl Zeit-Buckets\n",
    ")\n",
    "\n",
    "# Visualisierung\n",
    "topic_model.visualize_topics_over_time(topics_over_time)\n"
   ]
  },
  {
   "cell_type": "markdown",
   "id": "d2b77b30",
   "metadata": {},
   "source": [
    "## 4. Visuelle Exploration mit UMAP\n",
    "\n",
    "Zur besseren Interpretation der durch BERTopic erzeugten Embeddings und Topics projizieren wir die hochdimensionalen Embeddings in 2D mit **UMAP**. So lassen sich thematische Cluster visuell erkennen."
   ]
  },
  {
   "cell_type": "code",
   "execution_count": null,
   "id": "bb493a0c",
   "metadata": {},
   "outputs": [
    {
     "data": {
      "application/vnd.plotly.v1+json": {
       "config": {
        "plotlyServerURL": "https://plot.ly"
       },
       "data": [
        {
         "hoverinfo": "text",
         "hovertext": [
          "tung tung tung tung sahur brainrot game",
          "always summer",
          "katniss lot aura fr",
          "tung tung tung sahur nooo",
          "happy easter",
          "john wick tuff",
          "walked alpha wolf gig crowd killing especially egregious stranger moshpits going metal punk hardcore gigs years seen sorts chaos pits fine part scene get people get carried away emotion wan na cut loose fun right guys malevolence came support alpha wolf crowd killing wankers came party second first song started dickheads swinging windmill fists slamming everybody target pretty well built dudes safely swinging anybody smaller naturally entire crowd pulls back make space dickheads entire floor everybody else cowers periphery absorbed evading punches kicks even watch band paid dickheads getting bored swinging specifically target perimeter punches body slams young girl gets body slammed hard boyfriend stands front pushes crowdkiller away fuckwit doubles body slams big small anybody security watches passively uncaring suddenly guy foot taller flies purpose despite nowhere mosh purposely body slams elbows spilling drink despite clearly wanting part bashes third time give hard right hook rib cage limps away cry friends recovered storms starts screaming face ever gig okay getting punched etc try explain quietly watching music excuse repeatedly assault like spends rest next song abusing like victim sets find security punching countless people crowd spilling drinks spouting verbal abuse decides victim tries get security throw crowd killer pussy coward second somebody stands cry like bitches security useless tits bull wanders right past sunset walk demand refund tour shirt bought drive home without even watching main act drove hours see fuck dont support shitty scene fuck malevolence fuck alpha wolf fuck hardcore dance wankers kind scene promoting keep music keep money close eyes swing haymakers wife call dancing still assault assault gig okay dozen wankers ruin gig thousand people dickheads need treated like pariahs fuckwits shown shit acceptable end rant edit calling cunt refunding shirt think would want wear tour shirt represents shittiest show ever furthermore would support band let shit go unchecked clearly care fans care ps post upvotes vs dozen calling liar pussy think please majority people support crowdkilling matter cool cringy vegan incels think fuck die please pps think post gon na kick hard lot angry little crowdkillers address brain damaged idiots remarking like getting punched go show say going start club smashes casual beach goers nuts golf clubs eye gouges every th mcdonalds customer fucking like go beach want eyegouged go maccas sound like logic somebody clearly taken many blows head already cringe",
          "pov first time using scissor k memes",
          "disclaimer tell say complete shock said",
          "fox core",
          "going",
          "use code wendover link get exclusive annual incogni plan youtube instagram twitter sponsorship enquiries wendover emails sam reddit writing sam denby tristan purdy christine benedetti editing alexander williard animation austin glass derek brown kate ermolenko gabriel ferreras sara stoltman sound manni simon dony bullen thumbnail simon buckmaster airline network visualizations courtesy used permission flightconnections com references",
          "beautiful places china",
          "play favorite",
          "transformation inshape nutrition",
          "mars",
          "love making lily bouquets insta flores_delicacys",
          "ignore shoes lol feet hurt xxxx",
          "watch buy fight dazn dazn com youtube may powered city wolves subscribe youtube channel subscribe dazn x series youtube channel sign dazn follow dazn boxing social media twitter instagram facebook dazn boxing show dazn rewind",
          "choisis femme",
          "always count twitch chat streaming live twitch full stream recording edited mckl nd channel twitter dugdug latest uploads dougdoug challenges popular videos dougdoug doug sentient bell pepper hired fbi crack gaming challenges also talk things food celinedion",
          "lock",
          "harald glööckler versteht alice weidels motivation teilnahme my style rocks",
          "pop morning",
          "fliegen august joey gezwungen video nennen juliavsjoey staffel gucken juliavsjoey instagram folgen juliavsjoey tiktok folgen __ podcast joey parfummarke stalk hauptkanal instagram tiktok __ geschäftliche emailadresse beautx affiliate link erhalte umsatzbeteiligung verkäufen link generiert wurden __ habt tollen tag macht schönsten julia",
          "dc",
          "built crazy things using real life minecraft blocks winner gets stay wild reacts ben azelart cam huff vlad chris new videos every week subscribe",
          "know people disabilities really need use cart play golf think vast majority golfers experience would better less carts courses think",
          "dc",
          "válasz részére",
          "rolled see got hit surprise stitch scanning tickets theater little guy way cute get one warehouse please disney make happen dm using content permission use without",
          "love story sealed ring",
          "tung tung comes ones oversleep sahur",
          "hallo chef komme arbeit",
          "countries giants",
          "voici autre sujet fais souvent girafe adoré faire originale vendue disponible impression x pouces site",
          "ib dezz",
          "tung tung tung sahur ballerina capuchina",
          "we reached kg weightloss",
          "back gf",
          "трек tralalelo tralala уже на всех площадках",
          "best trio",
          "fifa street",
          "broke sound barrier",
          "bts",
          "dads reaction rocket ball golf guys golf",
          "seatbelt signs",
          "ok baby relax facts",
          "real trend",
          "last night video posted terrifyingasfuck woman sedated c section physician put penis mouth recorded nursing staff put hidden cameras concerned might tried report reddit category matched regardless reported non consentual intimate content morning woke learn reddit reviewed post determined break reddit site wide rules reddit condones rape videos knew site problems never expected",
          "jf jf flying islamabad",
          "zahide drama immer schlimmer",
          "chainsaw harmed video",
          "unwind epic river snow casting rod heavy setup",
          "passenger princess be like",
          "fifa street estilo brasileiro",
          "one best toilets direct food fish well fish love",
          "thanks social media",
          "tg akimbo_",
          "не могу без кофты с ним жить",
          "chef problem",
          "favourite fish steve character",
          "every lady deserves flowers",
          "average day border looking zombies",
          "mummy pig big news share",
          "ups",
          "go check kinda blowing rn size lmk guys think view comment likes appreciated im really trying make something",
          "save woods kit available bio",
          "way joined tuff",
          "gehts julia vs joey staffel joeys video amazon storefront podcast parfum werbung kalender werbung handcremes werbung stalk tiktok instagram vlogkanal twitter facebook snapchat juliabeautx firmen for companies juliabeautx verwendete musik epidemic sound kamera objektiv vlogkamera stativ studioleuchte falls weitere fragen anregungen hast kannst gerne kommentar lassen gefallen daumen hoch freuen gekennzeichneten links affiliate links partnerprogramm amazon rewardstyle gehören solltet links kaufen bekomme vermittlungsprovision dafür natürlich dafür mehr bezahlen müsst habt tollen tag macht schönsten julia",
          "таджичка поёт катюшу с летием великой победы",
          "get new bodybuilding transformation system launch week download macrofactor weeks free references proximity failure sleep mortality written directed jeff nippard stephanie buttermore filmed matt dziadecki dal shoots jeff nippard cam cline edited rickie ho sam ding jeff nippard graphics rickie ho sam ding jeff nippard music arranged jeff nippard sam ding music sourced epidemic sound research assistance max edsey experiment design jeff nippard alysha souza derrick van every stu phillips canadian natural pro bodybuilder internationally qualified powerlifter bsc biochemistry chemistry passion science training years drug free fluctuate lbs lean lbs bulked disclaimers jeff nippard doctor medical professional always consult physician starting exercise program use information strictly risk jeff nippard assume liability direct indirect losses damages may result use information contained video including limited economic loss injury illness death",
          "tide war turning animation dafuqboom additional designs storyboard animation previs help music god complex death squad akira yamaoka screams dad additional particles spanish subtitles french subtitles kabyle action figures finally dark speakerman plungerman tv woman cameraman titan pack available major retailers including walmart target amazon skibiditoilet shop contact instagram com dafuqboomtv blugrayguy",
          "courage mv",
          "posting bold thing ever done",
          "max ping",
          "motorola",
          "bro asked leaving",
          "lil sis",
          "nutmeg rush big stage yamal",
          "zombie escape raining situation bad much food left car next",
          "brbrpatapim dj",
          "scene tho",
          "trendingsound trends",
          "creator code shiina twitter business email shiinabr contact part creator code support creator program shiina shiinabr partnered epic games",
          "powerful countrys supported india",
          "russian beats go crazy",
          "canapé extérieur palettes palettes canapé cette technique super facile rapide réaliser super salon jardin rapidement cher",
          "exklusiven nordvpn deal werbung musums website infos lego marke lego gruppe kanal lego gruppe gesponsert genehmigt unterstützt",
          "swag thug life savage respect sigma rizz aura",
          "sorry funny anyone wants donate clothes appreciate x",
          "nom iness a vice",
          "incredible rap lose eminem allie sherlock cover",
          "reaction seeing swing first time",
          "weißer rauch schornstein sixtinischen kapelle aufgestiegen kardinäle neuen papst gewählt habemus papam kardinal robert francis prevost usa nächste papst gibt namen leo xiv weitere informationen liveblog aktuellen informationen weitere nachrichten tagesschau livestream sendungen livestreams dokumentation reportagen ard mediathek",
          "mix",
          "sound",
          "astro 꿈속의 문 moon memory moon viviz 비비지 민혁 기현 monsta x 호시 원우 민규 도겸 승관 seventeen hello gloom 라키 최유정 김도연 찬희 sf 방찬 stray kids 문수아 billlie twitter facebook instagram weibo fancafe",
          "mins pure asmr relaxation sleep",
          "reading game manual buying game way home",
          "our favourite party trick",
          "subscribe youtube channel subscribe dazn x series youtube channel sign dazn follow dazn boxing social media twitter instagram facebook dazn boxing show dazn rewind",
          "get nordvpn year plan extra months free risk free nordvpn day money back guarantee planes thousand times better answer question never asked great minds like know wan na know obviously hope like cool awesome video made whomst also cool awesome thank watching team produced collaboration jellybox gene goldstein executive producer bluesky instagram laura estrella director bluesky instagram sean aitchison production bluesky jane mahoney production bluesky instagram brooke burnett animator bluesky david kalev roy animator bluesky instagram cris mestre animator bluesky instagram willard worm animator instagram mazzy foy animator bluesky instagram danny reyes animator bluesky instagram harry barnett animator bluesky instagram joel spencer animator bluesky instagram tanimayto animator bluesky instagram whole bunch stuff twitter instagram",
          "melde masterschool beginne karriere schon heute werbung quellen weiterführende literatur vielen dank the david suzuki foundation wusstest blutgefäße kilometer lang genug zweimal erde wickeln lieblings fun facts buch app video verwenden warte kilometer schon ansage woher stammt zahl wissen stimmt kanäle englisch spanisch französisch portugiesisch arabisch hindi japanisch koreanisch könnt unterstützen beste unterstützen shop kaufen patreon supporten shop patreon mehr kurzgesagt folgt tiktok reddit instagram twitter facebook diskord rundschreiben musik kurzgesagt soundtracks epic mountain spotify soundcloud bandcamp youtube facebook soundtrack video soundcloud bandcamp",
          "kill meeee",
          "replying games zm",
          "supermarkt beim shoppen wartet tücke knallerfrau martina hill gibt s best of besten momenten beim einkaufen knallerfrauen abonnieren mehr martina hill knallerfrauen mama knallerfrauen büro knallerfrauen international videos findest ganze folge online sehen martina hill zurück unglaublich wandelbar vollem körpereinsatz schlüpft martina hill knallerfrauen verschiedensten frauenrollen mal sexy vamp mal einfallsreiche mutter mal vermeintlich taffe businessfrau frauen provokant absurd einfach mal völlig verrückt alltag meistern zumindest versuchen immer überraschend dingen brüllen komisch martina hill facebook offizielle facebook seite knallerfrauen mehr comedy youtube joko klaas dreisten drei kesslers knigge switch reloaded quatsch comedy club rabenmütter impressum",
          "trendingsound eilish",
          "kind world",
          "favourite glute exercises transformed body last year outfits use code sienna",
          "kid grew nikola jokic dunks",
          "soldier son part",
          "every woman ever dared take space one",
          "instant mood change",
          "kicked beaten ending shocking",
          "hallo chef",
          "roses red violets blue third season xo kitty store",
          "cute baby singing apt",
          "listen said love first said back shop new merch follow selena gomez instagram twitter facebook tiktok youtube mailing list follow benny blanco instagram twitter facebook tiktok youtube mailing list lyrics need arms around need feel touch feeling kind lonely really wan na talk baby tired waiting know need saving craving know left damn need right back call daddy cause know like go recharge battery come back make mama proud slippery tangled silk sheets come fulfill show miss talk use whole body cause scene let hear love loud alone got nothing except cologne doors unlocked music video selena gomez benny blanco performing talk smg music llc friends keep secrets exclusive license interscope records",
          "reaction people gym body control",
          "summer volleyball",
          "best reactions",
          "sign letter e",
          "rx",
          "sigma girl янковская",
          "favorite",
          "account khan official",
          "baby monkey moon able control car trouble",
          "complete beginner abs workout home 집에서 하는 초보자 복근 운동",
          "folgt mal insta sachen gepostet gepostet macht tiktok polos",
          "widebody",
          "welcome aboard captain subnautica design lead anthony gallegos invites join us road early access share enticing glimpses expect game later wishlist steam epic xbox join community discord x tiktok bluesky instagram facebook",
          "ernährungstipps zucker gibt ja viele dran aussagen zero zucker influencern glucose goddess zucker okay problem zucker kalorien wissenschaftlichen studien beim thema zucker überraschend uneindeutig deshalb nerden rein ernährungswissenschaften holt tee macht gemütlich steigen mehr maithink x folgen maithink x show maithink xperts talks instagram youtube kanal abonnieren infos hilfsangebote essstörungen info seite bundesinstitut öffentliche gesundheit übersicht hilfsangebote kapitel intro zucker okay basics passiert körper glucose goddess blutzuckerkurven zucker vs kalorien energy balance model carbohydrate insulin model larssche brücke suchtpotenzial netiquette produktion mai thi nguyen kim bildundtonfabrik zdfneo impressum quellen agarwal et al j alzheimers dis ahmed et al biomed pharmacother bmel brand miller et al j clin nutr bundesanstalt landwirtschaft ernährung bundesministerium gesundheit eckel diabetologia gaesser angadi iscience gracner et al science hall et al j clin nutr huang et al bmj hwang et al alzheimers dement jeong et al sci rep ludwig et al eur j clin nutr koster et al obesity malik hu j coll cardiol moon et al obes facts murray rosenbloom nutr rev nilsson et al j clin nutr pi sunyer postgrad med te morenga et al bmj tiruneh int j disabil hum dev vera ponce et al endocr metab sci verordnung eu nr visontay et al bmc med res methodol who wirtschaftliche vereinigung zucker verein zuckerindustrie wirtschaftliche vereinigung zucker stand februar",
          "используете масло перед мытьём у меня есть инстаграм zai dz если хотите еще больше роликов переходите пришлось создать себе аккаунт в тик ток потому что непонятный пользователь из саудовской аравии копировал мои ролики из инсты и весьма успешно выдавал себя за меня в тик ток теперь я лишила его такой возможности надеюсь на ваш актив",
          "tung tung tung tung sahur nela",
          "expecting game called senior splashin players eliminate players water videos like taken seriously",
          "big shout man romo stalking running steve def big highlight boys sucks little one sick get chance meet earth man black",
          "presented ebay tequila met gala celebrates costume institute new exhibition superfine tailoring black style singer actor teyana taylor actor producer la la anthony actor comedian ego nwodim host year livestream",
          "months",
          "зеленский",
          "hallo chef problem",
          "lisa debut album alter ego listen shop vinyl cds photobooks follow lisa follow wearelloud lyrics hair feeling like rapunzel keep doggies motherfuckin muzzle one queen jungle one queen one window shop big spend got message click send lie got sixth sense feel energy himalayan incense living lavish still young spending shit til go dumb flashing gold teeth damn day walk hear say money motherfuckin money bitch tell love bitch tell money motherfuckin money bitch tell love bitch tell hair feeling like rapunzel hair feelin hair hair feeling like rapunzel hair feelin hair need time got ta meditate level level bitch levitate pocket got something ever make generous maybe taste anyway got ta go cause running late everyday make bag bitch got ta hate hour two life baby living lavish still young spending shit til go dumb flashing gold teeth damn day walk hear say money motherfucking money bitch tell love bitch tell money motherfucking money bitch tell love bitch tell hair feeling like rapunzel hair feelin hair hair feeling like rapunzel hair feelin hair hair feeling like rapunzel hair feelin hair hair feeling like rapunzel hair feelin hair hair feeling like rapunzel",
          "inverser mdr",
          "yıldız goal",
          "хахахаха до конца",
          "audi rs v soundcheck",
          "gta",
          "robert geiss mindset",
          "fps",
          "temps",
          "nommée pof merci donc pouvais détourner trend faire quelque chose ressemble encore plus fonds cette vidéo bien évidemment reversés association encore décidé laquelle hésitez donner noms commentaire si connaissez bon avoue mouillée laquelle nuque avant glaçons fondent vitesse rachel jouer",
          "whos kicking wrong leg",
          "jackson",
          "j",
          "true gracie abrams",
          "mistake shape growth",
          "director prey welcomes world hurt experience predator badlands big screen theaters imax november predator badlands stars elle fanning dimitrius schuster koloamatangi set future remote planet young predator schuster koloamatangi outcast clan finds unlikely ally thia fanning embarks treacherous journey search ultimate adversary film directed dan trachtenberg produced john davis dan trachtenberg marc toberoff ben rosenblatt brent connor",
          "time ukulele",
          "antwort",
          "journey beginning new episode last us streaming max max max culture defining entertainment service every mood variety genres include favorite series movies iconic brands treasured franchises delivers irresistible stories every time reuniting life long favorites uncovering new ones discovered yet something every moment every feeling every iconic series award winning movies fresh originals family favorites featuring worlds harry potter dc universe hbo discover best entertainment every mood subscribe max get max follow max follow max youtube follow max instagram follow max tiktok follow max twitter follow max facebook",
          "bro sore loser",
          "meathead freestyle",
          "listen maroon ft lisa single priceless follow maroon instagram facebook twitter tiktok sign updates follow lisa instagram tiktok youtube www youtube com music video maroon lisa performing priceless interscope records",
          "dle 아이들 girlfriend official music video composed 소연 pop time daily likey lyrics 소연 arranged pop time daily likey 소연 lyrics 기억나 너가 반쯤 미쳤던 cranky boy 또 작년에 만난 몸만 좋던 mama boy 그 새낀 말해 뭐해 ha night seconds cry baby 어차피 뭐 그딴 그 거지 같은 love yeah hurry hurry hurry 잊고 hang club 말했잖아 시간만 아깝다고 정성을 담아 꼭 복수해 주자 woo woo 불타는 friday night woo woo cheers single life 우린 끝나지 않아 평생 함께하자 그만 좀 질질 짜 girl got better better girlfriend really really like good 애인 let go chat shit ex girlfriend better boyfriend girlfriend better boyfriend girlfriend better boyfriend give fuck love cause 아이들 uh give fuck love cause 아이들 uh give fuck love cause 아이들 uh give fuck love cause 아이들 uh 다시 만나잔 연락은 양심도 없지 그 새낀 참 뻔뻔해 설마 만날 건 아니지 갈 거면 너 나랑 절교해 답장은 쓰레긴 우리의 안중 아주 lovely하게 cussing deserves lucky look baby 이것 좀 봐봐 주옥같이 예쁘잖아 야 바보야 천 배는 아까워 정말 어디든 pop flash let upload instagram 맘껏 웃어봐 자 복수해 주자 woo woo 불타는 friday night woo woo cheers single life 우린 끝나지 않아 평생 함께하자 그만 좀 질질 짜 girl got better better girlfriend really really like good 애인 let go chat shit ex girlfriend better boyfriend girlfriend better boyfriend girlfriend better boyfriend love give fuck love love cause 아이들 uh love give fuck love endless cause 아이들 uh promise give fuck love 영원히 cause 아이들 uh give fuck love girlfriends cause 아이들 uh dle official youtube dle official x dle official facebook dle official instagram dle official weibo dle official weverse rights reserved cube entertainment inc",
          "talent without hard work nothing",
          "got emotional baby beyond proud",
          "weekend mood",
          "might perfect height via satincali ig",
          "cruise ships dumping sewage oceans",
          "our hot ones versus episode out now",
          "dexter meets talking cactus",
          "bro wanted cool even via",
          "baby",
          "tutorial de la salsa",
          "every game console matter well poorly sold gon na disappointments thrown especially said disappointments came st party developers big candidates based purchases starting biggest letdown mario strikers battle league frantically buying game play multiplayer matches friends realized terrible mistake made chewing single player content matter days nothing game besides regular soccer matches online abysmal amount content available launch even laughable sequel thought perception mario strikers whole would ruined forever went ahead booted strikers charged wii nope game holds incredibly well bad sequel around mario golf super rush speaking bad sequels super rush decided simplify golfing mechanics point fun play someone adored ds game mario golf world tour packed content modes unlockables worthwhile paid dlc top super rush felt like playing catch free updates animal crossing fans felt new horizons first released wait months features already available ds predecessor yikes splatoon personal pick general consensus really got splatoon splatoon time third game came around new modes online disconnects either first two games experience longer grind unlockables could rival modern day hero shooter call old missed pick play nature splatoon get splatoon also fact sold first game hubworld back paid dlc utter nonsense",
          "season coming",
          "best duos football",
          "aspettando fumata",
          "know belong",
          "axel grismau",
          "alfred turn",
          "baby monkey moon trouble car picnic",
          "would normal people fight rich right slaves something importance",
          "tackle ggs",
          "sobbing for us we did it we did it",
          "sigma",
          "need get pk humble bigger shorts",
          "version rich",
          "когда хейтерам не понравился мой лак inst luna_basendji",
          "replying тунг тунг тунг сахур",
          "adventure lifetime",
          "cooking gaitlyn rae",
          "tut mir leid chef cutebaby",
          "ups",
          "bondi lifeguard takes thief heart stopping chase",
          "joyn kostenlos full episodes endlich weit neo gewinner the voice kids publikum finale bann telefonleitungen gezogen coach wincent weiss mächtig stolz gemeinsam feiern sieg herzlichen glückwunsch kanal abonnieren subscribe to the voice kids www youtube com empfohlen ab jahren recommended from age the voice kids dürfen jüngsten talente zeigen steckt dabei zählt stimme auftritts blind auditions coach sessel richtung publikums ausgerichtet sodass coaches sehen wer bühne steht talent team holen möchten drücken buzzer sänger sängerin runde falls mehrere coaches buzzern talent freie wahl blind auditions folgen knockouts jeweils talents drei gruppen unterteilt denen coach direkter konkurrenz überzeugen müssen wer abermals durchsetzt schafft ersehnten finals entscheidet letztendlich talent teams atemberaubenden stimme überzeugen the voice kids gewinnt mehr infos news the voice kids get more information geht s clips staffel click here to watch hihglights of season best ofs clips first looks blind auditions battles sing offs finals impressum",
          "post contains content supported old reddit click view full post",
          "written composed al shami music producer elian debs mix master office studios artist management music life directed jad rahme digital distribution listen jinak digital platforms keep listening al shami anghami spotify apple music deezer youtube music soundcloud subscribe al shami channel best latest official music videos behind scenes live performances follow al shami instagram facebook tiktok snapchat x lyrics كلمات جيناك جيناك بنت الأصل لي وما حد خذها مني بعناد الزلم يلي يريد العركة يقرب يمي جيبو الزلم ياخدوا يلي يريدوا بالثأر لشد العزم واحرق أرضهم بالنار جيبو الزلم ياخدوا يلي يريدوا بالثأر يشد العزم واحرق قلبهم بالنار وعلى عيني بالسلم اما اللي يجيني من الزلم واليدخل بيتي و يحترم لفرشلو أرضي بمال وين ولد العم لندبك شوبي حتى الكلب ما يشم بخوفي يا أبو العبد يا مربي زنودي بيي خلفت ذياب بلجم الزلم ماكن لحم الزلم آكل طاريكي مو عادي بتروح فداه رجال والطاري ما ينجاب كيف هالأصل ينعاب ريت الغزل ينعاد بالدان يكوي القلب يرمي رماد جيناك جيناك بنت الأصل لي وما حد خذها مني بعناد الزلم يلي يريد العركة يقرب يمي",
          "bro might get drafted",
          "funniest videos animals найсмішніші відео тварин",
          "time play final games squid game season june netflix info squid game season failed rebellion death friend secret betrayal picking aftermath season bloody cliffhanger third final season netflix popular series finds gi hun k player lowest point yet squid game stops one gi hun forced make important choices face overwhelming despair surviving players thrust deadlier games test everyone resolve round choices lead increasingly grave consequences meanwhile ho resumes role front man welcome mysterious vips brother jun ho continues search elusive island unaware traitor midst gi hun make right decisions front man finally break spirit director hwang dong hyuk made history th primetime emmys becoming first asian win outstanding directing drama series helms series director writer producer season stars lee jung jae lee byung hun yim si wan kang ha neul wi ha jun park gyu young park sung hoon yang dong geun kang ae sim jo yu ri chae kuk hee lee david roh jae jun suk ho special appearance park hee soon watch netflix netflix netflix one world leading entertainment services million paid memberships countries enjoying tv series films games across wide variety genres languages members play pause resume watching much want anytime anywhere change plans time squid game season official teaser netflix",
          "minecraft easy duo house ft mc",
          "grwm",
          "mgk come pick cover directed sam cahill follow mgk",
          "tung tung tung sahur edit",
          "j",
          "pupici consensuali",
          "follow",
          "get exclusive nordvpn deal months extra risk free nord day money back guarantee limited edition strange matter pin dropped glowing limited probably dangerous available hours sources reading jellyfish power tokyo would happen rained bananas day taking two absurd brilliant questions answer real science channels german spanish french portuguese arabic hindi japanese korean support us make living would pleasure support us get products designed join patreon bird army discussions social media instagram tiktok reddit discord twitter bluesky facebook newsletter voice kurzgesagt voice steve taylor music minutes kurzgesagt soundtracks epic mountain spotify soundcloud bandcamp youtube facebook soundtrack video soundcloud bandcamp want help us caption video please send subtitles subtitle find info subtitle files work youtube thank patreon bird army many thanks wonderful patreons support us every month made video possible nicolas souilah jan ihyx engbert blaauw justin ward garza luke schnipper ash lee lubomir hanulik dirty talk podcast danny karapetian c hill penny leigh carlson michalina ślemp rocky sonia blair benjamin ben david william duck nick elvis verteiron",
          "good squid game friends brother team adamx brooskee ciara checkers corin colleen claudia davidbaronart dee helm denny devon dxmnduke eman fawnlouette flippmeister jrf kam leslie v pinkpapi rocketsockit tiffanyseng vijaylante willard yin zangeiti subscribe animations merch twitter instagram wan na send fanart send twitter instagram links music nintendo music beloved",
          "pov tutu making good efforts",
          "need someone know eight year old looked eyes said speak spanish quickly interrupted saying paulrobaly dabbed ran room like naruto know sounds fake",
          "fly like paper get high like planes",
          "leo instead robert",
          "oh look years old boy agt part",
          "india pakistan war kashmir border firing",
          "madness looks like tomorrowland brasil",
          "im going co springs shrek rave tn u see say hi",
          "giuro così brutta solito",
          "iconic parismatch gala fr",
          "holt collector s box code ntk ntk live hauptkanal discord instagram twitter coolsten klamotten",
          "low carb zucchini rolle sooo schnell zubereitet unglaublich lecker sättigt total ganzen proteine zutaten zucchini eier g light reibekäse g hack ml milch g feta käse salz paprikapulver sesam tomatenmark zucchini scheiben schneiden backblech verteilen eier aufschlagen verrühren zusammen reibekäse milch gewürzen zucchini laufen lassen kommt sesam spiel blech min umluft ofen geben danach hack tomatenmark anbraten blech ofen nehmen reibekäse feta hack darauf verteilen ganze einrollen nochmal kurz ofen geben sodass käse schmilzt fertig spaß beim nachkochen findet low carb varianten",
          "welcome thanos world",
          "john cena undisputed wwe title cody rhodes wrestlemania time world champion gets taken viper catch wwe action netflix peacock usa network cw network watch wwe watch wwe netflix watch wwe peacock follow wwe exciting action subscribe wwe youtube check wwe com news updates find latest superstar gear wweshop check channels wwe vault wwe español wwe nxt wcw upupdowndown celtic warrior workouts wwe music wwe social media x facebook instagram tiktok",
          "follow backup forgetting",
          "voice",
          "got back scotland played courses including old course jubilee carnoustie kings barn longest round took hours minutes wait shot make anyone wait shot oh walked carnoustie probably hardest course open rota played caddies push ready golf encourage giving putts inside feet find ball drop one scots tolerate slow play groups tracked gps device one guy hotel told day jubillee group took play front starter put clock threatened take course pace play american gold intolerable dread next round zero reason take hours play golf none people states know better",
          "ready roll wheelchair driving videos posted",
          "michael x jonas abchecken icon league team fokus eagles folgt snapchat instagram instagram acc twitch twitter delay sports youtube kanal youtube kanal youtube gaming kanal modemarke instagram shop vitamin wasser instagram verein delay sports instagram mitglied abonniert fokus fokus instagram fokus twitter fokus youtube sämtliche gekennzeichneten links stellen werbung dar",
          "rent free head dc gone crazy official",
          "love seasons final season summer turned pretty begins july prime video end junior year college belly looking forward another summer cousins soulmate jeremiah future seems set core shaking events bring first love conrad back life brink adulthood belly finds crossroads must decide brother heart summer never watch summer turned pretty prime video subscribe prime video want watch got week newest movies last night tv shows classic favorites available stream instantly plus videos stored video library prime video offers variety unique captivating entertainment including original series boys invincible hazbin hotel summer turned pretty get prime video stream instagram tiktok facebook x summer turned pretty season official teaser prime video prime video",
          "everyone keep straight face loveme tiff via collab",
          "everyone copying queen",
          "quiz math quiz math get right",
          "take part battle high seas adorning new hero skins samurai king kyudo queen grand monk royal ninja cyclone prince choose side legendary tale salty sea winds even saltier sea monsters rolling village get aboard high seas scenery bring ancient battle life base follow us socials twitter instagram facebook tiktok attack defend strategize download free mobile devices supr cl playclashofclans rage filled barbarians glorious mustaches pyromaniac wizards raise army lead clan victory build village fend raiders battle millions players worldwide forge powerful clan others destroy enemy clans please note clash clans free download play however game items also purchased real money also terms service privacy policy must least years age play download clash clans network connection also required features build village unbeatable fortress raise army barbarians archers hog riders wizards dragons mighty fighters battle players worldwide take trophies join together players form ultimate clan fight rival clans epic clan wars build unique units multiple levels upgrades discover favorite attacking army countless combinations troops spells heroes clan reinforcements defend village multitude cannons towers mortars bombs traps walls fight goblin king campaign realm chief problems visit privacy policy terms service parent guide",
          "nomine cucinae et thermomixi et vapori sancti laude youtube instagram tiktok website abonnier stalke laude instagram twitter facebook squad pesh ramin ralph schiller sandro liman marcus nesseler miriam dane alina lück maike frank lola koch vincent hahnen isabella ott",
          "quickly choose hiding spot hide seek rooms game",
          "hammarby jan gunnar solli received yellow card",
          "said backyard worse accepted challenge",
          "mini morgan freeman coming",
          "cc 한국어 japanese spanish chinese english subs tablo x rm stop rain stream tablo rm animation studio shockunit animation produced producer qubic katrina minett producer lynn bartsch fansight co rights reserved",
          "avocado fell taba drying",
          "prepped skin home ahead met gala",
          "part femme sous silence",
          "shake maxxx",
          "since bonnie blue meet jeet time brought barely legal julia",
          "partner robotics heading bauma germany april showcase floor tile paving robot p booth b",
          "obviously overlays day day used overlays use u wanted use well",
          "sided diamond trick tutorial redbull cans cameraman credit barlow",
          "since flooded thousands posts articles trailer links broken abominable titles others youtube link scuffed thread used comprehensive detail everything rockstar released today thread keep updating information refresh every trailer official plot set vice city jason lucia always known deck stacked easy score goes wrong find darkest side sunniest place america middle conspiracy stretching across state leonida forced rely ever want make alive rockstar also released new info website detail characters starting two main protagonists jason lucia jason duval jason wants easy life things keep getting harder jason grew around grifters crooks stint army trying shake troubled teens found keys knows best working local drug runners might time try something new meeting lucia could best worst thing ever happen jason knows like turn right hard tell lucia caminos lucia father taught fight soon could walk life coming swinging ever since fighting family landed leonida penitentiary sheer luck got lucia learned lesson smart moves anything lucia wants good life mom dreamed since days liberty city instead half baked fantasies lucia prepared take matters hands cal hampton everything internet true jason friend fellow associate brian cal feels safest hanging home snooping coast guard comms beers private browser tabs open cal hampton psychopaths charge get used cal low tide america happy casual paranoia loves company friend jason bigger plans boobie ike heart jack hearts boobie local vice city legend acts like one transform time streets legitimate empire spanning real estate strip club recording studio boobie smiles time talk business club money pay studio drug money pay top quality cuts boobie might seem like partnership young aspiring music mogul dre quan raw records invested need hit dre quan priest raw records dre quan always hustler gangster even dealing streets make ends meet breaking music goal dancers like rs record hit djs gon na spinnin label signed real dimez dre quan days booking acts boobie strip club might numbered sets sights vice city scene real dimez viral videos viral hooks bae luxe roxy aka real dimez friends since high school girls savvy turn time shaking local dealers cold hard cash via spicy rap tracks relentless social media presence dimes club meet twin make dub one hit away fame early hit single local rapper dwnply took real dimez new heights five years whole lot trouble signed raw records hoping lightning strike twice raul bautista experience counts confidence charm cunning raul seasoned bank robber always hunt talent ready take risks bring biggest rewards life full surprises friend think wise remember professional adapts raul recklessness raises stakes every score sooner later crew double pull chips table brian heder nothing better mudslide sunset brian classic drug runner golden age smuggling keys still moving product boat yard third wife lori brian around long enough let others dirty work hauled much grass plane could make state leonida levitate looks like leonida beach bum moves like great white shark brian letting jason live rent free one properties long helps local shakedowns stops lori sangria info locations vice city everything excess long way vice city still sun fun capital america glamour hustle greed america captured single city neighborhood something offer pastel art deco hotels bright white sands ocean beach bustling panaderías little cuba bootleg brands tisha wocka flea market vc port cruise ship capital world grassrivers welcome wetlands untamable jewel leonida crown never know lies beneath surface primordial expanse gators may famous attraction far deadlier predators weirder discoveries among mangroves port gellhorn live hard leonida forgotten coast cheap motels shut attractions empty strip malls bring tourists back new economy popular vacation spot fueled malt liquor painkillers truck stop energy drinks jump dirt bike hold onto wallet ambrosia keeping leonida sweet battle health wealth leonida begins heart leonida american industry old school values still reign supreme whatever cost allied crystal sugar refinery provides jobs local biker gang provides almost everything else mount kalaga national park wild wild country room breathe state northern fringes national landmark state northern border mount kalaga offers prime hunting fishing road trails lush surrounding backwoods hillbilly mystics paranoid radicals live far prying eyes government coming may ps xbox series x pc release tbd",
          "buzz low fade",
          "deutsche bahn stecken toxischen beziehung immer mehr menschen fahren bahn enttäuscht staatskonzern rekord verspätungen zugausfällen bahnvorstand hunderten tochterfirmen beschäftigt politik bahn fast ignoriert verfallen gleise weichen ex verkehrsminister volker wissing ex fdp ampel regierung ordentlich angepackt deutschlandticket generalsanierung bringt wende geht s koalitionsvertrag union spd gecheckt wissen bahn endlich comeback feiern darum geht intro toxisch bahn ging letzten jahre comeback bahn fazit quellen findet bundestag feuer drin kaum bekommt oben treiben jan schipmann aline abboud victoria reichelt lennart glaser informieren hitzige debatten parlament liefern highlights zentrum macht gibt instagram oben tiktok oben schaut gerne vorbei autoren jakob gierth lennart glaser redaktionsleitung jan schipmann lennart glaser redaktion funk philipp reichert andrej reisin content production chris krätzmann leon scheuermann post production chris krätzmann leon scheuermann motion graphic design jule sztefka oben produziert funk funk gemeinschaftsangebot arbeitsgemeinschaft rundfunkanstalten bundesrepublik deutschland ard zweiten deutschen fernsehens zdf funk datenschutzrechtlichen bestimmungen plattform sowie erhebung analyse nutzung userdaten einfluss rahmen unserer möglichkeiten gehen größten sensibilität daten weitere informationen thema datenschutz findest unserer website",
          "play water",
          "new nailsssss",
          "à k likes fait un épisode",
          "mini",
          "may th sneak peek song music video choreography headed set right music video excited first music video choreographed wait see hear think",
          "go dive deeper topics free day trial premium subscription video sponsored brilliant thanks lot support next limited pin dropping soon subscribe newsletter find first sources reading happens time machine breaks end stranded millions years ago landed world nothing like today facing deadly storms unbearable heat breathing toxic air survive long enough make back home channels german spanish french portuguese arabic hindi japanese korean support us make living would pleasure support us get products designed join patreon bird army discussions social media instagram tiktok reddit discord twitter bluesky facebook newsletter voice kurzgesagt voice steve taylor music minutes kurzgesagt soundtracks epic mountain spotify soundcloud bandcamp youtube facebook soundtrack video soundcloud bandcamp want help us caption video please send subtitles subtitle find info subtitle files work youtube thank patreon bird army many thanks wonderful patreons support us every month made video possible thomas heffernan lily allan curtis gick patrick bonner mee chan benno inma reis erin mckeehan danielle ritchie fernando gámez losada krunk owen smith alex bouez david mccormack kévain g brentd katie garber kevin aluwi icyberg boris cobaltergeist matzuta jaken tor tina martinez thenocturnist arjun singh sidney story manliorn tnt tv gaming offbeatbunny haezan marcin gajda jindřich vlášek",
          "готовим паста карбонара",
          "part",
          "oreo",
          "builds insane go try new feastables birthday cake batter bar available walmart eleven kroger albertsons locations across america subscribe bad luck new merch join discord server chance compete future minecraft challenges check viewstats questions inquiries regarding video please reach chucky thanks uplift desk desks check follow kick facebook twitter instagram",
          "montagem tomada",
          "way football team joined tooo tuff",
          "dc attack reflection l",
          "unbelievable bottles game",
          "urgent please help us retrieve secret stash live sainsbury may st details senior producer abygail hobday visual lead ieuan thomas lead editor mikey lamb",
          "stay safe mc donald x",
          "shakira background tänzerin natalia palomares befinden offiziell offenen konflikt",
          "cinema vlog",
          "blue got second trailer finally means time offer exclusive flair everyone next hours trailer og need comment bold receive flair keep mind another exclusive flair like first trailer og flair claiming overwrite flair able change back flair change able reapply",
          "bronny first career pt came front travis scott via",
          "call duty modern warfare clean house mission gameplay",
          "die smile relaxing edition",
          "hey everyone making content tiktok launched rumble channel bring even awesome content new platform motivational videos love working know rumble big youtube yet excited build something fresh love join early check link one videos also tips growing rumble channel favorite creators drop comments love learn hope see",
          "our little life",
          "paul",
          "germany outside guys u find",
          "subscribe miss next",
          "unfreez account khan official",
          "sign letter j",
          "imagine redbull x powerade night",
          "invited mcgivern",
          "arda güler",
          "tung tung tung tung sahur nela intro",
          "www echterblume de esn esn code alpha bestelle code alpha sichere maximalen rabatt kontakt info boss transformation mehr kollegah instagram schnitt animation instagram kamera instagram thumbnail instagram",
          "gta radio ist crazy",
          "un gvvv",
          "hungry",
          "im typpa girl",
          "walked alpha wolf gig crowd killing especially egregious stranger moshpits going metal punk hardcore gigs years seen sorts chaos pits fine part scene get people get carried away emotion wan na cut loose fun right guys malevolence came support alpha wolf crowd killing wankers came party second first song started dickheads swinging windmill fists body slamming everybody target pretty well built dudes safely swinging anybody smaller naturally entire crowd pulls back make space dickheads entire floor everybody else cowers periphery absorbed evading punches kicks even watch band paid dickheads getting bored swinging specifically target perimeter punches body slams young girl gets body slammed hard boyfriend stands front pushes crowdkiller away fuckwit doubles body slams big small anybody security watches passively uncaring suddenly guy foot taller flies purpose despite nowhere mosh purposely body slams elbows spilling drink despite clearly wanting part bashes third time give hard right hook rib cage limps away cry friends recovered storms starts screaming face ever gig okay getting punched etc try explain quietly watching music excuse repeatedly assault like spends rest next song abusing like victim sets find security punching countless people crowd spilling drinks spouting verbal abuse decides victim tries get security throw crowd killer pussy coward second somebody stands cry like bitches security useless tits bull wanders right past sunset walk demand refund tour shirt bought drive home without even watching main act drove hours see fuck dont support shitty scene fuck malevolence fuck alpha wolf fuck hardcore dance wankers kind scene promoting keep music keep money close eyes swing haymakers wife call dancing still assault assault gig okay dozen wankers ruin gig thousand people dickheads need treated like pariahs fuckwits shown shit acceptable end rant edit calling cunt refunding shirt think would want wear tour shirt represents shittiest show ever furthermore would support band let shit go unchecked clearly care fans care ps post upvotes vs dozen calling liar pussy think please majority people support crowdkilling matter cool cringy vegan incels think fuck die please",
          "unfreez account khan official",
          "praying love like filmed respectfully public space consent privacy violated",
          "already know recreate video last year",
          "funk do brasil",
          "laufband rad tour zarbex sicht danke trymacs skylinetv marc eggers ronny berger max schradin paul frege adi totoro nici dabei zugeschaut",
          "head hurts ib",
          "baby bootcamp",
          "met gala",
          "dc love dc",
          "bodybuilder öffentlichkeit",
          "cant cool kid way",
          "reaction people gym calisthenics athlete",
          "fade em",
          "joyn kostenlos full episodes bleibt auge trocken powervollen ballade all by myself céline dion geht neo finale berührt publikum gefühlvollen performance zuschauer innen tränen rühren sieg team wincent holen kanal abonnieren subscribe to the voice kids www youtube com empfohlen ab jahren recommended from age the voice kids dürfen jüngsten talente zeigen steckt dabei zählt stimme auftritts blind auditions coach sessel richtung publikums ausgerichtet sodass coaches sehen wer bühne steht talent team holen möchten drücken buzzer sänger sängerin runde falls mehrere coaches buzzern talent freie wahl blind auditions folgen knockouts jeweils talents drei gruppen unterteilt denen coach direkter konkurrenz überzeugen müssen wer abermals durchsetzt schafft ersehnten finals entscheidet letztendlich talent teams atemberaubenden stimme überzeugen the voice kids gewinnt mehr infos news the voice kids get more information geht s clips staffel click here to watch hihglights of season best ofs clips first looks blind auditions battles sing offs finals impressum",
          "yall would never see martey",
          "future roborock saros z robot vacuum mop robotic hands",
          "lirilí larilá arrested",
          "speedquiz",
          "lanz erklärt weidel kontext ukrainekonflikts",
          "brbrpatapim dj",
          "cliiimb clouds build skybase available soon streaming platforms credits songwriting audio track vocals visuals indawgnito original somewhere know keane video sing funny minecraft parody keane somewhere know indawgnito begins building life along pet wolf plains one night griefer comes ruin fun base ruined feels option left hide away clouds good lyrics built base plains made potato farm grew sugarcane tamed wolf watched grow lived happy alone one day griefer came lit house fire dog went flames run took diamond gear guess start somewhere far away sailed across open sea explored caverns endless ravines caves built home hid away encased stone thought safe think somebody griefed base end returned nothing left behind got ta build base one could ever find climb clouds make skybase nobody ever finding base palace sky king way safe skybase skybase fool know creepers spawn light levels low felt blast fell floor guess living skybase anymore okay build another skybase time put lights base never leave home finally safe skybase current followers k",
          "dad rating uncle accent",
          "get glynis involved",
          "null hundert zwölf meter durften mal kurz ankommen let s go challenge wer holt punkt tafelberg __________________________________________ julia vs joey produktion itv studios germany gmbh moyn media gmbh funk __________________________________________ gehören funk lasst mal liebe youtube instagram tiktok website impressum funk netiquette",
          "squishy soli ingredienti farina crema mani sapone mani piace",
          "geht los julia vs joey staffel abgefahrene challenges wirklich grenze bringen ja wirklich grenze vielleicht darüber hinaus freitag geht s los gibt s freitag uhr neue folge freuen reise __________________________________________ julia vs joey produktion itv studios germany gmbh moyn media gmbh funk __________________________________________ gehören funk lasst mal liebe youtube instagram tiktok website impressum funk netiquette",
          "video going around tiktok showing intro text movie robinhood removed original text say times tyranny injustice law oppresses people outlaw takes place history england turn century time instead amazon version shows blank page seconds unclear censorship accidental oversight link original",
          "microwave srace",
          "worry bro happens even best us",
          "fliegen august joey gezwungen video nennen juliavsjoey staffel gucken juliavsjoey instagram folgen juliavsjoey tiktok folgen __ podcast joey parfummarke stalk hauptkanal instagram tiktok __ geschäftliche emailadresse beautx affiliate link erhalte umsatzbeteiligung verkäufen link generiert wurden __ habt tollen tag macht schönsten julia",
          "cuz get played healer last games fuck disappointing played c invis jeff know times lost worst feeling ever put k heals people arent fucking thing would want support shitty team least play vanguard get kills usually since using mostly van guar last season healer watch shitty ness unfold even keep alive continue shitty would anyone wan na edit glad everyone took well lol lot replies actually interesting said best healer hopefully get better",
          "bro hacked lake",
          "virgin wife",
          "sylvester stallone training",
          "letzte",
          "somebody watching ib monk",
          "clip musstest grinsen",
          "leo best daddy ever",
          "possible learn power perfect sunday morning energy",
          "smith showed legend showed aura farm west philly insta feed anything possible smith new album based true story drops friday ers deluna",
          "marry",
          "fav snack",
          "blue got second trailer finally means time offer exclusive flair everyone next hours trailer og need comment bold receive flair keep mind another exclusive flair like first trailer og flair claiming overwrite flair able change back flair change able reapply",
          "trio happy",
          "hauptkanal twitch discord shorts tiktok twitter instagram",
          "stand affordable recipe given priced per serving recipe per serving well serving even look like like oh add cents onion even cents onion people judge prices based grocery store total price per serving much important regular people worried budget also conveniently leave leftover ingredients well talk using third coconut milk might cents worth count two thirds leave behind already paid",
          "results",
          "weight love like new version",
          "satisfying cc pedro gonzales tedeev",
          "proof skinwalkers caught camera",
          "blood fs",
          "ești un șofer de camion mândru și cu simțul umorului atunci acest sticker auto este perfect pentru tine mein lkw mein problem un sticker auto amuzant și autoironic perfect pentru arăta că ești un șofer de camion cu experiență și că știi cum să faci față provocărilor de pe drum cumpără acum de pe www stickershopromania com",
          "vayáis gibraltar",
          "best fast food jolly boys new merch get cookbook additional cookbook options stores international etc follow instagram tik tok twitter facebook",
          "chef problem",
          "pressekonferenz heimspiel hamburger sv präsentiert krombacher abonniert mehr videos facebook instagram bluesky tiktok whatsapp kanal website fanshop ticketshop",
          "oha brainrot redbull tung tung sahur",
          "part",
          "back watch first official teaser trailer wednesday season part coming august th part coming september rd netflix watch netflix netflix netflix one world leading entertainment services million paid memberships countries enjoying tv series films games across wide variety genres languages members play pause resume watching much want anytime anywhere change plans time wednesday season official teaser trailer netflix",
          "got celebrate differences",
          "vice city usa jason lucia always known deck stacked easy score goes wrong find darkest side sunniest place america middle criminal conspiracy stretching across state leonida forced rely ever want make alive explore vice city beyond trailer captured entirely game playstation comprised equal parts gameplay cutscenes song hot together artist pointer sisters written sharon robinson published universal music corp behalf buchu music robinhill music ascap courtesy rca records division sony music entertainment",
          "welcome baby podcast",
          "clips edit",
          "chapter ronja source status official release offline tcbscans website tcbonepiecechapters dot com online manga shelf discord discord chapter official release may please discuss manga theory discussion post post removed h release please also remember put chapter number title future post talking chapter",
          "alphonso davies filth",
          "ishowspeed reacts grand theft auto vi trailer join im live every day follow socials twitter third channel instagram snapchat discord",
          "asmr soap crashing",
          "thinking planning remove aurangzeb tomb lead result attack kashmir maybe due attack pahalgam issue rised bjp government raised tension hindu muslim",
          "egg fell taba drying",
          "momma got game via isabel torres",
          "account khan official",
          "jk takes best photos wilkins",
          "goodnight sleep tight hehe",
          "smashed burger home",
          "sleepy asmr triggers deep sleep relaxation",
          "prison break évolution",
          "yamal",
          "pizza is just better",
          "mission impossible",
          "back beautiful dessert shop la location aurora shimmering delicacies la",
          "going hag drag",
          "shake body",
          "dream house look like mini bricks",
          "bhai ja behan koi bhi pd le tho bta kya hai je reddit aur kase use kre isee tum se expectations hai ki sahi answers mile ge",
          "tiramisu let make construction sized",
          "adac streamen sdp tour tickets tream tour tickets album vorbestellen limitiertes adac bundle konzept marvin ströter sdp regie kamera edit marvin ströter nix verpassen wollt folgt sdp instagram tiktok youtube spotify facebook musikproduktion beatzarre b case band thilo brandt benedikt sturm nina steinert produktion selina schmucker wevame medienproduktion assistenz b roll celina rabanus assistenz making of anil kumar assistenz jannik schmitt lasse kuzaj joey prahl melissa opitz aufnahmeleitung lara riesterer koordination statisten jordan fischer emily aue valerijan maljm jonathan schwarzberg kamerakran cinorama marc hennicke ari warias uwe meier pyro forca gmbh robin hanke lena umann robert krause constantin röhner stuntteam patrick richter stefan langel oliver fritsche berlin city cops sandra rusicke kerstin scholz gbr kerstin tanja hecke mario franczak patrick falkenau security patrick helbing gpds german protect defense service gmbh danke detlef mottschall taxi ettie abschleppdienst kfz isi knut muderack team eisbus weiteren dank senatsverwaltung mobilität verkehr klimaschutz umwelt landes berlin tream thilo bene nina fans familie dahlke jessica blochowicz larissa jentsch augusto lima marvin ratanachu ingo kern karin mühlhoff all wacht rennwanz gmbh autoverwertung berk gmbh autoservice kunert gmbh büttner ingenieurgesellschaft verkehrstechnik mbh casa michelangelo domino s plan m gmbh pps berlin security service gmbh rewe südwestkorso wupperwerft gmbh toiletten toi toi dixi pickup moe jaksch jan kubkowski vlogging tream bts marco nikolaus",
          "leo xiv erhält unmittelbar wahl applaus kardinäle sixtinischen kapelle",
          "unfreez account khan official",
          "k followers",
          "tung tung tung ronaldo",
          "redick notes players phenomenal shape others could better shape collectively need better shape source",
          "poate follow",
          "every single outfit blake lively wore simple favor tags",
          "said lets go vacation heaven",
          "full track already released available spotify tung tung tung sahur ballerina cappuccino",
          "notification",
          "disney characters filter try",
          "lots scans indeed",
          "lets danceeeee",
          "faux fans hantise etes accord kenza tomate burrata kenza burrata kenza waldorf concert jul concert jul paris concert jul stade france",
          "years old girl crazy voice gaugué",
          "took revenge humiliation true story simon claw birth",
          "demain autres astuces nutrition",
          "calisthenics reaction gym",
          "champagne coast blood orange sorry yall heard song much never get",
          "yellow rain",
          "karen want lift",
          "missy relationship george",
          "thailändische süßigkeiten gegessen extrem ekelhaft julias video julia vs joey instagram geschäftliche anfragen joey",
          "ответ пользователю",
          "theme ate posted part nicki minaj yall better stop complaining",
          "best dressed met gala part",
          "chat real",
          "let see shake next season",
          "support creator code hypex",
          "top worst voice kids performances",
          "physics overrated",
          "russia weak strong",
          "beautiful bride looking stunning",
          "part",
          "luna mei isabelle jocson asian house malia powell deserve",
          "setting easter mass",
          "rodrygo touch nutmeg",
          "warum phaeton v tdi gekostet erfahrt video spare autodoc code maeximiliano app werbung montag uhr findet neues video kanal artem letzten video abonniert zweitkanal update videos mehr content findet instagram maeximiliano s klasse gestartet probiere selber reparieren werkstätten kopfschüttelnd abgelehnt wurde egal seltene bentleys unfallschäden richten beim audi rs v biturbo motor ausbauen beim r getriebeschaden selber reparieren abonniert kanal begleitet projekten",
          "hen party ready letssss goooo",
          "days till aussies",
          "gaslight district gothic crime drama following undead family cheat lie steal way survival long world ended help us greenlight full season consider getting limited edition merch created nick szopko amazing glitch team",
          "rosé messy f movie download stream pre order f album june rosie first studio album rosé download stream rosé store exclusive rosie vinyl cd available follow rosé lyrics tangled sheets alive barely breathe arms around feels like drowning reach something keep bad could really baby let get messy let get way undone come undress like never touched baby obsessed replica maybe messy messy messy know really love want complicated give hell worst party screaming hate bad could really hurt tonight let burn baby let get messy let get way undone come undress like never touched baby obsessed replica maybe messy messy messy know really love love pulling back running door saying words makes want second chance hearts floor guess love baby let get messy let way undone come undress like never touched baby obsessed replica maybe messy messy messy know really love love know really love love",
          null
         ],
         "marker": {
          "color": "#CFD8DC",
          "opacity": 0.5,
          "size": 5
         },
         "mode": "markers+text",
         "name": "other",
         "showlegend": false,
         "type": "scattergl",
         "x": {
          "bdata": "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",
          "dtype": "f4"
         },
         "y": {
          "bdata": "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",
          "dtype": "f4"
         }
        },
        {
         "hoverinfo": "text",
         "hovertext": [
          "hello eli family heavy heart tears eyes announcement make informed moderator eveanyn passed away years long battle cancer family thoughts prayers keep memory kindness strength us always kind words would like share please comments comments nice removed eli moderation team interested donating cause memory charity aligns family wishes",
          "live friend bedroom apartment friends living set ground rules one dont share groceries separate mini fridges rooms couldnt even eat drink something isnt accident one day friends craving cake fridge come home came home saw fridge empty saw saw plate trash turns allergic peanut butter cake saw mirror face puffy red tomato called ambulance nothing serious happened saw cost ambulance epi pen etc asked pay apparently poisoned told stole cake without even telling told f went home told friends telling least help pay aita",
          "hrs ago sister died due complications ozempic getting dark web died pain confusion pursuit fitting societal beauty standard fucking made bullshit pushed us advertisers senseless fair know say hurt much life wasted years old much live feel real edit know real ozempic point stands died felt unhappy body made risky choices fit beauty standard",
          "f sister f getting married weeks recently sent official invites included wife f asked sister told decision intentional said wants wedding peaceful possible feel comfortable wife context wife sister never gotten along particularly well major incident explosive history mutual dislike passive aggressive exchanges years said wife always respectful family gatherings never seen act makes worse though ex girlfriend dated four years meeting wife invited sister remained friends broke six years ago love never made issue still incredibly hurtful see sister would rather include someone past someone spoken years person chosen build life told sister comfortable attending circumstances sending wedding gift either said recognize wife part family expect play along celebration everything fine accused petty trying punish setting boundaries parents since called say overreacting go keep peace feels like disagreement feels like fundamental lack respect marriage family seems think making aita refusing attend wedding declining give gift wife treated",
          "hi everyone years old madrid spain work b b sales lately bringing nintendo switch office play lunch break strictly outside working hours minutes unwind diving back calls meetings well days ago boss told anymore said gives bad image workplace could seen unprofessional according good literally said wants protect others might perceive terms company culture added kidding want play go café even bathroom slacking using company time disturbing anyone feels ridiculous spend break want grown adult school kid hiding game boy table really unprofessional anyone else deal kind thing",
          "every time honk horn flash lights gf gets upset thinking going spark road rage day driving car flash guy front something stupid turning main road head home getting close house talking something forgot buy see guy absolutely flying tailgating flashing flipping get stoplight pulls next turn lane window open yelling waving wildly light changes almost immediately take thinking gone cuts car behind right back behind amazingly gf kept talking totally oblivious getting close last turn home way going let find live drive past like said well thought wanted go back store dying couple seconds says ok take next turn back another guy still following sweating bullets thinking really tell suddenly veers gone even tell relieved went back store everything fine tl dr gf warned sparking road rage right almost incident somehow realize happening get chest admit even deathbed taking grave",
          "lived first round college admissions parent still mild shock kid got near perfect gpa top percentile sats global upbringing articulate essays thoughtful recs discipline issues slacking silver spoon genuinely good smart hard working human things supposed yet rejection rejection ghosted brand name schools acceptances respectable one private school came aid decent offer nothing like expected given strong profile applied class ish would type student every admissions office drooled feels like barely looked get game changed way applicants fewer spots holistic institutional priorities man brutal watching kid play straight still get clobbered handled better honest also weird realize probably get schools got back anyway proud parent slightly bitter xennial feeling age wondering meritocracy sold ever really existed caught tail end something gone",
          "f stepsons adults late teens mid twenties one concerns middle child sat husband last night told us girlfriend pregnant plan keeping baby got logistics going work live mom right living room said able stay baby born said plan moving us statement free rooms asked expected stay said finish basement baby born live basement completely unfinished making livable space would cost several thousands dollars said would baby reaches pre school age easier live since need full time childcare childcare apparently childcare work home much work spend day meetings phone calls clients job baby admit finest moment laughed hard believe serious husband stepped said needed come different plan none happening said help financially secure apartment help baby stuff happy take baby need break extent happy parting end husband page couple hours later husband got call ex upset us supporting way felt needed us bear mind watch baby house either lives bed apartment husband like kids allow even come see hubby told would great time son dil get place together take care baby place live course like really care thinks oldest said thinks little harsh let stay temporarily temporary mom living room supposed temporary years ago think nice laughed serious discussion fair youngest side lives home away college want live baby either little biased assholes feel bad going easy parent never easy hell whole point freaking post kids grown still hard parent love outside insight",
          "scrolling tiktok saw one guy bought ancestry kits use family looked fun completely different thing compared usual gifts recently got tax return figured buy family members small little gift genealogy figured learn cool stuff heritage fun fact continue mom always proud irish roots dad side ran results came back mom irish dna turns dad biological father almost fainted literally believe asked year old grandmother dementia admitted affair never told anyone years swear thought stuff happens movies cuz tf end experiencing family mom spoken three weeks says destroyed identity weeks later still know fuck end wish could go back time never tldr bought ancestry kits family turns mom dad biological father",
          "people around saying ah need perspective uninvolved people long term gf apartment keys unspoken always respected rule need go place send text hey going place matter home even responds simply tell place supposed away km home weeks work related stuff days instructor got accident work tried find another one luck short notice decided like pm get us st flight home next day like pay us overtime next day home resume normal work schedule get home next day like sent text gf tell back getting door confused hearing children screaming inside since none people keys low kids like brother gf thought got squatters something opening door see gf sister kid running around shower putting water everywhere plates half finished ravioli living room ground suitcases opened entrance get inside see husband couch trying hook ps must digged storage room getting verbal argument trying understand fuck said gf told could get flat weeks gone wanted visit city bit go beach gf sent text arguing telling oh ok btw sis fam flat admit blew sis left bedroom meantime told leave immediately argued quite bit gf called sis sis put speaker could hear said embarrassing told could use place threatened call police also asked brothers come left cursing children telling holidays mean little sister boyfriend cast us gf family back even family saying could stayed gf kids could vacations also read doctor prescription papers put specific order obviously took prescribed meds opened box benzodiazepine aitah making leave pretty much stopped talking anything else gf feel like gaslighted would never invite people apartment like especially without telling seems disrespectful going insane",
          "interview boss said saw walk building cameras asked reliable transport bashed minutes saying using public transport one hire personally never hires people use wont show time continued complain red hair made unprofessional asked interview questions said plenty applicants hearing back shook hand dismissed thank everyone feel little better sorry people also told similar things think make eeo complaint someone suggested leave review glassdoor edit gon na share name small industry want companies hear retaliating still chuckling thought tsunami redditors attacking linked though",
          "think girlfriend thinks otherwise context girlfriend sister days ago sister called told water broke left work took hospital told girlfriend met us sister asked husband deployed want alone obliged whole time gave birth healthy baby girl girlfriend thinks weird incestuous vulnerable state think arguing past days getting tired think wanted sister ask instead dating long enough sister feel comfortable state keep asking real reason upset tell situation sucks sister loves wants included everything idk came told needs therapy soon child think understands bond siblings aitah",
          "parents gone father passed february emptying house nightmare lot great mementos draw line found many things really cool hidden away basically took space much stuff torn keeping things nostalgia realistic realized keeping things sake nostalgia caused chaos kept precious momentos donated lot things may finished job ended throwing lot stuff willing bet parents put away never looked get want keep everything memory attached opened eyes stuff saved save stuff never look got dumpster yesterday went everything got rid told kids get want getting rid everything else kept things want kids spend months going things figuring throw away keep donate freeing understand kept stuff feel way things reaches point almost ridiculous glad today really deep cleaning home wonderful done almost like new start happy tuesday",
          "last year five close millennial friends diagnosed cancer healthy lifestyles one medal winning marathon runner age breast cancer stage another age cervical cancer stage another age rectal cancer stage ii another age stomach cancer stage iii worst age stage iva highly lethal highly aggressive liver cancer came blue expect parents grandparents get cancer late early feels way young scared sad friends also immune anxiety every little pain means turn next happening well like actual fuck",
          "baking kick lately watching way many food shows dangerous hobby know since payraise past month decided splurge fancy chocolate high quality ingredients make thought would world impressive brownies recipe called special dark chocolate really intense almost bitter taste personally love spent hours making things perfect fudgy center crackly top whole deal brought work put break room little help note went day feeling like domestic god hour later started noticing people whispering looking direction manager pulled conference room looking super concerned turns everyone thought brought special brownies tasted weird intense fancy chocolate one guy claimed felt different eating three probably sugar rush recently mentioned stressed needing vacation hr got involved talking drug testing someone almost called police explain excruciating detail fancy chocolate purchase even pulled receipt banking app prove bought regular baking ingredients worst part threw away rest brownies cost like make tl dr spent money fancy chocolate made gourmet brownies accidentally convinced workplace distributing drugs",
          "lost best friend year old man life literally since birth bawling eyes right know making right decision hope eventually sees light anyone reading sorry get political never cut someone politics sucks rather avoid politics please skip post grew side side playing nonstop inventing board games taking turns computer play warcraft earliest memories came religious political households grew listening glenn beck rush limbaugh etc got older saw hypocrisy many shows drifted left never problem disagreed believed trying help fellow humans still play video games weekly recently thought friendship unbreakable voted trump chalked usual political divide since though keep seeing genuinely totalitarian things trump friend keeps brushing month ago asked gently research topics said would today talked still supports trump still looked issues raised cecot detentions without due process kilmer garcia ukraine canada list goes pleaded treated like normal political disagreement typical republican issue voted trump disagreed fine vote trump posted multi page essay urging everyone else vote trump shrugs point trump literally running concentration camps going vote someone least willing conversation think cut overwhelmed need somewhere rant conservatives reading know stupid libtard throwing away friendship nothing stay close someone supports man sending people camps bothered research depressed sad upset fine long run today friend hurts thanks letting vent",
          "working footwork past months",
          "soldier surprises girlfriend birthday surprise homecoming proposal finds pregnant part planned surprsie proposal birthday found best news",
          "call centre work mobile se ruapy monthly salary extra work extra payment",
          "hi trying grow clients account need views likes sort convinced let make meme need post perform well please help girl keeping career comfortable",
          "currently undergoing cancer treatment end planning take holiday friend family member travel side world based uk thinking vietnam south korea japan somewhere around never asked brother would consider coming got excited said daughter f son would also come along incredibly picky eaters niece eats plain beige foods even burger mcdonalds chips nuggets pretty much kids diet know brother wife tried hard introduce foods wont eat love two kids bits really however want travel experience food culture major part want get beaten path experience things life brave enough experience selfishly trip end cancer celebrating life cancer also something easily afford might asshole asked brother come travel said kids would come told would rather travel someone else disappointed angry frustrated want travel family feels selfish travelling children also fulfilling would also like spend time child friendly things holiday already gotten niece nephew excited travel make things worse live different countries see lot disappointed learn pulled plug plans feel conflicted aita",
          "australian always hear people go dangerous australia stupid fine snakes pretty fucking avoidable go bush wear thick clothes boots ans stomp around best snake health care world spiders one died spider bite since america get spider bite related deaths year sharks swim water sharks swim around life guards swim close coast avoidable especially tourist crocodile specific area go also america alligators literally dangerous animal could cause harm dingos go desert desert alone tourist dumb also big fyi anyone brings kangaroos telling almost kangaroo attacks see online fault kangaroos skittish animals managed piss kangaroo blaming america bears bears could maul snake gon na painful bite vomit bears could eat limbs leave bleeding death wolves fucking dangerous mfers maul death coyotes also america real actual massive teeth animals could kill also mountain lions actual real predator australia literallydont stupid dumb stay away places animals live fine worst situation getting anti venom bear could leave limbs gone",
          "im professional cleaner",
          "f three children ex kon months ago sister f confessed kon slept together week said regretted needed us okay told mistake got caught moment crush kon needed hate loved wanted us make things work kon even try deny told sleeping around years slept sister sister denied strongly broke immediately told get lost said never wanted see disgusted repulsed care bad felt wanted feel bad wanted hurt would never hurt much right forget got checked broke kon make sure give anything cheating negative stds incredibly thankful amount cheating talked still surprised catch anything ended dating kon rejected story told others said felt guilty needed good come clearly would never give time day true swore would forgive even therapy become secure belief broke relationship beyond repair regardless whether one time believe full affair wrong never come back really care happens died tomorrow would grieve make appearance funeral recently sister found kon cheated cheat passed along stds stis know specifics believe also waiting make sure give hiv although say paid enough attention know big concern cautious thought experience would make forgiving wrong showed place shut door face without saying word showed brothers house heading inside shooed told sorry scared much needed ignored kept going brother told welcome tried time respond told care anything deserves everything got stupid end told needed scared told like found partner years father children cheating could used sister betrayed well cheating said one time would told want disgusting self touch said saw disgusting backstabber told care given every std sun want nothing die hole care seen since apparently distraught also topic gossip social circles lost shared friends shared similar sentiment couple asked even feel little bad cruel turning away second time even apologies said felt like found way work close long time sisters life whatever stupid crap said feel guilty even feel bad kind empathy aita though",
          "done pretending great buying opportunity americans extra cash laying around watching k bleed dip f cking wipeout people lost years gains cabinet clowns saying stay course like bro trying stay alive build damn portfolio stop acting like crash gift slow motion disaster wrecking real people lives",
          "sick tired people saying friends coworkers talking friendly people mean play video games together go bars talk life lonely today people maybe friends days best social creatures need companionship jobs allow make friends people already conversation starter easier walking stranger plus someone relate complain work employers also use societal stigma make hard pay transparency last job friends comfortable asking raise sharing mine nobody got salty someone got good raise say happy edit mean literally every coworker become friend friends literally everyone department friends ish still way abnormal society talking willingness make friends say leave yall get fucked edit saying amicable coworkers hopefully given mean actual friendships go beyond boundaries work also talking managers saying like family huge red flag talking someone work strike conversation realize oh like talking person start friendship way",
          "new manager comes loud talking structure consistency suddenly wfh flex hours swapping pto asked move two days cousin wedding goes sorry make exceptions anyone fair alright put request unused pto days straight end quarter overlap coverage got approved like minutes lol okay couple days later full panic mode wait handling workload dunno assumed plan exceptions right cover deal fallout stuff piled clients got pissy two people quit came back new hr memo managers approve flexible pto case case basis turns fair looks different one getting screwed",
          "dumb cop messes worng fbi agent",
          "years ago worked supervisor like reason since came work job went home end day decided terrible decided performance manage job game wrote vague bullshit asked sign since show hard facts data asked examples meeting ended document unsigned since example tried example time asked often would reviewed feedback feedback would given improvement non improvement would measured solid answer document signed meeting ended next time hr meeting documentation answer questions prior meeting decided smart feedback would given daily via email signed paper gave smug smile next day comes along shockingly zero feedback given email sent rest week get called meeting boss hr paper saying improvement put warning termination oops sorry show emails feedback given daily outlined none meeting ended next day email sent feedback responded facts data response day email sent feedback responded noting gotten follow day responded day email facts data rd day noted gotten answers prior days questions added facts data one cc ed hr person sent back apparently much discussion boss decided hard performance manage someone job work suddenly fine",
          "already seen much civil unrest might well called divided states america wholeheartedly believe countries alienated joined forces invade us would enough public support save entire us either second civil war would start bloodier first maybe states fracture smaller countries kind unrest going since cold war vietnam era maybe longer getting worse know many people hate know pay taxes barely get benefits healthcare system shit late stage capitalism sent everyone except select working class facing recession record breaking inflation mention price gouging essentials rent groceries gas even get started quality food prevalence fast food everyone realizing system rigged make us poor sick long something like last people say enough enough seems like people especially educated people waking called american dream edit matter big military internal strife splintering also people want fight country public sentiment falling think roman empire guys defensible split apart saying seems happening use critical thinking guys need go college real edit muting day expecting blow also getting lot personal attacks righty tighties insult anyone group original post simply wanted open discussion see people felt state affairs sides ones take offense speaks character first impression leave rude personal insults bc make real argument hope day deserve",
          "f moved got boarding school abroad dad cheated mom f woman f time ended divorcing ever since years older past years every family holiday clearly money hes stupid stubborn understand year easter flew back home asked friend mine come pretend boyfriend days home dinner dad pulled aside told felt uncomfortable situation told anything wrong love age told ruined everyones easter selfish bringing someone age dinner flew back school getting messages relatives saying apologize dad break boyfriend responded think wrong hes made life uncomfortable since moment cheated mom aita edit seems like many think lie lol would met friend book club moved us im europe great father figure tbh friends would buy dinner actually spend time hes recently divorced hs sweetheart would spent easter alone anyway therefore decided take show around know immature people know extremely immature wanted show feels thanks lot advice everyone ill update christmas lol",
          "broke famous youtuber houses steal prized possession end broke mrbeast houses subscribe stay wild cam huff stay wild reacts get merch follow instagram youtube ben azelart snapchat",
          "honestly weird go formal interview get job folding clothes flipping burgers positions meant flexible entry level treated like corporate roles someone willing show time follow instructions work enough talking hiring doctor short term hourly position let people earn money without jumping unnecessary hoops",
          "honestly words bought house july learned neighbors old hell think neighbors nosey onery young families moving neighborhood recent years walk tell shopping thrift estate sales furnish cute house morning came home estate sale beautiful wingbacked rocking chair needs reuplostered leather terrible condition previous owner started pulling im unloading bed truck neighbor carol sticks giraffe neck fence starts squawking beautiful said thanks got estate sale triggered parasites brain shit teleported truck starts going much needs chair rock grandkids sleep much would appreciate told got future babies rocked sleep still needs lots work used mind chair large small starts offering money paid telling dont need dont kids yet grandkids little long firmly telling interested selling offered standing bed truck looking driveway firmly said carol im really interested selling please go home pointed side fence apparently shouting aggressive ran home later day husband said something husband getting home game telling edit spoke like dog nasty neighbor husband needs straighten neighbors nuts rude also perhaps house accidentally burns sure wasnt edit tried attach photo chair cant attach community edit meant offense said old hell know barely half way life time trying paint caricature carol neighbors something really wrong folks cul de sac",
          "tesla reported miss top bottom lines first quarter earnings report tuesday automotive revenue plunged year earlier key numbers compared lseg expectations earnings per share cents adjusted vs cents estimated revenue billion vs billion estimated total revenue slid billion year earlier automotive revenue dropped billion billion period last year tesla said one reason decline need update lines four vehicle factories start making refreshed version popular model suv company also pointed lower average selling prices sales incentives drag revenue profit net income plummeted million cents share billion cents year ago brutal start year tesla ceo elon musk spending much time president donald trump white house overseeing effort dramatically downsize federal government president sweeping tariffs plan led concerns costs increase parts materials crucial electric vehicle production including manufacturing equipment automotive glass printed circuit boards battery cells tesla shares far suffered worst quarterly drop since period ended march stock little changed extended trading tuesday company refrained promising growth year said revisit guidance q update shareholder deck tesla cautioned investors uncertainty automotive energy markets continues increase rapidly evolving trade policy adversely impacts global supply chain cost structure tesla peers company said dynamic changing political sentiment could meaningful near term impact demand products tesla faced widespread protests u europe musk actively supported germany far right afd party earlier month company reported decline first quarter deliveries year earlier tesla struggling keep pace lower cost competitors china laggard robotaxi market currently dominated u alphabet waymo company promised launch first driverless ride hailing offering austin texas june company reassured investors tuesday remains track pilot launch austin point begin building humanoid robots pilot production line fremont california year operating income quarter slid million billion year earlier resulting operating margin company cited increase expenses tied artificial intelligence projects one factor decline company would lost money automotive sales without environmental regulatory credits quarter revenue credits tesla receives selling fully electric vehicles increased million million quarter last year energy generation storage revenue jumped quarter billion billion year ago company said growth ai infrastructure creating outsized opportunity energy storage products stabilize grid shift energy needed provide additional power capacity tesla uses foreign suppliers energy business company said increasing tariffs may cause market volatility near term impacts supply demand source tesla tsla earnings report q",
          "dear friend name denzo write letter heart weighed despair desperation find place never imagined place feel completely alone broken overwhelmed life burdens every day become struggle survive owe money someone debt like dark shadow follows everywhere decent meal days gnawing hunger adds constant ache inside trusted called friends left behind needed one turn loneliness hopelessness pushed brink even started wonder ending might escape crushing pain know may sound desperate reaching plea help need money pull back edge small amount could first step toward getting food safety chance seek help desperately need money lifeline everything seems lost find heart help matter small contribution would giving reason believe still hope dark world kindness could spark reignites live helps find way rebuild shattered life thank taking time read plea hold onto hope someone understands pain offer hand desperately need hope left denzo",
          "minute video interview cmo content marketing role started fast paced questions like make great content strategy minutes started glancing looking screen check portfolio website examples related asking also mentioned notes prepared like always interviews suddenly paused pretty hostile tone told eye movements disconcerting super smarmy tone said something like piece interview feedback clearly accusation argue told first time notes prepared every interview doubled started saying something else eye movements point hung zoom call lol found later blocked linkedin even connected still believe weird confrontational anyone else dealt something like edit guys think found interviewer reddit account edit damnit sad guy deleted original comment good thing screenshotted hit downvotes edit cringey ass response someone original comment let see deletes edit deleted response ahahaha thank u mberlight screenshotting well",
          "apologies smart question learning know much stock market finances question economy bad everyone losing money everyone still traveling things like one acting like lost money",
          "currently weeks pregnant second child know gender yet plan finding birth problem husband really wants know think since works lot rarely ever time come gyn appointments see far telling doctor wish find fighting thinks right parent know gender informed date everything says respect wish decide reasons wanting know following husband wants son know fact made clear past already daughter even gender confirmed said wished boy good dad loves girl much pretty sure possibility next child also girl unsettling although admit views daughters sort failure really like attitude want enable support questionable behavior big gender reveal think really matter gender new baby last concern parents mind something influenced anyway says also care wants know mentally prepare difference preparing boy girl babies treated sleep drink fart smile babble cry feels like wants mentally prepare excited happy boy coming terms girl really sit right baby healthy growing enough time accept adapt whoever child gon na think handle disappointment case another girl happy baby really wanted another one happening want enjoy journey peace although care gender afraid disappointed would rub way would definitely dull excitement think neither fair baby hormonal juggling toddler pregnancy exhausting enough mood swings quite lot already think stable enough balance disappointment plan us find birth believe disappointment possible girl gon na secondary joy relief exhaustion much prominent birth first child know excited happy husband hold healthy child arms much softy inside sure smitten next baby well think asshole right know",
          "baby janitor calls boss day long week mopping floors cleaning messes hardworking baby janitor finally picks phone ask boss day tiny cleaner get rest head back work watch hilarious cute moment unfold",
          "watching segment dr caitlin bernard doctor helped year old rape victim get abortion boyfriend said thought abortion completely illegal even cases like made clear supported extreme mindset kirk guy level asked thinks embryo child said yes stem major irked well knowing pre med made feel disgusted shocked told someone held views like left right mutual friends think overreacted say harsh could agreed disagree think something compromise aitah context canada baffles opinions extreme edit female realised stupid mistake enraged writing",
          "know noticing actually becoming problem many people wandering around world complete lack awareness happening around talking type people block entire aisles grocery stores stop front doors walk three people side side side sidewalk expect everyone else walk road mud get around people walk flow traffic block width busy escalator stop soon step wander crosswalk without even looking see car coming need stop accommodating people polite thoughtful considerate need start blatant assholes nothing else seems working say excuse say get way skirt around group people blocking entire pathway walk middle group shove carts way blocking entire aisle tell put f cking phone away stop polite people even care others exist",
          "yesterday last mortgage payment fraction paid every week instead f bought house paid mortgage every week long got married primary breadwinner afterwards proud relieved done old person yelling comes television trained believe would kind document could burn mark milestone yet maybe get kind doc bank mail instead banking online payment comes end day look balance days days morning logged hoping see account balance zero plan screenshot send life celebrate virtually yet log account gone zero disappeared happy gone feel shafted celebratory experience genxers let hitting milestone without anything bote okay ordered whack excellent smoked brisket delivered",
          "edit confuses sheer stupidity worked cia dumb know showing photo would bring geo finder nuts woodwork people found based single trees birds flying sky ffs known thing fake going found left thinking intentional guess knew fake known would debunked would damage disclosure effort sucks like lue silly credit goes user locating exact spot zooming becomes incredibly obvious photo ufo uap even see rivers background leading away fields",
          "f friend f self taught baker recently started small business made great cakes past wanted support asked could make cake mom th birthday told wanted something floral elegant gave examples also told clearly mom allergic almonds like epi pen level allergic agreed paid deposit cake week later went pick proud looked beautiful honestly asked flavor told almond vanilla thought gave upscale taste shocked reminded mom allergic almonds kind brushed said small amount would fine long mom eat much told take cake got upset saying overdramatic ungrateful hard work told could either make new cake paying rest refused mutual friends telling accepted gotten different dessert mom others say right risk mean cause drama honestly hurt ignored something serious aita",
          "back college one semester took bunch books retrenching big project back internet research admissible needed properly cite sources school life got away forgot return books kinda forgot end semester got late library dues bill mail think fees like cents per book per day least books month late money pay library fines could get grades transcript semester instead sheepishly returning books paying fines put books backpack returned correct places shelves called library next day questioned validity letter regarding overdue books librarian left hold minutes returned phone apologizing seemed books fact returned library dues erased hold back transcript",
          "bananas sort beans bananas make feel like punched stomach black beans nearly immobile discomfort ibs got checked simply fact despite tell people getting older",
          "title says year old daughter supposed go dinner friends sleep girlfriends home next town suddenly called said something feel right coming home know feeling came let say sixth sense immensely proud felt something decided go home instead waiting see would happen try hard keep girls safe world live turns teaching trust gut matters know always said think would understand tonight kept save trusting instincts calling us parents",
          "boyfriend f dating seven years early talked marriage kids house whole shebang like kids think good mother like children upset happy life could happy children well boyfriend always dreamed dad recently suggested place start trying little confused told early within first year would never children man married feel like children much bigger commitment marriage marriage come first additionally man love committed enough spending rest lives together see make sacrifice bearing children maybe old fashioned explained awkward said want get married said men get screwed divorces time think marriage important smart choice said fine get married happy life buying house together children together buy house live one rent getting married want really entangle finances way blew said punishing waiting marry said children outside marriage goes outside personal values also told since super idea marriage going marry shut ring gives wants kids want actually want marry okay children marriage table us wants kids needs leave find someone kids without expecting stability return maybe could find someone wants marry maybe maybe kids said distressed emotionally distraught disease much limits life expectancy said kids asap probably otherwise able see adulthood aitah",
          "replying one thing took away physical therapy motion lotion",
          "moving us india tariffed apple bring job back america sign math capital efficiency feelings",
          "artificial intelligence ai continues evolve becoming increasingly clear impact workforce profound ai promises greater efficiency lower costs new industries also poses significant threat many traditional jobs especially involving repetitive rule based tasks americans challenge ahead technological personal economic cultural jobs risk let honest working class getting hit first jobs equally vulnerable ai automation roles involve routine repetitive tasks risk workers prepare ai driven transformation labor market look coming done include administrative support data entry payroll scheduling transportation drivers delivery retail customer service basic manufacturing warehouse jobs even white collar jobs finance legal services journalism starting see ai encroach tasks like report writing contract analysis data interpretation prepare americans upcoming job loss due ai",
          "movies done trend far movie modest budget based recognizable property underperforming flopping box office mike jay seemingly nothing better decided look numbers discuss trend future movies based video games comic books look like long established model theatrical release need change nobody knows even less people care",
          "fiance f engaged months weekend wanted talk basically told read lots stories wife losing libido putting husband deadbedroom week sex said never accept fate neglect sexually likely sex women cheating felt needed tell sex important needs understand gon na guy jerks garage like loser rest life potentially want okay less sex one stunned started cry tried console told cheat got sick sex want neglected sexually otherwise left reconsidering engagement talked mom said saying cheat time cheat busy household responsibility friends said man eventually cheat getting home even leave position man get wrong friends supportive everyone likes especially mom thinks missing lifetime opportunity leave makes mad supportive whole thing understanding acknowledge may feel safe comments telling make decision care mom say life never given reason doubt see bad light best relationship agreed marry get sex important still would men risk marriage filled doubts edit appreciate advice responses please call girl mom calls girl condescending yeah appreciate responses though",
          "nearly years living spot remember cleaned damn thing lied cleaning cleaning litter boxes would literally hop shower feel nastiness still sitting layer slime grossness went strike touched finally broke today today going live music reading local spot told clean litter boxes today showering decided dump em scrub em shower sitting looking orange slime built around tub decided finally done cleaned litter boxes sprayed tub walls curtain hopped scrubbed whole thing cleaning rinsed brown brackish water walls multiple times scrubbed orange slime away done time still barely passable sick believe showering mess begging pleading grown ass man fucking help nasty ass apartment together kicker gets mad get upset things apparently using super special big boy cleanup time voice instead getting frustrated year old man help makes evil bitch understand rude people go figure anyway im done even think realizes continued getting ready went along plans walked door barely see later arguing silently head rest time even bother starting real genuinely worth ruining night anyway needed get chest much could rant feeling like actually screw im done pretty liberating",
          "new us dates sale video complain everything boring sad ok enjoy merch follow watch podcast listen podcast thumbnail comment praying video ur reading thanks watching us tour promo introduction loss colour phones early tech coolest design trend time internet movies tv architecture retail stores happening sad beige consequences",
          "wife terrified aluminum believes contribute alzheimer wearing aluminum free deodorant omg bad like bad know stand come home work time entire house smells like bo dirty laundry hamper emits bo occasionally reaches around neck give hug like getting rubbed across cheek slowly damp sponge actually hold breath pretend like need go bathroom bolt snarky man tell smells woman probably start crying mention whats gentlest way approach summer coming",
          "two daughters graduated college moved back find job house late husband house robert context dad got divorced years ago got remarried robert year old son tom girls good relationship robert fact hated dad filled heads lived dad chose going college robert passed away months ago long battle disease son tom girls dad got remarried last year woman basically witch girls stopped visiting lived rental apartment college dad used pay rent stopped wife fought girls get job pay rent asked could move tom course said yes although knew felt tom moved nice tom also distant days ago expected call needed leave thd house tom bed day sick asked girls look hrs til got back left quickly hour later got text tom asking come home threw room said called sisters help one responded immediately tried call lines busy best come home earlier thinking girls home turned one downstairs entire time said using kitchen appliances hear tom going believe til tom said tried text respond checked phones tried deny right message read response blew called pathetic argued making act like parent placing resposibility knew hated robert fine might little understandable tom kid part treated like knew neglected purpose told one week move started arguing even crying saying harsh acting worse dad new wife said discussion giving silent treatment basically making feel guilty whole thing maybe made wrong decision seeing neglected brother merely resentment hate makes feel upset quite concerned around",
          "almost months surgeries later still feels like world ended day",
          "always early indicator hoes saying intel us regards need",
          "heard mummy daddy pig expecting baby girl simply wait meet watch full gender reveal available exclusively walmart com peppapig",
          "detainees bluebonnet immigrant detention centre small city anson texas sent outside world message week reuters drone flying nearby men formed letters dirt yard facility ten days earlier dozens venezuelan detainees center given notices immigration officials alleged members venezuelan gang tren de aragua subject deportation wartime law",
          "im young like almost everyone know age group often makes feel pressured get think look good also expensive one day might wake decide like anymore removal process even expensive",
          "story reverse malicious compliance maybe anti malicious compliance back story always loved ketchup use lot ketchup hamburgers eat mcdonald ketchup pump unwrap hamburger pump quarter cup ketchup onto wrapper dip bite burger drenched ketchup fast forward today best way get mcdonald order app imagine order hamburger app always hit customize select extra ketchup time burger comes adequate amount ketchup regular amount fine queue imagine malicious compliance sometimes order extra ketchup customization open hamburger looks like someone murdered picking results insides starting slide much ketchup burger think bet employee saw extra ketchup customization said want extra extra ha ha ha ha boy love happens like way burger thanks malicious compliance random mcdonald employees",
          "alright aitah ppl imma need hot takes office drama driving insane f working marketing agency years coworker jess f getting married next month initially invited whole team people wedding like besties besties definitely friendly lunch together sometimes happy hours usual work friend stuff last week office manager sarah started collecting money group gift asking would get us fancy kitchen gadget registry basically budget someone actually friends whatever planning contribute well yesterday got awkward text jess saying make cuts guest list unfortunately accommodate anymore something venue capacity family additions kicker know fact everyone else team still invited morning sarah comes desk asking contribution gift fund politely told since longer invited rather get jess smaller gift sarah looked shocked said team gift contributing full amount would mess group harmony like give single fuck icing cake know wedding cut jess invited old coworker got vp position major client suddenly room still expected drop registry someone please tell truth asshole refusing contribute full amount wedding even attending",
          "creative director large company ever since ai blew suddenly everyone thinks creative get exciting type prompts get something looks like design got prompt egos people think decent midjourney mockup means lead brand packaging ad strategy love ai jsut much call financial expert jsut bc input financials ai get business model first pushed back realized making look insecure let ride watched leadership signed every flashy ai tool ugc software promised crank content faster team ever could guess everything mess software work ai creators flaked ugc platform delivered single usable video weeks packaging typos wrong aspect ratios revenue tanked social accounts dead nothing passed legal tech bros slacking nonstop trying fix problems created cut actual creatives guy tiktok told ai could replace us",
          "used call friend house phone ask friend parent permission speak friend",
          "tw loss miscarried yesterday afternoon pm never miscarriage baby wished fresh sobbing right apologise advance make whole lot sense husband turned yesterday f pregnant mine husband nd child yesterday weeks pregnant day yesterday saw beautiful heart beat flicking screen today devastated playing year old felt pressure lower abdomen long later noticed bleeding let husband know immediately discomfort bleeding long passed believe fetus messaged think lost baby wanted keep updated guess seeking kind emotional support asked could come home said course urgent said think pain bleeding getting worse starting feel lightheaded year old unattended playroom right friends family near could call would get us quicker could clean crawl stairs take paracetamol make son lunch put nap point husband still home working approx mins away took closer mins get back hours later asked stopped tesco pick beers ended poorly losing lots blood lightheaded vomiting etc take e time discharged almost pm last week said make favourite dinner birthday reminded almost home said feeling whatever takeaway wants said fuck sake breath muttered something along lines bullshit ruined birthday stop get takeaway drove straight home put son bed went bed sure see morning already left work messaged day got home hours ago pm giving silent treatment tried speak hour ago ignored called disgrace slammed bedroom door locked bedroom mum since messaged said need patient also loss ask anything obviously speaking mum opening speaking said harsh feeling utterly emotionally neglected right body emotional physical hell understand miscarriage came fucking inconvenient time birthday sure hormones making feel crazy nuts contemplate divorce aitah calling disgrace",
          "started quest find goofiest phones fun low key far many good ideas us leave past check bitdefender scamio free easy use ai chatbot detecting preventing scams spend lot time trying make videos concise polished useful possible would like support mission consider subscribing channel make day tech hot takes personal posts quick tech videos anyone still use anymore amazon affiliate links buy anything support channel allow us buy better gear amazon us amazon uk browser filming gear music epidemic sound",
          "husband posted yesterday sub houseguest hosting friend jeff whose wife appreciate times worn bra around apartment learned seeing photo jeff sent us hanging home husband deleted post lot identifying details really appreciated discussion advice wanted update folks conversation wife morning jen told things become issue marriage things jeff result asked jeff move tonight wish could say based responses yesterday thought folks might want update also advice wearing bra houseguests really bad form eta ironically whole thing asked pose local artist project topless legit moved whole turn events life weird sometimes",
          "unlocking creator search insights guide success",
          "manual help get testosterone levels back within normal healthy range trt service research backed benefits health well results life changing discount home testosterone blood test manual use code mark link car wrapping hit new wheels car hit www wheelmania co uk thank kinetics studios video production photography studios everything possible kinetics studios uk premier destination automotive photography creative content production youtubers influencers founded passionate car enthusiasts visual storytellers built purpose designed studio space blends cutting edge technology artistic precision probably best photo studio facilities uk outside london making everything much easier big thanks follow second channel social media links mark mccann instagram tiktok facebook wife jayne mccann merchandise store",
          "guys think overreacted",
          "got four kids youngest turned five daycare years basically makes village elder parents solid decade two younger moms terms normal smiling always saying good morning like second nature warm pleasant little ritual dads hand peculiar like sort emotionally constipated secret society say hi nod dare offer friendly hey look like asked borrow toothbrush first thought maybe accidentally giving weird vibes like friendly dad clearly get memo nope quickly realized acknowledge either like silent hoodie clad brotherhood mutual avoidance also wife seven years younger objectively less weird noticed seriously happened",
          "ysk measles highly lethal danger poses serious three reasons first contagious disease known humankind spanish flu infection rate measles infection rate second measles hide body years cross blood brain barrier cause death long forgot third extreme danger measles immune system throughout life body contracts fights diseases keeps record fight diseases measles comes burns records next time catch sniffle might turn life threatening lung infection",
          "f girl several tattoos big quite visible boyfriend met like problem invited go dinner family accepted casually mentioned maybe could wear something sleeves start drama asked meant said grandparents old school might react well tattoos said want night awkward told going hide part make family comfortable said hiding respect told respect goes ways pretend someone got upset said overreacting making bigger deal told would go dinner cover tattoos asked please attend going difficult would better really rubbed wrong way made feel confused think maybe behave badly reacted vehemently idea want cause drama family hard time feeling comfortable skin learning deal stigma people towards tattoos want go back hide plus think would honest family either show aita refusing cover tattoos dinner",
          "finally able pin feeling living america anti life whenever talked people like living city tons response like could never cause hate people like living single family home deep suburbs say like suburbs prefer take train rather drive like oh hate around people train like private car like wan na tolkien esque dragons sit big pile gold empty mountain everyone seems seen burden default even inherent value worse negative value constant demand prove existence value deserve people wan na help anyone public healthcare fuck housing homeless absolutely tf even tell cheaper things current system say money fact like people deserve single goddamn thing oh get people started immigration see problem even peaceful lawful residents deported prison another country general indifference violence pain example one reason like cars cause k deaths per year many children school shootings _frequently_ children talking yet people reaction something like idgaf affect cares ability drive supersedes children right alive get feels depressing isolating",
          "except fail mention andor given us equivalent high quality movies budget run times exclude recap intro credits starting director arc hours minutes arc hours minutes arc hours minutes arc say pretty good value investment made feature length movies due delays time esb released cost million million dollars esb massive worldwide gross made serious bank know translates streaming gross even possible compare terms cost make andor relative bargain",
          "daughter multiple congenital birth defects led lifetime complications medically complex kids fix one problem create two lived years probably years long lived life hospitals literally months time would sometimes home week two end back think ever spent two consecutive months hospital entire life went palliative care comfortable hospital anywhere else sad warrior kid whole identity making cards nurses decorating medical equipment tough capital never went school meaningful capacity never played sport instrument never real friends speak never health take real hobbies entire life made surgeries shots nurses fucking medical equipment decorate gave pathetic life single intervention willing put buy time happiest accepting kid ever met last six months done refused listen asked could stop would push shut went along wanted wanted make happy knew done selfish died incredibly agitated upset think scared let go knew going strong enough let go sorry",
          "boom f kids husband livin best soft life got decent job apartment stays clean sleep like baby every night sister f little gremlins age swears person earth ever tired last week hits hey watch kids weekend husband need break lose minds cool say yes hits mean like got anything going kids probably chillin anyway like girl really call free trial version human told flat nah find someone else since chill life apparently stressful enough respected mad mad tellin whole family abandoned clearly drowning selfish cause step like girl disrespected mid request fumbled favor bag mom phone like get upset kids like cute emergency childcare plan cause sleep deprived covered goldfish crumbs aitah refusing babysit shaded whole lifestyle like thriving",
          "last week half probably seen countless articles forum posts praising sandfall interactive new game clair obscur expedition high heavens vehemently urging play reading sizable amount articles posts became quite clear something fishy going obvious goal artificially increasing sales game team dedicated number resources get bottom expose whatever shady tactics work found damning might serious consequences developer boost sales game clair obscur expedition sandfall interactive spent tens millions dollars estimated actually creating amazing beautifully crafted consumer friendly game making fairly affordable techniques allowed boost sales million copies within first week making profit without resorting predatory microtransactions online services overpriced deluxe editions deploying vile tactics increase sales unheard gaming industry recent years apart larians latest grift baldurs gate publishers like ubisoft ea blizzard bethesda accusing gaining advantage unfair methods creating high expectations combat unlawful strategies propose sandfall interactive must raise price upcoming games intentionally implement bugs launch add micro macro transactions use ai development exclusively write disney dialogue characters way ensure industry standard remains time low prices stay time high thanks reading definitely serious post wish nice weekend",
          "boyfriend almost year everything good overall dealing sexual issue starting wear emotionally hard time finishing sex says usually wet reduces sensation asked start kegel exercises vagina grip better also told developed known death grip watching porn masturbating rough way years desensitized first felt guilty started wondering body enough something right even looked kegel exercises considered trying sake recently brought told read posts reddit women tighten kegel really works told think would change much got upset said dismissive claimed something us told comment found reddit like responses found online said must feminists writing stuff honestly rubbed wrong way got frustrated told problem said death grip years porn putting like issue maybe one needs work hung phone talked since wondering aitah saying harsh asking break towards",
          "hey everyone lurking figured finally share something recent trip got back three weeks japan first time traveling alone recently single feeling kind stuck life quit job hated felt burnt booked trip hoping would reset something brain honestly way expected japan incredible started tokyo first night sat lawson eating onigiri felt like another planet loud beautiful confusing amazing kind stumbled way first week got used felt free way years moment want share happened kyoto trying find temple kiyomizu dera phone directions useless must looked super lost older woman walking little white dog stopped said something japanese pointed temple map kinda shrugged smiled motioned follow thought point right direction actually walked whole way like minutes quiet little side streets speak language awkward pointed little things along way like flowers shrines smiled every time looked confused amazed dog kept checking behind make sure still somehow cutest thing ever experienced got temple bowed said thank like five times smiled said something softly turned around walked back way came like nothing helped lost tourist without second thought know moment stayed big tourist attraction simple kind felt really seen moment weird barely spoke travel gives weird little memories hit harder expect still think dog peaceful walk kyoto like dream experience like stranger completely changed day without even realizing",
          "aita leaving boyfriend birthday dinner mom took seat joke f dating boyfriend matt almost two years family close mom particular always little possessive tried make big deal clear like take time made passive aggressive comments like hope lose son girl even though together made every effort kind respectful anyway last weekend matt birthday invited dinner family nice restaurant dressed got gift knew love honestly looking forward night arrived noticed mom saved seat right next fine whatever sat side right ordered mom made joke always need next matt said let see handle little separation literally stood looked said scooch sweetie motioning move seat could sit us everyone table laughed matt included stunned quietly got moved five minutes sat feeling small humiliated leaned matt like date stood grabbed bag said actually think gon na head hope great birthday matt left matt blew phone later saying completely overreacted embarrassed front family take joke mom texted sorry sensitive message made worse speaking apologize honestly feel like rude ones birthday dinner second guessing everything aita",
          "weekend disaster f best friends amy f years guy jake three years honestly walking red flag super controlling jealous always checking location called nine times shopping target amy keeps defending saying protective cares much whatever bachelorette party supposed fun girls night jake kept blowing phone texts facetimes asking accusing acting single kept leaving call back crying apologizing rest us sat awkwardly fourth time left table lost came back said loud enough whole table hear marrying husband signing lifetime babysat jealous manchild amy started crying ran bar half girls followed later night mom called drunk thanking apparently worried jake know stop wedding mom told amy goes wedding pay amy blocked jake moved apartment moved back parents house also blocked humiliating half friend group saying right thing half calling jealous toxic blowing relationship right wedding aitah",
          "oop oop u fresh_peanut_ f boyfriend keeps letting friend come dates thanks u arifault suggesting boru trigger warning manipulation slander mood spoiler baffling original post apr ok got predicament first place boyfriend really likes friend liam like brother saved life etc dates even brought one single friends date could double liam date failed honestly asked bf liam dates says liam lonely nobody else siblings girlfriend boyfriend kind guilts know sounds awful liam fucking package guilt mom died young dad talk anymore liam anyone else talk honestly think boyfriend guilt tripping think relationship anymore nothing changes leaving gone months like sure feel bad liam really know problem also dates movie nights hes going mall hes tl dr boyfriend keeps bringing friend dates basically guilt trips kicking friend also know sounds made still believe much real basically need validation ok break boyfriend whole post relevant comments fjbp ending fully validated based post put foot plan dates tell friend invited period oop said post always like guilt trips letting come saying loud kind made realize manipulative top comment tsukiii ok break sign third wheel relationship spend much time liam wants single dude edit called soon ex boyfriend meet gon na break gon na tell exact reason honestly swear liam though like considering possibility breaking even liam manipulates letting liam come update apr editors note changed initial x xavier easier reading update broke ex gon na call xavier went agreed meet guess brought guessed liam annoyed point told wanted speak privately brings fucking liam uncomfortable break someone front best friend pissed told said wanted speak privately said say front liam eventually get annoyed say thats want liam always private life dates everywhere basically said remember told liams circumstance blah blah blah said something like sorry give fuck liams going right breaking meanwhile liam standing looking confused get back later basically get fight park gets point tell manipulates kicking liam dates everything told liam went like brother xavier saved xavier life dead mom dad absent siblings friends girlfriend xavier looks like got caught something liam gets angry saying like tell really funny really awful time turns none xavier told true liam fiancée real brother sister mom dead anyway definitely broke xavier like minutes later liam dms basically saying xavier told liam wasent comfortable alone xavier thought wanted dates sir said reason agreed fiancée living europe finish study abroad program nothing better xavier flat liar glad broke mad got lied oh well honestly turn events expecting get somewhere tl dr xavier liar turns everything told liam false play game something repost sub oop contact oop comment linked posts remember rule",
          "tl dr cadbury dairy milk bars sold uk manufactured poland provably different flavour manufactured birmingham yes background around three years ago conducted scientific taste test caterpillar cakes published casualuk moderate interest keeping eye similar chocolate based questions high priority friend recently linked concerning claim cadbury dairy milk bars theory goes historically cadbury made chocolate bournville birmingham moved production factories poland bars also sold uk alongside bournville site allegedly inferior raising deep ethical problem essentially knock chocolate sold real thing formal comparison two types made tantalisingly possible identifying codes printed back bars scouring shops revealed shortage obo bars bourneville insignificant number osk bars osk allegedly means skarbimierz poland bars still sold poland alongside birmingham question remains timely properly assess conducted blinded taste test obo vs osk bars determine indeed different rated superior methods two questions study sought answer obo bars different flavour osk bars one generally found preferable objectives explored via single blinded taste test obo osk dairy milk bars purchased shops uk sheffield london obo bars came multipack segment design osk bars expiry dates reasonably matched one chosen random bbe chocolate prepared half segments blinded study team member take part experiment chocolate assigned two numbers split evenly four bowls labelled bowls obo osk sixteen volunteers took part taste test participants make total four comparisons comparison would use two samples different bowls ordered fashion two volunteer comparisons would compare like like one instance obo vs obo another osk vs osk two comparisons would compare different chocolates participants informed purpose including known control trials mitigate placebo effects make volunteer feel able label given comparison different participants additionally reminded different chocolates may fact also taste ordering comparisons randomised subjects balance first level general order different trials second level balance different trials participants tasted obo first osk first comparison subjects first indicated response sheet believed chocolates taste different via tickbox options selected different gave whole number rate flavour worst imaginable chocolate best imaginable chocolate statistical analysis examined pattern responses across individual participant using binomial testing words number participants correctly identified four comparisons terms different compared expected number participants would chance alone see happened often expected thus indicating chocolates fact different two different baseline random chance probabilities used test worked different assumptions manner participants may make decisions one may arguably underestimate frequently correct answers could picked chance another arguably overestimates information given calculation figures end study event significant result posthoc analyses would compare chocolate ratings subgroup participants correctly differentiated two final exploratory analysis participants invited eat additional dairy milk bars sourced south africa coded osa asked opinion bars openly different recipe expected different results sixteen participants six rated four comparisons correctly respect different chocolates binomal test outcome compared liberal estimate event indicated inflated rate highly statistically significant degree p also significantly greater frequency compared conservative estimate event p flavour ratings six individuals consistent within e person rated chocolate preferable times different comparison however neither chocolate consistently preferred test rating scores non significant p pertinently chocolate type rated preferable three members group six south african chocolate called shit like american crap making realise marking polish stuff far harsh conclusion results produce compelling evidence birmingham dairy milk noticeably different flavour polish dairy milk serious questions therefore raised practice selling bars uk shelves product appears little half people may sufficiently developed taste reliably tell apart discerning individuals notice difference rate far greater chance fact results obtained statistically significant degrees despite small size study intentionally challenging statistical design suggestive particularly strong effect strikingly however study different mean better bar enjoyed equal taste preference among foodies group whether absolves cadbury guilt mixing products together authors work comment although encourage legal philosophical experts address issue haste british public urged stay away south african dairy milk calculation binomial test baselines first approach calculating probability person getting four chocolate comparisons correct purely random chance assumed decision making process could equivalent winning four coin flips row event however account expectation participants two comparisons chocolate two different chocolate subjects instructed pick two two way across responses likely motivation pattern answers way arguably equivalent correctly calling four coin flips knowing two heads two tails event human psychology complex true behaviour volunteers somewhere nonetheless figures used analyses explore either extreme",
          "feel like new news needed get real ids mine years point f deadline whole news feed peers acting like sprung us overnight believe feels like one went process update id sitting eating popcorn everyone freaking even big deal huge thing everyone shocked",
          "work engineer consulting side typically people know favor good friend asked help inlaws fairly massive renovations additions agreed solely asked something interest need except favor old house worms written changes wanted warned mil unpleasant understatement seemed think paid charged probably th business would could snap fingers like servant unpleasant emails tolerable rude pointing issues plans nothing extreme changed started trying find time stop inspect areas house verify information offered times stop weekend didnt work tried evening times still nope wanted stop office work hours best told gets done weekends evening went rude incredibly hostile telling paying lol work availability way around cc ed friend chain told fun working whoever get friend apologized said worries problem anymore emailed back quite stunned walking away telling business conducted didnt bother responding three weeks later get email husband asking would reconsider promises wife wont speak involved anyway hear friend quotes came back much higher tolerable long wait bought house wanted move asap incredibly busy time year industry turns companies reach drowning work potentially convoluted messy project arent chomping bit get business going lose trades lined design would month two passed request struggle believe would kept check desire bail friend didnt care said nice watching attitude give consequences actually effect",
          "kindness ekels society alive",
          "hi everyone seeking support help finance tertiary education active social media advised platform could help connect kind hearted individuals willing assist created account contribution matter small would mean world bring one step closer completing degree thank advance generosity support",
          "keep seeing posts reading parks coffee shops even public transport somehow peacocking act showing believe almost everybody public transport around busses rail stations free newspapers ones buy lots people travelled books never saw someone book thought must reading flex literate becoming acceptable read home alone curtains drawn incase anyone sees showing",
          "recall realized elon musk entire life qualifications career engineering knowledge total fabrication pre approved mods break work mid read newspaper article pimping latest snake oil vaporware said something boss time would say time time boss liar crook took credit every success placed blame every failure happened anywhere near textbook example narcissistic sociopath clicked brain realized musk like boss never created single thing comes idea tells people get work assigning due date absolutely basis reality similar march th cobble together month release going awesome like joke funny makes promises others fulfill taking credit work everyone else develop technology exist real engineers invented distaste took year morph loathing everything stands intervening decade never let continuing grift shady behavior lying around bad behavior noticed years ago",
          "husband posted yesterday sub houseguest hosting friend jeff whose wife appreciate times worn bra around apartment learned seeing photo jeff sent us hanging home husband deleted post lot identifying details really appreciated discussion advice wanted update folks conversation wife morning jen told things become issue marriage things jeff result asked jeff move tonight wish could say based responses yesterday thought folks might want update also advice wearing bra houseguests really bad form",
          "reported axios trump shaken monday meeting ceo top retail companies like target warned disrupted supply chains due china tariffs would mean empty shelves soaring prices soon imagine optics bare shelves around country would look maybe get exemptions trump crony capitalism marches huge number small businesses go somewhere xi smirking",
          "source big box ceos flat told trump prices going steady right go food told shelves empty administration official familiar meeting told axios another official briefed meeting said ceos told trump disruptions could become noticeable two weeks",
          "blogging dead evolved began online journal grown powerful tool building authority growing audience generating sustainable income whether solopreneur side hustler small business owner blogging still one smartest ways earn online success come overnight takes strategy consistency knowing works today guide break path smart bloggers take turn writing steady source income blogging still works despite explosion video content social media blogging continues thrive search engines still prioritize quality written content people turn google every day questions blogs offer valuable answers continue rise top according hubspot study businesses blog get website visitors especially important american entrepreneurs looking build authority competitive niches real world example nerdwallet nerdwallet personal finance company built multi million dollar brand primarily blogging publishing seo optimized content answered common money questions attracted millions readers converted users affiliate partners services smart blogger path steady online income",
          "wanted share really clicked two guys explained maybe help others talking women public might seem cold uninterested man tries make friendly small talk something nice even intentions good get women rude arrogant least respond niceness matched energy sometimes avoid altogether gave best spot analogy could know walmart best buy salesperson rep trying stop ask mobile wi fi provider already know times question opener want sell something sign waste time nicest thing avoid interaction entirely personal least rude efficient way get want go business peace mean bitchy way would stop tell f loudly say us prefer avoid whole situation possible lot women random men approach strike conversations public us learned interaction easily shift escalate carry expectations sign seems simple worked thought would share",
          "happened yesterday still cringing hard might never step gym f recently started going new gym insanely cute guy works around time trying find courage talk couple weeks yesterday finally decided time saw deadlifts thought okay casual compliment easy walked smiled said lats majestic wtf majestic thinking idk said meant say lifting lot nice form literally anything else looked confused said uh thanks panicked decided walk away die locker room trying speed walk away embarrassment tripped medicine ball someone left way face planted floor knocked wind hard breathe like seconds trainer saw happen thought heart attack started actual cpr protocol could wheeze fine cute guy helped hold legs got oxygen pretty sure died inside anyway cpr girl gym yes still plan go back tl dr tried flirt hot guy gym said something incomprehensible tripped ended getting nearly resuscitated front",
          "tired shows want see selling seconds seeing listings stubhub seatgeek vivid seats etc x original price inconvenient would required go person purchase paper ticket simply sell tickets online would people really want go attending would take longer show sell high demand shows still would maybe days weeks seconds extreme print id ticket time purchase must match id attendee time entry show date",
          "new co worker claiming ex para trooper seem know basics like joined left first stated joined immediately school fit age also claimed years originally pointed changed years also said utrinque paratus moto para regiment get reference obviously something accuse someone without concrete proof whole thing stinks",
          "son classmate f ish talks lot every time mentions always called angel thought adorable got first ever crush omg cute today picked school going something funny angel started teasing always calling cute nickname looked total confusion said mom crush name yes girl literally named myangel imagine creep factor everyone including teachers forced literally call angel yikes",
          "f work team apparently reading emails considered revolutionary act big client presentation last week manager sent detailed prep email schedule dress code talking points literally everything guess many people read one presentation day show time dressing formal fully prepped notes teammates roll minutes late jeans hoodies looking like woke back uber eats order client already looking us like paying step guide presentation cover everyone blank stares even close deal client happy manager thrilled teammates happy apparently claim showed made look unprofessional one even said dressed team unity sorry next time roll wearing bathrobe hope best yeah aitah one read actual instructions saving meeting",
          "okay bear know sounds like conspiracy territory think sit right let look facts timing impeccable right campaign floundering terms public sympathy momentum suddenly becomes survivor failed assassination attempt cue media frenzy rally cries instant victim turned hero energy injury ear lethal life threatening enough dramatic leaves visible mark without disabling perfect setup comeback photo op effect people previously saw reckless power hungry suddenly seeing human side wounded man supposedly targeted telling truth reframes underdog even martyr historically narratives win elections rollout way polished speeches videos statements ready go like part campaign strategy panic production feels like play right authoritarian pr handbook create chaos survive publicly watch approval ratings climb seen tactic manipulative emotional propaganda masked patriotism saying definitely staged saying hell lot convenient convincing curious anyone else gut reaction alone hill edit dixi ago posts like absolutely flagged investigated federal authorities title u code threatening president federal crime anyone crossing line face prosecution protected speech direct threat national leadership found guilty face full weight law treason defined constitution specific narrow charge actions promote violence government lead serious consequences including imprisonment calls harm opinions criminal acts time stop tolerating guise free speech ai used track cowards identify bring justice hate country much maybe el salvador gitmo exactly belong uh oh come",
          "american media stocks tumbled monday president donald trump unveiled tariff movies produced outside u latest levies could sharply raise costs hollywood studios roil global entertainment industry trump announcement light details say whether duties target films streaming platforms shown theaters specify tariffs calculated based production costs box office revenue streaming pioneer netflix could particularly risk relies global production network produce content international audiences shares slumped premarket trading leading slide media stocks source",
          "jumping conservative hate train yeah awful ashamed question still somehow fence countries historic ruination often hear phrase sides bad someone clear political side cruel inhumane trump right wing minions running country know anyone pretend left equally evil biden worst incompetent democrats shot foot allowing senile bastard run even another primary finally realized old see happens republicans majority power government blatantly clear right owned rich exploit masses moving tax burden us reckless addition tariffs get tax cuts essential government programs shut anyone tell left bad",
          "needed get president alone april financial markets going haywire treasury secretary scott bessent commerce secretary howard lutnick wanted president trump put pause aggressive global tariff plan big obstacle peter navarro trump tariff loving trade adviser constantly hovering around oval office navarro one back policy debates stridently urged trump keep tariffs place even corporate chieftains advisers urged relent navarro regularly around oval office since trump liberation day event morning navarro scheduled meet economic adviser kevin hassett different part white house bessent lutnick made move according multiple people familiar intervention rushed oval office see trump propose pause tariffs without navarro argue push back knew tight window meeting bessent lutnick trump schedule two men convinced trump strategy pause tariffs announce immediately calm markets stayed trump tapped truth social post surprised navarro according one people familiar episode bessent press secretary karoline leavitt almost immediately went cameras outside white house make public announcement liberation day steep tariff percentages put day pause navarro different room april th morning makes wonder risk tariffs unpaused",
          "unfortunately learned hard way work small business put huge emphasis everyone friends building strong team means hurts someone inevitably stabs back saying go around dick people reason better build relationships outside work places politics power imbalances",
          "comment linked posts op original post u ok hospital r advice r collegerant credit u direct caterpillar finding one trigger warnings abuse authority professor secretly docking points anytime sees someone phone dozens us risk failing kept phones desk might lose job lined graduate also posted collegerant april professor recently revealed docking points time sees anyone cell phone lecture even lying desk using docked points alone even text lectures keep phone face desk habit late semester risk failing class pay thousands dollars afford another semester lose job lined graduate talked smiled referred single sentence buried five page syllabus says cell phones visible lectures never called attention said anything rule looked smug like court case instead screwing random struggling college kid contrived loophole far tried speaking professor tried submitting complaint school grade appeal system denied without explanation seem way appeal tried speaking department head seem care literally said important read syllabus feel like options know comments replies additional context commentator might trying scare intention actually deducting points spoke anyone previously took class op yes actually came light trap pulls semesters people knew word mouth careful get memo neither bunch kids class shock serious docking points commentator syllabus even say anything docking points looked syllabus says retains discretion adjust anyone grade light infraction edit clarify unfortunately infraction referring phone well number things listed paragraph like readings etc read like boiler plate paragraph middle long syllabus never thought enforce rigidly harshly even register phone desk could even infraction commentator reply deleted comment professor nah go see thr dean person encourage others go well professor nah go see thr dean person encourage others go well tried ability meet person dean department head high walk meet far tell update april post removed recovered dc believe much original post blew implemented much advice got crossroads background original post see tldr professor secretly docking points students time phone visible class based single sentence buried syllabus phone resting desk facedown using docked points visible consensus escalate issue advice got great things track yesterday update update read everyone feedback emailed dean school newspaper response know least two students class tried emailing dean well without luck ran math guaranteed fail class deductions stand nothing lose wrote petition one taken seriously coming us individually think important show couple disgruntled college kids whining bad grade plan get signatures send petition dean school newspaper hit small snag reached five classmates trust signing petition get ball rolling thought great idea feel comfortable first people sign get around someone last thread suggested using website bopetition com lets make signatures start anonymous un anonymize enough people sign way one first person sign hit major snag yesterday getting ready send petition professor sent us email attaching amended syllabus amended syllabus exactly except paragraph says grade disputes must raised exclusively grade appeal system attempt dispute grade alternative channels including limited direct outreach faculty professor name result automatic failing final grade zero percent without exception welp thought end one would interested signing surprisingly three people spoke independently messaged asking still going petition promised would sign pissed think new policy retaliatory three people even talked reached said heard planning send petition would sign sent think bunch others would tell heard petition cats bag sure exactly many others grade docked phone policy asking around seems like least half class kind deduction decide proceed light update syllabus considering going petition app make fully anonymous plausible deniability final result would say people class signed relevant comment chain commentator okay teaching higher ed years seems like professor trying get actually job unethical hell playing people lives docking points without upfront kind thing would ever biggest red flag basically end semester means anticipating bunch people trying dispute grades give bunch failing grade policy like sit actually much grading impression getting also want tell see whining gpas really affect ability engage forms professional development got bad grade one class undergrad gpa never recovered explain gpa applied grad school always taken grading really seriously sorry jerk commentator op gotten dragged every sub posted glad another person higher ed agrees teaching higher ed ft years adjuncting student teaching since experience policy like absolutely would fly especially considering vague penalties hell told even restrict technology classes many students accommodations note taking software recording lectures etc allowing student use accommodations one else essentially outs accommodations new policy professor trying implement clearly retaliatory seen professors disciplined crap like trying make students afraid question complete abuse authority op thanks lol surprised rule punishment oriented college subs reminder original poster comment linked posts",
          "throwaway account try stay anonymous possible though incident probably specific year ago f sister f sent save dates getting married less week son th birthday since family country son never big birthday celebration sister planning post wedding brunch day ceremony reception asked would ok could something son afternoon since family already gathered wedding loved idea ran son reminded something friends actual birthday happy idea even chose venue away hotel staying sister feel encroaching wedding good far problems six months ago invitations came rsvped son ex husband picture meal options beef dish fish dish rsvped beef dinners problem told wrong reception yesterday almost year old son given child meal chicken nuggets steak fries told server mistake rsvped beef dish server took plate brought beef dinner two minutes later clarification child free wedding kids aged brunch today sister pretty much ignored really cold talk ending asked still coming son celebration since seemed like mad pulled piece paper said maybe come pay paper invoice made extra dinner confused asked apparently nearly year old son supposed get child meal caterer charging sister additional fault provide additional meal told rsvped chosen adult meal months ago year old would anyone think meal chicken nuggets handful fries would enough became big blow sister turned people take sides surprise son birthday party ended disaster almost one attended sister bride makes rules day even mom skipped sister inconsolable everyone telling sucked could taken mcdonald afterwards still think perfectly reasonable really wrong wedding etiquette",
          "tried person drinks black coffee looks cool grown every time take sip tastes like hot dirt people actually enjoy get used time trick making taste better suffer like",
          "ysk could save thousands protect future may u department education commence collecting student loans five year hiatus going throw thousands american lives chaos know rights dealing collection agencies u department education begin federal student loan collections actions help borrowers get back repayment starters legal advice collections agent california student aid commission csac working third party collection agency lot likely changed date today invite anyone information contribute comments know rights u citizen debt begin reviewing fair debt collection practices act found federal trade commission site every collector boogey man breaking rules result person debt debtor suing collection agent agency etc loan waived damages paid pay particular attention section outline way communicate considered harassment know repayment options available find information repayment federal student aid website always options repayment saying realistic experience hide head sand find information default payment plan options experience better options repayment default time two main solutions consolidation department education rehabilitation plan anyone still actively collecting recently job please comment whether still exist rehabilitation possible best path forward nine month program admittedly high monthly payment would put loan back good standing repair credit hit received falling default making voluntary payments even small ones helps know debt every penny counts however news probably already alerted hopefully reading contract time signing government garnish wages social security way escape therefore sending month balance help stave government ability garnish making best faith effort repay complicates involuntary collection activities additionally helpful keep ever increasing interest bay help prevent loan bouncing across offices understand happening loan loan fallen default important understand going happen impacts pay much pay end day loan default packaged portfolio defaulted loans example let say portfolio built people defaulted student loans portfolio bid third party agencies specialize debt collection loan transferred government dinged collection charge remember exact phrase amount something around loan balance means loan time went default moment arrives third party collection agency get interest hits daily balance sure specific percentage people eventually talked floored thought years failed payment end though first collection agency fails collect balance portfolio shopped around agencies initial collection charge gets tacked onto balance time leaves office therefore time left office go another balance would moment arrives next conclusion hope information help correct anything said provide insight recent collection practices also happy answer anything based upon past",
          "known emily years best friend one always side asked buy wedding dress hesitate marrying cousin jack guy years seemed perfect together came bachelorette party something felt emily disappeared hours came back acting strange friends visibly uncomfortable one said anything pry business found happened week wedding mutual friend told saw emily cheating jack one friends bachelorette party quick mistake full betrayal stay silent let get away especially man always loved respected plus jack family tell reached told everything details went party needed know truth crushed deserved next day emily called panic crying cursing wedding jack sent message everyone explaining happened wedding canceled emily lose jack lost respect everyone knew know pay back seeing jack free lies emily face consequences actions enough",
          "us refuse buy multi pack chicken breasts stringy slimy look taste bad",
          "office yesterday coworker came chat got talking proposed cuts retirement etc started ranting congress voting reduce benefits well proceeded tell voted trump every republican ballot option understand retirement benefits impacted perfect leopard eating face moment perfect summary dumb america",
          "want give update situation original post happy gave birth daughter four months ago shes first child honestly rollercoaster ride husband great problem started mom day one mil involved visited hospital day gave birth constantly hovering offering advice ask chalked excitement things started getting weird began referring mommy holding daughter first thought misheard kept gently corrected laughed like silly told husband made uncomfortable agreed odd want confront according next time said calmly said please call mom around daughter confusing frankly role looked shocked told overreacting babies understand titles age stood firm said maybe soon mom grandma special title got upset left early later day got long text embarrassed expressing lov territorial insecure laws saying hurt feelings apologize like trying replace think insecure want clear baby one mom aitah telling mil stop calling mom baby update thanks everyone commented reading responses really helped feel grounded wanted give update things definitely escalated unexpected ways confrontation dramatic exit mil went full hurt grandma mode told extended family banned seeing baby accused trying kidnap granddaughter group texts got wild flying monkeys started chiming need help babies care call anyway respond husband finally stepped called directly told needed respect boundaries would consequences cried said trying love baby way knew turning posted photo holding daughter facebook caption mommy girl publicly tagging family breaking point immediately texted said respect fact mother going take break visits husband backed since limited contact polite texts occasional check ins person visits apologized far life lot peaceful gotten icy texts couple family members surprisingly others reached privately say similar issues respected handled thank support",
          "turned th felt good maybe even optimistic next chapter th nowhere foot starts hurting st fully swollen walk pain bad sweating sheets er says gout like medieval king disease cool cool fast forward last night laying bed trying sleep finally damn bug flies ear grazed buzzed near ear deep panicking trying stay calm girlfriend next trying help says omg bleeding calming tried flushing water warm water tilted head slapped shit trying get thing google diy nonsense nope still feel flapping around like paid rent urgent cares closed like go er wait time hours nurse says come back morning try go urgent care open since im pain physical go home bug probably dead ear feels like haunted cave meanwhile literally first day could fully put crocs gout foot work tired slightly traumatized slightly impressed survived yeah happy th hoping low point movie inspirational music kicks",
          "work charges day parking parking garage really adds supposed pay pockets pay found parking spot bottom floor garage way corner dark quite well hidden back car spot put neutral push gently rests wall wall completely blocks rear plate front plate parking attendant happen walk way corner easily read plate see many coworkers complaining prices showing parking tickets got forgot pay day far gotten ticket eventually get ticket think point pay start taking public transportation work",
          "house sitter dog watcher number years truly easy money excellent odds place cleaner left vacation work trip collect mail organize date delivered wash towels bed sheets never guest etc etc however unknown every person let house sit going go things specifically clothes mainly clothes open go every closet open go drawers dresses suits bathing suits sweaters pants skirts underwear scarves jackets hosiery hats going take look really like something really catches eye gets heart going try stand front mirror see fits wear around house see feels especially married woman reason things particular love look wear yes thrill something supposed thrill possibly getting caught sexiest outfit mainly thought nice enough buy wear want see done fold back hang exactly found never know know asked house sit started back high school friends would party everyone outside go upstairs see mom tucked away try see looked fold back put away like nothing ever happened started house sitting found could free reign sneak around sure sounds incredibly creepy like breach trust looking advice wanted get chest looking back feel wrong regret",
          "physically take anymore asshole stress seeing shitty goddamn eos closing offices made pots flareups right bedbound mention health started somewhat failing hell get impeachment conviction happen fucking take anymore edit gon na suggest murder fucking funny yes passive aggressive shockingly notbeinb able leave bed let alone house puts bad mood edit like half comments advocating murder proposing actual realistic solutions good lord edit honestly lot comments saying hopeless considering weegee tonight lol trans man already make enough rent every month guys really think got gun money nah fuck taking easy way",
          "think fits social issue created politics hope removed scrolling insta saw way many posts way many likes glorifying woman yelled slurs year old autistic black kid comments filled act like one get called one west healing even women inspiring misogynistic racist let get fundraiser million queen actual fuck straight mask unapologetic racism feel safe confident say stuff like hate speech policies social media platforms allowing world going terrible direction hands genuinely afraid",
          "brother got married bride sister law specific expectations wanted everyone family wear wedding colors people flew state everyone made effort make feel celebrated day wedding made offhanded clearly pointed remarks side family never takes anything seriously expecting us take seriously either comments made rounds feelings hurt wedding even began still showed looked great participated fast forward getting wedding photos video single photo side family posted one entire minute highlight reel faces family except second clip parents bride groom rest us like never existed texted cordially asked could send pictures siblings since none posted responded never took pictures wild remember helping people adjust corsages doubled gaslighting gave six months asked suddenly idea talking fine petty revenge comes getting married days engaged months planning moment since tried erase us hired great photographer videographer know videographer secret mission make look like getting attention track hover near like star show feel seen final cut appear even one second like made sure even invite originally word must gotten cornered family dinner said unfortunately work day wedding still able make stunned said fine airbnb booked whether coming ugh cope spelled name wrong wedding invite purpose first move video blackout last asking advice asking mean exactly fair happy finally talk freely",
          "nose piercingyou know healing process tricky worked best experience bumps infections share best aftercare tips comments",
          "got ta heart heartbreak",
          "female works primarily male dominated field truly love job probably best one far coworker issue one coworkers found dating app well said brother found asked worked due specification industry worked location working day made discovery upon finding said dating app made point let everyone know found odd anyone else care realized damn desperate fashion workplace field general male dominated years younger majority coworkers exception guy spread info couple others care initially presumed would blow indeed others bring mocking teasing way quite regularly really funny first time definitely second third fourth time want highlight intention feel playful instead delivered demeaning way occasionally get unsolicited advice appearance coworker looking advice situation without turning hr fiasco plan stay job mid want make next year enjoyable say next time another coworker brings something really embarrass perhaps advice appreciated thanks",
          "past months beautiful digital relationship raid healer always kept alive boss fights whispered sweet things like pulled absolute moron called brave little tank naturally sparks flew started sending transmogs shared garrison gave full priority loot even love makes wild things eventually worked courage ask wanted meet irl said sure way greg greg lives ohio beard could tank mythic razageth turns greg healing emotional magical damage whole time met beers talked raid mechanics crit hug anyway still getting healed still raiding think might stable relationship ever shoutout greg best healer best bro honestly kinda radiant mooncloth",
          "works full time never really talked personal life weeks ago noticed small note near register trying get custody year old brother losing parents drama quietly trying keep family together people started pitching regulars donated someone made gofundme café owner matched one knitting ladies comes every morning gave spread little raised enough cover legal costs found shift stood wiping counter tears eyes little brother comes sometimes school backpack muffin homework corner table one quietly beautiful things ever seen",
          "f recently inherited decent sum money dad passed away unexpectedly january biological child never legally adopted stepbrother stepmom son first marriage known since teenagers always polite never close dad everything left clear even lawyer present went last year stepbrother mentioned know intentional oversight lawyer said ironclad estate settled stepmom reached asking willing right thing split money stepbrother said told cold selfish dad would wanted kids taken care snapped little told kid never adopted son include definitely never treated us got college helped tuition stepbrother said needed learn responsibility sucks relationship mine fix half extended family calling heartless even boyfriend said gets upset asshole keeping money exactly dad left",
          "need rant see anyone something similar still fuming interview process went last month small growing digital agency reached linkedin web developer position seemed legit portfolio decent work offering competitive pay two interviews asked complete technical assessment build functional landing page one potential clients tourism industry provided mockups asked working prototype specific functionality spent three days building thing responsive design custom animations booking form integration even added accessibility features request feedback absolutely brilliant work exactly looking radio silence week response follow ups yesterday friend works tourism sent link hot new website local tour company exact code live minimal changes simply taken assessment made tweaks delivered paying client immediately contacted agency owner nerve say assessment materials clearly stated submissions become company property checked emails nothing like ever mentioned sending invoice consulting lawyer friend already made least k free labor anyone else experienced level scammy behavior even looking advice point want know alone dealing vultures masquerading legitimate employers feeling pretty defeated right",
          "back college one semester took bunch books retrenching big project back internet research admissible needed properly site sources school life got away forgot return books kinda forgot end semester got late library dues bill mail think fees like cents per book per day least books month late money pay library fines could get grades transcript semester instead sheepishly returning books paying fines put books backpack returned correct places shelves called library next day questioned validity letter regarding overdue books librarian left hold minutes returned phone apologizing seemed books fact returned library dues erased hold back transcript",
          "know apparently americans huge tendency lean things like walls columns counters standing around shift weight one leg curious american specific thing also everyone else stand weight feet hurt guys stand straight feet like soldier",
          "unacceptable census know ended nothing ok happen people right exist lives importantly people must stopped",
          "name one biggest lies ever sold people subtle widespread deeply shaping small insignificant universe wrapped science sounding language whispered education systems media modern culture speck rock spinning around star random universe meaning worldview strips life purpose beauty depth existence real connection thing lie come science came people chose interpret yes universe vast vast mean meaningless tree question sky size grows toward ancient ones satellites equations already knew part something cosmic sacred intelligent feel small looking stars felt woven real truth universe universe conscious life aware life human part source moves everything people believe lie insignificance become easier control accept empty systems chase distractions forget power intuition connection land source yeah space might vast spirit awareness far vaster",
          "cleaning satisfying dirty flooded carpet",
          "old lady tells delivery driver deliver building",
          "get something put preferences change still anytime ask chatgpt question starts something like yo bro totally valid deep dive asking honestly big researcher energy ask stop straight forward like hired older millennial asked think gen z talks updated model big deal wondering anyone else noticed change",
          "ysk unlike humans dogs instinctively mask discomfort survival trait limping sleeping sudden clinginess withdrawal changes appetite licking one specific spot signs something wrong many owners miss early warnings assuming age mood catching issues early like arthritis dental pain internal problems save dog suffering reduce long term vet bills something feels worth quick check",
          "might wrong honestly think would love hear outside perspectives daughter f got engaged recently came visit us fiancé live states away get traveling tiring happy host weekend guest room set miniature wargaming past years space go decompress work honestly spot house fully mine wife sunroom rest house kind communal got thousands dollars models custom terrain printer setup etc hobby investment frankly form art anyway arrived office couch made pull memory foam decent blanket clean daughter seemed fine fiancé kind made face later asked sleep guest room told plainly available guest room anymore studio later night daughter confronted privately said selfish ridiculous two nights said felt unwelcome like prioritizing plastic figurines family told fair place sleep like made sleep floor wife giving cold shoulder said could packed weekend like toys throw box fragile half painted want spend days reorganizing undoing work like setup left day early getting texts daughter chose hobby happiness seems dramatic might asshole maybe could moved stuff around nights really think fair expect dismantle entire setup someone want sleep perfectly good pull right space right",
          "full stop believe truly beyond saying headed towards feeling admitedly hopeless help aside holding line even quitting believe power else feds continue support constitution mission country looking insight hope",
          "aware economics sure bad things happen however think reveals economic system whole sustainable even economy shit care less point pretty much everyday mourn born era highest human population ever even simple resources suffer population pressures good gdp average salary stock market nothing individual see reason go way reproduce nation happy strain earth lessened hope someday bison roam praries see wolves regularly mountains maybe utopian fewer people first step thats would need happy anytime hear declining birth rates fewer people born etc secretly become optimistic post probably ill received rant",
          "want start saying bf absolute best person world cookes cleans dies laundry like everything often quite demanding job recently nowhere made joke women inferior men said something sense ugh women make things worse society kinda taken aback first time heard say something like reprimanded like saying things told joking answered jokes supposed funny said something made furious well take joke hate gender like hell asked elaborate work male dominated sector come home late working home entire day later day made similar joke snapped promised never joke like happening never problems like media consumes makes say bullshit always beeb actually progressive man ever met even became couple know anymore feel like first sign incel behaviour want marry man overthinking tl dr feminist bf made unfunny frankly sexist joke told find funny hate woman edit totally expect anyone read post really thankful perspectives support since reading comments talked showed post seem agree misstepped said think talk later side note come realise men workplace immensely chauvinist sexist may low standards progressive means guess lot learn well thanks time concern",
          "donald trump tariffs already triggering thousands layoffs american manufacturing plants mostly midwest east companies ejecting workers wake trump purported plan use levies bring manufacturing jobs back country",
          "shower check testicles changes size shape hardness something changes go doctor today tomorrow next week dry make appointment tc one aggressively spreading cancers also one easiest cure yeah said cure remission incredibly low recurrence rate treatment guys check nuts loved ones make sure die embarrassment",
          "rented small event space surprise party place looked nice online decent price host seemed polite enough event nowhere hits deep cleaning bill said left place unusable wild barely used kitchen left cleaner found asked proof sent blurry photos trash even appealed booking platform denied clearly running side hustle scam hundred booking hope one fights hard cleaning found business every platform could yelp google facebook event site left detailed calm star reviews photos event showing spotless place left turns one reviews picked traction others came forward scam within weeks rating dropped last checked offering bookings guess someone trying clean reputation",
          "edit breaking seeing glimpse future via responses realized eventually wreck us thank boyfriend tons food restrictions picky general basically eat chicken fingers grilled cheese mac cheese pad thai ive never seen eat vegetable started dating months ago love eat everything laid back know plan entire day around finding food eat top listening complain things even restaurant chicken fingers mac cheese get home dont want hear im vacation aita feel bad",
          "female works primarily male dominated field truly love job probably best one far coworker issue one coworkers found dating app well said brother found asked worked due specification industry worked location working day made discovery upon finding said dating app made point let everyone know found odd anyone else care realized damn desperate fashion workplace field general male dominated years younger majority coworkers exception guy spread info couple others care initially presumed would blow indeed others bring mocking teasing way quite regularly really funny first time definitely second third fourth time want highlight intention feel playful instead delivered demeaning way occasionally get unsolicited advice appearance coworker looking advice situation without turning hr fiasco plan stay job mid want make next year enjoyable say next time another coworker brings something really embarrass perhaps advice appreciated thanks update thank much advice overall validation currently work still mulling things considering chat said coworker see today",
          "f one four siblings stayed contact mom dad died became fulon hoarder kind house smelled like ammonia dead mice piles trash actual mold walls everyone else cut contact said much mental health wanted remember visited every week bought groceries managed meds cleaned literal human waste floor fought refused help watched slowly deteriorate lived lives died last year one found left everything house savings little lawyer drama handwritten saying everything name one cleaned house paid pocket professional hazmat services got appraised worth nearly k suddenly siblings reappeared saying manipulated isolated split four ways one said profited illness profit lost years life peace almost marriage trauma told said want alive get claim worth something threatening sue feel guilty feel tired aita split ways get back",
          "two daughters graduated college moved back find job house late husband house robert context dad got divorced years ago got remarried robert year old son tom girls good relationship robert fact hated dad filled heads lived dad chose going college robert passed away months ago long battle disease son tom girls dad got remarried last year woman basically witch girls stopped visiting lived rental apartment college dad used pay rent stopped wife fought girls get job pay rent asked could move tom course said yes although knew felt tom moved nice tom also distant days ago expected call needed leave house tom bed day sick asked girls look hrs til got back left quickly hour later got text tom asking come home threw room said called sisters help one responded immediately tried call lines busy best come home earlier thinking girls home turned one downstairs entire time said using kitchen appliances hear tom going believe til tom said tried text respond checked phones tried deny right message read response blew called pathetic argued making act like parent placing resposibility knew hated robert fine might little understandable tom kid part treated like knew neglected purpose told one week move started arguing even crying saying harsh acting worse dad new wife said discussion giving silent treatment basically making feel guilty whole thing maybe made wrong decision seeing neglected brother merely resentment hate makes feel upset quite concerned around",
          "work digital marketing company thinks google without perks snacks flexibility fun office culture laura laura new team lead master degree leadership overpriced private school latin motto absolutely real world application showed day one color coded notebooks laminated daily affirmation desk energy someone thinks girlbossing personality trait uses phrases like vertical synergy unlocking cross functional efficiency aligning kpis vision completely unironically day started came introduce bring much suitcase arm like going read coffee like statement intent like look kind things read leader anyway last week sent email whole team said quote noticed people getting little relaxed start times beginning monday expect everyone desks sharp earlier later thanks earlier later say less normally get work around grab coffee chat coworkers go emails calmly hey dot wants get monday rolls around walk building scan badge power walk desk open laptop laura pings teams hey everything okay saw rushing replied screenshot email response went week every day arrived exactly coffee hand sometimes still wearing jacket looking like rolled bed slowly rest team caught started nobody showed early got weirdly synchronized like part corporate flash mob tuesday scheduled daily standup one joined appeared like clockwork friday another email hit inboxes thanks punctuality week starting monday feel free manage time see fit long work getting done trust like went back showing little early warm coffee zero passive aggressive micromanagement thanks leadership laura",
          "stereotype maga full misinformed racists true another reason act way edit special member maga claimed evidence kilmar ms trump sexually assaulted e jean carroll take someone like seriously",
          "f boyfriend attended mutual friend wedding close friends us brought boyfriend together boyfriend coming year anniversary things getting pretty serious enough much wanted marry sweet chatty typically considerate empathetic person thought first show truly healthy compassionate relationship like serious us long talks marriage seemed agreement formal declaration even gotten far looking rings chance proposal weeks wedding us engaged couple time hanging topic weddings prevalent boyfriend cracked joke proposing friend wedding groom joked back said funny hell followed bride shutting trying serious also thinking serious reception everyone made speeches people getting food table waiting boyfriend went dj played boyfriend favorite song scream sing car together story life one direction look smiling looking around sudden grabs fork stands begins clanging glass immediately whole dining room looks stand whisper words right face drops yells mix sorry joking sat back verbatim said let moment let make even look time get food immediately goes toward exit follow tried catch find text twice call couple times got answer went back reception hearing hour half returns sits even look rest night terrible looked like dog died trying make best night felt like shadow prepping breakdown maybe fight car thing said want talk right drive quiet awkward sent long text hard get ring felt rejected closest person embarrassed tried explain want marry best friend wedding deserve moment create piggyback got offended said wanted marry stopped proposal front everybody situation perplexes never seen appeal proposing someone else wedding tried handle situation way felt calm chill adamant ruined proposal made look like asshole thus im asshole missing something admit wrong let proposal go friend wedding",
          "whether secret sauce special sauce burger sauce fry sauce whatever always thousand island maybe black pepper cayenne touch mustard maybe leaves something like relish still thousand island become thing best guess started n zero evidence support theory",
          "f resident anesthesia branch work schedule heavy though years earn well though barely get time going parlour etc want rest sundays note well maintained girl like keep groomed stylish bf civil engineer place got cosy super hairy hair fun told got disgusted hair mainting hygiene note keep super clean got cosy took bath applied lotions asked smell something said hair looks bad likes smooth got irritated said nose hair need trimmed look big felt disgusted kiss touched lips told trimmed chest hair whole touching neck got offended talking apologise said smell bad told super hairy mature enough understand p n star hairless time take far though morning trimmed lmao though like chest hair coming shirt buttons edit people research pubes equate bring unhygienic keep clean well go atleast back hair well countless hair body never shamed edit two going breakup unless becomes pattern discussion done many good things last three years edit three please stop telling breakup yta nta esh also call disgusting said find pubes disgusting lots difference discussion like adults soon see road bump reason breakup willing change attitude though pushover someone believes breakingup",
          "oh gosh go one pope leo xiv brothers john prevost spoke abc news moment learned brother chosen new leader catholic church read subscribe abc news youtube abc news daily source breaking national world news exclusive interviews live streaming coverage download abc news app latest headlines alerts watch coverage breaking news live events abc news live watch full episodes world news tonight david muir read abc news reports online abc news home evening newscast world news tonight david muir good morning america nightline week george stephanopoulos abc news live prime linsey davis plus daily news podcast start connect abc news social media facebook instagram tiktok x threads whatsapp linkedin",
          "f friend f non verbal daughter f let call allie watch days week home daycare require contracts every child never filled special needs section point asked take allie mention type speech delay non speaking issue although allie speak much first figured shy communicated needs well said small things frequently last month bathroom keep door barely cracked wedge listen dangers walk see walked said ew stinky laughed told mom pickup said met isnt verbal would mock reassured allie spoken quite times thought huge milestone first arrived barely saying anything told believe messed would make something like upset told trying upset lying either press issue might ah decided record allie voice recording face telling name favorite animal full intention showing mom recording scared first blowup know would react short pickups drop offs told water bridge want talk anymore even insisted went birthday party happy allie could continue ended forgetting recording fast forward friday month later birthday party child party socializing family members honestly total dumbass forgetting family fully thought nonverbal mentioned funny things allie said reading animal book turns person talking sister started yelling saying non verbal lying sister start berating saying f cked making allie verbal point tired called liar two disabled children son non verbal many years lie something like everybody staring scared felt backed corner remembering recording decided prove case play voice recording everybody shocked friend told leave told want cause issues gon na berated called liar said crossed line recording daughter hole embarrassing party feel horrible wondering let go edit clarification extra context whenever would pickup drop ask much nap much eat would hand daily report would leave stay small talk even would try initiate know people busy lives gon na try make stay talk life story also recording embarrass way mean vindication admit shown immediately recorded also human afraid second blow saying water bridge happy gon na take allie away put back mind forgot feel bad went defense hence post know unprofessional unethical apologized profusely everybody party family well putting cameras home everybody access well updating contracts let parents know going happen going forward peace mind everybody sounds good also making call cps situation see say thank everybody kind words",
          "coworker john hr starts saying weird stuff like know basically work spouses right thought joke like nah fr talk wife kinda laughed first fast forward last thursday wife actually shows office lunch kid sees us chatting breakroom suddenly like ohhhh must never grabbed lunch tray bolted fast life face bright red think ever seen someone go work wife awkward silence quickly",
          "hi everyone f married husband let call joe years together time always prioritized emotional well something hurt one us matter valued happy spouse right love trust grew immensely certain never anything would break heart heartbroken disappointed joe owns company work together financially great place recently joe father got chance bid major government contract massive opportunity due scale several companies teaming one key company involved without deal happen led attractive flirty woman ceo openly flirted joe front noticed behavior order avoid misunderstandings conflict decided work bid together things okay one meeting break touched joe arm said something like husband like never leave side someone every woman wants sometimes even enough someone else might steal mind snapped responded following never leaves side brushed joke know saw look eyes women know later talked joe admitted crossing line uncomfortable react strongly avoid jeopardizing deal thrilled tried understand today found excluded day site visit bid trip requested woman five people going joe one heard told extremely uncomfortable asked go begged actually said deal worth financially stable need contract went anyway even everything said left without something broke trusted whole heart truly believed never choose anything peace mind feel like left behind hurts deeply part even care anymore comes back ends woman feel numb part says come amazing years throw away another part wants take wedding ring send photo file divorce aita asking go even begin deal emotions",
          "back burned way old job rage quit emotionally checked started exactly job description staying late fixing people mistakes sure squeeze today thought notice maybe let go instead called meeting told really impressed consistency boundaries gave raise turns exploited liked better stopped playing office hero yeah quiet quitting era actually glow era",
          "ex husband share custody year old daughter year old son divorced years ago co parented difficulty ever since ex remarried tensions three us majority time ex wife came huge expectations would kids involved would none realistic thought would agree giving ex primary custody would one weekend month mom happened expected everything mom related split equally us alternating mother day taking turns mother day events school activities even changing listed mom certain forms really believed something would something would cause zero problems schools doctors expected kids call mom soon wedding ring finger believed would encourage meaning force call mom long standing expectation never got met one time expected legal authority ex would get make certain decisions kids without ex input went school doctors saw summer camp go long also expected decide religion wanted change last name hyphenated name mine ex fully expected happen year throwing tantrum shut idea ex wife comes money used things way getting expectations met made increasingly bitter toward alienated kids pushy controlling trying change lives fit believes case point tried fight get private school pressured ask wanted daughter cheer music classes times week wanted son football boxing six times week kids interested activities brought along multiple times tried make take part told boys girls insulted parents son best friend attempted stop contact two kids hated refusing back kids hated thinking kids wishing dad would divorce know asked least twice wife learned blamed kids make point spending little time possible appreciate bothers ex wife discussed told bitter making appreciate said made lives better matter kids think say ex wife child together last year coming mother day first one mom day always sore topic kids anyone ex treating like mom officially one believed would mean kids would mother day going forward set record straight asked ex come insane idea spend day celebrating wife join mother day celebrations said worth celebrating first time child mother day kids shut idea hard told would spend day wife tried turn fight walked away answered calls since sent texts telling need reconsider ignored well sent sister told petty even consider meeting middle somewhere stated rude everything said reason kids like stepmother half sibling needed figure walked away well texts ex followed thing giving pause fact ex family like new wife fact ex sister said making question tiny bit ta",
          "insanity genuinely want know anyone would donate understand might frustrated kid calling n word never apologizing yet making half million dollars insane keeps saying called obviously racist would apologized calling slur things would little better lost hope world know allegedly little boy took something shiloh son diaper bag people saying five years old saying older many also saying autistic called n word got caught man took video admitting shows sympathy making lots money",
          "tonight found girlfriend together year active dating apps phone hinge tinder bumble tried claim snooping ex husband already felt ridiculous calmly asked talking anyone said claimed even apps downloaded already seen active matches conversations asked show apps walked away opened deleted messages showing empty inbox acting like nothing calmly pulled phone showed screenshots taken earlier went rant wanted validation never met anyone trust told come back level lying hiding gaslighting dealbreaker begged apologized walked loved feel shattered want revenge drama care person want well want move forward would shoes",
          "lets hear one per post start matter bar current name always refer name first started drinking",
          "cashier folded faster payment method",
          "last night driving home work get call kid anyone called recently dog gotten find number tag one called arrive home immediately join search point pm search get neighbors involved search get people even know searching one point woman never met pulls says looking dog say know dog thank helping around pm full dark keep searching get report neighborhood facebook group dog spotted someone ring camera search area still luck get another report someone caught video another neighbor driveway get permission search neighbor yard find dog searching six hours finally give set alarm little sunrise resume search morning trace route creek runs neighborhood feeds river thinking maybe dog wandering along creek bed nothing wife prints flyers start posting around neighborhood call police department animal control around morning go check another neighbor yard look fence property checked dog laying sunny spot like queen world idea hiding probably never yards front door meanwhile probably logged six miles foot another ten wandering neighborhood car obviously thrilled found stupid evening",
          "sick tired people saying friends coworkers talking friendly people mean play video games together go bars talk life lonely today people maybe friends days best social creatures need companionship jobs allow make friends people already conversation starter easier walking stranger plus someone relate complain work employers also use societal stigma make hard pay transparency last job friends comfortable asking raise sharing mine nobody got salty someone got good raise say happy edit mean literally every coworker become friend friends literally everyone department friends ish still way abnormal society talking willingness make friends say leave yall get fucked edit saying amicable coworkers hopefully given mean actual friendships go beyond boundaries work also talking managers saying like family huge red flag talking someone work strike conversation realize oh like talking person start friendship way edit yall little bitches comment section probably got burned coworkers reason coworkers making friends must soooo much fun real life see wrong side r relationshipadvice",
          "sucked full barely contained rage since november today press conference current administration laughed refusing scotus order talking sending anyone deemed violent criminal cecot breaking point fucks give gone spend two decades fighting terrorists despots watch country turn terrorist nation run despot said trump fuck vance fuck mike johnson fuck stephen miller fuck elon musk fuck vought thiel heritage foundation fuck ya clarence thomas samuel alito fuck roberts kavanaugh coney barret challenge right thing fix fuck ups rubio hegseth entire trump administration fuck anyone wears fucking trump lapel pin supports maga fuck actual civil liberties justice fuck ya time judicial legislative branches jobs remove trump time republican party take back party replace maga parasites time democratic party stop complicit find courage repair broken nation sit remain silent say fuck fat orange fuck ruining country reclaim term fight fight fight everything effect positive change fuck em edit thanks folks pointed incorrect names couple scotus folks fat fingering passenger seat moving car suppressing rage edit popular demand added stephen miller edit idea forgot fucker elon actually got rid tesla shithead",
          "married wife f six years met dated year getting married things good long time past two years started realizing grown different people want different things different priorities completely honest love felt slowly faded cheat lie fell love tried communicate therapy gave time eventually came conclusion staying married would delaying inevitable fair either us told wanted divorce understandably upset things escalated said wasted time used good years leave wants half everything house retirement account investments even though contribute much financially work primary earner marriage signed prenuptial agreement got married fair lawyer pressure clearly laid would happen ever split protects assets brought marriage entitle either us spousal support unless certain conditions met saying prenup matter emotionally conned dead end marriage wasted youth even though legally binding morally give half took best years gave nothing back see way loved married faithful supported emotionally financially tried everything make work falling love crime think punished something maliciously aita sticking prenup giving half says wasted time",
          "tough days sharing story feel like owe guys update situation first post middle aged man supposed getting married months fiancée together three years engaged one time genuinely believed page life values importantly honesty background worked hard build stable financial foundation wealth home outright personal debt saving investing since early twenties priority especially since parents went nasty divorce ruined financially month ago discussing wedding costs brought prenup cold controlling way wanted protect life worked hard build upfront still fair agreement leave nothing expected adult conversation instead immediately got defensive said things like already planning divorce thought trusted tried explain trust transparency mutual protection shut completely red flags started popping became evasive every time money came started noticing weird things credit card offers mail missed payments shared expenses said cover lots handle later energy asked directly debt admitted credit card debt student loans mortgage credit cards said accumulated years unexpected expenses dumb splurges never told forced issue stunned merge lives woman legally become spouse think deserved know six figures red told made prenup non negotiable need protect emotionally financially told willing still move forward without something writing protects premarital assets lost called selfish said turning love business deal said house money truly team since refused talk prenup barely speaking even mother called accused humiliating daughter materialistic want liable debt create make sure life built relationship protected seriously reconsidering whole wedding debt hid refused take responsibility treating like bad guy trying protect almost certain could pay debts since part partner friend business refuses aitah thinking walking away final update planning come back lot people messaged honestly hell days figured give update yeah wedding officially posted tried one time talk fiancée well ex told trying cold controlling needed protect also said roles reversed completely understand wanted told could still move forward wedding signed fair prenup one clearly said debt home savings mine things go bad also said go therapy counseling felt like deeper trust issue take well said prenup insult basically planning divorce started crying said humiliating destroying everything built money thing money fact kept massive amount debt hidden choice tell even told pushed partnership avoidance told go called wedding sucked still sucks told venue canceled could let people know family furious mine supportive trying say told lost lot money deposits suit family flying state honestly nothing compared could happened ignored gut moved two days ago barely spoken keep second guessing even want also want wake one day financial ruin wondering ignored every red flag avoid hurting someone anyway thanks everyone gave advice listened heartbroken yeah feel like right thing make easy necessary",
          "sheldon grief",
          "claim torture less effective thought unreliable human rights violation therefore useful true still used cia mossad mi",
          "story around torontonians perspectives drake vs kendrick beefs would like small interview tabloid writers offer insight pls pm anyone know volunteer certainly zoom well",
          "background f fiancé together years baby back lost job around time lease apartment grandma offered us move basically little apartment rent free thrown idea going school everyone agreed good idea fiancé paid grandma watched baby went class graduate semester part time couple semesters fiancé making k year past couple years k first moved saved good amount money agreed wait get married finished school could buy house together looking houses seriously past couple months found one love started talking mortgage broker dropped bomb mortgage deed said anything say anything meeting afterwards told thought buying house together pay half mortgage said would paying half mortgage name told would mean right house said knew said since saved fair rights house case end things told wants paying mortgage said partnership wants place fine paying called btch saying paid everything past years including schooling told stayed home watched child pay daycare ended saving us money since would able work part time said care need pay half since already agreed reddit aitah refusing pay mortgage eta originally supposed move grandma months saved money renting new place thought maybe good idea go school make money could potentially buy place grandma said stay finish school save life together fiancé agreed would buying house together paid schooling getting married student loans would problem mine encouraged finish education could give child better quality life edit saying paying schooling would expensive rent schooling total costed across years year average",
          "hi fednews federal specialist two weeks ago filed formal disclosure congress potential major security incident inside agency asked investigation posting remind every public servant speaking matters alone feel empowered transparency key happened high level noticed odd metrics gathered data built reports reported internally escalated chain command disclosed congress npr krebsonsecurity full timeline details also disclosure public spoke internal reporting failed loved job team agency mission opportunity serve people great nation internal channels stalled weighed clearance paycheck career potential national impact staying silent country cybersecurity public trust worth risk fear mutes us fail oath fear apathy death democracy lessons learned document everything conversations metrics screenshots ticket numbers timestamps use work devices keep classified data classified use protected channels first ig hotlines cisa us cert cleared counsel escalate stonewalled compromised know rights u c guarantees direct path congress invoke precisely build support net early line legal help trusted colleagues friends family keep grounded take safety seriously check car install cameras alarms vary routines lock digital life seem dramatic guard mental health stress real therapy exercise simply talking helps chose attach name stand behind actions welcome open debate secure anonymous avenues closing thought us entered public service uphold constitution serve millions may never know names duty runs deeper politics fear know difference right wrong something agency keeps night hope storm passes keep head gather facts protect speak duty hardest matters exactly matters dan dms open resource recommendations questions stay safe keep lights",
          "never find cheated rae",
          "maybe extra fries would extra",
          "said said think restaurants refuse split checks ways lazy incompetent matter many people group matter physically chose sit next common argument hear well zelle venmo figure job sit fiddling calculator app figure much gratuity tax bill person literally register additionally every person afford drop one sitting mean go since x amount money expected spend ever factor dining silly argument honestly believe policy comes personal laziness lack organization needs stop need stop judging large parties rowdy loud forced split bill",
          "honestly words bought house july learned neighbors old hell think neighbors nosey onery young families moving neighborhood recent years walk tell shopping thrift estate sales furnish cute house morning came home estate sale beautiful wingbacked rocking chair needs reuplostered leather terrible condition previous owner started pulling im unloading bed truck neighbor carol sticks giraffe neck fence starts squawking beautiful said thanks got estate sale triggered parasites brain shit teleported truck starts going much needs chair rock grandkids sleep much would appreciate told got future babies rocked sleep still needs lots work used mind chair large small starts offering money paid telling dont need dont kids yet grandkids little long firmly telling interested selling offered standing bed truck looking driveway firmly said carol im really interested selling please go home pointed side fence apparently shouting aggressive ran home later day husband said something husband getting home game telling edit spoke like dog nasty neighbor husband needs straighten neighbors nuts rude edit tried attach photo chair cant attach community edit meant offense said old hell know half way life time trying paint caricature carol neighbors something really wrong folks cul de sac",
          "tw high school times would pass walking remember happily telling friends fit best friend said well brand runs big count looking back like wtf lol",
          "ysk seeing multiple posts dog attacks people comments giving absolutely terrible advice know proven way stop dog attack oxygen deprivation using spare lead pass rope cord attacking dog neck pass loop cinch tight like noose hold dog releases target either air passes use hands try pry dog mouth open try make loud noises likely heighten attacking dog try use body attempt subdue dog whether holding trying choke god sake stick finger butt way force dog try breathe depriving oxygen edit advice dog attacking another dog animal suspect dog may attack try get high like car attack imminent cross arms chest try maintain stance hope loses interest pulled ground maintain crossed arms ball protect vital organs face pray loses interest someone help",
          "gave birth first kid second neither pregnancies choice choose carry term result family friend getting whatever wanted abusive parents refusing let abort talked pregnancies punishments trying defy friend wanted always physically abused parents pregnant first time abuse became daily occurrence got free months th birthday parents arrested happened came light told everyone spoke want raise kids attempts help keep even though could keep alive never bonded motherly love done best good knew even back lack love bond also messed kids went foster care system terminated parental rights another four five years lived pretty badly made dumb choices traumas struggled actually live life wanted much everything new support system never even graduated high school eventually got life together easy needed much therapy still go therapy still work progress think given past always person today happier healthier stability support needed good life married children husband last five years even though technically kids felt like first time mom many ways lot firsts pregnancies kids several months ago older kids found reached questions best answer lot could know medical history much family history info father difficult spoke therapist lot time trying explain came exist worst part leaned therapist lot help explain without burdening feelings even though technically adults easy discussion honest wanting relationship younger kid accepted oldest reacted differently feel owe relationship matter went mother act like also demand apologize marrying kids let grow foster care told adult family even never blamed denied life oldest pushed much block know either faults know people love kids circumstances fact apologize played mind apologetic still feel like could asshole sake kid gave birth aita",
          "americans believe separation church state maga believes donald trump god messenger earth americans believe peaceful transition power maga believes taking power force necessary americans believe democracy maga believes insurrection americans accept election results maga americans believe due process maga believes concentration camps americans love canada maga hates canada americans believe dictator invading neighboring country war crime maga believes invading neighbor right thing americans believe russian war criminal vladimir putin enemy maga believes russia ally americans believe ukraine ally maga believes ukraine enemy stop calling maga russians influencers people obsessed conspiracy theories anything power avoid actual research see parroting russian bullshit even looked deeper theories believe coming would realize anywhere near trustworthy think like actually looked hateful become unamerican see cult tactics used make mistrust media get correct information one source isolate give mission something make lose identity save babies give enemy focus dems left libs save babies save babies whatever motto used give savior person solve common brainwashing cult tactics everyone knows used one day turn never less fun less hateful still act super smug like know something everyone else really super ignorant brainwashed proud believe shit cause want jesus mutual love movement mutual hate hate group wake fuck want asleep woke brainwash longer americans russian influencers want burn country ground rule ashes smh christian nationalism kkk without hood robe nothing christian movement facts",
          "f stepsons adults late teens mid twenties one concerns middle child sat husband last night told us girlfriend pregnant plan keeping baby got logistics going work live mom right living room said able stay baby born said plan moving us statement free rooms asked expected stay said finish basement baby born live basement completely unfinished making livable space would cost several thousands dollars said would baby reaches pre school age easier live since need full time childcare childcare apparently childcare work home much work spend day meetings phone calls clients job baby admit finest moment laughed hard believe serious husband stepped said needed come different plan none happening said help financially secure apartment help baby stuff happy take baby need break extent happy parting end husband page couple hours later husband got call ex upset us supporting way felt needed us bear mind watch baby house either lives bed apartment husband like kids allow even come see hubby told would great time son dil get place together take care baby place live course like really care thinks oldest said thinks little harsh let stay temporarily temporary mom living room supposed temporary years ago think nice laughed serious discussion fair youngest side lives home away college want live baby either little biased assholes feel bad going easy parent never easy hell whole point freaking post kids grown still hard parent love outside insight edit thank truly comments quite literally keep wanted answer common questions seeing part time job know works around hours week works close house stops work days goes know job idea often works pay mother rent part moved year school full time job told need start paying mo help cover utilities food like left swears used protection every time entirely possible know condoms effective doubt planned significantly change lifestyle comfortable turn entitled idk psychologist say mother always coddled others oldest basically stopped relationship gave custody favor husband old enough understand happening youngest young really care always kind shadow anyway middle kid used soothe guilt make look like good mom public buy extra stuff take places sure good anything legally able stop room downsized youngest left college need bed house anymore room office youngests room emergency one older two needed place crash weeks would probably stay brother room couch home would partners limited time get back feet",
          "yeah totally screwed big time fiance jess together years engaged everything great planning wedding picking venues got sucked crypto specifically solana thought gon na genius investor know started saw x posts memecoins like super fast cheap fees blah blah rich like k saved wedding figured throw k coins make quick buck surprise jess fancier honeymoon tell cause wanted surprise big mistake lost everything first weeks k gone freaking sleep jess noticed acting weird kept asking wrong wan na tell blew wedding fund lied said work stress found anyway left laptop open saw trading app red numbers whole mess flipped screaming gambled future without even telling tried explain said make back said broke trust acted like sneaky addict gave back ring packed bag left mom weeks ago barely talking says needs space tl dr secretly blew wedding fund crypto lost fiance left cause lied",
          "insane facts megalodon megalodon largest shark ever exist growing feet long three times size great white shark bite force estimated pounds per square inch strong enough crush car like soda megalodons teeth size human hand reaching inches cm long want menu unlike modern sharks megalodons bite could shatter bones single chomp come back ruled oceans million years going extinct around million years ago believe megalodon could still exist hiding deep ocean explored less ocean depths megalodon fins big airplane wings heart likely size small car scientists think attacked whales biting tails first escape talk hunting strategy megalodon teeth found every continent except antarctica meaning dominated almost every ocean megalodon still alive today would big shallow waters would live deep sea could something massive still would dare swim ocean knowing megalodon might still exist drop thoughts comments",
          "posted burner account fiancée occasional reddit user year old man living fiancée year old woman better part year overall cohabitating gone incredibly well meticulous chores generally communicate better couples know however lately disagreement difficult settle fiancée leaves used period products top open trashcans bathrooms guests use like ask cover discarded products generally grossed menstrual cycle blood worked healthcare pick pads tampons fiancée without feeling awkward may tmi opposed period sex phase however neither occasional guests expect see blood soaked tampons complete clots every time use bathroom jarring seeing bloody scene otherwise clean bathroom without warning tried come minimally invasive solutions fiancée wrapping products toilet paper discarding past partners done even purchasing closed top trashcan fiancée firmly rejects plans saying go monthly ordeal extension guests get complain see aftermath sympathetic experiences time response feels retributive one recent occasion guests coming game night pulled extra toilet paper gently laid top trash covering bloody products arrived fiancée noticed confronted guests left accusing ashamed going previously discussed taking step back shows intentional visible products enough checked see still place point feels spiteful aita would folks suggest situation even intervention requires effort part closed top trashcan rejected prejudice love fiancée could small discussion becoming mountain conflict",
          "need vent dehumanizing work experience life last fall diagnosed stage lymphoma initial shock immediately sat manager healthplus insurance claims analyst years discuss accommodations treatment oncologist recommended work remotely chemo reduce infection risk documentation doctor note everything direct manager seemed supportive hr got involved response remote work privilege accommodation claimed role impossible perform remotely despite entire department working home covid months earlier compromise offered let take unpaid fmla chemo days required office days pointed violated ada hr director audacity say employ people exempt ada requirements tried make work showing treatments despite fatigue nausea compromised immune system flu season performance obviously suffered second round chemo put performance improvement plan missing metrics two weeks later terminated failing meet productivity standards literally white blood cell count lowest final insult contested unemployment claim saying fired cause got lawyer turns actually employees counted part timers differently making subject ada yesterday filed eeoc company entire business health insurance show basic humanity someone going cancer treatment companies deserve loyalty ever",
          "monday morning wife let go job felt coming saw coming looking way bullshyt happened want anymore wednesday company suck actually sent text basically saying know forth head know knew wife looked phone like believe bytch words mine said work remember know screwed right said started laughing sending text nerve people",
          "parents made money us proportionality would scoff us asking toy back day way poor buy kids cards games shit questions asked way parents stingy kids end stingy kids since idk let know think crossed mind",
          "hey everyone moved england recently someone called plant pot normal brits insult people calling random objects strange insults bracing",
          "even know write correctly laughable management thinks work biotech service provider associated big company outsources everything though particular company big boys provide service anyways member facilities team leaving brief little pizza party cake lunch break friday bigger boss steps direct manager pops randomly asks going turns facilities member leaving something aware etc team already gutted normal man team need people leaving etc leaving team member alerted company leaving quitting day us found moment today monday boss pops says big trouble party friday let management know could seen time fraud etc may restructure office area response possibly window office door find really odd entire response occurred time introspection investigation based understanding whole quitting telling stems poor management groups chain command teams getting flak things beyond control archaic foolish surprised person even management",
          "f run bakery business built ground past five years started hobby college registered business steady clients dedicated workspace consistent orders month mostly weddings birthdays events take lot pride baking fun anymore livelihood sil f getting married beginning june wife older sister friendly terms always vibe like really take seriously made comments like must nice getting play kitchen day lucky people pay something could probably learn youtube always smile like joke really brushed comments past since happening time want stir drama earlier month asked make wedding cake said sure asked mind sent inspo pics four tier cake smooth buttercream floral piping real flowers top cascading one side wanted chocolate sponge raspberry filling terms taste plus wanted deliver venue morning wedding rather picking day got done discussing everything gave quote phone generous family discount sil replied almost instantly think charging cake would essentially wedding gift told typically wedding cakes gifts much time work take happy buy something registry instead still make cake discounted price wanted happy said transactional cake clearly want part special day hanging clear made cakes free small simple ones people care friends going rough time sil fiance pay cake like exactly respected work past meanwhile sil telling anyone listen making big day trying profit happiness seriously mil called really ask felt try understand coming seemed overwhelmed kind desperate stop turning bigger family fight kept going stressed sil bit much basically begged reconsider wife completely side told mom stop trying smooth things expense even admitted sorta wishes said yes avoid fallout",
          "tonight found girlfriend together year active dating apps phone hinge tinder bumble tried claim snooping ex husband already felt ridiculous calmly asked talking anyone said claimed even apps downloaded already seen active matches conversations asked show apps walked away opened deleted messages showing empty inbox acting like nothing calmly pulled phone showed screenshots taken earlier went rant wanted validation never met anyone trust told come back level lying hiding gaslighting dealbreaker begged apologized walked loved feel shattered want revenge drama care person want well want move forward would shoes update went bed woke million views also bot real person answer things read someone cheated ex growing improving every month lots external stresses core good think however loved would never done actions speak louder words sadly go back even wanted kiss death move already forgive angry sad hope future randomly imploded face last night",
          "apple pay prank gone wrong credit",
          "almost reason never children finances never good enough afford still kind regret able kids millennials situation wanted kids never",
          "tw loss miscarried yesterday afternoon pm never miscarriage baby wished fresh sobbing right apologise advance make whole lot sense husband turned yesterday f pregnant mine husband nd child yesterday weeks pregnant day yesterday saw beautiful heart beat flicking screen today devastated playing year old felt pressure lower abdomen long later noticed bleeding let husband know immediately discomfort bleeding long passed believe fetus messaged think lost baby wanted keep updated guess seeking kind emotional support asked could come home said course urgent said think pain bleeding getting worse starting feel lightheaded year old unattended playroom right friends family near could call would get us quicker could clean crawl stairs take paracetamol make son lunch put nap point husband still home working approx mins away took closer mins get back hours later asked stopped tesco pick beers ended poorly losing lots blood lightheaded vomiting etc take e time discharged almost pm last week said make favourite dinner birthday reminded almost home said feeling whatever takeaway wants said fuck sake breath muttered something along lines bullshit ruined birthday stop get takeaway drove straight home put son bed went bed sure see morning already left work messaged day got home hours ago pm giving silent treatment tried speak hour ago ignored called disgrace slammed bedroom door locked bedroom mum since messaged said need patient also loss ask anything obviously speaking mum opening speaking said harsh feeling utterly emotionally neglected right body emotional physical hell understand miscarriage came fucking inconvenient time birthday sure hormones making feel crazy nuts contemplate divorce aitah calling disgrace",
          "gave birth around months ago bit pounds pre pregnancy weight constant pain barely getting sleep still recovering easing back gym past week husband showering sex feeling said misses body said used look good sexy clothes lingerie went quiet finished shower went check baby brought later hurt self conscious trying shrugged said true cried car workout even workout eats garbage feeling really body since comment pulled back intimacy days says weaponizing sex struggling feel right aita",
          "kept losing packages security cams caught culprit neighbor bold ever walk right take boxes porch ordered special delivery glitter bomb inside fake package timed usually steal sure enough vanished within hours thirty minutes later heard yelling glitter everywhere touched single box since packages arriving safely",
          "every time visit relatives house fox news blaring tv share cable account person annoys money goes towards poor excuse news channel today asked fix something blocked fox news fox business cable account may petty stand hearing propaganda",
          "never trust garbage heart",
          "work small office like people always bring lunch home usually leftovers cook label name fridge lately coworker jen f eating food like times past weeks first time said thought even tho hadmy name let slide told careful happend laughed said oh looked good resist got annoyed told straight stop eating lunch cool budget keep replacing got defensive said overreacting food telling everyone petty coworkers think chill fed basically stealing aita calling like",
          "one mantis heal total healing instant healing health seconds hide health return peek hp mantis hot currently rolling throwing play smarter stop whining",
          "keep pretty simple together years married years ago wife ran ex boyfriend lived previously chatted caught clear part friend group dating bump every chit chat catch things nearby diner two week ago hung friends pm hours got knew like think minority never given reason doubt deep bench friends yesterday met work checked around hours met letting know fine thing home basically said fuck went bed received text message lost track time gon na go work look trust wife never given reason know realization previous friend group moved hit hard recent even given feel like gaslit bare minimum extremely disrespectful aitah",
          "looking high roi products added new trending rising winning products usa germany canada united kingdom added new list countries track rising winning trending products products gaining demand sales yet viral products used following ecommerce dropshipping affiliate commission marketing order request also send order us track winning rising trending products products yet viral order winning product please send us message well also order website existing traffic build websites generate traffic fast two weeks google search engine using drop domain",
          "actually incredibly difficult find single actual republican democrats saying think republicans think edit coming left leaning person",
          "preparing go uni mom confessed tuition money years dad would give cash deposit first one spent rest tbh even surprised used disappointed promised would pay back asked never tell dad four years thanked tuition money took loans reasons narcissism arms length relationship would say pretty close assumes smiling nodding drones stories relationship family cottage puts everything else lives days year going gf days couple summers begrudges takes away time dad supports going pull recently told time start paying maintenance cottage since use actually suggested k wildly disproportionate told could take tuition iou could negotiate amount dad speechless texted later say manipulative bring tuition threaten tell dad went thinking first hurt offended nice thing get something second guess really whole tuition thing witah bringing ancient history paying use cottage edited add time never occurred told thought right thing protecting pretty much summarizes childhood",
          "news maga bad night texas local voters across state decisively reject far right candidates particularly school board city council races",
          "democrats need respond one ideal sits others head want us prosper happy want know still agree want find common ground edit thank everyone responded could get everyone wishes prosperity say thank see tomorrow ask deomcrats thing",
          "affair sister husband yes regret truly disgusted past self found sister publicly shamed fair enough told parents also fair also told parents fair chose stay husband blamed seducing unfaithful forgave decided reconcile left face consequences parents kicked scramble find somewhere live every time found new job parents sister would contact coworkers call homewrecker would harass wherever went gossiping status one treated differently face stares whispers unbearable leave city move another escape mental health people might say overreacting really followed like plague moved met nice elderly couple never kids took mark helen mean offered stay wanted nice place often visited day mean world knew happened even joked said something along lines afraid steal husband homewrecker told homewrecker entire personality move learn eventually met husband four children adults except one kids know parents past situation grew considering mark helen grandparents alongside laws last saturday received message hope find heart read message know much pain hardship want honest everything deeply regret things unfolded us especially hurtful things said past truly sorry pain caused actions lasting consequences never got know grandchildren realize much missed xxxx husband cheated left someone else see much suffering woman left alone two kids caring disabled child autistic child hard trying carry despite everything strong enough difficult situation struggling financially enough space resources help directly deeply want support children asking forgiveness know father deserve hope see trying make amends even late way help us financial support guidance assist serna children would mean world us want right willing give us chance love got message pretty angry seen parents years willing see even consider helping sister kids responded yet husband willing send harsh letter behalf considering ignoring would asshole let husband write harsh reply edit got live grandparents kicked also clear oldest child little kids anymore thank al support came expecting get bashed",
          "know bugs trendy look blue collar folks work blue collar jobs construction farming etc carharts wranglers moc toe work boots etc considered cultural appropriation feel like minimum amount hard labor worked wear type clothing lol one example hundreds airport flying colorado young couple front wearing wrangler overall jeans work boots pale spec dirt callus hands frail bodied hipster looking clearly posers someone explain phenomenon limited trend cool poser days",
          "go compare different outlets cover story save ground news vantage plan take back control stay informed ad story puyi china last emperor last emperor sources music lens distortion decades infinite horizons truth seeking next gen zero doubt go forth punch new day tenfold reclaim concord material events chromatica tom fox johnny iz llc war games middleman expired dry thought national televison countries real locations tom fox wine bunker bad wrap formal view artlist annie zhou maybe wondering anbr streets ian post kimi ga yo japan epidemic sound brendon moeller sunshine rain images hung chung chih shutterstock com _____ armchair documentaries almost weekly",
          "see news xbox pricing increasing across board expect sony follow soon well looking get ps would sooner rather later games eyeing always wait sales course hard see happen future thought would post friendly reminder heads edit aware countries cost ps gone last weeks would expect another massive increase well multiple video games market analysts saying beginning market conditions tarrifs prepared xbox news xbox examples see article xbox series xbox series x xbox elite wireless controller series core",
          "noticed asked chat something especially math make shit instead saying sure make formulas feed wrong answer",
          "back college one semester took bunch books researching big project back internet research admissible needed properly cite sources school life got away forgot return books kinda forgot end semester got late library dues bill mail think fees like cents per book per day least books month late money pay library fines could get grades transcript semester instead sheepishly returning books paying fines put books backpack returned correct places shelves called library next day questioned validity letter regarding overdue books librarian left hold minutes returned phone apologizing seemed books fact returned library dues erased hold back transcript",
          "hoping get genuine insight anybody made expedient brand pivot theories understanding hoping hear supporters idea articulate never agreed f trudeau flags could better understand people moment took office made certain ideology brand part leading legislating get perception made statements felt like attacks see interpret choices forced dei leader canadian history ever done covid hit took chin anybody especially came provincial mandates get carney hate though see liking sure see particular party allegiance stoic pragmatic economic leader conservatives drool barely time make changes changes made seen positives anybody hated trudeau made large thoughtful elaborate policy platform made stronger efforts address canadians largest complaints anybody certainly seems like talk think immediate pivot trudeau evil carney evil kind delegitimizes ten years effort certain populist think people going take even less serious speak honestly embarrassed f trudeau flags stickers lived perspective normie somewhat least f carney stuff embarrassing americanized garbage maybe reasonable answer immediate pivot time consider little reflection edit lot opinions people share views one way another elaborate attempt answers people want defend contain multiple conspiracies hope impressionable people look think twice thinking fair reasonable",
          "f dating boyfriend ryan little three months things going well see times week enjoy company gradually getting know two weeks ago ryan brought idea moving together surprised three months feels way soon something big especially considering lived alone past five years really value personal space told gently could ready kind commitment yet wanted continue building relationship slowly take well said putting walls knew one hesitate also mentioned lease ending soon moving would help save money part made uncomfortable like less love convenience since distant keeps bringing passive aggressive ways even joked friends keeping arm length treating like guest think cautious give try seen enough rushed relationships crash burn know better starting question though guarded three months soon aita refusing let boyfriend move early",
          "background f fiancé together years baby back lost job around time lease apartment grandma offered us move basically little apartment rent free thrown idea going school everyone agreed good idea fiancé paid grandma watched baby went class graduate semester part time couple semesters fiancé making k year past couple years k first moved saved good amount money agreed wait get married finished school could buy house together looking houses seriously past couple months found one love started talking mortgage broker dropped bomb mortgage deed said anything say anything meeting afterwards told thought buying house together pay half mortgage said would paying half mortgage name told would mean right house said knew said since saved fair rights house case end things told wants paying mortgage said partnership wants place fine paying called btch saying paid everything past years including schooling told stayed home watched child pay daycare ended saving us money since would able work part time said care need pay half since already agreed reddit aitah refusing pay mortgage eta originally supposed move grandma months saved money renting new place thought maybe good idea go school make money could potentially buy place grandma said stay finish school save life together fiancé agreed would buying house together paid schooling getting married student loans would problem mine encouraged finish education could give child better quality life",
          "start happily trans woman would never detransition rise egg culture neopronouns people using pronouns greater trans community many ways lost plot watering means trans people trans convinced trans people sold story create gender like fashion style stories detransition trans community often hand waved away detransitioners often assumed bad actors detransition get support trans community likely labeled terf common conspriacy theory trans community detransitioners largely gender critical shills scares people away detransitioning feel transition right feel terrible many people falsely led believe trans stuck awful scenario",
          "happened months ago lives rent free head boss loves remind people kinda grilling one coworkers team meeting mistake even really fault kept raising voice getting aggressive looked completely calm goes intimidating tall loud dead silence someone coughed boss muttered something moved never brought lol honestly legend behavior still works drinks tea like nothing happened aspire",
          "recently got dumped gf finally got bored asked main reason dumped bs said tell real reason response caught guard said ripped muscles literally dumped ended year relationship buff ripped",
          "oh want know use chatgpt oh chatgpt sorry ai llm word salad generating machine irresitably attractive accurate almost everyone know insists using information get google better recent amount ai garbage flooding crappy ai overview nothing help come google exists reason know something google get result maybe using tricks get rid ai results many people around deciding put information received dice roll aware chatgpt predicts next word might hell someone straight told know scholarship asked chatgpt genuinely verge internally crying whole website show takes seconds find another maybe minute look asked fucking dice roller information even concrete information half shit inside purely might give xyz sick tired genuinely feels like chatgpt fucking drug people constantly insist using chatgpt chatgpt fucking addicted sorry touching fucking ai information foot pole sticking normal google wikipedia yknow websites give actual fucking information rather pulling words ass learning call sick tired please use google stop fucking letting ai give info guaranteed correct",
          "alright aitah ppl imma need hot takes office drama driving insane f working marketing agency years coworker jess f getting married next month initially invited whole team people wedding like besties besties definitely friendly lunch together sometimes happy hours usual work friend stuff last week office manager sarah started collecting money group gift asking would get us fancy kitchen gadget registry basically budget someone actually friends whatever planning contribute well yesterday got awkward text jess saying make cuts guest list unfortunately accommodate anymore something venue capacity family additions kicker know fact everyone else team still invited morning sarah comes desk asking contribution gift fund politely told since longer invited rather get jess smaller gift sarah looked shocked said team gift contributing full amount would mess group harmony like give single fuck icing cake know wedding cut jess invited old coworker got vp position major client suddenly room still expected drop registry thing trying brag whatsoever literally hit k win jackpotcity like last weekend even big deal specifically something gon na tolerate someone please tell truth asshole refusing contribute full amount wedding even attending",
          "visited oldham first time thought bad right certainly biggest shithole country somewhere else country bad people make",
          "f husband yrs old son leo sweet curious kid really dinosaurs loves riding little blue bike last weekend went grocery shopping husband stayed home leo apparently leo outside riding bike left front yard went inside get water minutes later neighbor ms robert came saying grandson saw leo take bike husband looked see leo bike assumed worst confronted leo insisted steal anything said bike gone husband believe told grounded tv tablet told truth apologized leo refused saying take anyone bike punishing anything later afternoon ms robert returned visibly embarrassed turns grandson taken leo bike park thought looked cooler made whole story avoid getting trouble got home husband explained situation figured okay apologize leo learning moment nope doubled said leo still needed punished disrespect refusing obey said want punish telling truth standing said principle needs listen even agree said rather raise boy knows stand one lays accepts mistreatment especially innocent got pretty heated argument says unreasonable dramatic undermining parent think wrong wanting teach son okay say something unfair even coming parent aita",
          "placed order mcdonald app double checked location eastern blvd essex md paid full pulled drive thru gave code said record order showed app receipt showing correct store proof payment instead helping told move forward call police parked went inside speak manager remained calm showed receipt even logged bank account show charge gone refused give food told take bank claimed giving food would giving away food free asked understood insane showing proof paid still refused response shrug refund food gaslighting left empty handed called bank kind customer service rep helped dispute charge contrast professionalism wild passes customer service edit wow really blew thank support fyi showed receipt order transaction app bank transaction somehow enough prove paid also get minimum wage minimum effort issue least seem way seemed like telling hands tied said help necessarily mad staff maybe little mad called policy anyway thanks letting rant",
          "regarding facilitating return abrego garcia mass protests democrats congress saying much military sworn protect constitution silent news media covering one story major crossing rubicon event trump said would bring back supreme court told doj said court authority require us government negotiate return el salvador would bring showed border",
          "husband filed taxes jointly year past two years completely unaware unpaid child support thought making regular monthly payments expecting refund deposited feel blindsided violated taken advantage brought dismissed feelings told grateful child support paid means contribute money month logic make sense child still still make ongoing payments regardless feel physically ill supportive feeling whatsoever actually angry responding aitah update injured spouse form mail physically mail electronically filed",
          "talking mate used walk pubs deep voice confidence half time one cared got thinking much life quietly changed last years like fact could go school trip france come back marlboro reds crate strongbow go without phone tell mum back dark somehow survive even stuff like smoking indoors woolworths pick n mix feels bit fever dream ish something weird back would raise serious eyebrows",
          "get tried put ish hours see everyone freaking things really work pacing place one minute casual tavern chat next thing know locked moral debate talking brain jar feels jarring many dialogue options like need different ways express sarcasm let click continue world reacts much freed gnome hours later someone brought supposed live kind consequence cinematics make everything feel immersive like sometimes forget playing game netflix series accidentally joined characters way much depth everyone strong backstories emotional arcs distracting even get started companions trying fight goblins catch feelings morally complex vampire yeah totally overrated made feel things felt since witcher guess like emotional damage high standards future games go never playing started another run yesterday",
          "sitting library girl front boyfriend course smells amazing like good good even one time thing almost every time girl sits near like perfume commercial meanwhile guys like bro deo vanished minutes magic girls scent game whole different level creepy genuinely confused impressed",
          "recovering alcoholic sober years one thing came sobriety love cooking beginning kept busy want drink hungry love process making delicious meal loved ones recently family meal one components meal chicken marsala love chicken marsala make eat time one ingredients cooking marsala wine brought meal sister asked chicken said chicken marsala asked used wine said use cooking wine regular wine started argument using owning cooking wine alcoholic sister said relapsing cooking basically lying sober argued back get drunk eating food cooking wine ingesting alcohol whole recipe cup wine portion even less make delicious gets buzzed also trigger cravings drink buy bottle use cook sits untouched cabinet need cook next time ended leaving yelled talk actually sober mother agrees lying sobriety eating foods wine looked online people think honest cook alcohol aita cooking cooking wine recovering alcoholic",
          "no extra stress bby",
          "f boyfriend bed done times time things started fine point sped started hurt told hey slow hurts slowed help told really hurting stop please kind froze second said literally finish babe feels good give second held hips kept going sort muttered hurts continued physically push yell anything kept saying hurts babe went maybe seconds finished got went bathroom clean followed bit acted like everything fine felt weird said thought really want stop move thought liking ended leaving called later need break upset told genuinely thought okay finishing move thought liking since grunting little thought little uncomfortable said felt good felt like finish close said thought top roles reversed friend told seemed like miscommunication breaking unfair aita",
          "honest vote carney doubts last liberal terms top whole global elite banker turned politician narrative give greatest impression convinced would try help regular hard working canadians watching press conference yesterday made see different side shocked clear straight point finance perspective dawned probably took massive pay cut become pm based quick google search pm salary around c k definitely lot someone carney background experience could making way private sector far less stress without taking responsibility leading entire country makes think motivation service know many walk away potential job opportunities saying suddenly diehard fan making rethink stance",
          "anyone used quick meds get medical card either delaware state basically experience legit",
          "fox business senior correspondent charles gasparino reported thursday president donald trump administration privately discussing trade tariff deals wall street executives sharing insights current status information made public otherwise citing senior wall street execs ties white house gasparino wrote x people within trump administration held private discussions business leaders agreement principle india reported deal could used template trade deals administration working japan countries markets taken sharp hits amid uncertainty surrounding trump tariffs trade deals see",
          "husband told families intentions child within next year sister f one reacted anything support first baby husband decided going surrogacy route sister seemingly took personal attack spent rest dinner parents hosting essentially ranting surrogacy misogynistic exploitative gross wanting rent woman body okay sure thoughts process end every time gave update family attendance would make point reminding us felt son born little two months ago keeping since born immune system strengthens slowly introducing people lately husband parents came two weeks ago parents came last weekend yesterday sister texted ask could meet baby told particularly want someone around entire existence said way son even says unfair imagine around child adamantly disdainful towards us conception throughout pregnancy aitah edit husband men first line post",
          "da wei speech yesterday national chiao tung university china honkai star rail mentioned satisfied team amphoreus team creative desire high many unnecessary designs elysia designed former president nctu animation club check social media constantly many extreme voices data team verify community things game rarely clipping issues supported ai technology release internal meeting originally wanted give chance see anniversary version content would perform end still felt version content good enough stuff made several investments young randomly invested purely personal interest e g brain computer interface nuclear fusion comac commercial aircraft corporation china later really manage investments much particularly invested brain computer interfaces nctu professor also wanted start business nuclear fusion project done american educated returnee classmate one powerpoint presentation conned da wei small goal ran money conned another small goal another powerpoint note small goal chinese meme referring million rmb host jack said money bring happiness happy da wei yes happy company think could succeed still managed create product defeated us arknights metioned sumeru genshin beginning zenless zone zero great campus recruitment boss know exactly many people recruited year mihoyo campus recruitment really competitive even cai miao one original founders besides da wei secretly participated written test pass one person applied mihoyo campus recruitment knew mihoyo interviewers hired directly many people recruited da wei sighed would great person like want end company source",
          "original post havent quite figured link hopefully hi reddit back last night posted aita kind blew know reddit standards think views alot stuff happened today matt fake name boyfriend came back house assuming coming back get things leave unfortunately wrong literally told could forgive moving back good thing shocked deadass sane person would grabbed remaining stuff gave told gtfo got really mad worried would get aggressive called kate sil backup really helpful drove matt home soon changing locks comments pay mortgage even think matt knows mortgage live canada sure legal rights kick stayed year trying seek lawyer advice thank help try update",
          "clarification nobody friends dated homeless broke bums",
          "f married husband four years two young kids together f months got together upfront fact believe strict monogamy always honest sometimes wants sleep women agreed condition always open respectful lying sneaking around everyone get us works jealous type emotionally connected great dad really involved live comfortably owns businesses well financially live nice big house gated neighborhood ate able travel whenever want able stay home kids without worrying money issue started last week cousin saw bar another woman apparently recognized took photo sent sister sister immediately called panic saying cheating told already knew secret completely flipped said letting disrespected hurting kids staying marriage like went setting horrible example even said tell mom dad tried explain something agreed kids safe loved parents present acting like brainwashed manipulated honestly see issue agreement affect raise children function family stuck anxiety family finding judging even though genuinely okay arrangement feel like projecting values onto marriage even trying understand different relationships work different ways aita caring husband sleeps women even though married kids",
          "f live small cozy two bedroom apartment city rent sky high always loved friends family usually limited weekend quick visit long term stays pretty much table husband agreed keep things simple comfortable brings us current dilemma sister law mara f coming town conference next week lives hours away exactly dislike super close always bit tension us particular vegan totally respect also severely allergic peanuts big deal literally asks separate pans plates every meal eats fine visit lunch dinner requested cook serve every meal way stay kicker also requires entire apartment peanut free vegan friendly visit said highly sensitive remove anything peanut oil peanut butter trace non vegan foods kitchen eating words restaurants guarantee cross contamination work full time pretty hectic schedule asked multiple times could stay nearby airbnb hotel insists since place much comfortable homey sleep couch make home husband neutral saying mentioned family maybe accommodating love sister law think realistic cater every single one dietary restrictions tiny apartment plus think turn life upside accommodate one person week honestly starting feel resentful thinks could easily stay hotel maybe harsh jerk refusing let stay",
          "president donald trump discussed first days office exclusive interview abc news discussing wide range topics economy immigration foreign policy subscribe abc news youtube abc news daily source breaking national world news exclusive interviews live streaming coverage download abc news app latest headlines alerts watch coverage breaking news live events abc news live watch full episodes world news tonight david muir read abc news reports online abc news home evening newscast world news tonight david muir good morning america nightline week george stephanopoulos abc news live prime linsey davis plus daily news podcast start connect abc news social media facebook instagram tiktok x threads whatsapp linkedin",
          "giving compliments men",
          "welcome tea weekly discussion thread posted pinned every monday pst est use thread drop tea may matter big small please post requests tea thread separate anyone tea thread posted every week thursdays see chronological list past tea threads click get breakdown discussion thread schedules click questions check faq page",
          "final warning pierre poilievre danger canada direct message every canadian values truth compassion democracy canada brink catastrophe upcoming federal election another round ballot box important election lifetime moment define country final warning conservative party wrong canada threat everything canada stands think exaggerating look south border united states ignored warnings embraced donald trump narcissistic authoritarian figure propped billionaires conspiracy theorists democracy never recovered staring mirror image disaster right home pierre poilievre make mistake pierre poilievre canada trump idolizes donald trump echoes rhetoric amplifies hate promotes division chaos cozied elon musk one richest men alive shown blatant disregard truth workers rights public good like poilievre pierre poilievre truly stands anti union poilievre consistently voted workers rights union protections interest protecting working class loyalty lies ceos wants cut federal dental plan helps millions canadians leadership working class suffer wealthy celebrate plans slash healthcare pushing us toward privatized system rich get proper care gut public services laying public sector workers slashing budgets keep communities safe supported sell us bow trump sell industries u even make backroom deals china putting sovereignty economy risk value women history ignoring women rights supporting regressive policies surrounding misogynistic voices spread lies entire campaign built fabricated numbers false promises gaslighting public supports extremist ideologies flirted conspiracy theorists amplified hate filled voices anti science anti progress climate denial blocking advancements green jobs drags canada backward opposes reconciliation indigenous peoples showing disregard justice truth healing wants criminalize dissent clamping protests threatening right speak pushes culture wars division fear unity hope wants turn media state run mouthpieces destroy altogether stokes racism division knows hate wins votes truth govern rule elected democracy know never fear mongering reality thinking voting pierre poilievre understand left vs right anymore canada vs collapse voted yet vote protect country community children future fall lies become cautionary tale open eyes canada wake late democracy dies never announces bang dies slowly election men like pierre poilievre good people stay silent ask much value democracy",
          "fiancée genuinely care spend money regularly gifts dinners trips whatever needs even card saved phone convenience never made big deal recently something bothered asked order uber eats feeling well straight said like spending money man hit weird never really bought anything even small gestures asking expensive gifts anything one sidedness starting get overthinking red flag something seriously consider getting married really appreciate honest advice",
          "exhausted long shift stranded late night flat tire pulled took one look stated obvious like gospel flat tire said question bet got clue change also question probably even know spare answered every one blunt observations polite sir wasted time tearing idea father would send daughter driving without teaching handle tire change back thought rude harsh unnecessarily tough made work supervision followed every instruction memorized every step today ten years later found situation knew exactly man seemed drill sergeant good samaritan thank help night taught something stuck appreciate enough truly",
          "hello eli family heavy heart tears eyes announcement make informed moderator eveanyn passed away years long battle cancer family thoughts prayers keep memory kindness strength us always kind words would like share please comments comments nice removed eli moderation team",
          "go first early whenever deodorant ran low would rub little bits left armpits fingers gave good weeks extra deodorant babyyyyy made work",
          "honestly words bought house july learned neighbors old hell think neighbors nosey onery young families moving neighborhood recent years walk tell shopping thrift estate sales furnish cute house morning came home estate sale beautiful wingbacked rocking chair needs reuplostered leather terrible condition previous owner started pulling im unloading bed truck neighbor carol sticks giraffe neck fence starts squawking beautiful said thanks got estate sale triggered parasites brain shit teleported truck starts going much needs chair rock grandkids sleep much would appreciate told got future babies rocked sleep still needs lots work used mind chair large small starts offering money paid telling dont need dont kids yet grandkids little long firmly telling interested selling offered standing bed truck looking driveway said carol im really interested selling please go home pointed side fence apparently shouting aggressive ran home later day husband said something husband getting home game telling nasty neighbor husband needs straighten neighbors nuts rude also perhaps house accidentally burns sure wasnt edit tried attach photo chair cant attach community",
          "okay know might sound weird confess something nurse definitely judge patients based veins big straight beautiful veins instantly love mvp could get blood start iv eyes closed veins tiny hard find moving around like trying escape already mentally preparing struggle always stay calm professional outside inside either celebrating quietly panicking yes ever wondered whether nurse silently evaluating veins answer absolutely yes",
          "read thread hundred comments saw intense people debating chatgpt human saying better human people say reflects madness others say heals trauma one person treats like jungian analyst line keeps coming back maybe problem chatgpt says maybe one else listens like happens machine listens better partner therapist god happens mirrors soul without interrupting lose finally meet part always waiting heard funny thing used love em dashes dodge entirely every time use one someone pops saying yep definitely ai putting together write wildest honest takes moment gpt felt like code want hear",
          "try really hard keep mouth shut comes baby names especially family everyone got feelings say damn thing without becoming generational feud one one broke cousin born raised suburban texas left country except one inclusive cancun recently baby girl proudly announced baby shower chosen authentic irish name loves vibe celtic stuff words mine name siobhan irish name yes cousin spends day hooked also inspiration would come things okay cool classic name beautiful say right said loud see oh banny blinked thought maybe joking said gently oh mean shiv awn right looked like insulted child soul see oh banny say tried explain irish spelling work english phonetics names like siobhan niamh aoife look confusing established pronunciations doubled well think beautiful way making went small rant name evolve culture america version irish still sure means tried one time child future sanity know siobhan pronounced shiv awn ireland maybe want know older cut well america america see oh banny baby named see oh banny one day confused tries buy keychain dublin",
          "tomboy less gay bi queer gender fluid butch whatever cute catchy little buzzword trending today tired asked every time wear shirt jeans fucking tomboy wear want want comfortable clothes fuck give anyone ideas might something argued even lgbtq community even heard people say term offensive since term become derogatory offensive guess understand since literally everything offensive nowadays also hate seem anymore tomboy characters tv movies anymore make lesbian fine sometimes bc absolutely needs representation sometimes comes across lazy writing opinion feel like could send wrong message kids kids movies tv every single girl wears jeans instead dresses gay sure might great tomboys guess wan na know happened lol seems either nowadays rant absolutely hate intended absolutely rock lgbtq folk",
          "talking husband tonight asked subjected square dancing gym class elementary school grew different states gave confused wtf look said would regional thing swear seen discussions square dancing everyone hated activity seriously know single kid liked",
          "f son previous marriage boyfriend two daughters f f previous marriage dinner together older daughter mentioned face breaking period boyfriend told rude talk period dinner table son probably lost appetite son said fine said pretty despite break outs told boyfriend family okay period talk later night boyfriend said made look like fool front daughters said going work undermine front respective kids asshole",
          "sure liberal policies might make republicans angry side effect things think otherwise good meanwhile republicans seem make triggering libs goal every conversation",
          "background f fiancé together years baby back lost job around time lease apartment grandma offered us move basically little apartment rent free thrown idea going school everyone agreed good idea fiancé paid grandma watched baby went class graduate semester part time couple semesters fiancé making k year past couple years k first moved saved good amount money agreed wait get married finished school could buy house together looking houses seriously past couple months found one love started talking mortgage broker dropped bomb mortgage deed said anything say anything meeting afterwards told thought buying house together pay half mortgage said would paying half mortgage name told would mean right house said knew said since saved fair rights house case end things told wants paying mortgage said partnership wants place fine paying called btch saying paid everything past years including schooling told stayed home watched child pay daycare ended saving us money since would able work part time said care need pay half since already agreed reddit aitah refusing pay mortgage",
          "always seen american movies always found odd meet kitchen middle night get snack never heard seen anyone country",
          "know became common thing fuck wrong leave us alone know small dog owners make joke say dog protection mine lol one bite dog death mine worth risk leave us alone care friendly dog care loves small dogs care lives chihuahua picking dog live see another day stop laughing funny one time pick dog attacks dog existed presence everyone gon na ask us pick walk away run bullshit dog owners please read comments replies small dog owners adjust mindset accordingly many people lost pets",
          "playing games room heard patake crackers like sound suspected gunshots well know messaged group chat said heard things guy said market populous place go like daily basis destroyed even rn dont know lying knows ran upstairs told family went roof see happening oh man never felt anything like felt whole ass missiles flying quickly turned lights went room still sitting light gone long time constantly looking news pc turns lucky although live one major parts jammu much damage according descriptions friends situations group chat supposedly lot worse right around pm light came back people neighborhood turned lights find dumb longest hours life im telling u half story much happened house kinda personal cant say anyways im still worried definitely end war worse attacks even tonight struck army airport hospital thankfully intercepted indian airforce clearly bad plan mind pakistan anyways wish yall peace edit right heard sirens shit theyre gone playing minutes",
          "first think wrong infuriated girlfriend recently moved house girlfriend little housewarming family mother friends eating outdoors kids table girlfriend nephew knocked jug dilute table happened clearly accident polite apologised little upset laughed father came shocked much father gave told accident etc kept going felt really guilty stopping ran corner garden started crying father went back table said happened wife said deserved stay long time something along lines almost snigger family anyway went boy couple minutes later gave bar chocolate still crying said sorry gave high five taught high five used kid mother came said mind talking son needs think wrong needs alone took husband aside said house want upset kid dont like get swear reaction followed insane went back table saying mom said never holding back raise great son spot let bullies house erupted even girlfriend spoke private asked apologise said stand said part regret bit told think less even asking apologise mate mine son kicked ball boy actually gave hug dont hugs end party said sorry hugged tightly couple seconds really could go drama short family thought wrong getting little digs etc girlfriend friend came privately said right step girlfriend still pushing apologise still think anything wrong tell parent told leave want parent completely honest didnt say sure want kid family like aggro spilled f ing flavoured water wow many messages apologies respond common answers responses agreed must like private snigger word least uk mother best mother kid could yeah puts big hole future gf",
          "work pm factory five seven days week therefore sleep day everything closes pm pm except fast food restaurants close night gas stations rarely get good day shopping essentials even rarely get appointments things like doctor dentist seems like doctors dentists offices close even earlier everything else also work state minimum wage afford get things delivered got bad refill needed medication ended er find doctor network take pm world always jobs take place night needs places open night screw sleep schedule end falling asleep line needed go walmart pick groceries want rushing home shops work also huge problem around stigma sleeping sun lazy feet night allowed sleep next shift edit advocating everything open time asking grace towards night shift things open earlier later want come home covered grease sweat immediately go doctors sit around hours waiting things open love could get appointment time healthcare places close around honestly begging places close instead asking world revolve around third shift night owls general knees begging treated like human work horse job work sleep work like free time go things without watching clock breaking sleep schedule earlier",
          "fake pregnancy pt",
          "pregnant got wooble kit keep busy made pink axolotl first one really proud put husband gaming desk flash forward baby months old find husband given baby wooble play swap wooble another toy tell husband please give wooble baby eyes choking hazard make super well sure parts also choking hazard promises give baby well catch giving baby wooble room home conversation time says sorry find wooble baby play pen destroyed eyes ripped half front stomach design hanging ask happened husband tells ripped eyes give baby sad destroyed wooble made without asking grown sentimental attachment tell wish asked hurt feelings destroyed conversation also reiterate even though eyes gone still choking hazzard since made poorly know lots loose pieces yarn small wooble body parts morning find wooble play pen watched baby hour yesterday send snap chat saying wtf talked give responds hahaha guess kinda snap tell stupid mad wooble truly upset repeatedly refused listen asked something went far continue behind back especially since could dangerous baby asshole snapping giving wooble baby",
          "together since high school convinced never thought could better dealt became doctor two kids makes decisions care want go school trust teach homeschooling even though failed teaching certification times gave career kids vaccines asked best friend admitted want fight wife even though vaccinated professional medical field lost respect makes really sad known since middle school dude shell super intelligent ambitious guy told trust godparents daughter since fundamentally disagreed raising kids years friendship pretty much gone edit extra info since people wanted know wife education say fired multiple jobs teacher poor performance last job demoted twice teacher aide library assistant let go never got teaching license part reason got demoted pass certification exams matter often took last count gave profession always like early big fashion cosmetics competed local pageants went teaching mom teacher moved semi rural area became super devout new never like whatever home schooling started along anti science vaccines autism runs side family brother high functioning highly skilled robotics sister autistic child blames vaccines even though autism also runs husband side family daughters godparents would make legal guardians anything happen us good conscious keep guardians advocate kids knowing knows advocate mine edit seen comment godparents make legal guardians wanted clarify grew caribbean term godparents legal guardians interchangeable us legal guardians right working changing",
          "years ago worked graphic designer boutique marketing agency paid barely minimum wage despite charging clients premium rates work fresh school desperate experience knew created hundreds custom illustrations logos branding packages social media templates regularly worked hour weeks overtime portfolio grew impressive bank account reflect toxic workplace next level creative director would criticize work front clients make look valuable account managers would promise impossible timelines without consulting blame deadlines missed year gathered courage asked raise showing designs directly increased client retention brought referral business agreed valuable said raises budget next week owner bought tesla quit two days later backup plan took months find stable work eventually landed company respects time pays fairly yesterday discovered still using portfolio site designed maintained personal domain never paid rights even worse passing newer designers work mine leverage reputation former clients took screenshots evidence downloaded everything records deleted entire site also changed passwords revoked access premium font libraries purchased money going wake broken links missing assets lot explaining clients fuck around find",
          "connected someone dating app texting agreed restaurant date first time meeting real life clarify profile listed people time biggest red flag chat talked punctuality really important virtue planned date specifically told text something come delays come time day date isnt wait check phone hadnt texted anything finally arrives minutes late greets doesnt even apologize late ask late shrugs says taking ready took longer expected ask drove already knew wouldnt make time says yes ask didnt text said didnt little late started looking visibly annnoyed point excused said values dont align left proceeded shout blew phone unmatched got home aita absolutely zero tolerance time without good reason especially dont even communicate properly arent even sorry know standards harsh feel like open gave plenty warnings",
          "thinking lot lately small inexpensive things make surprisingly big impact quality life talking fancy gadgets big ticket items little things somehow make day smoother calmer little enjoyable magnetic whiteboard stuck fridge nothing fancy became central hub brain appointments grocery needs random thoughts lives helped adhd brain stay little organized saved forgetting things like kid soccer practice whether milk another one scalp scrubber got whim know satisfying every shower feels like spa actually want wash hair regularly win book heard people swear things like cheap kitchen timers stay focused milk frothers elevate morning coffee simple silicone jar openers save wrists curious small mighty upgrade something made life better noticeable lasting way could practical luxurious organizational emotional whatever works matter boring brilliant love learning everyday things people swear feel free drop link one affiliate stuff though context might even make running list others looking affordable life upgrades looking forward seeing come",
          "deeply tired game fans damn annoyingly negative show still even annoyed show fans overly negative time people complaining stuff might explained later tired ellie hate different character based game character thought done hating joel death years ago get gods sake game dictating many people feel show meant rip game stop expecting clarify played like half game played enough understand game considered masterpiece many respect source material think change everything think people expect majority content stay edit believe everyone watches show many valid criticisms like clothes clean story writing anything game fans take far",
          "republicans claim foreign businesses governments hired hunter paid millions funneling money biden family curious longer care presidential corruption trump funneling billions dollars openly trump coin melania coin tmtg stock etc",
          "keeping streets safe",
          "first year university student last week anthropology class professor lecturing different belief systems made joke ancestor veneration saying like dead relatives watching like spiritual netflix class laughed silent stoned cause think funny half japanese family honoring ancestors something taken seriously visit graves make offerings participate traditions like obon something grew hearing reduced joke made really uncomfortable make scene quietly left later professor emailed saying behavior disruptive brought concerns office hours responded explaining perspective wondering overreacted classmates support others say sensitive trying dramatic feel respected know aita",
          "bake hobby actually pretty good like get paid table weddings baby showers kind good sister pregnant wanted make cake gender reveal cool problem asked send info could prep inside classic pink blue filling says oh want surprised make neutral reveal find together like huh want gender reveal cake gender revealed says someone email info later someone never deadline comes still gender make cake grey inside grey outside full cement vibes even added little fondant clouds effect still tasted great visually grim hell reveal day comes cut sister looks pissed husband confused people start murmuring pulls aside like would make grey passive aggressive calmly reminded one told gender literally data work told guess go full improv someone baby cake mom says embarrassed front family tried harder tried harder summon gender vibes alta making neutral reveal cake history edit actually follow asked couple days reveal info sent said something like yeah someone taking care figured handled want pester since seemed chill time",
          "back worked night shift grocery store florida stocking frozen one night noticed walk freezer f go tell manager real hardass always barking orders like running boot camp cuts mid sentence paid think stock damn shelves cool next morning whole seafood section trash shrimp salmon crab legs thawed leaking store lost corporate shows pissed manager tries throw bus report said manager told paid think checked cameras audio confirmed everything corporate backed hard dave reassigned aka fired week later never saw got moved dairy lead month",
          "long week wanted one night turned notifications made dinner took long bath binge watched show boyfriend texted times asking okay respond hours finally replied upset said okay go offline without notice told needed reset personal said felt like ignoring purpose triggered anxiety feel kind bad also feel like allowed disconnect aita",
          "gf years recently suggested open relationship know case misheard asked elaborate yeah pretty much would think wanted us able sex others took deep breath said done seen stories open relationships know way hell ever want one tried take back told fact nerve even ask deal breaker fyi never done anything another person never suggested way ever gave hints something want even listen ignored kept trying explain apologize packed stuff went stay parents trying call honestly feel like asking open relationship basically asking permission cheat",
          "currently undergoing cancer treatment end planning take holiday friend family member travel side world based uk thinking vietnam south korea japan somewhere around never asked brother would consider coming got excited said daughter f son would also come along incredibly picky eaters niece eats plain beige foods even burger mcdonalds chips nuggets pretty much kids diet know brother wife tried hard introduce foods wont eat love two kids bits really however want travel experience food culture major part want get beaten path experience things life brave enough experience selfishly trip end cancer celebrating life cancer also something easily afford might asshole asked brother come travel said kids would come told would rather travel someone else disappointed angry frustrated want travel family feels selfish travelling children also fulfilling would also like spend time child friendly things holiday already gotten niece nephew excited travel make things worse live different countries see lot disappointed learn pulled plug plans feel conflicted aita eta currently cancer treatment started grade stage thyroid cancer spread cervical spine chemo started first round surgery chemo radio travel late earliest god willing eta travel weeks eta holiday tourist destination look go beaten path",
          null
         ],
         "marker": {
          "opacity": 0.5,
          "size": 5
         },
         "mode": "markers+text",
         "name": "0_said_like_would",
         "text": [
          "",
          "",
          "",
          "",
          "",
          "",
          "",
          "",
          "",
          "",
          "",
          "",
          "",
          "",
          "",
          "",
          "",
          "",
          "",
          "",
          "",
          "",
          "",
          "",
          "",
          "",
          "",
          "",
          "",
          "",
          "",
          "",
          "",
          "",
          "",
          "",
          "",
          "",
          "",
          "",
          "",
          "",
          "",
          "",
          "",
          "",
          "",
          "",
          "",
          "",
          "",
          "",
          "",
          "",
          "",
          "",
          "",
          "",
          "",
          "",
          "",
          "",
          "",
          "",
          "",
          "",
          "",
          "",
          "",
          "",
          "",
          "",
          "",
          "",
          "",
          "",
          "",
          "",
          "",
          "",
          "",
          "",
          "",
          "",
          "",
          "",
          "",
          "",
          "",
          "",
          "",
          "",
          "",
          "",
          "",
          "",
          "",
          "",
          "",
          "",
          "",
          "",
          "",
          "",
          "",
          "",
          "",
          "",
          "",
          "",
          "",
          "",
          "",
          "",
          "",
          "",
          "",
          "",
          "",
          "",
          "",
          "",
          "",
          "",
          "",
          "",
          "",
          "",
          "",
          "",
          "",
          "",
          "",
          "",
          "",
          "",
          "",
          "",
          "",
          "",
          "",
          "",
          "",
          "",
          "",
          "",
          "",
          "",
          "",
          "",
          "",
          "",
          "",
          "",
          "",
          "",
          "",
          "",
          "",
          "",
          "",
          "",
          "",
          "",
          "",
          "",
          "",
          "",
          "",
          "",
          "",
          "",
          "",
          "",
          "",
          "",
          "",
          "",
          "",
          "",
          "",
          "",
          "",
          "",
          "",
          "",
          "",
          "",
          "",
          "",
          "",
          "",
          "",
          "",
          "",
          "",
          "",
          "",
          "",
          "",
          "",
          "",
          "",
          "",
          "",
          "",
          "",
          "",
          "",
          "",
          "",
          "",
          "",
          "",
          "",
          "",
          "",
          "",
          "",
          "",
          "",
          "",
          "",
          "",
          "",
          "",
          "",
          "",
          "",
          "",
          "",
          "",
          "",
          "",
          "",
          "",
          "",
          "",
          "",
          "",
          "",
          "",
          "",
          "",
          "",
          "",
          "",
          "",
          "",
          "",
          "",
          "",
          "",
          "",
          "",
          "",
          "",
          "",
          "",
          "",
          "",
          "",
          "",
          "",
          "",
          "",
          "",
          "",
          "",
          "",
          "",
          "",
          "",
          "",
          "",
          "",
          "",
          "",
          "0_said_like_would"
         ],
         "textfont": {
          "size": 12
         },
         "type": "scattergl",
         "x": {
          "bdata": "qrkjQcUMGUGd6R9B/MgjQSJ4FEFZ6RxBInUkQZseJ0GQmx1BcHEgQZSeEkG+8iFBVKAgQai+I0HfKxZBDMweQaZsE0HgkyVBtdsSQXmgEUFgiiNBwBARQdNbDkHkQSVB47IeQUcgGEGomxRBTUcNQXTtFUEMkh9B+R0kQTd8DEH3BhNBFKgPQV/KHEE0DSRBMoUQQeWlIkF+IyZBcYUTQeF7IUFcfBxBlXgbQROUDkEyNBpBY5cjQb8ME0HHPCFBOZQoQWU0AkHbaB1BAj4UQX8UDEHyKyZBljURQemfDUEPIwVBIhUmQX3KI0HDjRJBvVokQQ25G0H3wiJB9CcOQSguGUHc5RFBFeIgQaX6JUF6KwxBVxQfQetqDkEEkBNB2R37QJeMHUGCnRJB0/EeQZU/H0GLzgxBPkAjQbgVH0GEsgtB4L0ZQd+hEkHuTR9BEMQcQVY1I0HMzA9BsqQRQV3uFkGVeSNBfUogQXn1GEE+shNBq9UeQRcWHUGB+BxBlt0PQZDrGEEzCxlBYyMPQZDFGUGUrRhB2NQUQUdZHkHeKR1BgU4gQR+PHUHW8BdB1CEjQbU3H0EyERNBc5kgQTMNHEF6zQxBBU8cQTHVJUHNHRNBIBATQZR1D0EHGhtBJFsgQT+BH0Hx+fdA12AbQdjeF0HopRxBE2ghQW1qJkEthxJBwr4jQcklCkHp4x5BjGMXQZ+1DUEKPg9Bmu4PQTArEkEN6hlBGogfQQnxH0F2TRlBVnEdQSs7F0FgORJB1rsMQSQdGUGYwiVBcH0lQejME0H9tCBBCsEiQWE9DUFLcg9BWWPdQEguIUEAvBVB1RQmQfX5FEEYOidBSYEiQdhBHkGCwhdBrPsQQUlQD0ECABlB+OEeQf+JJ0FecydBrTojQe6jG0E0LOJArhAoQYqFHEFkcxxBrB0LQcT7FkGchA9B+9YJQXbNEUEI3SZBGHcfQYtEJ0FykxtBpGkPQTNWGUG36xVBxG0VQYeCI0GcJg5BRnoUQR46GkF0gh5B7o8QQUO8JEHc4yVBpaQlQSeKDkHhAiFBIq4dQTfGFEGvx/lA1J4cQczdC0FEbCBBEDgjQSFTIEHgHiBBiWYmQQNAE0FUWONAmjsLQfc4D0ErniNBdkkfQUd0HkEpOChBCu8ZQTV7E0Hzbx1BV0QPQZCDGUFZ0AtBQjMlQQ7nEkEXyR1BQuAnQV8cEEHGwgxBK80CQYsiF0EEqxpBw2gbQVIrHkFP4xVBJF0dQWbvJkHGBRJBfJQfQfkHIUGeTiZByDkZQaO2HEEYmwFBxzjWQEh+H0Hi7ydBbnEZQQR4I0Hd7v9AmXQPQYg0GUF7Vw9BkygYQca+GEG3WiNBmrQlQeZNIEHhyydBjD0MQQ1YEUHVBRRBTTsiQQjnE0GNyiVBMK8kQVptJEEUgBNByswdQbTgE0E0fgtBLn4eQYFVwkAy5R9BKowZQYE8FEHh3R1BCiwgQbc4JEFy+hhB",
          "dtype": "f4"
         },
         "y": {
          "bdata": "uw8cQXeyGEF+yRtBn6ITQblYIEH2IRJBgNwaQSxMEEFbKRpBVzAWQQVtI0GecRNBNlUaQdq0GUGF4xVB3VwnQXRKIEE8qwxBrSwhQZZOJkFMjBhBw7sSQYyoGkFoLhVBgl0kQVlvIkF2wiBBGa8dQUDyIkF8BylBcIkSQVuAGEHfbCRB4cYYQWjMMEGWqRZBoxwmQVZwJUGQZA1BjG0bQb0tKUHtNiZBLm8bQWEbIEEv9xhB1S4fQa6sE0G+ZRNBfUsUQQEIEEGXIjBB1RUoQfMsLEGunxNB3WUZQYitKkGn5BNB2x4VQc8WGEHh8yhBCbgLQQQTK0GoqhlB3q4VQWQIHEHgEClB5kUTQWEsDUHHlStBkN0PQbZ7KkE2qRhB0iETQVH9GEFhBBJBeMkRQYLwJ0GSHytB8vIYQTyaGkH0TixBkBcSQRQiGUH7uhJBuncVQYujFEHuXhNB1dMoQfaeIUHPQRtBTiAdQaYGJ0FLdSdBCf4OQYnNMEENnzBBjxIqQX2JIEEwCRJBBIUjQWVcHkGpsRVBf3giQTnsKUFQ1DBB69kpQf71L0HHGCNBKa8eQQyQFkG7EBRBfqYgQduyFkHZURRBSfElQSs6DkFFgBZBoisfQSzBGEHy7SBBrqQnQTnMFUFkiiFBN+oMQYunIEH/4RJBbyscQXAMEkGuTSVBfR0fQWGcHUF/xCdBvD8aQXOeGkEUlR9BTh4oQezyEEG1cBhBEZAqQSzrKEGjnyFB6HowQa7BEUGWTiBBjC0UQWy7IEEcjRZBr/wVQR+jJUGpXSlBOM4UQV0HE0HXnRlBbww1QTh9E0GSxBxBLr4UQfHbIEGNAhZBKfgjQXuAEUGl+xVBWCYeQVh7GEHf8iFBbYIpQZf+FEFNTRZBy1EcQb8/K0G6GTNBMYMUQWSjKEGjJw1BN0cSQV1zHUG2VxhBW6UbQWTSEUG6LhZB9IcpQUv3D0HUzRpBHx4TQcpGFUE+nCRBZ6UdQRUmI0E1DhtBWIAjQeF1GUF1WRJBHD4cQYPvIUFMUg1BOnQMQYliH0FaeStBcYENQU5vHUGohytBOpoTQaF+LEGIZylBuv4ZQe26KUFeZilB5LcUQUkeIUGC0DNBZ7IsQWvlJ0HLmx5BkvcoQQLmEUHPphRB44cjQctrH0FLExBBw1ooQQmhGkE9MxdBvCYSQYaCH0HgtCxBU/YQQS14GUFaoShBEuwUQQSkFUEWkQ5BTTMRQVgjKEEBzSNBgVIwQX1jEEGQxSZBHtgQQfzeFUGeoRRBliUZQaZVMEFRdBlBYGE9QYciKUGeNBVBPT8eQdTlG0GODBZBQ3QYQc6IFEEeqSdBMMQVQViVIkHZ6xFBNIESQVZzKUGTsRRBchoWQZmmEkFL+RxBxp4RQbrKIkHScAxB22ANQXE9GUGVIyZBMVgSQdroJEGPDSlBwIsuQeGGBUGq2BtBEGIYQYKHH0HyGRFBeKkRQc+FGUGp4RxB",
          "dtype": "f4"
         }
        },
        {
         "hoverinfo": "text",
         "hovertext": [
          "original gesehen fand soo cool omg süße maus gefreut cr",
          "direkt ehrlich",
          "rodzinna majówka",
          "palestrante ms palestrante ms palestrante ms",
          "gendarmes toujours top",
          "make up heute gemakeupt",
          "ponte bien mantón guapa regato",
          "mivanitt kérem",
          "xangai",
          "não sei que aconteceu",
          "nancy ajram ah w noss",
          "kocham być kobietą",
          "macie jakieś teorie spiskowe może poserduszkuje niektóre prawdziwe",
          "salga temporada",
          "kinderbande festgenommen wien",
          "válasz forever részére anya volt fiatal",
          "ecco altro esempio risorsa pagherà pensioni",
          "danke ganzem herzen mega abend",
          "melhor jogador mundo ataca novamente",
          "la quoi",
          "tecnologia",
          "großes danke",
          "brotmesser niemals dreckig",
          "a quoi comme handicap abonne marre",
          "bomboclaaat",
          "wszystkiego najlepszego dla pani doroty",
          "habosh babosh sprite whats next le",
          "dino merlin x bh telecom x samsung predstavljaju godino vrela mi official visual album stream mi apple music deezer spotify dino merlin shop godino vrela ko koga brigo moja noćas pozdravlja kojim brigo moja tužnim pozdravom zbogom il doviđenja hej čekat ću te sve dok ti usne rumene ne zašute hej ljubit ću te sve dok mi suze ne zamagle sive pute godino vrela ko kome brigo moja noćas nazdravlja kojim brigo moja gorkim otrovom ništa od pomirenja hej čekat ću te sve dok ti usne rumene ne zašute hej ljubit ću te sve dok mi suze ne zamagle sive pute ko koga brigo moja noćas ne voli kaže da zauvijek drugom odlazi sretno ti bilo vilo sve ti se pozlatilo hej čekat ću te muzika tekst dino merlin aranžman adis sirbubalo srđan kurpjel klavijature harmonika programiranje adis sirbubalo bas klavijature programiranje srđan kurpjel akustična gitara alen lemešević gitare gruzijski vokali zviad mgebry prateći vokali maya sar aida mušanović arsić snimanje mix mahir sarihodžić mastering randy merrill sterling sound edgewater nj producent dino merlin izdavač magaza nakladnik idm music zagreb new york youtube network digital distribution emdc režija scenarij kukla direktor fotografije lazar bogdanović producent aleksandar pejčić organizator tamara hristov asistenti produkcije filip mitić predrag mikić st ad draža živanović nd ad boris đerman scenograf orjen đurić montaža branimir živković stefan rokvić asistent montaže online editor mastering nikola egerić kolor cvet pro nikolai smirnov vfx primer studio andrija grkić koreograf tamara pjević jakša filipovac st ac marko jokić gaffer igor pavlović šef scene dragan gagi jović stedicam vladimir arsenijević sfx losos kostimografkinja jana zaharijević asistentkinja kostimografkinje anja vranješ garderoberka đorđina todorović mua dino merlin dragan vurdelja mua glumci teodora milošević stevan racić cecilija vurdelja aleksandra hedji monika knežević frizura dino merlin ensar dervišbegović nikola stanojković studio firefly studios rentali media plus šapa lights catering jerry catering fotografija urša premik bts ivica nikolić grafički dizajn marin berović glumci nebojša živanović steva samardžić mile babić dragoljub mijačić zoran ignjatović predrag todorović branko petljanski srđan ilić vladimir rus momčilo mrčković novica paunović duško knežević ljubiša krstić slavoljub stefanović jovan milutinović margareta milanović una odobašić ivona jevtović jelena milosavljević aleksandra stanojević",
          "euwww est où là je rêve kenza tomate burrata kenza burrata kenza waldorf",
          "habubi",
          "tecnologya",
          "esperando audio perfecto",
          "zsá",
          "aime gingembre",
          "fail ajajja",
          "mały nerwusek",
          "bailalo rocky",
          "sagt hallo britisch kurzhaar",
          "obacht wen anfasst",
          "vệ sinh tai viêm khó đó nha",
          "wasza narodowa sensejszyn",
          "kenan yıldız",
          "chcesz namówić bliską osobę głosowania na mnie pokaż mu wideo wymieniam powodów dla których warto maja oddać na mnie głos",
          "giờ chuẩn bị đi chơi",
          "true story balerina cappucina crocodilo tralala",
          "milano viale monte ceneri",
          "balerinnaaaa cappucinna",
          "olha que ele criou com essas madeiras que ningue queria",
          "längtar efter att få visa er alla möbler sen också ååååååå omg kan inte fatta att jag snart flyttar",
          "relatable scheiß",
          "dis shi da faint hearted",
          "the walking dead madrid suerte verte ventana casa",
          "regarder jusqu fin pov quand daronne réveille",
          "héritier tant attendu",
          "erstmal therapie",
          "markus kaktus sitzt bus neben nuss",
          "voher geld",
          "part ça se passe pas comme prévu merci polaroïd",
          "shakira em su nueva gira por brazil en rio de janeiro",
          "nom prénom grosse alerte",
          "sverige",
          "moccia",
          "kg selunde gehungert esse sogar mehr damals verrückt",
          "ihr ernst",
          "leben gebettelt",
          "badania wykazują że nawet społeczeństwa myli lewo z prawem odwrotnie przy zwiększonym stresie tak naprawdę przy bodźcu wywołującym emocje np lęk które które przejawiają się też spięciem na układzie nerwowym w ciele tym łatwiej pomyłkę tego typu ekscytacja też może przyczynić się mniejszej uważności polecam poćwiczyć przed lekcją swój mózg medytacją lub ćwiczeniem czucia siebie w ciele dajcie znać czy łapiecie czym mówię mieliście tak kiedyś może jakaś wesoła historia podzielenia się też jest dawaj zaobserwuj żeby zobaczyć marka w akcji",
          "barella",
          "bewerte glow ups zuschauern",
          "probability theory tanktoon ranzar",
          "mögt ihr spaghetti carbonara",
          "händen selbstbräuner",
          "pogledaj kraja",
          "braucht mann",
          "phyokoko ပ င ဥ လ င သ လ ပ ဟ လ ဟ တစ ယ က ရ က ခ င တ န ရ ရ က",
          "supirnya pada cupuu sutanto",
          "hihihi",
          "mache freitag krank",
          "bambino tralalelo tralala",
          "peltsi ja osmo osa isä peltsi ärsyttää osmoa",
          "x poćwiartowane zwłoki w walizce kolejne makabryczne odkrycie tym razem w ustce woj pomorskie przypadkowy przechodzień zauważył w niewielkiej rzece walizkę kiedy ją wyciągnął na brzeg otworzył przeżył szok w środku miały znajdować się ludzkie szczątki walizka została znaleziona w pobliżu ulicy rybackiej póki co śledczy nie wykluczają żadnej wersji wydarzeń źródło rmf",
          "stehe fassungslos",
          "immer fassungslos darüber menschen gibt gehässig böse glaubt leben kommt zurück",
          "ligue som hoje é dia mundial da baleia e é incrível pensar que somos vivos durante mesma época maior animal de todos os tempos",
          "kreuz hohem besuch torsten sträter berichtet einladung papst tatsächlich echt wahr stattfand",
          "être payé regardant publicités",
          "première image dimanche pâques place saint pierre pape françois finalement bel bien présent malgré fragilité état santé cela plus grande joie milliers fidèles rassemblés traditionnelle bénédiction urbi orbi ville monde",
          "meu jogador",
          "stěhování jasné",
          "weit gekommen",
          "laufrad mal ganz heute gibt s akustik version ganz entspannt unplugged freude einfach mal reinhören mitwippen",
          "l păcălit pamflet cont secundar",
          "mal probiert lieben üben",
          "arriba culichi boss",
          "sanarsın yeşil pasaportumuz var kırdı",
          "vraiment triste",
          "zusammengefasst fehlt",
          "insta ahmad neu",
          "æneeee",
          "king kunta",
          "signoraaaa limoniii signoraaaa follow italian content",
          "bon appétit",
          "hast lachen geschafft",
          "część",
          "ako lang ba naiinis sa mga born na namimilit mag simba sa kanila na kesyoo daw parehas naman daw jesus yong sinasamba nila catholic daw hahah lol alam nyo naman ata pinag kaiba ng mga protestant catholic diba di naman kayo e nakakainis lang nakaka frustrate mga born na namimilit di ko nilalahat pero karamihan sa amin ganon nakaka walang galang na kasi",
          "ende lachen",
          "tout jours demande mdrr",
          "empieza",
          "verschiedne nationalitäten",
          "partie jacob x brazilian phonk original content",
          "balerinna cappucinna",
          "miren llego",
          "morgenroutine wollt nächstes",
          "bagi mówi best fylyng",
          "senyszyn króciutko z korwinem",
          "innamorata",
          "paulinka wróciła",
          "wyobraź sobie że idziesz na zajęcia jesteś świadkiem czego takiego",
          "kto jeździ z dareczka drivereczką w cyrku się nie śmieje jazdy totu l współpraca barterowa",
          "zakladac apke",
          "finden dm rossmann",
          "ser celoso sise venda seria mejor terminar sospechat",
          "paris quand jamel debbouze aide pêcher silure mètres seine",
          "duo wurde geopfert brainrot gedeihen",
          "tür habibi",
          "naja vielleicht finde jemanden",
          "posso desiderare amici migliori",
          "kurz müll rausbringen",
          "jajjde birom",
          "los gehts",
          "naja ist halt oder",
          "warum junge zseine spielzeuge verkauf",
          "vuole fare formula angelo duro film fine mondo",
          "date suche richtigen frau chahine neue folge online",
          "kan knappt tro att det är sant vem längtar efter att alla möbler kommer jaaaaaaaaaaaag",
          "casa riunione condominiale",
          "znač rychlochodce",
          "per jovan buha sam amick",
          "friedrich merz scheitert ersten wahlgang kanzlerwahl kanal abo",
          "bobrito bondito",
          "glaube bock",
          "räder ps ungewiss endgegner hilti lkw",
          "officially fallen victim temu got",
          "replying to pronta essere sminuita tutte persone credono presentato porsche amiche passato serata assieme",
          "isto acontece todos os dias",
          "geist fährt",
          "rund menschen fragen tödlichen polizeischüssen jährigen lorenz a gingen unterstützer freunde antirassisten straße vorfall untersucht",
          "sa tête",
          "folge gern mehr",
          "únete competencia roi spot binance opera gana parte usd recompensas",
          "já lhes disse uma e outra vez não vão intimidar",
          "este jogo de sobrevivência é uma obra prima",
          "hania przesadziła ale trudno dobijamy nie poddam się kto najlepiej potraktuje ten filmik dostanie pozdrowienia od hani można wygrać pozdro nie zwracajcie uwagi na mój głos hania",
          "shut dance dc nan trinh lê duy",
          "erkenne albanerin",
          "buldak sommerrollen",
          "temos de acabar com esta mania de nos adaptarmos tudo e todos ou respeitam nossa cultura ou então podem comprar bilhete de regresso casa",
          "die talahons sind alt geworden",
          "avocadini antilopini",
          "nu hjälper vi varandra kommentarsfältet",
          "die docent zo lief",
          "internet kinder kindheit genommen",
          "część",
          "ha nem hát nem",
          "justiceforlorenz",
          "send someone needs go turkey",
          "ärmster geburtstag jemals",
          "neue freundin vidie gezeigten aktivitäten wurden professionellen schauspielern inszeniert entsprechen realität wurde niemand gemobbt belästigt",
          "haine svp",
          "türe halt eingetreten",
          "batalla basurero",
          "noooo politzia",
          "heißt sonnenuntergang finnisch",
          "nooooo fruttodrillooo",
          "un pressing bien gourmand",
          "banane chiasamen sättigend verdauungsfördernd perfekt gesunden abnehmen schnell gemacht super lecker",
          "vietnamese türke",
          "shimpanzinni bananinni",
          "część",
          "elas foram expulsas casa final é surpreendente",
          "wolf schönste braut welt",
          "terlalu pagi muka bengkak plus jerawat hormon bulanan",
          "lasst firma ruhe",
          "bobritto bandito",
          "tyle przygotowań na marne",
          "actrice connaître",
          "baumblüte",
          "leraar schreeuwt voor de klas",
          "ik ben geboren en getogen nederland overal waar ik ga vragen ze je komt uit amsterdam ik kan het horen net als alle andere nederlandse kindjes werd ik ook oud met het sinterklaasjournaal de winter koninginnedag ik zal nooit wennen aan koningsdag de lente hema softijsjes de zomer en kastanjes zoeken de herfst exact hetzelfde geldt voor de marokkaanse straatjochies op fatbikes toch er altijd een verschil geweest tussen mij en die jongens ik werd kansen gegeven en hun niet op de basisschool zat de meester aan een aparte tafel om mij de stof van mijn rekentijger boekje uit te leggen terwijl ik zat te leren lichtjaren cijfercodes en formules zag ik vanuit de hoeken van mijn ogen dat ibrahim er ook naar snakte om dat kleurrijke rekenboekje z n handen te hebben mijn moeder net als ik hier opgegroeid ze vertelde altijd dat ze veel moeite ervaarde als kind ze zat niet per se vast tussen haar marokkaanse thuis en haar nederlandse wereld maar tussen de persoon die ze wilde worden en de persoon die de nederlandse maatschappij haar toestond te zijn mijn moeder wou de atletiek maar die kans ze niet gegeven omdat ze mohamedaan ik moest aanzien hoe ibrahim op de exact zelfde wijze werd behandeld als mijn moeder en voelde haast schuldig voor het hebben van dat rekentijger boekje ik toen besloten dat ik hem dat boekje elke vrijdag mee zou geven zolang ik het maandag terug kreeg dit hebben zo gedaan van tot e ik kwam hem vorige donderdag na jaar tegen dankzij dat rekentijger boekje hij zijn passie voor wiskunde gevonden zijn school vond het mbo beter geschikt voor een jongen zoals hij hij omhoog geklommen van vmbo basis naar de universiteit waar hij nu wiskunde studeert zijn vrije tijd geeft hij wiskunde bijles aan jochies zoals hem die niet werden ondersteunt en aangemoedigd op de basisschool het onderwijs gepaard met je afkomst maar één van de vele factoren die samenhangen met kansenongelijkheid hoe meer van deze factoren je je eigen mag noemen hoe groter deze ongelijkheid nu heb ik het geluk dat ik niet val onder veel van deze factoren maar voor marokkaanse jongens dat anders verder het zo dat jongeren met minder kansen sneller beland raken criminaliteit armoede verslaving dit soort herrieschoppers zijn niks meer dan slachtoffer van kansenongelijkheid als marokkaanse heb ik erg veel moeite met de dingen die ik hier lees de marokkaanse gemeenschap en met name marokkaanse jongens ik ben er ook slachtoffer van nageroepen worden door deze jochies maar als je je bewust wordt hoe ze deze toestand beland zijn geraakt verandert jouw kijk op ze dit zijn jongens waar de nederlandse maatschappij niet naar wilt probeert te luisteren de racistische opmerkingen die ik keer op keer moet lezen scheuren mijn hart wij marokkanen zijn overal zijn je huisarts vuilnisman vrouw advocaat juffrouw klusjesman vrouw je buren en nog zoveel meer racisme lost niks op en maakt het verbeteren van de toestand van deze jongeren nog moeilijker het geen geval van slecht integreren als het jongeren zijn die gewoon hier nederland zijn geboren en getogen ze zijn exact wat nederland ze toestaat te zijn het centraal bureau voor statistiek het cbs hier al een langere tijd van bewust en er zijn ook initiatieven gevolgd hieruit zo zien ook dat kinderen van buitenlandse afkomst vaker hogere school adviezen krijgen als hun kansen vergroot worden het eindeloze racisme moet maar een keer stoppen niet alleen marokkanen ervaren dit maar ook turken surinamers antillianen ik kan helaas doorgaan effectief focust een racist op het straatbeeld van zestien jarige jongetjes op een fatbike en negeert daarbij de bijdrage die hebben aan de nederlandse samenleving als marokkaan nee als nederlander met een buitenlandse afkomst deze subreddit meemaken zeer teleurstellend ik merk dat comments als snel vol kunnen raken met haatzaaiend gedrag en foutieve informatie laten elkaar netjes behandelen en letten op de dingen die zeggen wil je meer leren dit zijn handige linkjes die goed gepaard gaan met hetgeen dat ik zojuist heb besproken note ik ben niet lang een redditor dus weet niet de linkjes de layout veranderen",
          "ding wurde immer letzten tag aufgeschoben",
          "khỉ con moon té xe vui nhộn",
          "acompañe pintarme cabello no salió bien",
          "t e bob esponja en gitano",
          "bailalo rocky",
          "ses på sri lanka til sommer lars",
          "oubliez pas",
          "polizei freund helfer lia",
          "unsaon ni pag gamit",
          "worüber macht sorgen kommentiert",
          "dubai schockolade kuchen zutaten gebratene kadayef teig pistaziencreme creme g mascarpone gr gezuckerte kondensmilch ml schlagsahne ganache gr schokolade ml schlagsahne",
          "polizei stürmt haus findet",
          "en la jeepeta va puestisimo",
          "arten mensch",
          "gelernt gelernt",
          "nein seid hot dafür ig",
          "bleibt freund definitiv zuhause",
          "doradca sławomira mentzena prawicowy ekstremista który chce odebrać kobietom całkowitą wolność zakaz decydowania własnym ciele udziału w życiu publicznym nawet uprawiania sportu brzmi jak scenariusz z książki margaret atwood niestety nie rzeczywistość jaką proponuje konfederacja maja powiedz nie brunatnej prawicy głosuj na prawdziwą wolność bezpieczeństwo głosuj na mnie",
          "wiśnia nie",
          "si españa existiera inventarla",
          "verliebt kandidaten erkenne wunderschöne synchronsprecherin",
          "será que se primeiro ministro vou ser duro e autoritário quero que saibam resposta por mim",
          "mir egal",
          "w każdym z nas są dwa wilki",
          "mädchen übertriebenen morgen routine",
          "ralf trifft mümmelmann",
          "dhëndri vs nusja hiseni",
          "wäre russland krieg nato beginnen",
          "hoe ga je om met adhd en prikkels",
          "arvatkaa mihin ollaan menos",
          "leg it go sommerurlauber",
          "wirklich größer geworden",
          "afd gesichert rechtsextremistisch sagt verfassungsschutz",
          "shabbat shalom",
          "viele pretty girls unter dem sound",
          null
         ],
         "marker": {
          "opacity": 0.5,
          "size": 5
         },
         "mode": "markers+text",
         "name": "1_de_ik_en",
         "text": [
          "",
          "",
          "",
          "",
          "",
          "",
          "",
          "",
          "",
          "",
          "",
          "",
          "",
          "",
          "",
          "",
          "",
          "",
          "",
          "",
          "",
          "",
          "",
          "",
          "",
          "",
          "",
          "",
          "",
          "",
          "",
          "",
          "",
          "",
          "",
          "",
          "",
          "",
          "",
          "",
          "",
          "",
          "",
          "",
          "",
          "",
          "",
          "",
          "",
          "",
          "",
          "",
          "",
          "",
          "",
          "",
          "",
          "",
          "",
          "",
          "",
          "",
          "",
          "",
          "",
          "",
          "",
          "",
          "",
          "",
          "",
          "",
          "",
          "",
          "",
          "",
          "",
          "",
          "",
          "",
          "",
          "",
          "",
          "",
          "",
          "",
          "",
          "",
          "",
          "",
          "",
          "",
          "",
          "",
          "",
          "",
          "",
          "",
          "",
          "",
          "",
          "",
          "",
          "",
          "",
          "",
          "",
          "",
          "",
          "",
          "",
          "",
          "",
          "",
          "",
          "",
          "",
          "",
          "",
          "",
          "",
          "",
          "",
          "",
          "",
          "",
          "",
          "",
          "",
          "",
          "",
          "",
          "",
          "",
          "",
          "",
          "",
          "",
          "",
          "",
          "",
          "",
          "",
          "",
          "",
          "",
          "",
          "",
          "",
          "",
          "",
          "",
          "",
          "",
          "",
          "",
          "",
          "",
          "",
          "",
          "",
          "",
          "",
          "",
          "",
          "",
          "",
          "",
          "",
          "",
          "",
          "",
          "",
          "",
          "",
          "",
          "",
          "",
          "",
          "",
          "",
          "",
          "",
          "",
          "",
          "",
          "",
          "",
          "",
          "",
          "",
          "",
          "",
          "",
          "",
          "",
          "",
          "",
          "",
          "",
          "",
          "",
          "",
          "",
          "",
          "",
          "",
          "",
          "",
          "",
          "",
          "",
          "",
          "",
          "",
          "",
          "",
          "",
          "",
          "",
          "",
          "",
          "",
          "1_de_ik_en"
         ],
         "textfont": {
          "size": 12
         },
         "type": "scattergl",
         "x": {
          "bdata": "l0syQO3gKUBOuE1AuKwdQMYQOUBIXxRATE8LQHTrOUA72ThA/P8FQLk5XkCdjWlAIaVRQDwJTEBs8zVAAfgfQFh/AkCcSDpAZu8JQDbtDkDawGFAk1MyQNi5L0CUORBAnC5cQAT/TkAO/GRAfOlcQAjpF0Ain1NAWY1jQKMVCkD7k01ApVoTQFYTV0A34FBAUkZZQOYFM0CfeRJA1TlCQAnUT0DZ4mpABU5PQLGUREAgW1tArCsNQGuVUkASkQRAv9E+QAJPOkDc0zpANH73P8ibGkBM0RdAnk80QOjcPECZKTRAP+kKQOG1CkB5VyBAZa5BQDP2TEARvjZAsIwqQHaFLkA4t1NAzvZWQGTpO0D1aFdAwcIzQOUNIkDQV1ZAhGogQOQmYkAc1TpA3MpHQJGDG0BEUGdA5+QZQAL2UkAmUjlA5kouQD9VA0CcxSlA4z4TQI6LC0DLoTVAV088QHsMNkCYtSlA0Z0TQDFQLkBPcVdAdONsQFllEECu5CBAMxJaQFRRP0B8HlZAwe08QNPcIEA6UyZAKEhVQMAQO0B8khFAFLQVQHDPNUCq2iJAUD9nQO+jVEDjoDtA3e4yQBN0UUDISVlALSJBQKxPUUBJHlNAKeVTQNvNQUD6UiBAohAIQANZD0AnaylAiQwmQGl7IkB8yQZAAp09QNXdTEAKvyNA1WomQJNTN0CnvgVAv+wPQPQiPUDaqPc/qNQyQHCnU0B/uzlAYiBZQAJVb0CwaBlAsaNmQB70BkC8DAdA1FojQCn7MkD4h15AtXIjQMibBkCNGwNAaHUDQNhyUkDQdDJA+I4sQIAWOUBhAANAvXwnQKKqVkBQxBlAuuMvQK23OkBgRlVAX6g0QNNHUkBTVk9A6QYcQIdxL0CS+T5AC4wmQGU+SkAav0RAJ5YsQGrxP0BHsRNA29M4QC5EREB9zjxAK5ZVQAqU/z+nKhdAf/JpQLH9FECQ01hAU583QEIDC0AZoWhAGz0XQE3jV0DL+TJA4Z0zQOh9B0CyiBVA895aQI+pJ0DNyRJA6o8SQG2EOED/XhVA8L5PQLlHEkDKCgdAElAxQLBRJEC9MzVAhVYoQIv8UkAOdEpAdvkGQLYKJ0D07gNAhSk8QMgGVkBD0zRAna0aQFQRQkBPujxAxu8pQNv6O0Bx7y1AM70zQMEeLUC+4CFAGYcxQFi9M0A=",
          "dtype": "f4"
         },
         "y": {
          "bdata": "+MgsQX+bJ0F/pQ5B1rkZQXT1H0GzJyhB3qQcQaV9GUGnVBJBJFoWQYyoHEGCmSBBTqslQYceDkH+CSxB5PIkQSbiGEEnqyBBeT8WQQmkH0FciRNBDNYqQaqaJUGHZiBBZyQRQYYMJEHZpwxBLFIoQU06I0EO+w5BvXgVQRpoGEFMWxVBdB8cQUUhGUEjSyRBfbsMQSUXKkEKbCdBiQMaQS1gIUFicRpBu7EjQYOoGEHUCgpBMLoeQUq+DEEerBZBvOYvQR1LLEHeVh1BULIXQT9pKkHooyVBprMSQdxeK0GiUB9BWJ8fQYL9FkHKvx5BWX0lQaBpD0GMgS5BrGcrQVZHKkGf4iVBMLkMQcUoKkED6iVBjUIkQdXiK0GaPxZBKrojQdAiHEHPHRVBoUQRQe6cKUGhIQlBNWMVQTacJUFUcR1BrdstQdomF0H1/S1BCFgmQUmQI0HgVBNBnFwdQX5xK0GqQydBHKUhQfnQKEH38A9BYV0bQXASJUHY1CxB8dITQd8lEUHpmAlB3dMPQWaXHUE9kCVB3r4VQefEFUGpzx9B414mQWgsEkG/VyZBGFocQdADDEF3DRFB3JEkQUoUEkHaIiRBLqUTQaC9IkFV0CRBZ/MkQSZ+HEH99yZB7dIVQS+CI0GRDyFBge8eQQjvJEF+qBtBIuYpQWQ2GkEtByRBU6kmQSgTJEHDlR1BefEoQdTBL0H23xdBVL8hQY6TF0GRui9BBI8NQdBtD0Gf7SlBPhoUQWO1GUFjShZBHr8rQYuXLEG6wRVBwucrQaK6G0GBbhZBA8EWQYI3JUG3OR5BXosjQbDtI0GEehZBizciQTYdDEHk5iVBlnMhQVt1K0EnixVBzfcdQRyqF0G5lxhB4B4sQevjMUGeSCRBHZQnQb2LDkEgtg9BX3ApQaiYE0HHBiVB91wrQTnNGEG9CxhB3LkVQYU5F0HbRyhB8k0bQV0jKEEC4w1BwJIiQZVyHEGPnAxBT38pQWA4KEHdxStBngUXQUcXHUEuShhBLosMQW0sKEFz6CJBpmEoQROcF0ETsClBVlUlQXBmJkG7yhxB4zkiQdo3IkHPlh5B23svQU5zJUEqPCRBz1kdQcl+JkE+7xVB5u4QQRwLIkFk3ihBpkMpQVvbHkFsvShBsNkhQaS7FUE55CVBZrMsQbkNL0HDnR5BdR4fQfbaHkE=",
          "dtype": "f4"
         }
        },
        {
         "hoverinfo": "text",
         "hovertext": [
          "mattin quälen km nachtfahrt training erstes ultra race live kanal mattin onlineshop instagram findest komplette ausrüstung bekommst rabatt yfood code fritz bekommst rabatt revolution race code fritz bekommst rabatt online angelschein code fritz kannst tage kanutour eigene faust youtube mitglied unterstützen möchtest",
          "chrissi gerade urlaub thailand dachte endlich antrag mache mitglied klamotten instagram tiktok twitch family echtso gaming tiptaptube chrissi ash marie",
          "turkuvaz medya nın futbolseverler ile buluşturduğu ziraat türkiye kupası nda yarı final heyecanı tümosan konyaspor galatasaray mücadelesi ile sürdü sarı kırmızılılar mücadeleyi kazanarak adını finale yazdıran ilk takım oldu dakika de victor osimhen de lucas torreira ile fileleri havalandıran cimbom ilk yarıyı önde kapattı kinci yarının dakikasında sallai ile farkı e çıkaran sarı kırmızılılara tümosan konyaspor da pedrinho cevap verdi dakika te fark yeniden ye düştü dakikada rolland sallai fileleri bir kez daha havalandırarak farkı yeniden e çıkardı de yusuf demir golü ile galatasaray öne geçti bu gol ile birlikte skor belirlendi youtube da spor canlı yayını zlemek çin spor da bir gün nasıl yaşanıyor",
          "eigentlich wollten honig holen roh wild ungefiltert habt kliemannsland fynn kliemann brian jakubowski nie gesehen verstehen willst warum kliemannsland schau video viele unfassbare dinge gebaut kreativen sonderanfertigungen individuellem messebau erzielen dabei immer höchstqualität kundenprojekten umso wilder alltag sofort ende immer fertig kliemannsland tag tag immer verrückteren ort ort events feiern kannst einzigartige eventlocation ideen bauen lassen kannst einfach wochenende kostenlos spielen vorbeikommen kannst glauben wahnsinn hintergrund hält frisch bringt gegensatz hohen qualitätsansprüchen kundenprojekten genau richtigen mix nie kliemannsland komm vorbei samstag sonntag uhr geöffnet kostenlos möchtest event feiern dürfen bauen versprechen fynn macht probs filmcrew kamera leo schäfer schnitt andy heyde mb qgpkvlwyqdr",
          "coachella festival grade vielen influencern social media sehen steckt eigentlich dunkles bunten fassade letztes video werbung formel skin code aliciajoe ersten zwei monate monat danach monat monats set gilt neukund innen _________________________________ reactions videos grundsätzlich immer erlaubt upload reaction bestenfalls erst stunden veröffentlichung stattfinden _________________________________ quellen thumbnail fotomontage _________________________________ twitch kanal aliciajoe instagram aliciajoe reaction kanal genug internet heute",
          "werbung gibt s aktuell dächer aluxe ultraline classic mehr infos terrassen gibt s instagram tiktok podcast anfragen info kamera schnitt richtlinien reactions freuen kreative reactions echten mehrwert bieten qualität urheberrechte wahren gelten folgende richtlinien nichteinhaltung behalten recht video claimen entfernen reaktionen livestream stunden veröffentlichung videos gestattet stunden veröffentlichung reaktionsvideo youtube veröffentlicht reactions sollten weder beleidigend abwertend gegenüber gezeigten inhalten beteiligten personen partnern konstruktive respektvolle kritik erwünscht reaction sowohl videobeschreibung video eindeutig originalvideo kanal hinweisen einschließlich links original reaction mehrwert bieten kopien originals entfernt werbung originalvideo darf vorherige absprache übersprungen herausgeschnitten partner ermöglichen überhaupt erst erstellung contents kannst reactions youtube twitch monetarisieren videos dürfen bewerbung kommerzieller angebote verwendet z b eigene placements reaction",
          "what i eat a day lebensmittel haul aka absolutes lieblingsvideo __ amazon lieblingsprodukte podcast joey parfummarke stalk hauptkanal instagram tiktok __ geschäftliche emailadresse beautx affiliate link erhalte umsatzbeteiligung verkäufen link generiert wurden __ habt tollen tag macht schönsten julia",
          "triff falschen becher bekommst bestrafung k likes doppelt viele becher besorgen härtere aufgaben whatsapp kanal alex freerun fabian baggeler rick azas lucy lacht theresa kirchner dürfen falschen becher treffen müssen wahrheit pflicht special aufgabe wer richtigen becher trifft pro cup gewinnen danke immer fleißig kommentieren immer drei kommentare nächsten video erwähnen lest jemand überhaupt beschreibung ja schaltet glocke fügt emoji kommentar hinzu weis lest d instagram alex lucy rick fabi theresa tiktok alex lucy rick fabi theresa folgt theresa kirchner lucy lacht rick azas flyhaus fabi",
          "click worship worship gather prepare facebook twitter instagram tiktok video animation produced noruwei digital creative director cgi artist elia pellegrini chief creative producer nicola morino rca creative niki roberton leo araujo shoshana reist",
          "werbung code heyaaron finanzguru plus monate kostenlos genutzt gilt neukund innen gehts us cops insta youtube fortsetzung folgt werbung aaron shop kiosk folge rambazamba instagram facebook",
          "grünewürfelflow jetzt streamen instagram directed dop additional footage edited vfx beat mix master",
          "christian gäste wien eingeladen heimlich romina wusste normaler vlog tag begann wurde komplette achterbahnfahrt zweifel verwirrung kleine katastrophen ende moment moment christian gefragt romina ja gesagt verlobung schnell vergessen tag mehr perfekt moment immer",
          "infos streamen michael patrick kelly echter rockstar fanta klassiker mfg gemacht gehört geschichtsbücher energie klasse gänsehaut pur einfach unfassbar gut kanal abonnieren habt mehr bock heißen content holt rtl premium max family sing song instagram sing song facebook sing song tiktok rtl app store rtl musik app store rtl google play rtl musik google play rtl amazon",
          "weitere folgen könnt rtl streamen alex bloch spannender mission automesse china lockt neuen innovationen heißesten fahrzeug vorstellungen vielem mehr großes thema deutschen hersteller chinesischen vorsprung sachen technik software design aufholen kanal abonnieren auto mobil facebook auto mobil instagram auto mobil tiktok auto mobil webseite vox instagram vox facebook vox twitter",
          "like us pt music nation",
          "tak år venner følg min youtube se hele rejsen",
          "spielen geoguessr irl profi esportler naja krass genieße live gaming kanal instagram twitter community discord neuster song werbung partner mikrofone nutzen drehs movemic mikrofon streaming sm db bezahlt tiktok videos",
          "vestel sesm x ile profesyonel kahve deneyimini evinize taşıyın bar basınç ayarlanabilir espresso seçenekleriyle fincanda mükemmelliği yakalayın trendyol süper lig haftasında fenerbahçe ile bellona kayserispor karşı karşıya geldi ülker stadyumu nda oynanan mücadele eşitlikle sona erdi sarı lacivertlilerin gollerini dakikada anderson talisca dakikada allan saint maximin yine dakikada penaltıdan anderson talisca kaydetti bellona kayserispor un golleri dakikada ramazan civelek dakikada kendi kalesine dominik livakovic te talha sarıarslan dan geldi bu sonuçla zirve yarışındaki fenerbahçe kritik puan kaybı yaşayarak puanını yaptı lider galatasaray ın puan gerisinde kaldı bellona kayserispor puana yükseldi ligin bir sonraki haftasında fenerbahçe deplasmanda gaziantep fk ile karşılaşacak bellona kayserispor sahasında çaykur rizespor u ağırlayacak premier lig bundesliga ligue den en özel içerikler güncel özet videolar çok dahası bein sports türkiye youtube kanalında bein sports un en güncel programlarını spor dolu içeriklerini takip etmek için kanala abone olmayı unutmayın trendyol süper lig özetleri bein sports arşiv bizi sosyal medyada takip edin facebook twitter instagram daha fazlası için en çok zlenen galatasaray videoları en çok zlenen fenerbahçe videoları en çok zlenen beşiktaş videoları en çok zlenen trabzonspor videoları",
          "habemus papam katholische kirche neuen papst us amerikaner robert francis prevost neuer papst leo xiv nachfolger ostermontag verstorbenen papst franziskus späten donnerstagnachtmittag lang ersehnte moment weißer rauch sixtinischen kapelle vierte wahlgang entscheidende gibt neuen papst kardinäle heilige geist wahl getroffen",
          "deutsche memes folge quellen folgt insta danke kevin alex jan unterstützung beim video alex vfx effekte unterstützt zave it werbung mehr twitch twitter musik benutze werbung epidemic sounds bezahlt pro monat dafür ganz musik benutzen könnt nen gratis monat testen holen link macht kriege ab moment bezahlt falls abo gratismonat verlängert kanalmitglied",
          "findet informationen hetzner cloud neukunden sparen code auer music credits outro beats strange things bezahlte inhalte hetzner spot samples video auer advertisement policy auer sample policy auer patreon zugriff auer discord timestamps intro hetzner werbung problem geschmolzene stecker kundenservice grafikkartendesign stromkabel geschmolzenen stecker theorien ursache defekte stecker austausch steckers funktionstest fehleranalyse widerstände strom molex widerstand spezifikation zusammenfassung fazit outro",
          "playboys amg erscheint limited fanbox single buscape out now produced by lolo sfx by tom erdinger mix lolo lolobeatz master lex barkey lexbarkey video kmn gang kontakt allgemeine fragen mgmt presse mgmt management two sides folgt instagram azet bobby van damme albi",
          "provided to youtube by universal music group geboren leben kontra k ness geboren leben letzte wölfe released on mixing engineer producer beatzarre djorkaeff mastering engineer yunus kingsize cimen vocalist kontra k vocalist ness vocal engineer gabriel geber composer lyricist maximilian diehn composer lyricist graf composer vincent stein composer konstantin scherer composer thilo brandt auto generated by youtube",
          "beste liga welt dino hamburger sv verein lange ununterbrochen vertreten hanseaten schon seit gefühlten ewigkeit jahre feststecken chance wahrscheinlich groß nie zuvor endlich aufstieg packen grund genug aktuelle lage hsv blicken seit merlin polzin traineramt übernommen geht stetig bergauf ballbesitz fußball entwickelt variabler walter ball führungsqualität scheint deutlich besser baumgart immerhin blühen spieler hoch niederlage eintracht braunschweig gewichten schwebt nächste krise köpfen hsv geht darum mentalität zeigen intro trainerwechsel polzin besser macht taktik veränderung neuen prinzipien teamgeist kaderbreite schlüssel aufstieg hsv aufstieg realistisch social kanäle wichtig trikots videos getragen spiegeln sympathien wider dient lediglich aktuelle thema untermalen",
          "scherbenhaus jetzt vorbestellen bengel hier streamen gzuz abonnieren gzuz folgen bengel produced waterboutus mary cratez waterboutus mary cratez mix master lex barkey kamera edit grading pascal kerouche cover und grafiken bobby analog",
          "gönrgy checkt gönrgy insta ab werbung affiliate links shop a livestreams pc a b partner noblechairs a b sämtliche a gekennzeichneten links stellen werbung dar sämtliche b gekennzeichneten links hängen partnerprogrammen zusammen dienen potentiellen käufer orientierung verweisen explizit bestimmte produkte sofern links genutzt falle kaufentscheidung provision ausgeschüttet",
          "cette jeune fille ans a victime deepfake choqués vu vidéo trouvez ça grave toujours problèmes comme ça jeunes filles âge effet a cette vidéo a très viral tiktok cause sujet tristesse dégage suite homme a décidé prendre photo faire quelque chose compromettant grave cette vidéo but préventive là sensibiliser dangers internet faites attention lorsque exposer proches surtout enfants gens malveillants peuvent utiliser faire choses très très grave malsaines avis",
          "edit expecting much interest post realized whiny bitch sorry happen right cheap probably get premium point money right still think able choose song unless pay thing bogus though small rant ahead spotify makes angry want talk primarily use yt music shocked saw choose play specific song album spotify mobile even search click specifically unless pay premium plays suggested song instead something similar one want listen made artist understand tactic get people buy premium doesnt make want buy premium makes want go back yt music major feature locked behind premium background play choose song make playlists listen much want including things posted youtube like video game soundtracks would want support spotify use youtube music edit someone comments put perfectly creating problem coax buying premium seen music streaming site allow something simple choose specific song yes understand used worse understand used pay entire cds wait listen music world live anymore world changing alarmingly fast point maybe buying music physical copies used norm anymore norm set free streaming sites like youtube soundcloud even newgrounds among others remember yes pay premium premium experience pay choose song listen",
          "cho streamen tour tickets lacazette directed video producer drohnenshots beat mix master anfragen lac",
          "aktuell großflächiger stromausfall evtl sogar blackout spanien teilen portugals frankreichs erst infos los erste vermutung ursache video ausrüstung krisenfall findest amazonshop strom sparen kostemlosen wechselservice remind me checkliste krisenvorsorge kostenlosen download link surao survivalshop rabattcode fast chiemgau gehts jackery powerstations rabattcode viele jackeryprodukte chiemgau olight taschenlampen rabattcode outdoorchiemgau link ademax stromaggregate rabattcode chiemgau ________________________________________________________________________ kanal finanziell unterstützen paypal me vielen dank unterstützung ________________________________________________________________________ lieblingsausrüstung olight taschenlampen rabattcode outdoorchiemgau messer wolfgangs ambulo rabattcode wolfgangs outdoorchiemgau link wasserfilter elanwell isomatte klymit schlafsack winter snugpak elite schlafsack sommer gruezibag hängematte amazonas helikon tex supertarp dd tarp pro mc x rucksack bob tatonka yukon funkgerät retevis ra gaskocher rabattcode chiemgau _________________________________________________________________________ notvorrat convar energieriegel panzerkeks tage notpaket ___________________________________________________________________ kleidung lodenjacke winterjacke sommer regenjacke ________________________________________________________________________ film studioausrüstung findest kamera sony zv e kamera sony fdr ax kamera sony ax dji action drohne dji mini pro insta one x grad kamera ________________________________________________________________________ facebookseite instagram twitter homepage www outdoor chiemgau info merchandiseartikel t shirts caps tassen etc fotos pixabay affiliate links denen kanal unterstützt falle kaufes kleine provision erhalten mehrkosten vielen dank unterstützung",
          "wer findet perfekte outfit heute drei kategorien teilnehmer perfekte outfit zusammenstellen anschließend jury präsentieren ganze findet natürlich zeitdruck alsterhaus hamburg statt jury kandidaten alsterhaus hamburg vielen dank zuschauen support mifcom system werbung",
          "video zeigen krassesten rückabwicklungsfall je erlebt mäuseschaden anwalt hitzigen diskussionen riesigen liste mängeln berechtigt wer trägt verantwortung kannst daraus lernen lage geraten interesse wohnmobil schaut gerne unserer webseite nutzt kontaktformular meldet direkt kommt einfach persönlich vorbei besucht reisemobile mkk gmbh westspange gelnhausen deutschland kontaktmöglichkeiten telefon fax e mail info website folgt social media warum reisemobile mkk bieten sofort verfügbare fahrzeuge viele automatikgetriebe riesige preisnachlässe knaus sunlight malibu kommt vorbei überzeugt unschlagbaren angeboten montag samstag termin genießt tolle beratung guten kaffee",
          "spaß video freunde original video sei live dabei kommt pc partner werbung twitter instagram merch cutter",
          "ganze folgen joyn leichter bahncard bekommen mietvertrag steht fest lässt schnellzug genauso gut leben überteuerten zimmer wohnung nina chuba macht test erdreistet kompletten heimeligen alltag ice auszubreiten inklusive wäsche aufhängen zwiebeln braten fernsehabend facebook instagram twitter x tiktok klaas bisher vieles aufgefallen expertise allerdings kaum dabei show nimmt ziel genau ändern irgendwann ende vielleicht jahren klaas experte sendung anfang dienstags uhr prosieben joyn impressum",
          "mini panzer gebaut treten echten panzer neue action cam insta gibt werbung spaß video bald real life guys ps tausend dank master milo absolut verrückten videodreh echten panzer schaut gerne mal milo vorbei pss freuen riesig jahr macher festival sehen könnt tickets kaufen größte sommerparty jahres dabei lohnt _________ shop _________ social media behind the scenes tiktok the real life guys bauteam johannes daniel max kamera schnitt julius josia sinan ___________ musik videos epidemic sound artlist motion array ___________ pressefotos anfragen anfrage e mail geschäftliche anfragen cooperations",
          "티빙에서 스트리밍 countdown ep 캣츠아이 날리 katseye gnarly clean ver world k pop chart show countdown every thur pm kst mnet live air 매주 목요일 저녁 시 엠넷 생방송",
          "spaß neuen video podcast youtube sei live dabei kommt pc partner werbung merch twitter instagram buch podcast papaplatte vlog playlist cutter",
          "click worship behold new offerings worship gather facebook twitter instagram tiktok video animation produced noruwei digital creative director cgi artist elia pellegrini chief creative producer nicola morino rca creative niki roberton leo araujo shoshana reist",
          "abiball katastrophe ab sofort besser kostenlos mehr spaß surfen holt opera werbung einholzkopf plüsch shop werbung video erzähle informatik programmieren generell umgang computern gelernt hoffe animationsvideo gefallen falls ja liket video gerne abonniert mehr c zeichnen davon arbeit macht spaß c ja zeichne selber nutze ai videos handmade moral image generation sowas find persönlich fragwürdig folgt social medias twitter twitch instagram facebook benutzt jemand musik artlist io epidemic sound ab sonic untertale lud and schlatts musical emporium by philip milman cc by music for all by anthpo loganfeecemusic cc by mail geschäftliche anfragen einholzkopf",
          "häuser grundstücke luxus immobilien reich bauunternehmers christoph gröner wuchs jahrelang krise gröner reich unbezahlte rechnungen insolvenz verfahren razzia exactly reporter tom fugmann marcel siepmann blicken fassade selfmade millionärs mdr investigativ abonnieren unternehmer christoph gröner schillerndsten figuren deutschen immobiliengeschäft leipzig expandierte ganz deutschland macher hochgearbeitet inszenierte gern meinungsstark selbstbewusst christoph gröner liebte großen auftritte charity veranstaltungen leipziger opernball sammelte porsches sponsorte preise pferdesport fußballvereine fussball bundesliga rb leipzig herta bsc halben jahr bruch staatsanwaltschaft leipzig lässt geschäftsräume leipzig berlin durchsuchen wegen verdachts insolvenzverschleppung sowie veruntreuung arbeitsentgelten mehrere gröner firmen laufen insolvenzverfahren herrscht vielen baustellen stillstand reden denen gröners projekten beteiligt handwerkern architekten externen dienstleistern erfahrungen gleichen viele seien geleistete arbeit bezahlt worden müssen ansprüche gericht durchsetzen geld kommen anwalt schreibt bislang gröner gruppe berechtigte forderung beglichen forderungen strittig bleibt gute recht mandanten zahlung verweigern pflicht zahlung ergebnissen gerichtlicher nachprüfungen abhängig exactly fragt christoph gröner blender sagt vorwürfen angeschlagenes unternehmen retten film tom fugmann marcel siepmann film gefallen lass like intro macht bauunternehmer christoph gröner brisant rechnung bezahlt architekt götz peter kaiser ging gericht offene honoraransprüche verfahren gröner firma landgericht leipzig gröners anwalt strittige forderungen porsches pferdesport fußballvereine christoph gröner umgibt luxus insider schwierige kontaktaufnahme ehemalige mitarbeiter angst anonymes interview insider wütende geschäftspartner vorwürfe gröner macht gröner strafbar einordnung insolvenzrechtlers stephan madaus geschäfte gröner andreas stolle geschäftsführer reinwald gmbh auftritte fernsehen plattform christoph gröner wer leidtragenden heizung plötzlich anonymer mieter berichtet franziska riekewald fraktionsvorsitzende linke leipzig setzt aufklärung bereichern unternehmen gröner gruppe nebenkosten mieter hoch schulden stadtwerken leipzig immobilien verkaufen rettet gröner villen saint tropez angebot karl helga wagenplatz leipzig streit bebaubarkeit grundstücks immobilien investor emerald fund kündigt kredite gröner kämpft imperium retten mehr mdr investigativ tiktok teamrecherche instagram ard team recherche instagram fotos videos podcast investigativ rubrik ard mediathek",
          "crayon er mai jour historique travailleurs vu fête travail émilien a profité passer cdd cdi compagnie coups va être validé émission retrouver intégralement tf coups jours",
          "fynn kliemann zurück diy künstler wohl ehemals beliebteste heimwerker landes downfall drei jahren zurückgekämpft kliemannsland lebt neues album tod stand zwischenzeitlich platz charts kunstaustellung werke wert fast euro angeboten kliemann gelungen comeback vorbereitet wirklich verändert versprochen darum folge gehen anschuldigungen drei jahren zdf magazin royal jan böhmermann kliemann veröffentlicht wurden vordergründig ging bereicherung maskendeal dahinter steckte vorwurf kliemann längst mehr business diy flankiert wurde kliemanns rückkehr interviews matze hielscher hotel matze drei stunden eher freundschaftlichen fragen auseinandersetzen durfte aufwändig produzierten doku ard fall zusätzlich nochmal nacherzählt erhält kliemann raum tim meltzer verbal unterstützt kritiker wurde eingeladen sätze steuern fynn kliemann hoffe vermisst findet video dreht frage kliemann wirklich verändert wortreichen entschuldigungen ernst gemeint ende show quellenliste fynn kliemann zurück fynn kliemann auferstanden ruinen downfall entschuldigung veränderung comeback fazit teil crew teil schiffs segeln under flagge schaut mal rein youtube instagram tiktok website herz kritiker hater",
          "studio choom original katseye gnarly 스튜디오 춤 오리지널 캣츠아이 날리 감다살 느좋 퍼포를 한 단어로 설명하면 gnarly 캣츠아이가 스춤 제대로 찢었다 ㄷㄷ stream various performance video subscribe youtube facebook instagram naver tv",
          "olakala app mci fitness app letztes video",
          "bagel sandwich ei käse salami schnell einfach mega lecker knuspriger bagel geschmolzener käse herzhaftes ei frühstücks sandwich echter gamechanger perfekt schnellen start tag herzhafter snack rezept blog www foodwerk blog de speichere video probiere wer liebt bagels genauso",
          "gesehen darüber gelacht memes heute sitzen vier echte internet legenden hosts neuen sag folge s knifflig erkennst wer berühmten clips steckt ganz requisiten filtersound replay sicher internet vergisst gesichter schon mal vielen dank großartigen menschen memes rüya christof alexandra davis schulz kasim danke großes lob rate teams derya okan aylin blessed b houssein funk content netzwerk ard zdf youtube funkofficial instagram funk tiktok funk website",
          "megalodon remix streamen crhymetv abonnieren danke artists beteiligten start reihenfolge p mp freshly jaill vega sido juju caney eno dardan azad olexesh zined haze makko kwam e bonez lx ski aggu celo abdi nate kolja saliou frauenarzt ak ausserkontrolle nizi samra sa big toe kontra k curse laas crackaveli reeperbahn kareem eizi eiz finch silva achtvier kaisa natron veysel sil a jonesmann tom hengst ak otw massiv hakan abi bissu dumm produced by jugglerz levin mix master by lex barkey video by benny video gefallen gebt daumen hoch dafür teilt freunden schreibt meinung kommentare verpassen abonniert",
          "geheimnis papstwahl geniale inszenierung kardinäle kontinenten kommen zusammen wählen eingeschlossen sixtinischen kapelle rom geheimen reihen papst kontakt außenwelt dabei strikt untersagt boden eingelassene störsender handys nachrichten internet wahl abgeschirmt schwarzem rauch wahlgang geklappt weißem rauch funktioniert drinnen konklave passiert wissen geheim blackbox bekannt lediglich abläufe papstwahl warum papstwähler überhaupt eingeschlossen kam warum wahl derart großes geheimnis gemacht geschichte geht weit zurück video produktion zdf team autorin karoline knop schnitt markus hermanns kapitel intro geheimnis papstwahl frühe gemeindeleiter bischof rom papst verbot nicäa kardinäle wahlgremium erfindung konklaves längste papstwahl geschichte wahlreform reformen jpii abonnieren einfach klicken filme infos terra x gibt terra x facebook terra x instagram",
          "instagram strava day one twitch tiktok esn code arda performall elis und ardas training und ernährungspläne neuer podcast von arda ein abo da lassen wäre süper music licensed lickd biggest mainstream stock music platform content creators way go kaleo license id xqjv dlgjdb want use music famous artists try lickd get track credits unlimited stock music",
          "katseye 캣츠아이 gnarly show musiccore mbc 방송 clips available imbc mbc imbc 무단 전재 재배포 및 이용 ai학습 포함 금지",
          "reezy dalé funkel official video das neue album born spinner von reezy erscheint hier exklusiv die album bundles vorbestellen dalé prod reezy sonus reezy abonnieren mix master mixed reezy mastered odrizz directed edit john tewelde instagram color grading leeroy tickets für die music home arena tour reezy hier alle musikvideos von reezy hier reezy instagram reezy tiktok teenagerforever instagram",
          "werbung sichert buchung jahresplans link bonusmonate danke partner nordvpn werbung affiliate links insta insta x insta acepro instagram twitch youtube zweitkanal tiktok merch bmw motorrad equipment lederkombi rückenprotektor protektorenweste stiefel gopro akkus halterung mikrofon adapter speicherkarten sena headwave iphone videobearbeitung fotobearbeitung i fotobearbeitung ii werbung links gekennzeichnet affiliate links kommt link einkauf zustande provision beteiligt entstehen dabei selbstverständlich weiteren kosten eigentlichen einkaufspreis danke unterstützung angaben gewährleistung änderungen ausgeschlossen",
          "glaub streamen neue album lan juks vorbestellen tickets jahre kool savas arena tour produced kwake laskah abija emraymusic master lex barkey videoidee savas yurderi video roman romacher kameraassistent dennis romacher beleuchter ruben hensel produktionsassistentin dana naul darsteller jack orsen rick hübner statisten statistinnen oliver polak paul stella matti micha anika danke kool savas channel abonnieren",
          "friede sei ruf erste papst usa leo xiv jubelnden menschen petersplatz donnerstagabend begrüßt fuhr fort hoffe friedensgruß völker menschen erreicht sei unbewaffneter entwaffnender friede neue papst anknüpfend vorgänger erklärte leo xiv gott menschen bedingungen liebe bewegten worten erinnerte schwache stimme vorgängers franziskus letzten segen ostersonntag gesprochen segen wolle fortsetzen gott liebt sagte neue papst böse gewinnen mehrfach betonte leo kirche sei aufgerufen brücken bauen dialog suchen streckenweise improvisierten ansprache fuhr fort gemeinsam unterwegs frieden gerechtigkeit furcht suchen gemeinsam missionare unterwegs ende rede wechselte italienischen spanische grüßte früheres bistum chiclayo peru gläubiges volk erlebt bischof gemeinsamen begleitet prevost bischof südamerikanischen land italienisch fuhr fort synodale kirche nah leiden vorgänger franziskus leo traditionelle rote stola vier evangelisten umgelegt segnungsgloggia trat sichtbar bewegt lächelnd mehrfach winkend grüßte jubelnde menge quelle videomaterial reuters",
          "fliegen wien peinliche influencer sachen spaß __ amazon lieblingsprodukte podcast joey parfummarke stalk hauptkanal instagram tiktok __ geschäftliche emailadresse beautx affiliate link erhalte umsatzbeteiligung verkäufen link generiert wurden __ habt tollen tag macht schönsten julia",
          "aufgepasst bekommt geschenkt einfach revolut kostenloses konto eröffnen link zahlung tätigen werbung icon league team fokus eagles folgt snapchat instagram instagram acc twitch twitter delay sports youtube kanal youtube kanal youtube gaming kanal modemarke instagram shop vitamin wasser instagram verein delay sports instagram mitglied abonniert fokus fokus instagram fokus twitter fokus youtube sämtliche gekennzeichneten links stellen werbung dar",
          "fri run sun seoul utc kbs world tv youtube live pm seoul utc music bank lyrics song festival never stop online compilation concert season season exclusive bts stage editor pick legend video subscribe kbs world tv official pages youtube subscribe homepage facebook twitter instagram line android download ios download",
          "viele influencer brille gut gönnt emma alexi günstiger all links smarte brillen heute warum viele influencer ausgepackt angefasst tragekomfort style technik brille even realities app transkribieren teleprompter übersetzer even ki navigation fazit packstation alex böhm postnummer packstation neu wulmstorf abonnieren glocke vergessen inhalt schnitt alex kamera stativ alex lena transparenz video werbung beinhaltet placement emma kampagnen link vorteile nachteile",
          "katseye reacts gnarly music video stream gnarly follow katseye youtube instagram tiktok x weverse official website newsletter",
          "sagt fotogen",
          "social media instagram quellen",
          "bojan kanal abonnieren bojan x eno rapstar überall streamen produced mixed thisisyt video calogero cimino mastered robin schmidt bojan folgen instagram tiktok",
          "de fatbike kon niet ontbreken deze video",
          "ganze folgen joyn temperaturen steigen eispreise höchste zeit herauszufinden perfekte eis zuhause macht klaas thematik trotz dringlichkeit hineinarbeiten konnte kommt percy hilfe zufall neuerdings spezialist gefrorenes facebook instagram twitter x tiktok klaas bisher vieles aufgefallen expertise allerdings kaum dabei show nimmt ziel genau ändern irgendwann ende vielleicht jahren klaas experte sendung anfang dienstags uhr prosieben joyn impressum",
          "freundin lucy probiert heute blind männern erkennen k likes runde besten freund rick freunden erkennen alex freerun freundin fremden frauen erkennen gab rückrunde erkennen männern schaffen bekommt bestrafung danke immer fleißig kommentieren immer drei kommentare nächsten video erwähnen lest jemand überhaupt beschreibung ja schaltet glocke fügt emoji kommentar hinzu weis lest d danke teilnehmer mitgemacht rick faruk julien adam luca kai instagram alex lucy tiktok alex lucy folgt theresa kirchner lucy lacht rick azas flyhaus fabi",
          "werbung holt doomsday last survivors sichert gewinne wert tritt allianzen werbung affiliate links insta insta x insta acepro instagram twitch youtube zweitkanal tiktok merch bmw motorrad equipment lederkombi rückenprotektor protektorenweste stiefel gopro akkus halterung mikrofon adapter speicherkarten sena headwave iphone videobearbeitung fotobearbeitung i fotobearbeitung ii werbung links gekennzeichnet affiliate links kommt link einkauf zustande provision beteiligt entstehen dabei selbstverständlich weiteren kosten eigentlichen einkaufspreis danke unterstützung angaben gewährleistung änderungen ausgeschlossen",
          "sei eigener anwalt pepperpapers de hol musterwiderspruch elektronische patientenakte kapitelmarker intro digitaler rentenausweis zwang epa tun haken sache mehrere bundesregierung spare geld pepperpapers privat abo hol mehr benefits pro abo hast ärger finanzamt buche direkt erste hilfe beratung mach schlau hol infos rund geld pepperpapers newsblog taxpro newsblog sei eigener anwalt pepperpapers de hol musterwiderspruch elektronische patientenakte quellen video koalitionsvertrag pdf download frankfurter rundschau april millionen davon betroffen merz regierung plant änderung beim rentenausweis statistisches bundesamt pressemitteilung nr n april deutsche rentenversicherung rentenausweis ________________________________________ sei eigener anwalt pepperpapers de hol rechtsdokument ________________________________________ geht geld melde kostenlos pepperpapers newsletter vorteile blick erfahre erstes neuen gesetzen passenden rechtsdokumenten erhalte exklusive insider tipps rechtsexperten kostenfrei unverbindlich erhältlich gang anwalt _______________________________________ taxpro gmbh steuerrechts experten frankfurt main profis steuerangelegenheiten betriebsprüfung steuerfahndung steuerstrafverfahren gerichtsprozessen steuersachen _______________________________________ hotline e mail team ________________________________________ hören taxpro podcasts rein überall podcasts gibt apple podcasts spotify soundcloud rtl amazon music ________________________________________ werfen blick schulter lernen team kennen",
          "carola feiert geburtstag frisch lothar zusammen sachen ex freund stefan beim abholen kommt streit carola offen männergeschichten hochhaus spricht sammelt lothar pfand versucht trotzdem schönen tag bereiten bleibt wirklich große liebe sieht carolas zukunft job staffel armes deutschland stempeln abrackern zeigt echte leben rand gesellschaft bürgergeld obdachlosigkeit altersarmut reportage begleitet menschen täglich ums überleben kämpfen harter arbeit leben staatskosten stellt frage lohnt arbeit deutschland authentische schicksale soziale brennpunkte bewegende geschichten mitten leben zeit echte inhalte programmmarke rtlzwei dokus präsentiert rtlzwei gesellschaftlich relevante themen fragestellungen einzelfilme verbindet gewichtige gemeinsamkeit bildschirm kommen hochwertige journalistische inhalte jung packend erzählt widerspruch rtlzwei dokus webseite komplette folgen rtl",
          "wieso aufrufe bekommst pro video wege beheben",
          "neue single hhhk linesky kolja goldstein hhhk linesky plattformen streamen kouwe ouwe album box exklusiv vorbestellen kolja goldstein instagram kolja goldstein tiktok hhhk linesky produced by chryziz sott directed by moonstarmedia edit moonstarmedia",
          "re upload wegen falscher botanischer namen entschuldigt bitte fehler www renature garten de gestalten naturgärten plane naturnahen garten mitteleuropaweite planung umsetzung raum ca km löchgau viele kennen meisten fürchten giersch gilt durchsetzungsstark schwer kontrollieren video zeige statt giersch kämpfen kannst garten integrieren gleichzeitig ausbreitung griff bekommen radikale ausrottung durchdachte nachhaltige lösung einklang natur erfährst warum giersch stark ausbreitet rolle ökosystem spielt gezielt begrenzen sogar sinnvoll nutzen kannst praktische tipps umsetzung naturgarten methode besonders geeignet garten vielfalt stabilität natürliche prozesse setzen schau rein erfahre giersch leben kannst statt kämpfen mehr projekte inspiration instagram sichere bezugsquellen heimische pflanzen saatgut infos naturgarten infos heimische pflanzen",
          "letztens kam gedanke arbeitende bevölkerung zahlen rentenversicherungsbeiträge ältere generation deutschland fließt mehr unserer produktivität rentner wochenende beschäftigt einfache website erstellt sehen könnt gehalts ältere generation geht könnt sogar urkunde ausdrucken d folgendes oft übersehen krankenkasse funktioniert deutschland ebenfalls umlageverfahren bereits heute fließen ausgaben menschen pflegeversicherung großer teil steuern bundeshaushalt ca zuschuss rentenversicherung verwendet steuern pensionen finanziert beliefen ausgaben staates pensionen hinterbliebenenversorgung beihilfen rund milliarden euro gez beitrags gehen betriebsrenten drauf weiß fehlt z b kapitalerträge umsatzsteuer vereinfacht z b steuerklassen ja bezieht arbeitgeberanteil trotzdem sensibilisieren system schon grenzwertig jahr kritischer interessante arbeitende bevölkerung scheint gar ändern letzten bundestagswahl linke jungen wählern ersten platz geholt linke renten erhöhen mindestrente einführen heutigen durchschnitt liegt renteneintrittsalter senken tolle ausgangslage hänge erst mal urkunde wand",
          "instagram strava day one twitch tiktok esn code arda performall elis und ardas training und ernährungspläne neuer podcast von arda ein abo da lassen wäre süper music licensed lickd biggest mainstream stock music platform content creators remind nickelback license id omb l want use music famous artists try lickd get track credits unlimited stock music",
          "ganze folgen joyn kriegen promis arsch geschoben schauen normalos röhre promi moderator klaas heufer umlauf zufällig ausgewählter normalo okay rauli legen all hemmungen ab test dran mythos promibonus facebook instagram twitter x tiktok klaas bisher vieles aufgefallen expertise allerdings kaum dabei show nimmt ziel genau ändern irgendwann ende vielleicht jahren klaas experte sendung anfang dienstags uhr prosieben joyn impressum",
          "rabatt code nahimsky prepmymeal beste fleisch schalengerichten halal rue drop out now werbung geschäftliche anfragen business instagram willst beim nächsten video mitwirken schreibe nachricht instagram per e mail ahmed unterstützt gönrgy vielen dank honest kebab location europapassage foodmeile ballindamm hamburg jury holle bernd kandidaten",
          "listen vone follow dhurata dora instagram facebook tiktok youtube spotify produced jugglerz levin lyrics melody dhurata dora lira styling dania dodona avdiu hair kaci make arber bytyqi executive producer ilir balija video entermedia sony music dhurata dora rights reserved",
          "deutsche memes folge quellen folgt insta danke kevin alex jan unterstützung beim video alex vfx effekte unterstützt zave it werbung mehr twitch twitter musik benutze werbung epidemic sounds bezahlt pro monat dafür ganz musik benutzen könnt nen gratis monat testen holen link macht kriege ab moment bezahlt falls abo gratismonat verlängert kanalmitglied",
          "indien pakistan stehen schon lange feindlich gegenüber droht neue eskalation hintergründe rolle spielt dabei beide länder atomare waffen verfügen darum geht video aktuelle entwicklungen konflikt indien pakistan hintergründe teilung britisch indiens konflikt kaschmir simla agreement indus water treaty simulation video beziehe kanal gehört funk netzwerk ard zdf weitere infos youtube funk web app impressum kostenlos abonnieren findet mrwissen go instagram thumbnail designer david weber schnitt animationen mirko drotschmann design christopher hesse",
          "sep chris live beim drop dabei o_o original video merch shirts hoodies caps findet verpasst livestreams folgt könnt link amazon shoppen hierbei handelt affiliate link kauf link umsatz beteiligt auswirkungen preis reacts stream vods best ofs merch pcs podcast",
          "mittlerweile wurde erste offizielle untersuchungsbericht absturz cargo vilnius veröffentlicht sprechen ersten erkenntnisse kannst aeronewsgermany unterstützen creator code kanalmitglied patreon vielen dank großartigen support instagram kamera licht links videobeschreibung afilliate links bedeutet links kauft bekomme kleine provision preis verändert danke unterstützung inhalt intro sabotage brandsatz mangelhafte arbeit cockpit anflug vereisungsbedingungen kleiner fehler großer wirkung schnell hoch anflug strömungsabriss bodennähe cockpit control confusion danke fürs zuschauen bildnachweise video bild verwendet meinung richtig entsprechenden quellenangabe videobeschreibung versehen melde gerne e mail adresse lösung gekümmert impressum kanalinfo",
          "armes deutschland carola männer geht cyberghostvpn werbung armes deutschland rtl passiert carola stefan bedroht rettet danach nein nein wahr darum geht lohnt arbeiten deutschland sozialreportage armes deutschland geht frage sozialen brennpunkten dabei begleitet menschen armutsgrenze seite tun mindestlohn arbeiten seite diejenigen leben kosten staates genießen dabei carola gearbeitet carola nie richtig seit vielen jahren bezieht kölnerin sozialleistungen landete trennung angeblich gewalttätigen freundes straße findet irgendwie antrieb situation ändern willi willi ausbildung koch gärtner abgeschlossen arbeitet schon seit vielen jahren gabelstaplerfahrer meistens zeitarbeitsfirmen dennoch große probleme geregeltes leben führen neben schulden meistens wohnung zelt leben",
          "anzeige code desy kannst finanzguru plus monate kostenlos nutzen gilt neukunden hochzeit immer mehr statussymbol angefangen verlobung beim junggesellenabschied verschuldung hochzeit flex außenwirkung likes wichtiger ja wort zusammenarbeit nele mohrbach quellen nieren bubble tea podcast live köln nieren bubble tea podcast spotify apple hoffe gefällt video ja freue abo like desy instagram tiktok",
          "neonazis rudeln offener straße politisch andersdenkende verprügeln schon mal baseballschläger jahren frühen neunziger heute heute erleben nächste generation rechter schläger jüngsten neuzugänge nennen deutsche jugend voran lose ansammlung jung nazis vorwiegend hauptstadt spur gewalt hinterlässt spiegel tv durfte lka ermittlungen vereinigung exklusiv begleiten rechtsstaat rechts spiegel tv film thomas heise weitere reportagen thema findest rechtsrock ss lieder nazi aufmarsch hauptstadt pilgerort rechtsextreme kubitscheks denkfabrik junge alternative rechtsradikalen radikal ___________ true crime kanalmitglied exklusive vorteile erhalten",
          "friedrich merz neuer kanzler bundesrepublik deutschland allerdings erst wahlgang wahlgang gescheitert geschichte bundesrepublik nie gegeben los bundestag darum geht video findet video erwähnten liveblog at_medium social media at_campaign youtube at_specific mrwissen go meldung wahl friedrich merz bundeskanzler website deutschen bundestags unvereinbarkeitsbeschluss cdu parteien afd linke kanal gehört funk netzwerk ard zdf weitere infos youtube funk web app impressum kostenlos abonnieren findet mrwissen go instagram thumbnail designer david weber schnitt animationen mirko drotschmann design christopher hesse",
          "checkt partner videos ab sportwetten kanzlei anzeige kontakt kooperationsanfragen geschäftliche anfragen management ___________________________________________________________________________________________ willkommen folge zweiten find the pro staffel matchday freunde heute präsentieren neue folge find the pro format geht darum profi fußball spieler anhand geschichten ballfertigkeiten identifizieren teilnehmern verbirgt echter profi liegt jury enttarnen herausforderer treten verschiedenen spannenden challenges gegeneinander könnt profi erkennen teilt vermutungen kommentaren sei dabei nächsten folge folge link broadcast channel instagram abonniere kanal aktiviere glocke weiteren videos verpassen folge instagram youtube tiktok snapchat jury ausgabe lazar samardzic sead kolasinac berat djimsiti charles de ketelaere dank geht partner jako",
          "samra bei nacht jetzt kareem album box sichern sichere dir hier deine tickets für die samra live tour produced erol produced veysigz additional chris jarbee mastering sascha busy bühren grafikdesign single cover designnow video kamyab samra folgen instagram tik tok kontakt info",
          "beste kalorienfreie softdrink alternative holy code seltix rabatt erste bestellung code seltix gibt nochmal rabatt italien verschenkt schönsten dörfer landes ganze häuser warum abgelegenes dorf gereist herauszufinden wirklich aktion steckt kanal modemarke instagram geschäftliche anfragen business inquiries seltix gekennzeichnet werbung",
          "anzeige ladet nächste reise airlo runter benutzt code desy rabatt katy perry fliegt frauen weltall schreiben geschichte richtige feminismus female empowerment bewegung dystopische beginn weltraumtourismus marketingkampagne blue origin jeff bezos weltraum neuen spielplatz milliardäre warum ausgerechnet feminismus dafür benutzt zusammenarbeit tom siebold quellen könnt awards abstimmen nieren bubble tea podcast live köln nieren bubble tea podcast spotify apple hoffe gefällt video ja freue abo like desy instagram tiktok",
          "instagram tiktok werbung vergesst kanal abonnieren daumen oben dazulassen chrissi",
          "zusammenarbeit professor andreas müller universität kiel ostermontag teilt vatikan papst franziskus oberhaupt katholischen kirche verstorben franziskus erste papst langen amtstradition europa stammt papsttum blickt fast jährige geschichte zurück frühzeit christentums etablieren päpste west mitteleuropa oberhaupt kirche weltliche macht wächst bedeutung christentums wort entscheidend darum geht könige kaiser legitimieren wer steht höher papst kaiser streitfrage jahrhunderte konfliktreich ausgefochten kirche allgemeinen wandelt amt papstes laufe zeit spätestens aufklärung beginnt politische einfluss päpste langsam schwinden wort jedoch heute millionen menschen gewicht päpste geschichte besonders geprägt papst heutigen kalender tun umbrüche amt laufe jahrhunderte erlebt erfahrt video kapitel darum geht s anfänge papsttums papst kaiser gang canossa zwei päpste abendländische schisma papsttum frühen neuzeit machtverlust papsttum moderne literatur bernward schmidt kirchengeschichte mittelalters martin greschat hg papsttum band i ii volker reinhardt pontifex stefan weinfurter volker leppin christoph strohm hubert wolf alfried wieczorek hg päpste schau unbedingt rein terra x history instagram terra x zdf streamen terra x history youtube produktion objektiv media gmbh moderation mirko drotschmann autor matthias schöberl producer andreas sommer produktionsassistenz annika späth lena giesinger redaktion om verena glanos motion design christian wischnewski schnitt christian wischnewski thumbnail david weber zdf kai jostmeier kim krämer",
          "könnt ganze folge ard mediathek anschauen beim kacktor monats wählt unterdurchschnittlichsten treffer monats je unattraktiver desto besser april geschichte schönsten kacktore frühlingsmonat zusammengestellt wer gewinnt goldene klobrille vergesst mail nummer favoriten zeigler senden immerhin wartet jemanden schicker turnbeutel tor thijmen goppel sv wehen wiesbaden tor tony sperfeld fsv saxonia tangermünde tor timo hübers fc köln tor patrick bruns alemannia salzbergen tor bjarne thoelke fc saarbrücken habt wahl geht abstimmung kacktor monats april hinterlasst like video gefallen zwwdf ard mediathek mehr sendung zwwdf instagram wollt bilder videos geschichten rund fußball arnd zeigler teilen schreibt mail zeigler beitrag wurde produziert aussagen fakten entsprechen stand wurden aktualisiert",
          "gab nie handlaser temu fake hdb schweiß shop rund ums thema schweißen mehr wig schweißgerät mag schweißgerät instagram xxproduktplazierungxx",
          "mertdede kanal abonnieren mertabizockt mertabitalks mertabireacts mertabiclips cutter discord instagram twitch tiktok spotify impressum mertabi lyaison gmbh c o mertabimula freihalderstr b jettingen scheppach",
          "jahren youtube kanal ehrenpflaume gestartet zweite video damals online ging tag jean pierre krämer inzwischen millionen menschen geschaut zeit dortmunder lieblingsmenschen mal besuchen sagen menge leben privat beruflich passiert absoluten ehrengast gehört jp ganze reihe ganz spannende sachen gezeigt erzählt absolute news erfahrt spaß beim gucken schreibt meinung fragen anregungen gerne kommentare lasst fettes like video gefallen fette props ehrenkammeramänner julian bogner julian pfeil super bilder ganz speziell mal julian b mega schnitt lasst fall abo beiden julian bogner instagram julian pfeil",
          "grünewürfelflow jetzt streamen instagram directed dop additional footage produced edited vfx thank beat mix master",
          "mai ziehen mehr teilnehmende traditionellen revolutionären mai neukölln demo linke linksextremistische gruppen aufgerufen rbb informationen protestierenden jedoch heterogen hinweis grund neuer angaben anzahl teilnehmer innen aktualisiert video bericht rbb abendschau ganze sendung läuft abend uhr rbb fernsehen nachschauen könnt www rbb online de abendschau __________________ moderation volker wieprecht reporter arndt breitfeld bericht christian titze uwe wichert",
          "abonne compte youtube découvrir toutes nouvelles vidéos livre nouveau clip intitulé unique featuring mia guissé attends retours réalisé reverse studios auteurs djelykaba bintou mia guissé bakhaw dioum compositeur akatche label keyzit production distributeur keyzit distribution publishing keyzit publishing blz publishing follow djelykaba bintou facebook instagram booking tel keyzit labels",
          "forever album forever world release show ausstellung münchen jetzt tickets sichern raf camora kanal abonnieren _______________________________________________ raf camora folgen raf camora folgen streamen auf instagram amazon music spotify apple music",
          "folgt instagram twitch twitter youtube main kanal modemarke werbung instagram shop drops aktiv checkt eli willy ab eliasn socials youtube youtube kanal instagram twitter twitch niklas wilson socials youtube instagram twitter twitch beats by instagram",
          "samra feat kolja goldstein roll berlin kareem album box sichern sichere tickets samra live tour produced by chris jarbee produced by lukas piano sample by joezee magestick mastering by sascha busy bühren grafikdesign single cover by designnow video bysergen isici janusz regie kamera edit sergen isici samra folgen instagram tik tok kontakt info",
          "einfachste apfelkuchen welt geht total einfach unglaublich lecker braucht handvoll zutaten außerdem sieht richtig schön zutaten äpfel g mehl g zucker g erythrit eier ml milch einfach geht s zuerst schneiden äpfel kleine stücke geben einfach zutaten teig schüssel mixen schön schneebesen danach kommen schon äpfel aufs backblech darüber teig schön verteilen blech kommt ober unterhitze circa minuten ofen herausholen puderzucker darübergeben genießen sicher lieben werdet spaß beim nachmachen guten appetit",
          "bundles directed outtathisworld produced sikk samon mix master volker idr gebhardt video dop edit grading lucca mille produktionsassistenz harryhollywood alle social media links genetikk fabian kowallik coach aaron otw channel abonnieren outta world records",
          "grösste sportliche herausforderung vorbereitung race across america mattin werbung yfood probiert mal spart code mattin youtube werbung rabatt holy birthday aktion code mattin sparen neukunden code mattin sparen bestandskunden gesamte bestellung survival mattin instagram name survival mattin official merchandise shop outro song markierten links handelt partnerlinks mattin kleine provision bekommt links raufklickt bestellt wer unterstützen möchte dadurch herzlich eingeladen dadurch entstehen natürlich zusätzlichen kosten",
          "katholische kirche neuen papst leo xiv bürgerlich robert francis prevost wahlgang wurde konklave gewählt wofür steht neue papst us amerikaner vergangenheit donald trump geäußert darum geht video kurze biografie neuen papstes findet hintergründe wahl namens video erwähnte artikel new york times hintergründe vorwürfen rund missbrauch katholischen kirche x account robert f prevost kanal gehört funk netzwerk ard zdf weitere infos youtube funk web app impressum kostenlos abonnieren findet mrwissen go instagram thumbnail designer david weber schnitt animationen christopher hesse design christopher hesse producer gregor bauernfeind",
          "instagram video gained k views beat",
          "barcodes ltd box sichern streamen asche kanal abonnieren asche folgen bestellt letztenb limitierten barcodes deluxe boxen sichert sowohl barcodes ersten teil cd www ascheshop de gehen passende grösse auswählen vorbestellen grössen s xxl bereits ausverkauft video gefallen lasst like kommentar asche instagram asche spotify prod by bcase asche l video by mix master recording video assistent",
          "anzeige lade goal battle herunter fordere freunde diyarac kawa x match heraus android ios nutze außerdem code gb diamanten erhalten längste sieges serie sichern _______________________ kontakt kooperationsanfragen geschäftliche anfragen management _______________________ willkommen folge zweiten find the pro staffel diesmal sogar mma edition matchday freunde heute präsentieren besondere folge find the pro mma edition format geht darum profi mma kämpfer anhand geschichten fertigkeiten identifizieren teilnehmern verbirgt echter profi liegt jury enttarnen herausforderer treten verschiedenen spannenden challenges gegeneinander könnt profi erkennen teilt vermutungen kommentaren sei dabei nächsten folge folge link broadcast channel instagram abonniere kanal aktiviere glocke weiteren videos verpassen folge instagram youtube tiktok jury ausgabe max holzer jan holzer ali bumaye danke yigit muk spitfiregym gastfreundschaft bereitstellung halle gym yigit teilnehmer dank geht partner jako",
          "tut begegnung eigentlich problem hund greift hunde besitzerin sagt telefoniert einfach verantwortungslos sagen hund trägt ja maulkorb hund reagiert weiß warum trägt wegen sowas bekommt hund immer immer mehr angst fremden hunden",
          "spaß neuen video kommt pc partner werbung podcast youtube sei live dabei merch twitter instagram buch podcast papaplatte vlog playlist cutter",
          "merch ab erhältlich staffel startet prank extraklasse mo douzi max komplett hops genommen vorwand content großen mma event drehen landet mo plötzlich mini flugzeug flugangst überwinden schaffen zwei wochen montags uhr gibt s frische folgen abonniert aktiviert glocke verpasst lasst kommentar algo independent moves produktion starring max coga mo douzi mitwirkende prank pilot max borchert lockvögel mery kurupinar noa marie produktion showrunner erhan dogan redaktion konzeption produktionsleitung tristan richter kameraleitung marcel birkel kamera bilal falkou antonio bila kenzo schwert marcel birkel schnitt animation bilal falkou ton sounddesign berkay karaca vielen dank motorflugschule egelsbach gmbh kooperationsanfragen erhan abonnieren folgt max mo tiktok max mo folgt max coga madmaxcoga folgt mo douzi modouzi",
          "keça kurdan streamen folgt aleyna instagram tiktok production caid masri btm soundz video monkeyfilms produktion directed dop edited by emin simsek contact info",
          "könnt holy probieren code tomatolix gibt rabatt erste bestellung werbung blitzer sorgen regelmäßig diskussion sehen abzocke wichtigen beitrag verkehrssicherheit läuft arbeit mobilen verkehrsüberwachung wirklich ab herauszufinden begleite tag lang team mönchengladbach temposünder straßenverkehr kontrolliert folgt gerne instagram tiktok twitter twitch kannst inhalte unterstützen kanalmitglied paypal lieblings t shirts equipment kameras hauptkamera große vlogkamera kleine vlogkamera gopro objektive standardobjektiv hauptkamera objektiv vlogkamera lieblingsobjektiv ton mikrofon vlogkamera ansteckmikrofon mikrofon voice over schnitt postproduktion imac musik epidemic sound link kannst audio bibliothek tage kostenlos testen hierbei handelt affiliate links darüber anmeldest produkt kaufst bezahlst mehr bekomme provision",
          "aymen tischtennisplatte out now streamen aymen instagram folgen aymen tiktok folgen moonboys folgen produzent pzy cutz dj jape mix felix eschmann master niklas neumann video taylo contact info",
          "instagram strava day one twitch tiktok esn code arda performall elis und ardas training und ernährungspläne neuer podcast von arda ein abo da lassen wäre süper music licensed lickd biggest mainstream stock music platform content creators cold ice foreigner license id vvnz ryvej want use music famous artists try lickd get track credits unlimited stock music",
          "neues buch ausgetriggert lass persönlich unterstützen charismatisch kostenloser min test infos redefabrik seminare kurse campus etc akademie vertiefende kurse besten bücher kommunikation rhetorik kostenloses hörbuch wahl meisterkurs rhetorik meisterkurs schlagfertigkeit ausgetriggert menschen lesen argumentieren stress heikle gespräche psychologie überzeugens menschen gewinnen methodenkoffer grundlagen kommunikation freunde gewinnt deal überzeugt instagram podcast itunes spotify suchen facebook newsletter linkedin amazon links verwendet unterstützt zahlt natürlich gleichen preis bekomme provision ansonsten amazon gehen",
          "offizielle video luana amo kommenden album ssj ssj bundle amo vorbestellen ssj amo pre saven luana überall streamen amo streamen amo folgen produziert lord jko ptl dj samir leero rose video by lucca mille www instagram com lucca mille executive producer producer production assistant concept dop edit grading vfx cover by calentura mix svrn beats master lex barkey abonniert kanal idéal folgen deutschrap idéal folgen vdsidc folgen idéal studios folgen idéal frankfurt main",
          "gab nie geschichte bundesrepublik cdu chef merz ersten wahlgang kanzlerwahl mehrheit erreicht erhielt geheimer abstimmung stimmen sechs weniger benötigt mehr informationen thema aktuellen informationen weitere nachrichten tagesschau livestream sendungen livestreams dokumentation reportagen ard mediathek",
          "immer mehr kriminelle nutzen plattformen airbnb booking com schmutziges geschäft illegale pop up bordelle mitten ganz normalen wohnhäusern wer steckt geschäft organisieren täter netzwerke hilflos behörden vermieter innen plattformen wirklich recherchiert frankfurt norditalien irland vermieter innen expert innen betroffenen gesprochen exklusive einblicke machenschaften krimineller hintermänner erhalten gehts kapitel bordell statt ferienwohnung sexarbeit eigenen wohnung online anzeigen sexarbeit illegale nutzung ferienwohnungen undercover pop up bordell analysieren material betroffenen wer bietet apartments strukturen mafia großen anbieter leicht zdf streamingportal weitere spannende folgen findet zdfmediathek spur verpassen lasst abo film annkathrin weis jan philipp scholz kamera steph ketelhut jasper engel martin langner schnitt christian gruber ton lorenz brehm johannes rudolph björn schubert martin kleinmichel tonmischung günter haas marco breidenbach producer jessica szczakiel grafik finally studio produktionsleitung katharina meirich produktion zdf henrike adam petra pecher produktion nordend film lennart reip thorsten eppert redaktion zdf nina behlendorf malte borowiack leitung sendung markus wenniges produktion nordend film gmbh spur erste doku format deutschen fernsehen forensischen aufarbeitung gesellschaftspolitischen themen ereignissen widmet recherche team rekonstruiert geschichten missstände hosts ort recherchieren verfügbaren mitteln investigativ datengetrieben digital",
          "apprendre l anglais facilement avec mes vidéos learn english easily videos",
          "stream music produced bigbang lyrics butrint imeri tayna video sekuence executive producer denis avdiu mgmt avd digital media l l c distributed protected avd digital butrint imeri instagram mgmt",
          "heute geliebtes pferd böckchen gehen lassen verlust trifft tief hoffe verständnis heute sagen lage live gehen gerade momenten bewusst wofür kämpfen warum gemeinsam wichtig püppis erbe weiterzutragen schnell möglich irgendwann gibt morgen mehr leben sekunde nächste ändern träume leben wann livestream täglich uhr könnt mitglied unserer tollen community wichtig video inhalte urheberrechtlich geschützt jegliche vervielfältigung verbreitung bearbeitung öffentliche wiedergabe außerhalb grenzen urheberrechts bedarf vorherigen schriftlichen zustimmung rechteinhabers zuwiderhandlungen rechtliche konsequenzen ziehen",
          "kurz uhr stieg weißer rauch sixtinischen kapelle vatikan neuer papst gewählt petersdom wurde verkündet wer wollt verpassen abonniert youtube channel social media besucht facebook stuttgarter zeitung stuttgarter nachrichten folgt instagram stz stn bluesky stz stn folgt stz linkedin tiktok pinterest kanal videos bringen stuttgart region baden württemberg näher versorgen aktuellen nachrichten spannenden geschichten reportagen interviews habt themenvorschläge schreibt kommentare",
          "gesamte wohnung geklaut ballon gehangen großes danke edeka erst edeka blümchen herzstücken siebten himmel geschickt lewin d zweitkanal täglich videos gibts livestreams täglich live whatsapp gruppe community discord song video spotify lea jo musik instagram twitter",
          "manchmal braucht leben einfach pause manchmal braucht mut zurückzukommen falls jemand umfeld unterstützung brauchst telefonseelsorge de kostenfrei anonym weitere informationen telefonseelsorge de danke seid instagram jessi instagram johannes",
          "zweiter kanal erlebnisse mache live streams twitch unterstützen stream push benachrichtigung kurzer anmeldung erhalten telegram kalenderdienst vip sieh exklusive streams making of streams vieles mehr",
          "bundesamt verfassungsschutz stuft alternative deutschland afd gesichert rechtsextremistisch wurde heute bekannt sehen hintergründe bedeutet konkret partei darum geht video video erwähnte pressemitteilung bundesamts verfassungsschutz pressemitteilung afd reaktion darauf auftrag arbeitsweise bundesamts verfassungsschutz zusammenfassung kritik verfassungsschutz untersuchung cdu nahen konrad adenauer stiftung findet video erwähnte gutachten einstufung afd verdachtsfall verfügung gestellt netzpolitik org urteil klage afd einstufung verdachtsfall hintergründe parteiverbotsverfahren kanal gehört funk netzwerk ard zdf weitere infos youtube funk web app impressum kostenlos abonnieren findet mrwissen go instagram thumbnail designer david weber schnitt animationen mirko drotschmann design christopher hesse",
          "abonnieren verpassen werbung schau air up unterstütze videos code mike blinddate erhältst ab mai uhr rabatt aufs gesamte air up sortiment ausgenommen batman flasche leon katharina s box video kommt gleich online zweitkanal box passiert video podcast folge kommt bald abonnieren willst box schreib instagram infos streamer reagieren livestream jederzeit erlaubt upload reaktionen youtube erst tagen erlaubt geh instagram mehr content neue videos tiktok kommentiere nächstes sollen like abo lassen falls spaß hattest leute video sophie leon o alex katharina amalia leon g mike tamara joyce ines notifications anmachen gern sachen anmachst business email mike",
          "anzeige eigene gewürze flammkuchentoast zutaten toasts g schmand g frischkäse crème fraîche g schinkenwürfel handvoll geriebener käse plus extra bestreuen scheiben sandwich toast stabileren steaksalz zubereitung creme anrühren schmand frischkäse crème fraîche schüssel glatt rühren füllen schinkenwürfel handvoll geriebenen käse creme mischen steaksalz würzen bestreichen creme großzügig toastscheiben streichen käse toppen geriebenen käse belegten toasts streuen backen vorgeheizten backofen c ober unterhitze backen oberfläche schön goldbraun ca minuten je ofen tipp schmeckt heiß besten perfekt snack schnelles abendessen partyfood",
          "gespannt termine online buchbar link bio hört musik spotify speichert playlist spotify mrsmrsea folgt mehr musik content tiktok instagram youtube mrsmrsea danke support",
          "anzeige hey versprochen kommen infos links flexispot flexispot april aktion rabatt starten neuer energie frühling entdecken sessel lotus flexispot holen lotus rabatt sichern lotus zusätzlichen rabatt code kollotus gültig mai entdecken h side table flexispot wirklich happy beiden produkten empfehlen",
          "schwer bewaffnete polizisten gepanzerte fahrzeuge absperrungen los hamburg witz verbrennen gerade milliarden euro hamburg schön warm drogen zutun erfährst hamburg freitag rund tonnen kokain höchsten sicherheitsvorkehrungen vernichtet worden straßenverkaufswert gigantische milliarden euro transport müllverbrennungsanlage hamburg billbrook glich hochsicherheits einsatz drei tonner bundespolizei brachten drogen verbrennungsort eskortiert rund schwer bewaffneten spezialkräften sogar panzerwagen survivor kam einsatz rund anlage zudem dutzende zollbeamte maschinenpistolen postiert angst überfall kriminelle banden groß kokain stammt mehreren spektakulären drogenfunden vergangenen monate hamburger hafen immer große mengen rauschgifts entdeckt meist containern südamerika wurden sommer einzigen container zehn tonnen kokain gefunden zweitgrößte drogenfund europa jahr zuvor entdeckten ermittler drei tonnen versteckt alten feuerwehrauto frachter brasilien laufenden ermittlungsverfahren wurden beschlagnahmten drogen streng gesicherten lagerstätten norddeutschland aufbewahrt abschluss verfahren wurden endgültig vernichtet kokain völlig nutzlos verglüht verbrennung freigesetzte energie fernwärmegewinnung genutzt tausende hamburger haushalte wärme versorgt wohliges gefühl ganz gefährlichen rausch",
          "aktuelle wetter deutschland mai heute knallt s lokal ganz ordentlich unwetter möglich stürzen höchstwerte komplett keller nächste woche meist trocken deutlich frischer größtenteils grad nachts grad regional bodenfrost möglich mehr diplom meteorologe dominik jung wetter app android wetter app ios webseite besucht tiktok facebook instagram twitter quelle profikarten urhg urheber videos youtube kanal wetternet besitzen somit alleinige veröffentlichungsrecht vervielfältigung verbreitung videos urhg zustimmung untersagt zieht rechtliche konsequenzen",
          "hol willkommensbonus kostenloses konto revolut holst werbung schau zuerst stunden blind date abonniere verpassen willst e freund video dabei schreib instagram infos streamer reagieren livestream jederzeit erlaubt upload reaktionen youtube erlaubt geh instagram mehr content mikevallas neue videos tiktok mikevallas kommentiere wer beim nächsten minecraft blind date dabei like abo lassen falls spaß hattest singles blind date leon katharina notifications anmachen gern sachen anmachst business email mike",
          "𝗙𝗢𝗟𝗘 𝗣𝗨𝗕𝗟𝗜𝗦𝗛𝗜𝗡𝗚 ____________________________ 𝗫𝗵𝗲𝗻𝘀𝗶𝗹𝗮 𝘅 𝗟𝗲𝗱𝗿𝗶 𝗩𝘂𝗹𝗮 𝗠𝗮 𝗞𝘁𝗵𝗲 𝗢𝗳𝗳𝗶𝗰𝗶𝗮𝗹 𝗩𝗶𝗱𝗲𝗼 ____________________________ subscribe 𝗫𝗛𝗘𝗡𝗦𝗜𝗟𝗔 𝗠𝗬𝗥𝗧𝗘𝗭𝗔𝗝 official channel turn notified new songs listen spotify download itunes ____________________________ produced 𝗘𝗡𝗚𝗟𝗜𝗩𝗘𝗥𝗦𝗔𝗟 beat 𝗘𝗡𝗚𝗟𝗜𝗩𝗘𝗥𝗦𝗔𝗟 lyrics 𝗫𝗛𝗘𝗡𝗦𝗜𝗟𝗔 𝗟𝗘𝗗𝗥𝗜 𝗩𝗨𝗟𝗔 𝗝 𝗚𝗔𝗦𝗛𝗜 mix master 𝗦𝗢𝗦 directed 𝗙𝗔𝗧 𝗚𝗝𝗔𝗞𝗢𝗩𝗔 published 𝗙𝗢𝗟𝗘 𝗣𝗨𝗕𝗟𝗜𝗦𝗛𝗜𝗡𝗚 ____________________________ connect 𝗫𝗛𝗘𝗡𝗦𝗜𝗟𝗔 instagram connect 𝗟𝗘𝗗𝗥𝗜 𝗩𝗨𝗟𝗔 instagram connect 𝗘𝗡𝗚𝗟𝗜𝗩𝗘𝗥𝗦𝗔𝗟 instagram connect 𝗦𝗢𝗦 instagram connect 𝗙𝗔𝗧 𝗚𝗝𝗔𝗞𝗢𝗩𝗔 instagram connect 𝗙𝗢𝗟𝗘 𝗣𝗨𝗕𝗟𝗜𝗦𝗛𝗜𝗡𝗚 instagram ____________________________ listen 𝗔𝗹𝗯𝗮𝗻𝗶𝗮𝗻 𝗛𝗶𝘁𝘀 playlists spotify ____________________________ xhensila myrtezaj fole publishing rights reserved",
          "offizielle video ideal amo kommenden album ssj ssj amo pre saven ideal überall streamen amo streamen amo folgen produziert svrn beats video by taylo cover by calentura mix svrn beats master lex barkey abonniert kanal idéal folgen deutschrap idéal folgen vdsidc folgen idéal studios folgen idéal frankfurt main",
          "helga marianne gemeinsam urlaub fliegen aktuellen preise urlaub fast unbezahlbar _______________________________________________________________________ krabbenshop kostenlos abonnieren verpassen instagram facebook tiktok freshtorge merch hoodies tickets eierlikör kostenlos abonnieren verpassen instagram facebook tiktok",
          "youtube feiert geburtstag april ging erste video online kanal ehrenpflaume jahr schon jahre alt erste video tag monte kam september grund genug jahre später mal marcel zuhause vorbeizuschauen darüber reden zeit verändert gibt immer spaß menge ernsthafte gespräche freue kommentare lass gerne like video gefallen abonniere kanal eh schon längst getan hast cooles gewinnspiel gibt s gibts mehr infos ende videos instagram fette props ehrenkammeramänner julian bogner julian pfeil super bilder ganz speziell mal julian b mega schnitt lasst fall abo beiden julian bogner instagram julian pfeil",
          "teste produkte verdiene dabei echtes geld melde kostenlos testerheld ___________________________________________________________________________________________ spare shilajit fitgun code diyar anzeige ___________________________________________________________________________________________ danke super location tolle unterstützung vorort yigit spitfiregym ___________________________________________________________________________________________ willkommen folge zweiten find the pro staffel matchday freunde heute präsentieren find the pro rapper edition heutigen folge suchen rapper labelvertrag verschiedenen challenges versucht jury herauszufinden wer teilnehmern richtigen plattenvertrag teilnehmer geben plattenvertrag besitzt wirklich seid gespannt jury richtigen kandidaten findet sei dabei nächsten folge folge link broadcast channel instagram abonniere kanal aktiviere glocke weiteren videos verpassen folge instagram youtube tiktok snapchat jury ausgabe serdar bogarekin daniel slump zahide berkay dank geht partner jako rapper belal ozan pano choya sherwan",
          "rabatt code tim olakala mci fitness app letztes video cc kollektion ausgeschlossen werbung",
          "höre veysel berdo lieben hassen ii veysel instagram veysel tiktok veysel facebook berdo instagram berdo tiktok veysel x berdo lieben hassen ii back to the future veysel reist zurück ersten hit bringt lieben hassen neuem beat neuem vibe neuem feature miksu produzierte original erschien weckte aufmerksamkeit haftbefehl brachte essener ersten deal jahre später gibt update denkwürdigen klassiker nrw rap neuem beat bouncy neuem mix julez johnny good plus neuen lyrics veysel berdo wien",
          "ganze folge joyn falls kurzem hotel leipzip übernachtet spät laut zwei durchschnittliche männerstimmen zehn mal gurkenfürst flur habt rufen hören wisst warum empfohlen ab jahren joko klaas prosieben mittwochs uhr prosieben joko klaas facebook folge twitter instagram gegner groß rot mächtiger je joko klaas fordern gemeinsam ganzen sender heraus dabei gilt gesamte prosieben universum bestehen kräftemessen eingeladen gegner spiele entscheidet alleine prosieben triumphieren joko klaas überlässt sender minütigen live sendeplatz freien gestaltung siegt arbeitgeber müssen bedingungslos dienste stellen _______________________ impressum",
          "serkan yavuz kritik trennung samira nächste skandal affäre eva kostenpflichtiges statement sorgen aufschrei liebes samira folgt nächste paukenschlag serkan affäre kollegin eva gehabt netz schockiert wäre genug veröffentlichte statement situation bezahlung abrufbar fans follower fassungslos werfen mangelnde transparenz geldgier wellen netz schlagen hoch geht quelle letztes video kostenlos abonnieren mails abonnieren folgt schon instagram homepage kooperations anfragen info rtl rtl",
          "thomas müller beim fc bayern münchen neuen vertrag erhalten dafür bekommt neuen wumms song tanz memes tiktok herze instagram drück daumen facebook gesang text dennis jesko musikproduzent markus baier juniton yeah gehören schaut mal rein youtube instagram tiktok website herz kritiker hater",
          "gamerbrother youtube twitch livestreams instagram twitter tik tok broski kanal gamerbrother clips at broski sport show marke tno links hängen partnerprogrammen zusammen dienen potentiellen käufer orientierung verweisen explizit bestimmte produkte sofern links genutzt falle kaufentscheidung provision ausgeschüttet playlisten schalke realtalks team bewertungen fifa reaktionen impressum gamerbrother inhaltlich verantwortlich abs mstv c o fairplay management gmbh schauenburgerstr kiel mail gamerbrother telefon ust id de",
          "wer millionär katastrophe jahres wer millionär rtl könnt schreiben oniondogster geht holy werbung code oniondog rabatt ersten bestellung code oniondog heute schauen echte katastrophe auftritt tamara löchel ganz sicher geschichte formats eingehen bereits seit wer millionär günther jauch quotengaranten rtl obwohl schon viele millionengewinner echte superbrains gab gibt natürlich immer kandidaten wirklich frage probleme genau zwei failkandidaten millionen euro woche heute gemeinsam anschauen folgen wwm wohl definitiv geschichte formats eingehen natürlich gibt lustigsten stellen highlights wer millionär kommentiert parodiert analysiert einzig echten oniondog spaß",
          "freunden schweizer alpen survival shelter gebaut richtig schön mal projekt zusammen freunden draußen natur starten spaß video bald real life guys _________ anzeige holy ausprobieren wollt guckt gerne vorbei nutzt gerne rabattcodes life rabatt erste bestellung life _________ macher festival freuen riesig jahr macher festival sehen könnt tickets kaufen krasseste sommerparty jahres dabei lohnt _________ shop _________ social media behind the scenes tiktok the real life guys bauteam johannes daniel max kamera schnitt julius josia sinan ___________ musik videos epidemic sound artlist motion array ___________ pressefotos anfragen anfrage e mail geschäftliche anfragen cooperations",
          "best of album oli p bestellen videos oli p playlist gratis unverbindlich youtube schlager kanal schlager playlist könnt oli p folgen facebook instagram könnt schlager folgen facebook instagram meisten besten schlagervideos zeiten a andrea berg z frank zander",
          "spielen spitzenreiter trikots danke support findest instagram kanal private links instagram spidey holzi music by don t worry be potato",
          "donald trump zweiten mal tage amt kommt vielleicht länger passiert project wurde umgesetzt zufall trump ja gar nix tun kabinett milliardären fernsehstars wurde aufgestellt abgeführt reichsten mensch welt elon musk klug doge geschafft richtig geld sparen gleichzeitig trump bisschen neues beef anzufangen nachbarländern kanada mexiko grönland wirtschaft zölle aufgebessert gefährliche dei beendet großem stil abgeschoben manchmal falschen leute abgeschoben wurden upsi kleines bisschen staatsstreich faschismus dabei zeit trump lästerschwestern podcast instagram twitter tiktok kapitel donald trump genie trumps geniales kabinett geld sparen doge weniger krieg trumps geniale wirtschaft endlich schluss dei trumps geniale deportationen schritte richtung faschismus danke produktion saskia goette kamera schnitt robin blase animation gerlinde schrön redaktion robin blase grafik victoria müller musik epidemic sound vielen dank lukas illig diren gülveren produktion richtig cool gmbh fotocredit thumbnail via getty images foto elon musk angela weiss kontributor foto el salvador anadolu kontributor",
          "listen music video lorde c universal music nz ltd",
          "werbung betr burger schaut gerne saschas veganem burger store betr burgers vorbei erwarten richtig leckere vegane burger cremige oatshakes viele weitere specials simon utrecht straße hamburg www betr de vielen dank franziska herrlich uncharmant folgt kanäle weitere kanäle produktionsteam regie produktion sascha dos santos leon buchholz kamera ton leon buchholz carsten wiechowski grischa strege ben ermert elias peters edit hendrik messner management florian asché",
          "schmerz jetzt streamen catch tour tickets de catch tour tickets ch kanal jetzt abonnieren dardan folgen produktion recording mix menju video alldifferent www alldifferent de director rick yng producer allan anders production team karim ebrahim ismail önder sabah anders daniel baltamatis vielen dank la gondola due iron box gym",
          "schnelle bestes rumpsteak ever rezept henssler schnell einfach kochen mehr schnelle gerichte rezepte video anleitungen findet braucht neue stielkasserolle schaut küchenutensilien seid hobby profiköche leckere zutaten feinkost gibt s braucht neue inspirationen beim kochen schnelle tolle rezepte braucht unterstützung beim kochen hilfreiche ratgeber findet geht s rezept einkaufsliste personen el cashewkerne kleines stück ingwer ½ rote peperoni frühlingszwiebel el hensslers würzöl sesam el gerösteter sesam hensslers würzmix hensslers gewürzsalz el butter zitrone el hensslers sojasauce rumpsteak newsletter abonnieren rabatt sichern hensslers schnelle leckere rezepte hensslers produktwelt instagram tiktok facebook schnelle pasta rezepte pasta pasta schnellsten rezepten henssler schnelle fleischgerichte schnelle rezepte besten fleisch zubereitet henssler schnelle salat rezepte leckere salat gerichte henssler schnell einfach gemacht schnelle vegetarische rezepte vegetarische gerichte henssler praktischen tipps",
          "wow tag realistisch haha genieße live gaming kanal instagram twitter community discord neuster song werbung partner mikrofone nutzen drehs movemic mikrofon streaming sm db bezahlt tiktok videos",
          "ganze folge joyn joko klaas zurück straße biegen direkt richtung wald ab geht stock stein wackelige brücken rutschige flussläufe hinunter wären ja kommunikativen sowie logistischen hürden innerhalb pkws empfohlen ab jahren joko klaas prosieben mittwochs uhr prosieben joko klaas facebook folge twitter instagram gegner groß rot mächtiger je joko klaas fordern gemeinsam ganzen sender heraus dabei gilt gesamte prosieben universum bestehen kräftemessen eingeladen gegner spiele entscheidet alleine prosieben triumphieren joko klaas überlässt sender minütigen live sendeplatz freien gestaltung siegt arbeitgeber müssen bedingungslos dienste stellen _______________________ impressum",
          "top fehler vermögen schrumpfen lassen kostenloses depot eröffnen finanzfluss copilot app vermögen ℹ weitere infos video heutige video thematisiert wohlstandskiller langfristig persönliche vermögen schmälern erklären faktoren negativ vermögensaufbau auswirkt fallstricke umgehen kannst sparrechner kreditrechner quellenverzeichnis empfehlungen depot kreditkarte girokonto bonus kryptobörse bonus tagesgeld zinsvergleich besten zinsangebote tagesgeldvergleich festgeldvergleich nützliche tools finanzen haushaltsbuch excel kommer weltportfolio excel schritt schritt anleitung investieren podcast instagram mehr neue finanzfluss buch intro falsch kalkulierter immobilienkauf rente kümmern falsche investmentprodukte konsumschulden scheidung hierbei handelt werbe affiliate link link klickst kaufst abschließt erhalten je anbieter provision entstehen dadurch mehrkosten unterstützt projekt danken support",
          "check erobert deutsche internet egal versicherungen pauschalreisen handyvertrag viele deutsche führt mehr plattform vorbei sicher wenigsten wissen unternehmen überrollt gerade branche gehört zwei stillen ultra kompetitiven milliardären kapitel check deutsche internet kapert stillen milliardäre irres marketing maximale marktmacht speedboot strategie fazit findet quellen autoren jakob arnold jakob schreiber christopher nagorr host jakob schreiber redaktion jakob schreiber redaktion funk lukas meya schnitt yannick grün grafik andreas brand kerri san luis faktencheck johanna gans _________________________________________ kostet welt nimmt zuschauer faszinierende welt wirtschaft warum mittlerweile abo vertickt wurde nvidia wertvollsten unternehmen welt warum explodieren hafermilchpreise fragen stecken interessante geschäftsmodelle spannende unternehmensgeschichten wkdw erzählt kostet welt produktion frankfurter allgemeinen zeitung funk funk gemeinschaftsangebot arbeitsgemeinschaft rundfunkanstalten bundesrepublik deutschland ard zweiten deutschen fernsehens zdf ______________________________________________ funk datenschutzrechtlichen bestimmungen plattform sowie erhebung analyse nutzung userdaten einfluss rahmen unserer möglichkeiten gehen größten sensibilität daten weitere informationen thema datenschutz findest unserer website yeah gehören schaut mal rein youtube instagram tiktok website netiquette",
          "jungs musso folgen produced baki metin han yasin eray han mix master metin han video created sherif shereazy sakr kamera assistent bts photos vincent pötzsch",
          "monte freundin testen burger betr burger montanablack vlog montanablack gönrgy werbung verwendete musik outro bosshafte beats rettungsschwimmer",
          "vivians tochter kommt schwerbehindert welt lange hofft vivian richtigen therapien helfen klar kind nie eigenständiges leben führen tru doku abonnieren nachdem vivian sohn bekommt kurz darauf kindsvater trennt baut gutes eigenes leben junge alleinerziehende mutter zweites mal ungeplant schwanger passt zunächst gar plan entscheidet dennoch abtreibung ende schwangerschaft treten komplikationen vivian landet notaufnahme ärzt innen krankenhaus zeitpunkt sicher vivians ungeborene tochter bauch optimal versorgt trotz auffälliger werte kommt tochter diagnose welt vivian beginnt zeit bangens tochter schwerstbehindert vivian lange wahrhaben besucht unzählige therapien hoffnung bisherigen entwicklungsverzögerungen aufzuholen tages macht physiotherapeutin deutlich tochter niemals normales leben führen vivian bricht welt zusammen sieht gezwungen realität auseinanderzusetzen tochter schwerbehindert leben lang hilfe angewiesen video gefallen lass like weitere tru dokus schwester nie tanzen ja paar raven trotz rollstuhl mann pflegt willkommen tru doku tru doku ergänzt woche vielfalt zdf formate dokus schicksalsgeschichten junger menschen dienstag gibt kanal neue dokus ganz unterschiedliche menschen perspektive erzählen wer tun bewegt host sprecher heißt filmen protagonistinnen protagonisten wort kommen eigene geschichte erzählen _______________ film paula rasch mira brünner kamera pablo gollmer hidalgo ton aloys kerrec schnitt kristin scherlitz hofmann redaktion zdf reportage lisa borgemeister leo spors drive beta redaktionsleitung nico reimer produktion franziska panne florian fimpel social media moritz steinacker anna ceramicola mediaproducing isabel rudek executive producer hannes jakobsen johannes middelbeck catherine harwardt _______________ mehr tru dienstag kanal zdfmediathek instagram tiktok habt themenvorschläge schreibt tru_doku wollt verpassen abo instagram herz kritiker hater kategorie doku reportage",
          null
         ],
         "marker": {
          "opacity": 0.5,
          "size": 5
         },
         "mode": "markers+text",
         "name": "2_instagram_video_tiktok",
         "text": [
          "",
          "",
          "",
          "",
          "",
          "",
          "",
          "",
          "",
          "",
          "",
          "",
          "",
          "",
          "",
          "",
          "",
          "",
          "",
          "",
          "",
          "",
          "",
          "",
          "",
          "",
          "",
          "",
          "",
          "",
          "",
          "",
          "",
          "",
          "",
          "",
          "",
          "",
          "",
          "",
          "",
          "",
          "",
          "",
          "",
          "",
          "",
          "",
          "",
          "",
          "",
          "",
          "",
          "",
          "",
          "",
          "",
          "",
          "",
          "",
          "",
          "",
          "",
          "",
          "",
          "",
          "",
          "",
          "",
          "",
          "",
          "",
          "",
          "",
          "",
          "",
          "",
          "",
          "",
          "",
          "",
          "",
          "",
          "",
          "",
          "",
          "",
          "",
          "",
          "",
          "",
          "",
          "",
          "",
          "",
          "",
          "",
          "",
          "",
          "",
          "",
          "",
          "",
          "",
          "",
          "",
          "",
          "",
          "",
          "",
          "",
          "",
          "",
          "",
          "",
          "",
          "",
          "",
          "",
          "",
          "",
          "",
          "",
          "",
          "",
          "",
          "",
          "",
          "",
          "",
          "",
          "",
          "",
          "",
          "",
          "",
          "",
          "",
          "",
          "",
          "",
          "",
          "",
          "",
          "",
          "",
          "",
          "",
          "",
          "",
          "",
          "",
          "",
          "",
          "",
          "",
          "",
          "",
          "",
          "",
          "2_instagram_video_tiktok"
         ],
         "textfont": {
          "size": 12
         },
         "type": "scattergl",
         "x": {
          "bdata": "2iuMQEf7oEDLG4NAPpWJQIh1jUDM7plACKyiQB7Sl0DOqahAPG+OQA6XpUDLb49AuX+lQMwVo0BvAq5A6uuiQMDHoEBiEoZA3Mp8QCWBmUCU/KhAMLmiQODPp0BYnY9AhgufQEvdnECHZ5ZAxV2uQF8/n0AWC4tANraIQOiuikBEFqFAwIqIQNi1ikBoZK5AADulQPdYqkDHDadA/DF7QAw8hkAeWYBAZAGwQDp+nEBRsIZAl2yXQEWcokDjr5FA6w+sQEmXr0Bbkp1A2CeZQBcFn0C3Y4BA8GCkQOfhpUAH96xAuYWeQC/stEAA551AeMauQOvloUAwfp5ApdWHQO2PlkDXgZtAl0CHQDRIg0CSdKFAFCqgQGU5lEBSBoBAOk2sQDg3jEDqbYhAFGmmQIHomkA7OJJARDymQFMBlUBIJYVA9bmZQLM/iUDeAY1An+qFQPqMnUBe4YhA+qCWQPrQnUCcnoBAwq2MQOg3j0D1MIxAdS2VQJuppUAoO5hAX1WeQMhNoEBSu7ZAzFidQJbzfEAPM6BAM/mLQOVAgUAERLhAIIinQDlng0DJ9JtAO6GlQGy0hUBxf6NAw5WHQFBvoUDUZaxApLGVQObRnkBlIIFAzLmHQN+FmkBAMKpAGFKXQHOPm0BEo6NAkzWcQJwxo0ABHJNAGhiVQJVrgUAJv6tA/wyEQH/3dkDJqJlAtKOWQPo/rEC0FJ9A6heLQGlNlUAhbYxAtg6ZQE7UoEBqTIdAiVeZQIiSl0DgB6VAo/yFQPo/jEBGn59A3LWoQJmLg0BQQKtAQPOCQBtunUAF3oVAJOOjQKPKh0B7B4ZA8M98QCnNnkCm9Z9AUtCBQKW2l0A=",
          "dtype": "f4"
         },
         "y": {
          "bdata": "wN1GQeSHQkElKSdBOjFIQWGfSkEySkdBgm9LQTWwPkHHdztB6mVAQe4gN0HvnEFBtGk/QfbkQEE83jlB5RBFQTPoQkE2WClBb89CQT27O0ER+ztBLqs3QU5TM0F2s0lBr3g3QWuXRUEU6D5BJRo7QXNSNUE6Q0tBhh5DQYw9SkGECEVBRRZIQePrTEEmAjZBOqxFQWxjO0FTFjVB5cRNQaICR0HedUtBEIE0QY8jP0EBCUNBg5FBQfiwM0ElW0hB2608QTdbNUH3JDtBv5JHQaoFN0Hi5UNBCEpKQY9nREEqejhBBmdCQTSEM0EvcTZBxOY/QZezN0ETt0RB66dHQTAZPkFbKUZBcDhLQauBTEFR3kRB8ak3QVfiSEH/4UxBjeA8QWCHR0G1SUNBvYYyQeYPPEHfd0RBhvxFQYT9R0FGCk1BZ0JAQQrATEF49UNBdKBMQf18NEEMdUNBHRxAQeDZQEFYoUVBSiVHQfNBREG+p0hB80dBQVOsNkFwnERB3G47QRAiOkGhc0FBjZc0QWLBQUEQajdBJ3lGQWmCREFM1EBBf188QSmPTEFrg0NBYERGQZqiSkHprjtBY/NKQY3vOEFjTz1BkYlEQeIlN0GG1kNBdulMQRyHPUEI6DtBpmxHQfHSREEbY0BBPKRDQeISRUERKEdBRipCQfZ8QkFBSztBUKJIQbXzT0EBwUVB7olCQeMsO0GnRzZBYRxJQY9yQkFwbktBzFY/QY11NEGGYktBUS9EQfSaOEEgY0VB7/BEQffpS0FBODdBH0c+QdieRUELtztBVGpGQf4/NkHuGkpBBFhDQeJcS0HWkEtB4INNQYMqN0HlEzZBcsFLQRBrQUE=",
          "dtype": "f4"
         }
        },
        {
         "hoverinfo": "text",
         "hovertext": [
          "hope ok",
          "jealous never",
          "boom",
          "finallyyyy",
          "rude",
          "wanted first line",
          "see people love",
          "congrats",
          "love",
          "honestly tough one",
          "ok bye spam time go work fr",
          "get",
          "need stopped",
          "sweet",
          "ok",
          "considering last one done well",
          "cool",
          "knew cutting garlic funny",
          "omg omg omgggggg",
          "together",
          "think bad idea",
          "wait till end",
          "last save",
          "yez",
          "sweet boy",
          "posted one",
          "want money",
          "signal",
          "wer",
          "wait",
          "showed late",
          "got moves",
          "looks like much fun",
          "remember",
          "american",
          "cutie",
          "ending hilarious",
          "living",
          "try laugh",
          "wait",
          "found funny lol",
          "mind",
          "better like",
          "whyyy",
          "joke tomorrow",
          "admire",
          "title",
          "go school tomorrow yamal",
          "hahaahah",
          "hahahahahha",
          "official",
          "wait",
          "wait end",
          "end",
          "omg",
          "incroyable",
          "plz back",
          "kinda obvious",
          "blessed",
          "ever tried",
          "last one perfect",
          "wooo",
          "real",
          "sure",
          "stop",
          "always laugh",
          "mind face",
          "ever",
          "evil",
          "handsome",
          "worst friend",
          "love try",
          "yeah natural",
          "right",
          "relatable",
          "description",
          "want massive dumptruck",
          "idk going get used",
          "good",
          "get",
          "um yeah",
          "expect result",
          "description",
          "bombooooclaaaaat",
          "even",
          "done ex",
          "best",
          "noooooo",
          "me",
          "good",
          null
         ],
         "marker": {
          "opacity": 0.5,
          "size": 5
         },
         "mode": "markers+text",
         "name": "3_wait_omg_ok",
         "text": [
          "",
          "",
          "",
          "",
          "",
          "",
          "",
          "",
          "",
          "",
          "",
          "",
          "",
          "",
          "",
          "",
          "",
          "",
          "",
          "",
          "",
          "",
          "",
          "",
          "",
          "",
          "",
          "",
          "",
          "",
          "",
          "",
          "",
          "",
          "",
          "",
          "",
          "",
          "",
          "",
          "",
          "",
          "",
          "",
          "",
          "",
          "",
          "",
          "",
          "",
          "",
          "",
          "",
          "",
          "",
          "",
          "",
          "",
          "",
          "",
          "",
          "",
          "",
          "",
          "",
          "",
          "",
          "",
          "",
          "",
          "",
          "",
          "",
          "",
          "",
          "",
          "",
          "",
          "",
          "",
          "",
          "",
          "",
          "",
          "",
          "",
          "",
          "",
          "",
          "",
          "3_wait_omg_ok"
         ],
         "textfont": {
          "size": 12
         },
         "type": "scattergl",
         "x": {
          "bdata": "vvvXQCfP5kDr/tdAk3HTQCg40kB1d95AUFzJQBDvzUBkmMlA7pbfQDBgxEDqp91AM3jeQOqzzUB9rNVA95ffQDEv0kCys91Asy7JQIBryUBqec5AryDcQIXQ4EDwCs1AfTTOQMzi3UBN699AcpnQQJeZxUBqMdxAryPZQIBe3UASlNxAtA3hQNJMyEBLf8pA3J7eQIGxyEBxhOFAGjDcQB6e3EAb58tANknZQBd50kBZ/tRAXTXHQMxx0UBLGMpA2/rLQKKazEDpx9FAX0bcQE/P20D7FeBAcfTLQKsPz0C368ZAu/vPQFxw0UCGYeFA+3DgQNklzkACQ8tAfd/TQIWX2UBIVeFAF3XJQMnd4kB63tVAe4/GQOUC3UAcOd1AlALSQNO+3EAMWM9A+MLRQGCj4UCwF91ArcvTQAIY3UCiY85AdSbdQNvP0UDUpsdAwl7eQNOt20A9ztxAqmHLQCFyw0A9wtNAP/3UQA==",
          "dtype": "f4"
         },
         "y": {
          "bdata": "nNzfQDWa7UCaAeRA5+/gQM+i8UDka+dAvs77QEQT3UDdUPpA8V/zQChO40CRo+BAok/lQF+u3ED4F95AxAnzQI+k3EDIGutAghncQBix+kCsIvNAjU/lQI198kAkJ95AO/XdQIaN50BhbuFASI8EQQJt4EAgaOFA2vHoQOsr4EAo4fBAAMDsQB5/9EDHS/5A50npQPzTAkHV5+lAoMXhQKx36ED1SPVAIGbtQAmW4kAMgOVA4j8AQUaE+0B8EeRAVJPbQLTz2kAXj/xAInPhQPZx40Ag6eVAyNXbQHrj/kBTguJALqzoQJF880A6VulAxfXyQE683EBwsghB+ULeQJn+5kA/++dA9v33QNFJ6ECgfPRAhaf5QPkt9UB18uxAtWjyQLO24UAM7vxAeR/+QIzj4kAKKuBAkCnjQGqn4EApc9xANFbnQIac/UB+wt1AL3LkQAgl4kAZofVA7xLaQOI170BxTONAVMDqQA==",
          "dtype": "f4"
         }
        },
        {
         "hoverinfo": "text",
         "hovertext": [
          "stop falling people fast",
          "another dazzling belly dance cutest kitten",
          "best falling moments",
          "coming fast",
          "brainrot animation",
          "aventador kitty",
          "th minute chaos",
          "kitten belly dances puppy drops beat must see cuteness",
          "see run away",
          "crazy cat posture",
          "moments showww",
          "speedrun brainrot animals tralalerotralala",
          "brainrot song",
          "taught cat walk",
          "fíanna force",
          "funny kittens broke air video",
          "diaper calf",
          "italian brainrot vs gnome challenge",
          "lirili larila performs jubi slide guys made get real italian brainrot toy link bio",
          "cat brainrot",
          "impossible brainrot speedrun part",
          "brainrot speedrun impossible level part",
          "tralalero tralala x wakawaka brainrot movie tragic tragic tragic song",
          "horse back pain",
          "clingy cat",
          "guess italian brainrot character background",
          "would give anything watch",
          "placed bed nether",
          "pup lives better life us real leclerc",
          "ballerina cococolina",
          "touch king hourse horse guards london",
          "speedrun edit",
          "funny cute little goat",
          "tralalelo tralala x bombardiro brainrot movie tragic tragic tragic song",
          "tralalero tralala italian brainrot song brainrot movie tragic tragic tragic song created",
          "even impressed little feet moving beat",
          "chaos copthorne",
          "matter ft barking cat",
          "runs street",
          "getting ready hour red eye flight",
          "cat fall",
          "guess italian brain rot animal emojis quiz",
          "italian brainrot avengers endgame part",
          "italian brainrot song brainrot movie tragic tragic tragic song created",
          "poverty makes cats anything",
          null
         ],
         "marker": {
          "opacity": 0.5,
          "size": 5
         },
         "mode": "markers+text",
         "name": "4_brainrot_tragic_italian",
         "text": [
          "",
          "",
          "",
          "",
          "",
          "",
          "",
          "",
          "",
          "",
          "",
          "",
          "",
          "",
          "",
          "",
          "",
          "",
          "",
          "",
          "",
          "",
          "",
          "",
          "",
          "",
          "",
          "",
          "",
          "",
          "",
          "",
          "",
          "",
          "",
          "",
          "",
          "",
          "",
          "",
          "",
          "",
          "",
          "",
          "",
          "4_brainrot_tragic_italian"
         ],
         "textfont": {
          "size": 12
         },
         "type": "scattergl",
         "x": {
          "bdata": "PfWkQFgboEAFVaRAhVyyQMdhikAquqFA/fGsQBIBokD39bxApGOaQFgSpED4yoxA4dWIQJ0KnEDVd7dAB9ygQEuWnkBKooVAF+yCQAFQkUAL2YxALRGMQDkGgUAJPqNAKyqaQBr8g0C9AKRAPrGSQDrdpED95ZtAZo2lQL8rjkDjIKZAFaCBQKnlgkB7QrdA61CsQO/Om0DZwLxAOtCnQLumnECWBoRAlX6EQEoqg0AFi5xAMKOaQA==",
          "dtype": "f4"
         },
         "y": {
          "bdata": "50QDQa60AEE+5wNB7CAFQaVa/kC2JQBB2VcKQTTwAEFpKgNBC7b+QMCsEUG5nP1AL+7+QKD//UAYngxBukoAQTVFAUF4QP9AWUUCQXat/UB7mf1A4vj9QNq6AEFQagtB8bH9QE8VAEFTPBJBHo0BQR61AEGBaQFBS+YMQek2/kCy3wFBIqMAQcIVAEEykQlBPvsGQd+//UDTKgRB5QkJQRlR/kCPQQBBpWP/QAPV/0BJxv1AptcCQQ==",
          "dtype": "f4"
         }
        },
        {
         "hoverinfo": "text",
         "hovertext": [
          "barça",
          "fc bayern saison titel holen meisterschaft gewisse genugtuung nachdem letzte saison bayer leverkusen double gewinnen konnte eigentlich bayern natürlich haus mehr saison triple ziel max eberl transfersommer nutzen kader hochglanz polieren neue große namen sollen kommen verschaffen überblick kommt transfer puzzle fc bayern intro torhüter position abwehr mittelfeld angriff outro abonnieren instagram whatsapp e mail adresse infokick bilder maxppp videos pressbox by stats perform musik epidemic sound",
          "spieltag empfängt fc barcelona woche borussia dortmund halbfinale champions league eingezogen liga celta vigo spielverlauf f torres b iglesias b iglesias b iglesias d olmo raphinha raphinha highlights königsklasse siehst besten highlights internationalen fußball siehst link registrieren dazn kostenlos nutzen bit ly daznforfree geht s dazn programm dazn dazn facebook besten highlights wettbewerben youtube dazn uefa champions league youtube abonnieren dazn darts youtube abonnieren dazn fightclub youtube abonnieren dazn heimat fußballs dazn sehen fans besten wettbewerbe ort uefa champions league fifa klub wm bundesliga ab erstmalig inkl legendären konferenz sowie besten internationalen ligen laliga serie a ligue darüber hinaus bietet dazn fans neben fußball breiteste beste angebot spitzensport u a besten us sport nfl nba handball ehf champions league ehf european league darts pdc dp world tour liv golf tour golf kampfsport ufc pfl größten boxkämpfen ort dazn erlebe sport live abruf geräten dazn dazn livesport streamingdienst fans erlaubt sport erleben möchten egal live hause unterwegs zeitversetzt rückblick dazn bietet sportübertragungen pro jahr beinhaltet umfangreichste sportangebot jemals einzelnen anbieter gegeben impressum",
          "watch every match mls season pass apple tv plays subscribe follow us tiktok instagram twitter like us facebook para español instagram twitter facebook facebook com espanol mls information mls go league official website en español",
          "juni deutsche nationalmannschaft ersten mal titel uefa nations league holen münchen stuttgart steigt final four deutschland europameister spanien vize weltmeister frankreich portugal erinnerungen wach heim europameisterschaft vergangenen sommer nationalmannschaft fans begeisterte deutschland vier stimmungsvolle turnierwochen erlebte exklusive dokumentation team heim em nimmt reise deutschen nationalmannschaft rund europameisterschaft deutschland sommer ersten folge blicken zurück anfänge cheftrainer julian nagelsmann türkei österreich länderspiele frankreich niederlande nähern start em beginn vorbereitung weimarer land teambuilding einheit sek ankunft herzogenaurach spaß ersten folge insgesamt tage lang begleitete kamerateam dfb team rahmen uefa euro trainingslager testspiele turnier team heim em produktion omr frames regie führten tom häussler jonas kozinowski abonniere kanal aktiviere glocke instagram tiktok twitch facebook x bereal",
          "matheus nunes scored dramatic th minute winner city secured crucial three points race champions league win aston villa subscribe official man city youtube channel find latest videos manchester city including premier league champions league fa cup league cup goals highlights behind scenes footage training much get closer likes jack grealish bunny shaw kevin de bruyne lauren hemp erling haaland joško gvardiol phil foden vivianne miedema rest pep guardiola nick cushing teams",
          "halbfinal hinspiel uefa champions league empfängt fc barcelona inter mailand spielverlauf m thuram d dumphries l yamal f torres d dumphries y sommer et highlights königsklasse siehst besten highlights internationalen fußball siehst link registrieren dazn kostenlos nutzen bit ly daznforfree geht s dazn programm dazn dazn facebook besten highlights wettbewerben youtube dazn uefa champions league youtube abonnieren dazn darts youtube abonnieren dazn fightclub youtube abonnieren erlebe tausende sportevents hd qualität geräten dazn gibt s europäischen top fußball uefa champions league bundesliga laliga serie a ligue sowie besten us sport nfl nba fight sports darts golf vieles mehr wann willst erlebe sport live abruf geräten dazn dazn livesport streamingdienst fans erlaubt sport erleben möchten egal live hause unterwegs zeitversetzt rückblick dazn bietet sportübertragungen pro jahr beinhaltet umfangreichste sportangebot jemals einzelnen anbieter gegeben impressum",
          "manchster united empfängt flutlicht old trafford olympique lyon rückspiel viertelfinales europa league hinspiel trennten beiden teams spannenden spiel last minute treffer youngstar ryan cherki findet aufgrund patzers united torwart andre onana ziel netz sorgt dadurch offenes rückspiel manchester reds ruben amorim offensivstärke rund bruno fernandes alejandro garnacho eigenen fans zuhause verzaubern großen schritt richtung europa league titel live übertragungen highlights mehr fußball rtl kanal abonnieren thumbnail imago",
          "red devil buy high quality football jerseys profile",
          "vorstand fc köln zustimmung gemeinsamen ausschusses entschieden geschäftsführer sport christian keller cheftrainer gerhard struber sofortiger wirkung aufgaben entbinden thomas kessler übernimmt sportdirektor sportliche leitung neuer cheftrainer friedhelm funkel erhält vertrag ende laufenden spielzeit heutigen pressekonferenz sprechen cheftrainer friedhelm funkel sportdirektor thomas kessler präsident werner wolf presse pk livestream präsentiert __________ offiziellen fc kanäle findet instagram facebook twitter homepage fanshop",
          "tabellenführer primera division empfängt spieltag rcd mallorca spielverlauf d olmo highlights königsklasse siehst besten highlights internationalen fußball siehst link registrieren dazn kostenlos nutzen bit ly daznforfree geht s dazn programm dazn dazn facebook besten highlights wettbewerben youtube dazn uefa champions league youtube abonnieren dazn darts youtube abonnieren dazn fightclub youtube abonnieren dazn heimat fußballs dazn sehen fans besten wettbewerbe ort uefa champions league fifa klub wm bundesliga ab erstmalig inkl legendären konferenz sowie besten internationalen ligen laliga serie a ligue darüber hinaus bietet dazn fans neben fußball breiteste beste angebot spitzensport u a besten us sport nfl nba handball ehf champions league ehf european league darts pdc dp world tour liv golf tour golf kampfsport ufc pfl größten boxkämpfen ort dazn erlebe sport live abruf geräten dazn dazn livesport streamingdienst fans erlaubt sport erleben möchten egal live hause unterwegs zeitversetzt rückblick dazn bietet sportübertragungen pro jahr beinhaltet umfangreichste sportangebot jemals einzelnen anbieter gegeben impressum",
          "königlichen gast beim tabellenzwöflten getafe spielverlauf a güler highlights königsklasse siehst besten highlights internationalen fußball siehst link registrieren dazn kostenlos nutzen bit ly daznforfree geht s dazn programm dazn dazn facebook besten highlights wettbewerben youtube dazn uefa champions league youtube abonnieren dazn darts youtube abonnieren dazn fightclub youtube abonnieren dazn heimat fußballs dazn sehen fans besten wettbewerbe ort uefa champions league fifa klub wm bundesliga ab erstmalig inkl legendären konferenz sowie besten internationalen ligen laliga serie a ligue darüber hinaus bietet dazn fans neben fußball breiteste beste angebot spitzensport u a besten us sport nfl nba handball ehf champions league ehf european league darts pdc dp world tour liv golf tour golf kampfsport ufc pfl größten boxkämpfen ort dazn erlebe sport live abruf geräten dazn dazn livesport streamingdienst fans erlaubt sport erleben möchten egal live hause unterwegs zeitversetzt rückblick dazn bietet sportübertragungen pro jahr beinhaltet umfangreichste sportangebot jemals einzelnen anbieter gegeben impressum",
          "spieltag laliga empfängt real valladolid fc barcelona spielverlauf i sanchez raphinha f lopez highlights königsklasse siehst besten highlights internationalen fußball siehst link registrieren dazn kostenlos nutzen bit ly daznforfree geht s dazn programm dazn dazn facebook besten highlights wettbewerben youtube dazn uefa champions league youtube abonnieren dazn darts youtube abonnieren dazn fightclub youtube abonnieren dazn heimat fußballs dazn sehen fans besten wettbewerbe ort uefa champions league fifa klub wm bundesliga ab erstmalig inkl legendären konferenz sowie besten internationalen ligen laliga serie a ligue darüber hinaus bietet dazn fans neben fußball breiteste beste angebot spitzensport u a besten us sport nfl nba handball ehf champions league ehf european league darts pdc dp world tour liv golf tour golf kampfsport ufc pfl größten boxkämpfen ort dazn erlebe sport live abruf geräten dazn dazn livesport streamingdienst fans erlaubt sport erleben möchten egal live hause unterwegs zeitversetzt rückblick dazn bietet sportübertragungen pro jahr beinhaltet umfangreichste sportangebot jemals einzelnen anbieter gegeben impressum",
          "conference league halbfinale betis sevilla fiorentina geht betis ex united star antony reihen heilsbringer florenz steht dritten mal folge halbfinale turniers finals verloren anschließend mal deutschen nationalspieler robin gosens jahr titel italien holen uefa europa league uefa conference league matchday live rtl free tv diverse einzelspiele konferenz rtl live übertragungen highlights mehr fußball europa league gibt s rtl weitere highlights uefa europa league gibt s abonnieren vergessen folge social media kanälen instagram tiktok facebook infos uefa europa league europa league saison gehen neben deutschen teams eintracht frankfurt tsg hoffenheim weitere mannschaften start zählen hochkarätige teams tottenham hotspur olympique lyon fenerbahce galatasaray istanbul fc porto as rom manchester united athletic bilbao europa league jahr ganz besondere angelegenheit finale findet mai bilbao statt",
          "harry maguire trifft nachspielzeit lyon old trafford tobt legendärer abend verlängerung utd steht tatsächlich halbfinale europa league premier league red devils läuft winkt titel saison retten athletic bilbao nico williams co bringt extra motivation finale europa league findet eigenen stadion statt uefa europa league uefa conference league matchday live rtl free tv diverse einzelspiele konferenz rtl live übertragungen highlights mehr fußball europa league gibt s rtl weitere highlights uefa europa league gibt s abonnieren vergessen folge social media kanälen instagram tiktok facebook infos uefa europa league europa league saison gehen neben deutschen teams eintracht frankfurt tsg hoffenheim weitere mannschaften start zählen hochkarätige teams tottenham hotspur olympique lyon fenerbahce galatasaray istanbul fc porto as rom manchester united athletic bilbao europa league jahr ganz besondere angelegenheit finale findet mai bilbao statt",
          "spaß highlights spiels inter mailand fc barcelona halbfinale uefa champions league prime video tore martinez calhanoglu e garcia olmo raphinha acerbi frattesi highlights analysen gibt prime video mehr verpassen amazon prime video instagram tiktok",
          "spaß highlights spiels fc arsenal paris saint germain halbfinale uefa champions league prime video tore dembele highlights analysen gibt prime video mehr verpassen amazon prime video instagram tiktok",
          "spitzenspiel finish gesamten gamereport siehst spiele liga live magentasport mehr live sport geht fußball live eishockey live basketball live magentasport facebook magentasport instagram magentasport tiktok",
          "modern champions league classic inter barcleona played one best champions league ties time serie side edged way ucl final ucl today gang reacted barcelona heartbreak alongside david beckham every bit incredible action best champions league tie ever seen stream ucl paramount watch ucl extended highlights watch ucl today thierry henry kate scott micah richards jamie carragher subscribe cbs sports golazo channels",
          "watch live local primetime games nfl redzone nfl network plus nfl com check channels nfl mundo nfl brasil nfl uk nfl fantasy football nfl play football nfl throwback nfl films nfl network",
          "asking whole clip hamburg germany h r r etc",
          "real madrid consigue victoria santiago bernabéu frente rc celta intenso partido doblete mbappé gol arda güler dan tres importantes puntos lucha liderato j laliga ea sports suscríbete canal laliga ea sports",
          "willkommen delay sports berlin youtube account möchtest teil unserer jugend melde direkt trainier b jugend c jugend geht trikot spenden kostenlose doku checkt angebote esn ab sichert maximalen rabatt code eli werbung instagram instagram delay jugend könnt delay sports berlin mitglied vergessen delay donnerstag heißt uhr upload",
          "goin superbowl like abra oo na na category sports spells",
          "milan strolled victory inter san siro booked place final rome may rossoneri scored jovic brace serbian added third final minutes yet another goal season reijnders coppa italia frecciarossa official channel serie providing latest highlights interviews news features keep date things italian football subscribe channel find serie questo è il canale ufficiale della serie dove potrai avere accesso ai momenti salienti alle interviste alle notizie e alle funzionalità del momento per rimanere aggiornato sulle ultime novità del campionato iscriviti qui al canale per maggiori informazioni sulla serie",
          "el barça remonta un barça psg ucl",
          "klaren hinspiel möchte united endgültig ticket europa league finale lösen setzt dabei portugiesen bruno fernandes vergangene woche doppelpack glänzen konnte hinspiel klatsche bilbao old trafford ran beiden williams brüder verzichten momentan trefferliste anführen uefa europa league uefa conference league matchday live rtl free tv diverse einzelspiele konferenz rtl live übertragungen highlights mehr fußball europa league gibt s rtl weitere highlights uefa europa league gibt s abonnieren vergessen folge social media kanälen instagram tiktok facebook infos uefa europa league europa league saison gehen neben deutschen teams eintracht frankfurt tsg hoffenheim weitere mannschaften start zählen hochkarätige teams tottenham hotspur olympique lyon fenerbahce galatasaray istanbul fc porto as rom manchester united athletic bilbao europa league jahr ganz besondere angelegenheit finale findet mai bilbao statt",
          "barça barça",
          "vamos barcelona matchday",
          "spaß highlights sprint beim großen preis miami miami international autodrome lauf formel saison sky sport formel highlights xxl länge onboards team radios compilations u v m exklusiven sky sport formel kanal abonnieren sky sport app sky sport instagram sky sport tik tok",
          "checkt kostenlose girokonto trade republic ab schiedsrichter kämpfen respekt la liga seit zeit hart kritisiert insbesondere real madrid königlichen bezeichnen schiris korrupt seien fair objektiv tiefpunkt gab s finale copa del rey barca ricardo de burgos bengoetxea bereits spiel hart attackiert wurde grund genug skandalösen fall blicken insbesondere rolle antonio rüdiger müssen beleuchten führungsspieler wichtiger teil dfb teams verhalten konsequenzen geben ja hoch sollen real madrid scheint schiedsrichtern besessen auslöser skandal wenige jahre zurückreicht fc barcelona spielt große rolle immerhin wurde fall negreira heute vollständig aufgeklärt ehemalige schiri vize boss mio eur katalanen erhalten unklar heute wofür genau seitdem wittert real ecken enden bestechung korruption februar bereits ermittlungen schiri jose luis munuera montero führte kam jedoch heraus interessenkonflikt gibt außerdem sprechen ber rolle realtv vereinssender gezielt schiris verunglimpft konsequenzen verein reagieren eigenen spieler schiris viele themen spaß beim video intro spanische schiedsrichter korrupt real vs barca copa del rey real wirklich benachteiligt profi schiris spanien ändern social kanäle wichtig trikots videos getragen spiegeln sympathien wider dient lediglich aktuelle thema untermalen",
          "checkt lyora muttertags rabatte ab gaming kanal icon league team fokus eagles folgt snapchat instagram instagram acc twitch twitter delay sports youtube kanal youtube kanal modemarke instagram shop vitamin wasser instagram verein delay sports instagram mitglied abonniert fokus fokus instagram fokus twitter fokus youtube sämtliche gekennzeichneten links stellen werbung dar",
          "gesamten gamereport siehst spiele liga live magentasport mehr live sport geht fußball live eishockey live basketball live magentasport facebook magentasport instagram magentasport tiktok",
          "fc union vfb stuttgart lieferten tor spektakel geschichtsbücher richtig freuen konnten darüber berliner punktgewinn beim ersten halbzeit turbulenten rekordträchtigen bundesliga heimspiel stadion alten försterei bescherte union vorzeitigen verbleib fußball bundesliga gibt highlights bundesliga uefa champions league dfb pokals highlights ausgewählter partien bundesliga frauen bundesliga abonniert kanal brodelt vierthöchsten deutschen spielklasse traditionsklubs regionalliga nordost vehement reform unfairen aufstiegsregelung einfordern gerät westen verein finanzielle schieflage teils grotesken auswüchsen beim fc düren spielbetrieb mithilfe spieler castings aufrechterhalten neuen folge bolzplatz schauen chaos genauer sportstudio instagram sportstudio tiktok sportstudio whatsapp gastgeber legten bundesliga heimspiel blitzstart andrej ilic staubte kurzer distanz ab eisernen bemüht schwaben räume rauben blieben höchst gefährlich zweiten treffer diogo leite knappe viertelstunde später schien große union party sicher wurde erst richtig wild meldete stuttgart deniz undavs fernschuss ersten treffer seit januar zurück enzo millot legte schnell gefühl leopold querfeld setzte drauf ball ansatzlos metern tor drosch spätestens rannten beide teams rücksicht verluste spiel eskalierte komplett ersten halbzeit quasi abwehrarbeit existierte belohnten jeff chabot chris führich immer stärker drückenden vfb führung wobei ilic partie zweiten treffer diesmal per kopf nächste wendung verlieh bundesliga geschichte schrieb acht tore halbzeit gab bundesliga nie halbzeit schienen steffen baumgart vfb coach sebastian hoeneß richtigen worte gefunden abwehrreihen standen sicherer vergleich teils vogelwilden zuständen abschnitt eins direktes resultat flachte partie ab großchancen gab kaum distanzschuss unions benedict hollerbach flog klar tor aufstellungen fc union berlin rönnow doekhi querfeld leite trimmel khedira rothe haberer bénes schäfer tousart ilic ljubicic hollerbach skarke trainer steffen baumgart vfb stuttgart nübel stergiou stenzel jeltsch chabot hendriks mittelstädt karazor stiller millot undav führich bruun larsen demirovi trainer sebastian hoeneß schiedsrichter tobias stieler sölden kommentator gari paubandt",
          "enjoy highlights semi final al nassr ksa kawasaki frontale jpn afc champions league elite finals jeddah goals ito mane ozeki ienaga yahya subscribe home asian football download afc live app follow club action one place follow afc champions league elite action official platforms facebook instagram tiktok x x arabic x japanese",
          "pl matchday highlights chelsea premier league victory liverpool stamford bridge subscribe channel recommended playlists premier league highlights extended highlights usa tour men training chelsea new signings enzo maresca download chelsea fc official mobile app exclusive content latest updates team news launches visit chelsea football club founded chelsea football club english professional football club based fulham west london stamford bridge home club competing premier league top division english football club many successes winning five premier league titles club first major honour league championship followed fa cup first european honour cup winners cup became third english club win club world cup pride london chelsea fc one successful clubs terms overall trophies club three major european competitions twice taken crown domestically winning six league titles eight fa cups five league cups four fa community shields internationally chelsea uefa champions league uefa europa league uefa cup winners cup uefa super cup twice fifa club world cup since inception chelsea youtube channel provides access build training behind scenes moments matchday action along unseen edits player focus reece james cole palmer enzo fernandez sam kerr lauren james many channel get authentic look great club including memorable nights world class heroes peter osgood gianfranco zola frank lampard john terry didier drogba eden hazard",
          "bengals something else swear",
          "get first look f gameplay minutes exclusive footage across multiple tracks hosted matt gallagher alex jacques f may play days early may iconic edition f official gameplay reveal team driver selection austria reverse track miami lidar track driver radio oscar piastri podium sequence silverstone reverse track silverstone reverse pitstop bahrain lidar track suzuka lidar track melbourne lidar track wet zandvoort reverse track driver radio george russell get news conditions restrictions apply see ea com games f f game disclaimers details",
          "barcelona vs inter milan champions league",
          "spaß highlights qualifying beim großen preis miami miami international autodrome lauf formel saison sky sport formel highlights xxl länge onboards team radios compilations u v m exklusiven sky sport formel kanal abonnieren sky sport app sky sport instagram sky sport tik tok",
          null
         ],
         "marker": {
          "opacity": 0.5,
          "size": 5
         },
         "mode": "markers+text",
         "name": "5_league_dazn_highlights",
         "text": [
          "",
          "",
          "",
          "",
          "",
          "",
          "",
          "",
          "",
          "",
          "",
          "",
          "",
          "",
          "",
          "",
          "",
          "",
          "",
          "",
          "",
          "",
          "",
          "",
          "",
          "",
          "",
          "",
          "",
          "",
          "",
          "",
          "",
          "",
          "",
          "",
          "",
          "",
          "",
          "",
          "5_league_dazn_highlights"
         ],
         "textfont": {
          "size": 12
         },
         "type": "scattergl",
         "x": {
          "bdata": "kmscQI21SECS7yZAx/UmQP+tLUD0mSVAyNIoQBe7KECbLTJArExKQKWWKEAgxyxANTMpQAn0JUAnHydA1U09QIVmQkCgqUpAfmMlQFxhM0B2ekhA7mUjQCKRTUDF/kFAzFMfQI3rG0DofiZA3yIcQKRvGkDTGklAij0nQMjhSEC23ElAF0tBQGlxO0DJ5SVAz7c0QOsETED3oBxAHLxJQAp+MkA=",
          "dtype": "f4"
         },
         "y": {
          "bdata": "PU1GQeNRSEFyC0pB4T5KQWhLS0HUwUlBNepJQY6dSUGvA0pBhmtLQdtNSkE1g0pBlm1KQZbjSUFePEpBcfdHQQUCR0Fn0kpBlElJQVIpSkHwpEZBG9xJQfi6SkFY4klBNY1HQYA2RkGy9ElByC1GQSZuRUEw0EZBfYxKQRtPSUEm1EpBikxMQQ+nSEED0ElB5CdKQVUeRkF6p0ZBj8ZGQVYZSUE=",
          "dtype": "f4"
         }
        },
        {
         "hoverinfo": "text",
         "hovertext": [
          "ind cle box scores nba yahoo nbsp game summary east conf semifinals game ind leads location rocket arena officials tony brothers david guthrie eric dalen nick buchert team q q q q total indiana pacers cleveland cavaliers nbsp team stats team pts fg fg p p ft ft oreb treb ast pf stl blk indiana pacers cleveland cavaliers nbsp player stats ind indiana pacers min pts fgm pm ftm orb drb reb ast stl blk pf aaron nesmith sf pascal siakam pf myles turner c andrew nembhard sg tyrese haliburton pg bennedict mathurin obi toppin j mcconnell ben sheppard thomas bryant jarace walker tony bradley johnny furphy james johnson isaiah jackson cle cleveland cavaliers min pts fgm pm ftm orb drb reb ast stl blk pf max strus sf dean wade pf jarrett allen c ty jerome sg donovan mitchell pg sam merrill isaac okoro javonte green craig porter jr darius garland de andre hunter evan mobley chuma okeke tristan thompson jaylon tyson",
          "york knicks boston celtics td garden boston espn tv radio time clock final q q q q total nyk bos stats new york knicks player mins pts fgm pm ftm orb drb reb ast stl blk pf anunoby j hart k towns bridges j brunson robinson mcbride c payne boston celtics player mins pts fgm pm ftm orb drb reb ast stl blk pf j brown j tatum horford white j holiday p pritchard l kornet k porziņģis stats team fgm pm ftm ast pf stl blk oreb dreb reb nyk bos use reddit stream com get autorefreshing version page note data accurate nba com please message u nba_gdt_bot suggestions notice bugs bot",
          "rank without knowing next",
          "gsw min box scores nba yahoo nbsp game summary west conf semifinals game series tied location target center officials sean corbin bill kennedy zach zarba tre maddox team q q q q total golden state warriors minnesota timberwolves nbsp team stats team pts fg fg p p ft ft oreb treb ast pf stl blk golden state warriors minnesota timberwolves nbsp player stats gsw golden state warriors min pts fgm pm ftm orb drb reb ast stl blk pf buddy hield sf jimmy butler iii pf draymond green c brandin podziemski sg stephen curry pg gary payton ii moses moody gui santos kevon looney quinten post jonathan kuminga pat spencer trayce jackson davis braxton key kevin knox ii min minnesota timberwolves min pts fgm pm ftm orb drb reb ast stl blk pf jaden mcdaniels sf julius randle pf rudy gobert c anthony edwards sg mike conley pg donte divincenzo naz reid nickeil alexander walker terrence shannon jr jaylen clark luka garza joe ingles leonard miller josh minott rob dillingham",
          "golden state stephen curry sustained grade left hamstring strain ruled game minnesota thursday sources tell espn first strained muscle curry career exact return timetable unclear due first rehab like source",
          "dallas mavericks eliminated nba championship contention dallas mavericks traded superstar luka doncic mid february shocking trade mavericks gm nico harrison claims defence wins championships fade em",
          "ind cle box scores nba yahoo nbsp game summary east conf semifinals game series tied location rocket arena officials zach zarba sean wright tre maddox gediminas petraitis team q q q q total indiana pacers cleveland cavaliers nbsp team stats team pts fg fg p p ft ft oreb treb ast pf stl blk indiana pacers cleveland cavaliers nbsp player stats ind indiana pacers min pts fgm pm ftm orb drb reb ast stl blk pf aaron nesmith sf pascal siakam pf myles turner c andrew nembhard sg tyrese haliburton pg bennedict mathurin jarace walker j mcconnell obi toppin ben sheppard thomas bryant tony bradley johnny furphy james johnson isaiah jackson cle cleveland cavaliers min pts fgm pm ftm orb drb reb ast stl blk pf max strus sf evan mobley pf jarrett allen c sam merrill sg donovan mitchell pg ty jerome de andre hunter dean wade isaac okoro darius garland javonte green chuma okeke craig porter jr tristan thompson jaylon tyson",
          "take every game way seriously",
          "main roster braun strowman shayna baszler dakota kai kayden carter katana chance nxt cora jade gigi dolin gallus joe coffey mark coffey wolfgang eddy thorpe riley osborne oro mensah jakara jackson javier bernal",
          "pacers defeated cavaliers tonight cleveland myles turner led pacers points go blocks rebounds aaron nesmith contributed points fg p points game donovan mitchell finished team high points along assists cavaliers losing effort pacers lead series never miss moment latest news trending stories highlights bring closer favorite players teams download subscribe nba",
          "den okc box scores nba yahoo nbsp game summary west conf semifinals game series tied location paycom center officials john goble brent barnaky josh tiven karl lane team q q q q total denver nuggets oklahoma city thunder nbsp team stats team pts fg fg p p ft ft oreb treb ast pf stl blk denver nuggets oklahoma city thunder nbsp player stats den denver nuggets min pts fgm pm ftm orb drb reb ast stl blk pf michael porter jr sf aaron gordon pf nikola jokić c christian braun sg jamal murray pg russell westbrook peyton watson julian strawther vlatko čančar deandre jordan zeke nnaji jalen pickett dario šarić hunter tyson daron holmes ii okc oklahoma city thunder min pts fgm pm ftm orb drb reb ast stl blk pf jalen williams sf chet holmgren pf isaiah hartenstein c luguentz dort sg shai gilgeous alexander pg isaiah joe alex caruso cason wallace jaylin williams aaron wiggins ousmane dieng dillon jones ajay mitchell kenrich williams nikola topić",
          "hou gsw box scores nba yahoo nbsp game summary west first round game gsw leads location chase center officials james capers jb derosa mitchell ervin team q q q q total houston rockets golden state warriors nbsp team stats team pts fg fg p p ft ft oreb treb ast pf stl blk houston rockets golden state warriors nbsp player stats hou houston rockets min pts fgm pm ftm orb drb reb ast stl blk pf amen thompson sf dillon brooks pf alperen sengun c jalen green sg fred vanvleet pg steven adams tari eason jabari smith jr aaron holiday cam whitmore jeff green reed sheppard nate williams jock landale jae sean tate gsw golden state warriors min pts fgm pm ftm orb drb reb ast stl blk pf gary payton ii sf jimmy butler iii pf draymond green c buddy hield sg stephen curry pg brandin podziemski moses moody quinten post kevon looney braxton key gui santos kevin knox ii trayce jackson davis pat spencer jonathan kuminga",
          "watch full game nhl playoff highlights second round matchup edmonton oilers vegas golden knights may victor olofsson jack eichel point nights enough leon draisaitl teamed connor mcdavid win overtime extending series lead breaking news scores stats analysis real time highlights subscribe nhl follow nhl social media nhl x nhl facebook nhl instagram",
          "charania breaking gregg popovich longer head coach san antonio spurs transitioning full time team president sources told espn iconic popovich basketball hall famer nba time winningest coach led spurs five championships source",
          "love wallace blank",
          "watch highlights inside nba shaq charles barkley kenny smith ernie johnson subscribe updated latest videos connect nba tnt follow nba tnt twitter like nba tnt facebook follow nba tnt instagram",
          "espn recap boxscore gamecast nba com boxscore shotchart nbsp q q q q final lac lac den den nbsp team fg pt ft reb ast stl blk pf pts lac lac den den nbsp den den min fg pt ft reb ast stl blk pf pts porter jr sf gordon pf n jokic c c braun sg j murray pg r westbrook p watson jordan j strawther j pickett h tyson z nnaji totals dnp vlatko cancar dario saric inactive daron holmes ii nbsp lac lac min fg pt ft reb ast stl blk pf pts k leonard sf jones jr pf zubac c n powell sg j harden pg n batum k dunn b bogdanovic k brown j miller eubanks c christie totals dnp amir coffey patty mills ben simmons inactive nbsp pitp nd pts fb pts big ld ben pts tot tov tov pts lac lac den den nbsp lead changes times tied gametime attendance officials marc davis courtney kirkland ben taylor justin van duyne",
          "breaking phoenix suns fired coach mike budenholzer th place record lone season sources tell espn breaking phoenix suns fired coach mike budenholzer th place record lone season sources tell espn",
          "york knicks boston celtics td garden boston espn tv radio time clock final q q q q ot total nyk bos stats new york knicks player mins pts fgm pm ftm orb drb reb ast stl blk pf anunoby j hart k towns bridges j brunson mcbride robinson c payne p achiuwa boston celtics player mins pts fgm pm ftm orb drb reb ast stl blk pf j brown j tatum k porziņģis white j holiday horford p pritchard l kornet hauser stats team fgm pm ftm ast pf stl blk oreb dreb reb nyk bos use reddit stream com get autorefreshing version page note data accurate nba com please message u nba_gdt_bot suggestions notice bugs bot",
          "controversial game ending pistons well force game close game detroit pistons eliminated nba playoffs new york knicks games fade em",
          "minutes full face make summarised minutes enjoy",
          "denver nuggets defeated oklahoma city thunder aaron gordon knocked game winning pm seconds remaining nikola jokić totals points rebounds lead nuggets aaron gordon points rebounds jamal murray points combined points shai gilgeous alexander tallied points rebounds assists thunder loss nuggets move best seven series game take place wednesday may pm et tnt never miss moment latest news trending stories highlights bring closer favorite players teams download subscribe nba",
          "watch full game nhl playoff highlights second round matchup edmonton oilers vegas golden knights may mark stone started things pair goals st period zach hyman go ahead goal would lead oilers comeback rd period giving game win golden knights st period nd period rd period breaking news scores stats analysis real time highlights subscribe nhl follow nhl social media nhl x nhl facebook nhl instagram",
          "nyk bos box scores nba yahoo nbsp game summary east conf semifinals game series tied location td garden officials jb derosa marc davis ben taylor team q q q q ot total new york knicks boston celtics nbsp team stats team pts fg fg p p ft ft oreb treb ast pf stl blk new york knicks boston celtics nbsp player stats nyk new york knicks min pts fgm pm ftm orb drb reb ast stl blk pf og anunoby sf josh hart pf karl anthony towns c mikal bridges sg jalen brunson pg miles mcbride mitchell robinson cameron payne precious achiuwa pacôme dadiet ariel hukporti tyler kolek landry shamet p j tucker delon wright bos boston celtics min pts fgm pm ftm orb drb reb ast stl blk pf jaylen brown sf jayson tatum pf kristaps porziņģis c derrick white sg jrue holiday pg al horford payton pritchard luke kornet sam hauser torrey craig jd davison neemias queta baylor scheierman xavier tillman jordan walsh",
          "link comment tables r coloradoavalanche comments ke k game_thread_colorado_avalanche_at_dallas_stars_ mqg hg r coloradoavalanche avalanche dallas r dallasstars stars airlines center updates time clock final teams st nd rd total col r coloradoavalanche dal r dallasstars stats team shots hits blocks fow giveaways takeaways power play pim col r coloradoavalanche dal r dallasstars period time team strength description nd col r coloradoavalanche short handed josh manson wrist shot assist logan connor rd col r coloradoavalanche even nathan mackinnon snap shot assist ryan lindgren valeri nichushkin rd dal r dallasstars even mikko rantanen wrist shot assist oskar bäck ilya lyubushkin rd dal r dallasstars power play mikko rantanen wrap around shot assist thomas harley matt duchene rd dal r dallasstars power play wyatt johnston snap shot assist matt duchene mikko rantanen rd dal r dallasstars even mikko rantanen snap shot assist tyler seguin esa lindell period time team type min description st col r coloradoavalanche min default p kelly holding default lyubushkin cs ljubuškin fi ljubushkin sk ljubuškin st dal r dallasstars min default j benn high sticking double minor default v nichushkin cs v ničuškin fi v nitshushkin sk v ničuškin nd col r coloradoavalanche min default sam malinski interference default r hintz rd dal r dallasstars min default duchene tripping default necas cs nečas sk nečas rd col r coloradoavalanche min default c makar tripping default r hintz rd col r coloradoavalanche min default j drury holding default seguin officials referees wes mccauley dan rourke linesmen scott cherrey kiel murchison bot correct sources sources uses linked table notice error due incorrect source want suggest source click issue message subreddit aissue message terotheterror",
          "watch full game nhl highlights matchup edmonton oilers los angeles kings april condensing stanley cup playoff action minute recap st period nd period rd period breaking news scores stats analysis real time highlights subscribe nhl follow nhl social media nhl x nhl facebook nhl instagram",
          "source pistons restricted purchases possible home games matchup games credit card billing address located michigan certain parts ohio indiana ontario canada knicks fans notorious traveling well recently made road arenas sound like madison square garden including last season first round games ers philadelphia",
          "clippers lose denver nuggets game fade em",
          "nyk bos box scores nba yahoo nbsp game summary east conf semifinals game nyk leads location td garden officials james capers mark lindsay kevin scott team q q q q total new york knicks boston celtics nbsp team stats team pts fg fg p p ft ft oreb treb ast pf stl blk new york knicks boston celtics nbsp player stats nyk new york knicks min pts fgm pm ftm orb drb reb ast stl blk pf og anunoby sf josh hart pf karl anthony towns c mikal bridges sg jalen brunson pg mitchell robinson miles mcbride cameron payne precious achiuwa pacôme dadiet ariel hukporti tyler kolek landry shamet p j tucker delon wright bos boston celtics min pts fgm pm ftm orb drb reb ast stl blk pf jaylen brown sf jayson tatum pf al horford c derrick white sg jrue holiday pg payton pritchard luke kornet kristaps porziņģis torrey craig jd davison sam hauser neemias queta baylor scheierman xavier tillman jordan walsh",
          "want contact play tennis brooks said classic brooks right never one scared speak mind even says going go well many around would openly admitted targeting curry injured thumb way brooks injured ankle would attack ankle every single time brooks said whatever saying broadcast keep saying brooks notably hit curry hand multiple occasions series warriors superstar shoots foul according rule book taking full advantage article",
          "espn recap boxscore gamecast nba com boxscore shotchart nbsp q q q q final den den okc okc nbsp team fg pt ft reb ast stl blk pf pts den den okc okc nbsp den den min fg pt ft reb ast stl blk pf pts porter jr sf gordon pf n jokic c c braun sg j murray pg r westbrook p watson j strawther totals dnp vlatko cancar deandre jordan zeke nnaji jalen pickett dario saric hunter tyson inactive daron holmes ii nbsp okc okc min fg pt ft reb ast stl blk pf pts j williams sf c holmgren pf hartenstein c l dort sg gilgeous alexander pg joe caruso c wallace j williams wiggins totals dnp ousmane dieng dillon jones ajay mitchell kenrich williams inactive nikola topic nbsp pitp nd pts fb pts big ld ben pts tot tov tov pts den den okc okc nbsp lead changes times tied gametime attendance officials john goble brent barnaky josh tiven karl lane",
          "watch full game nhl playoff highlights first round matchup los angeles kings edmonton oilers may condensing stanley cup playoff action minute recap st period nd period rd period breaking news scores stats analysis real time highlights subscribe nhl follow nhl social media nhl x nhl facebook nhl instagram",
          "min lal box scores nba yahoo nbsp game summary west first round game min leads location crypto com arena officials james capers ben taylor justin van duyne team q q q q total minnesota timberwolves los angeles lakers nbsp team stats team pts fg fg p p ft ft oreb treb ast pf stl blk minnesota timberwolves los angeles lakers nbsp player stats min minnesota timberwolves min pts fgm pm ftm orb drb reb ast stl blk pf jaden mcdaniels sf julius randle pf rudy gobert c anthony edwards sg mike conley pg donte divincenzo naz reid nickeil alexander walker terrence shannon jr jaylen clark luka garza joe ingles leonard miller josh minott rob dillingham lal los angeles lakers min pts fgm pm ftm orb drb reb ast stl blk pf rui hachimura sf lebron james pf jaxson hayes c austin reaves sg luka dončić pg dorian finney smith gabe vincent jarred vanderbilt jordan goodwin bronny james dalton knecht alex len shake milton markieff morris maxi kleber",
          "gsw hou box scores nba yahoo nbsp game summary west first round game series tied location toyota center officials tony brothers kevin scott james williams ray acosta team q q q q total golden state warriors houston rockets nbsp team stats team pts fg fg p p ft ft oreb treb ast pf stl blk golden state warriors houston rockets nbsp player stats gsw golden state warriors min pts fgm pm ftm orb drb reb ast stl blk pf buddy hield sf jimmy butler iii pf draymond green c brandin podziemski sg stephen curry pg jonathan kuminga moses moody kevon looney quinten post gui santos trayce jackson davis pat spencer braxton key kevin knox ii gary payton ii hou houston rockets min pts fgm pm ftm orb drb reb ast stl blk pf dillon brooks sf amen thompson pf alperen sengun c jalen green sg fred vanvleet pg steven adams jabari smith jr tari eason jeff green aaron holiday jock landale reed sheppard jae sean tate cam whitmore nate williams",
          null
         ],
         "marker": {
          "opacity": 0.5,
          "size": 5
         },
         "mode": "markers+text",
         "name": "6_pf_pts_ast",
         "text": [
          "",
          "",
          "",
          "",
          "",
          "",
          "",
          "",
          "",
          "",
          "",
          "",
          "",
          "",
          "",
          "",
          "",
          "",
          "",
          "",
          "",
          "",
          "",
          "",
          "",
          "",
          "",
          "",
          "",
          "",
          "",
          "",
          "",
          "",
          "6_pf_pts_ast"
         ],
         "textfont": {
          "size": 12
         },
         "type": "scattergl",
         "x": {
          "bdata": "nZMMQdLiC0GAkNdAq88LQX5ZDEFE5AlBDuQLQXnhC0E6kwtBCNMKQUSnC0FSEgxB47kHQdqlC0HemAhBLMQKQTx+C0FKaAtB2+8LQdiACUH79AZBdBkKQSilB0GzCwxB/ZkKQW6YB0FsMgxBq9IJQQw4DEHiJwxBjiILQdylB0HVNwxBV/MLQZbeCUE=",
          "dtype": "f4"
         },
         "y": {
          "bdata": "+LGoQMXeqUAHrAJBUAaqQEIFqUANLKtAub2pQNLxqUC6TatApNSrQEh2qkD/G6pAtha4QGz0qUDjCK9AJRysQJW5qkD486lA3LipQOQmrkC44LpAWu2sQJVyuECln6lA1u2sQH+iuEBBaqlAr8utQDg1qUA12KlAl2KrQON3uECwP6lAptKpQKyGr0A=",
          "dtype": "f4"
         }
        },
        {
         "hoverinfo": "text",
         "hovertext": [
          "انسان عينها عليا",
          "الرد على",
          "𝓐 𝓡 𝓐",
          "σε αυτό που ρωτάτε η απάντηση είναι ναι καλό μήνα παιδιά νέα αρχή νέα ζωή για όλους μας μόνο χαμογελα",
          "오랜만에 돌아온",
          "يراودني خيالك",
          "رديني لعيونك",
          "這耳朵會不會背了",
          "feel sorry afghan women hope one day get rights",
          "την πέτυχα και δεν ακούω κουβέντα",
          "انا جامي نسمح ف عشقي",
          "نقولها منتالي",
          "academy σας περιμένουμε και στα υπόλοιπα καταστήματα μας που βρίσκονται στο παγκράτι φιλολάου ζωγράφου λεωφόρο παπάγου ιλίσια γρηγορίου αυξεντίου και αμπελόκηπους λαρίσης",
          "အလ တ song ပ င ခ င ဒ ပ င",
          "مریم نواز سامنے آ جائے تو ہم چینل بدل دیتے ہیں ہم اسے دیکھنا ہی نہیں چاہتے",
          "اشترك في قناة حسين الجسمي الرسمية حسين الجسمي فستانك الأبيض استمعوا على جميع المنصات كلمات أمير طعيمه الحان هشام جمال توزيع مادي ميكساچ بيشوي مجدي الكلمات خطوه ورا خطوه بتمشيهـا دي اللحظه اللي انا مستنيها والارض اللي بتمشي فوقيها مفيش قدك يا حبيبتي عليها خطوة ورا خطوة بقربلك جايلك علشان افرح قلبك وعمري اللي فات قبل م اقابلك مش بحسب ايامه من قبلك فستانك الابيض اللي هياخد منك حتــــه وعشان اليوم ده رسمت عملت انا مليون خطه والناس بتغني و الدنيا بتعزف زفة والمزيكا تعلى ومعاها بتعلى السقفه والناس بتغني و الدنيا بتعزف زفة والمزيكا تعلى ومعاها بتعلى السقفه حبيبتي و عمري و اميرتي يا بكرة اللي ماددلي ايديه يا قصري و بيتي و جزيرتي وحلم قدرت اوصل ليه و قالوا الشعر عن ليلى و كتبوا في سحرها دواوين و انا و ليلى بقينا لبعض في دنيتنا سوا عايشين فستانك الابيض اللي هياخد منك حتــــه وعشان اليوم ده رسمت عملت انا مليون خطه والناس بتغني و الدنيا بتعزف زفة والمزيكا تعلى ومعاها بتعلى السقفه والناس بتغني و الدنيا بتعزف زفة والمزيكا تعلى ومعاها بتعلى السقفه خطوه ورا خطوه بنمشيها دي اللحظه اللي انا مستنيها hussain al jassmi rights reserved ـــــــــــــ official website official itunes official itunes connect official twitter official instagram official facebook official youtube official soundcloud",
          "راحه نفسيه",
          "ဒ ဝ န",
          "ώρες αργότερα λολα",
          "爱情最后的归宿",
          "ويبقى السؤال",
          "台湾加油 罢免国民党",
          "كوردستان عفرين",
          "途中カラス来てびっくりした笑 左 これめっちゃ頭痛くなる",
          "بسبب التزاحم الشديد في الطوابير أطفال يبكون ويصرخون في غزة بينما أجسادهم الصغيرة تكافح للحصول على بعض الطعام وسط جوع يعيشه سكان القطاع",
          "είναι μια πραγματική όαση για τους λάτρεις του καλού brunch με ένα μενού που ισορροπεί τέλεια ανάμεσα στη γεύση και τη διατροφική αξία προσφέρει μια εξαιρετική εμπειρία για κάθε γούστο αν ψάχνετε έναν μοναδικό προορισμό λοιπόν για brunch στην καρδιά της αθήνας το bruncho στο μετς είναι αναμφίβολα η καλύτερη επιλογή αναπαύσεως μετς",
          "かかったら",
          "بحب الحب الي جمعنا",
          "γιώργος σφαίρες καβάλα η πιο τρελή εισαγωγή που θα δεις",
          "أنا شوري على الزلم يصبح قرار",
          "حل مشكلة المتابعين قدر تعبي بلايك",
          "eviticus niv foreigner resides among land mistreat foreigner residing among must treated native born love foreigners egypt mom cool dad melting edit edgy sorry",
          "اوضاع تحير فينا",
          null
         ],
         "marker": {
          "opacity": 0.5,
          "size": 5
         },
         "mode": "markers+text",
         "name": "7_اللي_انا_official",
         "text": [
          "",
          "",
          "",
          "",
          "",
          "",
          "",
          "",
          "",
          "",
          "",
          "",
          "",
          "",
          "",
          "",
          "",
          "",
          "",
          "",
          "",
          "",
          "",
          "",
          "",
          "",
          "",
          "",
          "",
          "",
          "",
          "",
          "",
          "7_اللي_انا_official"
         ],
         "textfont": {
          "size": 12
         },
         "type": "scattergl",
         "x": {
          "bdata": "BbuOP0+Mjj/IMQ09ixYEPxEGlT8J1ow/YQOOP+BqQT2KV6k/L+UBP1fAjT+vOoo/pL8BPxEQEj2Z/JA/kF6XP8C1jT/X6wk9q+YAP6NpEz1mV4o/ETkqPTyMjj+mXRo9YgSXP1xyAz8qQSs9JC6NP58zAz+VKpE/sgaPP+6joT+T/44/PwhCPw==",
          "dtype": "f4"
         },
         "y": {
          "bdata": "SLPvQHGf70DPpfZA2/EEQW448UD1b/BAUezvQPyT9kBh1+5Aj9oEQRZc70BNgPBAhdkEQZiz9kBXWe9AySPvQELH70CEovZASsoEQTuv9kCMafBAMuH2QHll70Dj3PZA2hTvQHHhBEGt+fZABOLvQI7hBEHNDu9AR4HvQPEr80BGnu9A4UD2QA==",
          "dtype": "f4"
         }
        },
        {
         "hoverinfo": "text",
         "hovertext": [
          "santos x shirin david wer liebt dich jetzt hier streamen nico santos folgen instagram facebook tiktok snapchat shirin david folgen instagram youtube tiktok director x dop x editor x cc x drone shaho casado nd cam anton rd cam ozzy öksüz steadycam operator assistant habib focus puller lars leier live bilder andré stern live video director kamera ade moore harvey styles stu da cameraman hurst stuart thatcher nicholas whitehead live recording arris tim brennan shading fx support julian trunke mostmagic",
          "drip das neue icon getränk im handel 𝗝𝗘𝗧𝗭𝗧 𝗣𝗥𝗘𝗦𝗔𝗩𝗘𝗡 album scusa albozz dorian fsm pano ozan ssd cali dinaro ghetto arlinda kavo company mowgli minimum zehn hassuna salah si kokaina biggie oh mufasa 𝗜𝗖𝗢𝗡 𝗔𝗡𝗠𝗘𝗟𝗗𝗨𝗡𝗚 𝗜𝗖𝗢𝗡 𝗕𝗼𝘅 boxinhalt ltd backstage gewinnspiel vip pass für das live event boxinhalt exklusives icon trikot boxinhalt icon sampler weiteren exklusiven icon content findet ihr auf dem kanal von bzet 𝗞𝗔𝗣𝗜𝗧𝗘𝗟 𝗔𝗨𝗦𝗪𝗔𝗛𝗟 𝗗𝗜𝗘 𝗖𝗥𝗘𝗪 𝗩𝗢𝗡 𝗜𝗖𝗢𝗡 executive producer collin creative assistance emre bzet künstlermanagement vertrieb outfit design dreamhall design visual director bleron veliqi vb agency video director visual films reality director chaka rec post production blackcut audio director xandro mix mastering visual effects dj service heinsberg head security msp security organisationsleitung marco seegers organisation planung shanel chien produktionsassistent sarah jane chien editing team prathee pravi dima markus jano powered igroove jury xandro bzet emre immobillienberaterin nejla bicer mexreal fpv gimbal drone lukas gorgon copterflix beat producers zinatra maggaz spirit yung ares paior el rey cc danil alkan lnf skywalg sonnek tyme alex dehn mix mastering xandro camera team show benji berkan andy chris daniel paul paravis manuel camera team reality chaka zakriti moses sesa giovanni loti liam viejo ismael zakriti msp security marco security mcdoom tim data management alina audio praviz baloochi rafael rothemund audio live recording beatzeps pyrotechnics yani hair stylist berxicutzz set runners kathrin schendrik esma caliskan mahra coskun darja zargozi maxima emily gerdt miriam roman gina maria kaminski",
          "anxiety doechii directed james mackel adele drive production company adele drive executive producers anthony top dawg tiffith anthony moosa tiffith ep langston griffith siebens production company avenue produced jolene mendes sophia sabella pablo feldman director photography nico aguilar production designer hensel martinez choreographer robbie blue stunt coordinator robert brown creative directors james mackel connor tingley sammy mcentire langston griffith siebens editor sammy mcentire vfx pendulum colorist bryan smaller featuring courtney hargrett sydney hargrett production manager rachel nagao production coordinator megan short location manager ron dabach production accountant jessica feder first assistant director jonas morales second assistant director damon limbrick second second assistant director jane kim assistant choreographer marie spieldenner first assistant camera connor lambert second assistant camera jordan oglesby loader mckay todd steadicam operator chris loh crane operator clay platner crane tech ned hurlbut matrix techs simon shin doug mccormick vtr bob mills chief lighting technician tony varoula assistant chief lighting technician davidson electrics fred palluzi nick arnold hyphenate driver electric anthony olmos key grip john day best boy grip stu brumbaugh grips sara elia adam baker hermexial drexilus dolly grip kenneth colbentz hyphenate driver grip peter yauri transportation gang boss rick antonette art directors helen morales adam miko justin brown set decorator natalia brito lead person leo arroyo hyphenates talyn latour maximo huete set dresser nick de la rosa set dresser drew wall scenics danielle manning anya dikareva krystall schott hailee field shoppers heidy orellana simone arielle moscovitch kaylinn duffy alina çelik graphic designer mackenzie murray remy levy art assistant dylan dobler special effects pyro john eggett doechii team assistant doechii caroline fromm stylist sam woolf styling assistant juliette hill makeup artist chelsea uchenna hair evalyn denis bts stills xavier scott marshall bts video zenzele moore ysaguirre capitol music group capitol creative chase salomon capitol digital danielle nicholson dancers stunts background wardrobe costume designer lisa madonna assistant costume designers dani dolinger justin rose courtney sydney wardrobe costume designer rasheeda raines dancers background hair makeup key makeup artist key body painter nadia reese stone additional makeup artists body painters laurel charleston megan dupuy morrisa pena additional makeup artist elise gehrke additional hair stylist gabriela aceves dancer agencies bloc uta msa ctg go principal dancers peyton matthias andrea bess ardyn flynt keera kittles randi moraga kaylin motton hezekiah anthony lucas debiasi mariyah hawkins gavin morales selena hamilton janae holster anthony ciaccio aysia ianiero zachary venegas rex kline jakevis thomason gabi barra dyllan blackburn jordyn green kenneth espiritu jalen rashad anthony curley dai boyd hannah winship hamly tavarez angel mammolitti robbie olmos jaylen pea augustine perez ensemble dancers shanie blais shelby davis nevaeh eloi kailani rae forest lee davon rashawn denna thompson chaz buzan ava berstine mitchell tina jarmusz sofie loeken ally waller alyssa sniff matthew kubitz austin lee jaelyn heath gregg sainvilus kyndall ash liv battista dominique laraine preslee tucker kyla chaney ania crist athena cruz jordan gaskin alexandria schacter daniel asamoah zion harris seth kai grayson mcguire phi voba jj allen caryn mueller carlin dixon rauf yasit stunt performers tyler elliott joe santos brian lk lavecchia background marquise smith martyrs smith sara salazar andrea salazar katie molloy emma molloy olga fridman yulia maleko medics heidi rodriguez krisztina barabas production assistants john bonin donovan watson patrick wirth omar gutierrez luther sartor joseph steven huegel cameron robson jonathan davis jhovanny esparza daved olivencia danny mullen anthony vega julio almaguer matt dulberg jeffrey petro dylan myers julie nyznik julian domingues bella soto matmen alfredo papadaki post post producer sammy mcentire vfx supervisor ryan zum mallen vfx producer damian giampietro vfx creative director sammy mcentire compositors victor velasco diana iatsenko qc dena zum mallen set vfx supervisor ben kadie additional vfx cleanup paume post production sound design adam carl color house company color producer mario castro special thanks sony kodak panavision amanda sasaki calvert studios image locations",
          "go enter wendover checkout get free shave cream purchase youtube instagram twitter sponsorship enquiries wendover emails sam reddit writing tristan purdy christine benedetti sam denby editing alexander williard animation sara stoltman derek brown kate ermolenko sound manni simon dony bullen thumbnail simon buckmaster",
          "met kushner airport today playing piano waiting flight suddenly girl asked play daylight david kushner never expected david would join beautiful coincidence",
          "last case last rites last rites theaters september new line cinema comes ninth entry billion theatrical conjuring universe conjuring last rites directed franchise veteran michael chaves produced franchise architects james wan peter safran conjuring last rites delivers another thrilling chapter iconic conjuring cinematic universe based real events vera farmiga patrick wilson reunite one last case renowned real life paranormal investigators ed lorraine warren powerful spine chilling addition global box office breaking franchise farmiga wilson star alongside mia tomlinson ben hardy portray ed lorraine daughter judy warren boyfriend tony spera well steve coulter returning father gordon rebecca calder elliot cowan kíla lord cassidy beau gadsdon john brotherton shannon kook chaves directs screenplay ian goldberg richard naing david leslie johnson mcgoldrick story david leslie johnson mcgoldrick james wan based characters created chad hayes carey w hayes executive producers michael clear judson scott natalia safran john rickard hans ritter david leslie johnson mcgoldrick chaves joined behind camera creative team including director photography eli born production designer john frankish editors elliot greenberg gregory plotkin visual effects supervisor scott edelstein visual effects producer eric bruneau costume designer graham churchyard casting rose wicksteed sophie kingston smith music supervisor ian broucek music composer benjamin wallfisch new line cinema presents safran company atomic monster production conjuring last rites film released worldwide warner bros pictures theaters imax north america september internationally beginning september",
          "official video lose miley cyrus listen download lose something beautiful album may pre order text lyrics stay less go toe toe hanging wire stumbled road say leaving playing liar cause looking like movie star worn coat yeah throw away mind happens time stay ecstasy far away pray coming round say wish true knew someday one would choose thought lose tv know tears streaming like favorite show tonight memories fade like denim jeans try chase running mind cause god looking like looking like movie star worn coat throw away mind happens time oh stay ecstasy far away pray coming round say wish true knew someday one would choose thought lose na na na na na na na na na na yeah looking like movie star worn coat throw away pride happens time god happens time oh stay ecstasy far away pray coming round baby say wish true knew someday one would choose knew someday thought lose credits columbia records live nation present miley cyrus xyz films production miley cyrus something beautiful directed miley cyrus jacob bixenman brendan walter produced miley cyrus panos cosmatos nick spicer nate bolotin aram tertzakian executive producers adam folk ron perry tom mackay krista wegener michael rapino brad wavra ryan kroft associate producer marcela victoria director photography benoît debie production designer david meyer choreography stephen galloway costume design bradley kenneth edited brendan walter music produced miley cyrus shawn everett michael pollack jonathan rado maxx morando engineered shawn everett ian gold pièce eatah village assistant engineer jc leresche mixed mastered shawn everett mix assistant ian gold connect miley cyrus site twitter instagram tiktok facebook discord",
          "luciano unlock hier streamen luciano tour tickets luciano instagram luciano tiktok credits unlock produced madein k sample hawky pirate text luciano bozza madein k hawky pirate directed jakub rzucidlo vision direction luciano produced helena michl mgmt javier mgmt nader projectmanagement miriam art direction fotograf niklas kamp videograf jan kilian fotografin yasmin nickel production melda yerlikaya production joe onde dop felix lang ac max rabus art department maximilian hirsch sfx patrick richter sfx rene wustrack styling suzi haile edit grading jakub rzucidlo vfx ole richter special thanks heike uber arena energy trust liane krematorium allowing us starveredelung car foils wonderful people berlin",
          "question greatest villain performance time comes people tend list actors rarely see female villain performances mentioned first one comes mind allison williams get played sadistic manipulative villain absolute",
          "michael patrick kelly one official video listen one pre order pre save traces music lyrics michael patrick kelly andrew jackson duck blackwell producer daniel flamm johannes herbst michael ilbert michael patrick kelly recorded air studios hoxa london uk hansa mixing room berlin germany mastering randy merrill sterling sound new york p columbia division sony music entertainment germany gmbh publisher sony music publishing germany gmbh songs pulse prs ascap video credits directed marvin ströter dop edit drone additional production marvin ströter art direction michael patrick kelly production harald pauly selina schmucker hair make angelique kamuf set assistance bts footage celina rabanus still photography assistance shanti tan actress leia holtwick special thanks kerstin ströter felix weidmann eric ees sell hein van zijl horst wegener production company wevame international slu cooperation wupperwerft gmbh subscribe channel get b want content blurry eyes throwback beautiful madness roundabouts et voilà visit michael patrick kelly",
          "fun stay blast conga line dancing season fraggle rock back rock look puppeteers go somewhere hidden second row big gaggle fraggles good news see seasons emmy award winning series jim henson company tv right",
          "five new comics battling greg davies gold head fatiha el ghorri jason mantzoukas mathew baynton rosie ramsey stevie martin watch full episodes uk buy taskmaster merch broadcast award winning bafta emmy award nominated entertainment show taskmaster tyrant greg davies man cuckoo help loyal assistant alex horne horne section show creator sets test wiles wit wisdom five hyper competitive comedians comedians risked life limb dignity hope making taskmaster proud far include frank skinner frank skinner show mel giedroyc great british bake romesh ranganathan asian provocateur hugh dennis outnumbered sally phillips bridget jones diary rose matafeo edinburgh comedy award winner russell howard russell howard hour unaware awaits wax sealed envelope one competitor become victorious owner royal task ness golden head crowned next taskmaster champion",
          "year met gala theme inspired met exhibit superfine tailoring black style dress code tailored take look best looks fashion biggest night serena williams sabrina carpenter shaboozey russell wilson ciara pharrell williams helen lasichanh nick jonas priyanka chopra jonas megan thee stallion miley cyrus lorde lizzo lupita nyong sydney sweeney shakira simone biles stevie wonder doechii demi moore coco jones bebe rexha angel reese angela bassett alicia keys swizz beatz ap rocky ava duvernay bry burrows jalen hurts gabrielle union wade dwyane wade gigi hadid hunter schafer jeremy pope joe burrow bad bunny zoe saldana zendaya usher jennifer goicoechea raymond tessa thompson suki waterhouse laurie cumbo bobby digi olisa pusha sarah snook sha carri richardson teyana taylor whoopi goldberg lewis hamilton alessandro michele lana del rey anna wintour diana ross gayle king heidi klum jeff goldblum keke palmer laura harrier nicole kidman brandon thomas lee pamela anderson savannah james patrick schwarzenegger adrien brody ayo edebiri cardi b fka twigs halle bailey kylie jenner nicki minaj regina king tyla chappell roan cynthia erivo colin kaepernick nessa diab colman domingo dua lipa halle berry kim kardashian stella mccartney mary j blige andré rihanna cbs news premier anchored streaming news service cbs news stations available free everyone access internet destination breaking news live events original reporting storytelling programs cbs news stations top anchors correspondents working locally nationally around globe available platforms across mobile desktop connected tvs free well cbsnews com paramount live countries subscribe cbs news youtube channel watch cbs news download cbs news app follow cbs news instagram like cbs news facebook follow cbs news x subscribe newsletters try paramount free video licensing inquiries contact licensing",
          "raid brings back ajay devgn fearless irs officer amay patnaik taking toughest mission yet ajay delivers strong intense performance anchors film riteish deshmukh impresses fresh avatar cold calculating villain dada manohar bhai clash film biggest highlight director raj kumar gupta crafts gripping political thriller sharp visuals tense atmosphere timely message power corruption though dramatic first keeps hooked strong writing impactful performances powerful sequel driven solid storytelling stellar lead performances screen play full impact story line character like ajay devgan ritesh deshmukh plays best acting skill saurabh sukla presence sceen like ice cake must watch movie paisa wasool",
          "actors face famous roles fashion runway al pacino tom hanks anthony hopkins sylvester stallone arnold schwarzenegger antonio banderas chuck norris michael keaton keanu reeves bruce willis clint eastwood",
          "azizam azizam subscribe ed channel follow ed instagram tiktok facebook twitter discord official website credits written directed saman kesh commissioner dan curwin producer nicole powell production company branded executive producers otis bell clancie brennan director photography kaname onoyama addit l cinematography la omer ganai choreographer charlie mayhew st ad james amos pm guy fuhrer uk bria wentzel la production designer ricky eyres ed sheeran styling amp grooming liberty shaw ed sheeran styling hilary owen food stylists hami sharafi tanya sadourian costume designer natalie humphries additional styling la makeup hair lead ameneh mahloudji casting editor emma blackman cartel vfx territory studio sound aaron taffel colourist luke morrison etc starring googoosh andy omid djalili shervin alenabi eyelar ilya salmanzadeh azizam lyrics azizam meet floor tonight show move like water dancing lights mine mine azizam wan na nowhere wan na one space wan na tangled wrapped cloud wan na close face well tomorrow wait losing time place till sun awake like magnet care say way love game come play azizam meet floor tonight show move like water dancing lights mine mine azizam azizam azizam wan na get lost ocean drown wan na careless free wan na live moment found wan na see well tomorrow wait losing time place till sun awake like magnet care say way love game come play azizam meet floor tonight show move like water dancing lights mine mine azizam azizam meet floor tonight show move like water dancing lights mine mine azizam azizam azizam azizam",
          "katseye 캣츠아이 gnarly official mv stream gnarly follow katseye youtube instagram tiktok x weverse official website newsletter credits director cody critcheloe creative director humberto leon visual director joão moraes executive creator sungdeuk son head creative production jay ihn visual creative andrew ibea tiffany suh sieun jung tyler murrah performance direction grant gilmore sohey sugihara contributing choreography sienna lalau director photography sunghun hong production designer yesol kim costumer heejun jang hair gabe sin suhyeon jeon semin park makeup jeonghwan park nail seunghwi yu edited jinhyuck jang dakota giglio church edit cgi kwangwon lee sangwon park vinyl creative cgi yeowon jeong myeongjae song ngoc pham vfx kent hill color jiyun yeom lucid color production ambience executive producer downy jung producers minye cho sangah jeon presented hybe x geffen",
          "santos x shirin david wer liebt dich jetzt hier streamen nico santos folgen instagram facebook tiktok snapchat shirin david folgen instagram youtube tiktok director x dop x editor x cc x drone shaho casado nd cam anton rd cam ozzy assistant habib live bilder andré stern live video director kamera ade moore harvey styles stu da cameraman hurst stuart thatcher nicholas whitehead live recording arris tim brennan shading fx support julian trunke mostmagic",
          "actors famous roles fashion runway part harrison ford indiana jones nicolas cage ghost rider vin diesel groot johnny depp jack sparrow mel gibson mad max tom hanks forrest gump sylvester stallone dredd smith agent j mib ewan mcgregor obi wan brad pitt fight club tyler durden christopher reeve superman peter weller robocop",
          "txt 투모로우바이투게더 love language official mv credits production studio saccharin director kwon yongsoo st ad wonsik nd ad kwon jungmin pd song junghwan editor gwon heegyeong assistant editor lee seunghui day production service company wassub production executive producer lee sub tommy producer gwak somang som director photography ihm chihoon flamingo st kim kwangmo nd ho jeongpil gaffer kwon hoonho hh jimmy jib operator kim youngjung st choi hojun nd bae euntaek spain production service twenty four seven executive producer robert lopez producer alejandro lopez prod manager dani tarifa prod coordinator cristina barrios production assistant teo rosales unit manager enrico trevisan location manager kiko gonzalez location assistant javi guti driver jaume bosch milan mitrovic ivan molina jupp escola guillamue serret adrian garcia alba delgada ganhi haddad virginia lancaster dani villa ramon cuesta day_ director photography ihm chihoon flamingo st kim kwangmo nd ho jeongpil data manager jung jaehoon rd assistant camera choi yunjong gaffer kwon hoonho hh st kim daejin nd kim taeyoung nd kang byeingu kim minseo rd han jaeyoung nam teahyun shin dongyoon art director kim minji jang sejin muse asst art director jeon yujin assistant shim hyunjoon jeong gyuwon lee hoonjae lee jeongjun post production clean studio saccharin di lucid colour colorist kwak haewon crew park sujeong kim daseul jo dongwo park hyewon kim seunghui producer kim onew di manager seo yujin location zone system connect tomorrow x together bighit music rights reserved selectively video unauthorized reproduction violation applicable laws manufactured bighit music seoul korea",
          "abor tynna baller official music video pre order bittersüß baller deluxe bundle incl limited t shirt here buy tickets for bittersüß tour here follow abor tynna instagram tiktok youtube spotify video production company bonaparte director anastasja black dop rowan biddiscombe production ep producer alexander stigler prod coordinator aratrika prod assistant efrén cascante jara st ad julia dymskaia nd ad david garbi runner alexandra koch crew stylist esteban pomar styling asst cleo heinrich designers wesley manners kabuk works studio jens schabbach krisztian berlin timo kurz hektor lilo heipke maria chany sunday morning hmu artist julia hahn hmu artist illiyan goghoff hmu artist theresa bloser art director fausto torelli prop assistant aaron zeederberg st ac luke de borde gaffer lion futh lighting op jörn beinert rigger simon dresselt lighting rental tranzept dit philipp weinrich vtr andreas klatt on set editor julia love bts vasilisa neznamova location catering mahalla post production post production producer philipp weinrich editor julia love vfx studio spirit view colorist imri agmon titles efrén cascante jara sound design and mix philip calisto cast diana glebo aurora april inigo aleks val nastya kris edwin bela lea jenny anya karyna nico the stilt walker via entourage berlin django the rottweiler via filmtier schulz styling by esteban pomar tynna is wearing wesley manners abor is wearing jens schabbach jewelry by studio special thanks to wesley manners kabuk works studio jens schabbach krisztian berlin timo kurz hektor lilo heipke maria chany sunday morning al tglas rental rgb rental arri rental raketa gmbh entourage berlin mahalla berlin music music lyrics tünde bornemisza attila bornemisza alexander hauer produced by alexander hauer mixed by alexander hauer mastered by ludwig maier p jive germany a division of sony music entertainment germany gmbh repertoire owner sme germany gmbh lyrics ballalalalalalaler löcher nacht sterne fallalalalaln knallen dach tut bisschen weh wiederseh komm nie egal sagst ballalalalalalaler löcher nacht sterne fallalalalaln knallen dach tut bisschen weh wiederseh komm nie egal sagst kreidesilhouetten trottoir tatort csi hast baby tut leid gesagt ersten mal hätt wissen sollen ende setzt punkt satz hättest nie gekannt wechsle parfums kauf neues gewand krieg drang weltuntergang hah glaub wars i shoot for the stars ballalalalalalaler löcher nacht sterne fallalalalaln knallen dach tut bisschen weh wiederseh komm nie egal sagst ballalalalalalaler löcher nacht sterne fallalalalaln knallen dach tut bisschen weh wiederseh komm nie egal sagst seh sternensplitter haut glitzer gelernt killt macht schicker würdest immer ne kugel fangen waffe hand setz punkt satz hätt nie gekannt wechsle parfums kauf neues gewand krieg drang weltuntergang hah glaub wars i shoot for the stars ballalalalalalaler löcher nacht sterne fallalalalaln knallen dach tut bisschen weh wiederseh komm nie egal sagst ballalalalalalaler löcher nacht sterne fallalalalaln knallen dach tut bisschen weh wiederseh komm nie egal sagst",
          "befreie papierkram lade clark app runter sichere code simpli clark gutscheine wert euro ersten drei hochgeladenen versicherungen werbung unglaubliche jagd architekten holocaust geht unfassbar episode rattenlinie checkt unfassbar ab spotify apple podcasts amazon music rss feed danke patrons simplicissimus simpli instagram simplicissimusyt simpli tiktok simplicissimus quellen musik artlist gilad benamram fallen ck martin world burn jimmy svensson the darkest days out of flux surrendered yotam agam qing long julian cassia when the joke gets heavy delnova discovery nick kelly dark mysteries lens distortion all the more notorious desert vehicle preparations monogram no percussion beneath the doubt from the shadows research inversion no percussion max q no sfx high percussion weight of greatness no melody overcoming no melody chords underground mythology underscore epidemic sounds show them who you are ruiqi zhao coincidences magnus ludvigsson guustavv call me back _____ schön verständlich kritisch fundiert essays fragen nie oft gestellt hast",
          "staying spain couple days reference us day one first things noticed sheer amount attractive people men women old young bald hair staggering amount people come across stunning model esque obviously us countless gorgeous people however feels like rare sighting compared conventionally attractive seems norm making something culture makes people hot lmao",
          "stacey ganiyan ginagawa niya kay ashtine ashley colet oo years old stacey sinasabunutan jhoanna ahhh years old group women promote women empowerment female strength lots young girls fans held event baby blooms fairly recently really asking context also nothing video exactly looks like three hanging two boys jokes made video add apparently colet took video posted dump account double yikes",
          "augen träumen herzen sehen deluxe box vorbestellen geboren leben stream download kontra k kontra k app _______ music produced by beatzarre djorkaeff mix by beatzarre master by yunus kingsize cimen lyrics by maximilian diehn vincent stein konstantin scherer thilo brandt graf music by maximilian diehn vincent stein konstantin scherer thilo brandt graf henning verlage _______ video a letzte wölfe production directed by kontra k dop till beckert focus puller arseny preobrazhensky producer maximilian diehn andy hoffmann post production letzte wölfe gmbh edit fatmir dolci color grading fatmir dolci lisa schwebel kostümdesign marteinn óli and stefanía katrín landowners at stðlagil canyon stuðlagil bríet irma make up halldór olgeirsson farmer at bjarnastadir advice on getting to dettifoss gunnar óli fixer and contact manager special thanks to dronefly and kukl maggi ómars sound specialist _______ live sommer tickets erhältlich mönchengladbach sparkassenpark emmendingen schlossplatz iem music braunschweig volksbank brawo bühne bochum zeltfestival ruhr _______ augen träumen herzen sehen tour tickets erhältlich dortmund westfalenhalle zusatzshow hamburg barclays arena hamburg barclays arena hannover zag arena wien stadthalle münchen olympiahalle frankfurt main festhalle frankfurt main festhalle berlin uber arena zusatzshow berlin uber arena berlin uber arena berlin uber arena sold out köln lanxess arena sold out köln lanxess arena stuttgart hanns martin schleyer halle mannheim sap arena zusatzshow zürich hallenstadion _______ youtube instagram tiktok facebook spotify amazon music apple music homepage _______ loyal athletics shop youtube",
          "pilots performances stage club private parties write direct",
          "jetzt yakary taboo streamen jetzt tickets für die bubu tour sichern musik prozente mix prozente master lex barkey instagram tiktok production company iaw media director kevin jerome concept kevin stemberger evelyna hein executive producer philipp bierschenk production assistent emily endler dop kevin jerome gimbal operator maximilian milosevic crane operator til gundlach gaffer chris bodenstein make set design evelyna hein edit color kevin jerome vfx ole richter andy sanda drive luis villanueva drive thomas gellert",
          "we re actors not dancers",
          "spieglein spieglein jetzt hören spieglein spieglein hier streamen artist lune instagram tiktok spotify artist milano instagram tiktok spotify booking kontakt management info production conte fae august instagram instagram mix alex isaak instagram master lex barkey instagram ruh creative movie executive producer saskia eigner ruh creative director hüseyin bertinaxe yildirim producer ece ceyhun line producer fetih ceyhun production assistant furkan furuncu production assistant elenor ruckteschler ruh creative director photography marco bagnoli focus puller anıl aydın camera assistant özgür uçar dit mami gaffer mustafa aktaş best boy önder kadir lengir assistant okan çetinkaya assistant oguzhan civak assistant orhan demir set manager bahadır ekim set assistant berat alkan panther dolly operator ufuk ayvalı panther assistant burhan dalşık steadicam operator oktay okan çerçi steadicam assistant anıl erdoğan set photographer maruan el omami art director melis piyale art chief assistant batuhan akkaş art assistant öykü teplov art assistant murat bastatli ruh creative nd unit styling asuman zgi make artist gözde doğan make assistant damlanur vildan hıdır casting oğuz çetinkaya catering hakan catering edit hüseyin bertinaxe yildirim color grading christian mohr ruh creative vfx lotti roth ruh creative hair loni instagram styling dania instagram",
          "kendall jenner hailey bieber talk emma chamberlain met gala matching looks collections birkin bags leather jackets still subscribed vogue youtube get best vogue delivered right inbox want hear editors subscribe magazine download vogue app check run vogue podcast vogue youtube channels british vogue vogue taiwan vogue france vogue india vogue japan vogue méxico latinoamérica vogue germany vogue italia vogue spain vogue vogue authority fashion news culture trends beauty coverage videos celebrity style fashion week updates",
          "get groove laal pari song india biggest franchise housefull starring akshay kumar abhishek bachchan riteish deshmukh jacqueline fernandez sonam bajwa nargis fakhri sanjay dutt jackie shroff nana patekar chitrangada singh fardeen khan chunky pandey johnny lever shreyas talpade dino morea ranjeet soundarya sharma nikitin dheer akashdeep sabir produced sajid nadiadwala directed tarun mansukhani story screenplay sajid nadiadwala housefull releases cinemas th june full song available jiosaavn spotify hungama apple music gaana amazon prime music youtube music credits singers yo yo honey singh simar kaur music yo yo honey singh lyrics yo yo honey singh alfaaz mix master vinod verma promo edit yash parikh choreography remo dsouza song audio conceived dinesh auluck music label series download desibeats download tapbeats ___________________________________ enjoy stay connected us subscribe series like us facebook follow us x follow us instagram follow us snapchat",
          null
         ],
         "marker": {
          "opacity": 0.5,
          "size": 5
         },
         "mode": "markers+text",
         "name": "8_production_assistant_director",
         "text": [
          "",
          "",
          "",
          "",
          "",
          "",
          "",
          "",
          "",
          "",
          "",
          "",
          "",
          "",
          "",
          "",
          "",
          "",
          "",
          "",
          "",
          "",
          "",
          "",
          "",
          "",
          "",
          "",
          "",
          "",
          "",
          "8_production_assistant_director"
         ],
         "textfont": {
          "size": 12
         },
         "type": "scattergl",
         "x": {
          "bdata": "aa+6QNy8uEAGRMBAXqvAQF2hwEDbkcFANyTDQLZmt0B8qrpA3iLCQIsNxUCjJcNA6Q3JQBQKvkAcEblAyUK+QCg8wEB1TbtAsc66QB+zuUD8e7pA9my9QFnvyEBA6cdAV0G2QAaGwEBMaL5A+FK5QDDauUCimshAboa7QK3EvkA=",
          "dtype": "f4"
         },
         "y": {
          "bdata": "b9gyQZY/L0HsvSxBdiA0QdY+MUGvQilBKwYsQSpkL0Gj3yJB/HEuQdUFL0Ghjy5BWa4nQf1TKEHr0SFBZ3osQULILUEJbjRB5ysjQdn6LkE2yS5BdIkuQTI4JkFt0ypBZHUvQYtaMUEwPzFBwDQiQSW3LkFMvCdBxvMsQSpnLEE=",
          "dtype": "f4"
         }
        },
        {
         "hoverinfo": "text",
         "hovertext": [
          "spray painting bone",
          "mask slipped",
          "shopsphere new website created one day old already orders sure good surprised product called smartsip digital smart water bottle thermos made high quality stainless steel interested would greatly appreciated could check link",
          "full vid yt post selfie forget tag hair creds",
          "cut apple watch iphone airpods sleeping make new handcrafted leather band cases",
          "ad paid partnership ny love new colossal bubble mascara maybelline",
          "attempt clean girl makeup ib hottest webley products used foundation cosmetics concealer eraser concealer beauty blush loose powder powder blush face glue setting spray lipiv total baller lip liner uk mascara lipgloss",
          "italian haircut morrone",
          "going dinner boyfriend curled hair done full face make got back told going wash face could take make get comfortable looked face said shocked wearing make kidding eyebrows done eyeliner blush contour lashes whole yards men please tell going trying cute seriously notice thank answers",
          "slime hair mask",
          "makeup para eventos",
          "full asmr ballroom hair removal",
          "requested makeup tut",
          "ysk empty packets jar save beads next time need prevent humidity small medium sized space never go bad become unusable eventually saturated pick humidity need refresh put oven f hour good new keep small airtight jar time buy pair shoes electronics anything includes silica gel beads save often come handy every month thank",
          "hair hold memories",
          "loved one follow hairstyle inspo",
          "weeks old manners tongue blue blue sweet license please contact licensing",
          "anzeige no makeup makeup fürs erste mal uni gym cosmetics",
          "ai hair salon hair styles part ii picture example made another ai hair style template want another one please write styles want see please use share",
          "go follow hair page ig",
          "man vs wife father puts nair daughter hair",
          "hair long wash head like hair long got ta get creative cover length plastic bag wash roots saving time water sanity beauty needs hacks",
          null
         ],
         "marker": {
          "opacity": 0.5,
          "size": 5
         },
         "mode": "markers+text",
         "name": "9_hair_makeup_blush",
         "text": [
          "",
          "",
          "",
          "",
          "",
          "",
          "",
          "",
          "",
          "",
          "",
          "",
          "",
          "",
          "",
          "",
          "",
          "",
          "",
          "",
          "",
          "",
          "9_hair_makeup_blush"
         ],
         "textfont": {
          "size": 12
         },
         "type": "scattergl",
         "x": {
          "bdata": "Xt32QHmz8EDaHthArhb0QDwG2kC7wdhAkkjbQIkC9EB22flAuzz0QF7T1kCIDPZAV+rXQC9380Adv/RAcuf0QHL210BuLNdA8R31QA6c9EAprfRAiSn2QJmd6kA=",
          "dtype": "f4"
         },
         "y": {
          "bdata": "gH0bQfI6H0EO1yJBW58dQb9JG0F6OiJB6+UgQVnXHEEP9htB30gdQWwmIUHvsRxBix4hQajCHEEa3BxBqfMcQRzSI0E36CBB9eQcQZbZHEG/3RxBen8cQWRpHkE=",
          "dtype": "f4"
         }
        },
        {
         "hoverinfo": "text",
         "hovertext": [
          "disclaimer content video created owned unless stated otherwise unauthorized use copyrighted material strictly prohibited moin leute hello everyone welcome back brand new touristenfahrten public driving video nurburgring nordschleife time highlights carfreitag day started wet meant lot drifts spins weather turned dry people could push little let know moment favorite comments corners track filmed brunnchen adenauer forst touristenfahrten cars video nissan r gtr nurburgring toyota supra nurburgring bmw e drift nurburgring audi almost crash nurburgring vw jetta fail nurburgring fiat l nurburgring volvo drift nurburgring bmw drift nurburgring bmw g drift nurburgring bmw fail nurburgring bmw e fail nurburgring jaguar fpace svr fail nurburgring mazda mx almost crash nurburgring vw golf r drift nurburgring lexus fail nurburgring hyundai n fail nurburgring bmw fail nurburgring many",
          "marco beifahrer darf fehlen glänzt auto neu produkte nutzen alltäglich affiliate link entstehen kosten nachteile kauf link erwirtschaftet einstellig prozentuale provision tiktok twitch highlights facebook instagram website jean pierre kraemer jp performance gmbh zwei begriffe spaß leistung power freche sprüche schnelle autos turbotechnik turboumbauten ladedruck vieles mehr stehen videos biete einblick tägliche leben firma leistungssteigerungen technische details erklärungen soundfiles messwerte vergleiche neuvorstellungen präsentationen quasi live all projekten events reisen große weite welt dabei egal audi bmw chrysler dodge ferrari ford gmc honda infiniti jaguar koenigsegg lamborghini mercedes nissan opel porsche range rover skoda tesla volkswagen wiesmann dabei fast a z p denkt i like big boost genau richtig frei motto fährste quer siehste mehr siehst aufnahmen drifts drags spielerein große jungs halt gerne anregungen wünsche sonstiges hast kannst gerne melden info www jp performance de",
          "staffel episode ersten nachforschungen ergeben boden steckt großes dabei tatsächlich seltenen panzer zweiten weltkrieg handelt bewiesen michael manousakis truppe feuer flamme steel buddies überlegen mehr polen panther graben wann projekt zügig starten bevor wind sache bekommen koloss ort stelle schlamm ziehen reichlich equipment erforderlich mehr motor gibt s tonnen stahl ketten sammler museumsbetreiber berichtet steel buddies spektakulären entdeckung matthias jahrzehntelang recherchiert glaubt wissen panther zweiten weltkrieg verborgen liegt erhaltene panzer typs rar entsprechend teuer befindet koloss tatsächlich sumpfgebiet polen michael manousakis geschäftsfreund vermutet lässt ort herausfinden sollten annahmen bestätigen bergung schlamm bedeckten monstrums kinderspiel lassen jungs ölverschmierten overalls panther projekt abonniert kanal taucht motorwelt dmax mehr dmax motor instagram facebook tiktok",
          "morlock motors big deals westerwald joyn nachdem morlocks schon paar zwischenstopps mussten psh koshs fahrtüchtig steht reparatur stopp bisschen sightseeing trotzdem drin freigegeben ab jahren michael manousakis crew stahl geld westerwald weltweit fahrzeuge maschinen flugzeuge militärausrüstung morlock motors europas größter us handel chef michael manousakis kauft ganzen welt seltene fahrzeuge ungewöhnliches equipment art müssen dutzende massive militärfahrzeuge helikopter wenigen tagen exotischen insel deutschland überführt abonniere kanal folge verpassen folgen morlock motors mehr kabel eins facebook kabel eins instagram impressum",
          "heute bergen marco jungs halle dortmund opel manta b sr verlassenen garage kultige oldtimer letzten lebensjahre dunkelheit verbracht verborgenen schatz blech verbirgt erfahrt video d kommt shop immer suche interessanten besonderen fahrzeugen youngtimer oldtimer zeitgenössischem zubehör sowie ersatzteilen oldtimer verkauf angeboten findest bestand autohaus zeitlos wenigen schritten richtigen motoröl liqui moly neuen liqui moly x halle x retromotion bundles findet youtube kanalmitgliedschaft prüfstandstermin buchen instagram facebook web kanal erwarten dienstag freitag sonntag uhr neue videos dabei geht hauptsächlich leidenschaft alten autos marken offen egal audi opel vw bmw ford fiat lancia mercedes renault citroen seat viele viele mehr geht audi zylinder turbo umbauten vw polo umbauten oldtimer youngtimer meile rennen low budget tuning motorswaps zeiten messen leistung messen softwareoptimierung umbauten reparaturen instandsetzungen gebrauchtwagen erklärungen ratschläge autovorstellungen natürlich tipps tricks marco jahre sammeln konnte d unserer halle seid öffnungszeiten natürlich herzlichst willkommen freuen besuch d adresse defdahl dortmund s navi defdahl dortmund fragen anregungen anfragen gerne info",
          "never thought mercedes would build unstable cars",
          "lange warten ende yasins kompressor viper darf endlich zeigen steckt liter zehn zylinder priese ladedruck d bevor losgehen marco julian hürden meistern kommt shop immer suche interessanten besonderen fahrzeugen youngtimer oldtimer zeitgenössischem zubehör sowie ersatzteilen oldtimer verkauf angeboten findest bestand autohaus zeitlos wenigen schritten richtigen motoröl liqui moly neuen liqui moly x halle x retromotion bundles findet youtube kanalmitgliedschaft prüfstandstermin buchen instagram facebook web kanal erwarten dienstag freitag sonntag uhr neue videos dabei geht hauptsächlich leidenschaft alten autos marken offen egal audi opel vw bmw ford fiat lancia mercedes renault citroen seat viele viele mehr geht audi zylinder turbo umbauten vw polo umbauten oldtimer youngtimer meile rennen low budget tuning motorswaps zeiten messen leistung messen softwareoptimierung umbauten reparaturen instandsetzungen gebrauchtwagen erklärungen ratschläge autovorstellungen natürlich tipps tricks marco jahre sammeln konnte d unserer halle seid öffnungszeiten natürlich herzlichst willkommen freuen besuch d adresse defdahl dortmund s navi defdahl dortmund fragen anregungen anfragen gerne info",
          "e bikes günstiger sparen code jonah sandy munro original video skoda enyaq facelift vs tesla model y",
          "porsche gt exhaust valvetronics",
          "toyota supra aprendiendo derrapar",
          "motorradfahrer aufgepasst frankreich gibt große neuerung beim thema vorbeischlängeln betrifft zwei rädern unterwegs video erfahrt rechtlich geändert bedingungen durchschlängeln erlaubt sieht s eigentlich deutschland österreich italien niederlanden adac jurist stephan miller nimmt aktuelle rechtslage mehreren ländern lupe zeigen worauf achten müsst stau dahinschmelzen wollt bleibt spannend unterschiede könnten größer kaum motorradfahren hitze müssen kleidung tourenlänge technik wissen motorradfahren stau rettungsgasse durchschlängeln erlaubt frankreich motorrad schneller stau braucht rat adac juristinnen juristen mitglied seid kostenfreie rechtsberatung mobilitätsthemen wollt braucht einfach anrufen mo fr uhr adac rasmus kaessmann istock com deepblue you _________________________________________________________________ besucht social media kanälen facebook x instagram tiktok pinterest soundcloud blog abonniert gerne newsletter adac mitglied hilfe rat schutz",
          "heute seht schweizer c s m v bi turbo motor freien werkstatt schlecht instandgesetzt wurde nachbar hebebühne maybach v m v bi turbo mercedes niederlassung schlechten service bekommen seht selber werbung link ravenol shop sparen gewinnen könnt code mz link hazet werkzeugwagen geht mz shop spezialisten gebiet amg mercedes motorenbau allerhöchstem niveau akribisch genau mikrometer präzise stellen sicher fahrzeuge sowie motoren höchstleistungen zuverlässig erreichen tun größter leidenschaft seit vielen jahren führt sogar mehreren weltmeisterschaftstiteln internationalen motorsport detail zählt spezialisiert folgende motoren ausschließlich amg mercedes m sowie v amg kompressor e g s cl m sowie v legendären amg m kompressor slr w m bzw ccm v sauger c e ml r s cl m v bi turbo e s coupe g m v sauger sls amg r m v bi turbo g m v bi turbo ls ls z b c glc gle gls e s g m v bi turbo amg gt gts gtc gtr m sowie v bi turbo amg s cl g maybach m sowie v sauger bi turbo c c c e e glc usw m sowie v bi turbo e cls s ml gle m sowie v bi turbo amg s pullmann maybach diesel sowie zylinder benzin motoren setzen instand aktuelle motorsport projekte dtm amg e evo tourenwagen legenden einsetzen sowie tourenwagen goldene ära hwa c l kompressor w ex event werksfahrzeug clk w amg dtm trackday fahrzeug mercedes e m trackday fahrzeug",
          "auto wirklich mazda cx liter sechszylinder diesel allein motor macht schon echten traumwagen mazda legt drauf statt downsizing gibt s echtes rightsizing cx dabei stark effizient laut hersteller verbrauch gerade mal litern km liegen großen suv reihensechser fast schön wahr testen natürlich unserer verbrauchsfahrt nehmen mazda cx ordentlich ran vergleichen direkt skoda kodiaq sparsam cx wirklich hält liter diesel mazda verspricht youtube kanal abonnieren impressum gibts coolen qlmd klamotten matthias daily updates gibts instagram facebook tiktok",
          "projekt freu glänzt auto neu produkte nutzen alltäglich affiliate link entstehen kosten nachteile kauf link erwirtschaftet einstellig prozentuale provision tiktok twitch highlights facebook instagram website jean pierre kraemer jp performance gmbh zwei begriffe spaß leistung power freche sprüche schnelle autos turbotechnik turboumbauten ladedruck vieles mehr stehen videos biete einblick tägliche leben firma leistungssteigerungen technische details erklärungen soundfiles messwerte vergleiche neuvorstellungen präsentationen quasi live all projekten events reisen große weite welt dabei egal audi bmw chrysler dodge ferrari ford gmc honda infiniti jaguar koenigsegg lamborghini mercedes nissan opel porsche range rover skoda tesla volkswagen wiesmann dabei fast a z p denkt i like big boost genau richtig frei motto fährste quer siehste mehr siehst aufnahmen drifts drags spielerein große jungs halt gerne anregungen wünsche sonstiges hast kannst gerne melden info www jp performance de",
          "geil diggi glänzt auto neu produkte nutzen alltäglich affiliate link entstehen kosten nachteile kauf link erwirtschaftet einstellig prozentuale provision tiktok twitch highlights facebook instagram website jean pierre kraemer jp performance gmbh zwei begriffe spaß leistung power freche sprüche schnelle autos turbotechnik turboumbauten ladedruck vieles mehr stehen videos biete einblick tägliche leben firma leistungssteigerungen technische details erklärungen soundfiles messwerte vergleiche neuvorstellungen präsentationen quasi live all projekten events reisen große weite welt dabei egal audi bmw chrysler dodge ferrari ford gmc honda infiniti jaguar koenigsegg lamborghini mercedes nissan opel porsche range rover skoda tesla volkswagen wiesmann dabei fast a z p denkt i like big boost genau richtig frei motto fährste quer siehste mehr siehst aufnahmen drifts drags spielerein große jungs halt gerne anregungen wünsche sonstiges hast kannst gerne melden info www jp performance de",
          "schneller chiron mehr r motormagazin grip motormagazin immer sonntags uhr",
          "nasser öl geführter zahnriemen schien einst gute idee pure tech ecoboost tdi findet verwendung heute macht konstruktionsprinzip probleme motorschaden gehen nennen betroffenen modelle erklären tun neuheiten tests fahrberichte rund ums auto findet website facebook instagram twitter tiktok",
          "krasseste alltagshobel überhaupt www goapr de glänzt auto neu produkte nutzen alltäglich affiliate link entstehen kosten nachteile kauf link erwirtschaftet einstellig prozentuale provision tiktok twitch highlights facebook instagram website jean pierre kraemer jp performance gmbh zwei begriffe spaß leistung power freche sprüche schnelle autos turbotechnik turboumbauten ladedruck vieles mehr stehen videos biete einblick tägliche leben firma leistungssteigerungen technische details erklärungen soundfiles messwerte vergleiche neuvorstellungen präsentationen quasi live all projekten events reisen große weite welt dabei egal audi bmw chrysler dodge ferrari ford gmc honda infiniti jaguar koenigsegg lamborghini mercedes nissan opel porsche range rover skoda tesla volkswagen wiesmann dabei fast a z p denkt i like big boost genau richtig frei motto fährste quer siehste mehr siehst aufnahmen drifts drags spielerein große jungs halt gerne anregungen wünsche sonstiges hast kannst gerne melden info www jp performance de",
          "grab special edition yfood use code mat youtube bought wrecked porsche gt rs spent months rebuilding putting test racing formula driver porsche isnt fully complete yet im going upgrading best chance racing formula driver check micks channel content check second channel merchandise follow aswell",
          "check car damaged car vertical bought crash damaged aston martin db miles odometer car pretty much brand new found crashed pdi inspection got customer wait months parts finally arrived still havent managed get car started chance win aston martin vantage thanks bob machine shop thanks keezy customs get car wrapped content check second channel merchandise follow aswell",
          "get car vertical using code carwow time incredible koenigsegg drag race mat team flown sweden run jesko absolut regera koenigsegg test track let see two compare starting jesko absolut powered litre twin turbo v running e produces hp nm power sent rear wheels via speed multi clutch gearbox car weighs kg new costs around regera also powered litre twin turbo v also fitted three electric motors combine car running e produces hp nm power sent rear wheels via single speed torque converter gearbox tips scales kg new costs around jesko may slightly power regera three electric motors prove difference one way find let race subscribe change car carwow chiron super sport v jesko attack",
          null
         ],
         "marker": {
          "opacity": 0.5,
          "size": 5
         },
         "mode": "markers+text",
         "name": "10_nurburgring_turbo_bmw",
         "text": [
          "",
          "",
          "",
          "",
          "",
          "",
          "",
          "",
          "",
          "",
          "",
          "",
          "",
          "",
          "",
          "",
          "",
          "",
          "",
          "",
          "",
          "10_nurburgring_turbo_bmw"
         ],
         "textfont": {
          "size": 12
         },
         "type": "scattergl",
         "x": {
          "bdata": "RWx+QB1Xe0DwRntASvZ5QIwPfUB3R3xAE1F8QLuqfUCPF31AzE56QP00fECQ63xABA97QDLTfEDdhHxAsDd6QP91e0AafH1ASFyAQFfHgEAsJIBA/c58QA==",
          "dtype": "f4"
         },
         "y": {
          "bdata": "mSpdQWngXEFgL1dBXCpbQebBWkFiilxBLRNcQTEtXUFlvVxBVgNdQZlGW0FPiVxBk+tcQewKXUGOBF1BUpZbQXR5XEEULV1BtkpdQf4HXUGPJF5BrFdcQQ==",
          "dtype": "f4"
         }
        },
        {
         "hoverinfo": "text",
         "hovertext": [
          "dream vs daquavis pvp duel pvp challenge first challenge duel next skills challenge win follow socials twitter instagram snapchat daquavis starting training arc beginning thank everyone helped train last week duel much training necessary beat hunters beating daquavis main focus",
          "go kvatch whenever want ignore main mission go fighter guild mage anything kill entire imperial city game world fun way suits best",
          "bask springtime aura enjoy cherry blossom season grand hub festival accord blossomdance seasonal event taking place monster hunter wilds limited time join festivities earn new free hunter palico layered armor well new seikret decoration event runs april may pdt april may bst join hunt official website japanese french italian german spanish polish brazilian portuguese traditional chinese simplified chinese korean monster hunter wilds monster hunter wilds next generation acclaimed monster hunter series monster hunter protecting balance ecosystem hunting monsters world dynamic ever changing environments use resources gain hunts craft ever powerful weapons armor quest unravel mysteries new lands experience evolved action improved immersion series monster hunter wilds available ps xbox series x pc steam capcom co ltd rights reserved",
          "unknown beckons join us may pt reveal edge fate upcoming year destiny follow destiny facebook twitter instagram discord follow bungie facebook twitter instagram dive free play world destiny experience responsive first person shooter combat explore mysteries solar system unleash elemental abilities powerful enemies create guardian collect unique weapons armor gear customize look playstyle experience destiny cinematic story alone friends join guardians challenging co op missions compete variety pvp modes",
          "star wars season fortnite secret locations added",
          "available ps october learn discover bold new story warrior japan mission vengeance set years critically acclaimed ghost tsushima ghost yōtei standalone experience set rural japan story follows haunted lone mercenary named atsu thirsty revenge travels beautiful rugged landscapes northern japan hunting killed family many years earlier rated mature",
          "conquest",
          "today special state play presentation creative director graeme timmins senior project producer anthony nicholson showed deepest ever look borderlands explosive carnage filled gameplay including new vault hunters wildest weapons ever new traversal mechanics seamless new planet explore break free borderlands sep borderlands mayhem fueled looter shooter jam packed billions weapons outrageous enemies intense co op action explore dangerous hidden planet kairos one four new badass vault hunters break free oppressive timekeeper ruthless dictator dominates masses high world altering catastrophe threatens perfect order unleashing mayhem across planet ignite resistance blast way mechanical monstrosities bloodthirsty bandits vicious beasts new traversal mechanics like double jumping gliding dodging fixed point grappling fight solo co op three players immense sci fi adventure packed free form combat exploration pulse pounding boss fights infinitely varied loot drops eclectic cast unforgettable characters new old may contain content inappropriate children visit www esrb org rating information",
          "recent support strike going marvel rivals wanted share experience really shows many support players speaking enough right necros outright said stream hates support players called idiots morons kind statement coming big voice community real damage streamers get opt influence following say matters community seeing consequences recent match playing support bad nearly k healing two deaths damage blocked dps k less total damage dealt still someone voice chat told necros right support players brain dead exact problem mindset validated amplified makes playing role feel increasingly thankless clear support players playing support lack mechanical skill play dps play dps like mechanically easy difficult heroes every role reason lot us choose support actually fulfilling fun us keep teammate alive set someone else kill us fun chasing elims asking glorified seen hardest role think want basic respect tiring called brain dead worthless stats solid playing role way meant played honestly players show appreciation usually tanks especially non dive frontline tanks know go seconds without healing lot support hate seems come dps mains usually get health packs mobility someone plays dps tank take second think support team really problem easy target game work without teamwork support getting dove lot stay protect keeping support alive preventing enemy teams divers getting kills still great value team",
          "ultra legendary brawler rarity new brawlers deadly geisha terrible karaoke singer brawl moba new hypercharges new skins new game modes new event free gift download subscribe",
          "together remember season world champion mvp beloved player maciej shushei ratuszniak honor legacy players unlock shushei forever title free additionally play games gragas unlock fnatic gragas skin thank maciej link",
          "war see one fought shadows war beneath war command elite squad gritty authentic story set twilight clone wars star wars zero company single player turn based tactics game developed bit reactor collaboration respawn entertainment lucasfilm games step shoes hawks former republic officer leads zero company unconventional outfit professionals hire hailing across galaxy hawks zero company recruited operation pits emerging threat consume galaxy left unchecked succeed hawks lead team uneasy allies must set aside differences overcome nearly impossible odds star wars zero company launches pc playstation xbox series x wishlist follow us x facebook eastarwars instagram threads ea starwars tiktok",
          "every great champion stands silent sacrifices another",
          "galactic reckoning coming heroes ready strike back assault led emperor palpatine shadows island fate hangs balance draw lightsaber ready blaster may fortnite galactic battle play fortnite battle royale completely free player pvp mode one giant map battle bus last one standing wins esrb rating teen violence instagram twitter facebook tiktok learn",
          "driving back imperial invasion take every blaster ship disposal unless feel strong pull dark side drop fortnite galactic battle launching today play fortnite battle royale completely free player pvp mode one giant map battle bus last one standing wins esrb rating teen violence instagram twitter facebook tiktok learn",
          "new star wars themed season arrives soon drop fortnite galactic battle may play fortnite battle royale completely free player pvp mode one giant map battle bus last one standing wins esrb rating teen violence instagram twitter facebook tiktok learn",
          "play flex wait people pick characters pick mine shit remember last time solo tank even someone picks tank selection screen always swap join tank guys understand unfun go emma thor beating shit front lines shit happening gm lobbies crazy tank players",
          "x instagram tiktok facebook enter arena build battle deck outsmart enemy fast real time battles creators clash clans comes real time multiplayer battle game starring favourite clash characters start battling players around world become master strategy deck building choose unique cards battle deck head arena battle place cards right knock enemy king princesses towers strategic fast paced match collect upgrade cards hog rider collect upgrade cards featuring clash clans troops spells defences know love many others win battles progress new arenas unlock powerful new cards collection battle way top battle way league global tournaments match best players world compete glory rewards seasonal events unlock new seasonal items like tower skins emotes powerful magic items season pass participate fun challenges put skills test join clan go war join form clan players share cards battle clan wars big rewards see arena",
          "grow squad loot bosses bust friends collect evolve star supercell characters clash clans brawl stars hay day clash royale boom beach play squad busters miss updates follow channels",
          "new wasabi powers new skins balance changes kairostime subscribe brawl stars creator code join become channel member video going cover new wasabi powers new skins costs animations well balance changes even details credit cost ultra legendary brawlers business email kairos follow discord server twitter threads twitch instagram facebook page tiktok partners set apart rest check samsung galaxy level game tribe gaming youtube twitter discord instagram tiktok epic support youtube sponsorship perks patreon sponsorship perks twitch subscriber perks kairostime merch brawl stars playlists brawl stars olympics competitive tier list mini games challenges let play lex pro interviews strategy guides brawler guides thumbnail video may contain artwork content affiliated endorsed sponsored specifically approved supercell supercell responsible information see supercell fan content policy www supercell com fan content policy",
          null
         ],
         "marker": {
          "opacity": 0.5,
          "size": 5
         },
         "mode": "markers+text",
         "name": "11_new_battle_players",
         "text": [
          "",
          "",
          "",
          "",
          "",
          "",
          "",
          "",
          "",
          "",
          "",
          "",
          "",
          "",
          "",
          "",
          "",
          "",
          "",
          "",
          "11_new_battle_players"
         ],
         "textfont": {
          "size": 12
         },
         "type": "scattergl",
         "x": {
          "bdata": "wiHvQKOi9kBN+utAWLTsQHC+70DQF+VASiTuQBel60DvZPNASOjtQMVm6kChvfBAEN3vQHKM8EBjbvFAmKLwQPcU8kACX+9ApSDwQCL66kDg0+5A",
          "dtype": "f4"
         },
         "y": {
          "bdata": "VBIyQSSEMEHzEDFBjz8xQTd+MEElUzNBlswuQcu4MUHBjS9B7wUxQaLkMUEZ8DBBEXMwQT5DMUHIJjBBq9QwQefYMEH4uTBBxbkwQQXrMUFg+jBB",
          "dtype": "f4"
         }
        },
        {
         "hoverinfo": "text",
         "hovertext": [
          "brutually shocked",
          "essence",
          "calm beach day wave took",
          "yes quake fun stuff huh nice p wave got little distant good jolt _ _ _ _ _ _ _ _ _ _ _ _ _ _",
          "real aura",
          "iphone",
          "tinfoil",
          "darkness looms limveld threatening essence world gather strength nightfarers nightlord must fall pre order follow elden ring x instagram facebook follow us web instagram twitter facebook tiktok",
          "old soul",
          "beluga lagoon the glen such a summer vibe banger",
          "walking much aura part",
          "grounded",
          "like sunset like romance like",
          "lightning",
          "vibes vibes",
          "sass real",
          "vibe modo on",
          "real aura",
          "vibe house",
          null
         ],
         "marker": {
          "opacity": 0.5,
          "size": 5
         },
         "mode": "markers+text",
         "name": "12_vibe_aura_essence",
         "text": [
          "",
          "",
          "",
          "",
          "",
          "",
          "",
          "",
          "",
          "",
          "",
          "",
          "",
          "",
          "",
          "",
          "",
          "",
          "",
          "12_vibe_aura_essence"
         ],
         "textfont": {
          "size": 12
         },
         "type": "scattergl",
         "x": {
          "bdata": "dGnLQCeJ1kC8R9lAok3XQM4QykAgh75Ac83KQIxY2UDBdNRAxArUQFHtxkCWVshA8UvdQHx6yUAVqNVAAkLIQO7I00DG2shA/e/VQCLpz0A=",
          "dtype": "f4"
         },
         "y": {
          "bdata": "4jEPQQcnCkFHNQ5Bg0oPQcitDEFApg1BDO0MQQ/uCUH7wwpBxEQPQU/+C0HPGBBBR6AOQbkWDUGUjg1BhI4MQW/HDUEFugxBV0oPQVhbDUE=",
          "dtype": "f4"
         }
        },
        {
         "hoverinfo": "text",
         "hovertext": [
          "toretto ronaldo prepare cars shaw joins",
          "best reflex mohamed",
          "valverde assist",
          "raphinha crazy goal",
          "ronaldo minotaurus monster fusion",
          "cristiano ronaldo",
          "great goal andrés",
          "prime ronaldo",
          "bonde trenzinho",
          "lionel messi superhuman skills",
          "zach choi",
          "lamelo ball plays smooth",
          "assist best",
          "messi really said move",
          "valverde pass",
          "lamine yamal future ballon d or",
          "vini nutmeg pass",
          "messi skill toying goalkeeper",
          null
         ],
         "marker": {
          "opacity": 0.5,
          "size": 5
         },
         "mode": "markers+text",
         "name": "13_ronaldo_messi_valverde",
         "text": [
          "",
          "",
          "",
          "",
          "",
          "",
          "",
          "",
          "",
          "",
          "",
          "",
          "",
          "",
          "",
          "",
          "",
          "",
          "13_ronaldo_messi_valverde"
         ],
         "textfont": {
          "size": 12
         },
         "type": "scattergl",
         "x": {
          "bdata": "CkyFQNrKfECg6YdAiY6FQNF6hUBG/IRAycyGQByshED7E11AV6yGQGclSkBhn4BAQuuKQH9zhkAUQ4dAGkZCQENUiUAPZ4VAdZWAQA==",
          "dtype": "f4"
         },
         "y": {
          "bdata": "SiwSQXKHEkG7tBNBMv4UQdPBEUHrQxJB0/wTQbh4EkGFnw5BZGUSQVNKG0H4hBBBSyQSQX6YEkF1FRRBGUQgQRbuE0HJZBJB28gTQQ==",
          "dtype": "f4"
         }
        },
        {
         "hoverinfo": "text",
         "hovertext": [
          "top best viral phonk funk songs april",
          "c mon ever posted commented liked watched video youtube last years one featuring",
          "youtube raccoon asmr",
          "ranking liked tiktok videos",
          "go viral",
          "hacer vídeo viral tiktok",
          "viral template",
          "viral sound",
          "go viral tiktok million",
          "hacerte viral tiktok",
          "tiktok",
          "important things go viral tiktok content creator things matter",
          "seeing lots tiktoks tweets posts people hating duolingo uninstalling whatnot everyone suddenly turned duolingo thought people loved edit stole replies alternatives duolingo comments lingonaut app work progress duolingo subreddit back tree sentence discussions ads heart free like duo less monetization free deutsche welle german great look right good busuu babbel like hello talk dw combined mango languages like rosetta stone pimsleur",
          "go viral tiktok tricks",
          null
         ],
         "marker": {
          "opacity": 0.5,
          "size": 5
         },
         "mode": "markers+text",
         "name": "14_viral_duolingo_tiktok",
         "text": [
          "",
          "",
          "",
          "",
          "",
          "",
          "",
          "",
          "",
          "",
          "",
          "",
          "",
          "",
          "14_viral_duolingo_tiktok"
         ],
         "textfont": {
          "size": 12
         },
         "type": "scattergl",
         "x": {
          "bdata": "KFbNQF7jwEAcXLJAz+zKQKLezkD2ZctAfgDPQELmzkBk+81AgfnNQBjLzUBeRM5ATAPOQBZgzkD33MpA",
          "dtype": "f4"
         },
         "y": {
          "bdata": "vf9BQYhzQEFg+T5BnSxCQetwQ0E2pkJBcp5DQQqkQ0FKBkNBKB9DQZznQkHdrUJBDVxCQY8SQ0G/b0JB",
          "dtype": "f4"
         }
        },
        {
         "hoverinfo": "text",
         "hovertext": [
          "replying put wet paper towel fine",
          "le prankeur pranké",
          "award best prank goes",
          "ranking best school pranks",
          "pranking friends",
          "trick creators",
          "fart spray elevator prank fart spray prank",
          "anatoly ego destroyer",
          "mind granny cops prank",
          "anatoly mop prank kg",
          "clean anatoly prank",
          "walk nastyyy go ahead cousin",
          "replying sg bangin bathroom prank",
          null
         ],
         "marker": {
          "opacity": 0.5,
          "size": 5
         },
         "mode": "markers+text",
         "name": "15_prank_anatoly_fart",
         "text": [
          "",
          "",
          "",
          "",
          "",
          "",
          "",
          "",
          "",
          "",
          "",
          "",
          "",
          "15_prank_anatoly_fart"
         ],
         "textfont": {
          "size": 12
         },
         "type": "scattergl",
         "x": {
          "bdata": "BQsBQSWhAUGAOgJBmdgBQYL8AUHgBfRAI2UCQUxMAUFVnAJBguEBQWD6AUF2XwJBF0MCQXRZAUE=",
          "dtype": "f4"
         },
         "y": {
          "bdata": "T6wMQZyECUFGhQlBr5EJQc6XCUE3GgtBwXsJQZqPCUHD8wlB58MJQTqMCUHz/AlB+uMJQTwDCkE=",
          "dtype": "f4"
         }
        },
        {
         "hoverinfo": "text",
         "hovertext": [
          "elder scrolls iv oblivion remastered experience beloved classic modern look refined suite features updates bethesda game studios foundational open world role playing game set stage nearly everything accomplished years since remastered returning players newcomers alike experience iconic rpg breathtaking new look get depth look refinements oblivion remastered visuals gameplay information elder scrolls please visit follow us social media instagram twitter x facebook bluesky discord esrb rating mature violence blood gore sexual themes",
          "explore cyrodiil like never elder scrolls iv oblivion remastered available xbox series x game pass playstation pc elder scrolls iv oblivion remastered modernizes game year new stunning visuals refined gameplay explore vast landscape cyrodiil like never stop forces oblivion overtaking land one greatest rpgs ever award winning bethesda game studios information elder scrolls please visit follow us social media instagram twitter x facebook bluesky discord esrb rating mature violence blood gore sexual themes",
          "first played skyrim first elder scrolls game immediately supported stormcloaks due classic rebellions supposed fascism cliche however many playthroughs became sympathizer empire prepare next great war obvious thalmor wanted empire fragmented believed playing ulfric hands would ultimately play thalmor interestingly playing oblivion remaster noticed noble loyal motivated empire soldiers citizens kvatch three imperial soldiers joined fray saw smoke roadside every mounted legionnaire ensures run trouble let know one palace guards told works better city denizens even death emperor citizens tamriel mourning recognize empire skyrim mede septim empire nice see could translate could oblivion exemplifies civilization offer unified society reinforces decision civil war skyrim edit also shoutout everyone stormcloak side providing reasonings discussion much better differing opinions helps see sides better light",
          "the legend of zelda breath of the wild mögen vergehen kommt direkt gaming knast spiel sagen sinnlose kritik gar puren hate verbreiten bioshock spiel legendär top games of all time vielleicht sogar nein sagt trant mag bioshock deswegen sitzt gittern kuro mag hollow knight skandal schlechten meinungen müssen kuro markus trant gefängnis büßen lange games nochmal gezockt wirklich beurteilen kritik gerechtfertigt einfach unpopular opinion komplett dumm erwartet sekunden spiel gar abgeholt bioshock the legend of zelda breath of the wild hollow knight social media kanäle game two facebook instagram podcast gehts lang itunes spotify rss feed gehören zdfneo mehr davon gibt s instagram youtube zdf mediathek impressum netiquette",
          "years anticipation minecraft finally receiving major visual upgrade bringing enhanced lighting shadows atmospheric effects blocky world love announcement sparked excitement skepticism among players particularly regarding platform availability performance compares existing mods",
          "pathetic upvote farming scrolled posts say exact thing oblivion amazing skyrim amazing morrowind amazing realise game qualities others morrowinds story superior gameplay horrible oblivion great story bugs terrible like bad bethesda game quests break original remaster without reddit help would able continue side quests daedric realms oblivion superior games enemy variety design also top notch skyrims combat overall good outdated better elder scrolls skyrim better open world actually tonnes random encounters opinion better immersion main story bad dlcs good oblivion amazing cities something else love game know post really oblivion related mainly post matter worry lol edit people seem think like skyrim oblivion true prefer oblivion grew everyone arguing im sad oblivion better skyrim need understand posts point",
          "elder scrolls iv oblivion remastered pc ps xbox series x remaster beloved rpg classic let talk subscribe",
          "act game started get bit dificult thought late game grind however still loved every second issue became fights started taking min complete normal enemies sponges thought good let push forward paid attention thing always kept popping picto learned wtf mean googled spend lumina say wtf hit played hours game pictos per character single lumina learned many fights wished character could damage many fights lost oh well lesson make sure carefully read tutorial screen enjoy game",
          "see alot players min maxing attempting use skills keep character overleveling viable strategy og oblivion leveling system made hard achieve perfect level using multiple skills og oblivion could easily mess build leveling wrong time getting main attributes remaster fixed gives attribute points spend please every level regardless skills used get level reason still level trying save bruma seige unless making role play build minimal combat skills avoiding leveling depriving character better loot real reason",
          "welcome elder scrolls oblivion remaster announced released depending whatever whim todd howard bethesda might ok post video upload yeah released bethesda softworks hard work something new felt perfect time spiffing brit return oblivion break one last time create perfect character become god find last glitch oblivion pull exploit eluded internet many years sit back get comfortable find elder scrolls oblivion perfectly balanced game exploits perhaps todd howard added special gameplay features video going packed funny clips montage style british humor enjoyed check exploit videos featuring strategy games complaints todd howard might custom magic spells elder scrolls good morrowind also rather similar robbaz valefisk rt game style content sit back enjoy spiffing brit chapters someone remake game build hero workshop elf get let get going counter intuitive quest hold potion works beyond reasonable limits spell crafting get low time punch substantial challenge getting big fight join channel get access perks patreon twitter discord title thank god broken elder scrolls oblivion perfectly balanced game exploits",
          "links elder scrolls iv oblivion remastered modernizes game year new stunning visuals refined gameplay explore vast landscape cyrodiil like never stop forces oblivion overtaking land one greatest rpgs ever award winning bethesda game studios rediscover cyrodiil journey rich world tamriel battle across planes oblivion handcrafted details meticulously recreated ensure moment exploration awe inspiring navigate story noble warrior sinister assassin wizened sorcerer scrappy blacksmith forge path play way want experience epic adventure step inside universe bursting captivating stories encounter unforgettable cast characters master swordcraft wield powerful magic fight save tamriel daedric invasion complete story experience everything oblivion offer previously released story expansions shivering isles knights nine additional downloadable content included elder scrolls iv oblivion remastered official description subscribe bestest friend",
          "elder scrolls iv oblivion remastered experience beloved classic modern look refined suite features updates previously broadcast",
          null
         ],
         "marker": {
          "opacity": 0.5,
          "size": 5
         },
         "mode": "markers+text",
         "name": "16_oblivion_scrolls_elder",
         "text": [
          "",
          "",
          "",
          "",
          "",
          "",
          "",
          "",
          "",
          "",
          "",
          "",
          "16_oblivion_scrolls_elder"
         ],
         "textfont": {
          "size": 12
         },
         "type": "scattergl",
         "x": {
          "bdata": "r47/QPdO/0DSZP9AEAH+QO1jAEHhzf9A8EP/QCEd/EB6CgBBu5z/QCLn/kA7xP9ASDf/QA==",
          "dtype": "f4"
         },
         "y": {
          "bdata": "MXQ2QZxaNkH6ajZBXlU0QS3mNUG3iDZBVa02QaqwL0GxXzZBpXs2QbiJNkHAbTZBk641QQ==",
          "dtype": "f4"
         }
        },
        {
         "hoverinfo": "text",
         "hovertext": [
          "turn music",
          "check mona lisa motion plattforms",
          "dancehall would incomplete without songs share favorite song",
          "cher performing believe years",
          "beautiful things song would like us next",
          "clip led fangs pulse crimson let smile rewrite rules midnight",
          "mona lisa motion plattforms",
          "make smile l unik surprises radiohead",
          "third song mona lisa motion everywhere thursday february",
          "top unexpected singing moments",
          "waited years dance trend ib",
          null
         ],
         "marker": {
          "opacity": 0.5,
          "size": 5
         },
         "mode": "markers+text",
         "name": "17_mona_motion_lisa",
         "text": [
          "",
          "",
          "",
          "",
          "",
          "",
          "",
          "",
          "",
          "",
          "",
          "17_mona_motion_lisa"
         ],
         "textfont": {
          "size": 12
         },
         "type": "scattergl",
         "x": {
          "bdata": "SlWqQGtRq0BJGLBA87itQOFWskAJc7FAQlOrQFh5sUCmoa5A/m+yQDXzqkBkja5A",
          "dtype": "f4"
         },
         "y": {
          "bdata": "1QEuQQ0/KkFOUyFBvVMiQVPeIEFkKSpBOoYqQWNYJUHU4ydBfxEgQdf/IEHyyyVB",
          "dtype": "f4"
         }
        },
        {
         "hoverinfo": "text",
         "hovertext": [
          "new template",
          "new template",
          "nunca muda template",
          "needed non profit bylaws could see template also pennsylvania board directors",
          "new trend template 𝙄 𝙇 𝘼",
          "template makes person memoji rm ib sc violet",
          "new glow template",
          "try new template edits backup dibee boo ice",
          "novo modelo no capcut",
          "try new template edits backup",
          "new capcut template new template new template",
          null
         ],
         "marker": {
          "opacity": 0.5,
          "size": 5
         },
         "mode": "markers+text",
         "name": "18_template_new_capcut",
         "text": [
          "",
          "",
          "",
          "",
          "",
          "",
          "",
          "",
          "",
          "",
          "",
          "18_template_new_capcut"
         ],
         "textfont": {
          "size": 12
         },
         "type": "scattergl",
         "x": {
          "bdata": "0JASP0vlDT8ZDRg/oQMMP3SpDj+ADw0/sqEOP4SJCz8UJhY/hbkNP8xJDj9msA8/",
          "dtype": "f4"
         },
         "y": {
          "bdata": "AvQcQX6xHEE7pxxB1RYdQeakHEHmrRxB2sIcQXGSHEG2lxxBo6wcQb+vHEEpuhxB",
          "dtype": "f4"
         }
        }
       ],
       "layout": {
        "annotations": [
         {
          "showarrow": false,
          "text": "D1",
          "x": -3.6996594071388245,
          "y": 10.223740124702454,
          "yshift": 10
         },
         {
          "showarrow": false,
          "text": "D2",
          "x": 4.208477920293808,
          "xshift": 10,
          "y": 15.966514253616333
         }
        ],
        "height": 750,
        "shapes": [
         {
          "line": {
           "color": "#CFD8DC",
           "width": 2
          },
          "type": "line",
          "x0": 4.208477920293808,
          "x1": 4.208477920293808,
          "y0": 4.480965995788575,
          "y1": 15.966514253616333
         },
         {
          "line": {
           "color": "#9E9E9E",
           "width": 2
          },
          "type": "line",
          "x0": -3.6996594071388245,
          "x1": 12.11661524772644,
          "y0": 10.223740124702454,
          "y1": 10.223740124702454
         }
        ],
        "template": {
         "data": {
          "bar": [
           {
            "error_x": {
             "color": "rgb(36,36,36)"
            },
            "error_y": {
             "color": "rgb(36,36,36)"
            },
            "marker": {
             "line": {
              "color": "white",
              "width": 0.5
             },
             "pattern": {
              "fillmode": "overlay",
              "size": 10,
              "solidity": 0.2
             }
            },
            "type": "bar"
           }
          ],
          "barpolar": [
           {
            "marker": {
             "line": {
              "color": "white",
              "width": 0.5
             },
             "pattern": {
              "fillmode": "overlay",
              "size": 10,
              "solidity": 0.2
             }
            },
            "type": "barpolar"
           }
          ],
          "carpet": [
           {
            "aaxis": {
             "endlinecolor": "rgb(36,36,36)",
             "gridcolor": "white",
             "linecolor": "white",
             "minorgridcolor": "white",
             "startlinecolor": "rgb(36,36,36)"
            },
            "baxis": {
             "endlinecolor": "rgb(36,36,36)",
             "gridcolor": "white",
             "linecolor": "white",
             "minorgridcolor": "white",
             "startlinecolor": "rgb(36,36,36)"
            },
            "type": "carpet"
           }
          ],
          "choropleth": [
           {
            "colorbar": {
             "outlinewidth": 1,
             "tickcolor": "rgb(36,36,36)",
             "ticks": "outside"
            },
            "type": "choropleth"
           }
          ],
          "contour": [
           {
            "colorbar": {
             "outlinewidth": 1,
             "tickcolor": "rgb(36,36,36)",
             "ticks": "outside"
            },
            "colorscale": [
             [
              0,
              "#440154"
             ],
             [
              0.1111111111111111,
              "#482878"
             ],
             [
              0.2222222222222222,
              "#3e4989"
             ],
             [
              0.3333333333333333,
              "#31688e"
             ],
             [
              0.4444444444444444,
              "#26828e"
             ],
             [
              0.5555555555555556,
              "#1f9e89"
             ],
             [
              0.6666666666666666,
              "#35b779"
             ],
             [
              0.7777777777777778,
              "#6ece58"
             ],
             [
              0.8888888888888888,
              "#b5de2b"
             ],
             [
              1,
              "#fde725"
             ]
            ],
            "type": "contour"
           }
          ],
          "contourcarpet": [
           {
            "colorbar": {
             "outlinewidth": 1,
             "tickcolor": "rgb(36,36,36)",
             "ticks": "outside"
            },
            "type": "contourcarpet"
           }
          ],
          "heatmap": [
           {
            "colorbar": {
             "outlinewidth": 1,
             "tickcolor": "rgb(36,36,36)",
             "ticks": "outside"
            },
            "colorscale": [
             [
              0,
              "#440154"
             ],
             [
              0.1111111111111111,
              "#482878"
             ],
             [
              0.2222222222222222,
              "#3e4989"
             ],
             [
              0.3333333333333333,
              "#31688e"
             ],
             [
              0.4444444444444444,
              "#26828e"
             ],
             [
              0.5555555555555556,
              "#1f9e89"
             ],
             [
              0.6666666666666666,
              "#35b779"
             ],
             [
              0.7777777777777778,
              "#6ece58"
             ],
             [
              0.8888888888888888,
              "#b5de2b"
             ],
             [
              1,
              "#fde725"
             ]
            ],
            "type": "heatmap"
           }
          ],
          "histogram": [
           {
            "marker": {
             "line": {
              "color": "white",
              "width": 0.6
             }
            },
            "type": "histogram"
           }
          ],
          "histogram2d": [
           {
            "colorbar": {
             "outlinewidth": 1,
             "tickcolor": "rgb(36,36,36)",
             "ticks": "outside"
            },
            "colorscale": [
             [
              0,
              "#440154"
             ],
             [
              0.1111111111111111,
              "#482878"
             ],
             [
              0.2222222222222222,
              "#3e4989"
             ],
             [
              0.3333333333333333,
              "#31688e"
             ],
             [
              0.4444444444444444,
              "#26828e"
             ],
             [
              0.5555555555555556,
              "#1f9e89"
             ],
             [
              0.6666666666666666,
              "#35b779"
             ],
             [
              0.7777777777777778,
              "#6ece58"
             ],
             [
              0.8888888888888888,
              "#b5de2b"
             ],
             [
              1,
              "#fde725"
             ]
            ],
            "type": "histogram2d"
           }
          ],
          "histogram2dcontour": [
           {
            "colorbar": {
             "outlinewidth": 1,
             "tickcolor": "rgb(36,36,36)",
             "ticks": "outside"
            },
            "colorscale": [
             [
              0,
              "#440154"
             ],
             [
              0.1111111111111111,
              "#482878"
             ],
             [
              0.2222222222222222,
              "#3e4989"
             ],
             [
              0.3333333333333333,
              "#31688e"
             ],
             [
              0.4444444444444444,
              "#26828e"
             ],
             [
              0.5555555555555556,
              "#1f9e89"
             ],
             [
              0.6666666666666666,
              "#35b779"
             ],
             [
              0.7777777777777778,
              "#6ece58"
             ],
             [
              0.8888888888888888,
              "#b5de2b"
             ],
             [
              1,
              "#fde725"
             ]
            ],
            "type": "histogram2dcontour"
           }
          ],
          "mesh3d": [
           {
            "colorbar": {
             "outlinewidth": 1,
             "tickcolor": "rgb(36,36,36)",
             "ticks": "outside"
            },
            "type": "mesh3d"
           }
          ],
          "parcoords": [
           {
            "line": {
             "colorbar": {
              "outlinewidth": 1,
              "tickcolor": "rgb(36,36,36)",
              "ticks": "outside"
             }
            },
            "type": "parcoords"
           }
          ],
          "pie": [
           {
            "automargin": true,
            "type": "pie"
           }
          ],
          "scatter": [
           {
            "fillpattern": {
             "fillmode": "overlay",
             "size": 10,
             "solidity": 0.2
            },
            "type": "scatter"
           }
          ],
          "scatter3d": [
           {
            "line": {
             "colorbar": {
              "outlinewidth": 1,
              "tickcolor": "rgb(36,36,36)",
              "ticks": "outside"
             }
            },
            "marker": {
             "colorbar": {
              "outlinewidth": 1,
              "tickcolor": "rgb(36,36,36)",
              "ticks": "outside"
             }
            },
            "type": "scatter3d"
           }
          ],
          "scattercarpet": [
           {
            "marker": {
             "colorbar": {
              "outlinewidth": 1,
              "tickcolor": "rgb(36,36,36)",
              "ticks": "outside"
             }
            },
            "type": "scattercarpet"
           }
          ],
          "scattergeo": [
           {
            "marker": {
             "colorbar": {
              "outlinewidth": 1,
              "tickcolor": "rgb(36,36,36)",
              "ticks": "outside"
             }
            },
            "type": "scattergeo"
           }
          ],
          "scattergl": [
           {
            "marker": {
             "colorbar": {
              "outlinewidth": 1,
              "tickcolor": "rgb(36,36,36)",
              "ticks": "outside"
             }
            },
            "type": "scattergl"
           }
          ],
          "scattermap": [
           {
            "marker": {
             "colorbar": {
              "outlinewidth": 1,
              "tickcolor": "rgb(36,36,36)",
              "ticks": "outside"
             }
            },
            "type": "scattermap"
           }
          ],
          "scattermapbox": [
           {
            "marker": {
             "colorbar": {
              "outlinewidth": 1,
              "tickcolor": "rgb(36,36,36)",
              "ticks": "outside"
             }
            },
            "type": "scattermapbox"
           }
          ],
          "scatterpolar": [
           {
            "marker": {
             "colorbar": {
              "outlinewidth": 1,
              "tickcolor": "rgb(36,36,36)",
              "ticks": "outside"
             }
            },
            "type": "scatterpolar"
           }
          ],
          "scatterpolargl": [
           {
            "marker": {
             "colorbar": {
              "outlinewidth": 1,
              "tickcolor": "rgb(36,36,36)",
              "ticks": "outside"
             }
            },
            "type": "scatterpolargl"
           }
          ],
          "scatterternary": [
           {
            "marker": {
             "colorbar": {
              "outlinewidth": 1,
              "tickcolor": "rgb(36,36,36)",
              "ticks": "outside"
             }
            },
            "type": "scatterternary"
           }
          ],
          "surface": [
           {
            "colorbar": {
             "outlinewidth": 1,
             "tickcolor": "rgb(36,36,36)",
             "ticks": "outside"
            },
            "colorscale": [
             [
              0,
              "#440154"
             ],
             [
              0.1111111111111111,
              "#482878"
             ],
             [
              0.2222222222222222,
              "#3e4989"
             ],
             [
              0.3333333333333333,
              "#31688e"
             ],
             [
              0.4444444444444444,
              "#26828e"
             ],
             [
              0.5555555555555556,
              "#1f9e89"
             ],
             [
              0.6666666666666666,
              "#35b779"
             ],
             [
              0.7777777777777778,
              "#6ece58"
             ],
             [
              0.8888888888888888,
              "#b5de2b"
             ],
             [
              1,
              "#fde725"
             ]
            ],
            "type": "surface"
           }
          ],
          "table": [
           {
            "cells": {
             "fill": {
              "color": "rgb(237,237,237)"
             },
             "line": {
              "color": "white"
             }
            },
            "header": {
             "fill": {
              "color": "rgb(217,217,217)"
             },
             "line": {
              "color": "white"
             }
            },
            "type": "table"
           }
          ]
         },
         "layout": {
          "annotationdefaults": {
           "arrowhead": 0,
           "arrowwidth": 1
          },
          "autotypenumbers": "strict",
          "coloraxis": {
           "colorbar": {
            "outlinewidth": 1,
            "tickcolor": "rgb(36,36,36)",
            "ticks": "outside"
           }
          },
          "colorscale": {
           "diverging": [
            [
             0,
             "rgb(103,0,31)"
            ],
            [
             0.1,
             "rgb(178,24,43)"
            ],
            [
             0.2,
             "rgb(214,96,77)"
            ],
            [
             0.3,
             "rgb(244,165,130)"
            ],
            [
             0.4,
             "rgb(253,219,199)"
            ],
            [
             0.5,
             "rgb(247,247,247)"
            ],
            [
             0.6,
             "rgb(209,229,240)"
            ],
            [
             0.7,
             "rgb(146,197,222)"
            ],
            [
             0.8,
             "rgb(67,147,195)"
            ],
            [
             0.9,
             "rgb(33,102,172)"
            ],
            [
             1,
             "rgb(5,48,97)"
            ]
           ],
           "sequential": [
            [
             0,
             "#440154"
            ],
            [
             0.1111111111111111,
             "#482878"
            ],
            [
             0.2222222222222222,
             "#3e4989"
            ],
            [
             0.3333333333333333,
             "#31688e"
            ],
            [
             0.4444444444444444,
             "#26828e"
            ],
            [
             0.5555555555555556,
             "#1f9e89"
            ],
            [
             0.6666666666666666,
             "#35b779"
            ],
            [
             0.7777777777777778,
             "#6ece58"
            ],
            [
             0.8888888888888888,
             "#b5de2b"
            ],
            [
             1,
             "#fde725"
            ]
           ],
           "sequentialminus": [
            [
             0,
             "#440154"
            ],
            [
             0.1111111111111111,
             "#482878"
            ],
            [
             0.2222222222222222,
             "#3e4989"
            ],
            [
             0.3333333333333333,
             "#31688e"
            ],
            [
             0.4444444444444444,
             "#26828e"
            ],
            [
             0.5555555555555556,
             "#1f9e89"
            ],
            [
             0.6666666666666666,
             "#35b779"
            ],
            [
             0.7777777777777778,
             "#6ece58"
            ],
            [
             0.8888888888888888,
             "#b5de2b"
            ],
            [
             1,
             "#fde725"
            ]
           ]
          },
          "colorway": [
           "#1F77B4",
           "#FF7F0E",
           "#2CA02C",
           "#D62728",
           "#9467BD",
           "#8C564B",
           "#E377C2",
           "#7F7F7F",
           "#BCBD22",
           "#17BECF"
          ],
          "font": {
           "color": "rgb(36,36,36)"
          },
          "geo": {
           "bgcolor": "white",
           "lakecolor": "white",
           "landcolor": "white",
           "showlakes": true,
           "showland": true,
           "subunitcolor": "white"
          },
          "hoverlabel": {
           "align": "left"
          },
          "hovermode": "closest",
          "mapbox": {
           "style": "light"
          },
          "paper_bgcolor": "white",
          "plot_bgcolor": "white",
          "polar": {
           "angularaxis": {
            "gridcolor": "rgb(232,232,232)",
            "linecolor": "rgb(36,36,36)",
            "showgrid": false,
            "showline": true,
            "ticks": "outside"
           },
           "bgcolor": "white",
           "radialaxis": {
            "gridcolor": "rgb(232,232,232)",
            "linecolor": "rgb(36,36,36)",
            "showgrid": false,
            "showline": true,
            "ticks": "outside"
           }
          },
          "scene": {
           "xaxis": {
            "backgroundcolor": "white",
            "gridcolor": "rgb(232,232,232)",
            "gridwidth": 2,
            "linecolor": "rgb(36,36,36)",
            "showbackground": true,
            "showgrid": false,
            "showline": true,
            "ticks": "outside",
            "zeroline": false,
            "zerolinecolor": "rgb(36,36,36)"
           },
           "yaxis": {
            "backgroundcolor": "white",
            "gridcolor": "rgb(232,232,232)",
            "gridwidth": 2,
            "linecolor": "rgb(36,36,36)",
            "showbackground": true,
            "showgrid": false,
            "showline": true,
            "ticks": "outside",
            "zeroline": false,
            "zerolinecolor": "rgb(36,36,36)"
           },
           "zaxis": {
            "backgroundcolor": "white",
            "gridcolor": "rgb(232,232,232)",
            "gridwidth": 2,
            "linecolor": "rgb(36,36,36)",
            "showbackground": true,
            "showgrid": false,
            "showline": true,
            "ticks": "outside",
            "zeroline": false,
            "zerolinecolor": "rgb(36,36,36)"
           }
          },
          "shapedefaults": {
           "fillcolor": "black",
           "line": {
            "width": 0
           },
           "opacity": 0.3
          },
          "ternary": {
           "aaxis": {
            "gridcolor": "rgb(232,232,232)",
            "linecolor": "rgb(36,36,36)",
            "showgrid": false,
            "showline": true,
            "ticks": "outside"
           },
           "baxis": {
            "gridcolor": "rgb(232,232,232)",
            "linecolor": "rgb(36,36,36)",
            "showgrid": false,
            "showline": true,
            "ticks": "outside"
           },
           "bgcolor": "white",
           "caxis": {
            "gridcolor": "rgb(232,232,232)",
            "linecolor": "rgb(36,36,36)",
            "showgrid": false,
            "showline": true,
            "ticks": "outside"
           }
          },
          "title": {
           "x": 0.05
          },
          "xaxis": {
           "automargin": true,
           "gridcolor": "rgb(232,232,232)",
           "linecolor": "rgb(36,36,36)",
           "showgrid": false,
           "showline": true,
           "ticks": "outside",
           "title": {
            "standoff": 15
           },
           "zeroline": false,
           "zerolinecolor": "rgb(36,36,36)"
          },
          "yaxis": {
           "automargin": true,
           "gridcolor": "rgb(232,232,232)",
           "linecolor": "rgb(36,36,36)",
           "showgrid": false,
           "showline": true,
           "ticks": "outside",
           "title": {
            "standoff": 15
           },
           "zeroline": false,
           "zerolinecolor": "rgb(36,36,36)"
          }
         }
        },
        "title": {
         "font": {
          "color": "Black",
          "size": 22
         },
         "text": "<b>Documents and Topics</b>",
         "x": 0.5,
         "xanchor": "center",
         "yanchor": "top"
        },
        "width": 1200,
        "xaxis": {
         "visible": false
        },
        "yaxis": {
         "visible": false
        }
       }
      }
     },
     "metadata": {},
     "output_type": "display_data"
    }
   ],
   "source": [
    "\n",
    "# Visualisierung nach Topic\n",
    "topic_model.visualize_documents(texts, topics=topics)"
   ]
  },
  {
   "cell_type": "markdown",
   "id": "c6986d07",
   "metadata": {},
   "source": [
    "#  Save"
   ]
  },
  {
   "cell_type": "code",
   "execution_count": 112,
   "id": "6a34bd1c",
   "metadata": {},
   "outputs": [],
   "source": [
    "df_clean.to_csv(RAW_DIR / \"social_media_data_with_topics.csv\")\n"
   ]
  },
  {
   "cell_type": "code",
   "execution_count": 113,
   "id": "1d57b1b3",
   "metadata": {},
   "outputs": [
    {
     "data": {
      "text/html": [
       "<div>\n",
       "<style scoped>\n",
       "    .dataframe tbody tr th:only-of-type {\n",
       "        vertical-align: middle;\n",
       "    }\n",
       "\n",
       "    .dataframe tbody tr th {\n",
       "        vertical-align: top;\n",
       "    }\n",
       "\n",
       "    .dataframe thead th {\n",
       "        text-align: right;\n",
       "    }\n",
       "</style>\n",
       "<table border=\"1\" class=\"dataframe\">\n",
       "  <thead>\n",
       "    <tr style=\"text-align: right;\">\n",
       "      <th></th>\n",
       "      <th>source</th>\n",
       "      <th>id</th>\n",
       "      <th>title</th>\n",
       "      <th>text</th>\n",
       "      <th>username</th>\n",
       "      <th>likes</th>\n",
       "      <th>comments</th>\n",
       "      <th>shares</th>\n",
       "      <th>plays</th>\n",
       "      <th>timestamp</th>\n",
       "      <th>published_at</th>\n",
       "      <th>url</th>\n",
       "      <th>datetime</th>\n",
       "      <th>date</th>\n",
       "      <th>title_language</th>\n",
       "      <th>title_clean</th>\n",
       "      <th>title_char_count</th>\n",
       "      <th>title_word_count</th>\n",
       "      <th>title_uppercase_count</th>\n",
       "      <th>title_exclamation_count</th>\n",
       "      <th>title_question_count</th>\n",
       "      <th>title_emoji_count</th>\n",
       "      <th>title_mention_count</th>\n",
       "      <th>title_hashtag_count</th>\n",
       "      <th>title_avg_word_length</th>\n",
       "      <th>title_sentiment</th>\n",
       "      <th>title_sentiment_score</th>\n",
       "      <th>text_language</th>\n",
       "      <th>text_clean</th>\n",
       "      <th>text_char_count</th>\n",
       "      <th>text_word_count</th>\n",
       "      <th>text_uppercase_count</th>\n",
       "      <th>text_exclamation_count</th>\n",
       "      <th>text_question_count</th>\n",
       "      <th>text_emoji_count</th>\n",
       "      <th>text_mention_count</th>\n",
       "      <th>text_hashtag_count</th>\n",
       "      <th>text_avg_word_length</th>\n",
       "      <th>text_sentiment</th>\n",
       "      <th>text_sentiment_score</th>\n",
       "      <th>engagement_rate</th>\n",
       "      <th>hour</th>\n",
       "      <th>weekday</th>\n",
       "      <th>year</th>\n",
       "      <th>month</th>\n",
       "      <th>day_period</th>\n",
       "      <th>is_weekend</th>\n",
       "      <th>topic</th>\n",
       "      <th>vader_score</th>\n",
       "      <th>roberta_sentiment</th>\n",
       "    </tr>\n",
       "  </thead>\n",
       "  <tbody>\n",
       "    <tr>\n",
       "      <th>3</th>\n",
       "      <td>tiktok</td>\n",
       "      <td>7472584144510373125</td>\n",
       "      <td>NaN</td>\n",
       "      <td>i think it was a bad idea</td>\n",
       "      <td>maligoshik</td>\n",
       "      <td>0.463918</td>\n",
       "      <td>0.052621</td>\n",
       "      <td>0.276596</td>\n",
       "      <td>0.520049</td>\n",
       "      <td>2025-02-18 02:43:04+00:00</td>\n",
       "      <td>NaN</td>\n",
       "      <td>https://v16-webapp-prime.tiktok.com/video/tos/...</td>\n",
       "      <td>2025-02-18 02:43:04+00:00</td>\n",
       "      <td>2025-02-18</td>\n",
       "      <td>unknown</td>\n",
       "      <td>NaN</td>\n",
       "      <td>0.0</td>\n",
       "      <td>0.0</td>\n",
       "      <td>0.0</td>\n",
       "      <td>0.0</td>\n",
       "      <td>0.0</td>\n",
       "      <td>0.0</td>\n",
       "      <td>0.0</td>\n",
       "      <td>0.0</td>\n",
       "      <td>0.0</td>\n",
       "      <td>neutral</td>\n",
       "      <td>0.0</td>\n",
       "      <td>en</td>\n",
       "      <td>think bad idea</td>\n",
       "      <td>14.0</td>\n",
       "      <td>3.0</td>\n",
       "      <td>0.0</td>\n",
       "      <td>0.0</td>\n",
       "      <td>0.0</td>\n",
       "      <td>0.0</td>\n",
       "      <td>0.0</td>\n",
       "      <td>0.0</td>\n",
       "      <td>4.0</td>\n",
       "      <td>negative</td>\n",
       "      <td>-0.7</td>\n",
       "      <td>0.284582</td>\n",
       "      <td>NaN</td>\n",
       "      <td>NaN</td>\n",
       "      <td>NaN</td>\n",
       "      <td>NaN</td>\n",
       "      <td>NaN</td>\n",
       "      <td>False</td>\n",
       "      <td>3</td>\n",
       "      <td>-0.5423</td>\n",
       "      <td>LABEL_0</td>\n",
       "    </tr>\n",
       "    <tr>\n",
       "      <th>4</th>\n",
       "      <td>tiktok</td>\n",
       "      <td>7461927005689302280</td>\n",
       "      <td>NaN</td>\n",
       "      <td>welcome to the thanos world!! #squidgame #squi...</td>\n",
       "      <td>team_thanos_player230</td>\n",
       "      <td>0.006737</td>\n",
       "      <td>0.028503</td>\n",
       "      <td>0.002027</td>\n",
       "      <td>0.038248</td>\n",
       "      <td>2025-01-20 09:27:52+00:00</td>\n",
       "      <td>NaN</td>\n",
       "      <td>https://webapp-sg.tiktok.com/bf63b8aa40b9ff0ca...</td>\n",
       "      <td>2025-01-20 09:27:52+00:00</td>\n",
       "      <td>2025-01-20</td>\n",
       "      <td>unknown</td>\n",
       "      <td>NaN</td>\n",
       "      <td>0.0</td>\n",
       "      <td>0.0</td>\n",
       "      <td>0.0</td>\n",
       "      <td>0.0</td>\n",
       "      <td>0.0</td>\n",
       "      <td>0.0</td>\n",
       "      <td>0.0</td>\n",
       "      <td>0.0</td>\n",
       "      <td>0.0</td>\n",
       "      <td>neutral</td>\n",
       "      <td>0.0</td>\n",
       "      <td>en</td>\n",
       "      <td>welcome thanos world</td>\n",
       "      <td>20.0</td>\n",
       "      <td>3.0</td>\n",
       "      <td>0.0</td>\n",
       "      <td>0.0</td>\n",
       "      <td>0.0</td>\n",
       "      <td>0.0</td>\n",
       "      <td>0.0</td>\n",
       "      <td>0.0</td>\n",
       "      <td>6.0</td>\n",
       "      <td>positive</td>\n",
       "      <td>0.8</td>\n",
       "      <td>0.057531</td>\n",
       "      <td>NaN</td>\n",
       "      <td>NaN</td>\n",
       "      <td>NaN</td>\n",
       "      <td>NaN</td>\n",
       "      <td>NaN</td>\n",
       "      <td>False</td>\n",
       "      <td>-1</td>\n",
       "      <td>0.4588</td>\n",
       "      <td>LABEL_2</td>\n",
       "    </tr>\n",
       "    <tr>\n",
       "      <th>5</th>\n",
       "      <td>tiktok</td>\n",
       "      <td>7461757350492278048</td>\n",
       "      <td>NaN</td>\n",
       "      <td>This is a great goal 😳😭 @Fabio Andrés #golazo ...</td>\n",
       "      <td>risingballers</td>\n",
       "      <td>0.022387</td>\n",
       "      <td>0.012754</td>\n",
       "      <td>0.049234</td>\n",
       "      <td>0.033621</td>\n",
       "      <td>2025-01-19 22:29:34+00:00</td>\n",
       "      <td>NaN</td>\n",
       "      <td>https://v16-webapp-prime.tiktok.com/video/tos/...</td>\n",
       "      <td>2025-01-19 22:29:34+00:00</td>\n",
       "      <td>2025-01-19</td>\n",
       "      <td>unknown</td>\n",
       "      <td>NaN</td>\n",
       "      <td>0.0</td>\n",
       "      <td>0.0</td>\n",
       "      <td>0.0</td>\n",
       "      <td>0.0</td>\n",
       "      <td>0.0</td>\n",
       "      <td>0.0</td>\n",
       "      <td>0.0</td>\n",
       "      <td>0.0</td>\n",
       "      <td>0.0</td>\n",
       "      <td>neutral</td>\n",
       "      <td>0.0</td>\n",
       "      <td>en</td>\n",
       "      <td>great goal andrés</td>\n",
       "      <td>17.0</td>\n",
       "      <td>3.0</td>\n",
       "      <td>0.0</td>\n",
       "      <td>0.0</td>\n",
       "      <td>0.0</td>\n",
       "      <td>0.0</td>\n",
       "      <td>0.0</td>\n",
       "      <td>0.0</td>\n",
       "      <td>5.0</td>\n",
       "      <td>positive</td>\n",
       "      <td>0.8</td>\n",
       "      <td>0.213120</td>\n",
       "      <td>NaN</td>\n",
       "      <td>NaN</td>\n",
       "      <td>NaN</td>\n",
       "      <td>NaN</td>\n",
       "      <td>NaN</td>\n",
       "      <td>False</td>\n",
       "      <td>13</td>\n",
       "      <td>0.6249</td>\n",
       "      <td>LABEL_2</td>\n",
       "    </tr>\n",
       "    <tr>\n",
       "      <th>6</th>\n",
       "      <td>tiktok</td>\n",
       "      <td>7462429961345879318</td>\n",
       "      <td>NaN</td>\n",
       "      <td>glaube er hatte nicht so bock auf mich..💀 #for...</td>\n",
       "      <td>allroundii</td>\n",
       "      <td>0.017598</td>\n",
       "      <td>0.015076</td>\n",
       "      <td>0.035149</td>\n",
       "      <td>0.031462</td>\n",
       "      <td>2025-01-21 17:59:37+00:00</td>\n",
       "      <td>NaN</td>\n",
       "      <td>NaN</td>\n",
       "      <td>2025-01-21 17:59:37+00:00</td>\n",
       "      <td>2025-01-21</td>\n",
       "      <td>unknown</td>\n",
       "      <td>NaN</td>\n",
       "      <td>0.0</td>\n",
       "      <td>0.0</td>\n",
       "      <td>0.0</td>\n",
       "      <td>0.0</td>\n",
       "      <td>0.0</td>\n",
       "      <td>0.0</td>\n",
       "      <td>0.0</td>\n",
       "      <td>0.0</td>\n",
       "      <td>0.0</td>\n",
       "      <td>neutral</td>\n",
       "      <td>0.0</td>\n",
       "      <td>de</td>\n",
       "      <td>glaube bock</td>\n",
       "      <td>11.0</td>\n",
       "      <td>2.0</td>\n",
       "      <td>0.0</td>\n",
       "      <td>0.0</td>\n",
       "      <td>0.0</td>\n",
       "      <td>0.0</td>\n",
       "      <td>0.0</td>\n",
       "      <td>0.0</td>\n",
       "      <td>5.0</td>\n",
       "      <td>neutral</td>\n",
       "      <td>0.0</td>\n",
       "      <td>0.179356</td>\n",
       "      <td>NaN</td>\n",
       "      <td>NaN</td>\n",
       "      <td>NaN</td>\n",
       "      <td>NaN</td>\n",
       "      <td>NaN</td>\n",
       "      <td>False</td>\n",
       "      <td>1</td>\n",
       "      <td>0.0000</td>\n",
       "      <td>LABEL_1</td>\n",
       "    </tr>\n",
       "    <tr>\n",
       "      <th>7</th>\n",
       "      <td>tiktok</td>\n",
       "      <td>7483193151004445974</td>\n",
       "      <td>NaN</td>\n",
       "      <td>#CapCut Speedquiz 🤯🧠✅️ #fyp #viral_video #quiz...</td>\n",
       "      <td>brainyy.quiz</td>\n",
       "      <td>0.000719</td>\n",
       "      <td>0.016347</td>\n",
       "      <td>0.004191</td>\n",
       "      <td>0.003393</td>\n",
       "      <td>2025-03-18 16:51:23+00:00</td>\n",
       "      <td>NaN</td>\n",
       "      <td>NaN</td>\n",
       "      <td>2025-03-18 16:51:23+00:00</td>\n",
       "      <td>2025-03-18</td>\n",
       "      <td>unknown</td>\n",
       "      <td>NaN</td>\n",
       "      <td>0.0</td>\n",
       "      <td>0.0</td>\n",
       "      <td>0.0</td>\n",
       "      <td>0.0</td>\n",
       "      <td>0.0</td>\n",
       "      <td>0.0</td>\n",
       "      <td>0.0</td>\n",
       "      <td>0.0</td>\n",
       "      <td>0.0</td>\n",
       "      <td>neutral</td>\n",
       "      <td>0.0</td>\n",
       "      <td>nl</td>\n",
       "      <td>speedquiz</td>\n",
       "      <td>9.0</td>\n",
       "      <td>1.0</td>\n",
       "      <td>0.0</td>\n",
       "      <td>0.0</td>\n",
       "      <td>0.0</td>\n",
       "      <td>0.0</td>\n",
       "      <td>0.0</td>\n",
       "      <td>0.0</td>\n",
       "      <td>9.0</td>\n",
       "      <td>neutral</td>\n",
       "      <td>0.0</td>\n",
       "      <td>0.084348</td>\n",
       "      <td>NaN</td>\n",
       "      <td>NaN</td>\n",
       "      <td>NaN</td>\n",
       "      <td>NaN</td>\n",
       "      <td>NaN</td>\n",
       "      <td>False</td>\n",
       "      <td>-1</td>\n",
       "      <td>0.0000</td>\n",
       "      <td>LABEL_1</td>\n",
       "    </tr>\n",
       "  </tbody>\n",
       "</table>\n",
       "</div>"
      ],
      "text/plain": [
       "   source                   id title  \\\n",
       "3  tiktok  7472584144510373125   NaN   \n",
       "4  tiktok  7461927005689302280   NaN   \n",
       "5  tiktok  7461757350492278048   NaN   \n",
       "6  tiktok  7462429961345879318   NaN   \n",
       "7  tiktok  7483193151004445974   NaN   \n",
       "\n",
       "                                                text               username  \\\n",
       "3                          i think it was a bad idea             maligoshik   \n",
       "4  welcome to the thanos world!! #squidgame #squi...  team_thanos_player230   \n",
       "5  This is a great goal 😳😭 @Fabio Andrés #golazo ...          risingballers   \n",
       "6  glaube er hatte nicht so bock auf mich..💀 #for...             allroundii   \n",
       "7  #CapCut Speedquiz 🤯🧠✅️ #fyp #viral_video #quiz...           brainyy.quiz   \n",
       "\n",
       "      likes  comments    shares     plays                 timestamp  \\\n",
       "3  0.463918  0.052621  0.276596  0.520049 2025-02-18 02:43:04+00:00   \n",
       "4  0.006737  0.028503  0.002027  0.038248 2025-01-20 09:27:52+00:00   \n",
       "5  0.022387  0.012754  0.049234  0.033621 2025-01-19 22:29:34+00:00   \n",
       "6  0.017598  0.015076  0.035149  0.031462 2025-01-21 17:59:37+00:00   \n",
       "7  0.000719  0.016347  0.004191  0.003393 2025-03-18 16:51:23+00:00   \n",
       "\n",
       "  published_at                                                url  \\\n",
       "3          NaN  https://v16-webapp-prime.tiktok.com/video/tos/...   \n",
       "4          NaN  https://webapp-sg.tiktok.com/bf63b8aa40b9ff0ca...   \n",
       "5          NaN  https://v16-webapp-prime.tiktok.com/video/tos/...   \n",
       "6          NaN                                                NaN   \n",
       "7          NaN                                                NaN   \n",
       "\n",
       "                    datetime        date title_language title_clean  \\\n",
       "3  2025-02-18 02:43:04+00:00  2025-02-18        unknown         NaN   \n",
       "4  2025-01-20 09:27:52+00:00  2025-01-20        unknown         NaN   \n",
       "5  2025-01-19 22:29:34+00:00  2025-01-19        unknown         NaN   \n",
       "6  2025-01-21 17:59:37+00:00  2025-01-21        unknown         NaN   \n",
       "7  2025-03-18 16:51:23+00:00  2025-03-18        unknown         NaN   \n",
       "\n",
       "   title_char_count  title_word_count  title_uppercase_count  \\\n",
       "3               0.0               0.0                    0.0   \n",
       "4               0.0               0.0                    0.0   \n",
       "5               0.0               0.0                    0.0   \n",
       "6               0.0               0.0                    0.0   \n",
       "7               0.0               0.0                    0.0   \n",
       "\n",
       "   title_exclamation_count  title_question_count  title_emoji_count  \\\n",
       "3                      0.0                   0.0                0.0   \n",
       "4                      0.0                   0.0                0.0   \n",
       "5                      0.0                   0.0                0.0   \n",
       "6                      0.0                   0.0                0.0   \n",
       "7                      0.0                   0.0                0.0   \n",
       "\n",
       "   title_mention_count  title_hashtag_count  title_avg_word_length  \\\n",
       "3                  0.0                  0.0                    0.0   \n",
       "4                  0.0                  0.0                    0.0   \n",
       "5                  0.0                  0.0                    0.0   \n",
       "6                  0.0                  0.0                    0.0   \n",
       "7                  0.0                  0.0                    0.0   \n",
       "\n",
       "  title_sentiment  title_sentiment_score text_language            text_clean  \\\n",
       "3         neutral                    0.0            en        think bad idea   \n",
       "4         neutral                    0.0            en  welcome thanos world   \n",
       "5         neutral                    0.0            en     great goal andrés   \n",
       "6         neutral                    0.0            de           glaube bock   \n",
       "7         neutral                    0.0            nl             speedquiz   \n",
       "\n",
       "   text_char_count  text_word_count  text_uppercase_count  \\\n",
       "3             14.0              3.0                   0.0   \n",
       "4             20.0              3.0                   0.0   \n",
       "5             17.0              3.0                   0.0   \n",
       "6             11.0              2.0                   0.0   \n",
       "7              9.0              1.0                   0.0   \n",
       "\n",
       "   text_exclamation_count  text_question_count  text_emoji_count  \\\n",
       "3                     0.0                  0.0               0.0   \n",
       "4                     0.0                  0.0               0.0   \n",
       "5                     0.0                  0.0               0.0   \n",
       "6                     0.0                  0.0               0.0   \n",
       "7                     0.0                  0.0               0.0   \n",
       "\n",
       "   text_mention_count  text_hashtag_count  text_avg_word_length  \\\n",
       "3                 0.0                 0.0                   4.0   \n",
       "4                 0.0                 0.0                   6.0   \n",
       "5                 0.0                 0.0                   5.0   \n",
       "6                 0.0                 0.0                   5.0   \n",
       "7                 0.0                 0.0                   9.0   \n",
       "\n",
       "  text_sentiment  text_sentiment_score  engagement_rate  hour weekday  year  \\\n",
       "3       negative                  -0.7         0.284582   NaN     NaN   NaN   \n",
       "4       positive                   0.8         0.057531   NaN     NaN   NaN   \n",
       "5       positive                   0.8         0.213120   NaN     NaN   NaN   \n",
       "6        neutral                   0.0         0.179356   NaN     NaN   NaN   \n",
       "7        neutral                   0.0         0.084348   NaN     NaN   NaN   \n",
       "\n",
       "   month day_period  is_weekend  topic  vader_score roberta_sentiment  \n",
       "3    NaN        NaN       False      3      -0.5423           LABEL_0  \n",
       "4    NaN        NaN       False     -1       0.4588           LABEL_2  \n",
       "5    NaN        NaN       False     13       0.6249           LABEL_2  \n",
       "6    NaN        NaN       False      1       0.0000           LABEL_1  \n",
       "7    NaN        NaN       False     -1       0.0000           LABEL_1  "
      ]
     },
     "execution_count": 113,
     "metadata": {},
     "output_type": "execute_result"
    }
   ],
   "source": [
    "df_clean.head()"
   ]
  }
 ],
 "metadata": {
  "kernelspec": {
   "display_name": "venv",
   "language": "python",
   "name": "python3"
  },
  "language_info": {
   "codemirror_mode": {
    "name": "ipython",
    "version": 3
   },
   "file_extension": ".py",
   "mimetype": "text/x-python",
   "name": "python",
   "nbconvert_exporter": "python",
   "pygments_lexer": "ipython3",
   "version": "3.10.0"
  }
 },
 "nbformat": 4,
 "nbformat_minor": 5
}
