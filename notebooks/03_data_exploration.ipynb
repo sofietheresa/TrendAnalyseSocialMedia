{
 "cells": [
  {
   "cell_type": "markdown",
   "id": "556bf447",
   "metadata": {},
   "source": [
    "<div style=\"text-align: center; font-size: 16px;\">\n",
    "    <strong>Course:</strong> Machine Learning Operations |\n",
    "    <strong>Lecturer:</strong> Prof. Dr. Klotz |\n",
    "    <strong>Date:</strong> 17.05.2025 |\n",
    "    <strong>Name:</strong> Sofie Pischl\n",
    "</div>\n",
    "\n",
    "# <center> Data Exploration </center>"
   ]
  },
  {
   "cell_type": "markdown",
   "id": "60106afd",
   "metadata": {},
   "source": [
    "# Inhaltsverzeichnis\n",
    "1. [Einleitung](#Einleitung)\n",
    "2. [Datenvorbereitung](#Datenvorbereitung)\n",
    "3. [Fortgeschrittenes Topic Modelling mit BERTopic](#Fortgeschrittenes-Topic-Modelling-mit-BERTopic)\n",
    "4. [Verbesserte Sentiment-Analyse](#Verbesserte-Sentiment-Analyse)\n",
    "5. [Zeitliche Analyse der Topics](#Zeitliche-Analyse-der-Topics)\n",
    "6. [UMAP-Visualisierung der Topics](#UMAP-Visualisierung-der-Topics)\n",
    "7. [Vorbereitung auf Klassifikation](#Vorbereitung-auf-Klassifikation)\n"
   ]
  },
  {
   "cell_type": "markdown",
   "id": "c296d7f0",
   "metadata": {},
   "source": [
    "## Einleitung\n",
    "Dieses Notebook untersucht kombinierte Social-Media-Daten aus Reddit, YouTube und TikTok. Ziel ist es, Muster in Themen und Stimmungen zu erkennen und die Daten für eine spätere Klassifikation vorzubereiten. Wir verwenden moderne Methoden wie **BERTopic**, **Transformer-basierte Sentimentanalyse** und **visuelle Embedding-Cluster**.\n",
    "\n",
    "In diesem Notebook bauen wir auf der bisherigen Datenexploration auf und ergänzen folgende moderne Verfahren:\n",
    "\n",
    "1. **Fortgeschrittenes Topic Modelling mit BERTopic**\n",
    "2. **Verbesserte Sentiment-Analyse mit VADER und Transformer-Modell**\n",
    "3. **Detaillierte Exploration von Text-Clustern und Zeitreihen**\n",
    "4. **Vorbereitung für Klassifikation und Vorhersagemodelle**\n",
    "\n",
    "Jede Methode wird durch beschreibenden Text begleitet und in das bestehende Datenformat integriert."
   ]
  },
  {
   "cell_type": "markdown",
   "id": "e83736c9",
   "metadata": {},
   "source": [
    "## Datenvorbereitung\n",
    "Wir laden die vorverarbeiteten Daten, konvertieren Zeitstempel und bereiten die Texte für die Analyse vor."
   ]
  },
  {
   "cell_type": "code",
   "execution_count": 65,
   "id": "4294c84e",
   "metadata": {},
   "outputs": [],
   "source": [
    "import pandas as pd\n",
    "pd.set_option('display.max_columns', 1000)\n",
    "from sklearn.feature_extraction.text import CountVectorizer\n",
    "from sklearn.decomposition import LatentDirichletAllocation\n",
    "import matplotlib.pyplot as plt\n",
    "import nltk\n",
    "from pathlib import Path"
   ]
  },
  {
   "cell_type": "code",
   "execution_count": 66,
   "id": "54454930",
   "metadata": {},
   "outputs": [
    {
     "data": {
      "text/html": [
       "<div>\n",
       "<style scoped>\n",
       "    .dataframe tbody tr th:only-of-type {\n",
       "        vertical-align: middle;\n",
       "    }\n",
       "\n",
       "    .dataframe tbody tr th {\n",
       "        vertical-align: top;\n",
       "    }\n",
       "\n",
       "    .dataframe thead th {\n",
       "        text-align: right;\n",
       "    }\n",
       "</style>\n",
       "<table border=\"1\" class=\"dataframe\">\n",
       "  <thead>\n",
       "    <tr style=\"text-align: right;\">\n",
       "      <th></th>\n",
       "      <th>source</th>\n",
       "      <th>id</th>\n",
       "      <th>title</th>\n",
       "      <th>text</th>\n",
       "      <th>username</th>\n",
       "      <th>likes</th>\n",
       "      <th>comments</th>\n",
       "      <th>shares</th>\n",
       "      <th>plays</th>\n",
       "      <th>timestamp</th>\n",
       "      <th>published_at</th>\n",
       "      <th>url</th>\n",
       "      <th>datetime</th>\n",
       "      <th>date</th>\n",
       "      <th>title_language</th>\n",
       "      <th>title_clean</th>\n",
       "      <th>title_char_count</th>\n",
       "      <th>title_word_count</th>\n",
       "      <th>title_uppercase_count</th>\n",
       "      <th>title_exclamation_count</th>\n",
       "      <th>title_question_count</th>\n",
       "      <th>title_emoji_count</th>\n",
       "      <th>title_mention_count</th>\n",
       "      <th>title_hashtag_count</th>\n",
       "      <th>title_avg_word_length</th>\n",
       "      <th>title_sentiment</th>\n",
       "      <th>title_sentiment_score</th>\n",
       "      <th>text_language</th>\n",
       "      <th>text_clean</th>\n",
       "      <th>text_char_count</th>\n",
       "      <th>text_word_count</th>\n",
       "      <th>text_uppercase_count</th>\n",
       "      <th>text_exclamation_count</th>\n",
       "      <th>text_question_count</th>\n",
       "      <th>text_emoji_count</th>\n",
       "      <th>text_mention_count</th>\n",
       "      <th>text_hashtag_count</th>\n",
       "      <th>text_avg_word_length</th>\n",
       "      <th>text_sentiment</th>\n",
       "      <th>text_sentiment_score</th>\n",
       "      <th>engagement_rate</th>\n",
       "      <th>hour</th>\n",
       "      <th>weekday</th>\n",
       "      <th>year</th>\n",
       "      <th>month</th>\n",
       "      <th>day_period</th>\n",
       "      <th>is_weekend</th>\n",
       "    </tr>\n",
       "  </thead>\n",
       "  <tbody>\n",
       "    <tr>\n",
       "      <th>0</th>\n",
       "      <td>tiktok</td>\n",
       "      <td>7493469801654881542</td>\n",
       "      <td>NaN</td>\n",
       "      <td>#vairalvideo_foryoupage  #🇦🇫ازبک_تاجک_پشتون_تر...</td>\n",
       "      <td>afgcap.cut</td>\n",
       "      <td>0.000407</td>\n",
       "      <td>0.000566</td>\n",
       "      <td>0.000096</td>\n",
       "      <td>0.001126</td>\n",
       "      <td>2025-04-15 09:30:06+00:00</td>\n",
       "      <td>NaN</td>\n",
       "      <td>https://v16-webapp-prime.tiktok.com/video/tos/...</td>\n",
       "      <td>2025-04-15 09:30:06+00:00</td>\n",
       "      <td>2025-04-15</td>\n",
       "      <td>unknown</td>\n",
       "      <td>NaN</td>\n",
       "      <td>0.0</td>\n",
       "      <td>0.0</td>\n",
       "      <td>0.0</td>\n",
       "      <td>0.0</td>\n",
       "      <td>0.0</td>\n",
       "      <td>0.0</td>\n",
       "      <td>0.0</td>\n",
       "      <td>0.0</td>\n",
       "      <td>0.0</td>\n",
       "      <td>neutral</td>\n",
       "      <td>0.0</td>\n",
       "      <td>unknown</td>\n",
       "      <td>NaN</td>\n",
       "      <td>0.0</td>\n",
       "      <td>0.0</td>\n",
       "      <td>0.0</td>\n",
       "      <td>0.0</td>\n",
       "      <td>0.0</td>\n",
       "      <td>0.0</td>\n",
       "      <td>0.0</td>\n",
       "      <td>0.0</td>\n",
       "      <td>0.0</td>\n",
       "      <td>neutral</td>\n",
       "      <td>0.0</td>\n",
       "      <td>0.116029</td>\n",
       "      <td>NaN</td>\n",
       "      <td>NaN</td>\n",
       "      <td>NaN</td>\n",
       "      <td>NaN</td>\n",
       "      <td>NaN</td>\n",
       "      <td>False</td>\n",
       "    </tr>\n",
       "    <tr>\n",
       "      <th>1</th>\n",
       "      <td>tiktok</td>\n",
       "      <td>7489427780397010198</td>\n",
       "      <td>NaN</td>\n",
       "      <td>#imapoliceofficer #tensheet #foryou #viral #fy...</td>\n",
       "      <td>backwheelbandit69</td>\n",
       "      <td>0.110825</td>\n",
       "      <td>0.024776</td>\n",
       "      <td>0.064638</td>\n",
       "      <td>0.129241</td>\n",
       "      <td>2025-04-04 12:04:57+00:00</td>\n",
       "      <td>NaN</td>\n",
       "      <td>https://v16-webapp-prime.tiktok.com/video/tos/...</td>\n",
       "      <td>2025-04-04 12:04:57+00:00</td>\n",
       "      <td>2025-04-04</td>\n",
       "      <td>unknown</td>\n",
       "      <td>NaN</td>\n",
       "      <td>0.0</td>\n",
       "      <td>0.0</td>\n",
       "      <td>0.0</td>\n",
       "      <td>0.0</td>\n",
       "      <td>0.0</td>\n",
       "      <td>0.0</td>\n",
       "      <td>0.0</td>\n",
       "      <td>0.0</td>\n",
       "      <td>0.0</td>\n",
       "      <td>neutral</td>\n",
       "      <td>0.0</td>\n",
       "      <td>unknown</td>\n",
       "      <td>NaN</td>\n",
       "      <td>0.0</td>\n",
       "      <td>0.0</td>\n",
       "      <td>0.0</td>\n",
       "      <td>0.0</td>\n",
       "      <td>0.0</td>\n",
       "      <td>0.0</td>\n",
       "      <td>0.0</td>\n",
       "      <td>0.0</td>\n",
       "      <td>0.0</td>\n",
       "      <td>neutral</td>\n",
       "      <td>0.0</td>\n",
       "      <td>0.273845</td>\n",
       "      <td>NaN</td>\n",
       "      <td>NaN</td>\n",
       "      <td>NaN</td>\n",
       "      <td>NaN</td>\n",
       "      <td>NaN</td>\n",
       "      <td>False</td>\n",
       "    </tr>\n",
       "    <tr>\n",
       "      <th>2</th>\n",
       "      <td>tiktok</td>\n",
       "      <td>7492000423641959685</td>\n",
       "      <td>NaN</td>\n",
       "      <td>#CapCut #قوالب_كاب_كات_جاهزه_للتصميم__🌴♥ #كاب_...</td>\n",
       "      <td>noordeen_cap_cat_0_1</td>\n",
       "      <td>0.001505</td>\n",
       "      <td>0.000989</td>\n",
       "      <td>0.000335</td>\n",
       "      <td>0.004010</td>\n",
       "      <td>2025-04-11 10:28:10+00:00</td>\n",
       "      <td>NaN</td>\n",
       "      <td>https://v16-webapp-prime.tiktok.com/video/tos/...</td>\n",
       "      <td>2025-04-11 10:28:10+00:00</td>\n",
       "      <td>2025-04-11</td>\n",
       "      <td>unknown</td>\n",
       "      <td>NaN</td>\n",
       "      <td>0.0</td>\n",
       "      <td>0.0</td>\n",
       "      <td>0.0</td>\n",
       "      <td>0.0</td>\n",
       "      <td>0.0</td>\n",
       "      <td>0.0</td>\n",
       "      <td>0.0</td>\n",
       "      <td>0.0</td>\n",
       "      <td>0.0</td>\n",
       "      <td>neutral</td>\n",
       "      <td>0.0</td>\n",
       "      <td>unknown</td>\n",
       "      <td>NaN</td>\n",
       "      <td>0.0</td>\n",
       "      <td>0.0</td>\n",
       "      <td>0.0</td>\n",
       "      <td>0.0</td>\n",
       "      <td>0.0</td>\n",
       "      <td>0.0</td>\n",
       "      <td>0.0</td>\n",
       "      <td>0.0</td>\n",
       "      <td>0.0</td>\n",
       "      <td>neutral</td>\n",
       "      <td>0.0</td>\n",
       "      <td>0.119509</td>\n",
       "      <td>NaN</td>\n",
       "      <td>NaN</td>\n",
       "      <td>NaN</td>\n",
       "      <td>NaN</td>\n",
       "      <td>NaN</td>\n",
       "      <td>False</td>\n",
       "    </tr>\n",
       "    <tr>\n",
       "      <th>3</th>\n",
       "      <td>tiktok</td>\n",
       "      <td>7472584144510373125</td>\n",
       "      <td>NaN</td>\n",
       "      <td>i think it was a bad idea</td>\n",
       "      <td>maligoshik</td>\n",
       "      <td>0.463918</td>\n",
       "      <td>0.052621</td>\n",
       "      <td>0.276596</td>\n",
       "      <td>0.520049</td>\n",
       "      <td>2025-02-18 02:43:04+00:00</td>\n",
       "      <td>NaN</td>\n",
       "      <td>https://v16-webapp-prime.tiktok.com/video/tos/...</td>\n",
       "      <td>2025-02-18 02:43:04+00:00</td>\n",
       "      <td>2025-02-18</td>\n",
       "      <td>unknown</td>\n",
       "      <td>NaN</td>\n",
       "      <td>0.0</td>\n",
       "      <td>0.0</td>\n",
       "      <td>0.0</td>\n",
       "      <td>0.0</td>\n",
       "      <td>0.0</td>\n",
       "      <td>0.0</td>\n",
       "      <td>0.0</td>\n",
       "      <td>0.0</td>\n",
       "      <td>0.0</td>\n",
       "      <td>neutral</td>\n",
       "      <td>0.0</td>\n",
       "      <td>en</td>\n",
       "      <td>think bad idea</td>\n",
       "      <td>14.0</td>\n",
       "      <td>3.0</td>\n",
       "      <td>0.0</td>\n",
       "      <td>0.0</td>\n",
       "      <td>0.0</td>\n",
       "      <td>0.0</td>\n",
       "      <td>0.0</td>\n",
       "      <td>0.0</td>\n",
       "      <td>4.0</td>\n",
       "      <td>negative</td>\n",
       "      <td>-0.7</td>\n",
       "      <td>0.284582</td>\n",
       "      <td>NaN</td>\n",
       "      <td>NaN</td>\n",
       "      <td>NaN</td>\n",
       "      <td>NaN</td>\n",
       "      <td>NaN</td>\n",
       "      <td>False</td>\n",
       "    </tr>\n",
       "    <tr>\n",
       "      <th>4</th>\n",
       "      <td>tiktok</td>\n",
       "      <td>7461927005689302280</td>\n",
       "      <td>NaN</td>\n",
       "      <td>welcome to the thanos world!! #squidgame #squi...</td>\n",
       "      <td>team_thanos_player230</td>\n",
       "      <td>0.006737</td>\n",
       "      <td>0.028503</td>\n",
       "      <td>0.002027</td>\n",
       "      <td>0.038248</td>\n",
       "      <td>2025-01-20 09:27:52+00:00</td>\n",
       "      <td>NaN</td>\n",
       "      <td>https://webapp-sg.tiktok.com/bf63b8aa40b9ff0ca...</td>\n",
       "      <td>2025-01-20 09:27:52+00:00</td>\n",
       "      <td>2025-01-20</td>\n",
       "      <td>unknown</td>\n",
       "      <td>NaN</td>\n",
       "      <td>0.0</td>\n",
       "      <td>0.0</td>\n",
       "      <td>0.0</td>\n",
       "      <td>0.0</td>\n",
       "      <td>0.0</td>\n",
       "      <td>0.0</td>\n",
       "      <td>0.0</td>\n",
       "      <td>0.0</td>\n",
       "      <td>0.0</td>\n",
       "      <td>neutral</td>\n",
       "      <td>0.0</td>\n",
       "      <td>en</td>\n",
       "      <td>welcome thanos world</td>\n",
       "      <td>20.0</td>\n",
       "      <td>3.0</td>\n",
       "      <td>0.0</td>\n",
       "      <td>0.0</td>\n",
       "      <td>0.0</td>\n",
       "      <td>0.0</td>\n",
       "      <td>0.0</td>\n",
       "      <td>0.0</td>\n",
       "      <td>6.0</td>\n",
       "      <td>positive</td>\n",
       "      <td>0.8</td>\n",
       "      <td>0.057531</td>\n",
       "      <td>NaN</td>\n",
       "      <td>NaN</td>\n",
       "      <td>NaN</td>\n",
       "      <td>NaN</td>\n",
       "      <td>NaN</td>\n",
       "      <td>False</td>\n",
       "    </tr>\n",
       "  </tbody>\n",
       "</table>\n",
       "</div>"
      ],
      "text/plain": [
       "   source                   id title  \\\n",
       "0  tiktok  7493469801654881542   NaN   \n",
       "1  tiktok  7489427780397010198   NaN   \n",
       "2  tiktok  7492000423641959685   NaN   \n",
       "3  tiktok  7472584144510373125   NaN   \n",
       "4  tiktok  7461927005689302280   NaN   \n",
       "\n",
       "                                                text               username  \\\n",
       "0  #vairalvideo_foryoupage  #🇦🇫ازبک_تاجک_پشتون_تر...             afgcap.cut   \n",
       "1  #imapoliceofficer #tensheet #foryou #viral #fy...      backwheelbandit69   \n",
       "2  #CapCut #قوالب_كاب_كات_جاهزه_للتصميم__🌴♥ #كاب_...   noordeen_cap_cat_0_1   \n",
       "3                          i think it was a bad idea             maligoshik   \n",
       "4  welcome to the thanos world!! #squidgame #squi...  team_thanos_player230   \n",
       "\n",
       "      likes  comments    shares     plays                  timestamp  \\\n",
       "0  0.000407  0.000566  0.000096  0.001126  2025-04-15 09:30:06+00:00   \n",
       "1  0.110825  0.024776  0.064638  0.129241  2025-04-04 12:04:57+00:00   \n",
       "2  0.001505  0.000989  0.000335  0.004010  2025-04-11 10:28:10+00:00   \n",
       "3  0.463918  0.052621  0.276596  0.520049  2025-02-18 02:43:04+00:00   \n",
       "4  0.006737  0.028503  0.002027  0.038248  2025-01-20 09:27:52+00:00   \n",
       "\n",
       "  published_at                                                url  \\\n",
       "0          NaN  https://v16-webapp-prime.tiktok.com/video/tos/...   \n",
       "1          NaN  https://v16-webapp-prime.tiktok.com/video/tos/...   \n",
       "2          NaN  https://v16-webapp-prime.tiktok.com/video/tos/...   \n",
       "3          NaN  https://v16-webapp-prime.tiktok.com/video/tos/...   \n",
       "4          NaN  https://webapp-sg.tiktok.com/bf63b8aa40b9ff0ca...   \n",
       "\n",
       "                    datetime        date title_language title_clean  \\\n",
       "0  2025-04-15 09:30:06+00:00  2025-04-15        unknown         NaN   \n",
       "1  2025-04-04 12:04:57+00:00  2025-04-04        unknown         NaN   \n",
       "2  2025-04-11 10:28:10+00:00  2025-04-11        unknown         NaN   \n",
       "3  2025-02-18 02:43:04+00:00  2025-02-18        unknown         NaN   \n",
       "4  2025-01-20 09:27:52+00:00  2025-01-20        unknown         NaN   \n",
       "\n",
       "   title_char_count  title_word_count  title_uppercase_count  \\\n",
       "0               0.0               0.0                    0.0   \n",
       "1               0.0               0.0                    0.0   \n",
       "2               0.0               0.0                    0.0   \n",
       "3               0.0               0.0                    0.0   \n",
       "4               0.0               0.0                    0.0   \n",
       "\n",
       "   title_exclamation_count  title_question_count  title_emoji_count  \\\n",
       "0                      0.0                   0.0                0.0   \n",
       "1                      0.0                   0.0                0.0   \n",
       "2                      0.0                   0.0                0.0   \n",
       "3                      0.0                   0.0                0.0   \n",
       "4                      0.0                   0.0                0.0   \n",
       "\n",
       "   title_mention_count  title_hashtag_count  title_avg_word_length  \\\n",
       "0                  0.0                  0.0                    0.0   \n",
       "1                  0.0                  0.0                    0.0   \n",
       "2                  0.0                  0.0                    0.0   \n",
       "3                  0.0                  0.0                    0.0   \n",
       "4                  0.0                  0.0                    0.0   \n",
       "\n",
       "  title_sentiment  title_sentiment_score text_language            text_clean  \\\n",
       "0         neutral                    0.0       unknown                   NaN   \n",
       "1         neutral                    0.0       unknown                   NaN   \n",
       "2         neutral                    0.0       unknown                   NaN   \n",
       "3         neutral                    0.0            en        think bad idea   \n",
       "4         neutral                    0.0            en  welcome thanos world   \n",
       "\n",
       "   text_char_count  text_word_count  text_uppercase_count  \\\n",
       "0              0.0              0.0                   0.0   \n",
       "1              0.0              0.0                   0.0   \n",
       "2              0.0              0.0                   0.0   \n",
       "3             14.0              3.0                   0.0   \n",
       "4             20.0              3.0                   0.0   \n",
       "\n",
       "   text_exclamation_count  text_question_count  text_emoji_count  \\\n",
       "0                     0.0                  0.0               0.0   \n",
       "1                     0.0                  0.0               0.0   \n",
       "2                     0.0                  0.0               0.0   \n",
       "3                     0.0                  0.0               0.0   \n",
       "4                     0.0                  0.0               0.0   \n",
       "\n",
       "   text_mention_count  text_hashtag_count  text_avg_word_length  \\\n",
       "0                 0.0                 0.0                   0.0   \n",
       "1                 0.0                 0.0                   0.0   \n",
       "2                 0.0                 0.0                   0.0   \n",
       "3                 0.0                 0.0                   4.0   \n",
       "4                 0.0                 0.0                   6.0   \n",
       "\n",
       "  text_sentiment  text_sentiment_score  engagement_rate  hour weekday  year  \\\n",
       "0        neutral                   0.0         0.116029   NaN     NaN   NaN   \n",
       "1        neutral                   0.0         0.273845   NaN     NaN   NaN   \n",
       "2        neutral                   0.0         0.119509   NaN     NaN   NaN   \n",
       "3       negative                  -0.7         0.284582   NaN     NaN   NaN   \n",
       "4       positive                   0.8         0.057531   NaN     NaN   NaN   \n",
       "\n",
       "   month day_period  is_weekend  \n",
       "0    NaN        NaN       False  \n",
       "1    NaN        NaN       False  \n",
       "2    NaN        NaN       False  \n",
       "3    NaN        NaN       False  \n",
       "4    NaN        NaN       False  "
      ]
     },
     "metadata": {},
     "output_type": "display_data"
    },
    {
     "name": "stdout",
     "output_type": "stream",
     "text": [
      "<class 'pandas.core.frame.DataFrame'>\n",
      "RangeIndex: 1728 entries, 0 to 1727\n",
      "Data columns (total 47 columns):\n",
      " #   Column                   Non-Null Count  Dtype  \n",
      "---  ------                   --------------  -----  \n",
      " 0   source                   1728 non-null   object \n",
      " 1   id                       1728 non-null   object \n",
      " 2   title                    646 non-null    object \n",
      " 3   text                     1727 non-null   object \n",
      " 4   username                 1398 non-null   object \n",
      " 5   likes                    1728 non-null   float64\n",
      " 6   comments                 1728 non-null   float64\n",
      " 7   shares                   1728 non-null   float64\n",
      " 8   plays                    1728 non-null   float64\n",
      " 9   timestamp                1560 non-null   object \n",
      " 10  published_at             645 non-null    object \n",
      " 11  url                      1304 non-null   object \n",
      " 12  datetime                 1726 non-null   object \n",
      " 13  date                     1726 non-null   object \n",
      " 14  title_language           1728 non-null   object \n",
      " 15  title_clean              645 non-null    object \n",
      " 16  title_char_count         1728 non-null   float64\n",
      " 17  title_word_count         1728 non-null   float64\n",
      " 18  title_uppercase_count    1728 non-null   float64\n",
      " 19  title_exclamation_count  1728 non-null   float64\n",
      " 20  title_question_count     1728 non-null   float64\n",
      " 21  title_emoji_count        1728 non-null   float64\n",
      " 22  title_mention_count      1728 non-null   float64\n",
      " 23  title_hashtag_count      1728 non-null   float64\n",
      " 24  title_avg_word_length    1728 non-null   float64\n",
      " 25  title_sentiment          1728 non-null   object \n",
      " 26  title_sentiment_score    1728 non-null   float64\n",
      " 27  text_language            1728 non-null   object \n",
      " 28  text_clean               1514 non-null   object \n",
      " 29  text_char_count          1728 non-null   float64\n",
      " 30  text_word_count          1728 non-null   float64\n",
      " 31  text_uppercase_count     1728 non-null   float64\n",
      " 32  text_exclamation_count   1728 non-null   float64\n",
      " 33  text_question_count      1728 non-null   float64\n",
      " 34  text_emoji_count         1728 non-null   float64\n",
      " 35  text_mention_count       1728 non-null   float64\n",
      " 36  text_hashtag_count       1728 non-null   float64\n",
      " 37  text_avg_word_length     1728 non-null   float64\n",
      " 38  text_sentiment           1728 non-null   object \n",
      " 39  text_sentiment_score     1728 non-null   float64\n",
      " 40  engagement_rate          1728 non-null   float64\n",
      " 41  hour                     645 non-null    float64\n",
      " 42  weekday                  645 non-null    object \n",
      " 43  year                     645 non-null    float64\n",
      " 44  month                    645 non-null    float64\n",
      " 45  day_period               645 non-null    object \n",
      " 46  is_weekend               1728 non-null   bool   \n",
      "dtypes: bool(1), float64(28), object(18)\n",
      "memory usage: 622.8+ KB\n"
     ]
    }
   ],
   "source": [
    "BASE_DIR = Path().resolve().parent\n",
    "RAW_DIR = (BASE_DIR / \"./data/processed\").resolve()\n",
    "\n",
    "# Datei laden\n",
    "df = pd.read_csv(RAW_DIR / \"social_media_data.csv\")\n",
    "\n",
    "display(df.head())\n",
    "df.info()"
   ]
  },
  {
   "cell_type": "code",
   "execution_count": 67,
   "id": "67922683",
   "metadata": {},
   "outputs": [
    {
     "name": "stdout",
     "output_type": "stream",
     "text": [
      "    source  num_posts\n",
      "0   tiktok       1082\n",
      "1   reddit        330\n",
      "2  youtube        316\n"
     ]
    }
   ],
   "source": [
    "# Anzahl der Posts pro Plattform\n",
    "post_counts = df[\"source\"].value_counts().reset_index()\n",
    "post_counts.columns = [\"source\", \"num_posts\"]\n",
    "\n",
    "# Anzeige\n",
    "print(post_counts)"
   ]
  },
  {
   "cell_type": "markdown",
   "id": "028bcd2c",
   "metadata": {},
   "source": [
    "# Preparations"
   ]
  },
  {
   "cell_type": "code",
   "execution_count": 68,
   "id": "b481a09b",
   "metadata": {},
   "outputs": [],
   "source": [
    "# Kombinieren von Titel und Text (beide bereinigt)\n",
    "texts = (df[\"title_clean\"].fillna(\"\") + \" \" + df[\"text_clean\"].fillna(\"\")).astype(str)"
   ]
  },
  {
   "cell_type": "markdown",
   "id": "f3d9ab5e",
   "metadata": {},
   "source": [
    "# LDA\n",
    "LDA ist ein probabilistisches generatives Modell, das davon ausgeht, dass jedes Dokument eine Mischung aus mehreren Themen ist und jedes Thema durch eine Verteilung über Wörter beschrieben werden kann. Es eignet sich gut für längere, formellere Texte, bietet jedoch auch bei kurzen Texten erste Einblicke in thematische Strukturen.\n",
    "\n",
    "Warum LDA als erster Ansatz?\n",
    "Einfachheit & Transparenz: LDA ist leicht verständlich und bietet eine gute Grundlage, um Themenmodelle zu interpretieren.\n",
    "\n",
    "Vergleichsbasis: Es dient als Referenzmodell, gegen das modernere Verfahren wie BERTopic verglichen werden können.\n",
    "\n",
    "Schnelle Anwendung: Mit scikit-learn lässt sich LDA effizient auf vorbereiteten TF-IDF-Daten trainieren"
   ]
  },
  {
   "cell_type": "code",
   "execution_count": 88,
   "id": "8eac9ff7",
   "metadata": {},
   "outputs": [
    {
     "data": {
      "text/html": [
       "<style>#sk-container-id-4 {\n",
       "  /* Definition of color scheme common for light and dark mode */\n",
       "  --sklearn-color-text: #000;\n",
       "  --sklearn-color-text-muted: #666;\n",
       "  --sklearn-color-line: gray;\n",
       "  /* Definition of color scheme for unfitted estimators */\n",
       "  --sklearn-color-unfitted-level-0: #fff5e6;\n",
       "  --sklearn-color-unfitted-level-1: #f6e4d2;\n",
       "  --sklearn-color-unfitted-level-2: #ffe0b3;\n",
       "  --sklearn-color-unfitted-level-3: chocolate;\n",
       "  /* Definition of color scheme for fitted estimators */\n",
       "  --sklearn-color-fitted-level-0: #f0f8ff;\n",
       "  --sklearn-color-fitted-level-1: #d4ebff;\n",
       "  --sklearn-color-fitted-level-2: #b3dbfd;\n",
       "  --sklearn-color-fitted-level-3: cornflowerblue;\n",
       "\n",
       "  /* Specific color for light theme */\n",
       "  --sklearn-color-text-on-default-background: var(--sg-text-color, var(--theme-code-foreground, var(--jp-content-font-color1, black)));\n",
       "  --sklearn-color-background: var(--sg-background-color, var(--theme-background, var(--jp-layout-color0, white)));\n",
       "  --sklearn-color-border-box: var(--sg-text-color, var(--theme-code-foreground, var(--jp-content-font-color1, black)));\n",
       "  --sklearn-color-icon: #696969;\n",
       "\n",
       "  @media (prefers-color-scheme: dark) {\n",
       "    /* Redefinition of color scheme for dark theme */\n",
       "    --sklearn-color-text-on-default-background: var(--sg-text-color, var(--theme-code-foreground, var(--jp-content-font-color1, white)));\n",
       "    --sklearn-color-background: var(--sg-background-color, var(--theme-background, var(--jp-layout-color0, #111)));\n",
       "    --sklearn-color-border-box: var(--sg-text-color, var(--theme-code-foreground, var(--jp-content-font-color1, white)));\n",
       "    --sklearn-color-icon: #878787;\n",
       "  }\n",
       "}\n",
       "\n",
       "#sk-container-id-4 {\n",
       "  color: var(--sklearn-color-text);\n",
       "}\n",
       "\n",
       "#sk-container-id-4 pre {\n",
       "  padding: 0;\n",
       "}\n",
       "\n",
       "#sk-container-id-4 input.sk-hidden--visually {\n",
       "  border: 0;\n",
       "  clip: rect(1px 1px 1px 1px);\n",
       "  clip: rect(1px, 1px, 1px, 1px);\n",
       "  height: 1px;\n",
       "  margin: -1px;\n",
       "  overflow: hidden;\n",
       "  padding: 0;\n",
       "  position: absolute;\n",
       "  width: 1px;\n",
       "}\n",
       "\n",
       "#sk-container-id-4 div.sk-dashed-wrapped {\n",
       "  border: 1px dashed var(--sklearn-color-line);\n",
       "  margin: 0 0.4em 0.5em 0.4em;\n",
       "  box-sizing: border-box;\n",
       "  padding-bottom: 0.4em;\n",
       "  background-color: var(--sklearn-color-background);\n",
       "}\n",
       "\n",
       "#sk-container-id-4 div.sk-container {\n",
       "  /* jupyter's `normalize.less` sets `[hidden] { display: none; }`\n",
       "     but bootstrap.min.css set `[hidden] { display: none !important; }`\n",
       "     so we also need the `!important` here to be able to override the\n",
       "     default hidden behavior on the sphinx rendered scikit-learn.org.\n",
       "     See: https://github.com/scikit-learn/scikit-learn/issues/21755 */\n",
       "  display: inline-block !important;\n",
       "  position: relative;\n",
       "}\n",
       "\n",
       "#sk-container-id-4 div.sk-text-repr-fallback {\n",
       "  display: none;\n",
       "}\n",
       "\n",
       "div.sk-parallel-item,\n",
       "div.sk-serial,\n",
       "div.sk-item {\n",
       "  /* draw centered vertical line to link estimators */\n",
       "  background-image: linear-gradient(var(--sklearn-color-text-on-default-background), var(--sklearn-color-text-on-default-background));\n",
       "  background-size: 2px 100%;\n",
       "  background-repeat: no-repeat;\n",
       "  background-position: center center;\n",
       "}\n",
       "\n",
       "/* Parallel-specific style estimator block */\n",
       "\n",
       "#sk-container-id-4 div.sk-parallel-item::after {\n",
       "  content: \"\";\n",
       "  width: 100%;\n",
       "  border-bottom: 2px solid var(--sklearn-color-text-on-default-background);\n",
       "  flex-grow: 1;\n",
       "}\n",
       "\n",
       "#sk-container-id-4 div.sk-parallel {\n",
       "  display: flex;\n",
       "  align-items: stretch;\n",
       "  justify-content: center;\n",
       "  background-color: var(--sklearn-color-background);\n",
       "  position: relative;\n",
       "}\n",
       "\n",
       "#sk-container-id-4 div.sk-parallel-item {\n",
       "  display: flex;\n",
       "  flex-direction: column;\n",
       "}\n",
       "\n",
       "#sk-container-id-4 div.sk-parallel-item:first-child::after {\n",
       "  align-self: flex-end;\n",
       "  width: 50%;\n",
       "}\n",
       "\n",
       "#sk-container-id-4 div.sk-parallel-item:last-child::after {\n",
       "  align-self: flex-start;\n",
       "  width: 50%;\n",
       "}\n",
       "\n",
       "#sk-container-id-4 div.sk-parallel-item:only-child::after {\n",
       "  width: 0;\n",
       "}\n",
       "\n",
       "/* Serial-specific style estimator block */\n",
       "\n",
       "#sk-container-id-4 div.sk-serial {\n",
       "  display: flex;\n",
       "  flex-direction: column;\n",
       "  align-items: center;\n",
       "  background-color: var(--sklearn-color-background);\n",
       "  padding-right: 1em;\n",
       "  padding-left: 1em;\n",
       "}\n",
       "\n",
       "\n",
       "/* Toggleable style: style used for estimator/Pipeline/ColumnTransformer box that is\n",
       "clickable and can be expanded/collapsed.\n",
       "- Pipeline and ColumnTransformer use this feature and define the default style\n",
       "- Estimators will overwrite some part of the style using the `sk-estimator` class\n",
       "*/\n",
       "\n",
       "/* Pipeline and ColumnTransformer style (default) */\n",
       "\n",
       "#sk-container-id-4 div.sk-toggleable {\n",
       "  /* Default theme specific background. It is overwritten whether we have a\n",
       "  specific estimator or a Pipeline/ColumnTransformer */\n",
       "  background-color: var(--sklearn-color-background);\n",
       "}\n",
       "\n",
       "/* Toggleable label */\n",
       "#sk-container-id-4 label.sk-toggleable__label {\n",
       "  cursor: pointer;\n",
       "  display: flex;\n",
       "  width: 100%;\n",
       "  margin-bottom: 0;\n",
       "  padding: 0.5em;\n",
       "  box-sizing: border-box;\n",
       "  text-align: center;\n",
       "  align-items: start;\n",
       "  justify-content: space-between;\n",
       "  gap: 0.5em;\n",
       "}\n",
       "\n",
       "#sk-container-id-4 label.sk-toggleable__label .caption {\n",
       "  font-size: 0.6rem;\n",
       "  font-weight: lighter;\n",
       "  color: var(--sklearn-color-text-muted);\n",
       "}\n",
       "\n",
       "#sk-container-id-4 label.sk-toggleable__label-arrow:before {\n",
       "  /* Arrow on the left of the label */\n",
       "  content: \"▸\";\n",
       "  float: left;\n",
       "  margin-right: 0.25em;\n",
       "  color: var(--sklearn-color-icon);\n",
       "}\n",
       "\n",
       "#sk-container-id-4 label.sk-toggleable__label-arrow:hover:before {\n",
       "  color: var(--sklearn-color-text);\n",
       "}\n",
       "\n",
       "/* Toggleable content - dropdown */\n",
       "\n",
       "#sk-container-id-4 div.sk-toggleable__content {\n",
       "  max-height: 0;\n",
       "  max-width: 0;\n",
       "  overflow: hidden;\n",
       "  text-align: left;\n",
       "  /* unfitted */\n",
       "  background-color: var(--sklearn-color-unfitted-level-0);\n",
       "}\n",
       "\n",
       "#sk-container-id-4 div.sk-toggleable__content.fitted {\n",
       "  /* fitted */\n",
       "  background-color: var(--sklearn-color-fitted-level-0);\n",
       "}\n",
       "\n",
       "#sk-container-id-4 div.sk-toggleable__content pre {\n",
       "  margin: 0.2em;\n",
       "  border-radius: 0.25em;\n",
       "  color: var(--sklearn-color-text);\n",
       "  /* unfitted */\n",
       "  background-color: var(--sklearn-color-unfitted-level-0);\n",
       "}\n",
       "\n",
       "#sk-container-id-4 div.sk-toggleable__content.fitted pre {\n",
       "  /* unfitted */\n",
       "  background-color: var(--sklearn-color-fitted-level-0);\n",
       "}\n",
       "\n",
       "#sk-container-id-4 input.sk-toggleable__control:checked~div.sk-toggleable__content {\n",
       "  /* Expand drop-down */\n",
       "  max-height: 200px;\n",
       "  max-width: 100%;\n",
       "  overflow: auto;\n",
       "}\n",
       "\n",
       "#sk-container-id-4 input.sk-toggleable__control:checked~label.sk-toggleable__label-arrow:before {\n",
       "  content: \"▾\";\n",
       "}\n",
       "\n",
       "/* Pipeline/ColumnTransformer-specific style */\n",
       "\n",
       "#sk-container-id-4 div.sk-label input.sk-toggleable__control:checked~label.sk-toggleable__label {\n",
       "  color: var(--sklearn-color-text);\n",
       "  background-color: var(--sklearn-color-unfitted-level-2);\n",
       "}\n",
       "\n",
       "#sk-container-id-4 div.sk-label.fitted input.sk-toggleable__control:checked~label.sk-toggleable__label {\n",
       "  background-color: var(--sklearn-color-fitted-level-2);\n",
       "}\n",
       "\n",
       "/* Estimator-specific style */\n",
       "\n",
       "/* Colorize estimator box */\n",
       "#sk-container-id-4 div.sk-estimator input.sk-toggleable__control:checked~label.sk-toggleable__label {\n",
       "  /* unfitted */\n",
       "  background-color: var(--sklearn-color-unfitted-level-2);\n",
       "}\n",
       "\n",
       "#sk-container-id-4 div.sk-estimator.fitted input.sk-toggleable__control:checked~label.sk-toggleable__label {\n",
       "  /* fitted */\n",
       "  background-color: var(--sklearn-color-fitted-level-2);\n",
       "}\n",
       "\n",
       "#sk-container-id-4 div.sk-label label.sk-toggleable__label,\n",
       "#sk-container-id-4 div.sk-label label {\n",
       "  /* The background is the default theme color */\n",
       "  color: var(--sklearn-color-text-on-default-background);\n",
       "}\n",
       "\n",
       "/* On hover, darken the color of the background */\n",
       "#sk-container-id-4 div.sk-label:hover label.sk-toggleable__label {\n",
       "  color: var(--sklearn-color-text);\n",
       "  background-color: var(--sklearn-color-unfitted-level-2);\n",
       "}\n",
       "\n",
       "/* Label box, darken color on hover, fitted */\n",
       "#sk-container-id-4 div.sk-label.fitted:hover label.sk-toggleable__label.fitted {\n",
       "  color: var(--sklearn-color-text);\n",
       "  background-color: var(--sklearn-color-fitted-level-2);\n",
       "}\n",
       "\n",
       "/* Estimator label */\n",
       "\n",
       "#sk-container-id-4 div.sk-label label {\n",
       "  font-family: monospace;\n",
       "  font-weight: bold;\n",
       "  display: inline-block;\n",
       "  line-height: 1.2em;\n",
       "}\n",
       "\n",
       "#sk-container-id-4 div.sk-label-container {\n",
       "  text-align: center;\n",
       "}\n",
       "\n",
       "/* Estimator-specific */\n",
       "#sk-container-id-4 div.sk-estimator {\n",
       "  font-family: monospace;\n",
       "  border: 1px dotted var(--sklearn-color-border-box);\n",
       "  border-radius: 0.25em;\n",
       "  box-sizing: border-box;\n",
       "  margin-bottom: 0.5em;\n",
       "  /* unfitted */\n",
       "  background-color: var(--sklearn-color-unfitted-level-0);\n",
       "}\n",
       "\n",
       "#sk-container-id-4 div.sk-estimator.fitted {\n",
       "  /* fitted */\n",
       "  background-color: var(--sklearn-color-fitted-level-0);\n",
       "}\n",
       "\n",
       "/* on hover */\n",
       "#sk-container-id-4 div.sk-estimator:hover {\n",
       "  /* unfitted */\n",
       "  background-color: var(--sklearn-color-unfitted-level-2);\n",
       "}\n",
       "\n",
       "#sk-container-id-4 div.sk-estimator.fitted:hover {\n",
       "  /* fitted */\n",
       "  background-color: var(--sklearn-color-fitted-level-2);\n",
       "}\n",
       "\n",
       "/* Specification for estimator info (e.g. \"i\" and \"?\") */\n",
       "\n",
       "/* Common style for \"i\" and \"?\" */\n",
       "\n",
       ".sk-estimator-doc-link,\n",
       "a:link.sk-estimator-doc-link,\n",
       "a:visited.sk-estimator-doc-link {\n",
       "  float: right;\n",
       "  font-size: smaller;\n",
       "  line-height: 1em;\n",
       "  font-family: monospace;\n",
       "  background-color: var(--sklearn-color-background);\n",
       "  border-radius: 1em;\n",
       "  height: 1em;\n",
       "  width: 1em;\n",
       "  text-decoration: none !important;\n",
       "  margin-left: 0.5em;\n",
       "  text-align: center;\n",
       "  /* unfitted */\n",
       "  border: var(--sklearn-color-unfitted-level-1) 1pt solid;\n",
       "  color: var(--sklearn-color-unfitted-level-1);\n",
       "}\n",
       "\n",
       ".sk-estimator-doc-link.fitted,\n",
       "a:link.sk-estimator-doc-link.fitted,\n",
       "a:visited.sk-estimator-doc-link.fitted {\n",
       "  /* fitted */\n",
       "  border: var(--sklearn-color-fitted-level-1) 1pt solid;\n",
       "  color: var(--sklearn-color-fitted-level-1);\n",
       "}\n",
       "\n",
       "/* On hover */\n",
       "div.sk-estimator:hover .sk-estimator-doc-link:hover,\n",
       ".sk-estimator-doc-link:hover,\n",
       "div.sk-label-container:hover .sk-estimator-doc-link:hover,\n",
       ".sk-estimator-doc-link:hover {\n",
       "  /* unfitted */\n",
       "  background-color: var(--sklearn-color-unfitted-level-3);\n",
       "  color: var(--sklearn-color-background);\n",
       "  text-decoration: none;\n",
       "}\n",
       "\n",
       "div.sk-estimator.fitted:hover .sk-estimator-doc-link.fitted:hover,\n",
       ".sk-estimator-doc-link.fitted:hover,\n",
       "div.sk-label-container:hover .sk-estimator-doc-link.fitted:hover,\n",
       ".sk-estimator-doc-link.fitted:hover {\n",
       "  /* fitted */\n",
       "  background-color: var(--sklearn-color-fitted-level-3);\n",
       "  color: var(--sklearn-color-background);\n",
       "  text-decoration: none;\n",
       "}\n",
       "\n",
       "/* Span, style for the box shown on hovering the info icon */\n",
       ".sk-estimator-doc-link span {\n",
       "  display: none;\n",
       "  z-index: 9999;\n",
       "  position: relative;\n",
       "  font-weight: normal;\n",
       "  right: .2ex;\n",
       "  padding: .5ex;\n",
       "  margin: .5ex;\n",
       "  width: min-content;\n",
       "  min-width: 20ex;\n",
       "  max-width: 50ex;\n",
       "  color: var(--sklearn-color-text);\n",
       "  box-shadow: 2pt 2pt 4pt #999;\n",
       "  /* unfitted */\n",
       "  background: var(--sklearn-color-unfitted-level-0);\n",
       "  border: .5pt solid var(--sklearn-color-unfitted-level-3);\n",
       "}\n",
       "\n",
       ".sk-estimator-doc-link.fitted span {\n",
       "  /* fitted */\n",
       "  background: var(--sklearn-color-fitted-level-0);\n",
       "  border: var(--sklearn-color-fitted-level-3);\n",
       "}\n",
       "\n",
       ".sk-estimator-doc-link:hover span {\n",
       "  display: block;\n",
       "}\n",
       "\n",
       "/* \"?\"-specific style due to the `<a>` HTML tag */\n",
       "\n",
       "#sk-container-id-4 a.estimator_doc_link {\n",
       "  float: right;\n",
       "  font-size: 1rem;\n",
       "  line-height: 1em;\n",
       "  font-family: monospace;\n",
       "  background-color: var(--sklearn-color-background);\n",
       "  border-radius: 1rem;\n",
       "  height: 1rem;\n",
       "  width: 1rem;\n",
       "  text-decoration: none;\n",
       "  /* unfitted */\n",
       "  color: var(--sklearn-color-unfitted-level-1);\n",
       "  border: var(--sklearn-color-unfitted-level-1) 1pt solid;\n",
       "}\n",
       "\n",
       "#sk-container-id-4 a.estimator_doc_link.fitted {\n",
       "  /* fitted */\n",
       "  border: var(--sklearn-color-fitted-level-1) 1pt solid;\n",
       "  color: var(--sklearn-color-fitted-level-1);\n",
       "}\n",
       "\n",
       "/* On hover */\n",
       "#sk-container-id-4 a.estimator_doc_link:hover {\n",
       "  /* unfitted */\n",
       "  background-color: var(--sklearn-color-unfitted-level-3);\n",
       "  color: var(--sklearn-color-background);\n",
       "  text-decoration: none;\n",
       "}\n",
       "\n",
       "#sk-container-id-4 a.estimator_doc_link.fitted:hover {\n",
       "  /* fitted */\n",
       "  background-color: var(--sklearn-color-fitted-level-3);\n",
       "}\n",
       "</style><div id=\"sk-container-id-4\" class=\"sk-top-container\"><div class=\"sk-text-repr-fallback\"><pre>LatentDirichletAllocation(learning_method=&#x27;online&#x27;, max_iter=3, n_components=9,\n",
       "                          random_state=42)</pre><b>In a Jupyter environment, please rerun this cell to show the HTML representation or trust the notebook. <br />On GitHub, the HTML representation is unable to render, please try loading this page with nbviewer.org.</b></div><div class=\"sk-container\" hidden><div class=\"sk-item\"><div class=\"sk-estimator fitted sk-toggleable\"><input class=\"sk-toggleable__control sk-hidden--visually\" id=\"sk-estimator-id-4\" type=\"checkbox\" checked><label for=\"sk-estimator-id-4\" class=\"sk-toggleable__label fitted sk-toggleable__label-arrow\"><div><div>LatentDirichletAllocation</div></div><div><a class=\"sk-estimator-doc-link fitted\" rel=\"noreferrer\" target=\"_blank\" href=\"https://scikit-learn.org/1.6/modules/generated/sklearn.decomposition.LatentDirichletAllocation.html\">?<span>Documentation for LatentDirichletAllocation</span></a><span class=\"sk-estimator-doc-link fitted\">i<span>Fitted</span></span></div></label><div class=\"sk-toggleable__content fitted\"><pre>LatentDirichletAllocation(learning_method=&#x27;online&#x27;, max_iter=3, n_components=9,\n",
       "                          random_state=42)</pre></div> </div></div></div></div>"
      ],
      "text/plain": [
       "LatentDirichletAllocation(learning_method='online', max_iter=3, n_components=9,\n",
       "                          random_state=42)"
      ]
     },
     "execution_count": 88,
     "metadata": {},
     "output_type": "execute_result"
    }
   ],
   "source": [
    "from sklearn.feature_extraction.text import CountVectorizer\n",
    "from sklearn.decomposition import LatentDirichletAllocation\n",
    "\n",
    "# CountVectorizer ohne Stopwords (da vorher entfernt)\n",
    "vectorizer = CountVectorizer(\n",
    "    max_df=0.95,\n",
    "    min_df=2\n",
    ")\n",
    "\n",
    "# Textmatrix erzeugen\n",
    "X = vectorizer.fit_transform(texts)  # texts = bereits bereinigte Texte\n",
    "\n",
    "# LDA-Modell definieren\n",
    "lda_model = LatentDirichletAllocation(\n",
    "    n_components=9,         # Anzahl der Themen\n",
    "    max_iter=3,\n",
    "    learning_method='online',\n",
    "    random_state=42\n",
    ")\n",
    "\n",
    "# LDA-Modell trainieren\n",
    "lda_model.fit(X)\n"
   ]
  },
  {
   "cell_type": "code",
   "execution_count": 89,
   "id": "2abb2199",
   "metadata": {},
   "outputs": [
    {
     "name": "stdout",
     "output_type": "stream",
     "text": [
      "🟢 Thema 1:\n",
      "official cat que account khan real crazy bien asmr unfreez\n",
      "\n",
      "🟢 Thema 2:\n",
      "best would years every ever something kids back work else\n",
      "\n",
      "🟢 Thema 3:\n",
      "de brainrot song time tragic italian day prank months tralala\n",
      "\n",
      "🟢 Thema 4:\n",
      "tung one go sahur immer brainrot ronaldo mehr yamal speedrun\n",
      "\n",
      "🟢 Thema 5:\n",
      "na käse nie met się dc zutaten ofen mal creme\n",
      "\n",
      "🟢 Thema 6:\n",
      "viral tiktok baby barça kenza sound games go omg cette\n",
      "\n",
      "🟢 Thema 7:\n",
      "never part hair said even video know home chef bro\n",
      "\n",
      "🟢 Thema 8:\n",
      "new love got template stop see people one cool away\n",
      "\n",
      "🟢 Thema 9:\n",
      "like get follow real ib life party used videos better\n",
      "\n"
     ]
    }
   ],
   "source": [
    "# Funktion zum Anzeigen der Themen mit Top-Wörtern\n",
    "def display_topics(model, feature_names, no_top_words):\n",
    "    for topic_idx, topic in enumerate(model.components_):\n",
    "        print(f\"🟢 Thema {topic_idx + 1}:\")\n",
    "        print(\" \".join([feature_names[i] for i in topic.argsort()[:-no_top_words - 1:-1]]))\n",
    "        print()\n",
    "\n",
    "display_topics(lda_model, vectorizer.get_feature_names_out(), 10)\n"
   ]
  },
  {
   "cell_type": "markdown",
   "id": "bedcaec9",
   "metadata": {},
   "source": [
    "## 1. Fortgeschrittenes Topic Modelling mit BERTopic\n",
    "\n",
    "Das klassische LDA-Verfahren ist oft ungeeignet für kurze, informelle Texte. BERTopic nutzt Embeddings + Clustering + TF-IDF, um deutlich robustere und interpretierbare Themen zu erzeugen. Zudem unterstützt BERTopic die Analyse von Themen im Zeitverlauf."
   ]
  },
  {
   "cell_type": "code",
   "execution_count": 71,
   "id": "f835077f",
   "metadata": {},
   "outputs": [
    {
     "data": {
      "text/html": [
       "<div>\n",
       "<style scoped>\n",
       "    .dataframe tbody tr th:only-of-type {\n",
       "        vertical-align: middle;\n",
       "    }\n",
       "\n",
       "    .dataframe tbody tr th {\n",
       "        vertical-align: top;\n",
       "    }\n",
       "\n",
       "    .dataframe thead th {\n",
       "        text-align: right;\n",
       "    }\n",
       "</style>\n",
       "<table border=\"1\" class=\"dataframe\">\n",
       "  <thead>\n",
       "    <tr style=\"text-align: right;\">\n",
       "      <th></th>\n",
       "      <th>Topic</th>\n",
       "      <th>Count</th>\n",
       "      <th>Name</th>\n",
       "      <th>Representation</th>\n",
       "      <th>Representative_Docs</th>\n",
       "    </tr>\n",
       "  </thead>\n",
       "  <tbody>\n",
       "    <tr>\n",
       "      <th>0</th>\n",
       "      <td>-1</td>\n",
       "      <td>262</td>\n",
       "      <td>-1_template_new_baby_dc</td>\n",
       "      <td>[template, new, baby, dc, official, account, k...</td>\n",
       "      <td>[einfachste apfelkuchen welt geht total einfac...</td>\n",
       "    </tr>\n",
       "    <tr>\n",
       "      <th>1</th>\n",
       "      <td>0</td>\n",
       "      <td>248</td>\n",
       "      <td>0_de_na_käse_immer</td>\n",
       "      <td>[de, na, käse, immer, nie, się, que, kenza, bi...</td>\n",
       "      <td>[anzeige eigene gewürze flammkuchentoast zutat...</td>\n",
       "    </tr>\n",
       "    <tr>\n",
       "      <th>2</th>\n",
       "      <td>1</td>\n",
       "      <td>87</td>\n",
       "      <td>1_wait_get_better_end</td>\n",
       "      <td>[wait, get, better, end, omg, done, one, math,...</td>\n",
       "      <td>[wait till end, wait end, tried person drinks ...</td>\n",
       "    </tr>\n",
       "    <tr>\n",
       "      <th>3</th>\n",
       "      <td>2</td>\n",
       "      <td>63</td>\n",
       "      <td>2_brainrot_tragic_song_italian</td>\n",
       "      <td>[brainrot, tragic, song, italian, cat, music, ...</td>\n",
       "      <td>[tralalero tralala x wakawaka brainrot movie t...</td>\n",
       "    </tr>\n",
       "    <tr>\n",
       "      <th>4</th>\n",
       "      <td>3</td>\n",
       "      <td>33</td>\n",
       "      <td>3_ronaldo_messi_games_barça</td>\n",
       "      <td>[ronaldo, messi, games, barça, valverde, pass,...</td>\n",
       "      <td>[red devil buy high quality football jerseys p...</td>\n",
       "    </tr>\n",
       "    <tr>\n",
       "      <th>5</th>\n",
       "      <td>4</td>\n",
       "      <td>30</td>\n",
       "      <td>4_aura_morning_vibes_mood</td>\n",
       "      <td>[aura, morning, vibes, mood, real, like, vibe,...</td>\n",
       "      <td>[possible learn power perfect sunday morning e...</td>\n",
       "    </tr>\n",
       "    <tr>\n",
       "      <th>6</th>\n",
       "      <td>5</td>\n",
       "      <td>25</td>\n",
       "      <td>5_على_في_ہم_afghan</td>\n",
       "      <td>[على, في, ہم, afghan, للحصول, これめっちゃ頭痛くなる, အလ,...</td>\n",
       "      <td>[أنا شوري على الزلم يصبح قرار, مریم نواز سامنے...</td>\n",
       "    </tr>\n",
       "    <tr>\n",
       "      <th>7</th>\n",
       "      <td>6</td>\n",
       "      <td>19</td>\n",
       "      <td>6_hair_makeup_gala_beauty</td>\n",
       "      <td>[hair, makeup, gala, beauty, cosmetics, concea...</td>\n",
       "      <td>[hair long wash head like hair long got ta get...</td>\n",
       "    </tr>\n",
       "    <tr>\n",
       "      <th>8</th>\n",
       "      <td>7</td>\n",
       "      <td>18</td>\n",
       "      <td>7_viral_tiktok_go_video</td>\n",
       "      <td>[viral, tiktok, go, video, things, videos, тва...</td>\n",
       "      <td>[go viral, go viral tiktok million, go viral t...</td>\n",
       "    </tr>\n",
       "    <tr>\n",
       "      <th>9</th>\n",
       "      <td>8</td>\n",
       "      <td>17</td>\n",
       "      <td>8_fuck_never_time_like</td>\n",
       "      <td>[fuck, never, time, like, years, would, life, ...</td>\n",
       "      <td>[preparing go uni mom confessed tuition money ...</td>\n",
       "    </tr>\n",
       "    <tr>\n",
       "      <th>10</th>\n",
       "      <td>9</td>\n",
       "      <td>14</td>\n",
       "      <td>9_prank_fart_anatoly_spray</td>\n",
       "      <td>[prank, fart, anatoly, spray, replying, best, ...</td>\n",
       "      <td>[anatoly mop prank kg, clean anatoly prank, fa...</td>\n",
       "    </tr>\n",
       "    <tr>\n",
       "      <th>11</th>\n",
       "      <td>10</td>\n",
       "      <td>14</td>\n",
       "      <td>10_για_тунг_είναι_που</td>\n",
       "      <td>[για, тунг, είναι, που, brunch, тик, на, из, т...</td>\n",
       "      <td>[σε αυτό που ρωτάτε η απάντηση είναι ναι καλό ...</td>\n",
       "    </tr>\n",
       "    <tr>\n",
       "      <th>12</th>\n",
       "      <td>11</td>\n",
       "      <td>13</td>\n",
       "      <td>11_reaction_body_gym_golf</td>\n",
       "      <td>[reaction, body, gym, golf, calisthenics, peop...</td>\n",
       "      <td>[reaction people gym calisthenics athlete, cal...</td>\n",
       "    </tr>\n",
       "    <tr>\n",
       "      <th>13</th>\n",
       "      <td>12</td>\n",
       "      <td>11</td>\n",
       "      <td>12_bro_did_it_we</td>\n",
       "      <td>[bro, did, it, we, us, even, worry, hacked, sh...</td>\n",
       "      <td>[bro wanted cool even via, worry bro happens e...</td>\n",
       "    </tr>\n",
       "    <tr>\n",
       "      <th>14</th>\n",
       "      <td>13</td>\n",
       "      <td>11</td>\n",
       "      <td>13_tung_sahur_nela_ballerina</td>\n",
       "      <td>[tung, sahur, nela, ballerina, brainrot, intro...</td>\n",
       "      <td>[tung tung tung sahur edit, tung tung tung tun...</td>\n",
       "    </tr>\n",
       "    <tr>\n",
       "      <th>15</th>\n",
       "      <td>14</td>\n",
       "      <td>11</td>\n",
       "      <td>14_chaos_horse_ib_london</td>\n",
       "      <td>[chaos, horse, ib, london, hourse, tackle, rus...</td>\n",
       "      <td>[somebody watching ib monk, th minute chaos, t...</td>\n",
       "    </tr>\n",
       "    <tr>\n",
       "      <th>16</th>\n",
       "      <td>15</td>\n",
       "      <td>11</td>\n",
       "      <td>15_jf_islamabad_signs_jk</td>\n",
       "      <td>[jf, islamabad, signs, jk, seatbelt, rx, plane...</td>\n",
       "      <td>[jk takes best photos wilkins, fly like paper ...</td>\n",
       "    </tr>\n",
       "  </tbody>\n",
       "</table>\n",
       "</div>"
      ],
      "text/plain": [
       "    Topic  Count                            Name  \\\n",
       "0      -1    262         -1_template_new_baby_dc   \n",
       "1       0    248              0_de_na_käse_immer   \n",
       "2       1     87           1_wait_get_better_end   \n",
       "3       2     63  2_brainrot_tragic_song_italian   \n",
       "4       3     33     3_ronaldo_messi_games_barça   \n",
       "5       4     30       4_aura_morning_vibes_mood   \n",
       "6       5     25              5_على_في_ہم_afghan   \n",
       "7       6     19       6_hair_makeup_gala_beauty   \n",
       "8       7     18         7_viral_tiktok_go_video   \n",
       "9       8     17          8_fuck_never_time_like   \n",
       "10      9     14      9_prank_fart_anatoly_spray   \n",
       "11     10     14           10_για_тунг_είναι_που   \n",
       "12     11     13       11_reaction_body_gym_golf   \n",
       "13     12     11                12_bro_did_it_we   \n",
       "14     13     11    13_tung_sahur_nela_ballerina   \n",
       "15     14     11        14_chaos_horse_ib_london   \n",
       "16     15     11        15_jf_islamabad_signs_jk   \n",
       "\n",
       "                                       Representation  \\\n",
       "0   [template, new, baby, dc, official, account, k...   \n",
       "1   [de, na, käse, immer, nie, się, que, kenza, bi...   \n",
       "2   [wait, get, better, end, omg, done, one, math,...   \n",
       "3   [brainrot, tragic, song, italian, cat, music, ...   \n",
       "4   [ronaldo, messi, games, barça, valverde, pass,...   \n",
       "5   [aura, morning, vibes, mood, real, like, vibe,...   \n",
       "6   [على, في, ہم, afghan, للحصول, これめっちゃ頭痛くなる, အလ,...   \n",
       "7   [hair, makeup, gala, beauty, cosmetics, concea...   \n",
       "8   [viral, tiktok, go, video, things, videos, тва...   \n",
       "9   [fuck, never, time, like, years, would, life, ...   \n",
       "10  [prank, fart, anatoly, spray, replying, best, ...   \n",
       "11  [για, тунг, είναι, που, brunch, тик, на, из, т...   \n",
       "12  [reaction, body, gym, golf, calisthenics, peop...   \n",
       "13  [bro, did, it, we, us, even, worry, hacked, sh...   \n",
       "14  [tung, sahur, nela, ballerina, brainrot, intro...   \n",
       "15  [chaos, horse, ib, london, hourse, tackle, rus...   \n",
       "16  [jf, islamabad, signs, jk, seatbelt, rx, plane...   \n",
       "\n",
       "                                  Representative_Docs  \n",
       "0   [einfachste apfelkuchen welt geht total einfac...  \n",
       "1   [anzeige eigene gewürze flammkuchentoast zutat...  \n",
       "2   [wait till end, wait end, tried person drinks ...  \n",
       "3   [tralalero tralala x wakawaka brainrot movie t...  \n",
       "4   [red devil buy high quality football jerseys p...  \n",
       "5   [possible learn power perfect sunday morning e...  \n",
       "6   [أنا شوري على الزلم يصبح قرار, مریم نواز سامنے...  \n",
       "7   [hair long wash head like hair long got ta get...  \n",
       "8   [go viral, go viral tiktok million, go viral t...  \n",
       "9   [preparing go uni mom confessed tuition money ...  \n",
       "10  [anatoly mop prank kg, clean anatoly prank, fa...  \n",
       "11  [σε αυτό που ρωτάτε η απάντηση είναι ναι καλό ...  \n",
       "12  [reaction people gym calisthenics athlete, cal...  \n",
       "13  [bro wanted cool even via, worry bro happens e...  \n",
       "14  [tung tung tung sahur edit, tung tung tung tun...  \n",
       "15  [somebody watching ib monk, th minute chaos, t...  \n",
       "16  [jk takes best photos wilkins, fly like paper ...  "
      ]
     },
     "execution_count": 71,
     "metadata": {},
     "output_type": "execute_result"
    }
   ],
   "source": [
    "# Installation (nur beim ersten Mal notwendig)\n",
    "# !pip install bertopic[visualization] sentence-transformers\n",
    "\n",
    "from bertopic import BERTopic\n",
    "from sklearn.feature_extraction.text import CountVectorizer\n",
    "from sentence_transformers import SentenceTransformer\n",
    "\n",
    "# Für deutschsprachige Texte kann ein mehrsprachiges Modell hilfreich sein\n",
    "embedding_model = SentenceTransformer('all-MiniLM-L6-v2')  # oder 'paraphrase-multilingual-MiniLM-L12-v2'\n",
    "\n",
    "# Daten vorbereiten\n",
    "texts = df['text_clean'].dropna().tolist()\n",
    "\n",
    "# BERTopic initialisieren und trainieren\n",
    "topic_model = BERTopic(embedding_model=embedding_model, language='multilingual')\n",
    "topics, probs = topic_model.fit_transform(texts)\n",
    "\n",
    "df_clean = df.loc[df['text_clean'].notna()].copy()\n",
    "df_clean['topic'] = topics\n",
    "\n",
    "topic_model.get_topic_info()"
   ]
  },
  {
   "cell_type": "markdown",
   "id": "5425d1d6",
   "metadata": {},
   "source": [
    "## 2. Verbesserte Sentiment-Analyse\n",
    "\n",
    "Die bisher genutzte Methode (`TextBlob`) ist eher für formellere englische Texte geeignet. Hier ergänzen wir zwei modernere Verfahren:\n",
    "\n",
    "- **VADER**: speziell für Social Media-Texte (auch kurze Aussagen) konzipiert.\n",
    "- **Transformer-Modell**: z. B. RoBERTa-basiert, feingetunt für Sentiment-Klassifikation auf Twitter-Daten."
   ]
  },
  {
   "cell_type": "code",
   "execution_count": null,
   "id": "10399aae",
   "metadata": {},
   "outputs": [],
   "source": [
    "# Installation (falls nicht vorhanden)\n",
    "# !pip install vaderSentiment transformers\n",
    "\n",
    "from vaderSentiment.vaderSentiment import SentimentIntensityAnalyzer\n",
    "from transformers import pipeline\n",
    "\n",
    "# VADER Setup\n",
    "vader_analyzer = SentimentIntensityAnalyzer()\n",
    "df['vader_score'] = df['clean_text'].apply(lambda x: vader_analyzer.polarity_scores(str(x))['compound'])\n",
    "\n",
    "# Transformer Sentiment Pipeline (Twitter RoBERTa)\n",
    "sentiment_pipeline = pipeline('sentiment-analysis', model='cardiffnlp/twitter-roberta-base-sentiment')\n",
    "\n",
    "# Warnung: kann langsam sein bei vielen Texten\n",
    "df['roberta_sentiment'] = df['clean_text'].astype(str).apply(lambda x: sentiment_pipeline(x[:512])[0]['label'])"
   ]
  },
  {
   "cell_type": "markdown",
   "id": "2b49eb42",
   "metadata": {},
   "source": [
    "## 3. Zeitliche Analyse der Topics\n",
    "\n",
    "Ein großer Vorteil von BERTopic ist die Möglichkeit, Themen im Zeitverlauf zu analysieren. Dazu müssen wir das Erstellungsdatum korrekt als `datetime` interpretieren und in geeignete Zeitstempel transformieren."
   ]
  },
  {
   "cell_type": "code",
   "execution_count": 76,
   "id": "b87a2ee6",
   "metadata": {},
   "outputs": [
    {
     "name": "stdout",
     "output_type": "stream",
     "text": [
      "887 887 887\n"
     ]
    },
    {
     "data": {
      "application/vnd.plotly.v1+json": {
       "config": {
        "plotlyServerURL": "https://plot.ly"
       },
       "data": [
        {
         "hoverinfo": "text",
         "hovertext": [
          "<b>Topic 0</b><br>Words: wen, anfasst, obacht, de, na",
          "<b>Topic 0</b><br>Words: kenan, yıldız, de, na, käse",
          "<b>Topic 0</b><br>Words: bock, glaube, de, na, käse",
          "<b>Topic 0</b><br>Words: peltsi, osmo, verkauf, junge, isä",
          "<b>Topic 0</b><br>Words: de, kokain, hamburg, na, się",
          "<b>Topic 0</b><br>Words: zucchini, reibekäse, hack, ofen, carb",
          "<b>Topic 0</b><br>Words: mir, abend, varandra, rychlochodce, bananinni",
          "<b>Topic 0</b><br>Words: cappucinna, mehr, müll, damals, bambino",
          "<b>Topic 0</b><br>Words: hund, mal, hania, trägt, nem",
          "<b>Topic 0</b><br>Words: na, att, grave, mnie, très",
          "<b>Topic 0</b><br>Words: de, kenza, käse, bien, burrata"
         ],
         "marker": {
          "color": "#E69F00"
         },
         "mode": "lines",
         "name": "0_de_na_käse_immer",
         "type": "scatter",
         "x": [
          "2024-08-27T00:05:26.545000000",
          "2024-09-08T23:22:52.750000000",
          "2025-01-14T03:15:00.250000000",
          "2025-01-26T20:26:13.000000000",
          "2025-02-08T13:37:25.750000000",
          "2025-02-21T06:48:38.500000000",
          "2025-03-05T23:59:51.250000000",
          "2025-03-18T17:11:04.000000000",
          "2025-03-31T10:22:16.750000000",
          "2025-04-13T03:33:29.500000000",
          "2025-04-25T20:44:42.250000000"
         ],
         "y": {
          "bdata": "AQEBAxIZFRkfKVE=",
          "dtype": "i1"
         }
        },
        {
         "hoverinfo": "text",
         "hovertext": [
          "<b>Topic 1</b><br>Words: admire, wait, get, better, end",
          "<b>Topic 1</b><br>Words: tomorrow, joke, wait, get, better",
          "<b>Topic 1</b><br>Words: kinda, obvious, hahaahah, wait, get",
          "<b>Topic 1</b><br>Words: omg, omgggggg, um, yeah, bad",
          "<b>Topic 1</b><br>Words: american, whyyy, result, expect, hilarious",
          "<b>Topic 1</b><br>Words: is, friend, just, pizza, laugh",
          "<b>Topic 1</b><br>Words: fav, evil, stopped, remember, snack",
          "<b>Topic 1</b><br>Words: yez, letzte, honestly, hahahahahha, tough",
          "<b>Topic 1</b><br>Words: wait, math, quiz, done, get",
          "<b>Topic 1</b><br>Words: wait, trio, ok, extra, get"
         ],
         "marker": {
          "color": "#56B4E9"
         },
         "mode": "lines",
         "name": "1_wait_get_better_end",
         "type": "scatter",
         "x": [
          "2025-01-01T10:03:47.500000000",
          "2025-01-14T03:15:00.250000000",
          "2025-01-26T20:26:13.000000000",
          "2025-02-08T13:37:25.750000000",
          "2025-02-21T06:48:38.500000000",
          "2025-03-05T23:59:51.250000000",
          "2025-03-18T17:11:04.000000000",
          "2025-03-31T10:22:16.750000000",
          "2025-04-13T03:33:29.500000000",
          "2025-04-25T20:44:42.250000000"
         ],
         "y": {
          "bdata": "AQECBAoGBgYUHw==",
          "dtype": "i1"
         }
        },
        {
         "hoverinfo": "text",
         "hovertext": [
          "<b>Topic 2</b><br>Words: talent, hard, nothing, cat, without",
          "<b>Topic 2</b><br>Words: music, must, puppy, cuteness, thursday",
          "<b>Topic 2</b><br>Words: david, kushner, coincidence, air, piano",
          "<b>Topic 2</b><br>Words: dance, re, clingy, cutest, dancers",
          "<b>Topic 2</b><br>Words: cat, smith, showed, friday, deluna",
          "<b>Topic 2</b><br>Words: tragic, song, brainrot, movie, tralala",
          "<b>Topic 2</b><br>Words: tragic, brainrot, song, italian, movie",
          "<b>Topic 2</b><br>Words: brainrot, song, italian, music, tragic"
         ],
         "marker": {
          "color": "#009E73"
         },
         "mode": "lines",
         "name": "2_brainrot_tragic_song_italian",
         "type": "scatter",
         "x": [
          "2025-01-26T20:26:13.000000000",
          "2025-02-08T13:37:25.750000000",
          "2025-02-21T06:48:38.500000000",
          "2025-03-05T23:59:51.250000000",
          "2025-03-18T17:11:04.000000000",
          "2025-03-31T10:22:16.750000000",
          "2025-04-13T03:33:29.500000000",
          "2025-04-25T20:44:42.250000000"
         ],
         "y": {
          "bdata": "AgUDBQgICxU=",
          "dtype": "i1"
         }
        },
        {
         "hoverinfo": "text",
         "hovertext": [
          "<b>Topic 3</b><br>Words: andrés, goal, great, ronaldo, messi",
          "<b>Topic 3</b><br>Words: pass, skill, jerseys, devil, quality",
          "<b>Topic 3</b><br>Words: ronaldo, lionel, monster, prime, raphinha",
          "<b>Topic 3</b><br>Words: barça, zach, estilo, duos, trenzinho",
          "<b>Topic 3</b><br>Words: smooth, move, plays, lamelo, fifa",
          "<b>Topic 3</b><br>Words: assist, best, ronaldo, messi, games",
          "<b>Topic 3</b><br>Words: games, ronaldo, germany, address, mohamed",
          "<b>Topic 3</b><br>Words: ronaldo, brasil, barça, russian, beats"
         ],
         "marker": {
          "color": "#F0E442"
         },
         "mode": "lines",
         "name": "3_ronaldo_messi_games_barça",
         "type": "scatter",
         "x": [
          "2025-01-14T03:15:00.250000000",
          "2025-02-08T13:37:25.750000000",
          "2025-02-21T06:48:38.500000000",
          "2025-03-05T23:59:51.250000000",
          "2025-03-18T17:11:04.000000000",
          "2025-03-31T10:22:16.750000000",
          "2025-04-13T03:33:29.500000000",
          "2025-04-25T20:44:42.250000000"
         ],
         "y": {
          "bdata": "AQQGBgMBBAg=",
          "dtype": "i1"
         }
        },
        {
         "hoverinfo": "text",
         "hovertext": [
          "<b>Topic 4</b><br>Words: pop, katniss, morning, aura, vibe",
          "<b>Topic 4</b><br>Words: grounded, instant, mood, change, aura",
          "<b>Topic 4</b><br>Words: modo, fade, buzz, on, signal",
          "<b>Topic 4</b><br>Words: vibes, lightning, dream, bricks, tinfoil",
          "<b>Topic 4</b><br>Words: aura, real, mood, morning, notification",
          "<b>Topic 4</b><br>Words: like, aura, day, zombies, sass"
         ],
         "marker": {
          "color": "#D55E00"
         },
         "mode": "lines",
         "name": "4_aura_morning_vibes_mood",
         "type": "scatter",
         "x": [
          "2025-02-21T06:48:38.500000000",
          "2025-03-05T23:59:51.250000000",
          "2025-03-18T17:11:04.000000000",
          "2025-03-31T10:22:16.750000000",
          "2025-04-13T03:33:29.500000000",
          "2025-04-25T20:44:42.250000000"
         ],
         "y": {
          "bdata": "BAIEBQcI",
          "dtype": "i1"
         }
        },
        {
         "hoverinfo": "text",
         "hovertext": [
          "<b>Topic 5</b><br>Words: ہم, 오랜만에, سامنے, دیکھنا, اسے",
          "<b>Topic 5</b><br>Words: اوضاع, فينا, تحير, بحب, جمعنا",
          "<b>Topic 5</b><br>Words: نقولها, عفرين, منتالي, အလ, 這耳朵會不會背了",
          "<b>Topic 5</b><br>Words: راحه, 台湾加油, انا, نسمح, نفسيه",
          "<b>Topic 5</b><br>Words: على, قدر, الزلم, المتابعين, قرار",
          "<b>Topic 5</b><br>Words: في, على, afghan, الشديد, التزاحم"
         ],
         "marker": {
          "color": "#0072B2"
         },
         "mode": "lines",
         "name": "5_على_في_ہم_afghan",
         "type": "scatter",
         "x": [
          "2025-02-21T06:48:38.500000000",
          "2025-03-05T23:59:51.250000000",
          "2025-03-18T17:11:04.000000000",
          "2025-03-31T10:22:16.750000000",
          "2025-04-13T03:33:29.500000000",
          "2025-04-25T20:44:42.250000000"
         ],
         "y": {
          "bdata": "BQMFAwQF",
          "dtype": "i1"
         }
        },
        {
         "hoverinfo": "text",
         "hovertext": [
          "<b>Topic 6</b><br>Words: powder, blush, concealer, makeup, hair",
          "<b>Topic 6</b><br>Words: requested, tut, makeup, hair, gala",
          "<b>Topic 6</b><br>Words: hair, makeup, ai, styles, please",
          "<b>Topic 6</b><br>Words: removal, ballroom, hair, asmr, full",
          "<b>Topic 6</b><br>Words: hair, mascara, yt, memories, vid",
          "<b>Topic 6</b><br>Words: hair, gala, wash, makeup, met"
         ],
         "marker": {
          "color": "#CC79A7"
         },
         "mode": "lines",
         "name": "6_hair_makeup_gala_beauty",
         "type": "scatter",
         "x": [
          "2025-02-08T13:37:25.750000000",
          "2025-02-21T06:48:38.500000000",
          "2025-03-05T23:59:51.250000000",
          "2025-03-31T10:22:16.750000000",
          "2025-04-13T03:33:29.500000000",
          "2025-04-25T20:44:42.250000000"
         ],
         "y": {
          "bdata": "AQEEAQQI",
          "dtype": "i1"
         }
        },
        {
         "hoverinfo": "text",
         "hovertext": [
          "<b>Topic 7</b><br>Words: indeed, lots, scans, viral, tiktok",
          "<b>Topic 7</b><br>Words: viral, hacerte, raccoon, tiktok, youtube",
          "<b>Topic 7</b><br>Words: viral, tiktok, hacer, gained, vídeo",
          "<b>Topic 7</b><br>Words: viral, vlog, cinema, sound, template",
          "<b>Topic 7</b><br>Words: tiktok, viral, things, videos, go",
          "<b>Topic 7</b><br>Words: viral, tiktok, video, go, chainsaw"
         ],
         "marker": {
          "color": "#E69F00"
         },
         "mode": "lines",
         "name": "7_viral_tiktok_go_video",
         "type": "scatter",
         "x": [
          "2025-01-26T20:26:13.000000000",
          "2025-02-21T06:48:38.500000000",
          "2025-03-18T17:11:04.000000000",
          "2025-03-31T10:22:16.750000000",
          "2025-04-13T03:33:29.500000000",
          "2025-04-25T20:44:42.250000000"
         ],
         "y": {
          "bdata": "AQICAwUF",
          "dtype": "i1"
         }
        },
        {
         "hoverinfo": "text",
         "hovertext": [
          "<b>Topic 8</b><br>Words: megalodon, ocean, still, size, exist",
          "<b>Topic 8</b><br>Words: skybase, base, clouds, somewhere, build",
          "<b>Topic 8</b><br>Words: fuck, never, time, like, years",
          "<b>Topic 8</b><br>Words: bums, clarification, homeless, dated, nobody"
         ],
         "marker": {
          "color": "#56B4E9"
         },
         "mode": "lines",
         "name": "8_fuck_never_time_like",
         "type": "scatter",
         "x": [
          "2025-03-05T23:59:51.250000000",
          "2025-03-31T10:22:16.750000000",
          "2025-04-13T03:33:29.500000000",
          "2025-04-25T20:44:42.250000000"
         ],
         "y": {
          "bdata": "AgMKAg==",
          "dtype": "i1"
         }
        },
        {
         "hoverinfo": "text",
         "hovertext": [
          "<b>Topic 9</b><br>Words: our, favourite, trick, party, prank",
          "<b>Topic 9</b><br>Words: prank, fart, spray, elevator, pranking",
          "<b>Topic 9</b><br>Words: prank, faster, cashier, payment, folded",
          "<b>Topic 9</b><br>Words: prank, pranké, towel, wet, prankeur",
          "<b>Topic 9</b><br>Words: prank, anatoly, nastyyy, bangin, bathroom"
         ],
         "marker": {
          "color": "#009E73"
         },
         "mode": "lines",
         "name": "9_prank_fart_anatoly_spray",
         "type": "scatter",
         "x": [
          "2025-02-08T13:37:25.750000000",
          "2025-03-05T23:59:51.250000000",
          "2025-03-18T17:11:04.000000000",
          "2025-03-31T10:22:16.750000000",
          "2025-04-25T20:44:42.250000000"
         ],
         "y": {
          "bdata": "AQICBAU=",
          "dtype": "i1"
         }
        },
        {
         "hoverinfo": "text",
         "hovertext": [
          "<b>Topic 10</b><br>Words: пользователю, ответ, για, тунг, είναι",
          "<b>Topic 10</b><br>Words: могу, кофты, без, жить, ним",
          "<b>Topic 10</b><br>Words: ток, из, меня, тик, на",
          "<b>Topic 10</b><br>Words: για, тунг, είναι, brunch, μια",
          "<b>Topic 10</b><br>Words: τρελή, зеленский, γιώργος, площадках, δεις",
          "<b>Topic 10</b><br>Words: νέα, για, είναι, που, не"
         ],
         "marker": {
          "color": "#F0E442"
         },
         "mode": "lines",
         "name": "10_για_тунг_είναι_που",
         "type": "scatter",
         "x": [
          "2025-02-21T06:48:38.500000000",
          "2025-03-05T23:59:51.250000000",
          "2025-03-18T17:11:04.000000000",
          "2025-03-31T10:22:16.750000000",
          "2025-04-13T03:33:29.500000000",
          "2025-04-25T20:44:42.250000000"
         ],
         "y": {
          "bdata": "AQEBAwMF",
          "dtype": "i1"
         }
        },
        {
         "hoverinfo": "text",
         "hovertext": [
          "<b>Topic 11</b><br>Words: golf, reaction, rocket, dads, ball",
          "<b>Topic 11</b><br>Words: öffentlichkeit, seeing, bodybuilder, swing, reaction",
          "<b>Topic 11</b><br>Words: reached, widebody, weightloss, kg, we",
          "<b>Topic 11</b><br>Words: body, reaction, gym, control, shake",
          "<b>Topic 11</b><br>Words: 하는, workout, 복근, abs, 운동",
          "<b>Topic 11</b><br>Words: weight, reaction, calisthenics, gym, version",
          "<b>Topic 11</b><br>Words: reaction, body, gym, calisthenics, outfits"
         ],
         "marker": {
          "color": "#D55E00"
         },
         "mode": "lines",
         "name": "11_reaction_body_gym_golf",
         "type": "scatter",
         "x": [
          "2025-02-08T13:37:25.750000000",
          "2025-02-21T06:48:38.500000000",
          "2025-03-05T23:59:51.250000000",
          "2025-03-18T17:11:04.000000000",
          "2025-03-31T10:22:16.750000000",
          "2025-04-13T03:33:29.500000000",
          "2025-04-25T20:44:42.250000000"
         ],
         "y": {
          "bdata": "AQICAgECAw==",
          "dtype": "i1"
         }
        },
        {
         "hoverinfo": "text",
         "hovertext": [
          "<b>Topic 12</b><br>Words: burger, smashed, home, bro, did",
          "<b>Topic 12</b><br>Words: sore, loser, bro, did, it",
          "<b>Topic 12</b><br>Words: bro, worry, grief, happens, leaving",
          "<b>Topic 12</b><br>Words: bro, cheated, drafted, rae, might",
          "<b>Topic 12</b><br>Words: bro, did, it, we, heartbreak"
         ],
         "marker": {
          "color": "#0072B2"
         },
         "mode": "lines",
         "name": "12_bro_did_it_we",
         "type": "scatter",
         "x": [
          "2025-02-08T13:37:25.750000000",
          "2025-02-21T06:48:38.500000000",
          "2025-03-31T10:22:16.750000000",
          "2025-04-13T03:33:29.500000000",
          "2025-04-25T20:44:42.250000000"
         ],
         "y": {
          "bdata": "AQEDAgQ=",
          "dtype": "i1"
         }
        },
        {
         "hoverinfo": "text",
         "hovertext": [
          "<b>Topic 13</b><br>Words: tung, sahur, edit, nela, ballerina",
          "<b>Topic 13</b><br>Words: tung, sahur, ballerina, cappuccino, nooo",
          "<b>Topic 13</b><br>Words: tung, sahur, nela, brainrot, deserve"
         ],
         "marker": {
          "color": "#CC79A7"
         },
         "mode": "lines",
         "name": "13_tung_sahur_nela_ballerina",
         "type": "scatter",
         "x": [
          "2025-03-31T10:22:16.750000000",
          "2025-04-13T03:33:29.500000000",
          "2025-04-25T20:44:42.250000000"
         ],
         "y": {
          "bdata": "AQMH",
          "dtype": "i1"
         }
        },
        {
         "hoverinfo": "text",
         "hovertext": [
          "<b>Topic 14</b><br>Words: minute, chaos, th, horse, ib",
          "<b>Topic 14</b><br>Words: monk, watching, somebody, ib, chaos",
          "<b>Topic 14</b><br>Words: chaos, horse, copthorne, pain, hurts",
          "<b>Topic 14</b><br>Words: rush, stage, nutmeg, yamal, big",
          "<b>Topic 14</b><br>Words: ukulele, antwort, time, chaos, horse",
          "<b>Topic 14</b><br>Words: horse, london, ggs, grwm, tackle"
         ],
         "marker": {
          "color": "#E69F00"
         },
         "mode": "lines",
         "name": "14_chaos_horse_ib_london",
         "type": "scatter",
         "x": [
          "2025-01-14T03:15:00.250000000",
          "2025-03-05T23:59:51.250000000",
          "2025-03-18T17:11:04.000000000",
          "2025-03-31T10:22:16.750000000",
          "2025-04-13T03:33:29.500000000",
          "2025-04-25T20:44:42.250000000"
         ],
         "y": {
          "bdata": "AQEDAQID",
          "dtype": "i1"
         }
        },
        {
         "hoverinfo": "text",
         "hovertext": [
          "<b>Topic 15</b><br>Words: fps, letter, sign, jf, jackson",
          "<b>Topic 15</b><br>Words: signs, seatbelt, rx, jf, photos",
          "<b>Topic 15</b><br>Words: fly, planes, paper, high, like",
          "<b>Topic 15</b><br>Words: jackson, jf, wilkins, jk, islamabad",
          "<b>Topic 15</b><br>Words: jf, wilkins, jk, islamabad, photos"
         ],
         "marker": {
          "color": "#56B4E9"
         },
         "mode": "lines",
         "name": "15_jf_islamabad_signs_jk",
         "type": "scatter",
         "x": [
          "2025-02-21T06:48:38.500000000",
          "2025-03-05T23:59:51.250000000",
          "2025-03-31T10:22:16.750000000",
          "2025-04-13T03:33:29.500000000",
          "2025-04-25T20:44:42.250000000"
         ],
         "y": {
          "bdata": "AgIBAQU=",
          "dtype": "i1"
         }
        }
       ],
       "layout": {
        "height": 450,
        "hoverlabel": {
         "bgcolor": "white",
         "font": {
          "family": "Rockwell",
          "size": 16
         }
        },
        "legend": {
         "title": {
          "text": "<b>Global Topic Representation"
         }
        },
        "template": {
         "data": {
          "bar": [
           {
            "error_x": {
             "color": "rgb(36,36,36)"
            },
            "error_y": {
             "color": "rgb(36,36,36)"
            },
            "marker": {
             "line": {
              "color": "white",
              "width": 0.5
             },
             "pattern": {
              "fillmode": "overlay",
              "size": 10,
              "solidity": 0.2
             }
            },
            "type": "bar"
           }
          ],
          "barpolar": [
           {
            "marker": {
             "line": {
              "color": "white",
              "width": 0.5
             },
             "pattern": {
              "fillmode": "overlay",
              "size": 10,
              "solidity": 0.2
             }
            },
            "type": "barpolar"
           }
          ],
          "carpet": [
           {
            "aaxis": {
             "endlinecolor": "rgb(36,36,36)",
             "gridcolor": "white",
             "linecolor": "white",
             "minorgridcolor": "white",
             "startlinecolor": "rgb(36,36,36)"
            },
            "baxis": {
             "endlinecolor": "rgb(36,36,36)",
             "gridcolor": "white",
             "linecolor": "white",
             "minorgridcolor": "white",
             "startlinecolor": "rgb(36,36,36)"
            },
            "type": "carpet"
           }
          ],
          "choropleth": [
           {
            "colorbar": {
             "outlinewidth": 1,
             "tickcolor": "rgb(36,36,36)",
             "ticks": "outside"
            },
            "type": "choropleth"
           }
          ],
          "contour": [
           {
            "colorbar": {
             "outlinewidth": 1,
             "tickcolor": "rgb(36,36,36)",
             "ticks": "outside"
            },
            "colorscale": [
             [
              0,
              "#440154"
             ],
             [
              0.1111111111111111,
              "#482878"
             ],
             [
              0.2222222222222222,
              "#3e4989"
             ],
             [
              0.3333333333333333,
              "#31688e"
             ],
             [
              0.4444444444444444,
              "#26828e"
             ],
             [
              0.5555555555555556,
              "#1f9e89"
             ],
             [
              0.6666666666666666,
              "#35b779"
             ],
             [
              0.7777777777777778,
              "#6ece58"
             ],
             [
              0.8888888888888888,
              "#b5de2b"
             ],
             [
              1,
              "#fde725"
             ]
            ],
            "type": "contour"
           }
          ],
          "contourcarpet": [
           {
            "colorbar": {
             "outlinewidth": 1,
             "tickcolor": "rgb(36,36,36)",
             "ticks": "outside"
            },
            "type": "contourcarpet"
           }
          ],
          "heatmap": [
           {
            "colorbar": {
             "outlinewidth": 1,
             "tickcolor": "rgb(36,36,36)",
             "ticks": "outside"
            },
            "colorscale": [
             [
              0,
              "#440154"
             ],
             [
              0.1111111111111111,
              "#482878"
             ],
             [
              0.2222222222222222,
              "#3e4989"
             ],
             [
              0.3333333333333333,
              "#31688e"
             ],
             [
              0.4444444444444444,
              "#26828e"
             ],
             [
              0.5555555555555556,
              "#1f9e89"
             ],
             [
              0.6666666666666666,
              "#35b779"
             ],
             [
              0.7777777777777778,
              "#6ece58"
             ],
             [
              0.8888888888888888,
              "#b5de2b"
             ],
             [
              1,
              "#fde725"
             ]
            ],
            "type": "heatmap"
           }
          ],
          "histogram": [
           {
            "marker": {
             "line": {
              "color": "white",
              "width": 0.6
             }
            },
            "type": "histogram"
           }
          ],
          "histogram2d": [
           {
            "colorbar": {
             "outlinewidth": 1,
             "tickcolor": "rgb(36,36,36)",
             "ticks": "outside"
            },
            "colorscale": [
             [
              0,
              "#440154"
             ],
             [
              0.1111111111111111,
              "#482878"
             ],
             [
              0.2222222222222222,
              "#3e4989"
             ],
             [
              0.3333333333333333,
              "#31688e"
             ],
             [
              0.4444444444444444,
              "#26828e"
             ],
             [
              0.5555555555555556,
              "#1f9e89"
             ],
             [
              0.6666666666666666,
              "#35b779"
             ],
             [
              0.7777777777777778,
              "#6ece58"
             ],
             [
              0.8888888888888888,
              "#b5de2b"
             ],
             [
              1,
              "#fde725"
             ]
            ],
            "type": "histogram2d"
           }
          ],
          "histogram2dcontour": [
           {
            "colorbar": {
             "outlinewidth": 1,
             "tickcolor": "rgb(36,36,36)",
             "ticks": "outside"
            },
            "colorscale": [
             [
              0,
              "#440154"
             ],
             [
              0.1111111111111111,
              "#482878"
             ],
             [
              0.2222222222222222,
              "#3e4989"
             ],
             [
              0.3333333333333333,
              "#31688e"
             ],
             [
              0.4444444444444444,
              "#26828e"
             ],
             [
              0.5555555555555556,
              "#1f9e89"
             ],
             [
              0.6666666666666666,
              "#35b779"
             ],
             [
              0.7777777777777778,
              "#6ece58"
             ],
             [
              0.8888888888888888,
              "#b5de2b"
             ],
             [
              1,
              "#fde725"
             ]
            ],
            "type": "histogram2dcontour"
           }
          ],
          "mesh3d": [
           {
            "colorbar": {
             "outlinewidth": 1,
             "tickcolor": "rgb(36,36,36)",
             "ticks": "outside"
            },
            "type": "mesh3d"
           }
          ],
          "parcoords": [
           {
            "line": {
             "colorbar": {
              "outlinewidth": 1,
              "tickcolor": "rgb(36,36,36)",
              "ticks": "outside"
             }
            },
            "type": "parcoords"
           }
          ],
          "pie": [
           {
            "automargin": true,
            "type": "pie"
           }
          ],
          "scatter": [
           {
            "fillpattern": {
             "fillmode": "overlay",
             "size": 10,
             "solidity": 0.2
            },
            "type": "scatter"
           }
          ],
          "scatter3d": [
           {
            "line": {
             "colorbar": {
              "outlinewidth": 1,
              "tickcolor": "rgb(36,36,36)",
              "ticks": "outside"
             }
            },
            "marker": {
             "colorbar": {
              "outlinewidth": 1,
              "tickcolor": "rgb(36,36,36)",
              "ticks": "outside"
             }
            },
            "type": "scatter3d"
           }
          ],
          "scattercarpet": [
           {
            "marker": {
             "colorbar": {
              "outlinewidth": 1,
              "tickcolor": "rgb(36,36,36)",
              "ticks": "outside"
             }
            },
            "type": "scattercarpet"
           }
          ],
          "scattergeo": [
           {
            "marker": {
             "colorbar": {
              "outlinewidth": 1,
              "tickcolor": "rgb(36,36,36)",
              "ticks": "outside"
             }
            },
            "type": "scattergeo"
           }
          ],
          "scattergl": [
           {
            "marker": {
             "colorbar": {
              "outlinewidth": 1,
              "tickcolor": "rgb(36,36,36)",
              "ticks": "outside"
             }
            },
            "type": "scattergl"
           }
          ],
          "scattermap": [
           {
            "marker": {
             "colorbar": {
              "outlinewidth": 1,
              "tickcolor": "rgb(36,36,36)",
              "ticks": "outside"
             }
            },
            "type": "scattermap"
           }
          ],
          "scattermapbox": [
           {
            "marker": {
             "colorbar": {
              "outlinewidth": 1,
              "tickcolor": "rgb(36,36,36)",
              "ticks": "outside"
             }
            },
            "type": "scattermapbox"
           }
          ],
          "scatterpolar": [
           {
            "marker": {
             "colorbar": {
              "outlinewidth": 1,
              "tickcolor": "rgb(36,36,36)",
              "ticks": "outside"
             }
            },
            "type": "scatterpolar"
           }
          ],
          "scatterpolargl": [
           {
            "marker": {
             "colorbar": {
              "outlinewidth": 1,
              "tickcolor": "rgb(36,36,36)",
              "ticks": "outside"
             }
            },
            "type": "scatterpolargl"
           }
          ],
          "scatterternary": [
           {
            "marker": {
             "colorbar": {
              "outlinewidth": 1,
              "tickcolor": "rgb(36,36,36)",
              "ticks": "outside"
             }
            },
            "type": "scatterternary"
           }
          ],
          "surface": [
           {
            "colorbar": {
             "outlinewidth": 1,
             "tickcolor": "rgb(36,36,36)",
             "ticks": "outside"
            },
            "colorscale": [
             [
              0,
              "#440154"
             ],
             [
              0.1111111111111111,
              "#482878"
             ],
             [
              0.2222222222222222,
              "#3e4989"
             ],
             [
              0.3333333333333333,
              "#31688e"
             ],
             [
              0.4444444444444444,
              "#26828e"
             ],
             [
              0.5555555555555556,
              "#1f9e89"
             ],
             [
              0.6666666666666666,
              "#35b779"
             ],
             [
              0.7777777777777778,
              "#6ece58"
             ],
             [
              0.8888888888888888,
              "#b5de2b"
             ],
             [
              1,
              "#fde725"
             ]
            ],
            "type": "surface"
           }
          ],
          "table": [
           {
            "cells": {
             "fill": {
              "color": "rgb(237,237,237)"
             },
             "line": {
              "color": "white"
             }
            },
            "header": {
             "fill": {
              "color": "rgb(217,217,217)"
             },
             "line": {
              "color": "white"
             }
            },
            "type": "table"
           }
          ]
         },
         "layout": {
          "annotationdefaults": {
           "arrowhead": 0,
           "arrowwidth": 1
          },
          "autotypenumbers": "strict",
          "coloraxis": {
           "colorbar": {
            "outlinewidth": 1,
            "tickcolor": "rgb(36,36,36)",
            "ticks": "outside"
           }
          },
          "colorscale": {
           "diverging": [
            [
             0,
             "rgb(103,0,31)"
            ],
            [
             0.1,
             "rgb(178,24,43)"
            ],
            [
             0.2,
             "rgb(214,96,77)"
            ],
            [
             0.3,
             "rgb(244,165,130)"
            ],
            [
             0.4,
             "rgb(253,219,199)"
            ],
            [
             0.5,
             "rgb(247,247,247)"
            ],
            [
             0.6,
             "rgb(209,229,240)"
            ],
            [
             0.7,
             "rgb(146,197,222)"
            ],
            [
             0.8,
             "rgb(67,147,195)"
            ],
            [
             0.9,
             "rgb(33,102,172)"
            ],
            [
             1,
             "rgb(5,48,97)"
            ]
           ],
           "sequential": [
            [
             0,
             "#440154"
            ],
            [
             0.1111111111111111,
             "#482878"
            ],
            [
             0.2222222222222222,
             "#3e4989"
            ],
            [
             0.3333333333333333,
             "#31688e"
            ],
            [
             0.4444444444444444,
             "#26828e"
            ],
            [
             0.5555555555555556,
             "#1f9e89"
            ],
            [
             0.6666666666666666,
             "#35b779"
            ],
            [
             0.7777777777777778,
             "#6ece58"
            ],
            [
             0.8888888888888888,
             "#b5de2b"
            ],
            [
             1,
             "#fde725"
            ]
           ],
           "sequentialminus": [
            [
             0,
             "#440154"
            ],
            [
             0.1111111111111111,
             "#482878"
            ],
            [
             0.2222222222222222,
             "#3e4989"
            ],
            [
             0.3333333333333333,
             "#31688e"
            ],
            [
             0.4444444444444444,
             "#26828e"
            ],
            [
             0.5555555555555556,
             "#1f9e89"
            ],
            [
             0.6666666666666666,
             "#35b779"
            ],
            [
             0.7777777777777778,
             "#6ece58"
            ],
            [
             0.8888888888888888,
             "#b5de2b"
            ],
            [
             1,
             "#fde725"
            ]
           ]
          },
          "colorway": [
           "#1F77B4",
           "#FF7F0E",
           "#2CA02C",
           "#D62728",
           "#9467BD",
           "#8C564B",
           "#E377C2",
           "#7F7F7F",
           "#BCBD22",
           "#17BECF"
          ],
          "font": {
           "color": "rgb(36,36,36)"
          },
          "geo": {
           "bgcolor": "white",
           "lakecolor": "white",
           "landcolor": "white",
           "showlakes": true,
           "showland": true,
           "subunitcolor": "white"
          },
          "hoverlabel": {
           "align": "left"
          },
          "hovermode": "closest",
          "mapbox": {
           "style": "light"
          },
          "paper_bgcolor": "white",
          "plot_bgcolor": "white",
          "polar": {
           "angularaxis": {
            "gridcolor": "rgb(232,232,232)",
            "linecolor": "rgb(36,36,36)",
            "showgrid": false,
            "showline": true,
            "ticks": "outside"
           },
           "bgcolor": "white",
           "radialaxis": {
            "gridcolor": "rgb(232,232,232)",
            "linecolor": "rgb(36,36,36)",
            "showgrid": false,
            "showline": true,
            "ticks": "outside"
           }
          },
          "scene": {
           "xaxis": {
            "backgroundcolor": "white",
            "gridcolor": "rgb(232,232,232)",
            "gridwidth": 2,
            "linecolor": "rgb(36,36,36)",
            "showbackground": true,
            "showgrid": false,
            "showline": true,
            "ticks": "outside",
            "zeroline": false,
            "zerolinecolor": "rgb(36,36,36)"
           },
           "yaxis": {
            "backgroundcolor": "white",
            "gridcolor": "rgb(232,232,232)",
            "gridwidth": 2,
            "linecolor": "rgb(36,36,36)",
            "showbackground": true,
            "showgrid": false,
            "showline": true,
            "ticks": "outside",
            "zeroline": false,
            "zerolinecolor": "rgb(36,36,36)"
           },
           "zaxis": {
            "backgroundcolor": "white",
            "gridcolor": "rgb(232,232,232)",
            "gridwidth": 2,
            "linecolor": "rgb(36,36,36)",
            "showbackground": true,
            "showgrid": false,
            "showline": true,
            "ticks": "outside",
            "zeroline": false,
            "zerolinecolor": "rgb(36,36,36)"
           }
          },
          "shapedefaults": {
           "fillcolor": "black",
           "line": {
            "width": 0
           },
           "opacity": 0.3
          },
          "ternary": {
           "aaxis": {
            "gridcolor": "rgb(232,232,232)",
            "linecolor": "rgb(36,36,36)",
            "showgrid": false,
            "showline": true,
            "ticks": "outside"
           },
           "baxis": {
            "gridcolor": "rgb(232,232,232)",
            "linecolor": "rgb(36,36,36)",
            "showgrid": false,
            "showline": true,
            "ticks": "outside"
           },
           "bgcolor": "white",
           "caxis": {
            "gridcolor": "rgb(232,232,232)",
            "linecolor": "rgb(36,36,36)",
            "showgrid": false,
            "showline": true,
            "ticks": "outside"
           }
          },
          "title": {
           "x": 0.05
          },
          "xaxis": {
           "automargin": true,
           "gridcolor": "rgb(232,232,232)",
           "linecolor": "rgb(36,36,36)",
           "showgrid": false,
           "showline": true,
           "ticks": "outside",
           "title": {
            "standoff": 15
           },
           "zeroline": false,
           "zerolinecolor": "rgb(36,36,36)"
          },
          "yaxis": {
           "automargin": true,
           "gridcolor": "rgb(232,232,232)",
           "linecolor": "rgb(36,36,36)",
           "showgrid": false,
           "showline": true,
           "ticks": "outside",
           "title": {
            "standoff": 15
           },
           "zeroline": false,
           "zerolinecolor": "rgb(36,36,36)"
          }
         }
        },
        "title": {
         "font": {
          "color": "Black",
          "size": 22
         },
         "text": "<b>Topics over Time</b>",
         "x": 0.4,
         "xanchor": "center",
         "y": 0.95,
         "yanchor": "top"
        },
        "width": 1250,
        "xaxis": {
         "showgrid": true
        },
        "yaxis": {
         "showgrid": true,
         "title": {
          "text": "Frequency"
         }
        }
       }
      }
     },
     "metadata": {},
     "output_type": "display_data"
    }
   ],
   "source": [
    "# Sicherstellen, dass timestamp eine gültige datetime-Spalte ist\n",
    "df_clean['timestamp'] = pd.to_datetime(df_clean['timestamp'], errors='coerce')\n",
    "df_clean = df_clean.dropna(subset=['timestamp'])\n",
    "\n",
    "# Alle Listen synchron extrahieren\n",
    "texts_synced = df_clean['text_clean'].tolist()\n",
    "topics_synced = df_clean['topic'].tolist()\n",
    "timestamps_synced = df_clean['timestamp'].tolist()  # echte datetime-Werte\n",
    "\n",
    "# Kontrollieren\n",
    "print(len(texts_synced), len(topics_synced), len(timestamps_synced))\n",
    "\n",
    "# Topics-over-time berechnen (echte Timestamps → funktioniert!)\n",
    "topics_over_time = topic_model.topics_over_time(\n",
    "    docs=texts_synced,\n",
    "    topics=topics_synced,\n",
    "    timestamps=timestamps_synced,\n",
    "    nr_bins=20  # oder eine andere sinnvolle Anzahl Zeit-Buckets\n",
    ")\n",
    "\n",
    "# Visualisierung\n",
    "topic_model.visualize_topics_over_time(topics_over_time)\n"
   ]
  },
  {
   "cell_type": "markdown",
   "id": "d2b77b30",
   "metadata": {},
   "source": [
    "## 4. Visuelle Exploration mit UMAP\n",
    "\n",
    "Zur besseren Interpretation der durch BERTopic erzeugten Embeddings und Topics projizieren wir die hochdimensionalen Embeddings in 2D mit **UMAP**. So lassen sich thematische Cluster visuell erkennen."
   ]
  },
  {
   "cell_type": "code",
   "execution_count": 74,
   "id": "bb493a0c",
   "metadata": {},
   "outputs": [
    {
     "data": {
      "application/vnd.plotly.v1+json": {
       "config": {
        "plotlyServerURL": "https://plot.ly"
       },
       "data": [
        {
         "hoverinfo": "text",
         "hovertext": [
          "cruise ships dumping sewage oceans",
          "true gracie abrams",
          "rodrygo touch nutmeg",
          "im going co springs shrek rave tn u see say hi",
          "einfachste apfelkuchen welt geht total einfach unglaublich lecker braucht handvoll zutaten außerdem sieht richtig schön zutaten äpfel g mehl g zucker g erythrit eier ml milch einfach geht s zuerst schneiden äpfel kleine stücke geben einfach zutaten teig schüssel mixen schön schneebesen danach kommen schon äpfel aufs backblech darüber teig schön verteilen blech kommt ober unterhitze circa minuten ofen herausholen puderzucker darübergeben genießen sicher lieben werdet spaß beim nachmachen guten appetit",
          "lil sis",
          "detainees bluebonnet immigrant detention centre small city anson texas sent outside world message week reuters drone flying nearby men formed letters dirt yard facility ten days earlier dozens venezuelan detainees center given notices immigration officials alleged members venezuelan gang tren de aragua subject deportation wartime law",
          "mind face",
          "back gf",
          "almost months surgeries later still feels like world ended day",
          "ok baby relax facts",
          "oh look years old boy agt part",
          "lets danceeeee",
          "need get pk humble bigger shorts",
          "alfred turn",
          "years old girl crazy voice gaugué",
          "happy easter",
          "cant cool kid way",
          "ok bye spam time go work fr",
          "asmr soap crashing",
          "go school tomorrow yamal",
          "ups",
          "big shout man romo stalking running steve def big highlight boys sucks little one sick get chance meet earth man black",
          "beautiful places china",
          "mins pure asmr relaxation sleep",
          "rude",
          "część",
          "conquest",
          "bondi lifeguard takes thief heart stopping chase",
          "back beautiful dessert shop la location aurora shimmering delicacies la",
          "stay safe mc donald x",
          "pov first time using scissor k memes",
          "try new template edits backup dibee boo ice",
          "beautiful bride looking stunning",
          "every great champion stands silent sacrifices another",
          "sa tête",
          "hungry",
          "cleaning satisfying dirty flooded carpet",
          "living",
          "momma got game via isabel torres",
          "our little life",
          "powerful countrys supported india",
          "dc attack reflection l",
          "mini",
          "best falling moments",
          "proof skinwalkers caught camera",
          "tecnologya",
          "trick creators",
          "sleepy asmr triggers deep sleep relaxation",
          "pupici consensuali",
          "motorola",
          "real",
          "everyone copying queen",
          "cooking gaitlyn rae",
          "call duty modern warfare clean house mission gameplay",
          "countries giants",
          "looks like much fun",
          "kind world",
          "sigma",
          "choisis femme",
          "gespannt termine online buchbar link bio hört musik spotify speichert playlist spotify mrsmrsea folgt mehr musik content tiktok instagram youtube mrsmrsea danke support",
          "take every game way seriously",
          "unfreez account khan official",
          "coming fast",
          "dad rating uncle accent",
          "try new template edits backup",
          "love wallace blank",
          "theme ate posted part nicki minaj yall better stop complaining",
          "chef problem",
          "fox core",
          "unfreez account khan official",
          "getting ready hour red eye flight",
          "welcome thanos world",
          "placed bed nether",
          "way joined tuff",
          "runs street",
          "transformation inshape nutrition",
          "dc",
          "bts",
          "tg akimbo_",
          "baby",
          "whos kicking wrong leg",
          "robert geiss mindset",
          "avocado fell taba drying",
          "ballerina cococolina",
          "soldier son part",
          "obviously overlays day day used overlays use u wanted use well",
          "got celebrate differences",
          "every lady deserves flowers",
          "un gvvv",
          "never trust garbage heart",
          "baby janitor calls boss day long week mopping floors cleaning messes hardworking baby janitor finally picks phone ask boss day tiny cleaner get rest head back work watch hilarious cute moment unfold",
          "incroyable",
          "never thought mercedes would build unstable cars",
          "account khan official",
          "ib dezz",
          "save woods kit available bio",
          "microwave srace",
          "quickly choose hiding spot hide seek rooms game",
          "know belong",
          "keeping streets safe",
          "yamal",
          "let see shake next season",
          "check mona lisa motion plattforms",
          "one best toilets direct food fish well fish love",
          "india pakistan war kashmir border firing",
          "academy σας περιμένουμε και στα υπόλοιπα καταστήματα μας που βρίσκονται στο παγκράτι φιλολάου ζωγράφου λεωφόρο παπάγου ιλίσια γρηγορίου αυξεντίου και αμπελόκηπους λαρίσης",
          "said backyard worse accepted challenge",
          "took revenge humiliation true story simon claw birth",
          "last save",
          "subscribe miss next",
          "our hot ones versus episode out now",
          "gta radio ist crazy",
          "pov tutu making good efforts",
          "inverser mdr",
          "novo modelo no capcut",
          "shake maxxx",
          "anatoly ego destroyer",
          "old lady tells delivery driver deliver building",
          "dumb cop messes worng fbi agent",
          "egg fell taba drying",
          "way football team joined tooo tuff",
          "mix",
          "relatable",
          "passenger princess be like",
          "summer volleyball",
          "yall would never see martey",
          "missy relationship george",
          "kicked beaten ending shocking",
          "see run away",
          "unwind epic river snow casting rod heavy setup",
          "max ping",
          "going",
          "met gala",
          "invited mcgivern",
          "sorry funny anyone wants donate clothes appreciate x",
          "satisfying cc pedro gonzales tedeev",
          "nunca muda template",
          "vayáis gibraltar",
          "setting easter mass",
          "prison break évolution",
          "no extra stress bby",
          "future roborock saros z robot vacuum mop robotic hands",
          "soldier surprises girlfriend birthday surprise homecoming proposal finds pregnant part planned surprsie proposal birthday found best news",
          "account khan official",
          "sign letter e",
          "baby monkey moon able control car trouble",
          "mission impossible",
          "poate follow",
          "goodnight sleep tight hehe",
          "going hag drag",
          "partner robotics heading bauma germany april showcase floor tile paving robot p booth b",
          "broke sound barrier",
          "hen party ready letssss goooo",
          "rent free head dc gone crazy official",
          "zombie escape raining situation bad much food left car next",
          "sigma girl янковская",
          "mask slipped",
          "ignore shoes lol feet hurt xxxx",
          "die smile relaxing edition",
          "chat real",
          "would give anything watch",
          "unfreez account khan official",
          "brutually shocked",
          "new nailsssss",
          "everyone keep straight face loveme tiff via collab",
          "hallo chef problem",
          "kid grew nikola jokic dunks",
          "got emotional baby beyond proud",
          "stop falling people fast",
          "hallo chef",
          "cut apple watch iphone airpods sleeping make new handcrafted leather band cases",
          "kill meeee",
          "unlocking creator search insights guide success",
          "beluga lagoon the glen such a summer vibe banger",
          "lock",
          "new template",
          "część",
          "working footwork past months",
          "might perfect height via satincali ig",
          "clip led fangs pulse crimson let smile rewrite rules midnight",
          "fun stay blast conga line dancing season fraggle rock back rock look puppeteers go somewhere hidden second row big gaggle fraggles good news see seasons emmy award winning series jim henson company tv right",
          "zsá",
          "courage mv",
          "canapé extérieur palettes palettes canapé cette technique super facile rapide réaliser super salon jardin rapidement cher",
          "voice",
          "marry",
          "minutes full face make summarised minutes enjoy",
          "every single outfit blake lively wore simple favor tags",
          "replying games zm",
          "dc love dc",
          "część",
          "wer",
          "version rich",
          "disclaimer tell say complete shock said",
          "imagine redbull x powerade night",
          "porsche gt exhaust valvetronics",
          "weeks old manners tongue blue blue sweet license please contact licensing",
          "best reactions",
          "me",
          "yellow rain",
          "meathead freestyle",
          "physics overrated",
          "im typpa girl",
          "audi rs v soundcheck",
          "part",
          "yıldız goal",
          "el barça remonta un barça psg ucl",
          "την πέτυχα και δεν ακούω κουβέντα",
          "said lets go vacation heaven",
          "diaper calf",
          "new trend template 𝙄 𝙇 𝘼",
          "expecting game called senior splashin players eliminate players water videos like taken seriously",
          "love making lily bouquets insta flores_delicacys",
          "john wick tuff",
          "new capcut template new template new template",
          "karen want lift",
          "clips edit",
          "chef problem",
          "mistake shape growth",
          "temps",
          "mona lisa motion plattforms",
          "minecraft easy duo house ft mc",
          "fíanna force",
          "jealous never",
          "champagne coast blood orange sorry yall heard song much never get",
          "rank without knowing next",
          "scene tho",
          "trendingsound eilish",
          "sylvester stallone training",
          "moments showww",
          "template makes person memoji rm ib sc violet",
          "bronny first career pt came front travis scott via",
          "love story sealed ring",
          "cute baby singing apt",
          "blood fs",
          "dexter meets talking cactus",
          "demain autres astuces nutrition",
          "top worst voice kids performances",
          "follow",
          "oreo",
          "fake pregnancy pt",
          "get glynis involved",
          "vamos barcelona matchday",
          "leo best daddy ever",
          "play favorite",
          "since bonnie blue meet jeet time brought barely legal julia",
          "new template",
          "virgin wife",
          "clip musstest grinsen",
          "roses red violets blue third season xo kitty store",
          "star wars season fortnite secret locations added",
          "part",
          "tiramisu let make construction sized",
          "new glow template",
          "lirilí larilá arrested",
          "kindness ekels society alive",
          "alphonso davies filth",
          "mars",
          "dc",
          "part",
          "ups",
          null
         ],
         "marker": {
          "color": "#CFD8DC",
          "opacity": 0.5,
          "size": 5
         },
         "mode": "markers+text",
         "name": "other",
         "showlegend": false,
         "type": "scattergl",
         "x": {
          "bdata": "19gZP8mER0CtbYtAz+mWP9q9xkCmJlpAq2gHP4QmlT97Z1VAD33APtFXYD+XMQO/CI9hP+HEzT84UK1ApXYgQHCORT9tHLw/Fly2PrmMVj8+y/Q+suUjQGm0AEBI5nNAh3lZP6fNET+2QqdAUQYSQMeolUCX0WdAr20NQAQ4hkD0/GVAVTtaQAi2+j9FaJxAyRirP+kcED9Ls6Q/ibmOQNrRtj/YWYNAnx4nQHYxHUBAEBxAFzpBQEyLnEB1lqo/iAdWP9tXyEDYRxtANpW6P/a7UEAiC1hANiAuP3IIgkBch3a+Cn98PzwjAkGBz8JAq0iJQGzWJz9Gjic/SxjePwZkG0DNaWZATVGlP9pjEkFo1Y5AF9ASQCKOJz9mpC5Af1KMPxnRNUAbjYZAoj9wQCwyG0Db9SdA5wQqQIihl0ASyC8/r2eHQOlRp0CUykY/TbyEQJ04+76RGp8+8pYnPg7lXUBSXLVAuqvWPzXLFz9xlkE/5aCAQCiBJz/5bIhABd7GP8t6pz8mFztAbrODP7/2cECkMO4+1sb3P1BnQEButh8/oA5fQNlOIEFlrqk+omzVP41MfT5BO38/SYWfP8yfhkChn5JAJFlVP/wsaEADyQBAQyQqOzEwOED5LAo/K0hEPz6giEDqBLA/qy9AP8uNT0DQs4s/0CvxP6APVkBu9/A/hsD0PxM6OUDzOgFAHjSVP0wKQ0CpFJQ/gpfGP2PYNECQRmlAdtGzQJRmSz/dT8g/PTdjP52wRUA9B8g/24knP6SUUkA2R3lAvVTRP6kzgkDZUEk/xlGWP4BGRECsBQRAyScrPjunKkBLEIA/I0MCQV/mP0BKQMU/eEvlPzd0uT97GgZAtYQnP0aGB0C/vApAHF+eP5Yqj0AB7idA4/DBP/SGMkCHH5BAS6IRQP7CRD8zWLA/2t/SP34+EkBvj2dAkVynQJYTMj8KrlhAbKQ0QG/1G0AzpqtAAcEPQOSlQEDT3hdAtCnIP9U3jj/wCYU+l9sFPwX1J0BJxadAaDzDPlhWDUCWhwhALf8gQJ5Dg0BIZEFAb6/fP2ji9b57NIE/w3wcQMxRoj/0NZdAGtQGQLeq975SCKJAkyuzQHpNIEGE7pg/YTx+QLFbZUC1Jy0/EtNgQOPpiEAhOmdAqDlIQOH5QUBOn45A83ItQEfUyD85Fj9AjrPTP2azDECgOTk/Ag4pQFHeeT/yxQG/OvcKQGjRPUD+Wg5AX9NmQH6u6z90HzZAL/wJQLuGJECqCzZA2+7UQOppHUCcD5M/hg7RQIvhyT9UglpA9ESyQCZDe0DQQVE/FDhOQLUNZ0D3PElAFFc/QBdeZECgqD1Aql35vg2xVUC9xmVAHFiUQIQLgD8vE65AM2cpQA6eJ0BK9vi+dnQiQCx5IUA=",
          "dtype": "f4"
         },
         "y": {
          "bdata": "4PAPQV6EC0FhDgRBrMUNQQSGx0AYHwZBZQYeQVPV+UCALQNBhKQFQfOAAkErnwhBMQntQOKV2kCznsRAfrcUQX8VC0HEOPZAkIzcQLDP00DIGNxAFoAKQXPL/kCPKxVBMPfUQAnLA0FTedpAM50CQYNMBkHHHBRBxbwCQV2g3kC367FAQ9QNQVSpAkFhj+VAHy76QLPCFkGbPxNBP2QNQdiyF0GfZRpB6QAJQfVmDkGZDR5ByqYOQd505UCKVSJBGdrUQIgk/ECyjQ9BpO8MQQVLAkHlvgVBlYgSQTaWGUHexwhByVUdQVJc7kCuPPNAr9ogQbkiD0GxyFxALQ0CQda4FEE9dbJAU2X3QEybGEHsbtJAg3bxQIfFXEDEwfhAqwEbQfL2KkFSAOtAcxMXQRBQ30BhPglBzSDvQBqy6EC7uwJB8HILQW47xkBD6hJB5swCQSrgCEF4KQpBN3UKQWDeDUGpYg5Bynv/QKQNHUH7wQJB7l8VQUzDXEAV2glBWYr6QAq5/EDPNxJBVTITQUHoFkFffNhALKTuQHm9IUFIxgtBKbXtQOpu/kBXcAdBSAoSQb1jAEEZnvNAX08GQWJHE0FTxOVA6MbRQApztEDT3uxA2w4aQYDtDEFQSR1BlmESQc6n7UDJDQJB4mECQfgCAkFWxQdBwufwQP2QBEEuQhBBhzwAQdoCGUGJ2u1AYk8OQR+J/0DRYw5BBCTYQDtqAEEmnrRArTcPQcrCDEEMuxRBuBgCQfHcHkHwoRpBBMZcQGvS5kCCHBdBLxcTQYd54UB1gdVAbykOQVnHH0EOlBRBxCkLQRZ0CEG89hBBHuvtQCz+DEEpMtlAmcsOQZrNDkGE8xlBksRcQBv9DUEJCARBoPr8QHS50kAFROBA4r8XQRttIUEshNNAjMgQQSsS7kCwMSZBy/QIQWsCA0E3R7NAko3aQBUqB0F+X9VAJpQbQSX9H0EMpNxAeOICQTjdy0CZghNBm5wAQUbT+kBkpBBBv40QQZBfCEFtJtpAnS7XQKS27kDpEQ5BOn74QP1hFEGvDgVBLL7iQF2+CEFzfg1BIMQSQV0a6kDDXuhAEy0VQcIMCUHJ1wlBhBgPQWFu/kCDARBByhQDQQi1s0BS3xBB24oQQW1Y7EBIArNAutILQTYBHUGyg9JAdavdQO2i8kDs4iFBOEEIQdq2DEGG6PJA5OogQdoaFUErAQlBdDYaQRzND0EeoRpB+aCyQPI+8kDm7wFByxYdQc6Y7kCK7/5AzOHgQKlWFUG8BvFAboMGQZmKGkEaqQVBj3wPQT6pCkEU1AZBhogFQf7pskDJnQNBFnAdQWGqFEGGSRFBysQIQWfZ1kBjqbJAGdgGQeAPHUH9ecRAbmoKQflLCUEcyghB1mwKQQ3vAkE=",
          "dtype": "f4"
         }
        },
        {
         "hoverinfo": "text",
         "hovertext": [
          "anzeige eigene gewürze flammkuchentoast zutaten toasts g schmand g frischkäse crème fraîche g schinkenwürfel handvoll geriebener käse plus extra bestreuen scheiben sandwich toast stabileren steaksalz zubereitung creme anrühren schmand frischkäse crème fraîche schüssel glatt rühren füllen schinkenwürfel handvoll geriebenen käse creme mischen steaksalz würzen bestreichen creme großzügig toastscheiben streichen käse toppen geriebenen käse belegten toasts streuen backen vorgeheizten backofen c ober unterhitze backen oberfläche schön goldbraun ca minuten je ofen tipp schmeckt heiß besten perfekt snack schnelles abendessen partyfood",
          "zakladac apke",
          "noooo politzia",
          "não sei que aconteceu",
          "internet kinder kindheit genommen",
          "badania wykazują że nawet społeczeństwa myli lewo z prawem odwrotnie przy zwiększonym stresie tak naprawdę przy bodźcu wywołującym emocje np lęk które które przejawiają się też spięciem na układzie nerwowym w ciele tym łatwiej pomyłkę tego typu ekscytacja też może przyczynić się mniejszej uważności polecam poćwiczyć przed lekcją swój mózg medytacją lub ćwiczeniem czucia siebie w ciele dajcie znać czy łapiecie czym mówię mieliście tak kiedyś może jakaś wesoła historia podzielenia się też jest dawaj zaobserwuj żeby zobaczyć marka w akcji",
          "a quoi comme handicap abonne marre",
          "este jogo de sobrevivência é uma obra prima",
          "mir egal",
          "un pressing bien gourmand",
          "meu jogador",
          "low carb zucchini rolle sooo schnell zubereitet unglaublich lecker sättigt total ganzen proteine zutaten zucchini eier g light reibekäse g hack ml milch g feta käse salz paprikapulver sesam tomatenmark zucchini scheiben schneiden backblech verteilen eier aufschlagen verrühren zusammen reibekäse milch gewürzen zucchini laufen lassen kommt sesam spiel blech min umluft ofen geben danach hack tomatenmark anbraten blech ofen nehmen reibekäse feta hack darauf verteilen ganze einrollen nochmal kurz ofen geben sodass käse schmilzt fertig spaß beim nachkochen findet low carb varianten",
          "neue freundin vidie gezeigten aktivitäten wurden professionellen schauspielern inszeniert entsprechen realität wurde niemand gemobbt belästigt",
          "vraiment triste",
          "hoe ga je om met adhd en prikkels",
          "kocham być kobietą",
          "verliebt kandidaten erkenne wunderschöne synchronsprecherin",
          "héritier tant attendu",
          "ende lachen",
          "verschiedne nationalitäten",
          "wszystkiego najlepszego dla pani doroty",
          "sagt hallo britisch kurzhaar",
          "si españa existiera inventarla",
          "weit gekommen",
          "paulinka wróciła",
          "rund menschen fragen tödlichen polizeischüssen jährigen lorenz a gingen unterstützer freunde antirassisten straße vorfall untersucht",
          "gelernt gelernt",
          "mivanitt kérem",
          "posso desiderare amici migliori",
          "direkt ehrlich",
          "send someone needs go turkey",
          "ești un șofer de camion mândru și cu simțul umorului atunci acest sticker auto este perfect pentru tine mein lkw mein problem un sticker auto amuzant și autoironic perfect pentru arăta că ești un șofer de camion cu experiență și că știi cum să faci față provocărilor de pe drum cumpără acum de pe www stickershopromania com",
          "bagel sandwich ei käse salami schnell einfach mega lecker knuspriger bagel geschmolzener käse herzhaftes ei frühstücks sandwich echter gamechanger perfekt schnellen start tag herzhafter snack rezept blog www foodwerk blog de speichere video probiere wer liebt bagels genauso",
          "hammarby jan gunnar solli received yellow card",
          "ses på sri lanka til sommer lars",
          "hihihi",
          "replying to pronta essere sminuita tutte persone credono presentato porsche amiche passato serata assieme",
          "à k likes fait un épisode",
          "nom iness a vice",
          "the walking dead madrid suerte verte ventana casa",
          "kurz müll rausbringen",
          "bailalo rocky",
          "brbrpatapim dj",
          "casa riunione condominiale",
          "erstmal therapie",
          "tyle przygotowań na marne",
          "die talahons sind alt geworden",
          "giờ chuẩn bị đi chơi",
          "banane chiasamen sättigend verdauungsfördernd perfekt gesunden abnehmen schnell gemacht super lecker",
          "officially fallen victim temu got",
          "bon appétit",
          "salga temporada",
          "ärmster geburtstag jemals",
          "tut mir leid chef cutebaby",
          "hast lachen geschafft",
          "habubi",
          "peltsi ja osmo osa isä peltsi ärsyttää osmoa",
          "balerinnaaaa cappucinna",
          "elas foram expulsas casa final é surpreendente",
          "ecco altro esempio risorsa pagherà pensioni",
          "kinderbande festgenommen wien",
          "brbrpatapim dj",
          "part femme sous silence",
          "cette jeune fille ans a victime deepfake choqués vu vidéo trouvez ça grave toujours problèmes comme ça jeunes filles âge effet a cette vidéo a très viral tiktok cause sujet tristesse dégage suite homme a décidé prendre photo faire quelque chose compromettant grave cette vidéo but préventive là sensibiliser dangers internet faites attention lorsque exposer proches surtout enfants gens malveillants peuvent utiliser faire choses très très grave malsaines avis",
          "warum junge zseine spielzeuge verkauf",
          "heißt sonnenuntergang finnisch",
          "bobritto bandito",
          "wieso aufrufe bekommst pro video wege beheben",
          "khỉ con moon té xe vui nhộn",
          "mögt ihr spaghetti carbonara",
          "znač rychlochodce",
          "paul",
          "t e bob esponja en gitano",
          "glaube bock",
          "apprendre l anglais facilement avec mes vidéos learn english easily videos",
          "x poćwiartowane zwłoki w walizce kolejne makabryczne odkrycie tym razem w ustce woj pomorskie przypadkowy przechodzień zauważył w niewielkiej rzece walizkę kiedy ją wyciągnął na brzeg otworzył przeżył szok w środku miały znajdować się ludzkie szczątki walizka została znaleziona w pobliżu ulicy rybackiej póki co śledczy nie wykluczają żadnej wersji wydarzeń źródło rmf",
          "dis shi da faint hearted",
          "haine svp",
          "leben gebettelt",
          "schneller chiron mehr r motormagazin grip motormagazin immer sonntags uhr",
          "esperando audio perfecto",
          "voher geld",
          "l păcălit pamflet cont secundar",
          "dubai schockolade kuchen zutaten gebratene kadayef teig pistaziencreme creme g mascarpone gr gezuckerte kondensmilch ml schlagsahne ganache gr schokolade ml schlagsahne",
          "hallo chef komme arbeit",
          "nooooo fruttodrillooo",
          "stehe fassungslos",
          "milano viale monte ceneri",
          "axel grismau",
          "leraar schreeuwt voor de klas",
          "æneeee",
          "braucht mann",
          "shabbat shalom",
          "nom prénom grosse alerte",
          "türe halt eingetreten",
          "arvatkaa mihin ollaan menos",
          "naja vielleicht finde jemanden",
          "ralf trifft mümmelmann",
          "paris quand jamel debbouze aide pêcher silure mètres seine",
          "ponte bien mantón guapa regato",
          "tut begegnung eigentlich problem hund greift hunde besitzerin sagt telefoniert einfach verantwortungslos sagen hund trägt ja maulkorb hund reagiert weiß warum trägt wegen sowas bekommt hund immer immer mehr angst fremden hunden",
          "regarder jusqu fin pov quand daronne réveille",
          "ha nem hát nem",
          "bobrito bondito",
          "mache freitag krank",
          "räder ps ungewiss endgegner hilti lkw",
          "première image dimanche pâques place saint pierre pape françois finalement bel bien présent malgré fragilité état santé cela plus grande joie milliers fidèles rassemblés traditionnelle bénédiction urbi orbi ville monde",
          "crayon er mai jour historique travailleurs vu fête travail émilien a profité passer cdd cdi compagnie coups va être validé émission retrouver intégralement tf coups jours",
          "xangai",
          "arten mensch",
          "date suche richtigen frau chahine neue folge online",
          "zusammengefasst fehlt",
          "immer fassungslos darüber menschen gibt gehässig böse glaubt leben kommt zurück",
          "pogledaj kraja",
          "wirklich größer geworden",
          "balerinna cappucinna",
          "arda güler",
          "wolf schönste braut welt",
          "aime gingembre",
          "shakira background tänzerin natalia palomares befinden offiziell offenen konflikt",
          "habosh babosh sprite whats next le",
          "terlalu pagi muka bengkak plus jerawat hormon bulanan",
          "válasz részére",
          "voici autre sujet fais souvent girafe adoré faire originale vendue disponible impression x pouces site",
          "folgt mal insta sachen gepostet gepostet macht tiktok polos",
          "part ça se passe pas comme prévu merci polaroïd",
          "fail ajajja",
          "geist fährt",
          "nein seid hot dafür ig",
          "partie jacob x brazilian phonk original content",
          "ding wurde immer letzten tag aufgeschoben",
          "barella",
          "danke ganzem herzen mega abend",
          "justiceforlorenz",
          "être payé regardant publicités",
          "doradca sławomira mentzena prawicowy ekstremista który chce odebrać kobietom całkowitą wolność zakaz decydowania własnym ciele udziału w życiu publicznym nawet uprawiania sportu brzmi jak scenariusz z książki margaret atwood niestety nie rzeczywistość jaką proponuje konfederacja maja powiedz nie brunatnej prawicy głosuj na prawdziwą wolność bezpieczeństwo głosuj na mnie",
          "kg selunde gehungert esse sogar mehr damals verrückt",
          "giuro così brutta solito",
          "mal probiert lieben üben",
          "sanarsın yeşil pasaportumuz var kırdı",
          "válasz forever részére anya volt fiatal",
          "buldak sommerrollen",
          "wasza narodowa sensejszyn",
          "phyokoko ပ င ဥ လ င သ လ ပ ဟ လ ဟ တစ ယ က ရ က ခ င တ န ရ ရ က",
          "king kunta",
          "será que se primeiro ministro vou ser duro e autoritário quero que saibam resposta por mim",
          "bewerte glow ups zuschauern",
          "morgenroutine wollt nächstes",
          "obacht wen anfasst",
          "sagt fotogen",
          "de fatbike kon niet ontbreken deze video",
          "kan knappt tro att det är sant vem längtar efter att alla möbler kommer jaaaaaaaaaaaag",
          "shut dance dc nan trinh lê duy",
          "isto acontece todos os dias",
          "mädchen übertriebenen morgen routine",
          "polizei stürmt haus findet",
          "true story balerina cappucina crocodilo tralala",
          "supirnya pada cupuu sutanto",
          "relatable scheiß",
          "signoraaaa limoniii signoraaaa follow italian content",
          "nancy ajram ah w noss",
          "senyszyn króciutko z korwinem",
          "worüber macht sorgen kommentiert",
          "laufrad mal ganz heute gibt s akustik version ganz entspannt unplugged freude einfach mal reinhören mitwippen",
          "empieza",
          "schwer bewaffnete polizisten gepanzerte fahrzeuge absperrungen los hamburg witz verbrennen gerade milliarden euro hamburg schön warm drogen zutun erfährst hamburg freitag rund tonnen kokain höchsten sicherheitsvorkehrungen vernichtet worden straßenverkaufswert gigantische milliarden euro transport müllverbrennungsanlage hamburg billbrook glich hochsicherheits einsatz drei tonner bundespolizei brachten drogen verbrennungsort eskortiert rund schwer bewaffneten spezialkräften sogar panzerwagen survivor kam einsatz rund anlage zudem dutzende zollbeamte maschinenpistolen postiert angst überfall kriminelle banden groß kokain stammt mehreren spektakulären drogenfunden vergangenen monate hamburger hafen immer große mengen rauschgifts entdeckt meist containern südamerika wurden sommer einzigen container zehn tonnen kokain gefunden zweitgrößte drogenfund europa jahr zuvor entdeckten ermittler drei tonnen versteckt alten feuerwehrauto frachter brasilien laufenden ermittlungsverfahren wurden beschlagnahmten drogen streng gesicherten lagerstätten norddeutschland aufbewahrt abschluss verfahren wurden endgültig vernichtet kokain völlig nutzlos verglüht verbrennung freigesetzte energie fernwärmegewinnung genutzt tausende hamburger haushalte wärme versorgt wohliges gefühl ganz gefährlichen rausch",
          "erkenne albanerin",
          "folge gern mehr",
          "acompañe pintarme cabello no salió bien",
          "temos de acabar com esta mania de nos adaptarmos tudo e todos ou respeitam nossa cultura ou então podem comprar bilhete de regresso casa",
          "mały nerwusek",
          "leg it go sommerurlauber",
          "batalla basurero",
          "wiśnia nie",
          "bambino tralalelo tralala",
          "macie jakieś teorie spiskowe może poserduszkuje niektóre prawdziwe",
          "moccia",
          "melhor jogador mundo ataca novamente",
          "lasst firma ruhe",
          "baumblüte",
          "ligue som hoje é dia mundial da baleia e é incrível pensar que somos vivos durante mesma época maior animal de todos os tempos",
          "miren llego",
          "en la jeepeta va puestisimo",
          "tür habibi",
          "squishy soli ingredienti farina crema mani sapone mani piace",
          "vuole fare formula angelo duro film fine mondo",
          "bleibt freund definitiv zuhause",
          "lanz erklärt weidel kontext ukrainekonflikts",
          "tecnologia",
          "shakira em su nueva gira por brazil en rio de janeiro",
          "probability theory tanktoon ranzar",
          "tak år venner følg min youtube se hele rejsen",
          "naja ist halt oder",
          "rodzinna majówka",
          "montagem tomada",
          "bailalo rocky",
          "já lhes disse uma e outra vez não vão intimidar",
          "wyobraź sobie że idziesz na zajęcia jesteś świadkiem czego takiego",
          "polizei freund helfer lia",
          "zahide drama immer schlimmer",
          "gendarmes toujours top",
          "stěhování jasné",
          "bagi mówi best fylyng",
          "w każdym z nas są dwa wilki",
          "vietnamese türke",
          "dhëndri vs nusja hiseni",
          "längtar efter att få visa er alla möbler sen också ååååååå omg kan inte fatta att jag snart flyttar",
          "afd gesichert rechtsextremistisch sagt verfassungsschutz",
          "oubliez pas",
          "nommée pof merci donc pouvais détourner trend faire quelque chose ressemble encore plus fonds cette vidéo bien évidemment reversés association encore décidé laquelle hésitez donner noms commentaire si connaissez bon avoue mouillée laquelle nuque avant glaçons fondent vitesse rachel jouer",
          "harald glööckler versteht alice weidels motivation teilnahme my style rocks",
          "hania przesadziła ale trudno dobijamy nie poddam się kto najlepiej potraktuje ten filmik dostanie pozdrowienia od hani można wygrać pozdro nie zwracajcie uwagi na mój głos hania",
          "kenan yıldız",
          "bomboclaaat",
          "händen selbstbräuner",
          "olha que ele criou com essas madeiras que ningue queria",
          "markus kaktus sitzt bus neben nuss",
          "aspettando fumata",
          "jajjde birom",
          "avocadini antilopini",
          "la quoi",
          "brotmesser niemals dreckig",
          "arriba culichi boss",
          "ihr ernst",
          "innamorata",
          "finden dm rossmann",
          "toyota supra aprendiendo derrapar",
          "goin superbowl like abra oo na na category sports spells",
          "wäre russland krieg nato beginnen",
          "insta ahmad neu",
          "original gesehen fand soo cool omg süße maus gefreut cr",
          "vệ sinh tai viêm khó đó nha",
          "tout jours demande mdrr",
          "tutorial de la salsa",
          "kto jeździ z dareczka drivereczką w cyrku się nie śmieje jazdy totu l współpraca barterowa",
          "actrice connaître",
          "die docent zo lief",
          "los gehts",
          "viele pretty girls unter dem sound",
          "nu hjälper vi varandra kommentarsfältet",
          "faux fans hantise etes accord kenza tomate burrata kenza burrata kenza waldorf concert jul concert jul paris concert jul stade france",
          "shimpanzinni bananinni",
          "palestrante ms palestrante ms palestrante ms",
          "make up heute gemakeupt",
          "chcesz namówić bliską osobę głosowania na mnie pokaż mu wideo wymieniam powodów dla których warto maja oddać na mnie głos",
          "sverige",
          "euwww est où là je rêve kenza tomate burrata kenza burrata kenza waldorf",
          "duo wurde geopfert brainrot gedeihen",
          null
         ],
         "marker": {
          "opacity": 0.5,
          "size": 5
         },
         "mode": "markers+text",
         "name": "0_de_na_käse",
         "text": [
          "",
          "",
          "",
          "",
          "",
          "",
          "",
          "",
          "",
          "",
          "",
          "",
          "",
          "",
          "",
          "",
          "",
          "",
          "",
          "",
          "",
          "",
          "",
          "",
          "",
          "",
          "",
          "",
          "",
          "",
          "",
          "",
          "",
          "",
          "",
          "",
          "",
          "",
          "",
          "",
          "",
          "",
          "",
          "",
          "",
          "",
          "",
          "",
          "",
          "",
          "",
          "",
          "",
          "",
          "",
          "",
          "",
          "",
          "",
          "",
          "",
          "",
          "",
          "",
          "",
          "",
          "",
          "",
          "",
          "",
          "",
          "",
          "",
          "",
          "",
          "",
          "",
          "",
          "",
          "",
          "",
          "",
          "",
          "",
          "",
          "",
          "",
          "",
          "",
          "",
          "",
          "",
          "",
          "",
          "",
          "",
          "",
          "",
          "",
          "",
          "",
          "",
          "",
          "",
          "",
          "",
          "",
          "",
          "",
          "",
          "",
          "",
          "",
          "",
          "",
          "",
          "",
          "",
          "",
          "",
          "",
          "",
          "",
          "",
          "",
          "",
          "",
          "",
          "",
          "",
          "",
          "",
          "",
          "",
          "",
          "",
          "",
          "",
          "",
          "",
          "",
          "",
          "",
          "",
          "",
          "",
          "",
          "",
          "",
          "",
          "",
          "",
          "",
          "",
          "",
          "",
          "",
          "",
          "",
          "",
          "",
          "",
          "",
          "",
          "",
          "",
          "",
          "",
          "",
          "",
          "",
          "",
          "",
          "",
          "",
          "",
          "",
          "",
          "",
          "",
          "",
          "",
          "",
          "",
          "",
          "",
          "",
          "",
          "",
          "",
          "",
          "",
          "",
          "",
          "",
          "",
          "",
          "",
          "",
          "",
          "",
          "",
          "",
          "",
          "",
          "",
          "",
          "",
          "",
          "",
          "",
          "",
          "",
          "",
          "",
          "",
          "",
          "",
          "",
          "",
          "",
          "",
          "",
          "",
          "",
          "",
          "",
          "",
          "",
          "",
          "",
          "",
          "",
          "",
          "",
          "",
          "",
          "",
          "",
          "",
          "",
          "",
          "",
          "",
          "",
          "",
          "",
          "",
          "0_de_na_käse"
         ],
         "textfont": {
          "size": 12
         },
         "type": "scattergl",
         "x": {
          "bdata": "cCXFQBDjvUDU56RAaDjVQGlk0UAX/7dAa3bUQGP010CbZppAEZDcQM13tUCB/MRAHpzkQP9Z3kChgdFAXV6pQIz11UA+8t9AyHbVQOTA2kDji7tATi3YQN6V1kDn4dRAy8S1QLU230CwIctAdwS4QJjf2UAhSNdAm6i2QPpt5EC97MRAsluyQLpH5kCjd59AuPLXQLZqjEBArsxAivvXQC+p1kBEoaRARIukQLga2UDvt7VAdznKQKr40ED4aLtA8t7RQJ7GmEBY6cNAxTmgQHrA4UAXhZNA/yTQQHjsl0AKkrNA1B6iQBcb2kAEy99ABB3TQOwMpUDQD8NAMobtQNHVxUCOO9dACNSkQJwr8EBkLrtAbzrFQEfRwkA8KKlA+RnHQNM0lUAFL/BA0HC5QLeCxUBmhbpAnk3VQLAjt0DNbtJAUDfFQBDo2UCBr7tAPaCSQC8duUDJSMBAFsjPQJK/pkAc2eZAIKqQQKuDy0DIP8dAbgbRQISF3UCZoLFAPAPOQFLT3EBlX+BAJiHUQLJm7ECpt+JAEtvCQEqGpkCaU+JAMcTjQE6n4kAvzuNARx6zQNLHzED/5+RAoX/kQBpm5UCcJKhArELaQPF5n0Bp1Z5AbQbeQJQ7zUBzz9ZACRyVQBaor0CR0ctAXtflQGaXw0CgrdxAo/KqQNXN3UBGMMVAe0StQFhd10C1Vp5Ax6LAQOF4rEDZMORAn2K5QHjb50A2h7ZAGqvVQOjRskAJ3NJAhhbLQMM5tkDuja5A4aSaQCWC1EDaWMZA41TTQEnf4kAikttA5MTwQDNZ7EC/BMxA/4LVQOml1UAS9NxAvqyZQCJvskDmXc5AoEGqQL+/okDkxLZAjy3iQBJU3EBJ6rRA5HTKQP2r0EAIRuFA+mnWQA3B10ALP7hA+bHOQMRfokD1ZLpAN0WYQEv4vEDnFqdAic7UQAkE30Bg+JhAc6LbQCPjpEBXrdRAsfrCQAsWtkBIktVAA9TjQGN41UDFOZ1Ad5zTQL/NukBnoPBA86zfQAW/n0COCaJAIdajQIqf10CPIbpA5VDkQORkrEAsv7pAZwW6QDD/qkClqLdAKrO8QO7AuUAQr+tAXwblQCYa3UCTOOpA1bbFQDibuUB4krFAEH+mQDMB3kAVe9VAsBbWQNUFwEDQvrBAPHegQGZP0kB2etBAnDCfQJH72kBm2ahA1qvYQBBt3UA5HrlAQA3aQJzOrEAP8dxAe/m7QN8U4EC16s9AH2a5QA161EAuW8VAzsHRQN9Yy0DyD+hAtnDZQOGbtEAgL81ACTbgQFNouUBhR7tAapjXQL980kDNfsZA",
          "dtype": "f4"
         },
         "y": {
          "bdata": "iYbHQJZA10BA0vJAy4IGQaSwx0DIcrxASCPyQDpFBUEcJNZA0oTnQKlt7EBGeMdAM4fMQMNq5EA5WOZAxxTuQGPB1ECZNuNAoBXpQIfm2kDrDcRAL4TDQAoO/EA6bcFAv0O+QBCkykBU5dxAEDbYQPjv+UAwLs9AHW75QIqr8UATR8ZAwGwBQYX33UAfQepAY6z8QEHH3UAbvOtAKDcEQRILxEBw5AJB5LjyQCz8AkHfrelAGxrVQCfw5EDdy/JAK/DMQMf65kD4ieRAOtT1QNsNzUDW29NAmtLVQOaK80BfdeBA9a72QNvSA0HvnfdAbAPHQGsa80CfE/ZAT2bsQPpyzUBY7cdAjtgAQd4l6kBUHPRAGGTRQFJ+1kAneMJA2+T+QN/z+ECNqepA1Ee8QJKV6kDmc9tA2p3KQBw1xkDIyghBE37jQJ+U7EBysL9ADM7UQNmH5ECViNxAlD/1QNDHyECwoehABPDYQPzj1UB+J91AB/fqQN7C0EDEB+RAf1zOQGjq0ECMKOpABGH7QD2M2UCVgN9Ay7XqQJbfA0Hb791APQjXQDFb6kBDFvRA3JzpQF1C2EC1EN9AlUPKQFyYykAg9d5A0s7CQFHq+UDYpt1AgcjWQF/f8EDZ1AdB8Fz4QDHq70CqlsZAWTbwQHxhw0CbZPRAXjDYQCxtx0ADPudABcjvQOUwzUC1AP1A4y3WQOV+1ECj7OJA23W7QISY0kDtiPxArwHMQABp80C/fM1ARovWQA7/yEBIgu5Acmf5QBdHCEHussVAy/XVQOd7zkCgYMVASibqQIny2UBsrvZAJroGQfBL1EB2LONA+Qb+QIlc80CJCcZA1bX5QM7E2UAxn8NAZ0/eQDIUy0AQM+pAyVXMQFUz2kC4mclA00T6QGt+BkEaPL9AP3zXQDrz8kDkK8tAAYT9QEv1wUAxlu1Apd8GQZgq40A5Q/xAtQYDQQ7j00CiEfpA3qHrQBdd+0Bw6/xAaMnKQAh1wUCp7epAVGsIQXpQvUDKJelAtIXSQOdr9kBXWuhANpYDQQsBBkHO5L9Awq7gQKcH1EAP1NtAJyvXQOl650DupshACG71QPWO2UAySNtAQI7NQCeq7UBtPetADTPAQH+1ukBXf/RAUVvaQJWy2UCXVAdBQPzFQEmq90AIuNRAaSP4QHMv9UCLq81AOO3fQI90xkCgmeJAuy7RQCpH6EC6n8tAb/PEQKBE5ECNcsZA0ojzQIAn4kCMTvhA5Ji+QKCj+UCqod5Ac0jYQD869kBuXeBATZztQP5M3kCBTvpA8Z7ZQNs1vkDH89FAXsPsQLNC4EDV0+FA",
          "dtype": "f4"
         }
        },
        {
         "hoverinfo": "text",
         "hovertext": [
          "wait",
          "admire",
          "good",
          "ever",
          "yez",
          "whyyy",
          "good",
          "even",
          "results",
          "sweet",
          "official",
          "giving compliments men",
          "love try",
          "fav snack",
          "stop",
          "done ex",
          "better like",
          "try laugh",
          "end",
          "wait end",
          "honestly tough one",
          "hahaahah",
          "blessed",
          "expect result",
          "ever tried",
          "showed late",
          "plz back",
          "bombooooclaaaaat",
          "wanted first line",
          "ok",
          "sweet boy",
          "knew cutting garlic funny",
          "posted one",
          "cutie",
          "need stopped",
          "last one perfect",
          "finallyyyy",
          "right",
          "remember",
          "pizza is just better",
          "joke tomorrow",
          "always laugh",
          "tried person drinks black coffee looks cool grown every time take sip tastes like hot dirt people actually enjoy get used time trick making taste better suffer like",
          "considering last one done well",
          "trio happy",
          "sure",
          "think bad idea",
          "omg",
          "evil",
          "american",
          "best trio",
          "together",
          "wait",
          "noooooo",
          "ending hilarious",
          "cool",
          "found funny lol",
          "favorite",
          "posting bold thing ever done",
          "want massive dumptruck",
          "wait till end",
          "follow backup forgetting",
          "best",
          "um yeah",
          "wooo",
          "kinda obvious",
          "yeah natural",
          "quiz math quiz math get right",
          "love",
          "thanks social media",
          "see people love",
          "want money",
          "omg omg omgggggg",
          "congrats",
          "get",
          "hope ok",
          "guys think overreacted",
          "worst friend",
          "idk going get used",
          "wait",
          "get",
          "got moves",
          "hahahahahha",
          "handsome",
          "maybe extra fries would extra",
          "mind",
          "letzte",
          null
         ],
         "marker": {
          "opacity": 0.5,
          "size": 5
         },
         "mode": "markers+text",
         "name": "1_wait_get_better",
         "text": [
          "",
          "",
          "",
          "",
          "",
          "",
          "",
          "",
          "",
          "",
          "",
          "",
          "",
          "",
          "",
          "",
          "",
          "",
          "",
          "",
          "",
          "",
          "",
          "",
          "",
          "",
          "",
          "",
          "",
          "",
          "",
          "",
          "",
          "",
          "",
          "",
          "",
          "",
          "",
          "",
          "",
          "",
          "",
          "",
          "",
          "",
          "",
          "",
          "",
          "",
          "",
          "",
          "",
          "",
          "",
          "",
          "",
          "",
          "",
          "",
          "",
          "",
          "",
          "",
          "",
          "",
          "",
          "",
          "",
          "",
          "",
          "",
          "",
          "",
          "",
          "",
          "",
          "",
          "",
          "",
          "",
          "",
          "",
          "",
          "",
          "",
          "",
          "1_wait_get_better"
         ],
         "textfont": {
          "size": 12
         },
         "type": "scattergl",
         "x": {
          "bdata": "3IicvtMniD9K+P27NO0sPix6sruKJJk9y7W2vOUDJ753zoK+EzErviR9/D5Tn5A/gEjDPgBmmz9dkym9KxoXvihrNj6M1f89xGolvspda76zEGg+ispmvdvQaD88Wo2+9vQhPhHbQ76G45w+LA2jPWHvbb4ifQ2+ASLTvcu/SD6kpKW91eSMP/h4b77xBkg+ysz4Pcafb75Nj60+qI6xPjbiCr1NGAo+h4tBPwrmMz4oDng/up44vs3dWT+Wxjo8U6JAP8j+gj69i1I/m7SPP7qhqL7nwVO9wFoEPc1fE77uwL89ms1FPxpJXT5gQQa/YlkcvvC22T6MfcM+PH0Fvv+4Ib59pBa+mc4jP3/pJ76e84Q/43YWPCuroT+CaAS/wSTPvHEFCL72gOO+cAhVvnzxlj+lXSU/ePMLvwaqi76yXu2+M5b7vu/KSL0ZFYA/oFdlP2TFgz92tc8+0ddBPg==",
          "dtype": "f4"
         },
         "y": {
          "bdata": "QgP4QFxR+UC0yelACdH2QAOP3UCYd+FAsg/nQGPF8kCfb/9AsQnhQIkaAkHvfvZAbor6QNTr/UDdjPpAeoHrQGpr9UAS6PVAQfj6QEY3+ED5SQJBigHfQHIo+UCb3/9A66D2QCgW9UB7attAMDPcQHNE/kCTL+dAsXvhQIT/9UAmm+1Ahwf5QNSM+0D+vABB0O7dQNG89EBgYe9AB4/3QGyQ7kCh5fVAJsQCQZi5AUGL2QNBXBroQKyy80B/1NxAuZ74QNgVBEG1jwNBLHsCQRSQ+EBf4d1AOTr8QOuQ4kCxh/NAcuoAQd0y8ED80/pACGX7QCa27UD1Zv9Adu7fQEop30CffO5A7xYDQRLGBEHd1QBB39T6QImoAEF9+PlAdlLeQHHH4EBMZfhAkqzvQFWE7kAvKftA+fH3QFg490D45PhA/Jn3QM7U3UCNOPhAuJLzQOpd+UCm0thAQsPzQA==",
          "dtype": "f4"
         }
        },
        {
         "hoverinfo": "text",
         "hovertext": [
          "actors famous roles fashion runway part harrison ford indiana jones nicolas cage ghost rider vin diesel groot johnny depp jack sparrow mel gibson mad max tom hanks forrest gump sylvester stallone dredd smith agent j mib ewan mcgregor obi wan brad pitt fight club tyler durden christopher reeve superman peter weller robocop",
          "lirili larila performs jubi slide guys made get real italian brainrot toy link bio",
          "impossible brainrot speedrun part",
          "tralalelo tralala x bombardiro brainrot movie tragic tragic tragic song",
          "dancehall would incomplete without songs share favorite song",
          "poverty makes cats anything",
          "turn music",
          "brainrot animation",
          "speedrun brainrot animals tralalerotralala",
          "make smile l unik surprises radiohead",
          "sided diamond trick tutorial redbull cans cameraman credit barlow",
          "real trend",
          "trendingsound trends",
          "praying love like filmed respectfully public space consent privacy violated",
          "tralalero tralala x wakawaka brainrot movie tragic tragic tragic song",
          "every woman ever dared take space one",
          "speedrun edit",
          "disney characters filter try",
          "pup lives better life us real leclerc",
          "baby bootcamp",
          "may th sneak peek song music video choreography headed set right music video excited first music video choreographed wait see hear think",
          "funny cute little goat",
          "incredible rap lose eminem allie sherlock cover",
          "even impressed little feet moving beat",
          "adventure lifetime",
          "guess italian brain rot animal emojis quiz",
          "we re actors not dancers",
          "cat fall",
          "crazy cat posture",
          "brainrot speedrun impossible level part",
          "another dazzling belly dance cutest kitten",
          "tralalero tralala italian brainrot song brainrot movie tragic tragic tragic song created",
          "matter ft barking cat",
          "speedquiz",
          "waited years dance trend ib",
          "met kushner airport today playing piano waiting flight suddenly girl asked play daylight david kushner never expected david would join beautiful coincidence",
          "italian brainrot avengers endgame part",
          "italian brainrot vs gnome challenge",
          "guess italian brainrot character background",
          "actors face famous roles fashion runway al pacino tom hanks anthony hopkins sylvester stallone arnold schwarzenegger antonio banderas chuck norris michael keaton keanu reeves bruce willis clint eastwood",
          "third song mona lisa motion everywhere thursday february",
          "kitten belly dances puppy drops beat must see cuteness",
          "rolled see got hit surprise stitch scanning tickets theater little guy way cute get one warehouse please disney make happen dm using content permission use without",
          "heard mummy daddy pig expecting baby girl simply wait meet watch full gender reveal available exclusively walmart com peppapig",
          "aventador kitty",
          "pilots performances stage club private parties write direct",
          "top unexpected singing moments",
          "ready roll wheelchair driving videos posted",
          "taught cat walk",
          "talent without hard work nothing",
          "baby monkey moon trouble car picnic",
          "mummy pig big news share",
          "beautiful things song would like us next",
          "like us pt music nation",
          "welcome baby podcast",
          "funny kittens broke air video",
          "clingy cat",
          "cat brainrot",
          "cher performing believe years",
          "mini morgan freeman coming",
          "italian brainrot song brainrot movie tragic tragic tragic song created",
          "smith showed legend showed aura farm west philly insta feed anything possible smith new album based true story drops friday ers deluna",
          "brainrot song",
          null
         ],
         "marker": {
          "opacity": 0.5,
          "size": 5
         },
         "mode": "markers+text",
         "name": "2_brainrot_tragic_song",
         "text": [
          "",
          "",
          "",
          "",
          "",
          "",
          "",
          "",
          "",
          "",
          "",
          "",
          "",
          "",
          "",
          "",
          "",
          "",
          "",
          "",
          "",
          "",
          "",
          "",
          "",
          "",
          "",
          "",
          "",
          "",
          "",
          "",
          "",
          "",
          "",
          "",
          "",
          "",
          "",
          "",
          "",
          "",
          "",
          "",
          "",
          "",
          "",
          "",
          "",
          "",
          "",
          "",
          "",
          "",
          "",
          "",
          "",
          "",
          "",
          "",
          "",
          "",
          "",
          "2_brainrot_tragic_song"
         ],
         "textfont": {
          "size": 12
         },
         "type": "scattergl",
         "x": {
          "bdata": "N146QFXzXkB6HVdAVZtcQJMuH0D+ly5AGPAmQHceVUBnp1NAw2QmQEwyOkBQSwpAXXwKQKXdOUA+/VlArCk+QMBJVEDfCTlAN4cLQAvWwj84sixAv6oHQCBrEkAmGw5A/NTCP+Y9XkBeJjlALIowQB6FMECwY1dA2F8gQIpIW0AtgDJALKZVQFfYHkAeHjpAUsFaQDOOWEBcr1xAq6U7QEdNM0BlqBdAQhkyQJAfyD/UoCpA8TY6QBOsGkCuNjpAlzMyQLJSKkDDTb0/aw69Pzs5HkAmtoZAJgbHP+8BFkCHyzJAqzg+QJ9gI0CM5jRAmy1bQNKYN0DI51JA/E4wQA==",
          "dtype": "f4"
         },
         "y": {
          "bdata": "ApQQQdAgKEEobSdBof0oQcThH0F55ypBISoeQabdJ0FfwSZBDg0cQWV4G0HR1BlBS4kaQU27C0F14yhBR8cLQTJRIkEjSxBBJSwjQbFtFkH0ziBBGi8hQWE9FUE7ByFBmKUTQS1XKEF4HxJBlnkqQb0tK0GGDSdBAlwnQYcTKUF4hypBJskhQaEUHEEjmAhBbEcoQdtmJ0F8hyhBPBgRQRSOIUHSsiRBv3wLQenCGkGrlyhBWPAIQbeRHUGpCyNBAdsqQeiqFkGn9hZBFG4bQfmSH0FzLyBBNRYYQTXBKUF2/CpBD0cqQQo4HEFXow5BvL0oQbfxGEF22idBjA8fQQ==",
          "dtype": "f4"
         }
        },
        {
         "hoverinfo": "text",
         "hovertext": [
          "asking whole clip hamburg germany h r r etc",
          "lamelo ball plays smooth",
          "russian beats go crazy",
          "prime ronaldo",
          "messi skill toying goalkeeper",
          "madness looks like tomorrowland brasil",
          "vini nutmeg pass",
          "bonde trenzinho",
          "fifa street",
          "germany outside guys u find",
          "ronaldo minotaurus monster fusion",
          "lamine yamal future ballon d or",
          "valverde pass",
          "lionel messi superhuman skills",
          "funk do brasil",
          "gta",
          "assist best",
          "source pistons restricted purchases possible home games matchup games credit card billing address located michigan certain parts ohio indiana ontario canada knicks fans notorious traveling well recently made road arenas sound like madison square garden including last season first round games ers philadelphia",
          "barcelona vs inter milan champions league",
          "valverde assist",
          "bengals something else swear",
          "toretto ronaldo prepare cars shaw joins",
          "fifa street estilo brasileiro",
          "best reflex mohamed",
          "barça barça",
          "messi really said move",
          "red devil buy high quality football jerseys profile",
          "best duos football",
          "cristiano ronaldo",
          "barça",
          "zach choi",
          "raphinha crazy goal",
          "great goal andrés",
          null
         ],
         "marker": {
          "opacity": 0.5,
          "size": 5
         },
         "mode": "markers+text",
         "name": "3_ronaldo_messi_games",
         "text": [
          "",
          "",
          "",
          "",
          "",
          "",
          "",
          "",
          "",
          "",
          "",
          "",
          "",
          "",
          "",
          "",
          "",
          "",
          "",
          "",
          "",
          "",
          "",
          "",
          "",
          "",
          "",
          "",
          "",
          "",
          "",
          "",
          "",
          "3_ronaldo_messi_games"
         ],
         "textfont": {
          "size": 12
         },
         "type": "scattergl",
         "x": {
          "bdata": "xlaHQKq1n0DYHItAb2qhQJMKoEBHeY9AEoCUQNXbqEBbYndAIUOFQNFuoEBbe6BAGNiXQAVUoEBRK5NAIImCQA5Hk0AHPlZA0h6yQBUklkDa9GJArrmhQGFNjEA7QZ5AGByxQFYiokAKZW1AvbWEQM3qoEBZj7FAZNq4QLpWm0DqVZtAfHaWQA==",
          "dtype": "f4"
         },
         "y": {
          "bdata": "LH4XQbgcB0HujBJBRfIQQWijEEHpuxRB4MYIQZZ2BUEO2RZB9c8XQYyDEUEGdQZBHp8LQV/1EEFp4xNBrM8TQW7EDEGQGxRBwGwPQSW8DEGD0RVBrgoRQWEIFUF6KQtBbp8PQc2PEUHxSxZBZn8LQXCGEUHLZQ9Bh0PyQGZDDkENEA5B8HQPQQ==",
          "dtype": "f4"
         }
        },
        {
         "hoverinfo": "text",
         "hovertext": [
          "essence",
          "old soul",
          "vibe modo on",
          "notification",
          "days till aussies",
          "real aura",
          "sound",
          "grounded",
          "tinfoil",
          "vibe house",
          "always summer",
          "possible learn power perfect sunday morning energy",
          "months",
          "like sunset like romance like",
          "weekend mood",
          "walking much aura part",
          "dream house look like mini bricks",
          "season coming",
          "pop morning",
          "sass real",
          "buzz low fade",
          "katniss lot aura fr",
          "average day border looking zombies",
          "lightning",
          "iphone",
          "instant mood change",
          "signal",
          "vibes vibes",
          "calm beach day wave took",
          "real aura",
          null
         ],
         "marker": {
          "opacity": 0.5,
          "size": 5
         },
         "mode": "markers+text",
         "name": "4_aura_morning_vibes",
         "text": [
          "",
          "",
          "",
          "",
          "",
          "",
          "",
          "",
          "",
          "",
          "",
          "",
          "",
          "",
          "",
          "",
          "",
          "",
          "",
          "",
          "",
          "",
          "",
          "",
          "",
          "",
          "",
          "",
          "",
          "",
          "4_aura_morning_vibes"
         ],
         "textfont": {
          "size": 12
         },
         "type": "scattergl",
         "x": {
          "bdata": "2xvfPw0u+D8JcOg/egq9PxrnLz8SBf8/obb7P+fmFkDA/QpAJGLeP/4Wij+HW9M/JCk5P9C/yz9sJcU/66oCQOud2D9aL5k/YQ2DP626+D9edPI/hHsBQLnVkj83tQdAWKwSQP2h3D8ZlPQ/RtTmP99S5T+R/v0/fdzZPw==",
          "dtype": "f4"
         },
         "y": {
          "bdata": "hfMGQeTEB0ExpAhBipkHQY4ZBkGcQQtB1mQRQWftC0G2yQtBzUUIQfNTCEFpxwRBEOgFQZUNC0HeVwpBau0LQUtGCUHYnwZBRwQKQcE5CEEg7w5BnHQKQR9FEUEqiAtBl/wPQWRTC0HOKglBrWYJQfqMCkE/8gpBCjEKQQ==",
          "dtype": "f4"
         }
        },
        {
         "hoverinfo": "text",
         "hovertext": [
          "途中カラス来てびっくりした笑 左 これめっちゃ頭痛くなる",
          "오랜만에 돌아온",
          "حل مشكلة المتابعين قدر تعبي بلايك",
          "أنا شوري على الزلم يصبح قرار",
          "台湾加油 罢免国民党",
          "رديني لعيونك",
          "كوردستان عفرين",
          "انسان عينها عليا",
          "راحه نفسيه",
          "𝓐 𝓡 𝓐",
          "مریم نواز سامنے آ جائے تو ہم چینل بدل دیتے ہیں ہم اسے دیکھنا ہی نہیں چاہتے",
          "بسبب التزاحم الشديد في الطوابير أطفال يبكون ويصرخون في غزة بينما أجسادهم الصغيرة تكافح للحصول على بعض الطعام وسط جوع يعيشه سكان القطاع",
          "بحب الحب الي جمعنا",
          "اوضاع تحير فينا",
          "爱情最后的归宿",
          "這耳朵會不會背了",
          "انا جامي نسمح ف عشقي",
          "ويبقى السؤال",
          "feel sorry afghan women hope one day get rights",
          "يراودني خيالك",
          "အလ တ song ပ င ခ င ဒ ပ င",
          "الرد على",
          "ဒ ဝ န",
          "かかったら",
          "نقولها منتالي",
          null
         ],
         "marker": {
          "opacity": 0.5,
          "size": 5
         },
         "mode": "markers+text",
         "name": "5_على_في_ہم",
         "text": [
          "",
          "",
          "",
          "",
          "",
          "",
          "",
          "",
          "",
          "",
          "",
          "",
          "",
          "",
          "",
          "",
          "",
          "",
          "",
          "",
          "",
          "",
          "",
          "",
          "",
          "5_على_في_ہم"
         ],
         "textfont": {
          "size": 12
         },
         "type": "scattergl",
         "x": {
          "bdata": "3koVQdTvIEHT8CBBRJIhQQI+FUFEXCFByDchQVBKIUEfRSFB/SMVQT/RIEE6aiBBRRAhQfcFIUGkKBVBwb4VQVoVIUHyQyFB5uAfQaFJIkF+dxRBrwMhQXwmFUF+YhVBOcIhQaBPHUE=",
          "dtype": "f4"
         },
         "y": {
          "bdata": "0iUZQfKWDkGqOQ5BGs0OQYYTGUFSBQ5Bu3QOQQ9gDkErcQ5B9RcZQduWDkHP2A1B0pEOQYNHDkH2CBlB0ZMYQZh9DkFxeg5B6ysOQa9DDUHV4BhB63gOQf4RGUF4LRlBd9QOQSLCEUE=",
          "dtype": "f4"
         }
        },
        {
         "hoverinfo": "text",
         "hovertext": [
          "go follow hair page ig",
          "man vs wife father puts nair daughter hair",
          "full vid yt post selfie forget tag hair creds",
          "slime hair mask",
          "ad paid partnership ny love new colossal bubble mascara maybelline",
          "spray painting bone",
          "makeup para eventos",
          "italian haircut morrone",
          "attempt clean girl makeup ib hottest webley products used foundation cosmetics concealer eraser concealer beauty blush loose powder powder blush face glue setting spray lipiv total baller lip liner uk mascara lipgloss",
          "loved one follow hairstyle inspo",
          "hair long wash head like hair long got ta get creative cover length plastic bag wash roots saving time water sanity beauty needs hacks",
          "full asmr ballroom hair removal",
          "best dressed met gala part",
          "hair hold memories",
          "ai hair salon hair styles part ii picture example made another ai hair style template want another one please write styles want see please use share",
          "anzeige no makeup makeup fürs erste mal uni gym cosmetics",
          "iconic parismatch gala fr",
          "requested makeup tut",
          "prepped skin home ahead met gala",
          null
         ],
         "marker": {
          "opacity": 0.5,
          "size": 5
         },
         "mode": "markers+text",
         "name": "6_hair_makeup_gala",
         "text": [
          "",
          "",
          "",
          "",
          "",
          "",
          "",
          "",
          "",
          "",
          "",
          "",
          "",
          "",
          "",
          "",
          "",
          "",
          "",
          "6_hair_makeup_gala"
         ],
         "textfont": {
          "size": 12
         },
         "type": "scattergl",
         "x": {
          "bdata": "piYdQOlgHECt5BxAW8wdQF+4NUBiZidAtX02QMNeIEDTVTVAYrIcQKmaJECRSRlA+dJAQHziGkBTeB9AmSs3QMpgQkACVDdA0yU/QM1HKkA=",
          "dtype": "f4"
         },
         "y": {
          "bdata": "/5S/QGfiv0BlrsBAF9XAQFQay0DvEsRAQEzLQIADwECVpMpAN2O/QHgxxECskcFAd53/QAkCv0AksL5AXKHLQBq//0C5aMxAFLf+QMdszUA=",
          "dtype": "f4"
         }
        },
        {
         "hoverinfo": "text",
         "hovertext": [
          "go viral tiktok million",
          "hacer vídeo viral tiktok",
          "chainsaw harmed video",
          "already know recreate video last year",
          "go viral",
          "instagram video gained k views beat",
          "hacerte viral tiktok",
          "go viral tiktok tricks",
          "youtube raccoon asmr",
          "viral template",
          "top best viral phonk funk songs april",
          "funniest videos animals найсмішніші відео тварин",
          "cinema vlog",
          "viral sound",
          "important things go viral tiktok content creator things matter",
          "lots scans indeed",
          "tiktok",
          "ranking liked tiktok videos",
          null
         ],
         "marker": {
          "opacity": 0.5,
          "size": 5
         },
         "mode": "markers+text",
         "name": "7_viral_tiktok_go",
         "text": [
          "",
          "",
          "",
          "",
          "",
          "",
          "",
          "",
          "",
          "",
          "",
          "",
          "",
          "",
          "",
          "",
          "",
          "",
          "7_viral_tiktok_go"
         ],
         "textfont": {
          "size": 12
         },
         "type": "scattergl",
         "x": {
          "bdata": "qYriP+Fj6z9c+gdAXgMIQJzp4D/2TwFAQKrlPxn95D+ZSwtAGeXfP5Pg/D/ieRBAU6wEQE1K4z/eP+A/qQ/UP/qw5T/Hs98/0grzPw==",
          "dtype": "f4"
         },
         "y": {
          "bdata": "UQorQdS0K0GfxytBlAcsQdA+KkHlTCxBHL8rQeJ9K0E+EytBMlcqQY5LJUH7kipBTTIsQSRhKUEEgitBc3IpQXoBLEFY1itBi+MqQQ==",
          "dtype": "f4"
         }
        },
        {
         "hoverinfo": "text",
         "hovertext": [
          "almost reason never children finances never good enough afford still kind regret able kids millennials situation wanted kids never",
          "full stop believe truly beyond saying headed towards feeling admitedly hopeless help aside holding line even quitting believe power else feds continue support constitution mission country looking insight hope",
          "im professional cleaner",
          "hi everyone f married husband let call joe years together time always prioritized emotional well something hurt one us matter valued happy spouse right love trust grew immensely certain never anything would break heart heartbroken disappointed joe owns company work together financially great place recently joe father got chance bid major government contract massive opportunity due scale several companies teaming one key company involved without deal happen led attractive flirty woman ceo openly flirted joe front noticed behavior order avoid misunderstandings conflict decided work bid together things okay one meeting break touched joe arm said something like husband like never leave side someone every woman wants sometimes even enough someone else might steal mind snapped responded following never leaves side brushed joke know saw look eyes women know later talked joe admitted crossing line uncomfortable react strongly avoid jeopardizing deal thrilled tried understand today found excluded day site visit bid trip requested woman five people going joe one heard told extremely uncomfortable asked go begged actually said deal worth financially stable need contract went anyway even everything said left without something broke trusted whole heart truly believed never choose anything peace mind feel like left behind hurts deeply part even care anymore comes back ends woman feel numb part says come amazing years throw away another part wants take wedding ring send photo file divorce aita asking go even begin deal emotions",
          "clarification nobody friends dated homeless broke bums",
          "boom f kids husband livin best soft life got decent job apartment stays clean sleep like baby every night sister f little gremlins age swears person earth ever tired last week hits hey watch kids weekend husband need break lose minds cool say yes hits mean like got anything going kids probably chillin anyway like girl really call free trial version human told flat nah find someone else since chill life apparently stressful enough respected mad mad tellin whole family abandoned clearly drowning selfish cause step like girl disrespected mid request fumbled favor bag mom phone like get upset kids like cute emergency childcare plan cause sleep deprived covered goldfish crumbs aitah refusing babysit shaded whole lifestyle like thriving",
          "cliiimb clouds build skybase available soon streaming platforms credits songwriting audio track vocals visuals indawgnito original somewhere know keane video sing funny minecraft parody keane somewhere know indawgnito begins building life along pet wolf plains one night griefer comes ruin fun base ruined feels option left hide away clouds good lyrics built base plains made potato farm grew sugarcane tamed wolf watched grow lived happy alone one day griefer came lit house fire dog went flames run took diamond gear guess start somewhere far away sailed across open sea explored caverns endless ravines caves built home hid away encased stone thought safe think somebody griefed base end returned nothing left behind got ta build base one could ever find climb clouds make skybase nobody ever finding base palace sky king way safe skybase skybase fool know creepers spawn light levels low felt blast fell floor guess living skybase anymore okay build another skybase time put lights base never leave home finally safe skybase current followers k",
          "play water",
          "done pretending great buying opportunity americans extra cash laying around watching k bleed dip f cking wipeout people lost years gains cabinet clowns saying stay course like bro trying stay alive build damn portfolio stop acting like crash gift slow motion disaster wrecking real people lives",
          "son classmate f ish talks lot every time mentions always called angel thought adorable got first ever crush omg cute today picked school going something funny angel started teasing always calling cute nickname looked total confusion said mom crush name yes girl literally named myangel imagine creep factor everyone including teachers forced literally call angel yikes",
          "insane facts megalodon megalodon largest shark ever exist growing feet long three times size great white shark bite force estimated pounds per square inch strong enough crush car like soda megalodons teeth size human hand reaching inches cm long want menu unlike modern sharks megalodons bite could shatter bones single chomp come back ruled oceans million years going extinct around million years ago believe megalodon could still exist hiding deep ocean explored less ocean depths megalodon fins big airplane wings heart likely size small car scientists think attacked whales biting tails first escape talk hunting strategy megalodon teeth found every continent except antarctica meaning dominated almost every ocean megalodon still alive today would big shallow waters would live deep sea could something massive still would dare swim ocean knowing megalodon might still exist drop thoughts comments",
          "favourite fish steve character",
          "recall realized elon musk entire life qualifications career engineering knowledge total fabrication pre approved mods break work mid read newspaper article pimping latest snake oil vaporware said something boss time would say time time boss liar crook took credit every success placed blame every failure happened anywhere near textbook example narcissistic sociopath clicked brain realized musk like boss never created single thing comes idea tells people get work assigning due date absolutely basis reality similar march th cobble together month release going awesome like joke funny makes promises others fulfill taking credit work everyone else develop technology exist real engineers invented distaste took year morph loathing everything stands intervening decade never let continuing grift shady behavior lying around bad behavior noticed years ago",
          "preparing go uni mom confessed tuition money years dad would give cash deposit first one spent rest tbh even surprised used disappointed promised would pay back asked never tell dad four years thanked tuition money took loans reasons narcissism arms length relationship would say pretty close assumes smiling nodding drones stories relationship family cottage puts everything else lives days year going gf days couple summers begrudges takes away time dad supports going pull recently told time start paying maintenance cottage since use actually suggested k wildly disproportionate told could take tuition iou could negotiate amount dad speechless texted later say manipulative bring tuition threaten tell dad went thinking first hurt offended nice thing get something second guess really whole tuition thing witah bringing ancient history paying use cottage edited add time never occurred told thought right thing protecting pretty much summarizes childhood",
          "unbelievable bottles game",
          "sucked full barely contained rage since november today press conference current administration laughed refusing scotus order talking sending anyone deemed violent criminal cecot breaking point fucks give gone spend two decades fighting terrorists despots watch country turn terrorist nation run despot said trump fuck vance fuck mike johnson fuck stephen miller fuck elon musk fuck vought thiel heritage foundation fuck ya clarence thomas samuel alito fuck roberts kavanaugh coney barret challenge right thing fix fuck ups rubio hegseth entire trump administration fuck anyone wears fucking trump lapel pin supports maga fuck actual civil liberties justice fuck ya time judicial legislative branches jobs remove trump time republican party take back party replace maga parasites time democratic party stop complicit find courage repair broken nation sit remain silent say fuck fat orange fuck ruining country reclaim term fight fight fight everything effect positive change fuck em edit thanks folks pointed incorrect names couple scotus folks fat fingering passenger seat moving car suppressing rage edit popular demand added stephen miller edit idea forgot fucker elon actually got rid tesla shithead",
          "daughter multiple congenital birth defects led lifetime complications medically complex kids fix one problem create two lived years probably years long lived life hospitals literally months time would sometimes home week two end back think ever spent two consecutive months hospital entire life went palliative care comfortable hospital anywhere else sad warrior kid whole identity making cards nurses decorating medical equipment tough capital never went school meaningful capacity never played sport instrument never real friends speak never health take real hobbies entire life made surgeries shots nurses fucking medical equipment decorate gave pathetic life single intervention willing put buy time happiest accepting kid ever met last six months done refused listen asked could stop would push shut went along wanted wanted make happy knew done selfish died incredibly agitated upset think scared let go knew going strong enough let go sorry",
          null
         ],
         "marker": {
          "opacity": 0.5,
          "size": 5
         },
         "mode": "markers+text",
         "name": "8_fuck_never_time",
         "text": [
          "",
          "",
          "",
          "",
          "",
          "",
          "",
          "",
          "",
          "",
          "",
          "",
          "",
          "",
          "",
          "",
          "",
          "8_fuck_never_time"
         ],
         "textfont": {
          "size": 12
         },
         "type": "scattergl",
         "x": {
          "bdata": "/gQbP5C0Ej+USB8/Bg8bP93OHT+Ixxo/K1AsP7bqPD8lPRQ/1woUP8oFbD9CYihAesILP2l7Gj9sZUU/PrQTP1mYJD8DGUI/",
          "dtype": "f4"
         },
         "y": {
          "bdata": "DtckQdCpJEHBiRlBcIEkQcB4JEEhiyRBMXEkQczaDkHaJCVBz78kQePDIUGPff5A8s0lQb03JUGdaA9B79gkQYqcI0HyJx9B",
          "dtype": "f4"
         }
        },
        {
         "hoverinfo": "text",
         "hovertext": [
          "replying sg bangin bathroom prank",
          "walk nastyyy go ahead cousin",
          "our favourite party trick",
          "replying put wet paper towel fine",
          "apple pay prank gone wrong credit",
          "fart spray elevator prank fart spray prank",
          "cashier folded faster payment method",
          "pranking friends",
          "le prankeur pranké",
          "award best prank goes",
          "ranking best school pranks",
          "anatoly mop prank kg",
          "mind granny cops prank",
          "clean anatoly prank",
          null
         ],
         "marker": {
          "opacity": 0.5,
          "size": 5
         },
         "mode": "markers+text",
         "name": "9_prank_fart_anatoly",
         "text": [
          "",
          "",
          "",
          "",
          "",
          "",
          "",
          "",
          "",
          "",
          "",
          "",
          "",
          "",
          "9_prank_fart_anatoly"
         ],
         "textfont": {
          "size": 12
         },
         "type": "scattergl",
         "x": {
          "bdata": "7MB1PRR8tT3FN8M9eRIFPzhzDz2XukQ8GXi3PV7k8Tyxy9o8yQtZPd5j2Tt06KU8eSqpPSJoJTx/LqU9",
          "dtype": "f4"
         },
         "y": {
          "bdata": "tqkZQe01GkEyFQxBLz4SQYtZGUHL1BlBHvcXQSisGUGs5RlB5iwZQRKjGUGpwBlBO0caQeEvGkGTIxhB",
          "dtype": "f4"
         }
        },
        {
         "hoverinfo": "text",
         "hovertext": [
          "трек tralalelo tralala уже на всех площадках",
          "не могу без кофты с ним жить",
          "γιώργος σφαίρες καβάλα η πιο τρελή εισαγωγή που θα δεις",
          "таджичка поёт катюшу с летием великой победы",
          "σε αυτό που ρωτάτε η απάντηση είναι ναι καλό μήνα παιδιά νέα αρχή νέα ζωή για όλους μας μόνο χαμογελα",
          "replying тунг тунг тунг сахур",
          "είναι μια πραγματική όαση για τους λάτρεις του καλού brunch με ένα μενού που ισορροπεί τέλεια ανάμεσα στη γεύση και τη διατροφική αξία προσφέρει μια εξαιρετική εμπειρία για κάθε γούστο αν ψάχνετε έναν μοναδικό προορισμό λοιπόν για brunch στην καρδιά της αθήνας το bruncho στο μετς είναι αναμφίβολα η καλύτερη επιλογή αναπαύσεως μετς",
          "ответ пользователю",
          "готовим паста карбонара",
          "используете масло перед мытьём у меня есть инстаграм zai dz если хотите еще больше роликов переходите пришлось создать себе аккаунт в тик ток потому что непонятный пользователь из саудовской аравии копировал мои ролики из инсты и весьма успешно выдавал себя за меня в тик ток теперь я лишила его такой возможности надеюсь на ваш актив",
          "хахахаха до конца",
          "ώρες αργότερα λολα",
          "зеленский",
          "когда хейтерам не понравился мой лак inst luna_basendji",
          null
         ],
         "marker": {
          "opacity": 0.5,
          "size": 5
         },
         "mode": "markers+text",
         "name": "10_για_тунг_είναι",
         "text": [
          "",
          "",
          "",
          "",
          "",
          "",
          "",
          "",
          "",
          "",
          "",
          "",
          "",
          "",
          "10_για_тунг_είναι"
         ],
         "textfont": {
          "size": 12
         },
         "type": "scattergl",
         "x": {
          "bdata": "owAJQdLPCEH+SiBBuoUJQT9DIEFlhQhBcy4gQbuzCEEu+ghBDskJQTazCEH3TSBBvqcGQTBuCEF1cA9B",
          "dtype": "f4"
         },
         "y": {
          "bdata": "hfrqQMi26kAlg/5ASi3qQHpv/kCP++pAalX+QC7a6kCv6upA9/LqQIqI60BhbP5AZ7fqQAhO7EArj/BA",
          "dtype": "f4"
         }
        },
        {
         "hoverinfo": "text",
         "hovertext": [
          "dads reaction rocket ball golf guys golf",
          "weight love like new version",
          "calisthenics reaction gym",
          "bodybuilder öffentlichkeit",
          "complete beginner abs workout home 집에서 하는 초보자 복근 운동",
          "we reached kg weightloss",
          "reaction people gym calisthenics athlete",
          "shake body",
          "reaction seeing swing first time",
          "favourite glute exercises transformed body last year outfits use code sienna",
          "reaction people gym body control",
          "replying one thing took away physical therapy motion lotion",
          "widebody",
          null
         ],
         "marker": {
          "opacity": 0.5,
          "size": 5
         },
         "mode": "markers+text",
         "name": "11_reaction_body_gym",
         "text": [
          "",
          "",
          "",
          "",
          "",
          "",
          "",
          "",
          "",
          "",
          "",
          "",
          "",
          "11_reaction_body_gym"
         ],
         "textfont": {
          "size": 12
         },
         "type": "scattergl",
         "x": {
          "bdata": "QWYDQAz5EUBX0AJAc9wLQOVDBkBoXBJAQhkDQCW/A0CYA/4/aO0RQB7DAkDpzAJAMHYQQMowCEA=",
          "dtype": "f4"
         },
         "y": {
          "bdata": "T1zgQHIG5UDbRuBAXlXfQHzS3UAKiOJAdhzgQAOI5EDPJ+BAl6HdQPIH4EBB+uBA0RnhQLnC4EA=",
          "dtype": "f4"
         }
        },
        {
         "hoverinfo": "text",
         "hovertext": [
          "worry bro happens even best us",
          "bro hacked lake",
          "smashed burger home",
          "bro wanted cool even via",
          "bro asked leaving",
          "sobbing for us we did it we did it",
          "sheldon grief",
          "bro sore loser",
          "never find cheated rae",
          "bro might get drafted",
          "got ta heart heartbreak",
          null
         ],
         "marker": {
          "opacity": 0.5,
          "size": 5
         },
         "mode": "markers+text",
         "name": "12_bro_did_it",
         "text": [
          "",
          "",
          "",
          "",
          "",
          "",
          "",
          "",
          "",
          "",
          "",
          "12_bro_did_it"
         ],
         "textfont": {
          "size": 12
         },
         "type": "scattergl",
         "x": {
          "bdata": "EYy1P+913D/ZB9E/l4HEP6BAzj/ye0A/ko4aP14ayT/z38w/VZbTP3600T/0JLc/",
          "dtype": "f4"
         },
         "y": {
          "bdata": "qETvQJtP+UCKpwBBWbHzQFHg8kDvLOpAaqH/QPBk9EAMu/5AG+3xQGYkAEF6PPdA",
          "dtype": "f4"
         }
        },
        {
         "hoverinfo": "text",
         "hovertext": [
          "luna mei isabelle jocson asian house malia powell deserve",
          "tung tung tung tung sahur brainrot game",
          "oha brainrot redbull tung tung sahur",
          "tung tung tung sahur nooo",
          "full track already released available spotify tung tung tung sahur ballerina cappuccino",
          "tung tung tung tung sahur nela intro",
          "tung tung tung tung sahur nela",
          "tung tung tung ronaldo",
          "tung tung tung sahur ballerina capuchina",
          "tung tung tung sahur edit",
          "tung tung comes ones oversleep sahur",
          null
         ],
         "marker": {
          "opacity": 0.5,
          "size": 5
         },
         "mode": "markers+text",
         "name": "13_tung_sahur_nela",
         "text": [
          "",
          "",
          "",
          "",
          "",
          "",
          "",
          "",
          "",
          "",
          "",
          "13_tung_sahur_nela"
         ],
         "textfont": {
          "size": 12
         },
         "type": "scattergl",
         "x": {
          "bdata": "a+BfQOI+pkCMk6ZA5PGlQG5ToUD+YKZAQrmlQM/+pEBGt6VA48SmQFHFpUDcq6BA",
          "dtype": "f4"
         },
         "y": {
          "bdata": "ryAMQZijJEG8oSRBgXAkQeH1I0H5tSRBLD8kQbXFI0EwOiRBYd0kQcdYJEHILSJB",
          "dtype": "f4"
         }
        },
        {
         "hoverinfo": "text",
         "hovertext": [
          "tackle ggs",
          "head hurts ib",
          "horse back pain",
          "touch king hourse horse guards london",
          "th minute chaos",
          "antwort",
          "nutmeg rush big stage yamal",
          "grwm",
          "time ukulele",
          "chaos copthorne",
          "somebody watching ib monk",
          null
         ],
         "marker": {
          "opacity": 0.5,
          "size": 5
         },
         "mode": "markers+text",
         "name": "14_chaos_horse_ib",
         "text": [
          "",
          "",
          "",
          "",
          "",
          "",
          "",
          "",
          "",
          "",
          "",
          "14_chaos_horse_ib"
         ],
         "textfont": {
          "size": 12
         },
         "type": "scattergl",
         "x": {
          "bdata": "bhlrQO8nhUAC/HBAOspsQI8sHUBTUzJA7GiIQKFgZ0DAfmtAKEEeQATYhUDMe2FA",
          "dtype": "f4"
         },
         "y": {
          "bdata": "9zYDQc/NCkEKHARBuTwEQbuMAEFh+vlA1qUFQVIaA0FT9QNBpYsAQfTOC0GBFgRB",
          "dtype": "f4"
         }
        },
        {
         "hoverinfo": "text",
         "hovertext": [
          "k followers",
          "fps",
          "fly like paper get high like planes",
          "jk takes best photos wilkins",
          "seatbelt signs",
          "rx",
          "jackson",
          "sign letter j",
          "jf jf flying islamabad",
          "j",
          "j",
          null
         ],
         "marker": {
          "opacity": 0.5,
          "size": 5
         },
         "mode": "markers+text",
         "name": "15_jf_islamabad_signs",
         "text": [
          "",
          "",
          "",
          "",
          "",
          "",
          "",
          "",
          "",
          "",
          "",
          "15_jf_islamabad_signs"
         ],
         "textfont": {
          "size": 12
         },
         "type": "scattergl",
         "x": {
          "bdata": "dUZ5QLPsE0D77ztA5kM9QAEpUEDNvSZAQTlAQHLbSEC1+EZAXtc/QC57QkDkbEFA",
          "dtype": "f4"
         },
         "y": {
          "bdata": "1tnjQOGj8UB7iPNA3VflQCLy6EBfa/JAJk/nQHvL5kCUjOlAU1/nQOsx5kAvFupA",
          "dtype": "f4"
         }
        }
       ],
       "layout": {
        "annotations": [
         {
          "showarrow": false,
          "text": "D1",
          "x": -0.6286863565444947,
          "y": 7.658048009872437,
          "yshift": 10
         },
         {
          "showarrow": false,
          "text": "D2",
          "x": 5.517867910861969,
          "xshift": 10,
          "y": 12.384089040756226
         }
        ],
        "height": 750,
        "shapes": [
         {
          "line": {
           "color": "#CFD8DC",
           "width": 2
          },
          "type": "line",
          "x0": 5.517867910861969,
          "x1": 5.517867910861969,
          "y0": 2.9320069789886474,
          "y1": 12.384089040756226
         },
         {
          "line": {
           "color": "#9E9E9E",
           "width": 2
          },
          "type": "line",
          "x0": -0.6286863565444947,
          "x1": 11.664422178268433,
          "y0": 7.658048009872437,
          "y1": 7.658048009872437
         }
        ],
        "template": {
         "data": {
          "bar": [
           {
            "error_x": {
             "color": "rgb(36,36,36)"
            },
            "error_y": {
             "color": "rgb(36,36,36)"
            },
            "marker": {
             "line": {
              "color": "white",
              "width": 0.5
             },
             "pattern": {
              "fillmode": "overlay",
              "size": 10,
              "solidity": 0.2
             }
            },
            "type": "bar"
           }
          ],
          "barpolar": [
           {
            "marker": {
             "line": {
              "color": "white",
              "width": 0.5
             },
             "pattern": {
              "fillmode": "overlay",
              "size": 10,
              "solidity": 0.2
             }
            },
            "type": "barpolar"
           }
          ],
          "carpet": [
           {
            "aaxis": {
             "endlinecolor": "rgb(36,36,36)",
             "gridcolor": "white",
             "linecolor": "white",
             "minorgridcolor": "white",
             "startlinecolor": "rgb(36,36,36)"
            },
            "baxis": {
             "endlinecolor": "rgb(36,36,36)",
             "gridcolor": "white",
             "linecolor": "white",
             "minorgridcolor": "white",
             "startlinecolor": "rgb(36,36,36)"
            },
            "type": "carpet"
           }
          ],
          "choropleth": [
           {
            "colorbar": {
             "outlinewidth": 1,
             "tickcolor": "rgb(36,36,36)",
             "ticks": "outside"
            },
            "type": "choropleth"
           }
          ],
          "contour": [
           {
            "colorbar": {
             "outlinewidth": 1,
             "tickcolor": "rgb(36,36,36)",
             "ticks": "outside"
            },
            "colorscale": [
             [
              0,
              "#440154"
             ],
             [
              0.1111111111111111,
              "#482878"
             ],
             [
              0.2222222222222222,
              "#3e4989"
             ],
             [
              0.3333333333333333,
              "#31688e"
             ],
             [
              0.4444444444444444,
              "#26828e"
             ],
             [
              0.5555555555555556,
              "#1f9e89"
             ],
             [
              0.6666666666666666,
              "#35b779"
             ],
             [
              0.7777777777777778,
              "#6ece58"
             ],
             [
              0.8888888888888888,
              "#b5de2b"
             ],
             [
              1,
              "#fde725"
             ]
            ],
            "type": "contour"
           }
          ],
          "contourcarpet": [
           {
            "colorbar": {
             "outlinewidth": 1,
             "tickcolor": "rgb(36,36,36)",
             "ticks": "outside"
            },
            "type": "contourcarpet"
           }
          ],
          "heatmap": [
           {
            "colorbar": {
             "outlinewidth": 1,
             "tickcolor": "rgb(36,36,36)",
             "ticks": "outside"
            },
            "colorscale": [
             [
              0,
              "#440154"
             ],
             [
              0.1111111111111111,
              "#482878"
             ],
             [
              0.2222222222222222,
              "#3e4989"
             ],
             [
              0.3333333333333333,
              "#31688e"
             ],
             [
              0.4444444444444444,
              "#26828e"
             ],
             [
              0.5555555555555556,
              "#1f9e89"
             ],
             [
              0.6666666666666666,
              "#35b779"
             ],
             [
              0.7777777777777778,
              "#6ece58"
             ],
             [
              0.8888888888888888,
              "#b5de2b"
             ],
             [
              1,
              "#fde725"
             ]
            ],
            "type": "heatmap"
           }
          ],
          "histogram": [
           {
            "marker": {
             "line": {
              "color": "white",
              "width": 0.6
             }
            },
            "type": "histogram"
           }
          ],
          "histogram2d": [
           {
            "colorbar": {
             "outlinewidth": 1,
             "tickcolor": "rgb(36,36,36)",
             "ticks": "outside"
            },
            "colorscale": [
             [
              0,
              "#440154"
             ],
             [
              0.1111111111111111,
              "#482878"
             ],
             [
              0.2222222222222222,
              "#3e4989"
             ],
             [
              0.3333333333333333,
              "#31688e"
             ],
             [
              0.4444444444444444,
              "#26828e"
             ],
             [
              0.5555555555555556,
              "#1f9e89"
             ],
             [
              0.6666666666666666,
              "#35b779"
             ],
             [
              0.7777777777777778,
              "#6ece58"
             ],
             [
              0.8888888888888888,
              "#b5de2b"
             ],
             [
              1,
              "#fde725"
             ]
            ],
            "type": "histogram2d"
           }
          ],
          "histogram2dcontour": [
           {
            "colorbar": {
             "outlinewidth": 1,
             "tickcolor": "rgb(36,36,36)",
             "ticks": "outside"
            },
            "colorscale": [
             [
              0,
              "#440154"
             ],
             [
              0.1111111111111111,
              "#482878"
             ],
             [
              0.2222222222222222,
              "#3e4989"
             ],
             [
              0.3333333333333333,
              "#31688e"
             ],
             [
              0.4444444444444444,
              "#26828e"
             ],
             [
              0.5555555555555556,
              "#1f9e89"
             ],
             [
              0.6666666666666666,
              "#35b779"
             ],
             [
              0.7777777777777778,
              "#6ece58"
             ],
             [
              0.8888888888888888,
              "#b5de2b"
             ],
             [
              1,
              "#fde725"
             ]
            ],
            "type": "histogram2dcontour"
           }
          ],
          "mesh3d": [
           {
            "colorbar": {
             "outlinewidth": 1,
             "tickcolor": "rgb(36,36,36)",
             "ticks": "outside"
            },
            "type": "mesh3d"
           }
          ],
          "parcoords": [
           {
            "line": {
             "colorbar": {
              "outlinewidth": 1,
              "tickcolor": "rgb(36,36,36)",
              "ticks": "outside"
             }
            },
            "type": "parcoords"
           }
          ],
          "pie": [
           {
            "automargin": true,
            "type": "pie"
           }
          ],
          "scatter": [
           {
            "fillpattern": {
             "fillmode": "overlay",
             "size": 10,
             "solidity": 0.2
            },
            "type": "scatter"
           }
          ],
          "scatter3d": [
           {
            "line": {
             "colorbar": {
              "outlinewidth": 1,
              "tickcolor": "rgb(36,36,36)",
              "ticks": "outside"
             }
            },
            "marker": {
             "colorbar": {
              "outlinewidth": 1,
              "tickcolor": "rgb(36,36,36)",
              "ticks": "outside"
             }
            },
            "type": "scatter3d"
           }
          ],
          "scattercarpet": [
           {
            "marker": {
             "colorbar": {
              "outlinewidth": 1,
              "tickcolor": "rgb(36,36,36)",
              "ticks": "outside"
             }
            },
            "type": "scattercarpet"
           }
          ],
          "scattergeo": [
           {
            "marker": {
             "colorbar": {
              "outlinewidth": 1,
              "tickcolor": "rgb(36,36,36)",
              "ticks": "outside"
             }
            },
            "type": "scattergeo"
           }
          ],
          "scattergl": [
           {
            "marker": {
             "colorbar": {
              "outlinewidth": 1,
              "tickcolor": "rgb(36,36,36)",
              "ticks": "outside"
             }
            },
            "type": "scattergl"
           }
          ],
          "scattermap": [
           {
            "marker": {
             "colorbar": {
              "outlinewidth": 1,
              "tickcolor": "rgb(36,36,36)",
              "ticks": "outside"
             }
            },
            "type": "scattermap"
           }
          ],
          "scattermapbox": [
           {
            "marker": {
             "colorbar": {
              "outlinewidth": 1,
              "tickcolor": "rgb(36,36,36)",
              "ticks": "outside"
             }
            },
            "type": "scattermapbox"
           }
          ],
          "scatterpolar": [
           {
            "marker": {
             "colorbar": {
              "outlinewidth": 1,
              "tickcolor": "rgb(36,36,36)",
              "ticks": "outside"
             }
            },
            "type": "scatterpolar"
           }
          ],
          "scatterpolargl": [
           {
            "marker": {
             "colorbar": {
              "outlinewidth": 1,
              "tickcolor": "rgb(36,36,36)",
              "ticks": "outside"
             }
            },
            "type": "scatterpolargl"
           }
          ],
          "scatterternary": [
           {
            "marker": {
             "colorbar": {
              "outlinewidth": 1,
              "tickcolor": "rgb(36,36,36)",
              "ticks": "outside"
             }
            },
            "type": "scatterternary"
           }
          ],
          "surface": [
           {
            "colorbar": {
             "outlinewidth": 1,
             "tickcolor": "rgb(36,36,36)",
             "ticks": "outside"
            },
            "colorscale": [
             [
              0,
              "#440154"
             ],
             [
              0.1111111111111111,
              "#482878"
             ],
             [
              0.2222222222222222,
              "#3e4989"
             ],
             [
              0.3333333333333333,
              "#31688e"
             ],
             [
              0.4444444444444444,
              "#26828e"
             ],
             [
              0.5555555555555556,
              "#1f9e89"
             ],
             [
              0.6666666666666666,
              "#35b779"
             ],
             [
              0.7777777777777778,
              "#6ece58"
             ],
             [
              0.8888888888888888,
              "#b5de2b"
             ],
             [
              1,
              "#fde725"
             ]
            ],
            "type": "surface"
           }
          ],
          "table": [
           {
            "cells": {
             "fill": {
              "color": "rgb(237,237,237)"
             },
             "line": {
              "color": "white"
             }
            },
            "header": {
             "fill": {
              "color": "rgb(217,217,217)"
             },
             "line": {
              "color": "white"
             }
            },
            "type": "table"
           }
          ]
         },
         "layout": {
          "annotationdefaults": {
           "arrowhead": 0,
           "arrowwidth": 1
          },
          "autotypenumbers": "strict",
          "coloraxis": {
           "colorbar": {
            "outlinewidth": 1,
            "tickcolor": "rgb(36,36,36)",
            "ticks": "outside"
           }
          },
          "colorscale": {
           "diverging": [
            [
             0,
             "rgb(103,0,31)"
            ],
            [
             0.1,
             "rgb(178,24,43)"
            ],
            [
             0.2,
             "rgb(214,96,77)"
            ],
            [
             0.3,
             "rgb(244,165,130)"
            ],
            [
             0.4,
             "rgb(253,219,199)"
            ],
            [
             0.5,
             "rgb(247,247,247)"
            ],
            [
             0.6,
             "rgb(209,229,240)"
            ],
            [
             0.7,
             "rgb(146,197,222)"
            ],
            [
             0.8,
             "rgb(67,147,195)"
            ],
            [
             0.9,
             "rgb(33,102,172)"
            ],
            [
             1,
             "rgb(5,48,97)"
            ]
           ],
           "sequential": [
            [
             0,
             "#440154"
            ],
            [
             0.1111111111111111,
             "#482878"
            ],
            [
             0.2222222222222222,
             "#3e4989"
            ],
            [
             0.3333333333333333,
             "#31688e"
            ],
            [
             0.4444444444444444,
             "#26828e"
            ],
            [
             0.5555555555555556,
             "#1f9e89"
            ],
            [
             0.6666666666666666,
             "#35b779"
            ],
            [
             0.7777777777777778,
             "#6ece58"
            ],
            [
             0.8888888888888888,
             "#b5de2b"
            ],
            [
             1,
             "#fde725"
            ]
           ],
           "sequentialminus": [
            [
             0,
             "#440154"
            ],
            [
             0.1111111111111111,
             "#482878"
            ],
            [
             0.2222222222222222,
             "#3e4989"
            ],
            [
             0.3333333333333333,
             "#31688e"
            ],
            [
             0.4444444444444444,
             "#26828e"
            ],
            [
             0.5555555555555556,
             "#1f9e89"
            ],
            [
             0.6666666666666666,
             "#35b779"
            ],
            [
             0.7777777777777778,
             "#6ece58"
            ],
            [
             0.8888888888888888,
             "#b5de2b"
            ],
            [
             1,
             "#fde725"
            ]
           ]
          },
          "colorway": [
           "#1F77B4",
           "#FF7F0E",
           "#2CA02C",
           "#D62728",
           "#9467BD",
           "#8C564B",
           "#E377C2",
           "#7F7F7F",
           "#BCBD22",
           "#17BECF"
          ],
          "font": {
           "color": "rgb(36,36,36)"
          },
          "geo": {
           "bgcolor": "white",
           "lakecolor": "white",
           "landcolor": "white",
           "showlakes": true,
           "showland": true,
           "subunitcolor": "white"
          },
          "hoverlabel": {
           "align": "left"
          },
          "hovermode": "closest",
          "mapbox": {
           "style": "light"
          },
          "paper_bgcolor": "white",
          "plot_bgcolor": "white",
          "polar": {
           "angularaxis": {
            "gridcolor": "rgb(232,232,232)",
            "linecolor": "rgb(36,36,36)",
            "showgrid": false,
            "showline": true,
            "ticks": "outside"
           },
           "bgcolor": "white",
           "radialaxis": {
            "gridcolor": "rgb(232,232,232)",
            "linecolor": "rgb(36,36,36)",
            "showgrid": false,
            "showline": true,
            "ticks": "outside"
           }
          },
          "scene": {
           "xaxis": {
            "backgroundcolor": "white",
            "gridcolor": "rgb(232,232,232)",
            "gridwidth": 2,
            "linecolor": "rgb(36,36,36)",
            "showbackground": true,
            "showgrid": false,
            "showline": true,
            "ticks": "outside",
            "zeroline": false,
            "zerolinecolor": "rgb(36,36,36)"
           },
           "yaxis": {
            "backgroundcolor": "white",
            "gridcolor": "rgb(232,232,232)",
            "gridwidth": 2,
            "linecolor": "rgb(36,36,36)",
            "showbackground": true,
            "showgrid": false,
            "showline": true,
            "ticks": "outside",
            "zeroline": false,
            "zerolinecolor": "rgb(36,36,36)"
           },
           "zaxis": {
            "backgroundcolor": "white",
            "gridcolor": "rgb(232,232,232)",
            "gridwidth": 2,
            "linecolor": "rgb(36,36,36)",
            "showbackground": true,
            "showgrid": false,
            "showline": true,
            "ticks": "outside",
            "zeroline": false,
            "zerolinecolor": "rgb(36,36,36)"
           }
          },
          "shapedefaults": {
           "fillcolor": "black",
           "line": {
            "width": 0
           },
           "opacity": 0.3
          },
          "ternary": {
           "aaxis": {
            "gridcolor": "rgb(232,232,232)",
            "linecolor": "rgb(36,36,36)",
            "showgrid": false,
            "showline": true,
            "ticks": "outside"
           },
           "baxis": {
            "gridcolor": "rgb(232,232,232)",
            "linecolor": "rgb(36,36,36)",
            "showgrid": false,
            "showline": true,
            "ticks": "outside"
           },
           "bgcolor": "white",
           "caxis": {
            "gridcolor": "rgb(232,232,232)",
            "linecolor": "rgb(36,36,36)",
            "showgrid": false,
            "showline": true,
            "ticks": "outside"
           }
          },
          "title": {
           "x": 0.05
          },
          "xaxis": {
           "automargin": true,
           "gridcolor": "rgb(232,232,232)",
           "linecolor": "rgb(36,36,36)",
           "showgrid": false,
           "showline": true,
           "ticks": "outside",
           "title": {
            "standoff": 15
           },
           "zeroline": false,
           "zerolinecolor": "rgb(36,36,36)"
          },
          "yaxis": {
           "automargin": true,
           "gridcolor": "rgb(232,232,232)",
           "linecolor": "rgb(36,36,36)",
           "showgrid": false,
           "showline": true,
           "ticks": "outside",
           "title": {
            "standoff": 15
           },
           "zeroline": false,
           "zerolinecolor": "rgb(36,36,36)"
          }
         }
        },
        "title": {
         "font": {
          "color": "Black",
          "size": 22
         },
         "text": "<b>Documents and Topics</b>",
         "x": 0.5,
         "xanchor": "center",
         "yanchor": "top"
        },
        "width": 1200,
        "xaxis": {
         "visible": false
        },
        "yaxis": {
         "visible": false
        }
       }
      }
     },
     "metadata": {},
     "output_type": "display_data"
    }
   ],
   "source": [
    "# Optional: UMAP-Plot aktualisieren (automatisch aus BERTopic möglich)\n",
    "# Visualisierung nach Topic\n",
    "topic_model.visualize_documents(texts, topics=topics)"
   ]
  },
  {
   "cell_type": "markdown",
   "id": "4bff5350",
   "metadata": {},
   "source": [
    "## 5. Vorbereitung für Klassifikation\n",
    "\n",
    "In diesem Abschnitt bereiten wir die Daten für ein Klassifikationsmodell vor. Ziel könnte z. B. die Vorhersage von Plattform (`source`), Topic oder Sentiment sein. Dazu müssen Texte in numerische Features (z. B. Embeddings oder TF-IDF) transformiert und Zielvariablen korrekt encodiert werden."
   ]
  },
  {
   "cell_type": "code",
   "execution_count": 85,
   "id": "a71b368a",
   "metadata": {},
   "outputs": [],
   "source": [
    "y = df_clean['source']  # Zielvariable\n",
    "X = vectorizer.fit_transform(df_clean['text_clean'].astype(str))  # Features\n",
    "\n",
    "# Split korrekt durchführen\n",
    "from sklearn.model_selection import train_test_split\n",
    "X_train, X_test, y_train, y_test = train_test_split(\n",
    "    X, y, test_size=0.2, stratify=y, random_state=42\n",
    ")"
   ]
  },
  {
   "cell_type": "code",
   "execution_count": null,
   "id": "c6986d07",
   "metadata": {},
   "outputs": [],
   "source": []
  },
  {
   "cell_type": "code",
   "execution_count": 86,
   "id": "6a34bd1c",
   "metadata": {},
   "outputs": [],
   "source": [
    "df_clean.to_csv(RAW_DIR / \"social_media_data_with_topics.csv\")\n"
   ]
  },
  {
   "cell_type": "code",
   "execution_count": 87,
   "id": "1d57b1b3",
   "metadata": {},
   "outputs": [
    {
     "data": {
      "text/html": [
       "<div>\n",
       "<style scoped>\n",
       "    .dataframe tbody tr th:only-of-type {\n",
       "        vertical-align: middle;\n",
       "    }\n",
       "\n",
       "    .dataframe tbody tr th {\n",
       "        vertical-align: top;\n",
       "    }\n",
       "\n",
       "    .dataframe thead th {\n",
       "        text-align: right;\n",
       "    }\n",
       "</style>\n",
       "<table border=\"1\" class=\"dataframe\">\n",
       "  <thead>\n",
       "    <tr style=\"text-align: right;\">\n",
       "      <th></th>\n",
       "      <th>source</th>\n",
       "      <th>id</th>\n",
       "      <th>title</th>\n",
       "      <th>text</th>\n",
       "      <th>username</th>\n",
       "      <th>likes</th>\n",
       "      <th>comments</th>\n",
       "      <th>shares</th>\n",
       "      <th>plays</th>\n",
       "      <th>timestamp</th>\n",
       "      <th>published_at</th>\n",
       "      <th>url</th>\n",
       "      <th>datetime</th>\n",
       "      <th>date</th>\n",
       "      <th>title_language</th>\n",
       "      <th>title_clean</th>\n",
       "      <th>title_char_count</th>\n",
       "      <th>title_word_count</th>\n",
       "      <th>title_uppercase_count</th>\n",
       "      <th>title_exclamation_count</th>\n",
       "      <th>title_question_count</th>\n",
       "      <th>title_emoji_count</th>\n",
       "      <th>title_mention_count</th>\n",
       "      <th>title_hashtag_count</th>\n",
       "      <th>title_avg_word_length</th>\n",
       "      <th>title_sentiment</th>\n",
       "      <th>title_sentiment_score</th>\n",
       "      <th>text_language</th>\n",
       "      <th>text_clean</th>\n",
       "      <th>text_char_count</th>\n",
       "      <th>text_word_count</th>\n",
       "      <th>text_uppercase_count</th>\n",
       "      <th>text_exclamation_count</th>\n",
       "      <th>text_question_count</th>\n",
       "      <th>text_emoji_count</th>\n",
       "      <th>text_mention_count</th>\n",
       "      <th>text_hashtag_count</th>\n",
       "      <th>text_avg_word_length</th>\n",
       "      <th>text_sentiment</th>\n",
       "      <th>text_sentiment_score</th>\n",
       "      <th>engagement_rate</th>\n",
       "      <th>hour</th>\n",
       "      <th>weekday</th>\n",
       "      <th>year</th>\n",
       "      <th>month</th>\n",
       "      <th>day_period</th>\n",
       "      <th>is_weekend</th>\n",
       "      <th>time_bin</th>\n",
       "      <th>topic</th>\n",
       "    </tr>\n",
       "  </thead>\n",
       "  <tbody>\n",
       "    <tr>\n",
       "      <th>3</th>\n",
       "      <td>tiktok</td>\n",
       "      <td>7472584144510373125</td>\n",
       "      <td>NaN</td>\n",
       "      <td>i think it was a bad idea</td>\n",
       "      <td>maligoshik</td>\n",
       "      <td>0.463918</td>\n",
       "      <td>0.052621</td>\n",
       "      <td>0.276596</td>\n",
       "      <td>0.520049</td>\n",
       "      <td>2025-02-18 02:43:04+00:00</td>\n",
       "      <td>NaN</td>\n",
       "      <td>https://v16-webapp-prime.tiktok.com/video/tos/...</td>\n",
       "      <td>2025-02-18 02:43:04+00:00</td>\n",
       "      <td>2025-02-18</td>\n",
       "      <td>unknown</td>\n",
       "      <td>NaN</td>\n",
       "      <td>0.0</td>\n",
       "      <td>0.0</td>\n",
       "      <td>0.0</td>\n",
       "      <td>0.0</td>\n",
       "      <td>0.0</td>\n",
       "      <td>0.0</td>\n",
       "      <td>0.0</td>\n",
       "      <td>0.0</td>\n",
       "      <td>0.0</td>\n",
       "      <td>neutral</td>\n",
       "      <td>0.0</td>\n",
       "      <td>en</td>\n",
       "      <td>think bad idea</td>\n",
       "      <td>14.0</td>\n",
       "      <td>3.0</td>\n",
       "      <td>0.0</td>\n",
       "      <td>0.0</td>\n",
       "      <td>0.0</td>\n",
       "      <td>0.0</td>\n",
       "      <td>0.0</td>\n",
       "      <td>0.0</td>\n",
       "      <td>4.0</td>\n",
       "      <td>negative</td>\n",
       "      <td>-0.7</td>\n",
       "      <td>0.284582</td>\n",
       "      <td>NaN</td>\n",
       "      <td>NaN</td>\n",
       "      <td>NaN</td>\n",
       "      <td>NaN</td>\n",
       "      <td>NaN</td>\n",
       "      <td>False</td>\n",
       "      <td>2025-02-18 AM</td>\n",
       "      <td>1</td>\n",
       "    </tr>\n",
       "    <tr>\n",
       "      <th>4</th>\n",
       "      <td>tiktok</td>\n",
       "      <td>7461927005689302280</td>\n",
       "      <td>NaN</td>\n",
       "      <td>welcome to the thanos world!! #squidgame #squi...</td>\n",
       "      <td>team_thanos_player230</td>\n",
       "      <td>0.006737</td>\n",
       "      <td>0.028503</td>\n",
       "      <td>0.002027</td>\n",
       "      <td>0.038248</td>\n",
       "      <td>2025-01-20 09:27:52+00:00</td>\n",
       "      <td>NaN</td>\n",
       "      <td>https://webapp-sg.tiktok.com/bf63b8aa40b9ff0ca...</td>\n",
       "      <td>2025-01-20 09:27:52+00:00</td>\n",
       "      <td>2025-01-20</td>\n",
       "      <td>unknown</td>\n",
       "      <td>NaN</td>\n",
       "      <td>0.0</td>\n",
       "      <td>0.0</td>\n",
       "      <td>0.0</td>\n",
       "      <td>0.0</td>\n",
       "      <td>0.0</td>\n",
       "      <td>0.0</td>\n",
       "      <td>0.0</td>\n",
       "      <td>0.0</td>\n",
       "      <td>0.0</td>\n",
       "      <td>neutral</td>\n",
       "      <td>0.0</td>\n",
       "      <td>en</td>\n",
       "      <td>welcome thanos world</td>\n",
       "      <td>20.0</td>\n",
       "      <td>3.0</td>\n",
       "      <td>0.0</td>\n",
       "      <td>0.0</td>\n",
       "      <td>0.0</td>\n",
       "      <td>0.0</td>\n",
       "      <td>0.0</td>\n",
       "      <td>0.0</td>\n",
       "      <td>6.0</td>\n",
       "      <td>positive</td>\n",
       "      <td>0.8</td>\n",
       "      <td>0.057531</td>\n",
       "      <td>NaN</td>\n",
       "      <td>NaN</td>\n",
       "      <td>NaN</td>\n",
       "      <td>NaN</td>\n",
       "      <td>NaN</td>\n",
       "      <td>False</td>\n",
       "      <td>2025-01-20 AM</td>\n",
       "      <td>-1</td>\n",
       "    </tr>\n",
       "    <tr>\n",
       "      <th>5</th>\n",
       "      <td>tiktok</td>\n",
       "      <td>7461757350492278048</td>\n",
       "      <td>NaN</td>\n",
       "      <td>This is a great goal 😳😭 @Fabio Andrés #golazo ...</td>\n",
       "      <td>risingballers</td>\n",
       "      <td>0.022387</td>\n",
       "      <td>0.012754</td>\n",
       "      <td>0.049234</td>\n",
       "      <td>0.033621</td>\n",
       "      <td>2025-01-19 22:29:34+00:00</td>\n",
       "      <td>NaN</td>\n",
       "      <td>https://v16-webapp-prime.tiktok.com/video/tos/...</td>\n",
       "      <td>2025-01-19 22:29:34+00:00</td>\n",
       "      <td>2025-01-19</td>\n",
       "      <td>unknown</td>\n",
       "      <td>NaN</td>\n",
       "      <td>0.0</td>\n",
       "      <td>0.0</td>\n",
       "      <td>0.0</td>\n",
       "      <td>0.0</td>\n",
       "      <td>0.0</td>\n",
       "      <td>0.0</td>\n",
       "      <td>0.0</td>\n",
       "      <td>0.0</td>\n",
       "      <td>0.0</td>\n",
       "      <td>neutral</td>\n",
       "      <td>0.0</td>\n",
       "      <td>en</td>\n",
       "      <td>great goal andrés</td>\n",
       "      <td>17.0</td>\n",
       "      <td>3.0</td>\n",
       "      <td>0.0</td>\n",
       "      <td>0.0</td>\n",
       "      <td>0.0</td>\n",
       "      <td>0.0</td>\n",
       "      <td>0.0</td>\n",
       "      <td>0.0</td>\n",
       "      <td>5.0</td>\n",
       "      <td>positive</td>\n",
       "      <td>0.8</td>\n",
       "      <td>0.213120</td>\n",
       "      <td>NaN</td>\n",
       "      <td>NaN</td>\n",
       "      <td>NaN</td>\n",
       "      <td>NaN</td>\n",
       "      <td>NaN</td>\n",
       "      <td>False</td>\n",
       "      <td>2025-01-19 PM</td>\n",
       "      <td>3</td>\n",
       "    </tr>\n",
       "    <tr>\n",
       "      <th>6</th>\n",
       "      <td>tiktok</td>\n",
       "      <td>7462429961345879318</td>\n",
       "      <td>NaN</td>\n",
       "      <td>glaube er hatte nicht so bock auf mich..💀 #for...</td>\n",
       "      <td>allroundii</td>\n",
       "      <td>0.017598</td>\n",
       "      <td>0.015076</td>\n",
       "      <td>0.035149</td>\n",
       "      <td>0.031462</td>\n",
       "      <td>2025-01-21 17:59:37+00:00</td>\n",
       "      <td>NaN</td>\n",
       "      <td>NaN</td>\n",
       "      <td>2025-01-21 17:59:37+00:00</td>\n",
       "      <td>2025-01-21</td>\n",
       "      <td>unknown</td>\n",
       "      <td>NaN</td>\n",
       "      <td>0.0</td>\n",
       "      <td>0.0</td>\n",
       "      <td>0.0</td>\n",
       "      <td>0.0</td>\n",
       "      <td>0.0</td>\n",
       "      <td>0.0</td>\n",
       "      <td>0.0</td>\n",
       "      <td>0.0</td>\n",
       "      <td>0.0</td>\n",
       "      <td>neutral</td>\n",
       "      <td>0.0</td>\n",
       "      <td>de</td>\n",
       "      <td>glaube bock</td>\n",
       "      <td>11.0</td>\n",
       "      <td>2.0</td>\n",
       "      <td>0.0</td>\n",
       "      <td>0.0</td>\n",
       "      <td>0.0</td>\n",
       "      <td>0.0</td>\n",
       "      <td>0.0</td>\n",
       "      <td>0.0</td>\n",
       "      <td>5.0</td>\n",
       "      <td>neutral</td>\n",
       "      <td>0.0</td>\n",
       "      <td>0.179356</td>\n",
       "      <td>NaN</td>\n",
       "      <td>NaN</td>\n",
       "      <td>NaN</td>\n",
       "      <td>NaN</td>\n",
       "      <td>NaN</td>\n",
       "      <td>False</td>\n",
       "      <td>2025-01-21 PM</td>\n",
       "      <td>0</td>\n",
       "    </tr>\n",
       "    <tr>\n",
       "      <th>7</th>\n",
       "      <td>tiktok</td>\n",
       "      <td>7483193151004445974</td>\n",
       "      <td>NaN</td>\n",
       "      <td>#CapCut Speedquiz 🤯🧠✅️ #fyp #viral_video #quiz...</td>\n",
       "      <td>brainyy.quiz</td>\n",
       "      <td>0.000719</td>\n",
       "      <td>0.016347</td>\n",
       "      <td>0.004191</td>\n",
       "      <td>0.003393</td>\n",
       "      <td>2025-03-18 16:51:23+00:00</td>\n",
       "      <td>NaN</td>\n",
       "      <td>NaN</td>\n",
       "      <td>2025-03-18 16:51:23+00:00</td>\n",
       "      <td>2025-03-18</td>\n",
       "      <td>unknown</td>\n",
       "      <td>NaN</td>\n",
       "      <td>0.0</td>\n",
       "      <td>0.0</td>\n",
       "      <td>0.0</td>\n",
       "      <td>0.0</td>\n",
       "      <td>0.0</td>\n",
       "      <td>0.0</td>\n",
       "      <td>0.0</td>\n",
       "      <td>0.0</td>\n",
       "      <td>0.0</td>\n",
       "      <td>neutral</td>\n",
       "      <td>0.0</td>\n",
       "      <td>nl</td>\n",
       "      <td>speedquiz</td>\n",
       "      <td>9.0</td>\n",
       "      <td>1.0</td>\n",
       "      <td>0.0</td>\n",
       "      <td>0.0</td>\n",
       "      <td>0.0</td>\n",
       "      <td>0.0</td>\n",
       "      <td>0.0</td>\n",
       "      <td>0.0</td>\n",
       "      <td>9.0</td>\n",
       "      <td>neutral</td>\n",
       "      <td>0.0</td>\n",
       "      <td>0.084348</td>\n",
       "      <td>NaN</td>\n",
       "      <td>NaN</td>\n",
       "      <td>NaN</td>\n",
       "      <td>NaN</td>\n",
       "      <td>NaN</td>\n",
       "      <td>False</td>\n",
       "      <td>2025-03-18 PM</td>\n",
       "      <td>2</td>\n",
       "    </tr>\n",
       "  </tbody>\n",
       "</table>\n",
       "</div>"
      ],
      "text/plain": [
       "   source                   id title  \\\n",
       "3  tiktok  7472584144510373125   NaN   \n",
       "4  tiktok  7461927005689302280   NaN   \n",
       "5  tiktok  7461757350492278048   NaN   \n",
       "6  tiktok  7462429961345879318   NaN   \n",
       "7  tiktok  7483193151004445974   NaN   \n",
       "\n",
       "                                                text               username  \\\n",
       "3                          i think it was a bad idea             maligoshik   \n",
       "4  welcome to the thanos world!! #squidgame #squi...  team_thanos_player230   \n",
       "5  This is a great goal 😳😭 @Fabio Andrés #golazo ...          risingballers   \n",
       "6  glaube er hatte nicht so bock auf mich..💀 #for...             allroundii   \n",
       "7  #CapCut Speedquiz 🤯🧠✅️ #fyp #viral_video #quiz...           brainyy.quiz   \n",
       "\n",
       "      likes  comments    shares     plays                 timestamp  \\\n",
       "3  0.463918  0.052621  0.276596  0.520049 2025-02-18 02:43:04+00:00   \n",
       "4  0.006737  0.028503  0.002027  0.038248 2025-01-20 09:27:52+00:00   \n",
       "5  0.022387  0.012754  0.049234  0.033621 2025-01-19 22:29:34+00:00   \n",
       "6  0.017598  0.015076  0.035149  0.031462 2025-01-21 17:59:37+00:00   \n",
       "7  0.000719  0.016347  0.004191  0.003393 2025-03-18 16:51:23+00:00   \n",
       "\n",
       "  published_at                                                url  \\\n",
       "3          NaN  https://v16-webapp-prime.tiktok.com/video/tos/...   \n",
       "4          NaN  https://webapp-sg.tiktok.com/bf63b8aa40b9ff0ca...   \n",
       "5          NaN  https://v16-webapp-prime.tiktok.com/video/tos/...   \n",
       "6          NaN                                                NaN   \n",
       "7          NaN                                                NaN   \n",
       "\n",
       "                    datetime        date title_language title_clean  \\\n",
       "3  2025-02-18 02:43:04+00:00  2025-02-18        unknown         NaN   \n",
       "4  2025-01-20 09:27:52+00:00  2025-01-20        unknown         NaN   \n",
       "5  2025-01-19 22:29:34+00:00  2025-01-19        unknown         NaN   \n",
       "6  2025-01-21 17:59:37+00:00  2025-01-21        unknown         NaN   \n",
       "7  2025-03-18 16:51:23+00:00  2025-03-18        unknown         NaN   \n",
       "\n",
       "   title_char_count  title_word_count  title_uppercase_count  \\\n",
       "3               0.0               0.0                    0.0   \n",
       "4               0.0               0.0                    0.0   \n",
       "5               0.0               0.0                    0.0   \n",
       "6               0.0               0.0                    0.0   \n",
       "7               0.0               0.0                    0.0   \n",
       "\n",
       "   title_exclamation_count  title_question_count  title_emoji_count  \\\n",
       "3                      0.0                   0.0                0.0   \n",
       "4                      0.0                   0.0                0.0   \n",
       "5                      0.0                   0.0                0.0   \n",
       "6                      0.0                   0.0                0.0   \n",
       "7                      0.0                   0.0                0.0   \n",
       "\n",
       "   title_mention_count  title_hashtag_count  title_avg_word_length  \\\n",
       "3                  0.0                  0.0                    0.0   \n",
       "4                  0.0                  0.0                    0.0   \n",
       "5                  0.0                  0.0                    0.0   \n",
       "6                  0.0                  0.0                    0.0   \n",
       "7                  0.0                  0.0                    0.0   \n",
       "\n",
       "  title_sentiment  title_sentiment_score text_language            text_clean  \\\n",
       "3         neutral                    0.0            en        think bad idea   \n",
       "4         neutral                    0.0            en  welcome thanos world   \n",
       "5         neutral                    0.0            en     great goal andrés   \n",
       "6         neutral                    0.0            de           glaube bock   \n",
       "7         neutral                    0.0            nl             speedquiz   \n",
       "\n",
       "   text_char_count  text_word_count  text_uppercase_count  \\\n",
       "3             14.0              3.0                   0.0   \n",
       "4             20.0              3.0                   0.0   \n",
       "5             17.0              3.0                   0.0   \n",
       "6             11.0              2.0                   0.0   \n",
       "7              9.0              1.0                   0.0   \n",
       "\n",
       "   text_exclamation_count  text_question_count  text_emoji_count  \\\n",
       "3                     0.0                  0.0               0.0   \n",
       "4                     0.0                  0.0               0.0   \n",
       "5                     0.0                  0.0               0.0   \n",
       "6                     0.0                  0.0               0.0   \n",
       "7                     0.0                  0.0               0.0   \n",
       "\n",
       "   text_mention_count  text_hashtag_count  text_avg_word_length  \\\n",
       "3                 0.0                 0.0                   4.0   \n",
       "4                 0.0                 0.0                   6.0   \n",
       "5                 0.0                 0.0                   5.0   \n",
       "6                 0.0                 0.0                   5.0   \n",
       "7                 0.0                 0.0                   9.0   \n",
       "\n",
       "  text_sentiment  text_sentiment_score  engagement_rate  hour weekday  year  \\\n",
       "3       negative                  -0.7         0.284582   NaN     NaN   NaN   \n",
       "4       positive                   0.8         0.057531   NaN     NaN   NaN   \n",
       "5       positive                   0.8         0.213120   NaN     NaN   NaN   \n",
       "6        neutral                   0.0         0.179356   NaN     NaN   NaN   \n",
       "7        neutral                   0.0         0.084348   NaN     NaN   NaN   \n",
       "\n",
       "   month day_period  is_weekend       time_bin  topic  \n",
       "3    NaN        NaN       False  2025-02-18 AM      1  \n",
       "4    NaN        NaN       False  2025-01-20 AM     -1  \n",
       "5    NaN        NaN       False  2025-01-19 PM      3  \n",
       "6    NaN        NaN       False  2025-01-21 PM      0  \n",
       "7    NaN        NaN       False  2025-03-18 PM      2  "
      ]
     },
     "execution_count": 87,
     "metadata": {},
     "output_type": "execute_result"
    }
   ],
   "source": [
    "df_clean.head()"
   ]
  }
 ],
 "metadata": {
  "kernelspec": {
   "display_name": "venv",
   "language": "python",
   "name": "python3"
  },
  "language_info": {
   "codemirror_mode": {
    "name": "ipython",
    "version": 3
   },
   "file_extension": ".py",
   "mimetype": "text/x-python",
   "name": "python",
   "nbconvert_exporter": "python",
   "pygments_lexer": "ipython3",
   "version": "3.10.0"
  }
 },
 "nbformat": 4,
 "nbformat_minor": 5
}
