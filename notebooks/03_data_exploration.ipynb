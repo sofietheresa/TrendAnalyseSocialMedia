{
 "cells": [
  {
   "cell_type": "markdown",
   "id": "556bf447",
   "metadata": {},
   "source": [
    "<div style=\"text-align: center; font-size: 16px;\">\n",
    "    <strong>Course:</strong> Machine Learning Operations |\n",
    "    <strong>Lecturer:</strong> Prof. Dr. Klotz |\n",
    "    <strong>Date:</strong> 17.05.2025 |\n",
    "    <strong>Name:</strong> Sofie Pischl\n",
    "</div>\n",
    "\n",
    "# <center> Data Exploration </center>"
   ]
  },
  {
   "cell_type": "markdown",
   "id": "60106afd",
   "metadata": {},
   "source": [
    "# Inhaltsverzeichnis\n",
    "1. [Einleitung](#Einleitung)\n",
    "2. [Datenvorbereitung](#Datenvorbereitung)\n",
    "3. [Fortgeschrittenes Topic Modelling mit BERTopic](#Fortgeschrittenes-Topic-Modelling-mit-BERTopic)\n",
    "4. [Verbesserte Sentiment-Analyse](#Verbesserte-Sentiment-Analyse)\n",
    "5. [Zeitliche Analyse der Topics](#Zeitliche-Analyse-der-Topics)\n",
    "6. [UMAP-Visualisierung der Topics](#UMAP-Visualisierung-der-Topics)\n",
    "7. [Vorbereitung auf Klassifikation](#Vorbereitung-auf-Klassifikation)\n"
   ]
  },
  {
   "cell_type": "markdown",
   "id": "c296d7f0",
   "metadata": {},
   "source": [
    "## Einleitung\n",
    "Dieses Notebook untersucht kombinierte Social-Media-Daten aus Reddit, YouTube und TikTok. Ziel ist es, Muster in Themen und Stimmungen zu erkennen und die Daten für eine spätere Klassifikation vorzubereiten. Wir verwenden moderne Methoden wie **BERTopic**, **Transformer-basierte Sentimentanalyse** und **visuelle Embedding-Cluster**.\n",
    "\n",
    "In diesem Notebook bauen wir auf der bisherigen Datenexploration auf und ergänzen folgende moderne Verfahren:\n",
    "\n",
    "1. **Fortgeschrittenes Topic Modelling mit BERTopic**\n",
    "2. **Verbesserte Sentiment-Analyse mit VADER und Transformer-Modell**\n",
    "3. **Detaillierte Exploration von Text-Clustern und Zeitreihen**\n",
    "4. **Vorbereitung für Klassifikation und Vorhersagemodelle**\n",
    "\n",
    "Jede Methode wird durch beschreibenden Text begleitet und in das bestehende Datenformat integriert."
   ]
  },
  {
   "cell_type": "markdown",
   "id": "e83736c9",
   "metadata": {},
   "source": [
    "## Datenvorbereitung\n",
    "Wir laden die vorverarbeiteten Daten, konvertieren Zeitstempel und bereiten die Texte für die Analyse vor."
   ]
  },
  {
   "cell_type": "code",
   "execution_count": 1,
   "id": "4294c84e",
   "metadata": {},
   "outputs": [],
   "source": [
    "import pandas as pd\n",
    "pd.set_option('display.max_columns', 1000)\n",
    "from sklearn.feature_extraction.text import CountVectorizer\n",
    "from sklearn.decomposition import LatentDirichletAllocation\n",
    "import matplotlib.pyplot as plt\n",
    "import nltk\n",
    "from pathlib import Path"
   ]
  },
  {
   "cell_type": "code",
   "execution_count": 2,
   "id": "54454930",
   "metadata": {},
   "outputs": [
    {
     "data": {
      "text/html": [
       "<div>\n",
       "<style scoped>\n",
       "    .dataframe tbody tr th:only-of-type {\n",
       "        vertical-align: middle;\n",
       "    }\n",
       "\n",
       "    .dataframe tbody tr th {\n",
       "        vertical-align: top;\n",
       "    }\n",
       "\n",
       "    .dataframe thead th {\n",
       "        text-align: right;\n",
       "    }\n",
       "</style>\n",
       "<table border=\"1\" class=\"dataframe\">\n",
       "  <thead>\n",
       "    <tr style=\"text-align: right;\">\n",
       "      <th></th>\n",
       "      <th>source</th>\n",
       "      <th>id</th>\n",
       "      <th>title</th>\n",
       "      <th>text</th>\n",
       "      <th>username</th>\n",
       "      <th>likes</th>\n",
       "      <th>comments</th>\n",
       "      <th>shares</th>\n",
       "      <th>plays</th>\n",
       "      <th>timestamp</th>\n",
       "      <th>published_at</th>\n",
       "      <th>url</th>\n",
       "      <th>datetime</th>\n",
       "      <th>date</th>\n",
       "      <th>title_language</th>\n",
       "      <th>title_clean</th>\n",
       "      <th>title_char_count</th>\n",
       "      <th>title_word_count</th>\n",
       "      <th>title_uppercase_count</th>\n",
       "      <th>title_exclamation_count</th>\n",
       "      <th>title_question_count</th>\n",
       "      <th>title_emoji_count</th>\n",
       "      <th>title_mention_count</th>\n",
       "      <th>title_hashtag_count</th>\n",
       "      <th>title_avg_word_length</th>\n",
       "      <th>title_sentiment</th>\n",
       "      <th>title_sentiment_score</th>\n",
       "      <th>text_language</th>\n",
       "      <th>text_clean</th>\n",
       "      <th>text_char_count</th>\n",
       "      <th>text_word_count</th>\n",
       "      <th>text_uppercase_count</th>\n",
       "      <th>text_exclamation_count</th>\n",
       "      <th>text_question_count</th>\n",
       "      <th>text_emoji_count</th>\n",
       "      <th>text_mention_count</th>\n",
       "      <th>text_hashtag_count</th>\n",
       "      <th>text_avg_word_length</th>\n",
       "      <th>text_sentiment</th>\n",
       "      <th>text_sentiment_score</th>\n",
       "      <th>engagement_rate</th>\n",
       "      <th>hour</th>\n",
       "      <th>weekday</th>\n",
       "      <th>year</th>\n",
       "      <th>month</th>\n",
       "      <th>day_period</th>\n",
       "      <th>is_weekend</th>\n",
       "    </tr>\n",
       "  </thead>\n",
       "  <tbody>\n",
       "    <tr>\n",
       "      <th>0</th>\n",
       "      <td>tiktok</td>\n",
       "      <td>7493469801654881542</td>\n",
       "      <td>NaN</td>\n",
       "      <td>#vairalvideo_foryoupage  #🇦🇫ازبک_تاجک_پشتون_تر...</td>\n",
       "      <td>afgcap.cut</td>\n",
       "      <td>0.000405</td>\n",
       "      <td>0.000566</td>\n",
       "      <td>0.000052</td>\n",
       "      <td>0.001113</td>\n",
       "      <td>1970-01-01 00:00:01.744709406+00:00</td>\n",
       "      <td>2025-05-12 13:56:20+00:00</td>\n",
       "      <td>https://webapp-va.tiktok.com/88847b04ddf03213d...</td>\n",
       "      <td>2025-05-12 13:56:20+00:00</td>\n",
       "      <td>2025-05-12</td>\n",
       "      <td>unknown</td>\n",
       "      <td>NaN</td>\n",
       "      <td>0.0</td>\n",
       "      <td>0.0</td>\n",
       "      <td>0.0</td>\n",
       "      <td>0.0</td>\n",
       "      <td>0.0</td>\n",
       "      <td>0.0</td>\n",
       "      <td>0.0</td>\n",
       "      <td>0.0</td>\n",
       "      <td>0.0</td>\n",
       "      <td>neutral</td>\n",
       "      <td>0.0</td>\n",
       "      <td>unknown</td>\n",
       "      <td>NaN</td>\n",
       "      <td>0.0</td>\n",
       "      <td>0.0</td>\n",
       "      <td>0.0</td>\n",
       "      <td>0.0</td>\n",
       "      <td>0.0</td>\n",
       "      <td>0.0</td>\n",
       "      <td>0.0</td>\n",
       "      <td>0.0</td>\n",
       "      <td>0.0</td>\n",
       "      <td>neutral</td>\n",
       "      <td>0.0</td>\n",
       "      <td>0.117561</td>\n",
       "      <td>13.0</td>\n",
       "      <td>Monday</td>\n",
       "      <td>2025.0</td>\n",
       "      <td>5.0</td>\n",
       "      <td>afternoon</td>\n",
       "      <td>False</td>\n",
       "    </tr>\n",
       "    <tr>\n",
       "      <th>1</th>\n",
       "      <td>tiktok</td>\n",
       "      <td>7489427780397010198</td>\n",
       "      <td>NaN</td>\n",
       "      <td>#imapoliceofficer #tensheet #foryou #viral #fy...</td>\n",
       "      <td>backwheelbandit69</td>\n",
       "      <td>0.112821</td>\n",
       "      <td>0.025872</td>\n",
       "      <td>0.035437</td>\n",
       "      <td>0.131667</td>\n",
       "      <td>1970-01-01 00:00:01.743768297+00:00</td>\n",
       "      <td>2025-05-12 13:56:20+00:00</td>\n",
       "      <td>https://v16-webapp-prime.tiktok.com/video/tos/...</td>\n",
       "      <td>2025-05-12 13:56:20+00:00</td>\n",
       "      <td>2025-05-12</td>\n",
       "      <td>unknown</td>\n",
       "      <td>NaN</td>\n",
       "      <td>0.0</td>\n",
       "      <td>0.0</td>\n",
       "      <td>0.0</td>\n",
       "      <td>0.0</td>\n",
       "      <td>0.0</td>\n",
       "      <td>0.0</td>\n",
       "      <td>0.0</td>\n",
       "      <td>0.0</td>\n",
       "      <td>0.0</td>\n",
       "      <td>neutral</td>\n",
       "      <td>0.0</td>\n",
       "      <td>unknown</td>\n",
       "      <td>NaN</td>\n",
       "      <td>0.0</td>\n",
       "      <td>0.0</td>\n",
       "      <td>0.0</td>\n",
       "      <td>0.0</td>\n",
       "      <td>0.0</td>\n",
       "      <td>0.0</td>\n",
       "      <td>0.0</td>\n",
       "      <td>0.0</td>\n",
       "      <td>0.0</td>\n",
       "      <td>neutral</td>\n",
       "      <td>0.0</td>\n",
       "      <td>0.273045</td>\n",
       "      <td>13.0</td>\n",
       "      <td>Monday</td>\n",
       "      <td>2025.0</td>\n",
       "      <td>5.0</td>\n",
       "      <td>afternoon</td>\n",
       "      <td>False</td>\n",
       "    </tr>\n",
       "    <tr>\n",
       "      <th>2</th>\n",
       "      <td>tiktok</td>\n",
       "      <td>7492000423641959685</td>\n",
       "      <td>NaN</td>\n",
       "      <td>#CapCut #قوالب_كاب_كات_جاهزه_للتصميم__🌴♥ #كاب_...</td>\n",
       "      <td>noordeen_cap_cat_0_1</td>\n",
       "      <td>0.001497</td>\n",
       "      <td>0.000989</td>\n",
       "      <td>0.000181</td>\n",
       "      <td>0.003962</td>\n",
       "      <td>1970-01-01 00:00:01.744367290+00:00</td>\n",
       "      <td>2025-05-12 13:56:20+00:00</td>\n",
       "      <td>https://webapp-va.tiktok.com/6508d64d970e751a2...</td>\n",
       "      <td>2025-05-12 13:56:20+00:00</td>\n",
       "      <td>2025-05-12</td>\n",
       "      <td>unknown</td>\n",
       "      <td>NaN</td>\n",
       "      <td>0.0</td>\n",
       "      <td>0.0</td>\n",
       "      <td>0.0</td>\n",
       "      <td>0.0</td>\n",
       "      <td>0.0</td>\n",
       "      <td>0.0</td>\n",
       "      <td>0.0</td>\n",
       "      <td>0.0</td>\n",
       "      <td>0.0</td>\n",
       "      <td>neutral</td>\n",
       "      <td>0.0</td>\n",
       "      <td>unknown</td>\n",
       "      <td>NaN</td>\n",
       "      <td>0.0</td>\n",
       "      <td>0.0</td>\n",
       "      <td>0.0</td>\n",
       "      <td>0.0</td>\n",
       "      <td>0.0</td>\n",
       "      <td>0.0</td>\n",
       "      <td>0.0</td>\n",
       "      <td>0.0</td>\n",
       "      <td>0.0</td>\n",
       "      <td>neutral</td>\n",
       "      <td>0.0</td>\n",
       "      <td>0.121036</td>\n",
       "      <td>13.0</td>\n",
       "      <td>Monday</td>\n",
       "      <td>2025.0</td>\n",
       "      <td>5.0</td>\n",
       "      <td>afternoon</td>\n",
       "      <td>False</td>\n",
       "    </tr>\n",
       "    <tr>\n",
       "      <th>3</th>\n",
       "      <td>tiktok</td>\n",
       "      <td>7472584144510373125</td>\n",
       "      <td>NaN</td>\n",
       "      <td>i think it was a bad idea</td>\n",
       "      <td>maligoshik</td>\n",
       "      <td>0.492308</td>\n",
       "      <td>0.058979</td>\n",
       "      <td>0.149425</td>\n",
       "      <td>0.572996</td>\n",
       "      <td>1970-01-01 00:00:01.739846584+00:00</td>\n",
       "      <td>2025-05-12 13:56:29+00:00</td>\n",
       "      <td>https://v16-webapp-prime.tiktok.com/video/tos/...</td>\n",
       "      <td>2025-05-12 13:56:29+00:00</td>\n",
       "      <td>2025-05-12</td>\n",
       "      <td>unknown</td>\n",
       "      <td>NaN</td>\n",
       "      <td>0.0</td>\n",
       "      <td>0.0</td>\n",
       "      <td>0.0</td>\n",
       "      <td>0.0</td>\n",
       "      <td>0.0</td>\n",
       "      <td>0.0</td>\n",
       "      <td>0.0</td>\n",
       "      <td>0.0</td>\n",
       "      <td>0.0</td>\n",
       "      <td>neutral</td>\n",
       "      <td>0.0</td>\n",
       "      <td>en</td>\n",
       "      <td>think bad idea</td>\n",
       "      <td>14.0</td>\n",
       "      <td>3.0</td>\n",
       "      <td>0.0</td>\n",
       "      <td>0.0</td>\n",
       "      <td>0.0</td>\n",
       "      <td>0.0</td>\n",
       "      <td>0.0</td>\n",
       "      <td>0.0</td>\n",
       "      <td>4.0</td>\n",
       "      <td>negative</td>\n",
       "      <td>-0.7</td>\n",
       "      <td>0.273435</td>\n",
       "      <td>13.0</td>\n",
       "      <td>Monday</td>\n",
       "      <td>2025.0</td>\n",
       "      <td>5.0</td>\n",
       "      <td>afternoon</td>\n",
       "      <td>False</td>\n",
       "    </tr>\n",
       "    <tr>\n",
       "      <th>4</th>\n",
       "      <td>tiktok</td>\n",
       "      <td>7461927005689302280</td>\n",
       "      <td>NaN</td>\n",
       "      <td>welcome to the thanos world!! #squidgame #squi...</td>\n",
       "      <td>team_thanos_player230</td>\n",
       "      <td>0.006703</td>\n",
       "      <td>0.028503</td>\n",
       "      <td>0.001095</td>\n",
       "      <td>0.037793</td>\n",
       "      <td>1970-01-01 00:00:01.737365272+00:00</td>\n",
       "      <td>2025-05-12 13:56:20+00:00</td>\n",
       "      <td>https://webapp-sg.tiktok.com/bf63b8aa40b9ff0ca...</td>\n",
       "      <td>2025-05-12 13:56:20+00:00</td>\n",
       "      <td>2025-05-12</td>\n",
       "      <td>unknown</td>\n",
       "      <td>NaN</td>\n",
       "      <td>0.0</td>\n",
       "      <td>0.0</td>\n",
       "      <td>0.0</td>\n",
       "      <td>0.0</td>\n",
       "      <td>0.0</td>\n",
       "      <td>0.0</td>\n",
       "      <td>0.0</td>\n",
       "      <td>0.0</td>\n",
       "      <td>0.0</td>\n",
       "      <td>neutral</td>\n",
       "      <td>0.0</td>\n",
       "      <td>en</td>\n",
       "      <td>welcome thanos world</td>\n",
       "      <td>20.0</td>\n",
       "      <td>3.0</td>\n",
       "      <td>0.0</td>\n",
       "      <td>0.0</td>\n",
       "      <td>0.0</td>\n",
       "      <td>0.0</td>\n",
       "      <td>0.0</td>\n",
       "      <td>0.0</td>\n",
       "      <td>6.0</td>\n",
       "      <td>positive</td>\n",
       "      <td>0.8</td>\n",
       "      <td>0.059165</td>\n",
       "      <td>13.0</td>\n",
       "      <td>Monday</td>\n",
       "      <td>2025.0</td>\n",
       "      <td>5.0</td>\n",
       "      <td>afternoon</td>\n",
       "      <td>False</td>\n",
       "    </tr>\n",
       "  </tbody>\n",
       "</table>\n",
       "</div>"
      ],
      "text/plain": [
       "   source                   id title  \\\n",
       "0  tiktok  7493469801654881542   NaN   \n",
       "1  tiktok  7489427780397010198   NaN   \n",
       "2  tiktok  7492000423641959685   NaN   \n",
       "3  tiktok  7472584144510373125   NaN   \n",
       "4  tiktok  7461927005689302280   NaN   \n",
       "\n",
       "                                                text               username  \\\n",
       "0  #vairalvideo_foryoupage  #🇦🇫ازبک_تاجک_پشتون_تر...             afgcap.cut   \n",
       "1  #imapoliceofficer #tensheet #foryou #viral #fy...      backwheelbandit69   \n",
       "2  #CapCut #قوالب_كاب_كات_جاهزه_للتصميم__🌴♥ #كاب_...   noordeen_cap_cat_0_1   \n",
       "3                          i think it was a bad idea             maligoshik   \n",
       "4  welcome to the thanos world!! #squidgame #squi...  team_thanos_player230   \n",
       "\n",
       "      likes  comments    shares     plays  \\\n",
       "0  0.000405  0.000566  0.000052  0.001113   \n",
       "1  0.112821  0.025872  0.035437  0.131667   \n",
       "2  0.001497  0.000989  0.000181  0.003962   \n",
       "3  0.492308  0.058979  0.149425  0.572996   \n",
       "4  0.006703  0.028503  0.001095  0.037793   \n",
       "\n",
       "                             timestamp               published_at  \\\n",
       "0  1970-01-01 00:00:01.744709406+00:00  2025-05-12 13:56:20+00:00   \n",
       "1  1970-01-01 00:00:01.743768297+00:00  2025-05-12 13:56:20+00:00   \n",
       "2  1970-01-01 00:00:01.744367290+00:00  2025-05-12 13:56:20+00:00   \n",
       "3  1970-01-01 00:00:01.739846584+00:00  2025-05-12 13:56:29+00:00   \n",
       "4  1970-01-01 00:00:01.737365272+00:00  2025-05-12 13:56:20+00:00   \n",
       "\n",
       "                                                 url  \\\n",
       "0  https://webapp-va.tiktok.com/88847b04ddf03213d...   \n",
       "1  https://v16-webapp-prime.tiktok.com/video/tos/...   \n",
       "2  https://webapp-va.tiktok.com/6508d64d970e751a2...   \n",
       "3  https://v16-webapp-prime.tiktok.com/video/tos/...   \n",
       "4  https://webapp-sg.tiktok.com/bf63b8aa40b9ff0ca...   \n",
       "\n",
       "                    datetime        date title_language title_clean  \\\n",
       "0  2025-05-12 13:56:20+00:00  2025-05-12        unknown         NaN   \n",
       "1  2025-05-12 13:56:20+00:00  2025-05-12        unknown         NaN   \n",
       "2  2025-05-12 13:56:20+00:00  2025-05-12        unknown         NaN   \n",
       "3  2025-05-12 13:56:29+00:00  2025-05-12        unknown         NaN   \n",
       "4  2025-05-12 13:56:20+00:00  2025-05-12        unknown         NaN   \n",
       "\n",
       "   title_char_count  title_word_count  title_uppercase_count  \\\n",
       "0               0.0               0.0                    0.0   \n",
       "1               0.0               0.0                    0.0   \n",
       "2               0.0               0.0                    0.0   \n",
       "3               0.0               0.0                    0.0   \n",
       "4               0.0               0.0                    0.0   \n",
       "\n",
       "   title_exclamation_count  title_question_count  title_emoji_count  \\\n",
       "0                      0.0                   0.0                0.0   \n",
       "1                      0.0                   0.0                0.0   \n",
       "2                      0.0                   0.0                0.0   \n",
       "3                      0.0                   0.0                0.0   \n",
       "4                      0.0                   0.0                0.0   \n",
       "\n",
       "   title_mention_count  title_hashtag_count  title_avg_word_length  \\\n",
       "0                  0.0                  0.0                    0.0   \n",
       "1                  0.0                  0.0                    0.0   \n",
       "2                  0.0                  0.0                    0.0   \n",
       "3                  0.0                  0.0                    0.0   \n",
       "4                  0.0                  0.0                    0.0   \n",
       "\n",
       "  title_sentiment  title_sentiment_score text_language            text_clean  \\\n",
       "0         neutral                    0.0       unknown                   NaN   \n",
       "1         neutral                    0.0       unknown                   NaN   \n",
       "2         neutral                    0.0       unknown                   NaN   \n",
       "3         neutral                    0.0            en        think bad idea   \n",
       "4         neutral                    0.0            en  welcome thanos world   \n",
       "\n",
       "   text_char_count  text_word_count  text_uppercase_count  \\\n",
       "0              0.0              0.0                   0.0   \n",
       "1              0.0              0.0                   0.0   \n",
       "2              0.0              0.0                   0.0   \n",
       "3             14.0              3.0                   0.0   \n",
       "4             20.0              3.0                   0.0   \n",
       "\n",
       "   text_exclamation_count  text_question_count  text_emoji_count  \\\n",
       "0                     0.0                  0.0               0.0   \n",
       "1                     0.0                  0.0               0.0   \n",
       "2                     0.0                  0.0               0.0   \n",
       "3                     0.0                  0.0               0.0   \n",
       "4                     0.0                  0.0               0.0   \n",
       "\n",
       "   text_mention_count  text_hashtag_count  text_avg_word_length  \\\n",
       "0                 0.0                 0.0                   0.0   \n",
       "1                 0.0                 0.0                   0.0   \n",
       "2                 0.0                 0.0                   0.0   \n",
       "3                 0.0                 0.0                   4.0   \n",
       "4                 0.0                 0.0                   6.0   \n",
       "\n",
       "  text_sentiment  text_sentiment_score  engagement_rate  hour weekday    year  \\\n",
       "0        neutral                   0.0         0.117561  13.0  Monday  2025.0   \n",
       "1        neutral                   0.0         0.273045  13.0  Monday  2025.0   \n",
       "2        neutral                   0.0         0.121036  13.0  Monday  2025.0   \n",
       "3       negative                  -0.7         0.273435  13.0  Monday  2025.0   \n",
       "4       positive                   0.8         0.059165  13.0  Monday  2025.0   \n",
       "\n",
       "   month day_period  is_weekend  \n",
       "0    5.0  afternoon       False  \n",
       "1    5.0  afternoon       False  \n",
       "2    5.0  afternoon       False  \n",
       "3    5.0  afternoon       False  \n",
       "4    5.0  afternoon       False  "
      ]
     },
     "metadata": {},
     "output_type": "display_data"
    },
    {
     "name": "stdout",
     "output_type": "stream",
     "text": [
      "<class 'pandas.core.frame.DataFrame'>\n",
      "RangeIndex: 2205 entries, 0 to 2204\n",
      "Data columns (total 47 columns):\n",
      " #   Column                   Non-Null Count  Dtype  \n",
      "---  ------                   --------------  -----  \n",
      " 0   source                   2205 non-null   object \n",
      " 1   id                       2205 non-null   object \n",
      " 2   title                    778 non-null    object \n",
      " 3   text                     2204 non-null   object \n",
      " 4   username                 1821 non-null   object \n",
      " 5   likes                    2205 non-null   float64\n",
      " 6   comments                 2205 non-null   float64\n",
      " 7   shares                   2205 non-null   float64\n",
      " 8   plays                    2205 non-null   float64\n",
      " 9   timestamp                2205 non-null   object \n",
      " 10  published_at             2188 non-null   object \n",
      " 11  url                      1257 non-null   object \n",
      " 12  datetime                 2205 non-null   object \n",
      " 13  date                     2205 non-null   object \n",
      " 14  title_language           2205 non-null   object \n",
      " 15  title_clean              777 non-null    object \n",
      " 16  title_char_count         2205 non-null   float64\n",
      " 17  title_word_count         2205 non-null   float64\n",
      " 18  title_uppercase_count    2205 non-null   float64\n",
      " 19  title_exclamation_count  2205 non-null   float64\n",
      " 20  title_question_count     2205 non-null   float64\n",
      " 21  title_emoji_count        2205 non-null   float64\n",
      " 22  title_mention_count      2205 non-null   float64\n",
      " 23  title_hashtag_count      2205 non-null   float64\n",
      " 24  title_avg_word_length    2205 non-null   float64\n",
      " 25  title_sentiment          2205 non-null   object \n",
      " 26  title_sentiment_score    2205 non-null   float64\n",
      " 27  text_language            2205 non-null   object \n",
      " 28  text_clean               1924 non-null   object \n",
      " 29  text_char_count          2205 non-null   float64\n",
      " 30  text_word_count          2205 non-null   float64\n",
      " 31  text_uppercase_count     2205 non-null   float64\n",
      " 32  text_exclamation_count   2205 non-null   float64\n",
      " 33  text_question_count      2205 non-null   float64\n",
      " 34  text_emoji_count         2205 non-null   float64\n",
      " 35  text_mention_count       2205 non-null   float64\n",
      " 36  text_hashtag_count       2205 non-null   float64\n",
      " 37  text_avg_word_length     2205 non-null   float64\n",
      " 38  text_sentiment           2205 non-null   object \n",
      " 39  text_sentiment_score     2205 non-null   float64\n",
      " 40  engagement_rate          2205 non-null   float64\n",
      " 41  hour                     2188 non-null   float64\n",
      " 42  weekday                  2188 non-null   object \n",
      " 43  year                     2188 non-null   float64\n",
      " 44  month                    2188 non-null   float64\n",
      " 45  day_period               2188 non-null   object \n",
      " 46  is_weekend               2205 non-null   bool   \n",
      "dtypes: bool(1), float64(28), object(18)\n",
      "memory usage: 794.7+ KB\n"
     ]
    }
   ],
   "source": [
    "BASE_DIR = Path().resolve().parent\n",
    "RAW_DIR = (BASE_DIR / \"./data/processed\").resolve()\n",
    "\n",
    "# Datei laden\n",
    "df = pd.read_csv(RAW_DIR / \"social_media_data.csv\")\n",
    "\n",
    "display(df.head())\n",
    "df.info()"
   ]
  },
  {
   "cell_type": "code",
   "execution_count": 3,
   "id": "67922683",
   "metadata": {},
   "outputs": [
    {
     "name": "stdout",
     "output_type": "stream",
     "text": [
      "    source  num_posts\n",
      "0   tiktok       1427\n",
      "1  youtube        394\n",
      "2   reddit        384\n"
     ]
    }
   ],
   "source": [
    "# Anzahl der Posts pro Plattform\n",
    "post_counts = df[\"source\"].value_counts().reset_index()\n",
    "post_counts.columns = [\"source\", \"num_posts\"]\n",
    "\n",
    "# Anzeige\n",
    "print(post_counts)"
   ]
  },
  {
   "cell_type": "markdown",
   "id": "028bcd2c",
   "metadata": {},
   "source": [
    "# Preparations"
   ]
  },
  {
   "cell_type": "code",
   "execution_count": 4,
   "id": "b481a09b",
   "metadata": {},
   "outputs": [],
   "source": [
    "# Kombinieren von Titel und Text (beide bereinigt)\n",
    "texts = (df[\"title_clean\"].fillna(\"\") + \" \" + df[\"text_clean\"].fillna(\"\")).astype(str)"
   ]
  },
  {
   "cell_type": "markdown",
   "id": "f3d9ab5e",
   "metadata": {},
   "source": [
    "# LDA\n",
    "LDA ist ein probabilistisches generatives Modell, das davon ausgeht, dass jedes Dokument eine Mischung aus mehreren Themen ist und jedes Thema durch eine Verteilung über Wörter beschrieben werden kann. Es eignet sich gut für längere, formellere Texte, bietet jedoch auch bei kurzen Texten erste Einblicke in thematische Strukturen.\n",
    "\n",
    "Warum LDA als erster Ansatz?\n",
    "Einfachheit & Transparenz: LDA ist leicht verständlich und bietet eine gute Grundlage, um Themenmodelle zu interpretieren.\n",
    "\n",
    "Vergleichsbasis: Es dient als Referenzmodell, gegen das modernere Verfahren wie BERTopic verglichen werden können.\n",
    "\n",
    "Schnelle Anwendung: Mit scikit-learn lässt sich LDA effizient auf vorbereiteten TF-IDF-Daten trainieren"
   ]
  },
  {
   "cell_type": "code",
   "execution_count": 5,
   "id": "8eac9ff7",
   "metadata": {},
   "outputs": [
    {
     "data": {
      "text/html": [
       "<style>#sk-container-id-1 {\n",
       "  /* Definition of color scheme common for light and dark mode */\n",
       "  --sklearn-color-text: #000;\n",
       "  --sklearn-color-text-muted: #666;\n",
       "  --sklearn-color-line: gray;\n",
       "  /* Definition of color scheme for unfitted estimators */\n",
       "  --sklearn-color-unfitted-level-0: #fff5e6;\n",
       "  --sklearn-color-unfitted-level-1: #f6e4d2;\n",
       "  --sklearn-color-unfitted-level-2: #ffe0b3;\n",
       "  --sklearn-color-unfitted-level-3: chocolate;\n",
       "  /* Definition of color scheme for fitted estimators */\n",
       "  --sklearn-color-fitted-level-0: #f0f8ff;\n",
       "  --sklearn-color-fitted-level-1: #d4ebff;\n",
       "  --sklearn-color-fitted-level-2: #b3dbfd;\n",
       "  --sklearn-color-fitted-level-3: cornflowerblue;\n",
       "\n",
       "  /* Specific color for light theme */\n",
       "  --sklearn-color-text-on-default-background: var(--sg-text-color, var(--theme-code-foreground, var(--jp-content-font-color1, black)));\n",
       "  --sklearn-color-background: var(--sg-background-color, var(--theme-background, var(--jp-layout-color0, white)));\n",
       "  --sklearn-color-border-box: var(--sg-text-color, var(--theme-code-foreground, var(--jp-content-font-color1, black)));\n",
       "  --sklearn-color-icon: #696969;\n",
       "\n",
       "  @media (prefers-color-scheme: dark) {\n",
       "    /* Redefinition of color scheme for dark theme */\n",
       "    --sklearn-color-text-on-default-background: var(--sg-text-color, var(--theme-code-foreground, var(--jp-content-font-color1, white)));\n",
       "    --sklearn-color-background: var(--sg-background-color, var(--theme-background, var(--jp-layout-color0, #111)));\n",
       "    --sklearn-color-border-box: var(--sg-text-color, var(--theme-code-foreground, var(--jp-content-font-color1, white)));\n",
       "    --sklearn-color-icon: #878787;\n",
       "  }\n",
       "}\n",
       "\n",
       "#sk-container-id-1 {\n",
       "  color: var(--sklearn-color-text);\n",
       "}\n",
       "\n",
       "#sk-container-id-1 pre {\n",
       "  padding: 0;\n",
       "}\n",
       "\n",
       "#sk-container-id-1 input.sk-hidden--visually {\n",
       "  border: 0;\n",
       "  clip: rect(1px 1px 1px 1px);\n",
       "  clip: rect(1px, 1px, 1px, 1px);\n",
       "  height: 1px;\n",
       "  margin: -1px;\n",
       "  overflow: hidden;\n",
       "  padding: 0;\n",
       "  position: absolute;\n",
       "  width: 1px;\n",
       "}\n",
       "\n",
       "#sk-container-id-1 div.sk-dashed-wrapped {\n",
       "  border: 1px dashed var(--sklearn-color-line);\n",
       "  margin: 0 0.4em 0.5em 0.4em;\n",
       "  box-sizing: border-box;\n",
       "  padding-bottom: 0.4em;\n",
       "  background-color: var(--sklearn-color-background);\n",
       "}\n",
       "\n",
       "#sk-container-id-1 div.sk-container {\n",
       "  /* jupyter's `normalize.less` sets `[hidden] { display: none; }`\n",
       "     but bootstrap.min.css set `[hidden] { display: none !important; }`\n",
       "     so we also need the `!important` here to be able to override the\n",
       "     default hidden behavior on the sphinx rendered scikit-learn.org.\n",
       "     See: https://github.com/scikit-learn/scikit-learn/issues/21755 */\n",
       "  display: inline-block !important;\n",
       "  position: relative;\n",
       "}\n",
       "\n",
       "#sk-container-id-1 div.sk-text-repr-fallback {\n",
       "  display: none;\n",
       "}\n",
       "\n",
       "div.sk-parallel-item,\n",
       "div.sk-serial,\n",
       "div.sk-item {\n",
       "  /* draw centered vertical line to link estimators */\n",
       "  background-image: linear-gradient(var(--sklearn-color-text-on-default-background), var(--sklearn-color-text-on-default-background));\n",
       "  background-size: 2px 100%;\n",
       "  background-repeat: no-repeat;\n",
       "  background-position: center center;\n",
       "}\n",
       "\n",
       "/* Parallel-specific style estimator block */\n",
       "\n",
       "#sk-container-id-1 div.sk-parallel-item::after {\n",
       "  content: \"\";\n",
       "  width: 100%;\n",
       "  border-bottom: 2px solid var(--sklearn-color-text-on-default-background);\n",
       "  flex-grow: 1;\n",
       "}\n",
       "\n",
       "#sk-container-id-1 div.sk-parallel {\n",
       "  display: flex;\n",
       "  align-items: stretch;\n",
       "  justify-content: center;\n",
       "  background-color: var(--sklearn-color-background);\n",
       "  position: relative;\n",
       "}\n",
       "\n",
       "#sk-container-id-1 div.sk-parallel-item {\n",
       "  display: flex;\n",
       "  flex-direction: column;\n",
       "}\n",
       "\n",
       "#sk-container-id-1 div.sk-parallel-item:first-child::after {\n",
       "  align-self: flex-end;\n",
       "  width: 50%;\n",
       "}\n",
       "\n",
       "#sk-container-id-1 div.sk-parallel-item:last-child::after {\n",
       "  align-self: flex-start;\n",
       "  width: 50%;\n",
       "}\n",
       "\n",
       "#sk-container-id-1 div.sk-parallel-item:only-child::after {\n",
       "  width: 0;\n",
       "}\n",
       "\n",
       "/* Serial-specific style estimator block */\n",
       "\n",
       "#sk-container-id-1 div.sk-serial {\n",
       "  display: flex;\n",
       "  flex-direction: column;\n",
       "  align-items: center;\n",
       "  background-color: var(--sklearn-color-background);\n",
       "  padding-right: 1em;\n",
       "  padding-left: 1em;\n",
       "}\n",
       "\n",
       "\n",
       "/* Toggleable style: style used for estimator/Pipeline/ColumnTransformer box that is\n",
       "clickable and can be expanded/collapsed.\n",
       "- Pipeline and ColumnTransformer use this feature and define the default style\n",
       "- Estimators will overwrite some part of the style using the `sk-estimator` class\n",
       "*/\n",
       "\n",
       "/* Pipeline and ColumnTransformer style (default) */\n",
       "\n",
       "#sk-container-id-1 div.sk-toggleable {\n",
       "  /* Default theme specific background. It is overwritten whether we have a\n",
       "  specific estimator or a Pipeline/ColumnTransformer */\n",
       "  background-color: var(--sklearn-color-background);\n",
       "}\n",
       "\n",
       "/* Toggleable label */\n",
       "#sk-container-id-1 label.sk-toggleable__label {\n",
       "  cursor: pointer;\n",
       "  display: flex;\n",
       "  width: 100%;\n",
       "  margin-bottom: 0;\n",
       "  padding: 0.5em;\n",
       "  box-sizing: border-box;\n",
       "  text-align: center;\n",
       "  align-items: start;\n",
       "  justify-content: space-between;\n",
       "  gap: 0.5em;\n",
       "}\n",
       "\n",
       "#sk-container-id-1 label.sk-toggleable__label .caption {\n",
       "  font-size: 0.6rem;\n",
       "  font-weight: lighter;\n",
       "  color: var(--sklearn-color-text-muted);\n",
       "}\n",
       "\n",
       "#sk-container-id-1 label.sk-toggleable__label-arrow:before {\n",
       "  /* Arrow on the left of the label */\n",
       "  content: \"▸\";\n",
       "  float: left;\n",
       "  margin-right: 0.25em;\n",
       "  color: var(--sklearn-color-icon);\n",
       "}\n",
       "\n",
       "#sk-container-id-1 label.sk-toggleable__label-arrow:hover:before {\n",
       "  color: var(--sklearn-color-text);\n",
       "}\n",
       "\n",
       "/* Toggleable content - dropdown */\n",
       "\n",
       "#sk-container-id-1 div.sk-toggleable__content {\n",
       "  max-height: 0;\n",
       "  max-width: 0;\n",
       "  overflow: hidden;\n",
       "  text-align: left;\n",
       "  /* unfitted */\n",
       "  background-color: var(--sklearn-color-unfitted-level-0);\n",
       "}\n",
       "\n",
       "#sk-container-id-1 div.sk-toggleable__content.fitted {\n",
       "  /* fitted */\n",
       "  background-color: var(--sklearn-color-fitted-level-0);\n",
       "}\n",
       "\n",
       "#sk-container-id-1 div.sk-toggleable__content pre {\n",
       "  margin: 0.2em;\n",
       "  border-radius: 0.25em;\n",
       "  color: var(--sklearn-color-text);\n",
       "  /* unfitted */\n",
       "  background-color: var(--sklearn-color-unfitted-level-0);\n",
       "}\n",
       "\n",
       "#sk-container-id-1 div.sk-toggleable__content.fitted pre {\n",
       "  /* unfitted */\n",
       "  background-color: var(--sklearn-color-fitted-level-0);\n",
       "}\n",
       "\n",
       "#sk-container-id-1 input.sk-toggleable__control:checked~div.sk-toggleable__content {\n",
       "  /* Expand drop-down */\n",
       "  max-height: 200px;\n",
       "  max-width: 100%;\n",
       "  overflow: auto;\n",
       "}\n",
       "\n",
       "#sk-container-id-1 input.sk-toggleable__control:checked~label.sk-toggleable__label-arrow:before {\n",
       "  content: \"▾\";\n",
       "}\n",
       "\n",
       "/* Pipeline/ColumnTransformer-specific style */\n",
       "\n",
       "#sk-container-id-1 div.sk-label input.sk-toggleable__control:checked~label.sk-toggleable__label {\n",
       "  color: var(--sklearn-color-text);\n",
       "  background-color: var(--sklearn-color-unfitted-level-2);\n",
       "}\n",
       "\n",
       "#sk-container-id-1 div.sk-label.fitted input.sk-toggleable__control:checked~label.sk-toggleable__label {\n",
       "  background-color: var(--sklearn-color-fitted-level-2);\n",
       "}\n",
       "\n",
       "/* Estimator-specific style */\n",
       "\n",
       "/* Colorize estimator box */\n",
       "#sk-container-id-1 div.sk-estimator input.sk-toggleable__control:checked~label.sk-toggleable__label {\n",
       "  /* unfitted */\n",
       "  background-color: var(--sklearn-color-unfitted-level-2);\n",
       "}\n",
       "\n",
       "#sk-container-id-1 div.sk-estimator.fitted input.sk-toggleable__control:checked~label.sk-toggleable__label {\n",
       "  /* fitted */\n",
       "  background-color: var(--sklearn-color-fitted-level-2);\n",
       "}\n",
       "\n",
       "#sk-container-id-1 div.sk-label label.sk-toggleable__label,\n",
       "#sk-container-id-1 div.sk-label label {\n",
       "  /* The background is the default theme color */\n",
       "  color: var(--sklearn-color-text-on-default-background);\n",
       "}\n",
       "\n",
       "/* On hover, darken the color of the background */\n",
       "#sk-container-id-1 div.sk-label:hover label.sk-toggleable__label {\n",
       "  color: var(--sklearn-color-text);\n",
       "  background-color: var(--sklearn-color-unfitted-level-2);\n",
       "}\n",
       "\n",
       "/* Label box, darken color on hover, fitted */\n",
       "#sk-container-id-1 div.sk-label.fitted:hover label.sk-toggleable__label.fitted {\n",
       "  color: var(--sklearn-color-text);\n",
       "  background-color: var(--sklearn-color-fitted-level-2);\n",
       "}\n",
       "\n",
       "/* Estimator label */\n",
       "\n",
       "#sk-container-id-1 div.sk-label label {\n",
       "  font-family: monospace;\n",
       "  font-weight: bold;\n",
       "  display: inline-block;\n",
       "  line-height: 1.2em;\n",
       "}\n",
       "\n",
       "#sk-container-id-1 div.sk-label-container {\n",
       "  text-align: center;\n",
       "}\n",
       "\n",
       "/* Estimator-specific */\n",
       "#sk-container-id-1 div.sk-estimator {\n",
       "  font-family: monospace;\n",
       "  border: 1px dotted var(--sklearn-color-border-box);\n",
       "  border-radius: 0.25em;\n",
       "  box-sizing: border-box;\n",
       "  margin-bottom: 0.5em;\n",
       "  /* unfitted */\n",
       "  background-color: var(--sklearn-color-unfitted-level-0);\n",
       "}\n",
       "\n",
       "#sk-container-id-1 div.sk-estimator.fitted {\n",
       "  /* fitted */\n",
       "  background-color: var(--sklearn-color-fitted-level-0);\n",
       "}\n",
       "\n",
       "/* on hover */\n",
       "#sk-container-id-1 div.sk-estimator:hover {\n",
       "  /* unfitted */\n",
       "  background-color: var(--sklearn-color-unfitted-level-2);\n",
       "}\n",
       "\n",
       "#sk-container-id-1 div.sk-estimator.fitted:hover {\n",
       "  /* fitted */\n",
       "  background-color: var(--sklearn-color-fitted-level-2);\n",
       "}\n",
       "\n",
       "/* Specification for estimator info (e.g. \"i\" and \"?\") */\n",
       "\n",
       "/* Common style for \"i\" and \"?\" */\n",
       "\n",
       ".sk-estimator-doc-link,\n",
       "a:link.sk-estimator-doc-link,\n",
       "a:visited.sk-estimator-doc-link {\n",
       "  float: right;\n",
       "  font-size: smaller;\n",
       "  line-height: 1em;\n",
       "  font-family: monospace;\n",
       "  background-color: var(--sklearn-color-background);\n",
       "  border-radius: 1em;\n",
       "  height: 1em;\n",
       "  width: 1em;\n",
       "  text-decoration: none !important;\n",
       "  margin-left: 0.5em;\n",
       "  text-align: center;\n",
       "  /* unfitted */\n",
       "  border: var(--sklearn-color-unfitted-level-1) 1pt solid;\n",
       "  color: var(--sklearn-color-unfitted-level-1);\n",
       "}\n",
       "\n",
       ".sk-estimator-doc-link.fitted,\n",
       "a:link.sk-estimator-doc-link.fitted,\n",
       "a:visited.sk-estimator-doc-link.fitted {\n",
       "  /* fitted */\n",
       "  border: var(--sklearn-color-fitted-level-1) 1pt solid;\n",
       "  color: var(--sklearn-color-fitted-level-1);\n",
       "}\n",
       "\n",
       "/* On hover */\n",
       "div.sk-estimator:hover .sk-estimator-doc-link:hover,\n",
       ".sk-estimator-doc-link:hover,\n",
       "div.sk-label-container:hover .sk-estimator-doc-link:hover,\n",
       ".sk-estimator-doc-link:hover {\n",
       "  /* unfitted */\n",
       "  background-color: var(--sklearn-color-unfitted-level-3);\n",
       "  color: var(--sklearn-color-background);\n",
       "  text-decoration: none;\n",
       "}\n",
       "\n",
       "div.sk-estimator.fitted:hover .sk-estimator-doc-link.fitted:hover,\n",
       ".sk-estimator-doc-link.fitted:hover,\n",
       "div.sk-label-container:hover .sk-estimator-doc-link.fitted:hover,\n",
       ".sk-estimator-doc-link.fitted:hover {\n",
       "  /* fitted */\n",
       "  background-color: var(--sklearn-color-fitted-level-3);\n",
       "  color: var(--sklearn-color-background);\n",
       "  text-decoration: none;\n",
       "}\n",
       "\n",
       "/* Span, style for the box shown on hovering the info icon */\n",
       ".sk-estimator-doc-link span {\n",
       "  display: none;\n",
       "  z-index: 9999;\n",
       "  position: relative;\n",
       "  font-weight: normal;\n",
       "  right: .2ex;\n",
       "  padding: .5ex;\n",
       "  margin: .5ex;\n",
       "  width: min-content;\n",
       "  min-width: 20ex;\n",
       "  max-width: 50ex;\n",
       "  color: var(--sklearn-color-text);\n",
       "  box-shadow: 2pt 2pt 4pt #999;\n",
       "  /* unfitted */\n",
       "  background: var(--sklearn-color-unfitted-level-0);\n",
       "  border: .5pt solid var(--sklearn-color-unfitted-level-3);\n",
       "}\n",
       "\n",
       ".sk-estimator-doc-link.fitted span {\n",
       "  /* fitted */\n",
       "  background: var(--sklearn-color-fitted-level-0);\n",
       "  border: var(--sklearn-color-fitted-level-3);\n",
       "}\n",
       "\n",
       ".sk-estimator-doc-link:hover span {\n",
       "  display: block;\n",
       "}\n",
       "\n",
       "/* \"?\"-specific style due to the `<a>` HTML tag */\n",
       "\n",
       "#sk-container-id-1 a.estimator_doc_link {\n",
       "  float: right;\n",
       "  font-size: 1rem;\n",
       "  line-height: 1em;\n",
       "  font-family: monospace;\n",
       "  background-color: var(--sklearn-color-background);\n",
       "  border-radius: 1rem;\n",
       "  height: 1rem;\n",
       "  width: 1rem;\n",
       "  text-decoration: none;\n",
       "  /* unfitted */\n",
       "  color: var(--sklearn-color-unfitted-level-1);\n",
       "  border: var(--sklearn-color-unfitted-level-1) 1pt solid;\n",
       "}\n",
       "\n",
       "#sk-container-id-1 a.estimator_doc_link.fitted {\n",
       "  /* fitted */\n",
       "  border: var(--sklearn-color-fitted-level-1) 1pt solid;\n",
       "  color: var(--sklearn-color-fitted-level-1);\n",
       "}\n",
       "\n",
       "/* On hover */\n",
       "#sk-container-id-1 a.estimator_doc_link:hover {\n",
       "  /* unfitted */\n",
       "  background-color: var(--sklearn-color-unfitted-level-3);\n",
       "  color: var(--sklearn-color-background);\n",
       "  text-decoration: none;\n",
       "}\n",
       "\n",
       "#sk-container-id-1 a.estimator_doc_link.fitted:hover {\n",
       "  /* fitted */\n",
       "  background-color: var(--sklearn-color-fitted-level-3);\n",
       "}\n",
       "</style><div id=\"sk-container-id-1\" class=\"sk-top-container\"><div class=\"sk-text-repr-fallback\"><pre>LatentDirichletAllocation(learning_method=&#x27;online&#x27;, max_iter=3, n_components=9,\n",
       "                          random_state=42)</pre><b>In a Jupyter environment, please rerun this cell to show the HTML representation or trust the notebook. <br />On GitHub, the HTML representation is unable to render, please try loading this page with nbviewer.org.</b></div><div class=\"sk-container\" hidden><div class=\"sk-item\"><div class=\"sk-estimator fitted sk-toggleable\"><input class=\"sk-toggleable__control sk-hidden--visually\" id=\"sk-estimator-id-1\" type=\"checkbox\" checked><label for=\"sk-estimator-id-1\" class=\"sk-toggleable__label fitted sk-toggleable__label-arrow\"><div><div>LatentDirichletAllocation</div></div><div><a class=\"sk-estimator-doc-link fitted\" rel=\"noreferrer\" target=\"_blank\" href=\"https://scikit-learn.org/1.6/modules/generated/sklearn.decomposition.LatentDirichletAllocation.html\">?<span>Documentation for LatentDirichletAllocation</span></a><span class=\"sk-estimator-doc-link fitted\">i<span>Fitted</span></span></div></label><div class=\"sk-toggleable__content fitted\"><pre>LatentDirichletAllocation(learning_method=&#x27;online&#x27;, max_iter=3, n_components=9,\n",
       "                          random_state=42)</pre></div> </div></div></div></div>"
      ],
      "text/plain": [
       "LatentDirichletAllocation(learning_method='online', max_iter=3, n_components=9,\n",
       "                          random_state=42)"
      ]
     },
     "execution_count": 5,
     "metadata": {},
     "output_type": "execute_result"
    }
   ],
   "source": [
    "from sklearn.feature_extraction.text import CountVectorizer\n",
    "from sklearn.decomposition import LatentDirichletAllocation\n",
    "\n",
    "# CountVectorizer ohne Stopwords (da vorher entfernt)\n",
    "vectorizer = CountVectorizer(\n",
    "    max_df=0.95,\n",
    "    min_df=2\n",
    ")\n",
    "\n",
    "# Textmatrix erzeugen\n",
    "X = vectorizer.fit_transform(texts)  # texts = bereits bereinigte Texte\n",
    "\n",
    "# LDA-Modell definieren\n",
    "lda_model = LatentDirichletAllocation(\n",
    "    n_components=9,         # Anzahl der Themen\n",
    "    max_iter=3,\n",
    "    learning_method='online',\n",
    "    random_state=42\n",
    ")\n",
    "\n",
    "# LDA-Modell trainieren\n",
    "lda_model.fit(X)\n"
   ]
  },
  {
   "cell_type": "code",
   "execution_count": 6,
   "id": "2abb2199",
   "metadata": {},
   "outputs": [
    {
     "name": "stdout",
     "output_type": "stream",
     "text": [
      "🟢 Thema 1:\n",
      "video youtube instagram de kanal geht werbung ze gibt al\n",
      "\n",
      "🟢 Thema 2:\n",
      "league love dazn baby vs highlights uefa fans assistant champions\n",
      "\n",
      "🟢 Thema 3:\n",
      "people said really mom always pf pts telling dad team\n",
      "\n",
      "🟢 Thema 4:\n",
      "instagram tiktok mehr real link folge facebook fan dabei live\n",
      "\n",
      "🟢 Thema 5:\n",
      "nie music even na best edit jest fox bo ale\n",
      "\n",
      "🟢 Thema 6:\n",
      "would know never make asked year felt think take live\n",
      "\n",
      "🟢 Thema 7:\n",
      "game follow kids nba media top team corp knicks prime\n",
      "\n",
      "🟢 Thema 8:\n",
      "like said time want one get even could us day\n",
      "\n",
      "🟢 Thema 9:\n",
      "go new news ice tiktok song walk future by best\n",
      "\n"
     ]
    }
   ],
   "source": [
    "# Funktion zum Anzeigen der Themen mit Top-Wörtern\n",
    "def display_topics(model, feature_names, no_top_words):\n",
    "    for topic_idx, topic in enumerate(model.components_):\n",
    "        print(f\"🟢 Thema {topic_idx + 1}:\")\n",
    "        print(\" \".join([feature_names[i] for i in topic.argsort()[:-no_top_words - 1:-1]]))\n",
    "        print()\n",
    "\n",
    "display_topics(lda_model, vectorizer.get_feature_names_out(), 10)\n"
   ]
  },
  {
   "cell_type": "markdown",
   "id": "bedcaec9",
   "metadata": {},
   "source": [
    "## 1. Fortgeschrittenes Topic Modelling mit BERTopic\n",
    "\n",
    "Das klassische LDA-Verfahren ist oft ungeeignet für kurze, informelle Texte. BERTopic nutzt Embeddings + Clustering + TF-IDF, um deutlich robustere und interpretierbare Themen zu erzeugen. Zudem unterstützt BERTopic die Analyse von Themen im Zeitverlauf."
   ]
  },
  {
   "cell_type": "code",
   "execution_count": 7,
   "id": "f835077f",
   "metadata": {},
   "outputs": [
    {
     "name": "stderr",
     "output_type": "stream",
     "text": [
      "c:\\Users\\SofiePischl\\Documents\\01_HdM\\10_ML_OPS\\TrendAnalyseSocialMedia\\venv\\lib\\site-packages\\tqdm\\auto.py:21: TqdmWarning: IProgress not found. Please update jupyter and ipywidgets. See https://ipywidgets.readthedocs.io/en/stable/user_install.html\n",
      "  from .autonotebook import tqdm as notebook_tqdm\n"
     ]
    },
    {
     "data": {
      "text/html": [
       "<div>\n",
       "<style scoped>\n",
       "    .dataframe tbody tr th:only-of-type {\n",
       "        vertical-align: middle;\n",
       "    }\n",
       "\n",
       "    .dataframe tbody tr th {\n",
       "        vertical-align: top;\n",
       "    }\n",
       "\n",
       "    .dataframe thead th {\n",
       "        text-align: right;\n",
       "    }\n",
       "</style>\n",
       "<table border=\"1\" class=\"dataframe\">\n",
       "  <thead>\n",
       "    <tr style=\"text-align: right;\">\n",
       "      <th></th>\n",
       "      <th>Topic</th>\n",
       "      <th>Count</th>\n",
       "      <th>Name</th>\n",
       "      <th>Representation</th>\n",
       "      <th>Representative_Docs</th>\n",
       "    </tr>\n",
       "  </thead>\n",
       "  <tbody>\n",
       "    <tr>\n",
       "      <th>0</th>\n",
       "      <td>-1</td>\n",
       "      <td>667</td>\n",
       "      <td>-1_instagram_music_youtube_news</td>\n",
       "      <td>[instagram, music, youtube, news, love, like, ...</td>\n",
       "      <td>[since flooded thousands posts articles traile...</td>\n",
       "    </tr>\n",
       "    <tr>\n",
       "      <th>1</th>\n",
       "      <td>0</td>\n",
       "      <td>314</td>\n",
       "      <td>0_said_like_told_would</td>\n",
       "      <td>[said, like, told, would, time, even, people, ...</td>\n",
       "      <td>[background f fiancé together years baby back ...</td>\n",
       "    </tr>\n",
       "    <tr>\n",
       "      <th>2</th>\n",
       "      <td>1</td>\n",
       "      <td>194</td>\n",
       "      <td>1_instagram_video_tiktok_kanal</td>\n",
       "      <td>[instagram, video, tiktok, kanal, youtube, wer...</td>\n",
       "      <td>[deutsche memes folge quellen folgt insta dank...</td>\n",
       "    </tr>\n",
       "    <tr>\n",
       "      <th>3</th>\n",
       "      <td>2</td>\n",
       "      <td>59</td>\n",
       "      <td>2_mga_daw_naman_sa</td>\n",
       "      <td>[mga, daw, naman, sa, na, bailalo, nakaka, nam...</td>\n",
       "      <td>[vệ sinh tai viêm khó đó nha, terlalu pagi muk...</td>\n",
       "    </tr>\n",
       "    <tr>\n",
       "      <th>4</th>\n",
       "      <td>3</td>\n",
       "      <td>55</td>\n",
       "      <td>3_than_einfach_ist_naja</td>\n",
       "      <td>[than, einfach, ist, naja, stronger, immer, po...</td>\n",
       "      <td>[gilts mindestens zwei freunde mitnehmen wahll...</td>\n",
       "    </tr>\n",
       "    <tr>\n",
       "      <th>5</th>\n",
       "      <td>4</td>\n",
       "      <td>51</td>\n",
       "      <td>4_wait_omg_end_ok</td>\n",
       "      <td>[wait, omg, end, ok, aimed, hmmm, finallyyyy, ...</td>\n",
       "      <td>[wait, wait till end, wait end]</td>\n",
       "    </tr>\n",
       "    <tr>\n",
       "      <th>6</th>\n",
       "      <td>5</td>\n",
       "      <td>49</td>\n",
       "      <td>5_ronaldo_shape_football_grwm</td>\n",
       "      <td>[ronaldo, shape, football, grwm, messi, tuff, ...</td>\n",
       "      <td>[prime ronaldo, redick notes players phenomena...</td>\n",
       "    </tr>\n",
       "    <tr>\n",
       "      <th>7</th>\n",
       "      <td>6</td>\n",
       "      <td>49</td>\n",
       "      <td>6_que_de_em_não</td>\n",
       "      <td>[que, de, em, não, os, para, ou, uma, todos, q...</td>\n",
       "      <td>[que encontro maravilhoso provando que os quad...</td>\n",
       "    </tr>\n",
       "    <tr>\n",
       "      <th>8</th>\n",
       "      <td>7</td>\n",
       "      <td>46</td>\n",
       "      <td>7_pf_pts_nbsp_ast</td>\n",
       "      <td>[pf, pts, nbsp, ast, blk, stl, min, reb, team,...</td>\n",
       "      <td>[gsw min box scores nba yahoo nbsp game summar...</td>\n",
       "    </tr>\n",
       "    <tr>\n",
       "      <th>9</th>\n",
       "      <td>8</td>\n",
       "      <td>44</td>\n",
       "      <td>8_league_dazn_highlights_sport</td>\n",
       "      <td>[league, dazn, highlights, sport, uefa, sky, c...</td>\n",
       "      <td>[königlichen gast beim tabellenzwöflten getafe...</td>\n",
       "    </tr>\n",
       "    <tr>\n",
       "      <th>10</th>\n",
       "      <td>9</td>\n",
       "      <td>43</td>\n",
       "      <td>9_في_على_من_اللي</td>\n",
       "      <td>[في, على, من, اللي, انا, لا, الدنيا, official,...</td>\n",
       "      <td>[بسبب التزاحم الشديد في الطوابير أطفال يبكون و...</td>\n",
       "    </tr>\n",
       "    <tr>\n",
       "      <th>11</th>\n",
       "      <td>10</td>\n",
       "      <td>43</td>\n",
       "      <td>10_część_tecnologia_tête_typpa</td>\n",
       "      <td>[część, tecnologia, tête, typpa, tg, tek, zsá,...</td>\n",
       "      <td>[część, część, część]</td>\n",
       "    </tr>\n",
       "    <tr>\n",
       "      <th>12</th>\n",
       "      <td>11</td>\n",
       "      <td>33</td>\n",
       "      <td>11_battle_new_wwe_play</td>\n",
       "      <td>[battle, new, wwe, play, support, players, gam...</td>\n",
       "      <td>[new star wars themed season arrives soon drop...</td>\n",
       "    </tr>\n",
       "    <tr>\n",
       "      <th>13</th>\n",
       "      <td>12</td>\n",
       "      <td>27</td>\n",
       "      <td>12_ik_de_ze_zijn</td>\n",
       "      <td>[ik, de, ze, zijn, het, en, van, dat, als, nie]</td>\n",
       "      <td>[dino merlin x bh telecom x samsung predstavlj...</td>\n",
       "    </tr>\n",
       "    <tr>\n",
       "      <th>14</th>\n",
       "      <td>13</td>\n",
       "      <td>22</td>\n",
       "      <td>13_hair_makeup_mascara_blush</td>\n",
       "      <td>[hair, makeup, mascara, blush, wash, face, ple...</td>\n",
       "      <td>[ai hair salon hair styles part ii picture exa...</td>\n",
       "    </tr>\n",
       "    <tr>\n",
       "      <th>15</th>\n",
       "      <td>14</td>\n",
       "      <td>20</td>\n",
       "      <td>14_nurburgring_turbo_bmw_mercedes</td>\n",
       "      <td>[nurburgring, turbo, bmw, mercedes, bi, amg, g...</td>\n",
       "      <td>[geil diggi glänzt auto neu produkte nutzen al...</td>\n",
       "    </tr>\n",
       "    <tr>\n",
       "      <th>16</th>\n",
       "      <td>15</td>\n",
       "      <td>19</td>\n",
       "      <td>15_cat_kitten_cats_diaper</td>\n",
       "      <td>[cat, kitten, cats, diaper, puppy, belly, danc...</td>\n",
       "      <td>[taught cat walk, cat fall, cat brainrot]</td>\n",
       "    </tr>\n",
       "    <tr>\n",
       "      <th>17</th>\n",
       "      <td>16</td>\n",
       "      <td>18</td>\n",
       "      <td>16_viral_duolingo_tiktok_rumble</td>\n",
       "      <td>[viral, duolingo, tiktok, rumble, tiktoks, pho...</td>\n",
       "      <td>[go viral tiktok million, go viral, seeing lot...</td>\n",
       "    </tr>\n",
       "    <tr>\n",
       "      <th>18</th>\n",
       "      <td>17</td>\n",
       "      <td>17</td>\n",
       "      <td>17_production_azizam_director_assistant</td>\n",
       "      <td>[production, azizam, director, assistant, na, ...</td>\n",
       "      <td>[official video lose miley cyrus listen downlo...</td>\n",
       "    </tr>\n",
       "    <tr>\n",
       "      <th>19</th>\n",
       "      <td>18</td>\n",
       "      <td>17</td>\n",
       "      <td>18_description_title_incroyable_belong</td>\n",
       "      <td>[description, title, incroyable, belong, relat...</td>\n",
       "      <td>[title, description, description]</td>\n",
       "    </tr>\n",
       "    <tr>\n",
       "      <th>20</th>\n",
       "      <td>19</td>\n",
       "      <td>16</td>\n",
       "      <td>19_brainrot_tragic_italian_song</td>\n",
       "      <td>[brainrot, tragic, italian, song, speedrun, mo...</td>\n",
       "      <td>[tralalero tralala x wakawaka brainrot movie t...</td>\n",
       "    </tr>\n",
       "    <tr>\n",
       "      <th>21</th>\n",
       "      <td>20</td>\n",
       "      <td>15</td>\n",
       "      <td>20_summer_backpack_months_évolution</td>\n",
       "      <td>[summer, backpack, months, évolution, heaven, ...</td>\n",
       "      <td>[always summer, summer volleyball, returned na...</td>\n",
       "    </tr>\n",
       "    <tr>\n",
       "      <th>22</th>\n",
       "      <td>21</td>\n",
       "      <td>14</td>\n",
       "      <td>21_different_bars_et_chocolate</td>\n",
       "      <td>[different, bars, et, chocolate, al, zucker, p...</td>\n",
       "      <td>[brioche comme boulangerie ingrédients ml lait...</td>\n",
       "    </tr>\n",
       "    <tr>\n",
       "      <th>23</th>\n",
       "      <td>22</td>\n",
       "      <td>13</td>\n",
       "      <td>22_bio_asmr_triggers_beads</td>\n",
       "      <td>[bio, asmr, triggers, beads, relaxation, save,...</td>\n",
       "      <td>[asmr full fridge restock satisfying sounds ae...</td>\n",
       "    </tr>\n",
       "    <tr>\n",
       "      <th>24</th>\n",
       "      <td>23</td>\n",
       "      <td>12</td>\n",
       "      <td>23_на_тунг_кисело_мляко</td>\n",
       "      <td>[на, тунг, кисело, мляко, меня, чаша, ток, про...</td>\n",
       "      <td>[май лидл пони алдинозавър и била камила lidl ...</td>\n",
       "    </tr>\n",
       "    <tr>\n",
       "      <th>25</th>\n",
       "      <td>24</td>\n",
       "      <td>12</td>\n",
       "      <td>24_prank_fart_anatoly_spray</td>\n",
       "      <td>[prank, fart, anatoly, spray, replying, pranks...</td>\n",
       "      <td>[anatoly mop prank kg, clean anatoly prank, fa...</td>\n",
       "    </tr>\n",
       "    <tr>\n",
       "      <th>26</th>\n",
       "      <td>25</td>\n",
       "      <td>12</td>\n",
       "      <td>25_oblivion_scrolls_elder_game</td>\n",
       "      <td>[oblivion, scrolls, elder, game, remastered, i...</td>\n",
       "      <td>[welcome elder scrolls oblivion remaster annou...</td>\n",
       "    </tr>\n",
       "    <tr>\n",
       "      <th>27</th>\n",
       "      <td>26</td>\n",
       "      <td>11</td>\n",
       "      <td>26_これめっちゃ頭痛くなる_公開_全国劇場にて_またすぐにお会いしましょう</td>\n",
       "      <td>[これめっちゃ頭痛くなる, 公開, 全国劇場にて, またすぐにお会いしましょう, 劇場版, ...</td>\n",
       "      <td>[途中カラス来てびっくりした笑 左 これめっちゃ頭痛くなる, 台湾加油 罢免国民党, 公式t...</td>\n",
       "    </tr>\n",
       "    <tr>\n",
       "      <th>28</th>\n",
       "      <td>27</td>\n",
       "      <td>11</td>\n",
       "      <td>27_tung_sahur_nela_ballerina</td>\n",
       "      <td>[tung, sahur, nela, ballerina, brainrot, overs...</td>\n",
       "      <td>[tung tung tung tung sahur nela, tung tung tun...</td>\n",
       "    </tr>\n",
       "    <tr>\n",
       "      <th>29</th>\n",
       "      <td>28</td>\n",
       "      <td>11</td>\n",
       "      <td>28_template_new_capcut_edits</td>\n",
       "      <td>[template, new, capcut, edits, backup, try, mo...</td>\n",
       "      <td>[new template, new template, new capcut templa...</td>\n",
       "    </tr>\n",
       "    <tr>\n",
       "      <th>30</th>\n",
       "      <td>29</td>\n",
       "      <td>10</td>\n",
       "      <td>29_mona_motion_song_lisa</td>\n",
       "      <td>[mona, motion, song, lisa, plattforms, dance, ...</td>\n",
       "      <td>[third song mona lisa motion everywhere thursd...</td>\n",
       "    </tr>\n",
       "  </tbody>\n",
       "</table>\n",
       "</div>"
      ],
      "text/plain": [
       "    Topic  Count                                     Name  \\\n",
       "0      -1    667          -1_instagram_music_youtube_news   \n",
       "1       0    314                   0_said_like_told_would   \n",
       "2       1    194           1_instagram_video_tiktok_kanal   \n",
       "3       2     59                       2_mga_daw_naman_sa   \n",
       "4       3     55                  3_than_einfach_ist_naja   \n",
       "5       4     51                        4_wait_omg_end_ok   \n",
       "6       5     49            5_ronaldo_shape_football_grwm   \n",
       "7       6     49                          6_que_de_em_não   \n",
       "8       7     46                        7_pf_pts_nbsp_ast   \n",
       "9       8     44           8_league_dazn_highlights_sport   \n",
       "10      9     43                         9_في_على_من_اللي   \n",
       "11     10     43           10_część_tecnologia_tête_typpa   \n",
       "12     11     33                   11_battle_new_wwe_play   \n",
       "13     12     27                         12_ik_de_ze_zijn   \n",
       "14     13     22             13_hair_makeup_mascara_blush   \n",
       "15     14     20        14_nurburgring_turbo_bmw_mercedes   \n",
       "16     15     19                15_cat_kitten_cats_diaper   \n",
       "17     16     18          16_viral_duolingo_tiktok_rumble   \n",
       "18     17     17  17_production_azizam_director_assistant   \n",
       "19     18     17   18_description_title_incroyable_belong   \n",
       "20     19     16          19_brainrot_tragic_italian_song   \n",
       "21     20     15      20_summer_backpack_months_évolution   \n",
       "22     21     14           21_different_bars_et_chocolate   \n",
       "23     22     13               22_bio_asmr_triggers_beads   \n",
       "24     23     12                  23_на_тунг_кисело_мляко   \n",
       "25     24     12              24_prank_fart_anatoly_spray   \n",
       "26     25     12           25_oblivion_scrolls_elder_game   \n",
       "27     26     11   26_これめっちゃ頭痛くなる_公開_全国劇場にて_またすぐにお会いしましょう   \n",
       "28     27     11             27_tung_sahur_nela_ballerina   \n",
       "29     28     11             28_template_new_capcut_edits   \n",
       "30     29     10                 29_mona_motion_song_lisa   \n",
       "\n",
       "                                       Representation  \\\n",
       "0   [instagram, music, youtube, news, love, like, ...   \n",
       "1   [said, like, told, would, time, even, people, ...   \n",
       "2   [instagram, video, tiktok, kanal, youtube, wer...   \n",
       "3   [mga, daw, naman, sa, na, bailalo, nakaka, nam...   \n",
       "4   [than, einfach, ist, naja, stronger, immer, po...   \n",
       "5   [wait, omg, end, ok, aimed, hmmm, finallyyyy, ...   \n",
       "6   [ronaldo, shape, football, grwm, messi, tuff, ...   \n",
       "7   [que, de, em, não, os, para, ou, uma, todos, q...   \n",
       "8   [pf, pts, nbsp, ast, blk, stl, min, reb, team,...   \n",
       "9   [league, dazn, highlights, sport, uefa, sky, c...   \n",
       "10  [في, على, من, اللي, انا, لا, الدنيا, official,...   \n",
       "11  [część, tecnologia, tête, typpa, tg, tek, zsá,...   \n",
       "12  [battle, new, wwe, play, support, players, gam...   \n",
       "13    [ik, de, ze, zijn, het, en, van, dat, als, nie]   \n",
       "14  [hair, makeup, mascara, blush, wash, face, ple...   \n",
       "15  [nurburgring, turbo, bmw, mercedes, bi, amg, g...   \n",
       "16  [cat, kitten, cats, diaper, puppy, belly, danc...   \n",
       "17  [viral, duolingo, tiktok, rumble, tiktoks, pho...   \n",
       "18  [production, azizam, director, assistant, na, ...   \n",
       "19  [description, title, incroyable, belong, relat...   \n",
       "20  [brainrot, tragic, italian, song, speedrun, mo...   \n",
       "21  [summer, backpack, months, évolution, heaven, ...   \n",
       "22  [different, bars, et, chocolate, al, zucker, p...   \n",
       "23  [bio, asmr, triggers, beads, relaxation, save,...   \n",
       "24  [на, тунг, кисело, мляко, меня, чаша, ток, про...   \n",
       "25  [prank, fart, anatoly, spray, replying, pranks...   \n",
       "26  [oblivion, scrolls, elder, game, remastered, i...   \n",
       "27  [これめっちゃ頭痛くなる, 公開, 全国劇場にて, またすぐにお会いしましょう, 劇場版, ...   \n",
       "28  [tung, sahur, nela, ballerina, brainrot, overs...   \n",
       "29  [template, new, capcut, edits, backup, try, mo...   \n",
       "30  [mona, motion, song, lisa, plattforms, dance, ...   \n",
       "\n",
       "                                  Representative_Docs  \n",
       "0   [since flooded thousands posts articles traile...  \n",
       "1   [background f fiancé together years baby back ...  \n",
       "2   [deutsche memes folge quellen folgt insta dank...  \n",
       "3   [vệ sinh tai viêm khó đó nha, terlalu pagi muk...  \n",
       "4   [gilts mindestens zwei freunde mitnehmen wahll...  \n",
       "5                     [wait, wait till end, wait end]  \n",
       "6   [prime ronaldo, redick notes players phenomena...  \n",
       "7   [que encontro maravilhoso provando que os quad...  \n",
       "8   [gsw min box scores nba yahoo nbsp game summar...  \n",
       "9   [königlichen gast beim tabellenzwöflten getafe...  \n",
       "10  [بسبب التزاحم الشديد في الطوابير أطفال يبكون و...  \n",
       "11                              [część, część, część]  \n",
       "12  [new star wars themed season arrives soon drop...  \n",
       "13  [dino merlin x bh telecom x samsung predstavlj...  \n",
       "14  [ai hair salon hair styles part ii picture exa...  \n",
       "15  [geil diggi glänzt auto neu produkte nutzen al...  \n",
       "16          [taught cat walk, cat fall, cat brainrot]  \n",
       "17  [go viral tiktok million, go viral, seeing lot...  \n",
       "18  [official video lose miley cyrus listen downlo...  \n",
       "19                  [title, description, description]  \n",
       "20  [tralalero tralala x wakawaka brainrot movie t...  \n",
       "21  [always summer, summer volleyball, returned na...  \n",
       "22  [brioche comme boulangerie ingrédients ml lait...  \n",
       "23  [asmr full fridge restock satisfying sounds ae...  \n",
       "24  [май лидл пони алдинозавър и била камила lidl ...  \n",
       "25  [anatoly mop prank kg, clean anatoly prank, fa...  \n",
       "26  [welcome elder scrolls oblivion remaster annou...  \n",
       "27  [途中カラス来てびっくりした笑 左 これめっちゃ頭痛くなる, 台湾加油 罢免国民党, 公式t...  \n",
       "28  [tung tung tung tung sahur nela, tung tung tun...  \n",
       "29  [new template, new template, new capcut templa...  \n",
       "30  [third song mona lisa motion everywhere thursd...  "
      ]
     },
     "execution_count": 7,
     "metadata": {},
     "output_type": "execute_result"
    }
   ],
   "source": [
    "# Installation (nur beim ersten Mal notwendig)\n",
    "# !pip install bertopic[visualization] sentence-transformers\n",
    "\n",
    "from bertopic import BERTopic\n",
    "from sklearn.feature_extraction.text import CountVectorizer\n",
    "from sentence_transformers import SentenceTransformer\n",
    "\n",
    "# Für deutschsprachige Texte kann ein mehrsprachiges Modell hilfreich sein\n",
    "embedding_model = SentenceTransformer('all-MiniLM-L6-v2')  # oder 'paraphrase-multilingual-MiniLM-L12-v2'\n",
    "\n",
    "# Daten vorbereiten\n",
    "texts = df['text_clean'].dropna().tolist()\n",
    "\n",
    "# BERTopic initialisieren und trainieren\n",
    "topic_model = BERTopic(embedding_model=embedding_model, language='multilingual')\n",
    "topics, probs = topic_model.fit_transform(texts)\n",
    "\n",
    "df_clean = df.loc[df['text_clean'].notna()].copy()\n",
    "df_clean['topic'] = topics\n",
    "\n",
    "topic_model.get_topic_info()"
   ]
  },
  {
   "cell_type": "markdown",
   "id": "5425d1d6",
   "metadata": {},
   "source": [
    "## 2. Verbesserte Sentiment-Analyse\n",
    "\n",
    "Die bisher genutzte Methode (`TextBlob`) ist eher für formellere englische Texte geeignet. Hier ergänzen wir zwei modernere Verfahren:\n",
    "\n",
    "- **VADER**: speziell für Social Media-Texte (auch kurze Aussagen) konzipiert.\n",
    "- **Transformer-Modell**: z. B. RoBERTa-basiert, feingetunt für Sentiment-Klassifikation auf Twitter-Daten."
   ]
  },
  {
   "cell_type": "code",
   "execution_count": 8,
   "id": "10399aae",
   "metadata": {},
   "outputs": [
    {
     "name": "stderr",
     "output_type": "stream",
     "text": [
      "Xet Storage is enabled for this repo, but the 'hf_xet' package is not installed. Falling back to regular HTTP download. For better performance, install the package with: `pip install huggingface_hub[hf_xet]` or `pip install hf_xet`\n",
      "Device set to use cpu\n",
      "Asking to truncate to max_length but no maximum length is provided and the model has no predefined maximum length. Default to no truncation.\n"
     ]
    },
    {
     "name": "stdout",
     "output_type": "stream",
     "text": [
      "Fehler bei Text: 𝗙𝗢𝗟𝗘 𝗣𝗨𝗕𝗟𝗜𝗦𝗛𝗜𝗡𝗚 ____________________________ 𝗫𝗵𝗲𝗻𝘀𝗶𝗹𝗮 𝘅 𝗟𝗲𝗱𝗿𝗶 𝗩𝘂𝗹𝗮 𝗠𝗮 𝗞𝘁𝗵𝗲 𝗢𝗳𝗳𝗶𝗰𝗶𝗮𝗹 𝗩𝗶𝗱𝗲𝗼 __________... -> The expanded size of the tensor (582) must match the existing size (514) at non-singleton dimension 1.  Target sizes: [1, 582].  Tensor sizes: [1, 514]\n",
      "Fehler bei Text: اشترك في قناة حسين الجسمي الرسمية حسين الجسمي فستانك الأبيض استمعوا على جميع المنصات كلمات أمير طعيم... -> The expanded size of the tensor (516) must match the existing size (514) at non-singleton dimension 1.  Target sizes: [1, 516].  Tensor sizes: [1, 514]\n"
     ]
    }
   ],
   "source": [
    "from transformers import pipeline\n",
    "\n",
    "# Sentiment-Pipeline laden (Roberta Twitter-Modell)\n",
    "sentiment_pipeline = pipeline(\n",
    "    \"sentiment-analysis\",\n",
    "    model=\"cardiffnlp/twitter-roberta-base-sentiment\",\n",
    "    tokenizer=\"cardiffnlp/twitter-roberta-base-sentiment\",\n",
    "    truncation=True\n",
    ")\n",
    "\n",
    "# Einzelne Zeilen durchgehen, um Fehler im Batch zu vermeiden\n",
    "def safe_sentiment(text):\n",
    "    try:\n",
    "        return sentiment_pipeline(text[:512])[0]['label']\n",
    "    except Exception as e:\n",
    "        print(f\"Fehler bei Text: {text[:100]}... -> {e}\")\n",
    "        return \"error\"\n",
    "\n",
    "# Auf eine Teilmenge testen (z. B. 500 Zeilen)\n",
    "# df_clean = df_clean.sample(n=500, random_state=42).copy()\n",
    "\n",
    "df_clean['roberta_sentiment'] = df_clean['text_clean'].astype(str).apply(safe_sentiment)"
   ]
  },
  {
   "cell_type": "markdown",
   "id": "2b49eb42",
   "metadata": {},
   "source": [
    "## 3. Zeitliche Analyse der Topics\n",
    "\n",
    "Ein großer Vorteil von BERTopic ist die Möglichkeit, Themen im Zeitverlauf zu analysieren. Dazu müssen wir das Erstellungsdatum korrekt als `datetime` interpretieren und in geeignete Zeitstempel transformieren."
   ]
  },
  {
   "cell_type": "code",
   "execution_count": 9,
   "id": "b87a2ee6",
   "metadata": {},
   "outputs": [
    {
     "name": "stdout",
     "output_type": "stream",
     "text": [
      "1154 1154 1154\n"
     ]
    },
    {
     "data": {
      "application/vnd.plotly.v1+json": {
       "config": {
        "plotlyServerURL": "https://plot.ly"
       },
       "data": [
        {
         "hoverinfo": "text",
         "hovertext": [
          "<b>Topic 0</b><br>Words: deliver, lady, delivery, tells, driver",
          "<b>Topic 0</b><br>Words: streets, keeping, safe, said, like",
          "<b>Topic 0</b><br>Words: profession, wrong, said, like, told",
          "<b>Topic 0</b><br>Words: janitor, day, boss, ambulances, stabbing",
          "<b>Topic 0</b><br>Words: quiz, math, sheldon, bby, grief",
          "<b>Topic 0</b><br>Words: proposal, birthday, christys, homecoming, compliments",
          "<b>Topic 0</b><br>Words: boss, sick, note, venezuelan, detainees"
         ],
         "marker": {
          "color": "#E69F00"
         },
         "mode": "lines",
         "name": "0_said_like_told_would",
         "type": "scatter",
         "x": [
          "1970-01-01T00:00:01.738573792",
          "1970-01-01T00:00:01.739774985",
          "1970-01-01T00:00:01.740976179",
          "1970-01-01T00:00:01.742177373",
          "1970-01-01T00:00:01.743378566",
          "1970-01-01T00:00:01.744579760",
          "1970-01-01T00:00:01.745780954"
         ],
         "y": {
          "bdata": "AQEBCAMJCg==",
          "dtype": "i1"
         }
        },
        {
         "hoverinfo": "text",
         "hovertext": [
          "<b>Topic 1</b><br>Words: kokain, hamburg, drogen, tonnen, wurden",
          "<b>Topic 1</b><br>Words: alice, glööckler, my, versteht, weidels",
          "<b>Topic 1</b><br>Words: gained, views, beat, video, instagram",
          "<b>Topic 1</b><br>Words: hund, mrsmrsea, trägt, musik, immer",
          "<b>Topic 1</b><br>Words: très, vidéo, grave, cette, ça",
          "<b>Topic 1</b><br>Words: coups, video, passer, émilien, jour"
         ],
         "marker": {
          "color": "#56B4E9"
         },
         "mode": "lines",
         "name": "1_instagram_video_tiktok_kanal",
         "type": "scatter",
         "x": [
          "1970-01-01T00:00:01.738573792",
          "1970-01-01T00:00:01.739774985",
          "1970-01-01T00:00:01.742177373",
          "1970-01-01T00:00:01.743378566",
          "1970-01-01T00:00:01.744579760",
          "1970-01-01T00:00:01.745780954"
         ],
         "y": {
          "bdata": "AwMBBgQF",
          "dtype": "i1"
         }
        },
        {
         "hoverinfo": "text",
         "hovertext": [
          "<b>Topic 2</b><br>Words: kenan, yıldız, naman, daw, mga",
          "<b>Topic 2</b><br>Words: yıldız, goal, naman, daw, mga",
          "<b>Topic 2</b><br>Words: bengkak, hormon, hossain, terlalu, muka",
          "<b>Topic 2</b><br>Words: bandito, innamorata, khó, nha, bananinni",
          "<b>Topic 2</b><br>Words: cappucinna, တစ, ollaan, phyokoko, jajjde",
          "<b>Topic 2</b><br>Words: khỉ, giờ, xe, nhộn, đi",
          "<b>Topic 2</b><br>Words: kole, habosh, temporada, sprite, salga",
          "<b>Topic 2</b><br>Words: bailalo, genio, yeşil, empieza, jakoooo"
         ],
         "marker": {
          "color": "#009E73"
         },
         "mode": "lines",
         "name": "2_mga_daw_naman_sa",
         "type": "scatter",
         "x": [
          "1970-01-01T00:00:01.726561855",
          "1970-01-01T00:00:01.738573792",
          "1970-01-01T00:00:01.739774985",
          "1970-01-01T00:00:01.740976179",
          "1970-01-01T00:00:01.742177373",
          "1970-01-01T00:00:01.743378566",
          "1970-01-01T00:00:01.744579760",
          "1970-01-01T00:00:01.745780954"
         ],
         "y": {
          "bdata": "AQEDCAcHChM=",
          "dtype": "i1"
         }
        },
        {
         "hoverinfo": "text",
         "hovertext": [
          "<b>Topic 3</b><br>Words: obacht, anfasst, wen, than, einfach",
          "<b>Topic 3</b><br>Words: ralf, krank, gebettelt, mümmelmann, mache",
          "<b>Topic 3</b><br>Words: mdrr, verändern, demande, abgeben, wohlstand",
          "<b>Topic 3</b><br>Words: chahine, kommentarsfältet, varandra, frau, memos",
          "<b>Topic 3</b><br>Words: übertriebenen, mädchen, oder, docent, lief",
          "<b>Topic 3</b><br>Words: ganz, heute, mal, entspannt, selbstbräuner",
          "<b>Topic 3</b><br>Words: than, stronger, re, you, zeit",
          "<b>Topic 3</b><br>Words: helfer, aufgeschoben, staatskrise, braut, noch"
         ],
         "marker": {
          "color": "#F0E442"
         },
         "mode": "lines",
         "name": "3_than_einfach_ist_naja",
         "type": "scatter",
         "x": [
          "1970-01-01T00:00:01.724159467",
          "1970-01-01T00:00:01.738573792",
          "1970-01-01T00:00:01.739774985",
          "1970-01-01T00:00:01.740976179",
          "1970-01-01T00:00:01.742177373",
          "1970-01-01T00:00:01.743378566",
          "1970-01-01T00:00:01.744579760",
          "1970-01-01T00:00:01.745780954"
         ],
         "y": {
          "bdata": "AQMECAYHEAc=",
          "dtype": "i1"
         }
        },
        {
         "hoverinfo": "text",
         "hovertext": [
          "<b>Topic 4</b><br>Words: tomorrow, joke, wait, omg, end",
          "<b>Topic 4</b><br>Words: omg, hahaahah, omgggggg, obvious, kinda",
          "<b>Topic 4</b><br>Words: um, wait, end, yeah, stop",
          "<b>Topic 4</b><br>Words: whyyy, hmmm, hilarious, ending, result",
          "<b>Topic 4</b><br>Words: thx, worst, stopped, okay, friend",
          "<b>Topic 4</b><br>Words: yez, hahahahahha, good, even, wait",
          "<b>Topic 4</b><br>Words: wait, finallyyyy, plz, omg, moves",
          "<b>Topic 4</b><br>Words: wait, ok, congrats, outsmarted, noooooo"
         ],
         "marker": {
          "color": "#D55E00"
         },
         "mode": "lines",
         "name": "4_wait_omg_end_ok",
         "type": "scatter",
         "x": [
          "1970-01-01T00:00:01.737372598",
          "1970-01-01T00:00:01.738573792",
          "1970-01-01T00:00:01.739774985",
          "1970-01-01T00:00:01.740976179",
          "1970-01-01T00:00:01.742177373",
          "1970-01-01T00:00:01.743378566",
          "1970-01-01T00:00:01.744579760",
          "1970-01-01T00:00:01.745780954"
         ],
         "y": {
          "bdata": "AQQEBQUECRI=",
          "dtype": "i1"
         }
        },
        {
         "hoverinfo": "text",
         "hovertext": [
          "<b>Topic 5</b><br>Words: andrés, goal, great, ronaldo, shape",
          "<b>Topic 5</b><br>Words: dunks, ksi, speed, jokic, skills",
          "<b>Topic 5</b><br>Words: ronaldo, messi, football, grismau, jerseys",
          "<b>Topic 5</b><br>Words: football, ronaldo, duos, brasileiro, estilo",
          "<b>Topic 5</b><br>Words: messi, shape, lamelo, growth, smooth",
          "<b>Topic 5</b><br>Words: tuff, locke, wick, owen, joined",
          "<b>Topic 5</b><br>Words: ronaldo, grwm, ggs, geiss, fallschirm",
          "<b>Topic 5</b><br>Words: grwm, tuff, lax, goosebumps, tomorrowland"
         ],
         "marker": {
          "color": "#0072B2"
         },
         "mode": "lines",
         "name": "5_ronaldo_shape_football_grwm",
         "type": "scatter",
         "x": [
          "1970-01-01T00:00:01.736171404",
          "1970-01-01T00:00:01.738573792",
          "1970-01-01T00:00:01.739774985",
          "1970-01-01T00:00:01.740976179",
          "1970-01-01T00:00:01.742177373",
          "1970-01-01T00:00:01.743378566",
          "1970-01-01T00:00:01.744579760",
          "1970-01-01T00:00:01.745780954"
         ],
         "y": {
          "bdata": "AQMKBwQECAo=",
          "dtype": "i1"
         }
        },
        {
         "hoverinfo": "text",
         "hovertext": [
          "<b>Topic 6</b><br>Words: que, madeiras, echarle, ojo, nueva",
          "<b>Topic 6</b><br>Words: que, esempio, pagherà, mundial, incrível",
          "<b>Topic 6</b><br>Words: apelați, pasquale, condominiale, quedado, creéis",
          "<b>Topic 6</b><br>Words: gringos, ataca, novamente, melhor, appétit",
          "<b>Topic 6</b><br>Words: mani, rutina, super, buena, ayudar",
          "<b>Topic 6</b><br>Words: que, em, de, quando, técnica",
          "<b>Topic 6</b><br>Words: que, de, os, não, todos"
         ],
         "marker": {
          "color": "#CC79A7"
         },
         "mode": "lines",
         "name": "6_que_de_em_não",
         "type": "scatter",
         "x": [
          "1970-01-01T00:00:01.738573792",
          "1970-01-01T00:00:01.739774985",
          "1970-01-01T00:00:01.740976179",
          "1970-01-01T00:00:01.742177373",
          "1970-01-01T00:00:01.743378566",
          "1970-01-01T00:00:01.744579760",
          "1970-01-01T00:00:01.745780954"
         ],
         "y": {
          "bdata": "BQMFAwYEFQ==",
          "dtype": "i1"
         }
        },
        {
         "hoverinfo": "text",
         "hovertext": [
          "<b>Topic 7</b><br>Words: via, momma, lebron, isabel, torres",
          "<b>Topic 7</b><br>Words: via, postponed, marlins, touchdown, crab",
          "<b>Topic 7</b><br>Words: via, jacksonville, buffaloes, fire, harrison",
          "<b>Topic 7</b><br>Words: bengals, bester, mann, swear, thomas"
         ],
         "marker": {
          "color": "#E69F00"
         },
         "mode": "lines",
         "name": "7_pf_pts_nbsp_ast",
         "type": "scatter",
         "x": [
          "1970-01-01T00:00:01.742177373",
          "1970-01-01T00:00:01.743378566",
          "1970-01-01T00:00:01.744579760",
          "1970-01-01T00:00:01.745780954"
         ],
         "y": {
          "bdata": "AwIEAg==",
          "dtype": "i1"
         }
        },
        {
         "hoverinfo": "text",
         "hovertext": [
          "<b>Topic 8</b><br>Words: goin, superbowl, abra, oo, na",
          "<b>Topic 8</b><br>Words: barça, vamos, barcelona, matchday, league",
          "<b>Topic 8</b><br>Words: barça, psg, remonta, ucl, un",
          "<b>Topic 8</b><br>Words: milan, barça, inter, clip, barcelona"
         ],
         "marker": {
          "color": "#56B4E9"
         },
         "mode": "lines",
         "name": "8_league_dazn_highlights_sport",
         "type": "scatter",
         "x": [
          "1970-01-01T00:00:01.738573792",
          "1970-01-01T00:00:01.740976179",
          "1970-01-01T00:00:01.744579760",
          "1970-01-01T00:00:01.745780954"
         ],
         "y": {
          "bdata": "AQIBAw==",
          "dtype": "i1"
         }
        },
        {
         "hoverinfo": "text",
         "hovertext": [
          "<b>Topic 9</b><br>Words: আম, المنشد, ہم, في, دیتے",
          "<b>Topic 9</b><br>Words: الحب, فينا, تحير, الي, بحب",
          "<b>Topic 9</b><br>Words: تيم, انت, اللي, حفله, يؤلمني",
          "<b>Topic 9</b><br>Words: دعاء, حمزة, بوديب, شوال, الله",
          "<b>Topic 9</b><br>Words: مشكلة, المتابعين, حل, على, في",
          "<b>Topic 9</b><br>Words: من, على, في, بعد, لا"
         ],
         "marker": {
          "color": "#009E73"
         },
         "mode": "lines",
         "name": "9_في_على_من_اللي",
         "type": "scatter",
         "x": [
          "1970-01-01T00:00:01.739774985",
          "1970-01-01T00:00:01.740976179",
          "1970-01-01T00:00:01.742177373",
          "1970-01-01T00:00:01.743378566",
          "1970-01-01T00:00:01.744579760",
          "1970-01-01T00:00:01.745780954"
         ],
         "y": {
          "bdata": "BwIGBwgL",
          "dtype": "i1"
         }
        },
        {
         "hoverinfo": "text",
         "hovertext": [
          "<b>Topic 10</b><br>Words: tg, akimbo_, część, tecnologia, tek",
          "<b>Topic 10</b><br>Words: część, tek, passing, typpa, tête",
          "<b>Topic 10</b><br>Words: tecnologia, część, typpa, tek, tête",
          "<b>Topic 10</b><br>Words: typpa, tête, zsá, część, temu"
         ],
         "marker": {
          "color": "#F0E442"
         },
         "mode": "lines",
         "name": "10_część_tecnologia_tête_typpa",
         "type": "scatter",
         "x": [
          "1970-01-01T00:00:01.738573792",
          "1970-01-01T00:00:01.739774985",
          "1970-01-01T00:00:01.740976179",
          "1970-01-01T00:00:01.745780954"
         ],
         "y": {
          "bdata": "AQQBBQ==",
          "dtype": "i1"
         }
        },
        {
         "hoverinfo": "text",
         "hovertext": [
          "<b>Topic 11</b><br>Words: sacrifices, champion, stands, silent, great",
          "<b>Topic 11</b><br>Words: smith, showed, deluna, farm, philly",
          "<b>Topic 11</b><br>Words: suits, fortnite, locations, secret, wars"
         ],
         "marker": {
          "color": "#D55E00"
         },
         "mode": "lines",
         "name": "11_battle_new_wwe_play",
         "type": "scatter",
         "x": [
          "1970-01-01T00:00:01.740976179",
          "1970-01-01T00:00:01.742177373",
          "1970-01-01T00:00:01.745780954"
         ],
         "y": {
          "bdata": "AQEC",
          "dtype": "i1"
         }
        },
        {
         "hoverinfo": "text",
         "hovertext": [
          "<b>Topic 12</b><br>Words: też, się, które, ciele, może",
          "<b>Topic 12</b><br>Words: poserduszkuje, paulinka, jakieś, prawdziwe, niektóre",
          "<b>Topic 12</b><br>Words: ganzem, abend, herzen, mega, danke",
          "<b>Topic 12</b><br>Words: pani, wszystkiego, najlepszego, doroty, dla",
          "<b>Topic 12</b><br>Words: hania, nie, zwracajcie, dobijamy, uwagi",
          "<b>Topic 12</b><br>Words: mnie, na, wolność, głosuj, maja",
          "<b>Topic 12</b><br>Words: że, na, się, tym, nie"
         ],
         "marker": {
          "color": "#0072B2"
         },
         "mode": "lines",
         "name": "12_ik_de_ze_zijn",
         "type": "scatter",
         "x": [
          "1970-01-01T00:00:01.738573792",
          "1970-01-01T00:00:01.739774985",
          "1970-01-01T00:00:01.740976179",
          "1970-01-01T00:00:01.742177373",
          "1970-01-01T00:00:01.743378566",
          "1970-01-01T00:00:01.744579760",
          "1970-01-01T00:00:01.745780954"
         ],
         "y": {
          "bdata": "AQIBAQEFDQ==",
          "dtype": "i1"
         }
        },
        {
         "hoverinfo": "text",
         "hovertext": [
          "<b>Topic 13</b><br>Words: blush, mascara, concealer, powder, makeup",
          "<b>Topic 13</b><br>Words: hair, styles, makeup, please, ai",
          "<b>Topic 13</b><br>Words: bone, painting, spray, hair, makeup",
          "<b>Topic 13</b><br>Words: hair, ballroom, removal, niece, asmr",
          "<b>Topic 13</b><br>Words: hair, blue, mascara, tongue, colossal",
          "<b>Topic 13</b><br>Words: hair, makeup, wash, eventos, morrone"
         ],
         "marker": {
          "color": "#CC79A7"
         },
         "mode": "lines",
         "name": "13_hair_makeup_mascara_blush",
         "type": "scatter",
         "x": [
          "1970-01-01T00:00:01.739774985",
          "1970-01-01T00:00:01.740976179",
          "1970-01-01T00:00:01.742177373",
          "1970-01-01T00:00:01.743378566",
          "1970-01-01T00:00:01.744579760",
          "1970-01-01T00:00:01.745780954"
         ],
         "y": {
          "bdata": "AwMBAgUG",
          "dtype": "i1"
         }
        },
        {
         "hoverinfo": "text",
         "hovertext": [
          "<b>Topic 14</b><br>Words: unstable, cars, mercedes, build, thought",
          "<b>Topic 14</b><br>Words: motormagazin, sonntags, schneller, chiron, grip",
          "<b>Topic 14</b><br>Words: aprendiendo, valvetronics, exhaust, derrapar, supra"
         ],
         "marker": {
          "color": "#E69F00"
         },
         "mode": "lines",
         "name": "14_nurburgring_turbo_bmw_mercedes",
         "type": "scatter",
         "x": [
          "1970-01-01T00:00:01.740976179",
          "1970-01-01T00:00:01.744579760",
          "1970-01-01T00:00:01.745780954"
         ],
         "y": {
          "bdata": "AQEC",
          "dtype": "i1"
         }
        },
        {
         "hoverinfo": "text",
         "hovertext": [
          "<b>Topic 15</b><br>Words: cat, brainrot, kitten, cats, diaper",
          "<b>Topic 15</b><br>Words: kitten, cats, cuteness, calf, dances",
          "<b>Topic 15</b><br>Words: cat, kitten, clingy, dazzling, kittens",
          "<b>Topic 15</b><br>Words: cat, kitten, cartoon, comfort, wallpaper",
          "<b>Topic 15</b><br>Words: braving, waves, cats, wind, collection",
          "<b>Topic 15</b><br>Words: aventador, kitty, cat, kitten, cats",
          "<b>Topic 15</b><br>Words: cat, cats, diaper, puppy, hiccups"
         ],
         "marker": {
          "color": "#56B4E9"
         },
         "mode": "lines",
         "name": "15_cat_kitten_cats_diaper",
         "type": "scatter",
         "x": [
          "1970-01-01T00:00:01.738573792",
          "1970-01-01T00:00:01.739774985",
          "1970-01-01T00:00:01.740976179",
          "1970-01-01T00:00:01.742177373",
          "1970-01-01T00:00:01.743378566",
          "1970-01-01T00:00:01.744579760",
          "1970-01-01T00:00:01.745780954"
         ],
         "y": {
          "bdata": "AQMDBQEBBQ==",
          "dtype": "i1"
         }
        },
        {
         "hoverinfo": "text",
         "hovertext": [
          "<b>Topic 16</b><br>Words: hacerte, viral, tiktok, duolingo, rumble",
          "<b>Topic 16</b><br>Words: aïssata, tiktokviral, viral, duolingo, tiktok",
          "<b>Topic 16</b><br>Words: viral, hacer, vídeo, phonk, songs",
          "<b>Topic 16</b><br>Words: viral, template, sound, duolingo, tiktok",
          "<b>Topic 16</b><br>Words: viral, tiktok, ranking, tricks, things",
          "<b>Topic 16</b><br>Words: viral, tiktoks, loveme, tiff, regler"
         ],
         "marker": {
          "color": "#009E73"
         },
         "mode": "lines",
         "name": "16_viral_duolingo_tiktok_rumble",
         "type": "scatter",
         "x": [
          "1970-01-01T00:00:01.739774985",
          "1970-01-01T00:00:01.740976179",
          "1970-01-01T00:00:01.742177373",
          "1970-01-01T00:00:01.743378566",
          "1970-01-01T00:00:01.744579760",
          "1970-01-01T00:00:01.745780954"
         ],
         "y": {
          "bdata": "AQECAgQF",
          "dtype": "i1"
         }
        },
        {
         "hoverinfo": "text",
         "hovertext": [
          "<b>Topic 17</b><br>Words: rock, conga, gaggle, jim, puppeteers"
         ],
         "marker": {
          "color": "#F0E442"
         },
         "mode": "lines",
         "name": "17_production_azizam_director_assistant",
         "type": "scatter",
         "x": [
          "1970-01-01T00:00:01.745780954"
         ],
         "y": {
          "bdata": "AQ==",
          "dtype": "i1"
         }
        },
        {
         "hoverinfo": "text",
         "hovertext": [
          "<b>Topic 18</b><br>Words: vs, description, title, incroyable, relatable",
          "<b>Topic 18</b><br>Words: american, description, title, incroyable, relatable",
          "<b>Topic 18</b><br>Words: tho, scene, description, title, incroyable",
          "<b>Topic 18</b><br>Words: incroyable, relatable, description, title, belong",
          "<b>Topic 18</b><br>Words: belong, rude, official, know, description",
          "<b>Topic 18</b><br>Words: natural, me, loud, yeah, pro"
         ],
         "marker": {
          "color": "#D55E00"
         },
         "mode": "lines",
         "name": "18_description_title_incroyable_belong",
         "type": "scatter",
         "x": [
          "1970-01-01T00:00:01.738573792",
          "1970-01-01T00:00:01.739774985",
          "1970-01-01T00:00:01.742177373",
          "1970-01-01T00:00:01.743378566",
          "1970-01-01T00:00:01.744579760",
          "1970-01-01T00:00:01.745780954"
         ],
         "y": {
          "bdata": "AQEBAgMF",
          "dtype": "i1"
         }
        },
        {
         "hoverinfo": "text",
         "hovertext": [
          "<b>Topic 19</b><br>Words: speedquiz, speedrun, edit, brainrot, tragic",
          "<b>Topic 19</b><br>Words: tragic, brainrot, tralala, song, movie",
          "<b>Topic 19</b><br>Words: brainrot, tragic, italian, song, movie",
          "<b>Topic 19</b><br>Words: brainrot, italian, speedrun, tragic, impossible"
         ],
         "marker": {
          "color": "#0072B2"
         },
         "mode": "lines",
         "name": "19_brainrot_tragic_italian_song",
         "type": "scatter",
         "x": [
          "1970-01-01T00:00:01.742177373",
          "1970-01-01T00:00:01.743378566",
          "1970-01-01T00:00:01.744579760",
          "1970-01-01T00:00:01.745780954"
         ],
         "y": {
          "bdata": "AgMEBw==",
          "dtype": "i1"
         }
        },
        {
         "hoverinfo": "text",
         "hovertext": [
          "<b>Topic 20</b><br>Words: yellow, rain, summer, backpack, months",
          "<b>Topic 20</b><br>Words: pop, morning, summer, backpack, months",
          "<b>Topic 20</b><br>Words: renewed, refuge, nature, returned, months",
          "<b>Topic 20</b><br>Words: backpack, adventure, lifetime, summer, months",
          "<b>Topic 20</b><br>Words: season, coming, summer, backpack, months",
          "<b>Topic 20</b><br>Words: summer, évolution, bootcamp, volleyball, heaven"
         ],
         "marker": {
          "color": "#CC79A7"
         },
         "mode": "lines",
         "name": "20_summer_backpack_months_évolution",
         "type": "scatter",
         "x": [
          "1970-01-01T00:00:01.738573792",
          "1970-01-01T00:00:01.739774985",
          "1970-01-01T00:00:01.740976179",
          "1970-01-01T00:00:01.742177373",
          "1970-01-01T00:00:01.743378566",
          "1970-01-01T00:00:01.745780954"
         ],
         "y": {
          "bdata": "AQECAgEI",
          "dtype": "i1"
         }
        },
        {
         "hoverinfo": "text",
         "hovertext": [
          "<b>Topic 21</b><br>Words: zucchini, crème, soupe, reibekäse, cuillère",
          "<b>Topic 21</b><br>Words: äpfel, cuill, soupe, zutaten, schön",
          "<b>Topic 21</b><br>Words: blätterteig, puddingpulver, quark, zucker, ei",
          "<b>Topic 21</b><br>Words: inshape, nutrition, transformation, different, bars",
          "<b>Topic 21</b><br>Words: cette, huile, oignon, olive, tarte"
         ],
         "marker": {
          "color": "#E69F00"
         },
         "mode": "lines",
         "name": "21_different_bars_et_chocolate",
         "type": "scatter",
         "x": [
          "1970-01-01T00:00:01.739774985",
          "1970-01-01T00:00:01.740976179",
          "1970-01-01T00:00:01.743378566",
          "1970-01-01T00:00:01.744579760",
          "1970-01-01T00:00:01.745780954"
         ],
         "y": {
          "bdata": "AgIBAQU=",
          "dtype": "i1"
         }
        },
        {
         "hoverinfo": "text",
         "hovertext": [
          "<b>Topic 22</b><br>Words: wrt, triggers, asmr, today, bio",
          "<b>Topic 22</b><br>Words: relaxation, asmr, pure, mins, sleep",
          "<b>Topic 22</b><br>Words: enhancers, bio, performance, link, best",
          "<b>Topic 22</b><br>Words: journal, bio, asmr, positivity, cozy",
          "<b>Topic 22</b><br>Words: crashing, soap, asmr, bio, beads",
          "<b>Topic 22</b><br>Words: sleepy, triggers, relaxation, asmr, deep",
          "<b>Topic 22</b><br>Words: bio, asmr, aesthetic, tracksuit, bodycream"
         ],
         "marker": {
          "color": "#56B4E9"
         },
         "mode": "lines",
         "name": "22_bio_asmr_triggers_beads",
         "type": "scatter",
         "x": [
          "1970-01-01T00:00:01.738573792",
          "1970-01-01T00:00:01.739774985",
          "1970-01-01T00:00:01.740976179",
          "1970-01-01T00:00:01.742177373",
          "1970-01-01T00:00:01.743378566",
          "1970-01-01T00:00:01.744579760",
          "1970-01-01T00:00:01.745780954"
         ],
         "y": {
          "bdata": "AQEBAQEBBg==",
          "dtype": "i1"
         }
        },
        {
         "hoverinfo": "text",
         "hovertext": [
          "<b>Topic 23</b><br>Words: мляко, кисело, на, йоанна, протеиново",
          "<b>Topic 23</b><br>Words: ним, могу, жить, кофты, без",
          "<b>Topic 23</b><br>Words: меня, тик, ток, из, на",
          "<b>Topic 23</b><br>Words: тунг, сахур, готовим, карбонара, паста",
          "<b>Topic 23</b><br>Words: на, aldinozevur, уже, май, лидл",
          "<b>Topic 23</b><br>Words: не, поёт, великой, luna_basendji, inst"
         ],
         "marker": {
          "color": "#009E73"
         },
         "mode": "lines",
         "name": "23_на_тунг_кисело_мляко",
         "type": "scatter",
         "x": [
          "1970-01-01T00:00:01.739774985",
          "1970-01-01T00:00:01.740976179",
          "1970-01-01T00:00:01.742177373",
          "1970-01-01T00:00:01.743378566",
          "1970-01-01T00:00:01.744579760",
          "1970-01-01T00:00:01.745780954"
         ],
         "y": {
          "bdata": "AgEBAgIE",
          "dtype": "i1"
         }
        },
        {
         "hoverinfo": "text",
         "hovertext": [
          "<b>Topic 24</b><br>Words: prank, fart, spray, elevator, pranking",
          "<b>Topic 24</b><br>Words: prank, award, goes, best, fart",
          "<b>Topic 24</b><br>Words: prank, anatoly, replying, angryginge, towel",
          "<b>Topic 24</b><br>Words: prank, granny, cops, mind, fart",
          "<b>Topic 24</b><br>Words: prank, bangin, nastyyy, anatoly, replying"
         ],
         "marker": {
          "color": "#F0E442"
         },
         "mode": "lines",
         "name": "24_prank_fart_anatoly_spray",
         "type": "scatter",
         "x": [
          "1970-01-01T00:00:01.740976179",
          "1970-01-01T00:00:01.742177373",
          "1970-01-01T00:00:01.743378566",
          "1970-01-01T00:00:01.744579760",
          "1970-01-01T00:00:01.745780954"
         ],
         "y": {
          "bdata": "AgEFAQM=",
          "dtype": "i1"
         }
        },
        {
         "hoverinfo": "text",
         "hovertext": [
          "<b>Topic 26</b><br>Words: 爱情最后的归宿, oblivion, scrolls, elder, game",
          "<b>Topic 26</b><br>Words: 這耳朵會不會背了, かかったら, အလ, song, oblivion",
          "<b>Topic 26</b><br>Words: 罢免国民党, 台湾加油, oblivion, scrolls, elder",
          "<b>Topic 26</b><br>Words: 途中カラス来てびっくりした笑, これめっちゃ頭痛くなる, またすぐにお会いしましょう, stay, got",
          "<b>Topic 26</b><br>Words: 鬼滅の刃, 決戦の火蓋を切る, 劇場版, 公開, 公式tiktok開設"
         ],
         "marker": {
          "color": "#D55E00"
         },
         "mode": "lines",
         "name": "26_これめっちゃ頭痛くなる_公開_全国劇場にて_またすぐにお会いしましょう",
         "type": "scatter",
         "x": [
          "1970-01-01T00:00:01.740976179",
          "1970-01-01T00:00:01.742177373",
          "1970-01-01T00:00:01.743378566",
          "1970-01-01T00:00:01.744579760",
          "1970-01-01T00:00:01.745780954"
         ],
         "y": {
          "bdata": "AQQBAwI=",
          "dtype": "i1"
         }
        },
        {
         "hoverinfo": "text",
         "hovertext": [
          "<b>Topic 27</b><br>Words: tung, sahur, edit, 台湾加油, 無限城編",
          "<b>Topic 27</b><br>Words: tung, sahur, ballerina, 台湾加油, 爱情最后的归宿",
          "<b>Topic 27</b><br>Words: tung, sahur, nela, 鬼滅の刃, 公式tiktok開設"
         ],
         "marker": {
          "color": "#0072B2"
         },
         "mode": "lines",
         "name": "27_tung_sahur_nela_ballerina",
         "type": "scatter",
         "x": [
          "1970-01-01T00:00:01.743378566",
          "1970-01-01T00:00:01.744579760",
          "1970-01-01T00:00:01.745780954"
         ],
         "y": {
          "bdata": "AQQG",
          "dtype": "i1"
         }
        },
        {
         "hoverinfo": "text",
         "hovertext": [
          "<b>Topic 28</b><br>Words: template, tung, new, capcut, sahur",
          "<b>Topic 28</b><br>Words: template, tung, new, sahur, nela",
          "<b>Topic 28</b><br>Words: tung, memoji, violet, sc, sahur",
          "<b>Topic 28</b><br>Words: tung, template, nunca, muda, glow",
          "<b>Topic 28</b><br>Words: tung, template, edits, backup, sahur",
          "<b>Topic 28</b><br>Words: trend, tung, template, new, sahur",
          "<b>Topic 28</b><br>Words: tung, modelo, capcut, novo, no"
         ],
         "marker": {
          "color": "#CC79A7"
         },
         "mode": "lines",
         "name": "28_template_new_capcut_edits",
         "type": "scatter",
         "x": [
          "1970-01-01T00:00:01.738573792",
          "1970-01-01T00:00:01.739774985",
          "1970-01-01T00:00:01.740976179",
          "1970-01-01T00:00:01.742177373",
          "1970-01-01T00:00:01.743378566",
          "1970-01-01T00:00:01.744579760",
          "1970-01-01T00:00:01.745780954"
         ],
         "y": {
          "bdata": "AQEBAgMBAQ==",
          "dtype": "i1"
         }
        },
        {
         "hoverinfo": "text",
         "hovertext": [
          "<b>Topic 29</b><br>Words: template, mona, february, thursday, everywhere",
          "<b>Topic 29</b><br>Words: plattforms, mona, motion, template, lisa",
          "<b>Topic 29</b><br>Words: waited, ib, trend, dance, template",
          "<b>Topic 29</b><br>Words: template, cher, performing, beautiful, song",
          "<b>Topic 29</b><br>Words: template, incomplete, dancehall, unexpected, singing",
          "<b>Topic 29</b><br>Words: mcm, lunatix, template, dance, comes"
         ],
         "marker": {
          "color": "#E69F00"
         },
         "mode": "lines",
         "name": "29_mona_motion_song_lisa",
         "type": "scatter",
         "x": [
          "1970-01-01T00:00:01.738573792",
          "1970-01-01T00:00:01.739774985",
          "1970-01-01T00:00:01.740976179",
          "1970-01-01T00:00:01.743378566",
          "1970-01-01T00:00:01.744579760",
          "1970-01-01T00:00:01.745780954"
         ],
         "y": {
          "bdata": "AQIBAgIC",
          "dtype": "i1"
         }
        }
       ],
       "layout": {
        "height": 450,
        "hoverlabel": {
         "bgcolor": "white",
         "font": {
          "family": "Rockwell",
          "size": 16
         }
        },
        "legend": {
         "title": {
          "text": "<b>Global Topic Representation"
         }
        },
        "template": {
         "data": {
          "bar": [
           {
            "error_x": {
             "color": "rgb(36,36,36)"
            },
            "error_y": {
             "color": "rgb(36,36,36)"
            },
            "marker": {
             "line": {
              "color": "white",
              "width": 0.5
             },
             "pattern": {
              "fillmode": "overlay",
              "size": 10,
              "solidity": 0.2
             }
            },
            "type": "bar"
           }
          ],
          "barpolar": [
           {
            "marker": {
             "line": {
              "color": "white",
              "width": 0.5
             },
             "pattern": {
              "fillmode": "overlay",
              "size": 10,
              "solidity": 0.2
             }
            },
            "type": "barpolar"
           }
          ],
          "carpet": [
           {
            "aaxis": {
             "endlinecolor": "rgb(36,36,36)",
             "gridcolor": "white",
             "linecolor": "white",
             "minorgridcolor": "white",
             "startlinecolor": "rgb(36,36,36)"
            },
            "baxis": {
             "endlinecolor": "rgb(36,36,36)",
             "gridcolor": "white",
             "linecolor": "white",
             "minorgridcolor": "white",
             "startlinecolor": "rgb(36,36,36)"
            },
            "type": "carpet"
           }
          ],
          "choropleth": [
           {
            "colorbar": {
             "outlinewidth": 1,
             "tickcolor": "rgb(36,36,36)",
             "ticks": "outside"
            },
            "type": "choropleth"
           }
          ],
          "contour": [
           {
            "colorbar": {
             "outlinewidth": 1,
             "tickcolor": "rgb(36,36,36)",
             "ticks": "outside"
            },
            "colorscale": [
             [
              0,
              "#440154"
             ],
             [
              0.1111111111111111,
              "#482878"
             ],
             [
              0.2222222222222222,
              "#3e4989"
             ],
             [
              0.3333333333333333,
              "#31688e"
             ],
             [
              0.4444444444444444,
              "#26828e"
             ],
             [
              0.5555555555555556,
              "#1f9e89"
             ],
             [
              0.6666666666666666,
              "#35b779"
             ],
             [
              0.7777777777777778,
              "#6ece58"
             ],
             [
              0.8888888888888888,
              "#b5de2b"
             ],
             [
              1,
              "#fde725"
             ]
            ],
            "type": "contour"
           }
          ],
          "contourcarpet": [
           {
            "colorbar": {
             "outlinewidth": 1,
             "tickcolor": "rgb(36,36,36)",
             "ticks": "outside"
            },
            "type": "contourcarpet"
           }
          ],
          "heatmap": [
           {
            "colorbar": {
             "outlinewidth": 1,
             "tickcolor": "rgb(36,36,36)",
             "ticks": "outside"
            },
            "colorscale": [
             [
              0,
              "#440154"
             ],
             [
              0.1111111111111111,
              "#482878"
             ],
             [
              0.2222222222222222,
              "#3e4989"
             ],
             [
              0.3333333333333333,
              "#31688e"
             ],
             [
              0.4444444444444444,
              "#26828e"
             ],
             [
              0.5555555555555556,
              "#1f9e89"
             ],
             [
              0.6666666666666666,
              "#35b779"
             ],
             [
              0.7777777777777778,
              "#6ece58"
             ],
             [
              0.8888888888888888,
              "#b5de2b"
             ],
             [
              1,
              "#fde725"
             ]
            ],
            "type": "heatmap"
           }
          ],
          "histogram": [
           {
            "marker": {
             "line": {
              "color": "white",
              "width": 0.6
             }
            },
            "type": "histogram"
           }
          ],
          "histogram2d": [
           {
            "colorbar": {
             "outlinewidth": 1,
             "tickcolor": "rgb(36,36,36)",
             "ticks": "outside"
            },
            "colorscale": [
             [
              0,
              "#440154"
             ],
             [
              0.1111111111111111,
              "#482878"
             ],
             [
              0.2222222222222222,
              "#3e4989"
             ],
             [
              0.3333333333333333,
              "#31688e"
             ],
             [
              0.4444444444444444,
              "#26828e"
             ],
             [
              0.5555555555555556,
              "#1f9e89"
             ],
             [
              0.6666666666666666,
              "#35b779"
             ],
             [
              0.7777777777777778,
              "#6ece58"
             ],
             [
              0.8888888888888888,
              "#b5de2b"
             ],
             [
              1,
              "#fde725"
             ]
            ],
            "type": "histogram2d"
           }
          ],
          "histogram2dcontour": [
           {
            "colorbar": {
             "outlinewidth": 1,
             "tickcolor": "rgb(36,36,36)",
             "ticks": "outside"
            },
            "colorscale": [
             [
              0,
              "#440154"
             ],
             [
              0.1111111111111111,
              "#482878"
             ],
             [
              0.2222222222222222,
              "#3e4989"
             ],
             [
              0.3333333333333333,
              "#31688e"
             ],
             [
              0.4444444444444444,
              "#26828e"
             ],
             [
              0.5555555555555556,
              "#1f9e89"
             ],
             [
              0.6666666666666666,
              "#35b779"
             ],
             [
              0.7777777777777778,
              "#6ece58"
             ],
             [
              0.8888888888888888,
              "#b5de2b"
             ],
             [
              1,
              "#fde725"
             ]
            ],
            "type": "histogram2dcontour"
           }
          ],
          "mesh3d": [
           {
            "colorbar": {
             "outlinewidth": 1,
             "tickcolor": "rgb(36,36,36)",
             "ticks": "outside"
            },
            "type": "mesh3d"
           }
          ],
          "parcoords": [
           {
            "line": {
             "colorbar": {
              "outlinewidth": 1,
              "tickcolor": "rgb(36,36,36)",
              "ticks": "outside"
             }
            },
            "type": "parcoords"
           }
          ],
          "pie": [
           {
            "automargin": true,
            "type": "pie"
           }
          ],
          "scatter": [
           {
            "fillpattern": {
             "fillmode": "overlay",
             "size": 10,
             "solidity": 0.2
            },
            "type": "scatter"
           }
          ],
          "scatter3d": [
           {
            "line": {
             "colorbar": {
              "outlinewidth": 1,
              "tickcolor": "rgb(36,36,36)",
              "ticks": "outside"
             }
            },
            "marker": {
             "colorbar": {
              "outlinewidth": 1,
              "tickcolor": "rgb(36,36,36)",
              "ticks": "outside"
             }
            },
            "type": "scatter3d"
           }
          ],
          "scattercarpet": [
           {
            "marker": {
             "colorbar": {
              "outlinewidth": 1,
              "tickcolor": "rgb(36,36,36)",
              "ticks": "outside"
             }
            },
            "type": "scattercarpet"
           }
          ],
          "scattergeo": [
           {
            "marker": {
             "colorbar": {
              "outlinewidth": 1,
              "tickcolor": "rgb(36,36,36)",
              "ticks": "outside"
             }
            },
            "type": "scattergeo"
           }
          ],
          "scattergl": [
           {
            "marker": {
             "colorbar": {
              "outlinewidth": 1,
              "tickcolor": "rgb(36,36,36)",
              "ticks": "outside"
             }
            },
            "type": "scattergl"
           }
          ],
          "scattermap": [
           {
            "marker": {
             "colorbar": {
              "outlinewidth": 1,
              "tickcolor": "rgb(36,36,36)",
              "ticks": "outside"
             }
            },
            "type": "scattermap"
           }
          ],
          "scattermapbox": [
           {
            "marker": {
             "colorbar": {
              "outlinewidth": 1,
              "tickcolor": "rgb(36,36,36)",
              "ticks": "outside"
             }
            },
            "type": "scattermapbox"
           }
          ],
          "scatterpolar": [
           {
            "marker": {
             "colorbar": {
              "outlinewidth": 1,
              "tickcolor": "rgb(36,36,36)",
              "ticks": "outside"
             }
            },
            "type": "scatterpolar"
           }
          ],
          "scatterpolargl": [
           {
            "marker": {
             "colorbar": {
              "outlinewidth": 1,
              "tickcolor": "rgb(36,36,36)",
              "ticks": "outside"
             }
            },
            "type": "scatterpolargl"
           }
          ],
          "scatterternary": [
           {
            "marker": {
             "colorbar": {
              "outlinewidth": 1,
              "tickcolor": "rgb(36,36,36)",
              "ticks": "outside"
             }
            },
            "type": "scatterternary"
           }
          ],
          "surface": [
           {
            "colorbar": {
             "outlinewidth": 1,
             "tickcolor": "rgb(36,36,36)",
             "ticks": "outside"
            },
            "colorscale": [
             [
              0,
              "#440154"
             ],
             [
              0.1111111111111111,
              "#482878"
             ],
             [
              0.2222222222222222,
              "#3e4989"
             ],
             [
              0.3333333333333333,
              "#31688e"
             ],
             [
              0.4444444444444444,
              "#26828e"
             ],
             [
              0.5555555555555556,
              "#1f9e89"
             ],
             [
              0.6666666666666666,
              "#35b779"
             ],
             [
              0.7777777777777778,
              "#6ece58"
             ],
             [
              0.8888888888888888,
              "#b5de2b"
             ],
             [
              1,
              "#fde725"
             ]
            ],
            "type": "surface"
           }
          ],
          "table": [
           {
            "cells": {
             "fill": {
              "color": "rgb(237,237,237)"
             },
             "line": {
              "color": "white"
             }
            },
            "header": {
             "fill": {
              "color": "rgb(217,217,217)"
             },
             "line": {
              "color": "white"
             }
            },
            "type": "table"
           }
          ]
         },
         "layout": {
          "annotationdefaults": {
           "arrowhead": 0,
           "arrowwidth": 1
          },
          "autotypenumbers": "strict",
          "coloraxis": {
           "colorbar": {
            "outlinewidth": 1,
            "tickcolor": "rgb(36,36,36)",
            "ticks": "outside"
           }
          },
          "colorscale": {
           "diverging": [
            [
             0,
             "rgb(103,0,31)"
            ],
            [
             0.1,
             "rgb(178,24,43)"
            ],
            [
             0.2,
             "rgb(214,96,77)"
            ],
            [
             0.3,
             "rgb(244,165,130)"
            ],
            [
             0.4,
             "rgb(253,219,199)"
            ],
            [
             0.5,
             "rgb(247,247,247)"
            ],
            [
             0.6,
             "rgb(209,229,240)"
            ],
            [
             0.7,
             "rgb(146,197,222)"
            ],
            [
             0.8,
             "rgb(67,147,195)"
            ],
            [
             0.9,
             "rgb(33,102,172)"
            ],
            [
             1,
             "rgb(5,48,97)"
            ]
           ],
           "sequential": [
            [
             0,
             "#440154"
            ],
            [
             0.1111111111111111,
             "#482878"
            ],
            [
             0.2222222222222222,
             "#3e4989"
            ],
            [
             0.3333333333333333,
             "#31688e"
            ],
            [
             0.4444444444444444,
             "#26828e"
            ],
            [
             0.5555555555555556,
             "#1f9e89"
            ],
            [
             0.6666666666666666,
             "#35b779"
            ],
            [
             0.7777777777777778,
             "#6ece58"
            ],
            [
             0.8888888888888888,
             "#b5de2b"
            ],
            [
             1,
             "#fde725"
            ]
           ],
           "sequentialminus": [
            [
             0,
             "#440154"
            ],
            [
             0.1111111111111111,
             "#482878"
            ],
            [
             0.2222222222222222,
             "#3e4989"
            ],
            [
             0.3333333333333333,
             "#31688e"
            ],
            [
             0.4444444444444444,
             "#26828e"
            ],
            [
             0.5555555555555556,
             "#1f9e89"
            ],
            [
             0.6666666666666666,
             "#35b779"
            ],
            [
             0.7777777777777778,
             "#6ece58"
            ],
            [
             0.8888888888888888,
             "#b5de2b"
            ],
            [
             1,
             "#fde725"
            ]
           ]
          },
          "colorway": [
           "#1F77B4",
           "#FF7F0E",
           "#2CA02C",
           "#D62728",
           "#9467BD",
           "#8C564B",
           "#E377C2",
           "#7F7F7F",
           "#BCBD22",
           "#17BECF"
          ],
          "font": {
           "color": "rgb(36,36,36)"
          },
          "geo": {
           "bgcolor": "white",
           "lakecolor": "white",
           "landcolor": "white",
           "showlakes": true,
           "showland": true,
           "subunitcolor": "white"
          },
          "hoverlabel": {
           "align": "left"
          },
          "hovermode": "closest",
          "mapbox": {
           "style": "light"
          },
          "paper_bgcolor": "white",
          "plot_bgcolor": "white",
          "polar": {
           "angularaxis": {
            "gridcolor": "rgb(232,232,232)",
            "linecolor": "rgb(36,36,36)",
            "showgrid": false,
            "showline": true,
            "ticks": "outside"
           },
           "bgcolor": "white",
           "radialaxis": {
            "gridcolor": "rgb(232,232,232)",
            "linecolor": "rgb(36,36,36)",
            "showgrid": false,
            "showline": true,
            "ticks": "outside"
           }
          },
          "scene": {
           "xaxis": {
            "backgroundcolor": "white",
            "gridcolor": "rgb(232,232,232)",
            "gridwidth": 2,
            "linecolor": "rgb(36,36,36)",
            "showbackground": true,
            "showgrid": false,
            "showline": true,
            "ticks": "outside",
            "zeroline": false,
            "zerolinecolor": "rgb(36,36,36)"
           },
           "yaxis": {
            "backgroundcolor": "white",
            "gridcolor": "rgb(232,232,232)",
            "gridwidth": 2,
            "linecolor": "rgb(36,36,36)",
            "showbackground": true,
            "showgrid": false,
            "showline": true,
            "ticks": "outside",
            "zeroline": false,
            "zerolinecolor": "rgb(36,36,36)"
           },
           "zaxis": {
            "backgroundcolor": "white",
            "gridcolor": "rgb(232,232,232)",
            "gridwidth": 2,
            "linecolor": "rgb(36,36,36)",
            "showbackground": true,
            "showgrid": false,
            "showline": true,
            "ticks": "outside",
            "zeroline": false,
            "zerolinecolor": "rgb(36,36,36)"
           }
          },
          "shapedefaults": {
           "fillcolor": "black",
           "line": {
            "width": 0
           },
           "opacity": 0.3
          },
          "ternary": {
           "aaxis": {
            "gridcolor": "rgb(232,232,232)",
            "linecolor": "rgb(36,36,36)",
            "showgrid": false,
            "showline": true,
            "ticks": "outside"
           },
           "baxis": {
            "gridcolor": "rgb(232,232,232)",
            "linecolor": "rgb(36,36,36)",
            "showgrid": false,
            "showline": true,
            "ticks": "outside"
           },
           "bgcolor": "white",
           "caxis": {
            "gridcolor": "rgb(232,232,232)",
            "linecolor": "rgb(36,36,36)",
            "showgrid": false,
            "showline": true,
            "ticks": "outside"
           }
          },
          "title": {
           "x": 0.05
          },
          "xaxis": {
           "automargin": true,
           "gridcolor": "rgb(232,232,232)",
           "linecolor": "rgb(36,36,36)",
           "showgrid": false,
           "showline": true,
           "ticks": "outside",
           "title": {
            "standoff": 15
           },
           "zeroline": false,
           "zerolinecolor": "rgb(36,36,36)"
          },
          "yaxis": {
           "automargin": true,
           "gridcolor": "rgb(232,232,232)",
           "linecolor": "rgb(36,36,36)",
           "showgrid": false,
           "showline": true,
           "ticks": "outside",
           "title": {
            "standoff": 15
           },
           "zeroline": false,
           "zerolinecolor": "rgb(36,36,36)"
          }
         }
        },
        "title": {
         "font": {
          "color": "Black",
          "size": 22
         },
         "text": "<b>Topics over Time</b>",
         "x": 0.4,
         "xanchor": "center",
         "y": 0.95,
         "yanchor": "top"
        },
        "width": 1250,
        "xaxis": {
         "showgrid": true
        },
        "yaxis": {
         "showgrid": true,
         "title": {
          "text": "Frequency"
         }
        }
       }
      }
     },
     "metadata": {},
     "output_type": "display_data"
    }
   ],
   "source": [
    "# Sicherstellen, dass timestamp eine gültige datetime-Spalte ist\n",
    "df_clean['timestamp'] = pd.to_datetime(df_clean['timestamp'], errors='coerce')\n",
    "df_clean = df_clean.dropna(subset=['timestamp'])\n",
    "\n",
    "# Alle Listen synchron extrahieren\n",
    "texts_synced = df_clean['text_clean'].tolist()\n",
    "topics_synced = df_clean['topic'].tolist()\n",
    "timestamps_synced = df_clean['timestamp'].tolist()  # echte datetime-Werte\n",
    "\n",
    "# Kontrollieren\n",
    "print(len(texts_synced), len(topics_synced), len(timestamps_synced))\n",
    "\n",
    "# Topics-over-time berechnen (echte Timestamps → funktioniert!)\n",
    "topics_over_time = topic_model.topics_over_time(\n",
    "    docs=texts_synced,\n",
    "    topics=topics_synced,\n",
    "    timestamps=timestamps_synced,\n",
    "    nr_bins=20  # oder eine andere sinnvolle Anzahl Zeit-Buckets\n",
    ")\n",
    "\n",
    "# Visualisierung\n",
    "topic_model.visualize_topics_over_time(topics_over_time)\n"
   ]
  },
  {
   "cell_type": "markdown",
   "id": "d2b77b30",
   "metadata": {},
   "source": [
    "## 4. Visuelle Exploration mit UMAP\n",
    "\n",
    "Zur besseren Interpretation der durch BERTopic erzeugten Embeddings und Topics projizieren wir die hochdimensionalen Embeddings in 2D mit **UMAP**. So lassen sich thematische Cluster visuell erkennen."
   ]
  },
  {
   "cell_type": "code",
   "execution_count": 10,
   "id": "bb493a0c",
   "metadata": {},
   "outputs": [
    {
     "data": {
      "application/vnd.plotly.v1+json": {
       "config": {
        "plotlyServerURL": "https://plot.ly"
       },
       "data": [
        {
         "hoverinfo": "text",
         "hovertext": [
          "ballerina cococolina",
          "got celebrate differences",
          "styles älter wirken lassen outfit links rabatt punkt videos gesponsert purelei erhaltet rabatt purelei code natashamai ab einkaufswert euro unten stehenden links geschenkgutscheine reduzierte artikel fine jewelry mahina club ausgeschlossen gültig purelei stücke balance armreif set balance ohrringe plain layering kette hellgold island ring info ausnahme teile purelei teile gekauft normal ausfällt steht dabei trage schokobraune leinen weste schokobraune leinen shorts schmuck siehe oben produkte augenbrauen maybelline farbton medium brown benefit augenbrauenstift farbton benefit augenbrauengel farbton wunderbrow gel auftragen braucht schmalen abgeschrägten pinsel teile anproben teile bildern unten oberteile schwarzes top floralem rock schokobraune leinen weste schokobraunes t shirt taillen knoten unterteile schokobraune leinen shorts schwarzer floraler rock jacken mäntel blazer bomberjacke rosé schokobrauner leinen blazer schuhe snakeprint pumps älter snakeprint flach handtaschen dunkelbraune east west clutch günstigere alternative günstiger teile stange schokobraunes t shirt taillen knoten schokobraune wickelbluse schokobrauner leinen blazer bomberjacke rosé weißes camisole top bh drunter leicht transparent teile bildern schwarzes maxikleid statement kette breiter gürtel siegelring xxl creolen chanel perlenkette weißer gürrtel nieten schmaler leo gürtel schwarze trekking sandalen salbeifarbene trekking sandalen roséfarbene trekking sandalen metallic trekking sandalen schwarze keil pumps schwarze keil pumps schwarzes polkadot kleid roséfarbene canvas sneakers weiße canvas sneakers schwarze clogs hellbeige riemchen sandalen cognac farbene riemchen sandalen graues skaterkleid lilafarbenes abendkleid cremefarbenes boho minikleid grünes rüschenkleid cremefarbenes boho kleid midilänge gemustertes kurzes boho kleid buntes missoni kleid hellblaues pucci kleid buntes etro kleid gemustertes t shirt gemustertes t shirt hellgrünes midikleid wunderbrow gel gim me brow augenbrauengel farbton kapitel intro bestimmte beauty eingriffe dino accessoires sponsored gewisse sommerschuhe lord helmchen sommerkleider fast muster künstliche augenbrauen affiliate links teile links box bestellt erhalte fällen provision wirkt weder persönliche produktauswahl kaufpreis fotos lev radin gballgiggsphoto peakstock kathy hutchins popcorner mimagephotography featureflash photo agency elena stepanova sirtravelalot markus wissmann sean nel tinseltown ron adar s_bukley shutterstock moviestillsdb com track epidemic sound",
          "j",
          "sided diamond trick tutorial redbull cans cameraman credit barlow",
          "honestly tough one",
          "leo best daddy ever",
          "director prey welcomes world hurt experience predator badlands big screen theaters imax november predator badlands stars elle fanning dimitrius schuster koloamatangi set future remote planet young predator schuster koloamatangi outcast clan finds unlikely ally thia fanning embarks treacherous journey search ultimate adversary film directed dan trachtenberg produced john davis dan trachtenberg marc toberoff ben rosenblatt brent connor",
          "haine svp",
          "coming fast",
          "fíanna force",
          "handsome",
          "owl core",
          "valverde pass",
          "kingship comes sorted",
          "always laugh",
          "knew cutting garlic funny",
          "love seasons final season summer turned pretty begins july prime video end junior year college belly looking forward another summer cousins soulmate jeremiah future seems set core shaking events bring first love conrad back life brink adulthood belly finds crossroads must decide brother heart summer never watch summer turned pretty prime video subscribe prime video want watch got week newest movies last night tv shows classic favorites available stream instantly plus videos stored video library prime video offers variety unique captivating entertainment including original series boys invincible hazbin hotel summer turned pretty get prime video stream instagram tiktok facebook x summer turned pretty season official teaser prime video prime video",
          "gelernt gelernt",
          "montagem tomada",
          "considering last one done well",
          "calisthenics reaction gym",
          "bro hacked lake",
          "legs steel superbon kicks built damage",
          "fps",
          "insta ahmad neu",
          "disclaimer tell say complete shock said",
          "rip unerwartet",
          "can do it if you are little taller",
          "bombooooclaaaaat",
          "best win moments compilation",
          "jealous never",
          "true gracie abrams",
          "would give anything watch",
          "replying games zm",
          "conquest",
          "actors face famous roles fashion runway al pacino tom hanks anthony hopkins sylvester stallone arnold schwarzenegger antonio banderas chuck norris michael keaton keanu reeves bruce willis clint eastwood",
          "audi rs v soundcheck",
          "clip musstest grinsen",
          "wan na rock",
          "bananas sort beans bananas make feel like punched stomach black beans nearly immobile discomfort ibs got checked simply fact despite tell people getting older",
          "pepito rossi segna abbracciano",
          "gendarmes toujours top",
          "posted one",
          "met gala",
          "hungry",
          "thomas müller beim fc bayern münchen neuen vertrag erhalten dafür bekommt neuen wumms song tanz memes tiktok herze instagram drück daumen facebook gesang text dennis jesko musikproduzent markus baier juniton yeah gehören schaut mal rein youtube instagram tiktok website herz kritiker hater",
          "katniss lot aura fr",
          "hsv profis stürmen pk bierdusche coach polzin hamburger sv ulm hamburger sv kehrt sieben jahren absenz bundesliga zurück ssv ulm fußball hsv aufstieg mehr nehmen spatzen bedeutet pleite gleichzeitig direkten wiederabstieg hsv coach merlin polzin nahm erfolg darmstadt zwei veränderungen startelf anstelle verletzten hadzikadunic saison baldé starteten poreba sahiti ulms trainer robert lechleiter veränderte team heimpleite hannover ebenfalls zwei positionen rösch krattenmacher zurück gelbsperre ersetzten kolbe batista meier ausgangslage beide teams klar hsv gewinnen vorzeitigen aufstieg feiern dreier ulm pflicht direkten wiederabstieg liga verhindern entsprechend mutig gast spiel angehen beginn sehen minute poreba hereingabe krattenmacher gleich mal höchster not ecke abwehren fällige standard führte gast gaal vollstreckte überlegt rechte eck hsv ließ davon ruhe bringen antwortete stattdessen postwendend flache muheim hereingabe links nahm reis rückraum direkt traf überlegt ausgleich anschließend begegneten beide teams augenhöhe chancen beiden seiten seite verpasste selke flanke wenige zentimeter seite heuer fernandes dressels distanzversuch stelle heuer fernandes knapp zehn minuten später gefordert geblockten schuss higl schaltete var foul muheim überprüfen ansicht bilder entschied unparteiische max burda strafstoß telalovic trat scheiterte schwach geschossenen versuch hamburger schlussmann ulm ließ davon zunächst beirren kam keller weiteren vorstoß anschließend fielen gäste defensiv auseinander hsv rausch spielte infolge einwurfes traf königsdörffer per gefühlvollem heber kurz darauf nickte selke dompé flanke sogar klingelte ulm schlussmann thiede verdanken königsdörffers schlenzer stelle wäre ende ersten hälfte ulm sicht schon bitter genug begann zweite durchgang sicht spatzen äußerst bitter harmlose dompé hereingabe rutschte armen thiede prallte ball füße strompf mehr ausweichen konnte eigene netz traf hsv zog zurück lauerte konter reis selke zwei minuten darauf klingelte erneut königsdörffer aufzuhalten sprint mittellinie behielt metern ruhe ball linken eck unterzubringen ulm gab dressel guten volley machte viele fehler davon bestrafte beinahe kurz zuvor eingewechselte glatzel ulm ball mehr rein röser verfehlte tor stattdessen machte hsv sogar halbe dutzend voll elfadli drückte flache hereingabe dompé linie var überprüfte abseitsstellung treffer zählte abonniert kanal video mehr verpasst folgt social media kanälen instagram facebook twitter tiktok angebote kicker app ios android website kicker esport",
          "trend này làm sao thiếu tui được camera nhii",
          "mind face",
          "oh no via schrieber",
          "weight love like new version",
          "edit breaking seeing glimpse future via responses realized eventually wreck us thank boyfriend tons food restrictions picky general basically eat chicken fingers grilled cheese mac cheese pad thai ive never seen eat vegetable started dating months ago love eat everything laid back know plan entire day around finding food eat top listening complain things even restaurant chicken fingers mac cheese get home dont want hear im vacation aita feel bad",
          "time ukulele",
          "max ping",
          "stop falling people fast",
          "subscribe miss next",
          "kocham być kobietą",
          "michael x jonas abchecken icon league team fokus eagles folgt snapchat instagram instagram acc twitch twitter delay sports youtube kanal youtube kanal youtube gaming kanal modemarke instagram shop vitamin wasser instagram verein delay sports instagram mitglied abonniert fokus fokus instagram fokus twitter fokus youtube sämtliche gekennzeichneten links stellen werbung dar",
          "allaha şükür",
          "account khan official",
          "dc",
          "im professional cleaner",
          "hallo chef",
          "horse back pain",
          "elite powerlifter anatoly use kg mop pretended cleaner gym",
          "sylvester stallone training",
          "mai sogenannten tag sieges legte russische botschafter sergej netschajew kranz sowjetischen ehrenmal berliner treptower park nieder etwa menschen versammelten gedenkveranstaltung darunter mitglieder nachtwölfe ehemalige ddr bürger vertreter russischer organisationen sowie ukrainische aktivisten stimmung angespannt blieb weitgehend friedlich polizei dolmetschern großaufgebot ort russische sowjetische symbole größtenteils untersagt offizieller vertreter berliner senats anwesend mehr video mehr ____ findest x facebook instagram linkedin telegram newsletter ____ berliner zeitung berliner berlinern unabhängige nachrichten hintergründe berlin welt",
          "lunch box videos back",
          "urgent please help us retrieve secret stash live sainsbury may st details senior producer abygail hobday visual lead ieuan thomas lead editor mikey lamb",
          "get chest cause feel bit bad worked well want stop live second floor far neighbors awesome even made friends weeks ago sweet elderly downstairs neighbors moved days ago someone new moved work long hours met person yet felt presence bass powerful shakes floor boards walls reminds stayed hotel room bar lot figured useless trying talk good neighbors introduce bass loud gives migraine like cops land lords calling day living planet bass thought idea unit floor plan unit even fan placed neighbor starts playing music stand directly fan focus body wight big toe tap floor beat music heavy woman pounds body weight focused directly fan makes fan shake beat music fan shakes enough stops music stop tapping start music tap repeat pattern minutes music stops together heard confusion upset music shaking fan complained phone upset listen music cause causes fan rock scared fan fall ceiling makes awful noise toe tapping every time music loud tap stops neighbor gets confused turns music care plays music lower volume plays loud home love button need music stop",
          "know might sound like overthinking wondering early humans constantly surrounded predators natural dangers secure shelters modern comforts survive long enough evolve sleep cycle basically knocks us third day people needed less sleep better survival advantage something deep sleep made us better long term seems weird evolution would favor species go unconscious hours every night stay sane living rent free head enlighten reddit",
          "tinfoil",
          "tut mir leid chef cutebaby",
          "every woman ever dared take space one",
          "future roborock saros z robot vacuum mop robotic hands",
          "welcome life",
          "welcome thanos world",
          "adac streamen sdp tour tickets tream tour tickets album vorbestellen limitiertes adac bundle konzept marvin ströter sdp regie kamera edit marvin ströter nix verpassen wollt folgt sdp instagram tiktok youtube spotify facebook musikproduktion beatzarre b case band thilo brandt benedikt sturm nina steinert sprecher matthias hoff produktion selina schmucker wevame international slu assistenz b roll celina rabanus assistenz making of anil kumar assistenz jannik schmitt lasse kuzaj joey prahl melissa opitz aufnahmeleitung lara riesterer koordination statisten jordan fischer emily aue valerijan maljm jonathan schwarzberg kamerakran cinorama marc hennicke ari warias uwe meier pyro forca gmbh robin hanke lena umann robert krause constantin röhner stuntteam patrick richter stefan langel oliver fritsche polizei berlin city cops sandra rusicke kerstin scholz gbr kerstin tanja hecke mario franczak patrick falkenau feuerwehr patrick helbing gpds german protect defense service gmbh danke detlef mottschall taxi ettie abschleppdienst kfz isi knut muderack team eisbus weiteren dank senatsverwaltung mobilität verkehr klimaschutz umwelt landes berlin tream thilo bene nina fans familie dahlke jessica blochowicz larissa jentsch augusto lima marvin ratanachu ingo kern karin mühlhoff all wacht rennwanz gmbh autoverwertung berk gmbh autoservice kunert gmbh büttner ingenieurgesellschaft verkehrstechnik mbh casa michelangelo domino s plan m gmbh pps berlin security service gmbh rewe südwestkorso wupperwerft gmbh toiletten toi toi dixi pickup moe jaksch jan kubkowski vlogging tream bts marco nikolaus",
          "powerful countrys supported india",
          "shake maxxx",
          "favourite glute exercises transformed body last year outfits use code sienna",
          "looks like much fun",
          "days till aussies",
          "part femme sous silence",
          "rosé messy f movie download stream pre order f album june rosie first studio album rosé download stream rosé store exclusive rosie vinyl cd available follow rosé lyrics tangled sheets alive barely breathe arms around feels like drowning reach something keep bad could really baby let get messy let get way undone come undress like never touched baby obsessed replica maybe messy messy messy know really love want complicated give hell worst party screaming hate bad could really hurt tonight let burn baby let get messy let get way undone come undress like never touched baby obsessed replica maybe messy messy messy know really love love pulling back running door saying words makes want second chance hearts floor guess love baby let get messy let way undone come undress like never touched baby obsessed replica maybe messy messy messy know really love love know really love love",
          "leg it go sommerurlauber",
          "disney characters filter try",
          "bronny first career pt came front travis scott via",
          "presented ebay tequila met gala celebrates costume institute new exhibition superfine tailoring black style singer actor teyana taylor actor producer la la anthony actor comedian ego nwodim host year livestream",
          "back gf",
          "max eberl verrät spieler fc bayern fall registrieren",
          "relatable scheiß",
          "antwort",
          "admire",
          "whos kicking wrong leg",
          "every single outfit blake lively wore simple favor tags",
          "choisis femme",
          "make cutest pop flower gift card mom",
          "blue got second trailer finally means time offer exclusive flair everyone next hours trailer og need comment bold receive flair keep mind another exclusive flair like first trailer og flair claiming overwrite flair able change back flair change able reapply",
          "welcome baby podcast",
          "längtar efter att få visa er alla möbler sen också ååååååå omg kan inte fatta att jag snart flyttar",
          "oubliez pas",
          "t e bob esponja en gitano",
          "outrageous",
          "builds insane go try new feastables birthday cake batter bar available walmart eleven kroger albertsons locations across america subscribe bad luck new merch join discord server chance compete future minecraft challenges check viewstats questions inquiries regarding video please reach chucky thanks uplift desk desks check follow kick facebook twitter instagram",
          "miss teen trans thailand",
          "took revenge humiliation true story simon claw birth",
          "kg selunde gehungert esse sogar mehr damals verrückt",
          "might perfect height via satincali ig",
          "när han började sjunga direkt",
          "call duty modern warfare clean house mission gameplay",
          "bron funny",
          "minutes full face make summarised minutes enjoy",
          "internet kinder kindheit genommen",
          "russia weak strong",
          "rank without knowing next",
          "kill meeee",
          "duo wurde geopfert brainrot gedeihen",
          "brotmesser niemals dreckig",
          "part",
          "peace",
          "milano viale monte ceneri",
          "microwave srace",
          "ihr ernst",
          "see run away",
          "xingxing obediently wait cucumber peeled",
          "f live fashion week sat",
          "зеленский",
          "best technology easy life u advanced mopping system sink helps clean floor automatically start cleaning end inventing new plumbing system needs mop gravity job automatic water dispenser deep floor cleaning patent pending waste time bucket create waterfall",
          "die smile relaxing edition",
          "unfreez account khan official",
          "brbrpatapim dj",
          "red carpet makes every event special bull racing",
          "zombie escape raining situation bad much food left car next",
          "iphone",
          "going hag drag",
          "proof skinwalkers caught camera",
          "benx shop benx bücher ¹ podcast benx whatsapp gruppe benx instagram tiktok fortnite creator code benson roblox creator code benx geschäftliche anfragen benx ¹ gekennzeichneten links stellen werbung dar",
          "best fast food jolly boys new merch get cookbook additional cookbook options stores international etc follow instagram tik tok twitter facebook",
          "egg fell taba drying",
          "erkenne albanerin",
          "ha nem hát nem",
          "γιώργος σφαίρες καβάλα η πιο τρελή εισαγωγή που θα δεις",
          "kinderbande festgenommen wien",
          "ready roll wheelchair driving videos posted",
          "swag thug life savage respect sigma rizz aura",
          "lightning",
          "like scares",
          "unbelievable bottles game",
          "story around torontonians perspectives drake vs kendrick beefs would like small interview tabloid writers offer insight pls pm anyone know volunteer certainly zoom well",
          "always count twitch chat streaming live twitch full stream recording edited mckl nd channel twitter dugdug latest uploads dougdoug challenges popular videos dougdoug doug sentient bell pepper hired fbi crack gaming challenges also talk things food celinedion",
          "befreie papierkram lade clark app runter sichere code simpli clark gutscheine wert euro ersten drei hochgeladenen versicherungen werbung unglaubliche jagd architekten holocaust geht unfassbar episode rattenlinie checkt unfassbar ab spotify apple podcasts amazon music rss feed danke patrons simplicissimus simpli instagram simplicissimusyt simpli tiktok simplicissimus quellen musik artlist gilad benamram fallen ck martin world burn jimmy svensson the darkest days out of flux surrendered yotam agam qing long julian cassia when the joke gets heavy delnova discovery nick kelly dark mysteries lens distortion all the more notorious desert vehicle preparations monogram no percussion beneath the doubt from the shadows research inversion no percussion max q no sfx high percussion weight of greatness no melody overcoming no melody chords underground mythology underscore epidemic sounds show them who you are ruiqi zhao coincidences magnus ludvigsson guustavv call me back _____ schön verständlich kritisch fundiert essays fragen nie oft gestellt hast",
          "voici autre sujet fais souvent girafe adoré faire originale vendue disponible impression x pouces site",
          "stereo love subway zyzz",
          "werbung code heyaaron finanzguru plus monate kostenlos genutzt gilt neukund innen gehts us cops insta youtube fortsetzung folgt werbung aaron shop kiosk folge rambazamba instagram facebook",
          "leo xiv erhält unmittelbar wahl applaus kardinäle sixtinischen kapelle",
          "heinz rankt essen",
          "στο άμπου ντάμπι θα ρθω cedi osman said full video available club",
          "sga wild sequence lu dort",
          "breaking india formally modify rules engagement pakistan future act terror formally considered act war india response aligned india declaring future terrorist attack traced pakistan treated security diplomatic issue rather act war means restraint solely diplomatic responses india may treat incidents open acts aggression pakistani state years finally",
          "bhaii iaf press confo roast hi kre jaa rhe h pakistan forces ko proof bhi dikha diye honestly didnt expect extra high level damages done seeing shocked ki bhaii inhone gaand hi tod k haanth dedi thi doubt ceasefire k liye us ke paas kon gaya gg iaf jai hind",
          "stay schlau",
          "think bad idea",
          "joshua kimmich gewinn meisterschaft mikrofon",
          "walked alpha wolf gig crowd killing especially egregious stranger moshpits going metal punk hardcore gigs years seen sorts chaos pits fine part scene get people get carried away emotion wan na cut loose fun right guys malevolence came support alpha wolf crowd killing wankers came party second first song started dickheads swinging windmill fists body slamming everybody target pretty well built dudes safely swinging anybody smaller naturally entire crowd pulls back make space dickheads entire floor everybody else cowers periphery absorbed evading punches kicks even watch band paid dickheads getting bored swinging specifically target perimeter punches body slams young girl gets body slammed hard boyfriend stands front pushes crowdkiller away fuckwit doubles body slams big small anybody security watches passively uncaring suddenly guy foot taller flies purpose despite nowhere mosh purposely body slams elbows spilling drink despite clearly wanting part bashes third time give hard right hook rib cage limps away cry friends recovered storms starts screaming face ever gig okay getting punched etc try explain quietly watching music excuse repeatedly assault like spends rest next song abusing like victim sets find security punching countless people crowd spilling drinks spouting verbal abuse decides victim tries get security throw crowd killer pussy coward second somebody stands cry like bitches security useless tits bull wanders right past sunset walk demand refund tour shirt bought drive home without even watching main act drove hours see fuck dont support shitty scene fuck malevolence fuck alpha wolf fuck hardcore dance wankers kind scene promoting keep music keep money close eyes swing haymakers wife call dancing still assault assault gig okay dozen wankers ruin gig thousand people dickheads need treated like pariahs fuckwits shown shit acceptable end rant edit calling cunt refunding shirt think would want wear tour shirt represents shittiest show ever furthermore would support band let shit go unchecked clearly care fans care ps post upvotes vs dozen calling liar pussy think please majority people support crowdkilling matter cool cringy vegan incels think fuck die please",
          "válasz részére",
          "lil sis",
          "garnier lieb plus présence physique hier paris vrai succès",
          "old soul",
          "love youuuu",
          "wäre russland krieg nato beginnen",
          "get exclusive nordvpn deal months extra risk free nord day money back guarantee limited edition strange matter pin dropped glowing limited probably dangerous available hours sources reading jellyfish power tokyo would happen rained bananas day taking two absurd brilliant questions answer real science channels german spanish french portuguese arabic hindi japanese korean support us make living would pleasure support us get products designed join patreon bird army discussions social media instagram tiktok reddit discord twitter bluesky facebook newsletter voice kurzgesagt voice steve taylor music minutes kurzgesagt soundtracks epic mountain spotify soundcloud bandcamp youtube facebook soundtrack video soundcloud bandcamp want help us caption video please send subtitles subtitle find info subtitle files work youtube thank patreon bird army many thanks wonderful patreons support us every month made video possible nicolas souilah jan ihyx engbert blaauw justin ward garza luke schnipper ash lee lubomir hanulik dirty talk podcast danny karapetian c hill penny leigh carlson michalina ślemp rocky sonia blair benjamin ben david william duck nick elvis verteiron",
          "dumb cop messes worng fbi agent",
          "inverser mdr",
          "fehlt",
          "chapter ronja source status official release offline tcbscans website tcbonepiecechapters dot com online manga shelf discord discord chapter official release may please discuss manga theory discussion post post removed h release please also remember put chapter number title future post talking chapter",
          "getting ready hour red eye flight",
          "steph forget via",
          "cliiimb clouds build skybase available soon streaming platforms credits songwriting audio track vocals visuals indawgnito original somewhere know keane video sing funny minecraft parody keane somewhere know indawgnito begins building life along pet wolf plains one night griefer comes ruin fun base ruined feels option left hide away clouds good lyrics built base plains made potato farm grew sugarcane tamed wolf watched grow lived happy alone one day griefer came lit house fire dog went flames run took diamond gear guess start somewhere far away sailed across open sea explored caverns endless ravines caves built home hid away encased stone thought safe think somebody griefed base end returned nothing left behind got ta build base one could ever find climb clouds make skybase nobody ever finding base palace sky king way safe skybase skybase fool know creepers spawn light levels low felt blast fell floor guess living skybase anymore okay build another skybase time put lights base never leave home finally safe skybase current followers k",
          "head hurts ib",
          "thailändische süßigkeiten gegessen extrem ekelhaft julias video julia vs joey instagram geschäftliche anfragen joey",
          "creator code shiina twitter business email shiinabr contact part creator code support creator program shiina shiinabr partnered epic games",
          "ballert lautlos live heute berlin fritz session",
          "mini",
          "ești un șofer de camion mândru și cu simțul umorului atunci acest sticker auto este perfect pentru tine mein lkw mein problem un sticker auto amuzant și autoironic perfect pentru arăta că ești un șofer de camion cu experiență și că știi cum să faci față provocărilor de pe drum cumpără acum de pe www stickershopromania com",
          "together",
          "bye boys woche frauen power taff",
          "pupici consensuali",
          "iconic parismatch gala fr",
          "warum junge zseine spielzeuge verkauf",
          "valverde assist",
          "results",
          "since bonnie blue meet jeet time brought barely legal julia",
          "sobbing for us we did it we did it",
          "cheated copy paste minecraft subscribe join cyborg army products channels bionic follow pls tiktok twitter instagram discord editor",
          "ώρες αργότερα λολα",
          "walking much aura part",
          "dc",
          "dc",
          "india pakistan war kashmir border firing",
          "pressekonferenz heimspiel hamburger sv präsentiert krombacher abonniert mehr videos facebook instagram bluesky tiktok whatsapp kanal website fanshop ticketshop",
          "mix",
          "physics overrated",
          "we be burnin",
          "soldier son part",
          "hommes costard",
          "im going co springs shrek rave tn u see say hi",
          "tore spielen jahr",
          "rodrygo touch nutmeg",
          "true story man every day get comments get get sorry creepy show",
          "we reached kg weightloss",
          "support creator code hypex",
          "favorite",
          "diy mother day pop flower card",
          "best reflex mohamed",
          "original gesehen fand soo cool omg süße maus gefreut cr",
          "malibu summer spritz cl malibu cl lemon juice cl pineapple juice cl blue curaçao sirup prosecco",
          "vibe house",
          "calm beach day wave took",
          "astro 꿈속의 문 moon memory moon viviz 비비지 민혁 기현 monsta x 호시 원우 민규 도겸 승관 seventeen hello gloom 라키 최유정 김도연 찬희 sf 방찬 stray kids 문수아 billlie twitter facebook instagram weibo fancafe",
          "want massive dumptruck",
          "lamine yamal coming yamal",
          "temps",
          "los gehts",
          "need get pk humble bigger shorts",
          "beautiful places georgia",
          "nein seid hot dafür ig",
          "luciano unlock hier streamen luciano tour tickets luciano instagram luciano tiktok credits unlock produced madein k sample hawky pirate text luciano bozza madein k hawky pirate directed jakub rzucidlo vision direction luciano produced helena michl mgmt javier mgmt nader projectmanagement miriam art direction fotograf niklas kamp videograf jan kilian fotografin yasmin nickel production melda yerlikaya production joe onde dop felix lang ac max rabus art department maximilian hirsch sfx patrick richter sfx rene wustrack styling suzi haile edit grading jakub rzucidlo vfx ole richter special thanks heike uber arena energy trust liane krematorium allowing us starveredelung car foils wonderful people berlin",
          "trendingsound eilish",
          "get ready con tu bestfriend",
          "jajajajja qué",
          "cant cool kid way",
          "kind world",
          "anyone north georgia feel earthquake",
          "like sunset like romance like",
          "un pressing bien gourmand",
          "yes quake fun stuff huh nice p wave got little distant good jolt _ _ _ _ _ _ _ _ _ _ _ _ _ _",
          "one best toilets direct food fish well fish love",
          "meathead original replay",
          "russian beats go crazy",
          "hungry",
          "cut apple watch iphone airpods sleeping make new handcrafted leather band cases",
          "first public appearance ferrari driver",
          "best reactions",
          "bangladesh",
          "listen maroon ft lisa single priceless follow maroon instagram facebook twitter tiktok sign updates follow lisa instagram tiktok youtube www youtube com music video maroon lisa performing priceless interscope records",
          "l păcălit pamflet cont secundar",
          "zahide drama immer schlimmer",
          "met kushner airport today playing piano waiting flight suddenly girl asked play daylight david kushner never expected david would join beautiful coincidence",
          "divas",
          "chị thích chị nói z đó",
          "grounded",
          "tried person drinks black coffee looks cool grown every time take sip tastes like hot dirt people actually enjoy get used time trick making taste better suffer like",
          "lieb elif liked y l i v a",
          "wan na rock",
          "bewerte glow ups zuschauern",
          "chat real",
          "seatbelt signs",
          "arten mensch",
          "one",
          "reese telling coach challenge",
          "bambino tralalelo tralala",
          "best dressed met gala part",
          "blood fs",
          "bagel sandwich ei käse salami schnell einfach mega lecker knuspriger bagel geschmolzener käse herzhaftes ei frühstücks sandwich echter gamechanger perfekt schnellen start tag herzhafter snack rezept blog www foodwerk blog de speichere video probiere wer liebt bagels genauso",
          "vibe modo on",
          "alphonso davies filth",
          "txt 투모로우바이투게더 love language official mv credits production studio saccharin director kwon yongsoo st ad wonsik nd ad kwon jungmin pd song junghwan editor gwon heegyeong assistant editor lee seunghui day production service company wassub production executive producer lee sub tommy producer gwak somang som director photography ihm chihoon flamingo st kim kwangmo nd ho jeongpil gaffer kwon hoonho hh jimmy jib operator kim youngjung st choi hojun nd bae euntaek spain production service twenty four seven executive producer robert lopez producer alejandro lopez prod manager dani tarifa prod coordinator cristina barrios production assistant teo rosales unit manager enrico trevisan location manager kiko gonzalez location assistant javi guti driver jaume bosch milan mitrovic ivan molina jupp escola guillamue serret adrian garcia alba delgada ganhi haddad virginia lancaster dani villa ramon cuesta day_ director photography ihm chihoon flamingo st kim kwangmo nd ho jeongpil data manager jung jaehoon rd assistant camera choi yunjong gaffer kwon hoonho hh st kim daejin nd kim taeyoung nd kang byeingu kim minseo rd han jaeyoung nam teahyun shin dongyoon art director kim minji jang sejin muse asst art director jeon yujin assistant shim hyunjoon jeong gyuwon lee hoonjae lee jeongjun post production clean studio saccharin di lucid colour colorist kwak haewon crew park sujeong kim daseul jo dongwo park hyewon kim seunghui producer kim onew di manager seo yujin location zone system connect tomorrow x together bighit music rights reserved selectively video unauthorized reproduction violation applicable laws manufactured bighit music seoul korea",
          "reaction seeing swing first time",
          "brutually shocked",
          "version rich",
          "pilots performances stage club private parties write direct",
          "lots scans indeed",
          "mars",
          "real",
          "bro wanted cool even via",
          "amsterdam",
          "part",
          "watch buy fight dazn dazn com youtube may powered city wolves subscribe youtube channel subscribe dazn x series youtube channel sign dazn follow dazn boxing social media twitter instagram facebook dazn boxing show dazn rewind",
          "laufband rad tour zarbex sicht danke trymacs skylinetv marc eggers ronny berger max schradin paul frege adi totoro nici dabei zugeschaut",
          "buldak sommerrollen",
          "favourite fish steve character",
          "vayáis gibraltar",
          "normaler tag beim",
          "youtube raccoon asmr",
          "consiglio",
          "signal",
          "real aura",
          "academy σας περιμένουμε και στα υπόλοιπα καταστήματα μας που βρίσκονται στο παγκράτι φιλολάου ζωγράφου λεωφόρο παπάγου ιλίσια γρηγορίου αυξεντίου και αμπελόκηπους λαρίσης",
          "ok baby relax facts",
          "bobi got rookie treatment via jalenduren ig",
          "stěhování jasné",
          "talent without hard work nothing",
          "evil",
          "kurz müll rausbringen",
          "mummy pig big news share",
          "cleaning satisfying dirty flooded carpet",
          "fc served dramatic end anfield",
          "setting easter mass",
          "obviously overlays day day used overlays use u wanted use well",
          "clip led fangs pulse crimson let smile rewrite rules midnight",
          "poate follow",
          "dads reaction rocket ball golf guys golf",
          "reading game manual buying game way home",
          "cooking gaitlyn rae",
          "big shout man romo stalking running steve def big highlight boys sucks little one sick get chance meet earth man black",
          "gta radio ist crazy",
          "last save",
          "bro might get drafted",
          "tyle przygotowań na marne",
          "missy relationship george",
          "love try",
          "holt collector s box code ntk ntk live hauptkanal discord instagram twitter coolsten klamotten",
          "love",
          "santos x shirin david wer liebt dich jetzt hier streamen nico santos folgen instagram facebook tiktok snapchat shirin david folgen instagram youtube tiktok director x dop x editor x cc x drone shaho casado nd cam anton rd cam ozzy öksüz steadycam operator assistant habib focus puller lars leier live bilder andré stern live video director kamera ade moore harvey styles stu da cameraman hurst stuart thatcher nicholas whitehead live recording arris tim brennan shading fx support julian trunke mostmagic",
          "mini morgan freeman coming",
          "ib dezz",
          "play favorite",
          "checkt lyora muttertags rabatte ab gaming kanal icon league team fokus eagles folgt snapchat instagram instagram acc twitch twitter delay sports youtube kanal youtube kanal modemarke instagram shop vitamin wasser instagram verein delay sports instagram mitglied abonniert fokus fokus instagram fokus twitter fokus youtube sämtliche gekennzeichneten links stellen werbung dar",
          "real trend",
          "dc love dc",
          "going",
          "fa altro effetto",
          "rolled see got hit surprise stitch scanning tickets theater little guy way cute get one warehouse please disney make happen dm using content permission use without",
          "lirilí larilá arrested",
          "helmet bikini pig",
          "tür habibi",
          "real aura",
          "reaction people gym calisthenics athlete",
          "æneeee",
          "lisa debut album alter ego listen shop vinyl cds photobooks follow lisa follow wearelloud lyrics hair feeling like rapunzel keep doggies motherfuckin muzzle one queen jungle one queen one window shop big spend got message click send lie got sixth sense feel energy himalayan incense living lavish still young spending shit til go dumb flashing gold teeth damn day walk hear say money motherfuckin money bitch tell love bitch tell money motherfuckin money bitch tell love bitch tell hair feeling like rapunzel hair feelin hair hair feeling like rapunzel hair feelin hair need time got ta meditate level level bitch levitate pocket got something ever make generous maybe taste anyway got ta go cause running late everyday make bag bitch got ta hate hour two life baby living lavish still young spending shit til go dumb flashing gold teeth damn day walk hear say money motherfucking money bitch tell love bitch tell money motherfucking money bitch tell love bitch tell hair feeling like rapunzel hair feelin hair hair feeling like rapunzel hair feelin hair hair feeling like rapunzel hair feelin hair hair feeling like rapunzel hair feelin hair hair feeling like rapunzel",
          "think could better",
          "expecting game called senior splashin players eliminate players water videos like taken seriously",
          "zakladac apke",
          "living",
          "schade erfolgreich dabei yilmaz",
          "hallo chef komme arbeit",
          "broke sound barrier",
          "rent free head dc gone crazy official",
          "pizza is just better",
          "jump distance though",
          "instant mood change",
          "said backyard worse accepted challenge",
          "partner robotics heading bauma germany april showcase floor tile paving robot p booth b",
          "trick creators",
          "carlos alex williams stun blue williams racing",
          "moments showww",
          "la întrebarea din video încă nu un răspuns de fapt intuiesc verificare mai amănunțită necesită mai mult efort decât crede într un slogan de marketing sunt antisistem repetat ori de câte ori e posibil chiar dacă demonstrat contrariul însă această verificare este de fapt cea mai bună investiție posibilă definește cine ne conduce cu ce fel de oameni ne înconjurăm și implicit ce valori reprezentăm sunt aspecte care funcționează ca aerul ne dorim un aer curat ca să trăim cât mai mult și cât mai bine la fel și politica",
          "follow",
          "day finally prep shop code order download macrofactor app code week free trial shop gymshark code get cookbook instagram became pro bodybuilder",
          "brbrpatapim dj",
          "incredible rap lose eminem allie sherlock cover",
          "mir egal",
          "see people love",
          "go check kinda blowing rn size lmk guys think view comment likes appreciated im really trying make something",
          "nomine cucinae et thermomixi et vapori sancti laude youtube instagram tiktok website abonnier stalke laude instagram twitter facebook squad pesh ramin ralph schiller sandro liman marcus nesseler miriam dane alina lück maike frank lola koch vincent hahnen isabella ott",
          "actors famous roles fashion runway part harrison ford indiana jones nicolas cage ghost rider vin diesel groot johnny depp jack sparrow mel gibson mad max tom hanks forrest gump sylvester stallone dredd smith agent j mib ewan mcgregor obi wan brad pitt fight club tyler durden christopher reeve superman peter weller robocop",
          "nose piercingyou know healing process tricky worked best experience bumps infections share best aftercare tips comments",
          "a plus wifi où ping augmente",
          "best falling moments",
          "augen träumen herzen sehen deluxe box vorbestellen geboren leben stream download kontra k kontra k app _______ music produced by beatzarre djorkaeff mix by beatzarre master by yunus kingsize cimen lyrics by maximilian diehn vincent stein konstantin scherer thilo brandt graf music by maximilian diehn vincent stein konstantin scherer thilo brandt graf henning verlage _______ video a letzte wölfe production directed by kontra k dop till beckert focus puller arseny preobrazhensky producer maximilian diehn andy hoffmann post production letzte wölfe gmbh edit fatmir dolci color grading fatmir dolci lisa schwebel kostümdesign marteinn óli and stefanía katrín landowners at stðlagil canyon stuðlagil bríet irma make up halldór olgeirsson farmer at bjarnastadir advice on getting to dettifoss gunnar óli fixer and contact manager special thanks to dronefly and kukl maggi ómars sound specialist _______ live sommer tickets erhältlich mönchengladbach sparkassenpark emmendingen schlossplatz iem music braunschweig volksbank brawo bühne bochum zeltfestival ruhr _______ augen träumen herzen sehen tour tickets erhältlich dortmund westfalenhalle zusatzshow hamburg barclays arena hamburg barclays arena hannover zag arena wien stadthalle münchen olympiahalle frankfurt main festhalle frankfurt main festhalle berlin uber arena zusatzshow berlin uber arena berlin uber arena berlin uber arena sold out köln lanxess arena sold out köln lanxess arena stuttgart hanns martin schleyer halle mannheim sap arena zusatzshow zürich hallenstadion _______ youtube instagram tiktok facebook spotify amazon music apple music homepage _______ loyal athletics shop youtube",
          "vita",
          "ses på sri lanka til sommer lars",
          "pure magic",
          "gta",
          "znač rychlochodce",
          "funk do brasil",
          "use code wendover link get exclusive annual incogni plan youtube instagram twitter sponsorship enquiries wendover emails sam reddit writing sam denby tristan purdy christine benedetti editing alexander williard animation austin glass derek brown kate ermolenko gabriel ferreras sara stoltman sound manni simon dony bullen thumbnail simon buckmaster airline network visualizations courtesy used permission flightconnections com references",
          "worry bro happens even best us",
          "possible learn power perfect sunday morning energy",
          "héritier tant attendu",
          "clearly still hungry",
          "letzte",
          "sorry funny anyone wants donate clothes appreciate x",
          "signoraaaa limoniii signoraaaa follow italian content",
          "king drama",
          "shake body",
          "rockstar games",
          "zach choi",
          "justiceforlorenz",
          "satisfying cc pedro gonzales tedeev",
          "neue freundin vidie gezeigten aktivitäten wurden professionellen schauspielern inszeniert entsprechen realität wurde niemand gemobbt belästigt",
          "nom prénom grosse alerte",
          "gab nie geschichte bundesrepublik cdu chef merz ersten wahlgang kanzlerwahl mehrheit erreicht erhielt geheimer abstimmung stimmen sechs weniger benötigt mehr informationen thema aktuellen informationen weitere nachrichten tagesschau livestream sendungen livestreams dokumentation reportagen ard mediathek",
          "oben",
          "beautiful bride looking stunning",
          "imagine redbull x powerade night",
          "fear ve gone too far",
          "sweet boy",
          "rabatt code tim olakala mci fitness app letztes video cc kollektion ausgeschlossen werbung",
          "obtenir canapé rêves meilleur prix client lâche rien négociation grâce conseils viricel immobilier combien réussira économiser streaming",
          "angeles",
          "remember",
          "balloon",
          "rx",
          "motorola",
          "vibes vibes",
          "thinking planning remove aurangzeb tomb lead result attack kashmir maybe due attack pahalgam issue rised bjp government raised tension hindu muslim",
          "comment next menu",
          "th minute chaos",
          "watch emotional moment russian president vladimir putin chinese president xi jinping world leaders shed tears solemn flower laying ceremony eternal flame moscow held part victory day commemorations ceremony honored memory soviet soldiers fell great patriotic war leaders stood silence visibly moved paid tribute tomb unknown soldier near kremlin wall victory day marks th anniversary defeat nazi germany despite global tensions around heads state dignitaries joined putin powerful act remembrance showing unity grief sacrifices made world war ii",
          "lets danceeeee",
          "miren llego",
          "roses red violets blue third season xo kitty store",
          "yes fellas",
          "trendingsound trends",
          "pov first time using scissor k memes",
          "cutie",
          "love making lily bouquets insta flores_delicacys",
          "dexter meets talking cactus",
          "erstmal therapie",
          "bodybuilder öffentlichkeit",
          "ignore shoes lol feet hurt xxxx",
          "à k likes fait un épisode",
          "average day border looking zombies",
          "tutorial de la salsa",
          "nooooo fruttodrillooo",
          "alfred turn",
          "done second year row angry ginge gets end great ball miniminter",
          "good squid game friends brother team adamx brooskee ciara checkers corin colleen claudia davidbaronart dee helm denny devon dxmnduke eman fawnlouette flippmeister jrf kam leslie v pinkpapi rocketsockit tiffanyseng vijaylante willard yin zangeiti subscribe animations merch twitter instagram wan na send fanart send twitter instagram links music nintendo music beloved",
          "follow backup forgetting",
          "make smile l unik surprises radiohead",
          "pov tutu making good efforts",
          "eilish singing fix hit hard soft tour berlin germany",
          "back watch first official teaser trailer wednesday season part coming august th part coming september rd netflix watch netflix netflix netflix one world leading entertainment services million paid memberships countries enjoying tv series films games across wide variety genres languages members play pause resume watching much want anytime anywhere change plans time wednesday season official teaser trailer netflix",
          "yall would never see martey",
          "account khan official",
          "mögt ihr spaghetti carbonara",
          "try laugh",
          "take boyfriend chuck e cheese",
          "notification",
          "yamal",
          "gehts julia vs joey staffel joeys video amazon storefront podcast parfum werbung kalender werbung handcremes werbung stalk tiktok instagram vlogkanal twitter facebook snapchat juliabeautx firmen for companies juliabeautx verwendete musik epidemic sound kamera objektiv vlogkamera stativ studioleuchte falls weitere fragen anregungen hast kannst gerne kommentar lassen gefallen daumen hoch freuen gekennzeichneten links affiliate links partnerprogramm amazon rewardstyle gehören solltet links kaufen bekomme vermittlungsprovision dafür natürlich dafür mehr bezahlen müsst habt tollen tag macht schönsten julia",
          "dami tu tutorial",
          "staying spain couple days reference us day one first things noticed sheer amount attractive people men women old young bald hair staggering amount people come across stunning model esque obviously us countless gorgeous people however feels like rare sighting compared conventionally attractive seems norm making something culture makes people hot lmao",
          "new nailsssss",
          "hallo chef problem",
          "την πέτυχα και δεν ακούω κουβέντα",
          "unwind epic river snow casting rod heavy setup",
          "tokyo julien donné mission rompre rigueur japonaise apporter peu culture française bar japon secrets pays fascine dimanche streaming",
          "finden dm rossmann",
          "antwort",
          "hast lachen geschafft",
          "know people disabilities really need use cart play golf think vast majority golfers experience would better less carts courses think",
          "real fan via duciswild x",
          "control",
          "baby monkey moon able control car trouble",
          "hoe ga je om met adhd en prikkels",
          "nutmeg rush big stage yamal",
          "k followers",
          "karen want lift",
          "fell love cake",
          "welcome danke",
          "funniest videos animals найсмішніші відео тварин",
          "avocado fell taba drying",
          "jetzt yakary taboo streamen jetzt tickets für die bubu tour sichern musik prozente mix prozente master lex barkey instagram tiktok production company iaw media director kevin jerome concept kevin stemberger evelyna hein executive producer philipp bierschenk production assistent emily endler dop kevin jerome gimbal operator maximilian milosevic crane operator til gundlach gaffer chris bodenstein make set design evelyna hein edit color kevin jerome vfx ole richter andy sanda drive luis villanueva drive thomas gellert",
          "chainsaw harmed video",
          "lock",
          "insta ahmad neu",
          "die talahons sind alt geworden",
          "dis shi da faint hearted",
          "válasz forever részére anya volt fiatal",
          "nommée pof merci donc pouvais détourner trend faire quelque chose ressemble encore plus fonds cette vidéo bien évidemment reversés association encore décidé laquelle hésitez donner noms commentaire si connaissez bon avoue mouillée laquelle nuque avant glaçons fondent vitesse rachel jouer",
          "voice",
          "msg court moved brunson tried plant foot",
          "our hot ones versus episode out now",
          "cute baby singing apt",
          "since flooded thousands posts articles trailer links broken abominable titles others youtube link scuffed thread used comprehensive detail everything rockstar released today thread keep updating information refresh every trailer official plot set vice city jason lucia always known deck stacked easy score goes wrong find darkest side sunniest place america middle conspiracy stretching across state leonida forced rely ever want make alive rockstar also released new info website detail characters starting two main protagonists jason lucia jason duval jason wants easy life things keep getting harder jason grew around grifters crooks stint army trying shake troubled teens found keys knows best working local drug runners might time try something new meeting lucia could best worst thing ever happen jason knows like turn right hard tell lucia caminos lucia father taught fight soon could walk life coming swinging ever since fighting family landed leonida penitentiary sheer luck got lucia learned lesson smart moves anything lucia wants good life mom dreamed since days liberty city instead half baked fantasies lucia prepared take matters hands cal hampton everything internet true jason friend fellow associate brian cal feels safest hanging home snooping coast guard comms beers private browser tabs open cal hampton psychopaths charge get used cal low tide america happy casual paranoia loves company friend jason bigger plans boobie ike heart jack hearts boobie local vice city legend acts like one transform time streets legitimate empire spanning real estate strip club recording studio boobie smiles time talk business club money pay studio drug money pay top quality cuts boobie might seem like partnership young aspiring music mogul dre quan raw records invested need hit dre quan priest raw records dre quan always hustler gangster even dealing streets make ends meet breaking music goal dancers like rs record hit djs gon na spinnin label signed real dimez dre quan days booking acts boobie strip club might numbered sets sights vice city scene real dimez viral videos viral hooks bae luxe roxy aka real dimez friends since high school girls savvy turn time shaking local dealers cold hard cash via spicy rap tracks relentless social media presence dimes club meet twin make dub one hit away fame early hit single local rapper dwnply took real dimez new heights five years whole lot trouble signed raw records hoping lightning strike twice raul bautista experience counts confidence charm cunning raul seasoned bank robber always hunt talent ready take risks bring biggest rewards life full surprises friend think wise remember professional adapts raul recklessness raises stakes every score sooner later crew double pull chips table brian heder nothing better mudslide sunset brian classic drug runner golden age smuggling keys still moving product boat yard third wife lori brian around long enough let others dirty work hauled much grass plane could make state leonida levitate looks like leonida beach bum moves like great white shark brian letting jason live rent free one properties long helps local shakedowns stops lori sangria info locations vice city everything excess long way vice city still sun fun capital america glamour hustle greed america captured single city neighborhood something offer pastel art deco hotels bright white sands ocean beach bustling panaderías little cuba bootleg brands tisha wocka flea market vc port cruise ship capital world grassrivers welcome wetlands untamable jewel leonida crown never know lies beneath surface primordial expanse gators may famous attraction far deadlier predators weirder discoveries among mangroves port gellhorn live hard leonida forgotten coast cheap motels shut attractions empty strip malls bring tourists back new economy popular vacation spot fueled malt liquor painkillers truck stop energy drinks jump dirt bike hold onto wallet ambrosia keeping leonida sweet battle health wealth leonida begins heart leonida american industry old school values still reign supreme whatever cost allied crystal sugar refinery provides jobs local biker gang provides almost everything else mount kalaga national park wild wild country room breathe state northern fringes national landmark state northern border mount kalaga offers prime hunting fishing road trails lush surrounding backwoods hillbilly mystics paranoid radicals live far prying eyes government coming may ps xbox series x pc release tbd",
          "blessed",
          "drip das neue icon getränk im handel 𝗝𝗘𝗧𝗭𝗧 𝗣𝗥𝗘𝗦𝗔𝗩𝗘𝗡 album scusa albozz dorian fsm pano ozan ssd cali dinaro ghetto arlinda kavo company mowgli minimum zehn hassuna salah si kokaina biggie oh mufasa 𝗜𝗖𝗢𝗡 𝗔𝗡𝗠𝗘𝗟𝗗𝗨𝗡𝗚 𝗜𝗖𝗢𝗡 𝗕𝗼𝘅 boxinhalt ltd backstage gewinnspiel vip pass für das live event boxinhalt exklusives icon trikot boxinhalt icon sampler weiteren exklusiven icon content findet ihr auf dem kanal von bzet 𝗞𝗔𝗣𝗜𝗧𝗘𝗟 𝗔𝗨𝗦𝗪𝗔𝗛𝗟 𝗗𝗜𝗘 𝗖𝗥𝗘𝗪 𝗩𝗢𝗡 𝗜𝗖𝗢𝗡 executive producer collin creative assistance emre bzet künstlermanagement vertrieb outfit design dreamhall design visual director bleron veliqi vb agency video director visual films reality director chaka rec post production blackcut audio director xandro mix mastering visual effects dj service heinsberg head security msp security organisationsleitung marco seegers organisation planung shanel chien produktionsassistent sarah jane chien editing team prathee pravi dima markus jano powered igroove jury xandro bzet emre immobillienberaterin nejla bicer mexreal fpv gimbal drone lukas gorgon copterflix beat producers zinatra maggaz spirit yung ares paior el rey cc danil alkan lnf skywalg sonnek tyme alex dehn mix mastering xandro camera team show benji berkan andy chris daniel paul paravis manuel camera team reality chaka zakriti moses sesa giovanni loti liam viejo ismael zakriti msp security marco security mcdoom tim data management alina audio praviz baloochi rafael rothemund audio live recording beatzeps pyrotechnics yani hair stylist berxicutzz set runners kathrin schendrik esma caliskan mahra coskun darja zargozi maxima emily gerdt miriam roman gina maria kaminski",
          "best",
          "leo instead robert",
          "chef problem",
          "joyn kostenlos full episodes bleibt auge trocken powervollen ballade all by myself céline dion geht neo finale berührt publikum gefühlvollen performance zuschauer innen tränen rühren sieg team wincent holen kanal abonnieren subscribe to the voice kids www youtube com empfohlen ab jahren recommended from age the voice kids dürfen jüngsten talente zeigen steckt dabei zählt stimme auftritts blind auditions coach sessel richtung publikums ausgerichtet sodass coaches sehen wer bühne steht talent team holen möchten drücken buzzer sänger sängerin runde falls mehrere coaches buzzern talent freie wahl blind auditions folgen knockouts jeweils talents drei gruppen unterteilt denen coach direkter konkurrenz überzeugen müssen wer abermals durchsetzt schafft ersehnten finals entscheidet letztendlich talent teams atemberaubenden stimme überzeugen the voice kids gewinnt mehr infos news the voice kids get more information geht s clips staffel click here to watch hihglights of season best ofs clips first looks blind auditions battles sing offs finals impressum",
          "bobrito bondito",
          "nom iness a vice",
          "luna mei isabelle jocson asian house malia powell deserve",
          "reaction people gym body control",
          "always remember us way",
          "meathead freestyle",
          "funny cute little goat",
          "tried making scrambled eggs rice either genius madness decide",
          "essence",
          "actrice connaître",
          "journey beginning new episode last us streaming max max max culture defining entertainment service every mood variety genres include favorite series movies iconic brands treasured franchises delivers irresistible stories every time reuniting life long favorites uncovering new ones discovered yet something every moment every feeling every iconic series award winning movies fresh originals family favorites featuring worlds harry potter dc universe hbo discover best entertainment every mood subscribe max get max follow max follow max youtube follow max instagram follow max tiktok follow max twitter follow max facebook",
          "best trio",
          "un gvvv",
          "sign letter j",
          "we re actors not dancers",
          "peltsi ja osmo osa isä peltsi ärsyttää osmoa",
          "morgenroutine wollt nächstes",
          "dream house look like mini bricks",
          "haja braço",
          "leraar schreeuwt voor de klas",
          "jf jf flying islamabad",
          "last one perfect",
          "oreo",
          "comes superhero comedy zoom plot comes halt protagonists go wendy spaceship knowledge second time peter hewitt directed film plug wendy first garfield",
          "tiramisu let make construction sized",
          "beluga lagoon the glen such a summer vibe banger",
          "shabbat shalom",
          "sigma girl янковская",
          "null hundert zwölf meter durften mal kurz ankommen let s go challenge wer holt punkt tafelberg __________________________________________ julia vs joey produktion itv studios germany gmbh moyn media gmbh funk __________________________________________ gehören funk lasst mal liebe youtube instagram tiktok website impressum funk netiquette",
          "courage mv",
          "widebody",
          "minecraft easy duo house ft mc",
          "poker face",
          "bondi lifeguard takes thief heart stopping chase",
          "tide war turning animation dafuqboom additional designs storyboard animation previs help music god complex death squad akira yamaoka screams dad additional particles spanish subtitles french subtitles kabyle action figures finally dark speakerman plungerman tv woman cameraman titan pack available major retailers including walmart target amazon skibiditoilet shop contact instagram com dafuqboomtv blugrayguy",
          "virgin wife",
          "spieglein spieglein jetzt hören spieglein spieglein hier streamen artist lune instagram tiktok spotify artist milano instagram tiktok spotify booking kontakt management info production conte fae august instagram instagram mix alex isaak instagram master lex barkey instagram ruh creative movie executive producer saskia eigner ruh creative director hüseyin bertinaxe yildirim producer ece ceyhun line producer fetih ceyhun production assistant furkan furuncu production assistant elenor ruckteschler ruh creative director photography marco bagnoli focus puller anıl aydın camera assistant özgür uçar dit mami gaffer mustafa aktaş best boy önder kadir lengir assistant okan çetinkaya assistant oguzhan civak assistant orhan demir set manager bahadır ekim set assistant berat alkan panther dolly operator ufuk ayvalı panther assistant burhan dalşık steadicam operator oktay okan çerçi steadicam assistant anıl erdoğan set photographer maruan el omami art director melis piyale art chief assistant batuhan akkaş art assistant öykü teplov art assistant murat bastatli ruh creative nd unit styling asuman zgi make artist gözde doğan make assistant damlanur vildan hıdır casting oğuz çetinkaya catering hakan catering edit hüseyin bertinaxe yildirim color grading christian mohr ruh creative vfx lotti roth ruh creative hair loni instagram styling dania instagram",
          "mivanitt kérem",
          "ups",
          "got emotional baby beyond proud",
          "back beautiful dessert shop la location aurora shimmering delicacies la",
          "meathead freestyle",
          "www echterblume de esn esn code alpha bestelle code alpha sichere maximalen rabatt kontakt info boss transformation mehr kollegah instagram schnitt animation instagram kamera instagram thumbnail instagram",
          "listen said love first said back shop new merch follow selena gomez instagram twitter facebook tiktok youtube mailing list follow benny blanco instagram twitter facebook tiktok youtube mailing list lyrics need arms around need feel touch feeling kind lonely really wan na talk baby tired waiting know need saving craving know left damn need right back call daddy cause know like go recharge battery come back make mama proud slippery tangled silk sheets come fulfill show miss talk use whole body cause scene let hear love loud alone got nothing except cologne doors unlocked music video selena gomez benny blanco performing talk smg music llc friends keep secrets exclusive license interscope records",
          "deep bro",
          "fade em",
          "oh look years old boy agt part",
          "unfreez account khan official",
          "sagt fotogen",
          "passenger princess be like",
          "mâncare preferata sotului meu",
          "every lady deserves flowers",
          "part",
          "bhai ja behan koi bhi pd le tho bta kya hai je reddit aur kase use kre isee tum se expectations hai ki sahi answers mile ge",
          "giuro così brutta solito",
          "quickly choose hiding spot hide seek rooms game",
          "omg wer erinnert peinlich haha hundeprofilbild tatsächlich tes",
          "glaube bock",
          "year met gala theme inspired met exhibit superfine tailoring black style dress code tailored take look best looks fashion biggest night serena williams sabrina carpenter shaboozey russell wilson ciara pharrell williams helen lasichanh nick jonas priyanka chopra jonas megan thee stallion miley cyrus lorde lizzo lupita nyong sydney sweeney shakira simone biles stevie wonder doechii demi moore coco jones bebe rexha angel reese angela bassett alicia keys swizz beatz ap rocky ava duvernay bry burrows jalen hurts gabrielle union wade dwyane wade gigi hadid hunter schafer jeremy pope joe burrow bad bunny zoe saldana zendaya usher jennifer goicoechea raymond tessa thompson suki waterhouse laurie cumbo bobby digi olisa pusha sarah snook sha carri richardson teyana taylor whoopi goldberg lewis hamilton alessandro michele lana del rey anna wintour diana ross gayle king heidi klum jeff goldblum keke palmer laura harrier nicole kidman brandon thomas lee pamela anderson savannah james patrick schwarzenegger adrien brody ayo edebiri cardi b fka twigs halle bailey kylie jenner nicki minaj regina king tyla chappell roan cynthia erivo colin kaepernick nessa diab colman domingo dua lipa halle berry kim kardashian stella mccartney mary j blige andré rihanna cbs news premier anchored streaming news service cbs news stations available free everyone access internet destination breaking news live events original reporting storytelling programs cbs news stations top anchors correspondents working locally nationally around globe available platforms across mobile desktop connected tvs free well cbsnews com paramount live countries subscribe cbs news youtube channel watch cbs news download cbs news app follow cbs news instagram like cbs news facebook follow cbs news x subscribe newsletters try paramount free video licensing inquiries contact licensing",
          "always seen american movies always found odd meet kitchen middle night get snack never heard seen anyone country",
          "geht los julia vs joey staffel abgefahrene challenges wirklich grenze bringen ja wirklich grenze vielleicht darüber hinaus freitag geht s los gibt s freitag uhr neue folge freuen reise __________________________________________ julia vs joey produktion itv studios germany gmbh moyn media gmbh funk __________________________________________ gehören funk lasst mal liebe youtube instagram tiktok website impressum funk netiquette",
          "sigma",
          "germany outside guys u find",
          "balloon really blow egg shell",
          "stay safe mc donald x",
          "hen party ready letssss goooo",
          "wiśnia nie",
          "baby monkey moon trouble car picnic",
          "can live",
          "cold palmer",
          "sound",
          "subscribe youtube channel subscribe dazn x series youtube channel sign dazn follow dazn boxing social media twitter instagram facebook dazn boxing show dazn rewind",
          "kicked beaten ending shocking",
          "mavericks infinite aura",
          "darkness looms limveld threatening essence world gather strength nightfarers nightlord must fall pre order follow elden ring x instagram facebook follow us web instagram twitter facebook tiktok",
          "top worst voice kids performances",
          "touch king hourse horse guards london",
          "abor tynna baller official music video pre order bittersüß baller deluxe bundle incl limited t shirt here buy tickets for bittersüß tour here watch video of baller remix here follow abor tynna instagram tiktok youtube spotify video production company bonaparte director anastasja black dop rowan biddiscombe production ep producer alexander stigler prod coordinator aratrika prod assistant efrén cascante jara st ad julia dymskaia nd ad david garbi runner alexandra koch crew stylist esteban pomar styling asst cleo heinrich designers wesley manners kabuk works studio jens schabbach krisztian berlin timo kurz hektor lilo heipke maria chany sunday morning hmu artist julia hahn hmu artist illiyan goghoff hmu artist theresa bloser art director fausto torelli prop assistant aaron zeederberg st ac luke de borde gaffer lion futh lighting op jörn beinert rigger simon dresselt lighting rental tranzept dit philipp weinrich vtr andreas klatt on set editor julia love bts vasilisa neznamova location catering mahalla post production post production producer philipp weinrich editor julia love vfx studio spirit view colorist imri agmon titles efrén cascante jara sound design and mix philip calisto cast diana glebo aurora april inigo aleks val nastya kris edwin bela lea jenny anya karyna nico the stilt walker via entourage berlin django the rottweiler via filmtier schulz styling by esteban pomar tynna is wearing wesley manners abor is wearing jens schabbach jewelry by studio special thanks to wesley manners kabuk works studio jens schabbach krisztian berlin timo kurz hektor lilo heipke maria chany sunday morning al tglas rental rgb rental arri rental raketa gmbh entourage berlin mahalla berlin music music lyrics tünde bornemisza attila bornemisza alexander hauer produced by alexander hauer mixed by alexander hauer mastered by ludwig maier p jive germany a division of sony music entertainment germany gmbh repertoire owner sme germany gmbh lyrics ballalalalalalaler löcher nacht sterne fallalalalaln knallen dach tut bisschen weh wiederseh komm nie egal sagst ballalalalalalaler löcher nacht sterne fallalalalaln knallen dach tut bisschen weh wiederseh komm nie egal sagst kreidesilhouetten trottoir tatort csi hast baby tut leid gesagt ersten mal hätt wissen sollen ende setzt punkt satz hättest nie gekannt wechsle parfums kauf neues gewand krieg drang weltuntergang hah glaub wars i shoot for the stars ballalalalalalaler löcher nacht sterne fallalalalaln knallen dach tut bisschen weh wiederseh komm nie egal sagst ballalalalalalaler löcher nacht sterne fallalalalaln knallen dach tut bisschen weh wiederseh komm nie egal sagst seh sternensplitter haut glitzer gelernt killt macht schicker würdest immer ne kugel fangen waffe hand setz punkt satz hätt nie gekannt wechsle parfums kauf neues gewand krieg drang weltuntergang hah glaub wars i shoot for the stars ballalalalalalaler löcher nacht sterne fallalalalaln knallen dach tut bisschen weh wiederseh komm nie egal sagst ballalalalalalaler löcher nacht sterne fallalalalaln knallen dach tut bisschen weh wiederseh komm nie egal sagst",
          "oh gosh go one pope leo xiv brothers john prevost spoke abc news moment learned brother chosen new leader catholic church read subscribe abc news youtube abc news daily source breaking national world news exclusive interviews live streaming coverage download abc news app latest headlines alerts watch coverage breaking news live events abc news live watch full episodes world news tonight david muir read abc news reports online abc news home evening newscast world news tonight david muir good morning america nightline week george stephanopoulos abc news live prime linsey davis plus daily news podcast start connect abc news social media facebook instagram tiktok x threads whatsapp linkedin",
          "years old girl crazy voice gaugué",
          "sverige",
          "miłego dnia",
          "exklusiven nordvpn deal werbung musums website infos lego marke lego gruppe kanal lego gruppe gesponsert genehmigt unterstützt",
          "shakira background tänzerin natalia palomares befinden offiziell offenen konflikt",
          "countries giants",
          "placed bed nether",
          "people know genius hacks",
          "ups",
          "baby",
          "anatoly ego destroyer",
          "glückwunsch lusiano",
          "stehe fassungslos",
          "got back scotland played courses including old course jubilee carnoustie kings barn longest round took hours minutes wait shot make anyone wait shot oh walked carnoustie probably hardest course open rota played caddies push ready golf encourage giving putts inside feet find ball drop one scots tolerate slow play groups tracked gps device one guy hotel told day jubillee group took play front starter put clock threatened take course pace play american gold intolerable dread next round zero reason take hours play golf none people states know better",
          "everyone copying queen",
          "faux fans hantise etes accord kenza tomate burrata kenza burrata kenza waldorf concert jul concert jul paris concert jul stade france",
          "shut dance dc nan trinh lê duy",
          "kan knappt tro att det är sant vem längtar efter att alla möbler kommer jaaaaaaaaaaaag",
          "geht s chef",
          "rooster vs boingy thing round",
          "fox core",
          "chaos copthorne",
          "runs street",
          "wer",
          "team lässt allein mitten atlantik zurück pinguine zählen viele pinguine wohl gezählt gönnt untergang __________________________________________ julia vs joey produktion itv studios germany gmbh moyn media gmbh funk __________________________________________ gehören funk lasst mal liebe youtube instagram tiktok website impressum funk netiquette",
          "bro asked leaving",
          "σε αυτό που ρωτάτε η απάντηση είναι ναι καλό μήνα παιδιά νέα αρχή νέα ζωή για όλους μας μόνο χαμογελα",
          "euwww est où là je rêve kenza tomate burrata kenza burrata kenza waldorf",
          "première image dimanche pâques place saint pierre pape françois finalement bel bien présent malgré fragilité état santé cela plus grande joie milliers fidèles rassemblés traditionnelle bénédiction urbi orbi ville monde",
          "champagne coast blood orange sorry yall heard song much never get",
          "famous horror characters vs actors",
          "trio happy",
          "unfreez account khan official",
          "viele pretty girls unter dem sound",
          "today whipping ultimate recipe disaster inspired launch enjoy",
          "prepped skin home ahead met gala",
          "vini nutmeg pass",
          "smashed burger home",
          "passenger princess via daniel",
          "red carpet back town",
          "dc attack reflection l",
          "marry",
          "whether secret sauce special sauce burger sauce fry sauce whatever always thousand island maybe black pepper cayenne touch mustard maybe leaves something like relish still thousand island become thing best guess started n zero evidence support theory",
          "sg dynamo dresden waldhof mannheim tore punkte bleiben durften schwarz gelben abpfiff rückkehr bundesliga bejubeln konkurrent saarbrücken patzte aachen",
          "walked alpha wolf gig crowd killing especially egregious stranger moshpits going metal punk hardcore gigs years seen sorts chaos pits fine part scene get people get carried away emotion wan na cut loose fun right guys malevolence came support alpha wolf crowd killing wankers came party second first song started dickheads swinging windmill fists slamming everybody target pretty well built dudes safely swinging anybody smaller naturally entire crowd pulls back make space dickheads entire floor everybody else cowers periphery absorbed evading punches kicks even watch band paid dickheads getting bored swinging specifically target perimeter punches body slams young girl gets body slammed hard boyfriend stands front pushes crowdkiller away fuckwit doubles body slams big small anybody security watches passively uncaring suddenly guy foot taller flies purpose despite nowhere mosh purposely body slams elbows spilling drink despite clearly wanting part bashes third time give hard right hook rib cage limps away cry friends recovered storms starts screaming face ever gig okay getting punched etc try explain quietly watching music excuse repeatedly assault like spends rest next song abusing like victim sets find security punching countless people crowd spilling drinks spouting verbal abuse decides victim tries get security throw crowd killer pussy coward second somebody stands cry like bitches security useless tits bull wanders right past sunset walk demand refund tour shirt bought drive home without even watching main act drove hours see fuck dont support shitty scene fuck malevolence fuck alpha wolf fuck hardcore dance wankers kind scene promoting keep music keep money close eyes swing haymakers wife call dancing still assault assault gig okay dozen wankers ruin gig thousand people dickheads need treated like pariahs fuckwits shown shit acceptable end rant edit calling cunt refunding shirt think would want wear tour shirt represents shittiest show ever furthermore would support band let shit go unchecked clearly care fans care ps post upvotes vs dozen calling liar pussy think please majority people support crowdkilling matter cool cringy vegan incels think fuck die please pps think post gon na kick hard lot angry little crowdkillers address brain damaged idiots remarking like getting punched go show say going start club smashes casual beach goers nuts golf clubs eye gouges every th mcdonalds customer fucking like go beach want eyegouged go maccas sound like logic somebody clearly taken many blows head already cringe",
          "ishowspeed reacts grand theft auto vi trailer join im live every day follow socials twitter third channel instagram snapchat discord",
          "albanien dad core",
          "réponse à power armor costume made yannisammar worn",
          "lanz erklärt weidel kontext ukrainekonflikts",
          "joyn kostenlos full episodes endlich weit neo gewinner the voice kids publikum finale bann telefonleitungen gezogen coach wincent weiss mächtig stolz gemeinsam feiern sieg herzlichen glückwunsch kanal abonnieren subscribe to the voice kids www youtube com empfohlen ab jahren recommended from age the voice kids dürfen jüngsten talente zeigen steckt dabei zählt stimme auftritts blind auditions coach sessel richtung publikums ausgerichtet sodass coaches sehen wer bühne steht talent team holen möchten drücken buzzer sänger sängerin runde falls mehrere coaches buzzern talent freie wahl blind auditions folgen knockouts jeweils talents drei gruppen unterteilt denen coach direkter konkurrenz überzeugen müssen wer abermals durchsetzt schafft ersehnten finals entscheidet letztendlich talent teams atemberaubenden stimme überzeugen the voice kids gewinnt mehr infos news the voice kids get more information geht s clips staffel click here to watch hihglights of season best ofs clips first looks blind auditions battles sing offs finals impressum",
          "paris quand jamel debbouze aide pêcher silure mètres seine",
          "chef problem",
          "dad rating uncle accent",
          "send someone needs go turkey",
          "goodnight sleep tight hehe",
          "kendall jenner hailey bieber talk emma chamberlain met gala matching looks collections birkin bags leather jackets still subscribed vogue youtube get best vogue delivered right inbox want hear editors subscribe magazine download vogue app check run vogue podcast vogue youtube channels british vogue vogue taiwan vogue france vogue india vogue japan vogue méxico latinoamérica vogue germany vogue italia vogue spain vogue vogue authority fashion news culture trends beauty coverage videos celebrity style fashion week updates",
          "tag",
          "question greatest villain performance time comes people tend list actors rarely see female villain performances mentioned first one comes mind allison williams get played sadistic manipulative villain absolute",
          "guys think overreacted",
          "trio classificado",
          "replying one thing took away physical therapy motion lotion",
          "play water",
          "mind",
          "weekend mood",
          "mission impossible",
          "airport vibe paris uk",
          "happy easter",
          "maybe extra fries would extra",
          "bonde trenzinho",
          "go school tomorrow yamal",
          "ο χρονος ταξιάρχης από την μυτιλήνη ψέλνει λέει προσευχές και θέλει να γίνει ιερέας always comes around",
          "done ex",
          "unfreez account khan official",
          "top british memes",
          "voher geld",
          "insane facts megalodon megalodon largest shark ever exist growing feet long three times size great white shark bite force estimated pounds per square inch strong enough crush car like soda megalodons teeth size human hand reaching inches cm long want menu unlike modern sharks megalodons bite could shatter bones single chomp come back ruled oceans million years going extinct around million years ago believe megalodon could still exist hiding deep ocean explored less ocean depths megalodon fins big airplane wings heart likely size small car scientists think attacked whales biting tails first escape talk hunting strategy megalodon teeth found every continent except antarctica meaning dominated almost every ocean megalodon still alive today would big shallow waters would live deep sea could something massive still would dare swim ocean knowing megalodon might still exist drop thoughts comments",
          "joker insane",
          "braucht mann",
          "c mon ever posted commented liked watched video youtube last years one featuring",
          "cruise ships dumping sewage oceans",
          "folgt mal insta sachen gepostet gepostet macht tiktok polos",
          "današnji ljubavni razgovori",
          "hauptkanal twitch discord shorts tiktok twitter instagram",
          "bro sore loser",
          "fav snack",
          "let see shake next season",
          "buzz low fade",
          "lamine yamal future ballon d or",
          "want money",
          "geheime botschaft songs",
          "cheese onion crispiest chips ever tried making crunchy cheese onion chips turned amazing would try home watch till end ultimate crunch",
          "go enter wendover checkout get free shave cream purchase youtube instagram twitter sponsorship enquiries wendover emails sam reddit writing tristan purdy christine benedetti sam denby editing alexander williard animation sara stoltman derek brown kate ermolenko sound manni simon dony bullen thumbnail simon buckmaster",
          "go compare different outlets cover story save ground news vantage plan take back control stay informed ad story puyi china last emperor last emperor sources music lens distortion decades infinite horizons truth seeking next gen zero doubt go forth punch new day tenfold reclaim concord material events chromatica tom fox johnny iz llc war games middleman expired dry thought national televison countries real locations tom fox wine bunker bad wrap formal view artlist annie zhou maybe wondering anbr streets ian post kimi ga yo japan epidemic sound brendon moeller sunshine rain images hung chung chih shutterstock com _____ armchair documentaries almost weekly",
          "our favourite party trick",
          "fly like paper get high like planes",
          "even impressed little feet moving beat",
          "built crazy things using real life minecraft blocks winner gets stay wild reacts ben azelart cam huff vlad chris new videos every week subscribe",
          "sass real",
          "beautiful places china",
          "paul",
          "us refuse buy multi pack chicken breasts stringy slimy look taste bad",
          "need someone know eight year old looked eyes said speak spanish quickly interrupted saying paulrobaly dabbed ran room like naruto know sounds fake",
          "king kunta",
          "sign letter e",
          "turn music",
          "fliegen august joey gezwungen video nennen juliavsjoey staffel gucken juliavsjoey instagram folgen juliavsjoey tiktok folgen __ podcast joey parfummarke stalk hauptkanal instagram tiktok __ geschäftliche emailadresse beautx affiliate link erhalte umsatzbeteiligung verkäufen link generiert wurden __ habt tollen tag macht schönsten julia",
          "blue got second trailer finally means time offer exclusive flair everyone next hours trailer og need comment bold receive flair keep mind another exclusive flair like first trailer og flair claiming overwrite flair able change back flair change able reapply",
          "είναι μια πραγματική όαση για τους λάτρεις του καλού brunch με ένα μενού που ισορροπεί τέλεια ανάμεσα στη γεύση και τη διατροφική αξία προσφέρει μια εξαιρετική εμπειρία για κάθε γούστο αν ψάχνετε έναν μοναδικό προορισμό λοιπόν για brunch στην καρδιά της αθήνας το bruncho στο μετς είναι αναμφίβολα η καλύτερη επιλογή αναπαύσεως μετς",
          "saving mirror girl",
          "may th sneak peek song music video choreography headed set right music video excited first music video choreographed wait see hear think",
          "complete beginner abs workout home 집에서 하는 초보자 복근 운동",
          "love story sealed ring",
          null
         ],
         "marker": {
          "color": "#CFD8DC",
          "opacity": 0.5,
          "size": 5
         },
         "mode": "markers+text",
         "name": "other",
         "showlegend": false,
         "type": "scattergl",
         "x": {
          "bdata": "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",
          "dtype": "f4"
         },
         "y": {
          "bdata": "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",
          "dtype": "f4"
         }
        },
        {
         "hoverinfo": "text",
         "hovertext": [
          "patrick christys britain becoming anti white country",
          "know noticing actually becoming problem many people wandering around world complete lack awareness happening around talking type people block entire aisles grocery stores stop front doors walk three people side side side sidewalk expect everyone else walk road mud get around people walk flow traffic block width busy escalator stop soon step wander crosswalk without even looking see car coming need stop accommodating people polite thoughtful considerate need start blatant assholes nothing else seems working say excuse say get way skirt around group people blocking entire pathway walk middle group shove carts way blocking entire aisle tell put f cking phone away stop polite people even care others exist",
          "boom f kids husband livin best soft life got decent job apartment stays clean sleep like baby every night sister f little gremlins age swears person earth ever tired last week hits hey watch kids weekend husband need break lose minds cool say yes hits mean like got anything going kids probably chillin anyway like girl really call free trial version human told flat nah find someone else since chill life apparently stressful enough respected mad mad tellin whole family abandoned clearly drowning selfish cause step like girl disrespected mid request fumbled favor bag mom phone like get upset kids like cute emergency childcare plan cause sleep deprived covered goldfish crumbs aitah refusing babysit shaded whole lifestyle like thriving",
          "anyone used quick meds get medical card either delaware state basically experience legit",
          "read thread hundred comments saw intense people debating chatgpt human saying better human people say reflects madness others say heals trauma one person treats like jungian analyst line keeps coming back maybe problem chatgpt says maybe one else listens like happens machine listens better partner therapist god happens mirrors soul without interrupting lose finally meet part always waiting heard funny thing used love em dashes dodge entirely every time use one someone pops saying yep definitely ai putting together write wildest honest takes moment gpt felt like code want hear",
          "f live small cozy two bedroom apartment city rent sky high always loved friends family usually limited weekend quick visit long term stays pretty much table husband agreed keep things simple comfortable brings us current dilemma sister law mara f coming town conference next week lives hours away exactly dislike super close always bit tension us particular vegan totally respect also severely allergic peanuts big deal literally asks separate pans plates every meal eats fine visit lunch dinner requested cook serve every meal way stay kicker also requires entire apartment peanut free vegan friendly visit said highly sensitive remove anything peanut oil peanut butter trace non vegan foods kitchen eating words restaurants guarantee cross contamination work full time pretty hectic schedule asked multiple times could stay nearby airbnb hotel insists since place much comfortable homey sleep couch make home husband neutral saying mentioned family maybe accommodating love sister law think realistic cater every single one dietary restrictions tiny apartment plus think turn life upside accommodate one person week honestly starting feel resentful thinks could easily stay hotel maybe harsh jerk refusing let stay",
          "back college one semester took bunch books retrenching big project back internet research admissible needed properly cite sources school life got away forgot return books kinda forgot end semester got late library dues bill mail think fees like cents per book per day least books month late money pay library fines could get grades transcript semester instead sheepishly returning books paying fines put books backpack returned correct places shelves called library next day questioned validity letter regarding overdue books librarian left hold minutes returned phone apologizing seemed books fact returned library dues erased hold back transcript",
          "woman office let call alarm queen every day like clockwork sets alarms phone random things water break alarm stretch reminder alarm think positive moment yep another alarm problem problem never turns alarm goes full volume default iphone screech sits typing scrolling eating completely unfazed rest us flinching staring slowly losing sanity sometimes rings minute taps snooze starts minutes later one time said hey think phone going smiled said oh know set knows kind person sets motivational alarm called slay day lets ring sipping soup every single day know optimizing life slowly trying ruin mine",
          "tonight found girlfriend together year active dating apps phone hinge tinder bumble tried claim snooping ex husband already felt ridiculous calmly asked talking anyone said claimed even apps downloaded already seen active matches conversations asked show apps walked away opened deleted messages showing empty inbox acting like nothing calmly pulled phone showed screenshots taken earlier went rant wanted validation never met anyone trust told come back level lying hiding gaslighting dealbreaker begged apologized walked loved feel shattered want revenge drama care person want well want move forward would shoes update went bed woke million views also bot real person answer things read someone cheated ex growing improving every month lots external stresses core good think however loved would never done actions speak louder words sadly go back even wanted kiss death move already forgive angry sad hope future randomly imploded face last night",
          "detainees bluebonnet immigrant detention centre small city anson texas sent outside world message week reuters drone flying nearby men formed letters dirt yard facility ten days earlier dozens venezuelan detainees center given notices immigration officials alleged members venezuelan gang tren de aragua subject deportation wartime law",
          "girl early twenties interested clubbing drinking fact never even stepped foot club tried drinks occasions truth find clubbing drinking appealing would much rather go cinema visit museums take walks nature enjoy cosy night curious think women like boring prudish made fun friends go made wonder would date someone like big",
          "f husband yrs old son leo sweet curious kid really dinosaurs loves riding little blue bike last weekend went grocery shopping husband stayed home leo apparently leo outside riding bike left front yard went inside get water minutes later neighbor ms robert came saying grandson saw leo take bike husband looked see leo bike assumed worst confronted leo insisted steal anything said bike gone husband believe told grounded tv tablet told truth apologized leo refused saying take anyone bike punishing anything later afternoon ms robert returned visibly embarrassed turns grandson taken leo bike park thought looked cooler made whole story avoid getting trouble got home husband explained situation figured okay apologize leo learning moment nope doubled said leo still needed punished disrespect refusing obey said want punish telling truth standing said principle needs listen even agree said rather raise boy knows stand one lays accepts mistreatment especially innocent got pretty heated argument says unreasonable dramatic undermining parent think wrong wanting teach son okay say something unfair even coming parent aita",
          "office yesterday coworker came chat got talking proposed cuts retirement etc started ranting congress voting reduce benefits well proceeded tell voted trump every republican ballot option understand retirement benefits impacted perfect leopard eating face moment perfect summary dumb america",
          "first think wrong infuriated girlfriend recently moved house girlfriend little housewarming family mother friends eating outdoors kids table girlfriend nephew knocked jug dilute table happened clearly accident polite apologised little upset laughed father came shocked much father gave told accident etc kept going felt really guilty stopping ran corner garden started crying father went back table said happened wife said deserved stay long time something along lines almost snigger family anyway went boy couple minutes later gave bar chocolate still crying said sorry gave high five taught high five used kid mother came said mind talking son needs think wrong needs alone took husband aside said house want upset kid dont like get swear reaction followed insane went back table saying mom said never holding back raise great son spot let bullies house erupted even girlfriend spoke private asked apologise said stand said part regret bit told think less even asking apologise mate mine son kicked ball boy actually gave hug dont hugs end party said sorry hugged tightly couple seconds really could go drama short family thought wrong getting little digs etc girlfriend friend came privately said right step girlfriend still pushing apologise still think anything wrong tell parent told leave want parent completely honest didnt say sure want kid family like aggro spilled f ing flavoured water wow many messages apologies respond common answers responses agreed must like private snigger word least uk mother best mother kid could yeah puts big hole future gf",
          "maybe get lawn moment tired term unalived person died killed real life people",
          "f son previous marriage boyfriend two daughters f f previous marriage dinner together older daughter mentioned face breaking period boyfriend told rude talk period dinner table son probably lost appetite son said fine said pretty despite break outs told boyfriend family okay period talk later night boyfriend said made look like fool front daughters said going work undermine front respective kids asshole",
          "want give update situation original post happy gave birth daughter four months ago shes first child honestly rollercoaster ride husband great problem started mom day one mil involved visited hospital day gave birth constantly hovering offering advice ask chalked excitement things started getting weird began referring mommy holding daughter first thought misheard kept gently corrected laughed like silly told husband made uncomfortable agreed odd want confront according next time said calmly said please call mom around daughter confusing frankly role looked shocked told overreacting babies understand titles age stood firm said maybe soon mom grandma special title got upset left early later day got long text embarrassed expressing lov territorial insecure laws saying hurt feelings apologize like trying replace think insecure want clear baby one mom aitah telling mil stop calling mom baby update thanks everyone commented reading responses really helped feel grounded wanted give update things definitely escalated unexpected ways confrontation dramatic exit mil went full hurt grandma mode told extended family banned seeing baby accused trying kidnap granddaughter group texts got wild flying monkeys started chiming need help babies care call anyway respond husband finally stepped called directly told needed respect boundaries would consequences cried said trying love baby way knew turning posted photo holding daughter facebook caption mommy girl publicly tagging family breaking point immediately texted said respect fact mother going take break visits husband backed since limited contact polite texts occasional check ins person visits apologized far life lot peaceful gotten icy texts couple family members surprisingly others reached privately say similar issues respected handled thank support",
          "weekend disaster f best friends amy f years guy jake three years honestly walking red flag super controlling jealous always checking location called nine times shopping target amy keeps defending saying protective cares much whatever bachelorette party supposed fun girls night jake kept blowing phone texts facetimes asking accusing acting single kept leaving call back crying apologizing rest us sat awkwardly fourth time left table lost came back said loud enough whole table hear marrying husband signing lifetime babysat jealous manchild amy started crying ran bar half girls followed later night mom called drunk thanking apparently worried jake know stop wedding mom told amy goes wedding pay amy blocked jake moved apartment moved back parents house also blocked humiliating half friend group saying right thing half calling jealous toxic blowing relationship right wedding aitah",
          "exhausted long shift stranded late night flat tire pulled took one look stated obvious like gospel flat tire said question bet got clue change also question probably even know spare answered every one blunt observations polite sir wasted time tearing idea father would send daughter driving without teaching handle tire change back thought rude harsh unnecessarily tough made work supervision followed every instruction memorized every step today ten years later found situation knew exactly man seemed drill sergeant good samaritan thank help night taught something stuck appreciate enough truly",
          "gave birth around months ago bit pounds pre pregnancy weight constant pain barely getting sleep still recovering easing back gym past week husband showering sex feeling said misses body said used look good sexy clothes lingerie went quiet finished shower went check baby brought later hurt self conscious trying shrugged said true cried car workout even workout eats garbage feeling really body since comment pulled back intimacy days says weaponizing sex struggling feel right aita",
          "alright aitah ppl imma need hot takes office drama driving insane f working marketing agency years coworker jess f getting married next month initially invited whole team people wedding like besties besties definitely friendly lunch together sometimes happy hours usual work friend stuff last week office manager sarah started collecting money group gift asking would get us fancy kitchen gadget registry basically budget someone actually friends whatever planning contribute well yesterday got awkward text jess saying make cuts guest list unfortunately accommodate anymore something venue capacity family additions kicker know fact everyone else team still invited morning sarah comes desk asking contribution gift fund politely told since longer invited rather get jess smaller gift sarah looked shocked said team gift contributing full amount would mess group harmony like give single fuck icing cake know wedding cut jess invited old coworker got vp position major client suddenly room still expected drop registry thing trying brag whatsoever literally hit k win jackpotcity like last weekend even big deal specifically something gon na tolerate someone please tell truth asshole refusing contribute full amount wedding even attending",
          "tw loss miscarried yesterday afternoon pm never miscarriage baby wished fresh sobbing right apologise advance make whole lot sense husband turned yesterday f pregnant mine husband nd child yesterday weeks pregnant day yesterday saw beautiful heart beat flicking screen today devastated playing year old felt pressure lower abdomen long later noticed bleeding let husband know immediately discomfort bleeding long passed believe fetus messaged think lost baby wanted keep updated guess seeking kind emotional support asked could come home said course urgent said think pain bleeding getting worse starting feel lightheaded year old unattended playroom right friends family near could call would get us quicker could clean crawl stairs take paracetamol make son lunch put nap point husband still home working approx mins away took closer mins get back hours later asked stopped tesco pick beers ended poorly losing lots blood lightheaded vomiting etc take e time discharged almost pm last week said make favourite dinner birthday reminded almost home said feeling whatever takeaway wants said fuck sake breath muttered something along lines bullshit ruined birthday stop get takeaway drove straight home put son bed went bed sure see morning already left work messaged day got home hours ago pm giving silent treatment tried speak hour ago ignored called disgrace slammed bedroom door locked bedroom mum since messaged said need patient also loss ask anything obviously speaking mum opening speaking said harsh feeling utterly emotionally neglected right body emotional physical hell understand miscarriage came fucking inconvenient time birthday sure hormones making feel crazy nuts contemplate divorce aitah calling disgrace",
          "hi everyone years old madrid spain work b b sales lately bringing nintendo switch office play lunch break strictly outside working hours minutes unwind diving back calls meetings well days ago boss told anymore said gives bad image workplace could seen unprofessional according good literally said wants protect others might perceive terms company culture added kidding want play go café even bathroom slacking using company time disturbing anyone feels ridiculous spend break want grown adult school kid hiding game boy table really unprofessional anyone else deal kind thing",
          "f stepsons adults late teens mid twenties one concerns middle child sat husband last night told us girlfriend pregnant plan keeping baby got logistics going work live mom right living room said able stay baby born said plan moving us statement free rooms asked expected stay said finish basement baby born live basement completely unfinished making livable space would cost several thousands dollars said would baby reaches pre school age easier live since need full time childcare childcare apparently childcare work home much work spend day meetings phone calls clients job baby admit finest moment laughed hard believe serious husband stepped said needed come different plan none happening said help financially secure apartment help baby stuff happy take baby need break extent happy parting end husband page couple hours later husband got call ex upset us supporting way felt needed us bear mind watch baby house either lives bed apartment husband like kids allow even come see hubby told would great time son dil get place together take care baby place live course like really care thinks oldest said thinks little harsh let stay temporarily temporary mom living room supposed temporary years ago think nice laughed serious discussion fair youngest side lives home away college want live baby either little biased assholes feel bad going easy parent never easy hell whole point freaking post kids grown still hard parent love outside insight edit thank truly comments quite literally keep wanted answer common questions seeing part time job know works around hours week works close house stops work days goes know job idea often works pay mother rent part moved year school full time job told need start paying mo help cover utilities food like left swears used protection every time entirely possible know condoms effective doubt planned significantly change lifestyle comfortable turn entitled idk psychologist say mother always coddled others oldest basically stopped relationship gave custody favor husband old enough understand happening youngest young really care always kind shadow anyway middle kid used soothe guilt make look like good mom public buy extra stuff take places sure good anything legally able stop room downsized youngest left college need bed house anymore room office youngests room emergency one older two needed place crash weeks would probably stay brother room couch home would partners limited time get back feet",
          "talking husband tonight asked subjected square dancing gym class elementary school grew different states gave confused wtf look said would regional thing swear seen discussions square dancing everyone hated activity seriously know single kid liked",
          "try make short wife f year old son young last night wife went sons room ask sign mothers day card grandma bad habit knocking walked son spanking monkey screaming yelling came wife angry telling handle went talked son said get normal thing nearly everyone done would talk mom went back downstairs wife asked assumed gave kind punishment asked exactly would punishing got upset saying encouraging sexual behavior needs door taken said teenager deserves least privacy walking without knocking stopped long time ago today upset want come room say blame mess backing edit expect feedback soon thank everyone absolutely going take sons door agree lock angrier wife let post",
          "aita leaving boyfriend birthday dinner mom took seat joke f dating boyfriend matt almost two years family close mom particular always little possessive tried make big deal clear like take time made passive aggressive comments like hope lose son girl even though together made every effort kind respectful anyway last weekend matt birthday invited dinner family nice restaurant dressed got gift knew love honestly looking forward night arrived noticed mom saved seat right next fine whatever sat side right ordered mom made joke always need next matt said let see handle little separation literally stood looked said scooch sweetie motioning move seat could sit us everyone table laughed matt included stunned quietly got moved five minutes sat feeling small humiliated leaned matt like date stood grabbed bag said actually think gon na head hope great birthday matt left matt blew phone later saying completely overreacted embarrassed front family take joke mom texted sorry sensitive message made worse speaking apologize honestly feel like rude ones birthday dinner second guessing everything aita",
          "coworker john hr starts saying weird stuff like know basically work spouses right thought joke like nah fr talk wife kinda laughed first fast forward last thursday wife actually shows office lunch kid sees us chatting breakroom suddenly like ohhhh must never grabbed lunch tray bolted fast life face bright red think ever seen someone go work wife awkward silence quickly",
          "sick tired people saying friends coworkers talking friendly people mean play video games together go bars talk life lonely today people maybe friends days best social creatures need companionship jobs allow make friends people already conversation starter easier walking stranger plus someone relate complain work employers also use societal stigma make hard pay transparency last job friends comfortable asking raise sharing mine nobody got salty someone got good raise say happy edit mean literally every coworker become friend friends literally everyone department friends ish still way abnormal society talking willingness make friends say leave yall get fucked edit saying amicable coworkers hopefully given mean actual friendships go beyond boundaries work also talking managers saying like family huge red flag talking someone work strike conversation realize oh like talking person start friendship way edit yall little bitches comment section probably got burned coworkers reason coworkers making friends must soooo much fun real life see wrong side r relationshipadvice",
          "currently undergoing cancer treatment end planning take holiday friend family member travel side world based uk thinking vietnam south korea japan somewhere around never asked brother would consider coming got excited said daughter f son would also come along incredibly picky eaters niece eats plain beige foods even burger mcdonalds chips nuggets pretty much kids diet know brother wife tried hard introduce foods wont eat love two kids bits really however want travel experience food culture major part want get beaten path experience things life brave enough experience selfishly trip end cancer celebrating life cancer also something easily afford might asshole asked brother come travel said kids would come told would rather travel someone else disappointed angry frustrated want travel family feels selfish travelling children also fulfilling would also like spend time child friendly things holiday already gotten niece nephew excited travel make things worse live different countries see lot disappointed learn pulled plug plans feel conflicted aita eta currently cancer treatment started grade stage thyroid cancer spread cervical spine chemo started first round surgery chemo radio travel late earliest god willing eta travel weeks eta holiday tourist destination look go beaten path",
          "honestly words bought house july learned neighbors old hell think neighbors nosey onery young families moving neighborhood recent years walk tell shopping thrift estate sales furnish cute house morning came home estate sale beautiful wingbacked rocking chair needs reuplostered leather terrible condition previous owner started pulling im unloading bed truck neighbor carol sticks giraffe neck fence starts squawking beautiful said thanks got estate sale triggered parasites brain shit teleported truck starts going much needs chair rock grandkids sleep much would appreciate told got future babies rocked sleep still needs lots work used mind chair large small starts offering money paid telling dont need dont kids yet grandkids little long firmly telling interested selling offered standing bed truck looking driveway firmly said carol im really interested selling please go home pointed side fence apparently shouting aggressive ran home later day husband said something husband getting home game telling edit spoke like dog nasty neighbor husband needs straighten neighbors nuts rude edit tried attach photo chair cant attach community edit meant offense said old hell know half way life time trying paint caricature carol neighbors something really wrong folks cul de sac",
          "hii velan bsc computer sscience electronics bangalore building working real impactful tech published research papers patents progress tutored students across multiple domains projects include vector guided missile system seismic monitoring using nvidia ai embedded systems iot development advanced data analytics f cars emotional assessment using biosignals voice pattern using ml smart iot office automation greenmap samurai duel robots custom asic microchip design parallel computing system scratch posting done places talk innovation nothing looking people actually building future talking slides real tech part company lab team values people build first talk later love connect contribute counts work know companies labs communities love connect share work see contribute contact velane linkedin com velan e",
          "parents gone father passed february emptying house nightmare lot great mementos draw line found many things really cool hidden away basically took space much stuff torn keeping things nostalgia realistic realized keeping things sake nostalgia caused chaos kept precious momentos donated lot things may finished job ended throwing lot stuff willing bet parents put away never looked get want keep everything memory attached opened eyes stuff saved save stuff never look got dumpster yesterday went everything got rid told kids get want getting rid everything else kept things want kids spend months going things figuring throw away keep donate freeing understand kept stuff feel way things reaches point almost ridiculous glad today really deep cleaning home wonderful done almost like new start happy tuesday",
          "news maga bad night texas local voters across state decisively reject far right candidates particularly school board city council races",
          "f sister f getting married weeks recently sent official invites included wife f asked sister told decision intentional said wants wedding peaceful possible feel comfortable wife context wife sister never gotten along particularly well major incident explosive history mutual dislike passive aggressive exchanges years said wife always respectful family gatherings never seen act makes worse though ex girlfriend dated four years meeting wife invited sister remained friends broke six years ago love never made issue still incredibly hurtful see sister would rather include someone past someone spoken years person chosen build life told sister comfortable attending circumstances sending wedding gift either said recognize wife part family expect play along celebration everything fine accused petty trying punish setting boundaries parents since called say overreacting go keep peace feels like disagreement feels like fundamental lack respect marriage family seems think making aita refusing attend wedding declining give gift wife treated",
          "unfortunately learned hard way work small business put huge emphasis everyone friends building strong team means hurts someone inevitably stabs back saying go around dick people reason better build relationships outside work places politics power imbalances",
          "hello eli family heavy heart tears eyes announcement make informed moderator eveanyn passed away years long battle cancer family thoughts prayers keep memory kindness strength us always kind words would like share please comments comments nice removed eli moderation team",
          "yesterday last mortgage payment fraction paid every week instead f bought house paid mortgage every week long got married primary breadwinner afterwards proud relieved done old person yelling comes television trained believe would kind document could burn mark milestone yet maybe get kind doc bank mail instead banking online payment comes end day look balance days days morning logged hoping see account balance zero plan screenshot send life celebrate virtually yet log account gone zero disappeared happy gone feel shafted celebratory experience genxers let hitting milestone without anything bote okay ordered whack excellent smoked brisket delivered",
          "happened yesterday still cringing hard might never step gym f recently started going new gym insanely cute guy works around time trying find courage talk couple weeks yesterday finally decided time saw deadlifts thought okay casual compliment easy walked smiled said lats majestic wtf majestic thinking idk said meant say lifting lot nice form literally anything else looked confused said uh thanks panicked decided walk away die locker room trying speed walk away embarrassment tripped medicine ball someone left way face planted floor knocked wind hard breathe like seconds trainer saw happen thought heart attack started actual cpr protocol could wheeze fine cute guy helped hold legs got oxygen pretty sure died inside anyway cpr girl gym yes still plan go back tl dr tried flirt hot guy gym said something incomprehensible tripped ended getting nearly resuscitated front",
          "im young like almost everyone know age group often makes feel pressured get think look good also expensive one day might wake decide like anymore removal process even expensive",
          "know bugs trendy look blue collar folks work blue collar jobs construction farming etc carharts wranglers moc toe work boots etc considered cultural appropriation feel like minimum amount hard labor worked wear type clothing lol one example hundreds airport flying colorado young couple front wearing wrangler overall jeans work boots pale spec dirt callus hands frail bodied hipster looking clearly posers someone explain phenomenon limited trend cool poser days",
          "female works primarily male dominated field truly love job probably best one far coworker issue one coworkers found dating app well said brother found asked worked due specification industry worked location working day made discovery upon finding said dating app made point let everyone know found odd anyone else care realized damn desperate fashion workplace field general male dominated years younger majority coworkers exception guy spread info couple others care initially presumed would blow indeed others bring mocking teasing way quite regularly really funny first time definitely second third fourth time want highlight intention feel playful instead delivered demeaning way occasionally get unsolicited advice appearance coworker looking advice situation without turning hr fiasco plan stay job mid want make next year enjoyable say next time another coworker brings something really embarrass perhaps advice appreciated thanks",
          "see news xbox pricing increasing across board expect sony follow soon well looking get ps would sooner rather later games eyeing always wait sales course hard see happen future thought would post friendly reminder heads edit aware countries cost ps gone last weeks would expect another massive increase well multiple video games market analysts saying beginning market conditions tarrifs prepared xbox news xbox examples see article xbox series xbox series x xbox elite wireless controller series core",
          "pregnant got wooble kit keep busy made pink axolotl first one really proud put husband gaming desk flash forward baby months old find husband given baby wooble play swap wooble another toy tell husband please give wooble baby eyes choking hazard make super well sure parts also choking hazard promises give baby well catch giving baby wooble room home conversation time says sorry find wooble baby play pen destroyed eyes ripped half front stomach design hanging ask happened husband tells ripped eyes give baby sad destroyed wooble made without asking grown sentimental attachment tell wish asked hurt feelings destroyed conversation also reiterate even though eyes gone still choking hazzard since made poorly know lots loose pieces yarn small wooble body parts morning find wooble play pen watched baby hour yesterday send snap chat saying wtf talked give responds hahaha guess kinda snap tell stupid mad wooble truly upset repeatedly refused listen asked something went far continue behind back especially since could dangerous baby asshole snapping giving wooble baby",
          "hi everyone f married husband let call joe years together time always prioritized emotional well something hurt one us matter valued happy spouse right love trust grew immensely certain never anything would break heart heartbroken disappointed joe owns company work together financially great place recently joe father got chance bid major government contract massive opportunity due scale several companies teaming one key company involved without deal happen led attractive flirty woman ceo openly flirted joe front noticed behavior order avoid misunderstandings conflict decided work bid together things okay one meeting break touched joe arm said something like husband like never leave side someone every woman wants sometimes even enough someone else might steal mind snapped responded following never leaves side brushed joke know saw look eyes women know later talked joe admitted crossing line uncomfortable react strongly avoid jeopardizing deal thrilled tried understand today found excluded day site visit bid trip requested woman five people going joe one heard told extremely uncomfortable asked go begged actually said deal worth financially stable need contract went anyway even everything said left without something broke trusted whole heart truly believed never choose anything peace mind feel like left behind hurts deeply part even care anymore comes back ends woman feel numb part says come amazing years throw away another part wants take wedding ring send photo file divorce aita asking go even begin deal emotions",
          "live friend bedroom apartment friends living set ground rules one dont share groceries separate mini fridges rooms couldnt even eat drink something isnt accident one day friends craving cake fridge come home came home saw fridge empty saw saw plate trash turns allergic peanut butter cake saw mirror face puffy red tomato called ambulance nothing serious happened saw cost ambulance epi pen etc asked pay apparently poisoned told stole cake without even telling told f went home told friends telling least help pay aita",
          "got ta heart heartbreak",
          "fiancée genuinely care spend money regularly gifts dinners trips whatever needs even card saved phone convenience never made big deal recently something bothered asked order uber eats feeling well straight said like spending money man hit weird never really bought anything even small gestures asking expensive gifts anything one sidedness starting get overthinking red flag something seriously consider getting married really appreciate honest advice",
          "unlocking creator search insights guide success",
          "noticed asked chat something especially math make shit instead saying sure make formulas feed wrong answer",
          "someone give ghislaine prison laptop fuck trump fuck ice fuck fascism",
          "yeah totally screwed big time fiance jess together years engaged everything great planning wedding picking venues got sucked crypto specifically solana thought gon na genius investor know started saw x posts memecoins like super fast cheap fees blah blah rich like k saved wedding figured throw k coins make quick buck surprise jess fancier honeymoon tell cause wanted surprise big mistake lost everything first weeks k gone freaking sleep jess noticed acting weird kept asking wrong wan na tell blew wedding fund lied said work stress found anyway left laptop open saw trading app red numbers whole mess flipped screaming gambled future without even telling tried explain said make back said broke trust acted like sneaky addict gave back ring packed bag left mom weeks ago barely talking says needs space tl dr secretly blew wedding fund crypto lost fiance left cause lied",
          "f stepsons adults late teens mid twenties one concerns middle child sat husband last night told us girlfriend pregnant plan keeping baby got logistics going work live mom right living room said able stay baby born said plan moving us statement free rooms asked expected stay said finish basement baby born live basement completely unfinished making livable space would cost several thousands dollars said would baby reaches pre school age easier live since need full time childcare childcare apparently childcare work home much work spend day meetings phone calls clients job baby admit finest moment laughed hard believe serious husband stepped said needed come different plan none happening said help financially secure apartment help baby stuff happy take baby need break extent happy parting end husband page couple hours later husband got call ex upset us supporting way felt needed us bear mind watch baby house either lives bed apartment husband like kids allow even come see hubby told would great time son dil get place together take care baby place live course like really care thinks oldest said thinks little harsh let stay temporarily temporary mom living room supposed temporary years ago think nice laughed serious discussion fair youngest side lives home away college want live baby either little biased assholes feel bad going easy parent never easy hell whole point freaking post kids grown still hard parent love outside insight",
          "need vent dehumanizing work experience life last fall diagnosed stage lymphoma initial shock immediately sat manager healthplus insurance claims analyst years discuss accommodations treatment oncologist recommended work remotely chemo reduce infection risk documentation doctor note everything direct manager seemed supportive hr got involved response remote work privilege accommodation claimed role impossible perform remotely despite entire department working home covid months earlier compromise offered let take unpaid fmla chemo days required office days pointed violated ada hr director audacity say employ people exempt ada requirements tried make work showing treatments despite fatigue nausea compromised immune system flu season performance obviously suffered second round chemo put performance improvement plan missing metrics two weeks later terminated failing meet productivity standards literally white blood cell count lowest final insult contested unemployment claim saying fired cause got lawyer turns actually employees counted part timers differently making subject ada yesterday filed eeoc company entire business health insurance show basic humanity someone going cancer treatment companies deserve loyalty ever",
          "except fail mention andor given us equivalent high quality movies budget run times exclude recap intro credits starting director arc hours minutes arc hours minutes arc hours minutes arc say pretty good value investment made feature length movies due delays time esb released cost million million dollars esb massive worldwide gross made serious bank know translates streaming gross even possible compare terms cost make andor relative bargain",
          "oh want know use chatgpt oh chatgpt sorry ai llm word salad generating machine irresitably attractive accurate almost everyone know insists using information get google better recent amount ai garbage flooding crappy ai overview nothing help come google exists reason know something google get result maybe using tricks get rid ai results many people around deciding put information received dice roll aware chatgpt predicts next word might hell someone straight told know scholarship asked chatgpt genuinely verge internally crying whole website show takes seconds find another maybe minute look asked fucking dice roller information even concrete information half shit inside purely might give xyz sick tired genuinely feels like chatgpt fucking drug people constantly insist using chatgpt chatgpt fucking addicted sorry touching fucking ai information foot pole sticking normal google wikipedia yknow websites give actual fucking information rather pulling words ass learning call sick tired please use google stop fucking letting ai give info guaranteed correct",
          "old lady tells delivery driver deliver building",
          "last week half probably seen countless articles forum posts praising sandfall interactive new game clair obscur expedition high heavens vehemently urging play reading sizable amount articles posts became quite clear something fishy going obvious goal artificially increasing sales game team dedicated number resources get bottom expose whatever shady tactics work found damning might serious consequences developer boost sales game clair obscur expedition sandfall interactive spent tens millions dollars estimated actually creating amazing beautifully crafted consumer friendly game making fairly affordable techniques allowed boost sales million copies within first week making profit without resorting predatory microtransactions online services overpriced deluxe editions deploying vile tactics increase sales unheard gaming industry recent years apart larians latest grift baldurs gate publishers like ubisoft ea blizzard bethesda accusing gaining advantage unfair methods creating high expectations combat unlawful strategies propose sandfall interactive must raise price upcoming games intentionally implement bugs launch add micro macro transactions use ai development exclusively write disney dialogue characters way ensure industry standard remains time low prices stay time high thanks reading definitely serious post wish nice weekend",
          "get tried put ish hours see everyone freaking things really work pacing place one minute casual tavern chat next thing know locked moral debate talking brain jar feels jarring many dialogue options like need different ways express sarcasm let click continue world reacts much freed gnome hours later someone brought supposed live kind consequence cinematics make everything feel immersive like sometimes forget playing game netflix series accidentally joined characters way much depth everyone strong backstories emotional arcs distracting even get started companions trying fight goblins catch feelings morally complex vampire yeah totally overrated made feel things felt since witcher guess like emotional damage high standards future games go never playing started another run yesterday",
          "physically take anymore asshole stress seeing shitty goddamn eos closing offices made pots flareups right bedbound mention health started somewhat failing hell get impeachment conviction happen fucking take anymore edit gon na suggest murder fucking funny yes passive aggressive shockingly notbeinb able leave bed let alone house puts bad mood edit like half comments advocating murder proposing actual realistic solutions good lord edit honestly lot comments saying hopeless considering weegee tonight lol trans man already make enough rent every month guys really think got gun money nah fuck taking easy way",
          "sucked full barely contained rage since november today press conference current administration laughed refusing scotus order talking sending anyone deemed violent criminal cecot breaking point fucks give gone spend two decades fighting terrorists despots watch country turn terrorist nation run despot said trump fuck vance fuck mike johnson fuck stephen miller fuck elon musk fuck vought thiel heritage foundation fuck ya clarence thomas samuel alito fuck roberts kavanaugh coney barret challenge right thing fix fuck ups rubio hegseth entire trump administration fuck anyone wears fucking trump lapel pin supports maga fuck actual civil liberties justice fuck ya time judicial legislative branches jobs remove trump time republican party take back party replace maga parasites time democratic party stop complicit find courage repair broken nation sit remain silent say fuck fat orange fuck ruining country reclaim term fight fight fight everything effect positive change fuck em edit thanks folks pointed incorrect names couple scotus folks fat fingering passenger seat moving car suppressing rage edit popular demand added stephen miller edit idea forgot fucker elon actually got rid tesla shithead",
          "tomboy less gay bi queer gender fluid butch whatever cute catchy little buzzword trending today tired asked every time wear shirt jeans fucking tomboy wear want want comfortable clothes fuck give anyone ideas might something argued even lgbtq community even heard people say term offensive since term become derogatory offensive guess understand since literally everything offensive nowadays also hate seem anymore tomboy characters tv movies anymore make lesbian fine sometimes bc absolutely needs representation sometimes comes across lazy writing opinion feel like could send wrong message kids kids movies tv every single girl wears jeans instead dresses gay sure might great tomboys guess wan na know happened lol seems either nowadays rant absolutely hate intended absolutely rock lgbtq folk",
          "honestly weird go formal interview get job folding clothes flipping burgers positions meant flexible entry level treated like corporate roles someone willing show time follow instructions work enough talking hiring doctor short term hourly position let people earn money without jumping unnecessary hoops",
          "people around saying ah need perspective uninvolved people long term gf apartment keys unspoken always respected rule need go place send text hey going place matter home even responds simply tell place supposed away km home weeks work related stuff days instructor got accident work tried find another one luck short notice decided like pm get us st flight home next day like pay us overtime next day home resume normal work schedule get home next day like sent text gf tell back getting door confused hearing children screaming inside since none people keys low kids like brother gf thought got squatters something opening door see gf sister kid running around shower putting water everywhere plates half finished ravioli living room ground suitcases opened entrance get inside see husband couch trying hook ps must digged storage room getting verbal argument trying understand fuck said gf told could get flat weeks gone wanted visit city bit go beach gf sent text arguing telling oh ok btw sis fam flat admit blew sis left bedroom meantime told leave immediately argued quite bit gf called sis sis put speaker could hear said embarrassing told could use place threatened call police also asked brothers come left cursing children telling holidays mean little sister boyfriend cast us gf family back even family saying could stayed gf kids could vacations also read doctor prescription papers put specific order obviously took prescribed meds opened box benzodiazepine aitah making leave pretty much stopped talking anything else gf feel like gaslighted would never invite people apartment like especially without telling seems disrespectful going insane",
          "game night first movie comes mind went expecting typical comedy movie laughs turns one well written thought provoking genuinely funny comedies seen long time movies go expecting something meh expectations exceeded",
          "shower check testicles changes size shape hardness something changes go doctor today tomorrow next week dry make appointment tc one aggressively spreading cancers also one easiest cure yeah said cure remission incredibly low recurrence rate treatment guys check nuts loved ones make sure die embarrassment",
          "gave birth first kid second neither pregnancies choice choose carry term result family friend getting whatever wanted abusive parents refusing let abort talked pregnancies punishments trying defy friend wanted always physically abused parents pregnant first time abuse became daily occurrence got free months th birthday parents arrested happened came light told everyone spoke want raise kids attempts help keep even though could keep alive never bonded motherly love done best good knew even back lack love bond also messed kids went foster care system terminated parental rights another four five years lived pretty badly made dumb choices traumas struggled actually live life wanted much everything new support system never even graduated high school eventually got life together easy needed much therapy still go therapy still work progress think given past always person today happier healthier stability support needed good life married children husband last five years even though technically kids felt like first time mom many ways lot firsts pregnancies kids several months ago older kids found reached questions best answer lot could know medical history much family history info father difficult spoke therapist lot time trying explain came exist worst part leaned therapist lot help explain without burdening feelings even though technically adults easy discussion honest wanting relationship younger kid accepted oldest reacted differently feel owe relationship matter went mother act like also demand apologize marrying kids let grow foster care told adult family even never blamed denied life oldest pushed much block know either faults know people love kids circumstances fact apologize played mind apologetic still feel like could asshole sake kid gave birth aita",
          "f work team apparently reading emails considered revolutionary act big client presentation last week manager sent detailed prep email schedule dress code talking points literally everything guess many people read one presentation day show time dressing formal fully prepped notes teammates roll minutes late jeans hoodies looking like woke back uber eats order client already looking us like paying step guide presentation cover everyone blank stares even close deal client happy manager thrilled teammates happy apparently claim showed made look unprofessional one even said dressed team unity sorry next time roll wearing bathrobe hope best yeah aitah one read actual instructions saving meeting",
          "throwaway account try stay anonymous possible though incident probably specific year ago f sister f sent save dates getting married less week son th birthday since family country son never big birthday celebration sister planning post wedding brunch day ceremony reception asked would ok could something son afternoon since family already gathered wedding loved idea ran son reminded something friends actual birthday happy idea even chose venue away hotel staying sister feel encroaching wedding good far problems six months ago invitations came rsvped son ex husband picture meal options beef dish fish dish rsvped beef dinners problem told wrong reception yesterday almost year old son given child meal chicken nuggets steak fries told server mistake rsvped beef dish server took plate brought beef dinner two minutes later clarification child free wedding kids aged brunch today sister pretty much ignored really cold talk ending asked still coming son celebration since seemed like mad pulled piece paper said maybe come pay paper invoice made extra dinner confused asked apparently nearly year old son supposed get child meal caterer charging sister additional fault provide additional meal told rsvped chosen adult meal months ago year old would anyone think meal chicken nuggets handful fries would enough became big blow sister turned people take sides surprise son birthday party ended disaster almost one attended sister bride makes rules day even mom skipped sister inconsolable everyone telling sucked could taken mcdonald afterwards still think perfectly reasonable really wrong wedding etiquette",
          "f financially independent since graduating college worked practically full time studying recently paid student loans started saving buy home apply grad school afford parents made pretty clear growing needed stand high school brother honestly genius worked really hard school got full academic ride great state school graduated honors proud problem recently got extremely prestigious grad program would open lot doors hoping scholarships paid internship cover enough facing tuition housing costs one expensive cities country parents asked could help suggested contribute around get first year match take loans rest said working decade goals starting save house feel comfortable putting hold especially turn opportunities help available conversation mom got frustrated said using fund help instead asked meant said set aside back college meant used future wedding completely blindsided idea fund existed asked told considering grad school saving home said always intended wedding school property since needed engaged relationship decided give brother immediate need going lie pissed never got chance make case could used money handed someone else told felt hurt left mom said unfair money never promised want wedding made sense use something meaningful brother told know wedding fund either understands upset said ask wants go school thought trying support know brother worked hard trying take anything help feeling like parents punishing practical",
          "movies done trend far movie modest budget based recognizable property underperforming flopping box office mike jay seemingly nothing better decided look numbers discuss trend future movies based video games comic books look like long established model theatrical release need change nobody knows even less people care",
          "need rant see anyone something similar still fuming interview process went last month small growing digital agency reached linkedin web developer position seemed legit portfolio decent work offering competitive pay two interviews asked complete technical assessment build functional landing page one potential clients tourism industry provided mockups asked working prototype specific functionality spent three days building thing responsive design custom animations booking form integration even added accessibility features request feedback absolutely brilliant work exactly looking radio silence week response follow ups yesterday friend works tourism sent link hot new website local tour company exact code live minimal changes simply taken assessment made tweaks delivered paying client immediately contacted agency owner nerve say assessment materials clearly stated submissions become company property checked emails nothing like ever mentioned sending invoice consulting lawyer friend already made least k free labor anyone else experienced level scammy behavior even looking advice point want know alone dealing vultures masquerading legitimate employers feeling pretty defeated right",
          "years ago worked supervisor like reason since came work job went home end day decided terrible decided performance manage job game wrote vague bullshit asked sign since show hard facts data asked examples meeting ended document unsigned since example tried example time asked often would reviewed feedback feedback would given improvement non improvement would measured solid answer document signed meeting ended next time hr meeting documentation answer questions prior meeting decided smart feedback would given daily via email signed paper gave smug smile next day comes along shockingly zero feedback given email sent rest week get called meeting boss hr paper saying improvement put warning termination oops sorry show emails feedback given daily outlined none meeting ended next day email sent feedback responded facts data response day email sent feedback responded noting gotten follow day responded day email facts data rd day noted gotten answers prior days questions added facts data one cc ed hr person sent back apparently much discussion boss decided hard performance manage someone job work suddenly fine",
          "alright aitah ppl imma need hot takes office drama driving insane f working marketing agency years coworker jess f getting married next month initially invited whole team people wedding like besties besties definitely friendly lunch together sometimes happy hours usual work friend stuff last week office manager sarah started collecting money group gift asking would get us fancy kitchen gadget registry basically budget someone actually friends whatever planning contribute well yesterday got awkward text jess saying make cuts guest list unfortunately accommodate anymore something venue capacity family additions kicker know fact everyone else team still invited morning sarah comes desk asking contribution gift fund politely told since longer invited rather get jess smaller gift sarah looked shocked said team gift contributing full amount would mess group harmony like give single fuck icing cake know wedding cut jess invited old coworker got vp position major client suddenly room still expected drop registry someone please tell truth asshole refusing contribute full amount wedding even attending",
          "know became common thing fuck wrong leave us alone know small dog owners make joke say dog protection mine lol one bite dog death mine worth risk leave us alone care friendly dog care loves small dogs care lives chihuahua picking dog live see another day stop laughing funny one time pick dog attacks dog existed presence everyone gon na ask us pick walk away run bullshit dog owners please read comments replies small dog owners adjust mindset accordingly many people lost pets",
          "honestly words bought house july learned neighbors old hell think neighbors nosey onery young families moving neighborhood recent years walk tell shopping thrift estate sales furnish cute house morning came home estate sale beautiful wingbacked rocking chair needs reuplostered leather terrible condition previous owner started pulling im unloading bed truck neighbor carol sticks giraffe neck fence starts squawking beautiful said thanks got estate sale triggered parasites brain shit teleported truck starts going much needs chair rock grandkids sleep much would appreciate told got future babies rocked sleep still needs lots work used mind chair large small starts offering money paid telling dont need dont kids yet grandkids little long firmly telling interested selling offered standing bed truck looking driveway firmly said carol im really interested selling please go home pointed side fence apparently shouting aggressive ran home later day husband said something husband getting home game telling edit spoke like dog nasty neighbor husband needs straighten neighbors nuts rude also perhaps house accidentally burns sure wasnt edit tried attach photo chair cant attach community edit meant offense said old hell know barely half way life time trying paint caricature carol neighbors something really wrong folks cul de sac",
          "posted burner account fiancée occasional reddit user year old man living fiancée year old woman better part year overall cohabitating gone incredibly well meticulous chores generally communicate better couples know however lately disagreement difficult settle fiancée leaves used period products top open trashcans bathrooms guests use like ask cover discarded products generally grossed menstrual cycle blood worked healthcare pick pads tampons fiancée without feeling awkward may tmi opposed period sex phase however neither occasional guests expect see blood soaked tampons complete clots every time use bathroom jarring seeing bloody scene otherwise clean bathroom without warning tried come minimally invasive solutions fiancée wrapping products toilet paper discarding past partners done even purchasing closed top trashcan fiancée firmly rejects plans saying go monthly ordeal extension guests get complain see aftermath sympathetic experiences time response feels retributive one recent occasion guests coming game night pulled extra toilet paper gently laid top trash covering bloody products arrived fiancée noticed confronted guests left accusing ashamed going previously discussed taking step back shows intentional visible products enough checked see still place point feels spiteful aita would folks suggest situation even intervention requires effort part closed top trashcan rejected prejudice love fiancée could small discussion becoming mountain conflict",
          "technology always makes better jobs horses sounds obviously wrong say loud swap horses humans suddenly people think sounds right cgp grey course short sighted soon take employer job ais ai vastly smarter richer powerful long think ai continue listening said owners control something think much think cow control something control vast robot armies never sleeps hack computer system make copies around globe space making impossible kill",
          "no extra stress bby",
          "hi saving years parents aware even opened thorugh different bank track whatsoever growing great finances like lots debt living paycheck paycheck always stressing bills good people worked hard suffered lot financially working since always super careful money college landed decent job tech pretty aggressive saving nothing crazy managed put away k last years emergency fund investments well k win hit messing around jackpotcity insane also went towards savings account immediately thing parents idea think getting like people age whenever money comes change subject downplay part feels guilty hiding especially since sometimes mention worry financially part remembers whenever money growing borrow bills emergencies rarely pay back even college got small scholarship check convinced use family expenses blame cuz struggling learned early money visible became family money hard decision make turend better decision",
          "apologies smart question learning know much stock market finances question economy bad everyone losing money everyone still traveling things like one acting like lost money",
          "back college one semester took bunch books retrenching big project back internet research admissible needed properly site sources school life got away forgot return books kinda forgot end semester got late library dues bill mail think fees like cents per book per day least books month late money pay library fines could get grades transcript semester instead sheepishly returning books paying fines put books backpack returned correct places shelves called library next day questioned validity letter regarding overdue books librarian left hold minutes returned phone apologizing seemed books fact returned library dues erased hold back transcript",
          "tough days sharing story feel like owe guys update situation first post middle aged man supposed getting married months fiancée together three years engaged one time genuinely believed page life values importantly honesty background worked hard build stable financial foundation wealth home outright personal debt saving investing since early twenties priority especially since parents went nasty divorce ruined financially month ago discussing wedding costs brought prenup cold controlling way wanted protect life worked hard build upfront still fair agreement leave nothing expected adult conversation instead immediately got defensive said things like already planning divorce thought trusted tried explain trust transparency mutual protection shut completely red flags started popping became evasive every time money came started noticing weird things credit card offers mail missed payments shared expenses said cover lots handle later energy asked directly debt admitted credit card debt student loans mortgage credit cards said accumulated years unexpected expenses dumb splurges never told forced issue stunned merge lives woman legally become spouse think deserved know six figures red told made prenup non negotiable need protect emotionally financially told willing still move forward without something writing protects premarital assets lost called selfish said turning love business deal said house money truly team since refused talk prenup barely speaking even mother called accused humiliating daughter materialistic want liable debt create make sure life built relationship protected seriously reconsidering whole wedding debt hid refused take responsibility treating like bad guy trying protect almost certain could pay debts since part partner friend business refuses aitah thinking walking away final update planning come back lot people messaged honestly hell days figured give update yeah wedding officially posted tried one time talk fiancée well ex told trying cold controlling needed protect also said roles reversed completely understand wanted told could still move forward wedding signed fair prenup one clearly said debt home savings mine things go bad also said go therapy counseling felt like deeper trust issue take well said prenup insult basically planning divorce started crying said humiliating destroying everything built money thing money fact kept massive amount debt hidden choice tell even told pushed partnership avoidance told go called wedding sucked still sucks told venue canceled could let people know family furious mine supportive trying say told lost lot money deposits suit family flying state honestly nothing compared could happened ignored gut moved two days ago barely spoken keep second guessing even want also want wake one day financial ruin wondering ignored every red flag avoid hurting someone anyway thanks everyone gave advice listened heartbroken yeah feel like right thing make easy necessary",
          "back worked night shift grocery store florida stocking frozen one night noticed walk freezer f go tell manager real hardass always barking orders like running boot camp cuts mid sentence paid think stock damn shelves cool next morning whole seafood section trash shrimp salmon crab legs thawed leaking store lost corporate shows pissed manager tries throw bus report said manager told paid think checked cameras audio confirmed everything corporate backed hard dave reassigned aka fired week later never saw got moved dairy lead month",
          "works full time never really talked personal life weeks ago noticed small note near register trying get custody year old brother losing parents drama quietly trying keep family together people started pitching regulars donated someone made gofundme café owner matched one knitting ladies comes every morning gave spread little raised enough cover legal costs found shift stood wiping counter tears eyes little brother comes sometimes school backpack muffin homework corner table one quietly beautiful things ever seen",
          "currently undergoing cancer treatment end planning take holiday friend family member travel side world based uk thinking vietnam south korea japan somewhere around never asked brother would consider coming got excited said daughter f son would also come along incredibly picky eaters niece eats plain beige foods even burger mcdonalds chips nuggets pretty much kids diet know brother wife tried hard introduce foods wont eat love two kids bits really however want travel experience food culture major part want get beaten path experience things life brave enough experience selfishly trip end cancer celebrating life cancer also something easily afford might asshole asked brother come travel said kids would come told would rather travel someone else disappointed angry frustrated want travel family feels selfish travelling children also fulfilling would also like spend time child friendly things holiday already gotten niece nephew excited travel make things worse live different countries see lot disappointed learn pulled plug plans feel conflicted aita",
          "go first early whenever deodorant ran low would rub little bits left armpits fingers gave good weeks extra deodorant babyyyyy made work",
          "original post havent quite figured link hopefully hi reddit back last night posted aita kind blew know reddit standards think views alot stuff happened today matt fake name boyfriend came back house assuming coming back get things leave unfortunately wrong literally told could forgive moving back good thing shocked deadass sane person would grabbed remaining stuff gave told gtfo got really mad worried would get aggressive called kate sil backup really helpful drove matt home soon changing locks comments pay mortgage even think matt knows mortgage live canada sure legal rights kick stayed year trying seek lawyer advice thank help try update",
          "sheldon grief",
          "try really hard keep mouth shut comes baby names especially family everyone got feelings say damn thing without becoming generational feud one one broke cousin born raised suburban texas left country except one inclusive cancun recently baby girl proudly announced baby shower chosen authentic irish name loves vibe celtic stuff words mine name siobhan irish name yes cousin spends day hooked also inspiration would come things okay cool classic name beautiful say right said loud see oh banny blinked thought maybe joking said gently oh mean shiv awn right looked like insulted child soul see oh banny say tried explain irish spelling work english phonetics names like siobhan niamh aoife look confusing established pronunciations doubled well think beautiful way making went small rant name evolve culture america version irish still sure means tried one time child future sanity know siobhan pronounced shiv awn ireland maybe want know older cut well america america see oh banny baby named see oh banny one day confused tries buy keychain dublin",
          "wife f currently upset told skinny wife loves shop buy clothes never personal opinion style barely dress bad either gives outfit reveals nothing negative say clothing way looks night showing outfits bought asked opinion body absolutely love wife always thinks looks perfect tell goes tells skinny used younger chubby asks think shes gained weight think shes skinny category truthfully told got upset seemed really offended mood rest night ruined tried explaining think skinny unattractive okay also first child three years ago expect stay thin frail forever skinny entire life midsize truthfully really notice weight gain slow overtime notice really care think differently feel like ah saying hurting feelings want lie question seemed harmless",
          "used call friend house phone ask friend parent permission speak friend",
          "get something put preferences change still anytime ask chatgpt question starts something like yo bro totally valid deep dive asking honestly big researcher energy ask stop straight forward like hired older millennial asked think gen z talks updated model big deal wondering anyone else noticed change",
          "unacceptable census know ended nothing ok happen people right exist lives importantly people must stopped",
          "f friend f non verbal daughter f let call allie watch days week home daycare require contracts every child never filled special needs section point asked take allie mention type speech delay non speaking issue although allie speak much first figured shy communicated needs well said small things frequently last month bathroom keep door barely cracked wedge listen dangers walk see walked said ew stinky laughed told mom pickup said met isnt verbal would mock reassured allie spoken quite times thought huge milestone first arrived barely saying anything told believe messed would make something like upset told trying upset lying either press issue might ah decided record allie voice recording face telling name favorite animal full intention showing mom recording scared first blowup know would react short pickups drop offs told water bridge want talk anymore even insisted went birthday party happy allie could continue ended forgetting recording fast forward friday month later birthday party child party socializing family members honestly total dumbass forgetting family fully thought nonverbal mentioned funny things allie said reading animal book turns person talking sister started yelling saying non verbal lying sister start berating saying f cked making allie verbal point tired called liar two disabled children son non verbal many years lie something like everybody staring scared felt backed corner remembering recording decided prove case play voice recording everybody shocked friend told leave told want cause issues gon na berated called liar said crossed line recording daughter hole embarrassing party feel horrible wondering let go edit clarification extra context whenever would pickup drop ask much nap much eat would hand daily report would leave stay small talk even would try initiate know people busy lives gon na try make stay talk life story also recording embarrass way mean vindication admit shown immediately recorded also human afraid second blow saying water bridge happy gon na take allie away put back mind forgot feel bad went defense hence post know unprofessional unethical apologized profusely everybody party family well putting cameras home everybody access well updating contracts let parents know going happen going forward peace mind everybody sounds good also making call cps situation see say thank everybody kind words",
          "ysk unlike humans dogs instinctively mask discomfort survival trait limping sleeping sudden clinginess withdrawal changes appetite licking one specific spot signs something wrong many owners miss early warnings assuming age mood catching issues early like arthritis dental pain internal problems save dog suffering reduce long term vet bills something feels worth quick check",
          "background f fiancé together years baby back lost job around time lease apartment grandma offered us move basically little apartment rent free thrown idea going school everyone agreed good idea fiancé paid grandma watched baby went class graduate semester part time couple semesters fiancé making k year past couple years k first moved saved good amount money agreed wait get married finished school could buy house together looking houses seriously past couple months found one love started talking mortgage broker dropped bomb mortgage deed said anything say anything meeting afterwards told thought buying house together pay half mortgage said would paying half mortgage name told would mean right house said knew said since saved fair rights house case end things told wants paying mortgage said partnership wants place fine paying called btch saying paid everything past years including schooling told stayed home watched child pay daycare ended saving us money since would able work part time said care need pay half since already agreed reddit aitah refusing pay mortgage eta originally supposed move grandma months saved money renting new place thought maybe good idea go school make money could potentially buy place grandma said stay finish school save life together fiancé agreed would buying house together paid schooling getting married student loans would problem mine encouraged finish education could give child better quality life edit saying paying schooling would expensive rent schooling total costed across years year average",
          "lived first round college admissions parent still mild shock kid got near perfect gpa top percentile sats global upbringing articulate essays thoughtful recs discipline issues slacking silver spoon genuinely good smart hard working human things supposed yet rejection rejection ghosted brand name schools acceptances respectable one private school came aid decent offer nothing like expected given strong profile applied class ish would type student every admissions office drooled feels like barely looked get game changed way applicants fewer spots holistic institutional priorities man brutal watching kid play straight still get clobbered handled better honest also weird realize probably get schools got back anyway proud parent slightly bitter xennial feeling age wondering meritocracy sold ever really existed caught tail end something gone",
          "today birthday f husband decided go lunch day going well everything seemed normal way back home car asked would mind hired sex worker blow according blowjob skills good asked serious kept asking would mind got upset obviously noticed upset said hypocrite making drama wanted ruin day etc feel hurt thinking divorcing said jerk reason overreacting like cheated aitah",
          "manual help get testosterone levels back within normal healthy range trt service research backed benefits health well results life changing discount home testosterone blood test manual use code mark link car wrapping hit new wheels car hit www wheelmania co uk thank kinetics studios video production photography studios everything possible kinetics studios uk premier destination automotive photography creative content production youtubers influencers founded passionate car enthusiasts visual storytellers built purpose designed studio space blends cutting edge technology artistic precision probably best photo studio facilities uk outside london making everything much easier big thanks follow second channel social media links mark mccann instagram tiktok facebook wife jayne mccann merchandise store",
          "two daughters graduated college moved back find job house late husband house robert context dad got divorced years ago got remarried robert year old son tom girls good relationship robert fact hated dad filled heads lived dad chose going college robert passed away months ago long battle disease son tom girls dad got remarried last year woman basically witch girls stopped visiting lived rental apartment college dad used pay rent stopped wife fought girls get job pay rent asked could move tom course said yes although knew felt tom moved nice tom also distant days ago expected call needed leave thd house tom bed day sick asked girls look hrs til got back left quickly hour later got text tom asking come home threw room said called sisters help one responded immediately tried call lines busy best come home earlier thinking girls home turned one downstairs entire time said using kitchen appliances hear tom going believe til tom said tried text respond checked phones tried deny right message read response blew called pathetic argued making act like parent placing resposibility knew hated robert fine might little understandable tom kid part treated like knew neglected purpose told one week move started arguing even crying saying harsh acting worse dad new wife said discussion giving silent treatment basically making feel guilty whole thing maybe made wrong decision seeing neglected brother merely resentment hate makes feel upset quite concerned around",
          "still shaking helping mom clean attic noticed part wooden wall loose inside small envelope labeled case ever need know inside folded piece paper yellowed faded father handwriting said never good saying always saw always proud person becoming cried hard years know meant find years ever somehow feel like got say goodbye thanks reading internet strangers never imagined many people would connect thank beautiful kind deeply human responses reading one one anyone lost someone alone missing alone healing",
          "americans believe separation church state maga believes donald trump god messenger earth americans believe peaceful transition power maga believes taking power force necessary americans believe democracy maga believes insurrection americans accept election results maga americans believe due process maga believes concentration camps americans love canada maga hates canada americans believe dictator invading neighboring country war crime maga believes invading neighbor right thing americans believe russian war criminal vladimir putin enemy maga believes russia ally americans believe ukraine ally maga believes ukraine enemy stop calling maga russians influencers people obsessed conspiracy theories anything power avoid actual research see parroting russian bullshit even looked deeper theories believe coming would realize anywhere near trustworthy think like actually looked hateful become unamerican see cult tactics used make mistrust media get correct information one source isolate give mission something make lose identity save babies give enemy focus dems left libs save babies save babies whatever motto used give savior person solve common brainwashing cult tactics everyone knows used one day turn never less fun less hateful still act super smug like know something everyone else really super ignorant brainwashed proud believe shit cause want jesus mutual love movement mutual hate hate group wake fuck want asleep woke brainwash longer americans russian influencers want burn country ground rule ashes smh christian nationalism kkk without hood robe nothing christian movement facts",
          "dear friend name denzo write letter heart weighed despair desperation find place never imagined place feel completely alone broken overwhelmed life burdens every day become struggle survive owe money someone debt like dark shadow follows everywhere decent meal days gnawing hunger adds constant ache inside trusted called friends left behind needed one turn loneliness hopelessness pushed brink even started wonder ending might escape crushing pain know may sound desperate reaching plea help need money pull back edge small amount could first step toward getting food safety chance seek help desperately need money lifeline everything seems lost find heart help matter small contribution would giving reason believe still hope dark world kindness could spark reignites live helps find way rebuild shattered life thank taking time read plea hold onto hope someone understands pain offer hand desperately need hope left denzo",
          "tesla reported miss top bottom lines first quarter earnings report tuesday automotive revenue plunged year earlier key numbers compared lseg expectations earnings per share cents adjusted vs cents estimated revenue billion vs billion estimated total revenue slid billion year earlier automotive revenue dropped billion billion period last year tesla said one reason decline need update lines four vehicle factories start making refreshed version popular model suv company also pointed lower average selling prices sales incentives drag revenue profit net income plummeted million cents share billion cents year ago brutal start year tesla ceo elon musk spending much time president donald trump white house overseeing effort dramatically downsize federal government president sweeping tariffs plan led concerns costs increase parts materials crucial electric vehicle production including manufacturing equipment automotive glass printed circuit boards battery cells tesla shares far suffered worst quarterly drop since period ended march stock little changed extended trading tuesday company refrained promising growth year said revisit guidance q update shareholder deck tesla cautioned investors uncertainty automotive energy markets continues increase rapidly evolving trade policy adversely impacts global supply chain cost structure tesla peers company said dynamic changing political sentiment could meaningful near term impact demand products tesla faced widespread protests u europe musk actively supported germany far right afd party earlier month company reported decline first quarter deliveries year earlier tesla struggling keep pace lower cost competitors china laggard robotaxi market currently dominated u alphabet waymo company promised launch first driverless ride hailing offering austin texas june company reassured investors tuesday remains track pilot launch austin point begin building humanoid robots pilot production line fremont california year operating income quarter slid million billion year earlier resulting operating margin company cited increase expenses tied artificial intelligence projects one factor decline company would lost money automotive sales without environmental regulatory credits quarter revenue credits tesla receives selling fully electric vehicles increased million million quarter last year energy generation storage revenue jumped quarter billion billion year ago company said growth ai infrastructure creating outsized opportunity energy storage products stabilize grid shift energy needed provide additional power capacity tesla uses foreign suppliers energy business company said increasing tariffs may cause market volatility near term impacts supply demand source tesla tsla earnings report q",
          "background f fiancé together years baby back lost job around time lease apartment grandma offered us move basically little apartment rent free thrown idea going school everyone agreed good idea fiancé paid grandma watched baby went class graduate semester part time couple semesters fiancé making k year past couple years k first moved saved good amount money agreed wait get married finished school could buy house together looking houses seriously past couple months found one love started talking mortgage broker dropped bomb mortgage deed said anything say anything meeting afterwards told thought buying house together pay half mortgage said would paying half mortgage name told would mean right house said knew said since saved fair rights house case end things told wants paying mortgage said partnership wants place fine paying called btch saying paid everything past years including schooling told stayed home watched child pay daycare ended saving us money since would able work part time said care need pay half since already agreed reddit aitah refusing pay mortgage eta originally supposed move grandma months saved money renting new place thought maybe good idea go school make money could potentially buy place grandma said stay finish school save life together fiancé agreed would buying house together paid schooling getting married student loans would problem mine encouraged finish education could give child better quality life",
          "sure liberal policies might make republicans angry side effect things think otherwise good meanwhile republicans seem make triggering libs goal every conversation",
          "sick tired people saying friends coworkers talking friendly people mean play video games together go bars talk life lonely today people maybe friends days best social creatures need companionship jobs allow make friends people already conversation starter easier walking stranger plus someone relate complain work employers also use societal stigma make hard pay transparency last job friends comfortable asking raise sharing mine nobody got salty someone got good raise say happy edit mean literally every coworker become friend friends literally everyone department friends ish still way abnormal society talking willingness make friends say leave yall get fucked edit saying amicable coworkers hopefully given mean actual friendships go beyond boundaries work also talking managers saying like family huge red flag talking someone work strike conversation realize oh like talking person start friendship way",
          "rented small event space surprise party place looked nice online decent price host seemed polite enough event nowhere hits deep cleaning bill said left place unusable wild barely used kitchen left cleaner found asked proof sent blurry photos trash even appealed booking platform denied clearly running side hustle scam hundred booking hope one fights hard cleaning found business every platform could yelp google facebook event site left detailed calm star reviews photos event showing spotless place left turns one reviews picked traction others came forward scam within weeks rating dropped last checked offering bookings guess someone trying clean reputation",
          "sitting library girl front boyfriend course smells amazing like good good even one time thing almost every time girl sits near like perfume commercial meanwhile guys like bro deo vanished minutes magic girls scent game whole different level creepy genuinely confused impressed",
          "ice simply arresting people without showing warrants community make sure spread correct information awareness rights people la megaphones let communities neighborhoods know ice present edit ice always hand please focus second part actionable items prevent arrests rather wording post",
          "connected someone dating app texting agreed restaurant date first time meeting real life clarify profile listed people time biggest red flag chat talked punctuality really important virtue planned date specifically told text something come delays come time day date isnt wait check phone hadnt texted anything finally arrives minutes late greets doesnt even apologize late ask late shrugs says taking ready took longer expected ask drove already knew wouldnt make time says yes ask didnt text said didnt little late started looking visibly annnoyed point excused said values dont align left proceeded shout blew phone unmatched got home aita absolutely zero tolerance time without good reason especially dont even communicate properly arent even sorry know standards harsh feel like open gave plenty warnings",
          "quiz math quiz math get right",
          "never find cheated rae",
          "kindness ekels society alive",
          "f dating boyfriend ryan little three months things going well see times week enjoy company gradually getting know two weeks ago ryan brought idea moving together surprised three months feels way soon something big especially considering lived alone past five years really value personal space told gently could ready kind commitment yet wanted continue building relationship slowly take well said putting walls knew one hesitate also mentioned lease ending soon moving would help save money part made uncomfortable like less love convenience since distant keeps bringing passive aggressive ways even joked friends keeping arm length treating like guest think cautious give try seen enough rushed relationships crash burn know better starting question though guarded three months soon aita refusing let boyfriend move early",
          "story reverse malicious compliance maybe anti malicious compliance back story always loved ketchup use lot ketchup hamburgers eat mcdonald ketchup pump unwrap hamburger pump quarter cup ketchup onto wrapper dip bite burger drenched ketchup fast forward today best way get mcdonald order app imagine order hamburger app always hit customize select extra ketchup time burger comes adequate amount ketchup regular amount fine queue imagine malicious compliance sometimes order extra ketchup customization open hamburger looks like someone murdered picking results insides starting slide much ketchup burger think bet employee saw extra ketchup customization said want extra extra ha ha ha ha boy love happens like way burger thanks malicious compliance random mcdonald employees",
          "tw loss miscarried yesterday afternoon pm never miscarriage baby wished fresh sobbing right apologise advance make whole lot sense husband turned yesterday f pregnant mine husband nd child yesterday weeks pregnant day yesterday saw beautiful heart beat flicking screen today devastated playing year old felt pressure lower abdomen long later noticed bleeding let husband know immediately discomfort bleeding long passed believe fetus messaged think lost baby wanted keep updated guess seeking kind emotional support asked could come home said course urgent said think pain bleeding getting worse starting feel lightheaded year old unattended playroom right friends family near could call would get us quicker could clean crawl stairs take paracetamol make son lunch put nap point husband still home working approx mins away took closer mins get back hours later asked stopped tesco pick beers ended poorly losing lots blood lightheaded vomiting etc take e time discharged almost pm last week said make favourite dinner birthday reminded almost home said feeling whatever takeaway wants said fuck sake breath muttered something along lines bullshit ruined birthday stop get takeaway drove straight home put son bed went bed sure see morning already left work messaged day got home hours ago pm giving silent treatment tried speak hour ago ignored called disgrace slammed bedroom door locked bedroom mum since messaged said need patient also loss ask anything obviously speaking mum opening speaking said harsh feeling utterly emotionally neglected right body emotional physical hell understand miscarriage came fucking inconvenient time birthday sure hormones making feel crazy nuts contemplate divorce aitah calling disgrace",
          "baking kick lately watching way many food shows dangerous hobby know since payraise past month decided splurge fancy chocolate high quality ingredients make thought would world impressive brownies recipe called special dark chocolate really intense almost bitter taste personally love spent hours making things perfect fudgy center crackly top whole deal brought work put break room little help note went day feeling like domestic god hour later started noticing people whispering looking direction manager pulled conference room looking super concerned turns everyone thought brought special brownies tasted weird intense fancy chocolate one guy claimed felt different eating three probably sugar rush recently mentioned stressed needing vacation hr got involved talking drug testing someone almost called police explain excruciating detail fancy chocolate purchase even pulled receipt banking app prove bought regular baking ingredients worst part threw away rest brownies cost like make tl dr spent money fancy chocolate made gourmet brownies accidentally convinced workplace distributing drugs",
          "new co worker claiming ex para trooper seem know basics like joined left first stated joined immediately school fit age also claimed years originally pointed changed years also said utrinque paratus moto para regiment get reference obviously something accuse someone without concrete proof whole thing stinks",
          "new us dates sale video complain everything boring sad ok enjoy merch follow watch podcast listen podcast thumbnail comment praying video ur reading thanks watching us tour promo introduction loss colour phones early tech coolest design trend time internet movies tv architecture retail stores happening sad beige consequences",
          "claim torture less effective thought unreliable human rights violation therefore useful true still used cia mossad mi",
          "faced biggest fear plastic surgery anazala family order book today faced biggest fears first surgery ever check latest videos vs youtuber houses ft jordan matter gave ages spend freely _____ jordan matter collab gave credit card ages royalty family collab ben azelart collab built secret zoo house contact us contact ______ musicbed syncid mb vmaiiz ejeq",
          "preparing go uni mom confessed tuition money years dad would give cash deposit first one spent rest tbh even surprised used disappointed promised would pay back asked never tell dad four years thanked tuition money took loans reasons narcissism arms length relationship would say pretty close assumes smiling nodding drones stories relationship family cottage puts everything else lives days year going gf days couple summers begrudges takes away time dad supports going pull recently told time start paying maintenance cottage since use actually suggested k wildly disproportionate told could take tuition iou could negotiate amount dad speechless texted later say manipulative bring tuition threaten tell dad went thinking first hurt offended nice thing get something second guess really whole tuition thing witah bringing ancient history paying use cottage edited add time never occurred told thought right thing protecting pretty much summarizes childhood",
          "fake pregnancy pt",
          "keeping streets safe",
          "one mantis heal total healing instant healing health seconds hide health return peek hp mantis hot currently rolling throwing play smarter stop whining",
          "daughter multiple congenital birth defects led lifetime complications medically complex kids fix one problem create two lived years probably years long lived life hospitals literally months time would sometimes home week two end back think ever spent two consecutive months hospital entire life went palliative care comfortable hospital anywhere else sad warrior kid whole identity making cards nurses decorating medical equipment tough capital never went school meaningful capacity never played sport instrument never real friends speak never health take real hobbies entire life made surgeries shots nurses fucking medical equipment decorate gave pathetic life single intervention willing put buy time happiest accepting kid ever met last six months done refused listen asked could stop would push shut went along wanted wanted make happy knew done selfish died incredibly agitated upset think scared let go knew going strong enough let go sorry",
          "got four kids youngest turned five daycare years basically makes village elder parents solid decade two younger moms terms normal smiling always saying good morning like second nature warm pleasant little ritual dads hand peculiar like sort emotionally constipated secret society say hi nod dare offer friendly hey look like asked borrow toothbrush first thought maybe accidentally giving weird vibes like friendly dad clearly get memo nope quickly realized acknowledge either like silent hoodie clad brotherhood mutual avoidance also wife seven years younger objectively less weird noticed seriously happened",
          "republicans claim foreign businesses governments hired hunter paid millions funneling money biden family curious longer care presidential corruption trump funneling billions dollars openly trump coin melania coin tmtg stock etc",
          "married wife f six years met dated year getting married things good long time past two years started realizing grown different people want different things different priorities completely honest love felt slowly faded cheat lie fell love tried communicate therapy gave time eventually came conclusion staying married would delaying inevitable fair either us told wanted divorce understandably upset things escalated said wasted time used good years leave wants half everything house retirement account investments even though contribute much financially work primary earner marriage signed prenuptial agreement got married fair lawyer pressure clearly laid would happen ever split protects assets brought marriage entitle either us spousal support unless certain conditions met saying prenup matter emotionally conned dead end marriage wasted youth even though legally binding morally give half took best years gave nothing back see way loved married faithful supported emotionally financially tried everything make work falling love crime think punished something maliciously aita sticking prenup giving half says wasted time",
          "ysk seeing multiple posts dog attacks people comments giving absolutely terrible advice know proven way stop dog attack oxygen deprivation using spare lead pass rope cord attacking dog neck pass loop cinch tight like noose hold dog releases target either air passes use hands try pry dog mouth open try make loud noises likely heighten attacking dog try use body attempt subdue dog whether holding trying choke god sake stick finger butt way force dog try breathe depriving oxygen edit advice dog attacking another dog animal suspect dog may attack try get high like car attack imminent cross arms chest try maintain stance hope loses interest pulled ground maintain crossed arms ball protect vital organs face pray loses interest someone help",
          "tonight found girlfriend together year active dating apps phone hinge tinder bumble tried claim snooping ex husband already felt ridiculous calmly asked talking anyone said claimed even apps downloaded already seen active matches conversations asked show apps walked away opened deleted messages showing empty inbox acting like nothing calmly pulled phone showed screenshots taken earlier went rant wanted validation never met anyone trust told come back level lying hiding gaslighting dealbreaker begged apologized walked loved feel shattered want revenge drama care person want well want move forward would shoes",
          "st grade going go field trip zoo girl scout troup vividly remember mother shaking making promise would scream make scene anything leave man anyone trying take made scream loud could showed kick certain parts etc told matter man says weapon remeber saying knife particular idk said anything else scared scream fight bite kick get many peoples attention could understand could go friends sleepover parties stay let go peoples houses know older brothers used hate understand never go nd location bunch men hop van try kidnap girl women assume kidnapped ice need id show judge signed warrant warrant illegally kidnapping person terrifying literally man kidnap women pretending ice mace legal states deadly white women screaming getting involved upsets racist dynamic karen good demand see officer charge demand warrant demand badge badge number know happens women children get thrown back van",
          "currently weeks pregnant second child know gender yet plan finding birth problem husband really wants know think since works lot rarely ever time come gyn appointments see far telling doctor wish find fighting thinks right parent know gender informed date everything says respect wish decide reasons wanting know following husband wants son know fact made clear past already daughter even gender confirmed said wished boy good dad loves girl much pretty sure possibility next child also girl unsettling although admit views daughters sort failure really like attitude want enable support questionable behavior big gender reveal think really matter gender new baby last concern parents mind something influenced anyway says also care wants know mentally prepare difference preparing boy girl babies treated sleep drink fart smile babble cry feels like wants mentally prepare excited happy boy coming terms girl really sit right baby healthy growing enough time accept adapt whoever child gon na think handle disappointment case another girl happy baby really wanted another one happening want enjoy journey peace although care gender afraid disappointed would rub way would definitely dull excitement think neither fair baby hormonal juggling toddler pregnancy exhausting enough mood swings quite lot already think stable enough balance disappointment plan us find birth believe disappointment possible girl gon na secondary joy relief exhaustion much prominent birth first child know excited happy husband hold healthy child arms much softy inside sure smitten next baby well think asshole right know",
          "years ago worked graphic designer boutique marketing agency paid barely minimum wage despite charging clients premium rates work fresh school desperate experience knew created hundreds custom illustrations logos branding packages social media templates regularly worked hour weeks overtime portfolio grew impressive bank account reflect toxic workplace next level creative director would criticize work front clients make look valuable account managers would promise impossible timelines without consulting blame deadlines missed year gathered courage asked raise showing designs directly increased client retention brought referral business agreed valuable said raises budget next week owner bought tesla quit two days later backup plan took months find stable work eventually landed company respects time pays fairly yesterday discovered still using portfolio site designed maintained personal domain never paid rights even worse passing newer designers work mine leverage reputation former clients took screenshots evidence downloaded everything records deleted entire site also changed passwords revoked access premium font libraries purchased money going wake broken links missing assets lot explaining clients fuck around find",
          "boss panic mode doctor note fake sick like pro boss handle long weekend come",
          "moving us india tariffed apple bring job back america sign math capital efficiency feelings",
          "president donald trump discussed first days office exclusive interview abc news discussing wide range topics economy immigration foreign policy subscribe abc news youtube abc news daily source breaking national world news exclusive interviews live streaming coverage download abc news app latest headlines alerts watch coverage breaking news live events abc news live watch full episodes world news tonight david muir read abc news reports online abc news home evening newscast world news tonight david muir good morning america nightline week george stephanopoulos abc news live prime linsey davis plus daily news podcast start connect abc news social media facebook instagram tiktok x threads whatsapp linkedin",
          "honestly words bought house july learned neighbors old hell think neighbors nosey onery young families moving neighborhood recent years walk tell shopping thrift estate sales furnish cute house morning came home estate sale beautiful wingbacked rocking chair needs reuplostered leather terrible condition previous owner started pulling im unloading bed truck neighbor carol sticks giraffe neck fence starts squawking beautiful said thanks got estate sale triggered parasites brain shit teleported truck starts going much needs chair rock grandkids sleep much would appreciate told got future babies rocked sleep still needs lots work used mind chair large small starts offering money paid telling dont need dont kids yet grandkids little long firmly telling interested selling offered standing bed truck looking driveway said carol im really interested selling please go home pointed side fence apparently shouting aggressive ran home later day husband said something husband getting home game telling nasty neighbor husband needs straighten neighbors nuts rude also perhaps house accidentally burns sure wasnt edit tried attach photo chair cant attach community",
          "think fits social issue created politics hope removed scrolling insta saw way many posts way many likes glorifying woman yelled slurs year old autistic black kid comments filled act like one get called one west healing even women inspiring misogynistic racist let get fundraiser million queen actual fuck straight mask unapologetic racism feel safe confident say stuff like hate speech policies social media platforms allowing world going terrible direction hands genuinely afraid",
          "welcome tea weekly discussion thread posted pinned every monday pst est use thread drop tea may matter big small please post requests tea thread separate anyone tea thread posted every week thursdays see chronological list past tea threads click get breakdown discussion thread schedules click questions check faq page",
          "sick note friday boss crying friday tired want sleep boss chill worry got sick note weekend plan",
          "finally able pin feeling living america anti life whenever talked people like living city tons response like could never cause hate people like living single family home deep suburbs say like suburbs prefer take train rather drive like oh hate around people train like private car like wan na tolkien esque dragons sit big pile gold empty mountain everyone seems seen burden default even inherent value worse negative value constant demand prove existence value deserve people wan na help anyone public healthcare fuck housing homeless absolutely tf even tell cheaper things current system say money fact like people deserve single goddamn thing oh get people started immigration see problem even peaceful lawful residents deported prison another country general indifference violence pain example one reason like cars cause k deaths per year many children school shootings _frequently_ children talking yet people reaction something like idgaf affect cares ability drive supersedes children right alive get feels depressing isolating",
          "link original update new update people asked update original date wedding passed think appropriate weeks following discussion dave last update number mutual friends reached asked everything ok ignored messages went living life dave reached grandparents grandparents said need talk dave figure ignored month last update dave mom reached said op hope well come listen know number people tell think want hear say many words want want completely understand tone tenor different everyone else decided meet met back porch house told everything breakup leslie including broke getting invitation plus one subsequent meeting dave kim rescinding plus one leslie upset meeting dave everything discussed decision say use property wedding explained everything pretty upset asked give hug said yes gave hug cried bit asked anything wanted say asked perspective everything talked really know leslie broke heard rumors cheating like believe know broke thought happy good relationship admitted upset looking forward coming future wedding dave kids around age kids sending time together house like dave used ultimately felt place say anything since grown man entitled live life see fit said dave jackass one told leslie behavior line deeply empathize leslie dave mom told things know breakup longterm boyfriend met dave dad year half absolute wreck person time said lot things proud character told dreamed certain life going dream scattered year half would done anything get dream back judge leslie thinks leslie needs therapy shot shit bit left next couple weeks kept getting calls texts going various people involved decided rather factual way lay everything drafted mass text message laid exactly wedding happening home went everything shared dave mom also sent email let known anyone showed house original wedding date would call police sent message email number mutual acquantiances friends apologized contributed situation also shit apparently hit fan wedding dave lied conversation kim apparently told begged pleaded let wedding property dave reached apologize see would willing talk told thought best talk awhile lot people mad leslie family blaming wedding situation one showed house original day wedding far know wedding date limbo",
          "okay know might sound weird confess something nurse definitely judge patients based veins big straight beautiful veins instantly love mvp could get blood start iv eyes closed veins tiny hard find moving around like trying escape already mentally preparing struggle always stay calm professional outside inside either celebrating quietly panicking yes ever wondered whether nurse silently evaluating veins answer absolutely yes",
          "pretty stark movement anti intellectualism us among parents older generations think college teaching children hate parents push agendas public colleges especially afford waste time effort really trying fully convert people little time professors anyways reality often first taste freedom away parents kids find life without mom dad way peaceful want shock system truly comfortable space first time going back feels like dread even colleges pushing ideology consider kid little faith would immediately drop beliefs stranger",
          "minute video interview cmo content marketing role started fast paced questions like make great content strategy minutes started glancing looking screen check portfolio website examples related asking also mentioned notes prepared like always interviews suddenly paused pretty hostile tone told eye movements disconcerting super smarmy tone said something like piece interview feedback clearly accusation argue told first time notes prepared every interview doubled started saying something else eye movements point hung zoom call lol found later blocked linkedin even connected still believe weird confrontational anyone else dealt something like edit guys think found interviewer reddit account edit damnit sad guy deleted original comment good thing screenshotted hit downvotes edit cringey ass response someone original comment let see deletes edit deleted response ahahaha thank u mberlight screenshotting well",
          "f boyfriend attended mutual friend wedding close friends us brought boyfriend together boyfriend coming year anniversary things getting pretty serious enough much wanted marry sweet chatty typically considerate empathetic person thought first show truly healthy compassionate relationship like serious us long talks marriage seemed agreement formal declaration even gotten far looking rings chance proposal weeks wedding us engaged couple time hanging topic weddings prevalent boyfriend cracked joke proposing friend wedding groom joked back said funny hell followed bride shutting trying serious also thinking serious reception everyone made speeches people getting food table waiting boyfriend went dj played boyfriend favorite song scream sing car together story life one direction look smiling looking around sudden grabs fork stands begins clanging glass immediately whole dining room looks stand whisper words right face drops yells mix sorry joking sat back verbatim said let moment let make even look time get food immediately goes toward exit follow tried catch find text twice call couple times got answer went back reception hearing hour half returns sits even look rest night terrible looked like dog died trying make best night felt like shadow prepping breakdown maybe fight car thing said want talk right drive quiet awkward sent long text hard get ring felt rejected closest person embarrassed tried explain want marry best friend wedding deserve moment create piggyback got offended said wanted marry stopped proposal front everybody situation perplexes never seen appeal proposing someone else wedding tried handle situation way felt calm chill adamant ruined proposal made look like asshole thus im asshole missing something admit wrong let proposal go friend wedding",
          "tw high school times would pass walking remember happily telling friends fit best friend said well brand runs big count looking back like wtf lol",
          "back burned way old job rage quit emotionally checked started exactly job description staying late fixing people mistakes sure squeeze today thought notice maybe let go instead called meeting told really impressed consistency boundaries gave raise turns exploited liked better stopped playing office hero yeah quiet quitting era actually glow era",
          "unity currently sending emails threatening longtime developers disabling access completely bogus data private versus public licenses initial email included contained details requirement comply otherwise reserved right revoke access may th pressed details replied five emails two names employees another local company never worked us name employee work unity studio believe chilling look future unity technologies company product develop unity threatening revoke access continue development feel emboldened casually without evidence pressed evidence produced something would laughable except somehow gathered various names call question gather scrape data methodology completely flawed applied dangerously short timeframe threats revoke license access studio already sunset unity technology situation heavily affects one unreleased game torpedia game lose money passionate stationeers feel team members torpedia spent years game detailed outline dean hall created game called dayz sold bohemia interactive used money found studio called rocketwerkz development unity made significant portion products since company founded spend probably k though period currently averaging k per year primarily included game stationeers also unreleased game called torpedia games pc also develop using unreal recently internal technology called brutal c mapping vulkan may th unity sent us following email hi rocketwerkz team reaching inform unity compliance team flagged account potential compliance violations terms service click review terms service reminder mixing unity license types according data currently users using unity personal licenses umbrella unity pro subscription kindly request take immediate action ensure compliance terms reserve right revoke company existing licenses may th please work resolve prevent access revoked included account manager kelly frazier thread replied asking detail eventually received following kelly frazier unity systems show following users logging personal edition licenses order remain compliant unity terms service following users need assigned pro license five listed items supplies evidence rocketwerkz email team member unity personal work unity project studio personal email address rocketwerkz employee pay unity pro license rocketwerkz email external contractor provided one unity pro licenses period work time obscured email domain name employee company dunedin new zealand based never worked us obscured email domain another employee company never worked us recently company paid unity dec pro licenses single one breach concerningly two employees work another studio studio located studio founded accountants based therefore registered address company online use government company website beyond unity threatening long term customers immediate revocation licenses shaky evidence raises serious questions unity scraping data processing serve serious warning developers future face unity development",
          "husband posted yesterday sub houseguest hosting friend jeff whose wife appreciate times worn bra around apartment learned seeing photo jeff sent us hanging home husband deleted post lot identifying details really appreciated discussion advice wanted update folks conversation wife morning jen told things become issue marriage things jeff result asked jeff move tonight wish could say based responses yesterday thought folks might want update also advice wearing bra houseguests really bad form",
          "almost reason never children finances never good enough afford still kind regret able kids millennials situation wanted kids never",
          "even know write correctly laughable management thinks work biotech service provider associated big company outsources everything though particular company big boys provide service anyways member facilities team leaving brief little pizza party cake lunch break friday bigger boss steps direct manager pops randomly asks going turns facilities member leaving something aware etc team already gutted normal man team need people leaving etc leaving team member alerted company leaving quitting day us found moment today monday boss pops says big trouble party friday let management know could seen time fraud etc may restructure office area response possibly window office door find really odd entire response occurred time introspection investigation based understanding whole quitting telling stems poor management groups chain command teams getting flak things beyond control archaic foolish surprised person even management",
          "broke famous youtuber houses steal prized possession end broke mrbeast houses subscribe stay wild cam huff stay wild reacts get merch follow instagram youtube ben azelart snapchat",
          "regarding facilitating return abrego garcia mass protests democrats congress saying much military sworn protect constitution silent news media covering one story major crossing rubicon event trump said would bring back supreme court told doj said court authority require us government negotiate return el salvador would bring showed border",
          "interview week mark zuckerberg said americans friends like never fear solution get times friends meta create ai friends befits world second largest advertising company primary purpose really sell stuff even episode black mirror vision future would rank one bleaker dystopian hellscapes says something touch big tech become lives ordinary people never even occurred mark zuckerberg depressing appalling sounds people",
          "fiance f engaged months weekend wanted talk basically told read lots stories wife losing libido putting husband deadbedroom week sex said never accept fate neglect sexually likely sex women cheating felt needed tell sex important needs understand gon na guy jerks garage like loser rest life potentially want okay less sex one stunned started cry tried console told cheat got sick sex want neglected sexually otherwise left reconsidering engagement talked mom said saying cheat time cheat busy household responsibility friends said man eventually cheat getting home even leave position man get wrong friends supportive everyone likes especially mom thinks missing lifetime opportunity leave makes mad supportive whole thing understanding acknowledge may feel safe comments telling make decision care mom say life never given reason doubt see bad light best relationship agreed marry get sex important still would men risk marriage filled doubts edit appreciate advice responses please call girl mom calls girl condescending yeah appreciate responses though",
          "full stop believe truly beyond saying headed towards feeling admitedly hopeless help aside holding line even quitting believe power else feds continue support constitution mission country looking insight hope",
          "hoping get genuine insight anybody made expedient brand pivot theories understanding hoping hear supporters idea articulate never agreed f trudeau flags could better understand people moment took office made certain ideology brand part leading legislating get perception made statements felt like attacks see interpret choices forced dei leader canadian history ever done covid hit took chin anybody especially came provincial mandates get carney hate though see liking sure see particular party allegiance stoic pragmatic economic leader conservatives drool barely time make changes changes made seen positives anybody hated trudeau made large thoughtful elaborate policy platform made stronger efforts address canadians largest complaints anybody certainly seems like talk think immediate pivot trudeau evil carney evil kind delegitimizes ten years effort certain populist think people going take even less serious speak honestly embarrassed f trudeau flags stickers lived perspective normie somewhat least f carney stuff embarrassing americanized garbage maybe reasonable answer immediate pivot time consider little reflection edit lot opinions people share views one way another elaborate attempt answers people want defend contain multiple conspiracies hope impressionable people look think twice thinking fair reasonable",
          "background f fiancé together years baby back lost job around time lease apartment grandma offered us move basically little apartment rent free thrown idea going school everyone agreed good idea fiancé paid grandma watched baby went class graduate semester part time couple semesters fiancé making k year past couple years k first moved saved good amount money agreed wait get married finished school could buy house together looking houses seriously past couple months found one love started talking mortgage broker dropped bomb mortgage deed said anything say anything meeting afterwards told thought buying house together pay half mortgage said would paying half mortgage name told would mean right house said knew said since saved fair rights house case end things told wants paying mortgage said partnership wants place fine paying called btch saying paid everything past years including schooling told stayed home watched child pay daycare ended saving us money since would able work part time said care need pay half since already agreed reddit aitah refusing pay mortgage",
          "breaking nigel farage addresses recent turbulence within reform uk past weeks",
          "known emily years best friend one always side asked buy wedding dress hesitate marrying cousin jack guy years seemed perfect together came bachelorette party something felt emily disappeared hours came back acting strange friends visibly uncomfortable one said anything pry business found happened week wedding mutual friend told saw emily cheating jack one friends bachelorette party quick mistake full betrayal stay silent let get away especially man always loved respected plus jack family tell reached told everything details went party needed know truth crushed deserved next day emily called panic crying cursing wedding jack sent message everyone explaining happened wedding canceled emily lose jack lost respect everyone knew know pay back seeing jack free lies emily face consequences actions enough",
          "want start saying bf absolute best person world cookes cleans dies laundry like everything often quite demanding job recently nowhere made joke women inferior men said something sense ugh women make things worse society kinda taken aback first time heard say something like reprimanded like saying things told joking answered jokes supposed funny said something made furious well take joke hate gender like hell asked elaborate work male dominated sector come home late working home entire day later day made similar joke snapped promised never joke like happening never problems like media consumes makes say bullshit always beeb actually progressive man ever met even became couple know anymore feel like first sign incel behaviour want marry man overthinking tl dr feminist bf made unfunny frankly sexist joke told find funny hate woman edit totally expect anyone read post really thankful perspectives support since reading comments talked showed post seem agree misstepped said think talk later side note come realise men workplace immensely chauvinist sexist may low standards progressive means guess lot learn well thanks time concern",
          "work engineer consulting side typically people know favor good friend asked help inlaws fairly massive renovations additions agreed solely asked something interest need except favor old house worms written changes wanted warned mil unpleasant understatement seemed think paid charged probably th business would could snap fingers like servant unpleasant emails tolerable rude pointing issues plans nothing extreme changed started trying find time stop inspect areas house verify information offered times stop weekend didnt work tried evening times still nope wanted stop office work hours best told gets done weekends evening went rude incredibly hostile telling paying lol work availability way around cc ed friend chain told fun working whoever get friend apologized said worries problem anymore emailed back quite stunned walking away telling business conducted didnt bother responding three weeks later get email husband asking would reconsider promises wife wont speak involved anyway hear friend quotes came back much higher tolerable long wait bought house wanted move asap incredibly busy time year industry turns companies reach drowning work potentially convoluted messy project arent chomping bit get business going lose trades lined design would month two passed request struggle believe would kept check desire bail friend didnt care said nice watching attitude give consequences actually effect",
          "insanity genuinely want know anyone would donate understand might frustrated kid calling n word never apologizing yet making half million dollars insane keeps saying called obviously racist would apologized calling slur things would little better lost hope world know allegedly little boy took something shiloh son diaper bag people saying five years old saying older many also saying autistic called n word got caught man took video admitting shows sympathy making lots money",
          "blogging dead evolved began online journal grown powerful tool building authority growing audience generating sustainable income whether solopreneur side hustler small business owner blogging still one smartest ways earn online success come overnight takes strategy consistency knowing works today guide break path smart bloggers take turn writing steady source income blogging still works despite explosion video content social media blogging continues thrive search engines still prioritize quality written content people turn google every day questions blogs offer valuable answers continue rise top according hubspot study businesses blog get website visitors especially important american entrepreneurs looking build authority competitive niches real world example nerdwallet nerdwallet personal finance company built multi million dollar brand primarily blogging publishing seo optimized content answered common money questions attracted millions readers converted users affiliate partners services smart blogger path steady online income",
          "interview boss said saw walk building cameras asked reliable transport bashed minutes saying using public transport one hire personally never hires people use wont show time continued complain red hair made unprofessional asked interview questions said plenty applicants hearing back shook hand dismissed thank everyone feel little better sorry people also told similar things think make eeo complaint someone suggested leave review glassdoor edit gon na share name small industry want companies hear retaliating still chuckling thought tsunami redditors attacking linked though",
          "received decent inheritance grandmother passed earlier year really close left around k plan use partly college partly car maybe travel someday issue boyfriend years things mostly good charming funny supportive many ways never really steady job works odd gigs recently quit delivery job couple months asked quit said well got inheritance figured finally focus us instead stressing money honestly thought joking told planning using money support anyone things grandma wanted got mad said selfish real relationship people help telling mutual friends hoarding money leaving behind friends split say right boundaries others think share least little serious relationship distant ever since even hinted wife material build start feeling super conflicted want taken advantage also want seen heartless aita wanting share inheritance boyfriend",
          "lets hear one per post start matter bar current name always refer name first started drinking",
          "views problem",
          "fox business senior correspondent charles gasparino reported thursday president donald trump administration privately discussing trade tariff deals wall street executives sharing insights current status information made public otherwise citing senior wall street execs ties white house gasparino wrote x people within trump administration held private discussions business leaders agreement principle india reported deal could used template trade deals administration working japan countries markets taken sharp hits amid uncertainty surrounding trump tariffs trade deals see",
          "work charges day parking parking garage really adds supposed pay pockets pay found parking spot bottom floor garage way corner dark quite well hidden back car spot put neutral push gently rests wall wall completely blocks rear plate front plate parking attendant happen walk way corner easily read plate see many coworkers complaining prices showing parking tickets got forgot pay day far gotten ticket eventually get ticket think point pay start taking public transportation work",
          "soldier surprises girlfriend birthday surprise homecoming proposal finds pregnant part planned surprsie proposal birthday found best news",
          "hi trying grow clients account need views likes sort convinced let make meme need post perform well please help girl keeping career comfortable",
          "turned th felt good maybe even optimistic next chapter th nowhere foot starts hurting st fully swollen walk pain bad sweating sheets er says gout like medieval king disease cool cool fast forward last night laying bed trying sleep finally damn bug flies ear grazed buzzed near ear deep panicking trying stay calm girlfriend next trying help says omg bleeding calming tried flushing water warm water tilted head slapped shit trying get thing google diy nonsense nope still feel flapping around like paid rent urgent cares closed like go er wait time hours nurse says come back morning try go urgent care open since im pain physical go home bug probably dead ear feels like haunted cave meanwhile literally first day could fully put crocs gout foot work tired slightly traumatized slightly impressed survived yeah happy th hoping low point movie inspirational music kicks",
          "female works primarily male dominated field truly love job probably best one far coworker issue one coworkers found dating app well said brother found asked worked due specification industry worked location working day made discovery upon finding said dating app made point let everyone know found odd anyone else care realized damn desperate fashion workplace field general male dominated years younger majority coworkers exception guy spread info couple others care initially presumed would blow indeed others bring mocking teasing way quite regularly really funny first time definitely second third fourth time want highlight intention feel playful instead delivered demeaning way occasionally get unsolicited advice appearance coworker looking advice situation without turning hr fiasco plan stay job mid want make next year enjoyable say next time another coworker brings something really embarrass perhaps advice appreciated thanks update thank much advice overall validation currently work still mulling things considering chat said coworker see today",
          "scrolling tiktok saw one guy bought ancestry kits use family looked fun completely different thing compared usual gifts recently got tax return figured buy family members small little gift genealogy figured learn cool stuff heritage fun fact continue mom always proud irish roots dad side ran results came back mom irish dna turns dad biological father almost fainted literally believe asked year old grandmother dementia admitted affair never told anyone years swear thought stuff happens movies cuz tf end experiencing family mom spoken three weeks says destroyed identity weeks later still know fuck end wish could go back time never tldr bought ancestry kits family turns mom dad biological father",
          "watching segment dr caitlin bernard doctor helped year old rape victim get abortion boyfriend said thought abortion completely illegal even cases like made clear supported extreme mindset kirk guy level asked thinks embryo child said yes stem major irked well knowing pre med made feel disgusted shocked told someone held views like left right mutual friends think overreacted say harsh could agreed disagree think something compromise aitah context canada baffles opinions extreme edit female realised stupid mistake enraged writing",
          "f crush stepbrother context seen man times entire life first second time last week rd time yesterday week ago happened visit dad time invited friends wedding said nothing weekend wedding close thought accepted invitation anxious got drunk ever leave side talked lot realized much common held hands danced amazing genuinely never thought would comfortable speaking guy also never relationship first time felt like frustrating technically stepbrother though never grew like stranger week ago feel like complete weirdo edit related ppl thought share parent going comments trying gather thoughts lol edit asked meet",
          "aware economics sure bad things happen however think reveals economic system whole sustainable even economy shit care less point pretty much everyday mourn born era highest human population ever even simple resources suffer population pressures good gdp average salary stock market nothing individual see reason go way reproduce nation happy strain earth lessened hope someday bison roam praries see wolves regularly mountains maybe utopian fewer people first step thats would need happy anytime hear declining birth rates fewer people born etc secretly become optimistic post probably ill received rant",
          "tired shows want see selling seconds seeing listings stubhub seatgeek vivid seats etc x original price inconvenient would required go person purchase paper ticket simply sell tickets online would people really want go attending would take longer show sell high demand shows still would maybe days weeks seconds extreme print id ticket time purchase must match id attendee time entry show date",
          "f boyfriend bed done times time things started fine point sped started hurt told hey slow hurts slowed help told really hurting stop please kind froze second said literally finish babe feels good give second held hips kept going sort muttered hurts continued physically push yell anything kept saying hurts babe went maybe seconds finished got went bathroom clean followed bit acted like everything fine felt weird said thought really want stop move thought liking ended leaving called later need break upset told genuinely thought okay finishing move thought liking since grunting little thought little uncomfortable said felt good felt like finish close said thought top roles reversed friend told seemed like miscommunication breaking unfair aita",
          "jumping conservative hate train yeah awful ashamed question still somehow fence countries historic ruination often hear phrase sides bad someone clear political side cruel inhumane trump right wing minions running country know anyone pretend left equally evil biden worst incompetent democrats shot foot allowing senile bastard run even another primary finally realized old see happens republicans majority power government blatantly clear right owned rich exploit masses moving tax burden us reckless addition tariffs get tax cuts essential government programs shut anyone tell left bad",
          "work small office like people always bring lunch home usually leftovers cook label name fridge lately coworker jen f eating food like times past weeks first time said thought even tho hadmy name let slide told careful happend laughed said oh looked good resist got annoyed told straight stop eating lunch cool budget keep replacing got defensive said overreacting food telling everyone petty coworkers think chill fed basically stealing aita calling like",
          "placed order mcdonald app double checked location eastern blvd essex md paid full pulled drive thru gave code said record order showed app receipt showing correct store proof payment instead helping told move forward call police parked went inside speak manager remained calm showed receipt even logged bank account show charge gone refused give food told take bank claimed giving food would giving away food free asked understood insane showing proof paid still refused response shrug refund food gaslighting left empty handed called bank kind customer service rep helped dispute charge contrast professionalism wild passes customer service edit wow really blew thank support fyi showed receipt order transaction app bank transaction somehow enough prove paid also get minimum wage minimum effort issue least seem way seemed like telling hands tied said help necessarily mad staff maybe little mad called policy anyway thanks letting rant",
          "husband filed taxes jointly year past two years completely unaware unpaid child support thought making regular monthly payments expecting refund deposited feel blindsided violated taken advantage brought dismissed feelings told grateful child support paid means contribute money month logic make sense child still still make ongoing payments regardless feel physically ill supportive feeling whatsoever actually angry responding aitah update injured spouse form mail physically mail electronically filed",
          "happened months ago lives rent free head boss loves remind people kinda grilling one coworkers team meeting mistake even really fault kept raising voice getting aggressive looked completely calm goes intimidating tall loud dead silence someone coughed boss muttered something moved never brought lol honestly legend behavior still works drinks tea like nothing happened aspire",
          "visiting hospital greeted older sibling everyone flocks new baby creates automatic jealousy bringing older sibling small gift nice necessary first seconds interaction excited see older sibling greet warmth love genuine excitement pretend new baby even exist also works great greeting existing dog family got new puppy",
          "keep seeing posts reading parks coffee shops even public transport somehow peacocking act showing believe almost everybody public transport around busses rail stations free newspapers ones buy lots people travelled books never saw someone book thought must reading flex literate becoming acceptable read home alone curtains drawn incase anyone sees showing",
          "decided accept mizora offer amazing hellfire sex whatever saying larian invested time money penis physics mind find absolutely hilarious narrator describes experiencing intense arousal life tav stands penis completely flaccid embark absolutely mind altering sexual act sortta hovering air seconds honestly way scene could possibly improved mizora apologized swearing first time ever happened usually much better sex dialogue option honestly raphael cambion thing race really bad sex",
          "hello eli family heavy heart tears eyes announcement make informed moderator eveanyn passed away years long battle cancer family thoughts prayers keep memory kindness strength us always kind words would like share please comments comments nice removed eli moderation team interested donating cause memory charity aligns family wishes",
          "never trust garbage heart",
          "thinking lot lately small inexpensive things make surprisingly big impact quality life talking fancy gadgets big ticket items little things somehow make day smoother calmer little enjoyable magnetic whiteboard stuck fridge nothing fancy became central hub brain appointments grocery needs random thoughts lives helped adhd brain stay little organized saved forgetting things like kid soccer practice whether milk another one scalp scrubber got whim know satisfying every shower feels like spa actually want wash hair regularly win book heard people swear things like cheap kitchen timers stay focused milk frothers elevate morning coffee simple silicone jar openers save wrists curious small mighty upgrade something made life better noticeable lasting way could practical luxurious organizational emotional whatever works matter boring brilliant love learning everyday things people swear feel free drop link one affiliate stuff though context might even make running list others looking affordable life upgrades looking forward seeing come",
          "whether want admit pretty privilege thing something realize majority life people usually nice got offered perks like drinks bars extra attention went stared lot part bothered really know even though pretty low self esteem realize later someone looked long smiled would quickly look away feel uncomfortable couple years ago health issue fixed taking certain medication medication one huge side effect made gain weight matter little ate much exercised metabolism slowed started getting bigger fatter got less attention paid notice first began ask customer service places instead offered started feel invisible one looked one people would walk right even acknowledge existence strange first incredibly humbling thought well new normal personality started change little began thankful small interaction someone responded small act kindness gratefulness noticed conventionally pretty people overweight people made effort talk treat like mattered became better person good person aware empathetic around good luck doctor found different medication condition one mess metabolism switched medications weight melted change diet exercise healthy start started lose weight year half approaching normal healthy weight boy notice got pretty privilege back first time noticed store looking something handsome male worker came asked needed help looked eyes felt like mattered instantly felt sad horrified cosmic unfairness life look really determine people treat us even though notice every unfair advantage get looks feel humbled grateful time still seek others would invisible try best greet talk like important human beings also feel guilty simple change medication gave privilege back something available people also someone looks smiles matter give huge smile back",
          "f friend f self taught baker recently started small business made great cakes past wanted support asked could make cake mom th birthday told wanted something floral elegant gave examples also told clearly mom allergic almonds like epi pen level allergic agreed paid deposit cake week later went pick proud looked beautiful honestly asked flavor told almond vanilla thought gave upscale taste shocked reminded mom allergic almonds kind brushed said small amount would fine long mom eat much told take cake got upset saying overdramatic ungrateful hard work told could either make new cake paying rest refused mutual friends telling accepted gotten different dessert mom others say right risk mean cause drama honestly hurt ignored something serious aita",
          "every time honk horn flash lights gf gets upset thinking going spark road rage day driving car flash guy front something stupid turning main road head home getting close house talking something forgot buy see guy absolutely flying tailgating flashing flipping get stoplight pulls next turn lane window open yelling waving wildly light changes almost immediately take thinking gone cuts car behind right back behind amazingly gf kept talking totally oblivious getting close last turn home way going let find live drive past like said well thought wanted go back store dying couple seconds says ok take next turn back another guy still following sweating bullets thinking really tell suddenly veers gone even tell relieved went back store everything fine tl dr gf warned sparking road rage right almost incident somehow realize happening get chest admit even deathbed taking grave",
          "getting married next summer fiancé together almost years mom never liked involved life always felt like sees kind threat bond past year bringing prenups constantly fiancé mom started sending articles books even sample prenup wrote like literally google doc stuff like waive rights future earnings gain weight wedding would agree go counseling joking told inappropriate discussing legal documents fiancé backed first time noticed started saying things like trying protect know gets never directly told stop things hit breaking point weeks ago brought prenup family dinner front relatives said difficult woman refuses protect man assets business getting married humiliated left table huge fight told fiancé want wedding photos said come ceremony wants want posing couple shots family portraits feel like made clear actually want marriage happen want look back wedding album feel fake smiles someone made process miserable whole family furious says escalating things harsh told setting boundary disrespected mom understands coming thinks let go keep peace feel like back keep walking aitah telling fiancé want mom wedding photos everything put",
          "hi everyone seeking support help finance tertiary education active social media advised platform could help connect kind hearted individuals willing assist created account contribution matter small would mean world bring one step closer completing degree thank advance generosity support",
          "final warning pierre poilievre danger canada direct message every canadian values truth compassion democracy canada brink catastrophe upcoming federal election another round ballot box important election lifetime moment define country final warning conservative party wrong canada threat everything canada stands think exaggerating look south border united states ignored warnings embraced donald trump narcissistic authoritarian figure propped billionaires conspiracy theorists democracy never recovered staring mirror image disaster right home pierre poilievre make mistake pierre poilievre canada trump idolizes donald trump echoes rhetoric amplifies hate promotes division chaos cozied elon musk one richest men alive shown blatant disregard truth workers rights public good like poilievre pierre poilievre truly stands anti union poilievre consistently voted workers rights union protections interest protecting working class loyalty lies ceos wants cut federal dental plan helps millions canadians leadership working class suffer wealthy celebrate plans slash healthcare pushing us toward privatized system rich get proper care gut public services laying public sector workers slashing budgets keep communities safe supported sell us bow trump sell industries u even make backroom deals china putting sovereignty economy risk value women history ignoring women rights supporting regressive policies surrounding misogynistic voices spread lies entire campaign built fabricated numbers false promises gaslighting public supports extremist ideologies flirted conspiracy theorists amplified hate filled voices anti science anti progress climate denial blocking advancements green jobs drags canada backward opposes reconciliation indigenous peoples showing disregard justice truth healing wants criminalize dissent clamping protests threatening right speak pushes culture wars division fear unity hope wants turn media state run mouthpieces destroy altogether stokes racism division knows hate wins votes truth govern rule elected democracy know never fear mongering reality thinking voting pierre poilievre understand left vs right anymore canada vs collapse voted yet vote protect country community children future fall lies become cautionary tale open eyes canada wake late democracy dies never announces bang dies slowly election men like pierre poilievre good people stay silent ask much value democracy",
          "heard mummy daddy pig expecting baby girl simply wait meet watch full gender reveal available exclusively walmart com peppapig",
          "playing games room heard patake crackers like sound suspected gunshots well know messaged group chat said heard things guy said market populous place go like daily basis destroyed even rn dont know lying knows ran upstairs told family went roof see happening oh man never felt anything like felt whole ass missiles flying quickly turned lights went room still sitting light gone long time constantly looking news pc turns lucky although live one major parts jammu much damage according descriptions friends situations group chat supposedly lot worse right around pm light came back people neighborhood turned lights find dumb longest hours life im telling u half story much happened house kinda personal cant say anyways im still worried definitely end war worse attacks even tonight struck army airport hospital thankfully intercepted indian airforce clearly bad plan mind pakistan anyways wish yall peace edit right heard sirens shit theyre gone playing minutes",
          "reported axios trump shaken monday meeting ceo top retail companies like target warned disrupted supply chains due china tariffs would mean empty shelves soaring prices soon imagine optics bare shelves around country would look maybe get exemptions trump crony capitalism marches huge number small businesses go somewhere xi smirking",
          "together since high school convinced never thought could better dealt became doctor two kids makes decisions care want go school trust teach homeschooling even though failed teaching certification times gave career kids vaccines asked best friend admitted want fight wife even though vaccinated professional medical field lost respect makes really sad known since middle school dude shell super intelligent ambitious guy told trust godparents daughter since fundamentally disagreed raising kids years friendship pretty much gone edit extra info since people wanted know wife education say fired multiple jobs teacher poor performance last job demoted twice teacher aide library assistant let go never got teaching license part reason got demoted pass certification exams matter often took last count gave profession always like early big fashion cosmetics competed local pageants went teaching mom teacher moved semi rural area became super devout new never like whatever home schooling started along anti science vaccines autism runs side family brother high functioning highly skilled robotics sister autistic child blames vaccines even though autism also runs husband side family daughters godparents would make legal guardians anything happen us good conscious keep guardians advocate kids knowing knows advocate mine edit seen comment godparents make legal guardians wanted clarify grew caribbean term godparents legal guardians interchangeable us legal guardians right working changing",
          "artificial intelligence ai continues evolve becoming increasingly clear impact workforce profound ai promises greater efficiency lower costs new industries also poses significant threat many traditional jobs especially involving repetitive rule based tasks americans challenge ahead technological personal economic cultural jobs risk let honest working class getting hit first jobs equally vulnerable ai automation roles involve routine repetitive tasks risk workers prepare ai driven transformation labor market look coming done include administrative support data entry payroll scheduling transportation drivers delivery retail customer service basic manufacturing warehouse jobs even white collar jobs finance legal services journalism starting see ai encroach tasks like report writing contract analysis data interpretation prepare americans upcoming job loss due ai",
          "lost best friend year old man life literally since birth bawling eyes right know making right decision hope eventually sees light anyone reading sorry get political never cut someone politics sucks rather avoid politics please skip post grew side side playing nonstop inventing board games taking turns computer play warcraft earliest memories came religious political households grew listening glenn beck rush limbaugh etc got older saw hypocrisy many shows drifted left never problem disagreed believed trying help fellow humans still play video games weekly recently thought friendship unbreakable voted trump chalked usual political divide since though keep seeing genuinely totalitarian things trump friend keeps brushing month ago asked gently research topics said would today talked still supports trump still looked issues raised cecot detentions without due process kilmer garcia ukraine canada list goes pleaded treated like normal political disagreement typical republican issue voted trump disagreed fine vote trump posted multi page essay urging everyone else vote trump shrugs point trump literally running concentration camps going vote someone least willing conversation think cut overwhelmed need somewhere rant conservatives reading know stupid libtard throwing away friendship nothing stay close someone supports man sending people camps bothered research depressed sad upset fine long run today friend hurts thanks letting vent",
          "past months beautiful digital relationship raid healer always kept alive boss fights whispered sweet things like pulled absolute moron called brave little tank naturally sparks flew started sending transmogs shared garrison gave full priority loot even love makes wild things eventually worked courage ask wanted meet irl said sure way greg greg lives ohio beard could tank mythic razageth turns greg healing emotional magical damage whole time met beers talked raid mechanics crit hug anyway still getting healed still raiding think might stable relationship ever shoutout greg best healer best bro honestly kinda radiant mooncloth",
          "f one four siblings stayed contact mom dad died became fulon hoarder kind house smelled like ammonia dead mice piles trash actual mold walls everyone else cut contact said much mental health wanted remember visited every week bought groceries managed meds cleaned literal human waste floor fought refused help watched slowly deteriorate lived lives died last year one found left everything house savings little lawyer drama handwritten saying everything name one cleaned house paid pocket professional hazmat services got appraised worth nearly k suddenly siblings reappeared saying manipulated isolated split four ways one said profited illness profit lost years life peace almost marriage trauma told said want alive get claim worth something threatening sue feel guilty feel tired aita split ways get back",
          "boyfriend almost year everything good overall dealing sexual issue starting wear emotionally hard time finishing sex says usually wet reduces sensation asked start kegel exercises vagina grip better also told developed known death grip watching porn masturbating rough way years desensitized first felt guilty started wondering body enough something right even looked kegel exercises considered trying sake recently brought told read posts reddit women tighten kegel really works told think would change much got upset said dismissive claimed something us told comment found reddit like responses found online said must feminists writing stuff honestly rubbed wrong way got frustrated told problem said death grip years porn putting like issue maybe one needs work hung phone talked since wondering aitah saying harsh asking break towards",
          "speaking context nhs immigration pension system recent local elections confirmed reform uk probably play major role formation next government entire selling point one magic bullet lowering migration uk evidence suggests either insufficient solution may even detrimental marginal cost housing illegal migrants also relatively small compared size state something like government spend less nhs spends office supplies say cost justified far better legal fees associated ripping international law point legal migration shown time time huge financial benefit country vast majority legal migrants work nhs student paying high fees argument train brits nurses nhs staff already still addressing skill gap also longer term uk west low birth rates real problem future demographic change state supports pension system enough working adults also studies show birth rates much higher migrants native brits adds problem none problems rocket science well studied documented whenever speak anyone voting reform parrot lines back fairness fighting age men hotel room temperatures feels like critical thinking abilities country rapidly diminishing irony watching us score goal goal trump say americans stupid whatever watching uk enthusiastically vote man largest contribution uk politics destroying relationship biggest trading block world said ukraine provoked russia start war thing settle voting reform desperation feels like chopping arms save cost gloves guys think",
          "wife terrified aluminum believes contribute alzheimer wearing aluminum free deodorant omg bad like bad know stand come home work time entire house smells like bo dirty laundry hamper emits bo occasionally reaches around neck give hug like getting rubbed across cheek slowly damp sponge actually hold breath pretend like need go bathroom bolt snarky man tell smells woman probably start crying mention whats gentlest way approach summer coming",
          "keep pretty simple together years married years ago wife ran ex boyfriend lived previously chatted caught clear part friend group dating bump every chit chat catch things nearby diner two week ago hung friends pm hours got knew like think minority never given reason doubt deep bench friends yesterday met work checked around hours met letting know fine thing home basically said fuck went bed received text message lost track time gon na go work look trust wife never given reason know realization previous friend group moved hit hard recent even given feel like gaslit bare minimum extremely disrespectful aitah",
          "needed get president alone april financial markets going haywire treasury secretary scott bessent commerce secretary howard lutnick wanted president trump put pause aggressive global tariff plan big obstacle peter navarro trump tariff loving trade adviser constantly hovering around oval office navarro one back policy debates stridently urged trump keep tariffs place even corporate chieftains advisers urged relent navarro regularly around oval office since trump liberation day event morning navarro scheduled meet economic adviser kevin hassett different part white house bessent lutnick made move according multiple people familiar intervention rushed oval office see trump propose pause tariffs without navarro argue push back knew tight window meeting bessent lutnick trump schedule two men convinced trump strategy pause tariffs announce immediately calm markets stayed trump tapped truth social post surprised navarro according one people familiar episode bessent press secretary karoline leavitt almost immediately went cameras outside white house make public announcement liberation day steep tariff percentages put day pause navarro different room april th morning makes wonder risk tariffs unpaused",
          "okay bear know sounds like conspiracy territory think sit right let look facts timing impeccable right campaign floundering terms public sympathy momentum suddenly becomes survivor failed assassination attempt cue media frenzy rally cries instant victim turned hero energy injury ear lethal life threatening enough dramatic leaves visible mark without disabling perfect setup comeback photo op effect people previously saw reckless power hungry suddenly seeing human side wounded man supposedly targeted telling truth reframes underdog even martyr historically narratives win elections rollout way polished speeches videos statements ready go like part campaign strategy panic production feels like play right authoritarian pr handbook create chaos survive publicly watch approval ratings climb seen tactic manipulative emotional propaganda masked patriotism saying definitely staged saying hell lot convenient convincing curious anyone else gut reaction alone hill edit dixi ago posts like absolutely flagged investigated federal authorities title u code threatening president federal crime anyone crossing line face prosecution protected speech direct threat national leadership found guilty face full weight law treason defined constitution specific narrow charge actions promote violence government lead serious consequences including imprisonment calls harm opinions criminal acts time stop tolerating guise free speech ai used track cowards identify bring justice hate country much maybe el salvador gitmo exactly belong uh oh come",
          "son classmate f ish talks lot every time mentions always called angel thought adorable got first ever crush omg cute today picked school going something funny angel started teasing always calling cute nickname looked total confusion said mom crush name yes girl literally named myangel imagine creep factor everyone including teachers forced literally call angel yikes",
          "five people injured stabbing near amsterdam dam square according dutch police area cordoned emergency helicopter multiple ambulances deployed suspect arrested though motive still unknown word yet condition hurt attack happened pm afternoon busy city centre",
          "tonight acquaintance spoken least years calls marcus call marcus make little chit chat ask work say full time stuff right looking agree job market hard divesting business decades suckers buying anything anymore give little laugh weird way refer clients maybe marcus little mention home new england home west coast highly desirable area beach want split entire summer two locations hot south summer say something along lines heck problem laugh drop entitled request want someone care extremely obese nearly bed bound elderly auntie lives days week days months best part home air conditioned want offer fellow human per week since light duty say room home interest explained going pass amazing offer marcus got really insulted whined said know anyone nice since flight attendant know first aid serving food stuff declined confused said would work week said would call week see changed mind blocked soon call ended",
          "might wrong honestly think would love hear outside perspectives daughter f got engaged recently came visit us fiancé live states away get traveling tiring happy host weekend guest room set miniature wargaming past years space go decompress work honestly spot house fully mine wife sunroom rest house kind communal got thousands dollars models custom terrain printer setup etc hobby investment frankly form art anyway arrived office couch made pull memory foam decent blanket clean daughter seemed fine fiancé kind made face later asked sleep guest room told plainly available guest room anymore studio later night daughter confronted privately said selfish ridiculous two nights said felt unwelcome like prioritizing plastic figurines family told fair place sleep like made sleep floor wife giving cold shoulder said could packed weekend like toys throw box fragile half painted want spend days reorganizing undoing work like setup left day early getting texts daughter chose hobby happiness seems dramatic might asshole maybe could moved stuff around nights really think fair expect dismantle entire setup someone want sleep perfectly good pull right space right",
          "f girl several tattoos big quite visible boyfriend met like problem invited go dinner family accepted casually mentioned maybe could wear something sleeves start drama asked meant said grandparents old school might react well tattoos said want night awkward told going hide part make family comfortable said hiding respect told respect goes ways pretend someone got upset said overreacting making bigger deal told would go dinner cover tattoos asked please attend going difficult would better really rubbed wrong way made feel confused think maybe behave badly reacted vehemently idea want cause drama family hard time feeling comfortable skin learning deal stigma people towards tattoos want go back hide plus think would honest family either show aita refusing cover tattoos dinner",
          "f old ipad mini sitting drawer bit slow still works fine youtube ebooks stuff figured nice offer friend little sister loves draw thinking appreciate well big mistake friend calls back hours later exchanging pleasantries said happy gave lil sis ipad wanted know one storage gb according enough sister apps surprised said says hoping one apple pencil asked chance newer one like giving free even reset cleaned screen bought new case told could use cheap stylus amazon something wanted draw apparently according ended sending back wanted felt really bad trying help regret fr",
          "boyfriend f dating seven years early talked marriage kids house whole shebang like kids think good mother like children upset happy life could happy children well boyfriend always dreamed dad recently suggested place start trying little confused told early within first year would never children man married feel like children much bigger commitment marriage marriage come first additionally man love committed enough spending rest lives together see make sacrifice bearing children maybe old fashioned explained awkward said want get married said men get screwed divorces time think marriage important smart choice said fine get married happy life buying house together children together buy house live one rent getting married want really entangle finances way blew said punishing waiting marry said children outside marriage goes outside personal values also told since super idea marriage going marry shut ring gives wants kids want actually want marry okay children marriage table us wants kids needs leave find someone kids without expecting stability return maybe could find someone wants marry maybe maybe kids said distressed emotionally distraught disease much limits life expectancy said kids asap probably otherwise able see adulthood aitah",
          "every time visit relatives house fox news blaring tv share cable account person annoys money goes towards poor excuse news channel today asked fix something blocked fox news fox business cable account may petty stand hearing propaganda",
          "feel like new news needed get real ids mine years point f deadline whole news feed peers acting like sprung us overnight believe feels like one went process update id sitting eating popcorn everyone freaking even big deal huge thing everyone shocked",
          "recall realized elon musk entire life qualifications career engineering knowledge total fabrication pre approved mods break work mid read newspaper article pimping latest snake oil vaporware said something boss time would say time time boss liar crook took credit every success placed blame every failure happened anywhere near textbook example narcissistic sociopath clicked brain realized musk like boss never created single thing comes idea tells people get work assigning due date absolutely basis reality similar march th cobble together month release going awesome like joke funny makes promises others fulfill taking credit work everyone else develop technology exist real engineers invented distaste took year morph loathing everything stands intervening decade never let continuing grift shady behavior lying around bad behavior noticed years ago",
          "recently got dumped gf finally got bored asked main reason dumped bs said tell real reason response caught guard said ripped muscles literally dumped ended year relationship buff ripped",
          "last night driving home work get call kid anyone called recently dog gotten find number tag one called arrive home immediately join search point pm search get neighbors involved search get people even know searching one point woman never met pulls says looking dog say know dog thank helping around pm full dark keep searching get report neighborhood facebook group dog spotted someone ring camera search area still luck get another report someone caught video another neighbor driveway get permission search neighbor yard find dog searching six hours finally give set alarm little sunrise resume search morning trace route creek runs neighborhood feeds river thinking maybe dog wandering along creek bed nothing wife prints flyers start posting around neighborhood call police department animal control around morning go check another neighbor yard look fence property checked dog laying sunny spot like queen world idea hiding probably never yards front door meanwhile probably logged six miles foot another ten wandering neighborhood car obviously thrilled found stupid evening",
          "american media stocks tumbled monday president donald trump unveiled tariff movies produced outside u latest levies could sharply raise costs hollywood studios roil global entertainment industry trump announcement light details say whether duties target films streaming platforms shown theaters specify tariffs calculated based production costs box office revenue streaming pioneer netflix could particularly risk relies global production network produce content international audiences shares slumped premarket trading leading slide media stocks source",
          "three ufos landed two different locations",
          "wanted share really clicked two guys explained maybe help others talking women public might seem cold uninterested man tries make friendly small talk something nice even intentions good get women rude arrogant least respond niceness matched energy sometimes avoid altogether gave best spot analogy could know walmart best buy salesperson rep trying stop ask mobile wi fi provider already know times question opener want sell something sign waste time nicest thing avoid interaction entirely personal least rude efficient way get want go business peace mean bitchy way would stop tell f loudly say us prefer avoid whole situation possible lot women random men approach strike conversations public us learned interaction easily shift escalate carry expectations sign seems simple worked thought would share",
          "husband posted yesterday sub houseguest hosting friend jeff whose wife appreciate times worn bra around apartment learned seeing photo jeff sent us hanging home husband deleted post lot identifying details really appreciated discussion advice wanted update folks conversation wife morning jen told things become issue marriage things jeff result asked jeff move tonight wish could say based responses yesterday thought folks might want update also advice wearing bra houseguests really bad form eta ironically whole thing asked pose local artist project topless legit moved whole turn events life weird sometimes",
          "apple pay prank gone wrong credit",
          "started quest find goofiest phones fun low key far many good ideas us leave past check bitdefender scamio free easy use ai chatbot detecting preventing scams spend lot time trying make videos concise polished useful possible would like support mission consider subscribing channel make day tech hot takes personal posts quick tech videos anyone still use anymore amazon affiliate links buy anything support channel allow us buy better gear amazon us amazon uk browser filming gear music epidemic sound",
          "husband told families intentions child within next year sister f one reacted anything support first baby husband decided going surrogacy route sister seemingly took personal attack spent rest dinner parents hosting essentially ranting surrogacy misogynistic exploitative gross wanting rent woman body okay sure thoughts process end every time gave update family attendance would make point reminding us felt son born little two months ago keeping since born immune system strengthens slowly introducing people lately husband parents came two weeks ago parents came last weekend yesterday sister texted ask could meet baby told particularly want someone around entire existence said way son even says unfair imagine around child adamantly disdainful towards us conception throughout pregnancy aitah edit husband men first line post",
          "hey everyone lurking figured finally share something recent trip got back three weeks japan first time traveling alone recently single feeling kind stuck life quit job hated felt burnt booked trip hoping would reset something brain honestly way expected japan incredible started tokyo first night sat lawson eating onigiri felt like another planet loud beautiful confusing amazing kind stumbled way first week got used felt free way years moment want share happened kyoto trying find temple kiyomizu dera phone directions useless must looked super lost older woman walking little white dog stopped said something japanese pointed temple map kinda shrugged smiled motioned follow thought point right direction actually walked whole way like minutes quiet little side streets speak language awkward pointed little things along way like flowers shrines smiled every time looked confused amazed dog kept checking behind make sure still somehow cutest thing ever experienced got temple bowed said thank like five times smiled said something softly turned around walked back way came like nothing helped lost tourist without second thought know moment stayed big tourist attraction simple kind felt really seen moment weird barely spoke travel gives weird little memories hit harder expect still think dog peaceful walk kyoto like dream experience like stranger completely changed day without even realizing",
          "house sitter dog watcher number years truly easy money excellent odds place cleaner left vacation work trip collect mail organize date delivered wash towels bed sheets never guest etc etc however unknown every person let house sit going go things specifically clothes mainly clothes open go every closet open go drawers dresses suits bathing suits sweaters pants skirts underwear scarves jackets hosiery hats going take look really like something really catches eye gets heart going try stand front mirror see fits wear around house see feels especially married woman reason things particular love look wear yes thrill something supposed thrill possibly getting caught sexiest outfit mainly thought nice enough buy wear want see done fold back hang exactly found never know know asked house sit started back high school friends would party everyone outside go upstairs see mom tucked away try see looked fold back put away like nothing ever happened started house sitting found could free reign sneak around sure sounds incredibly creepy like breach trust looking advice wanted get chest looking back feel wrong regret",
          "creative director large company ever since ai blew suddenly everyone thinks creative get exciting type prompts get something looks like design got prompt egos people think decent midjourney mockup means lead brand packaging ad strategy love ai jsut much call financial expert jsut bc input financials ai get business model first pushed back realized making look insecure let ride watched leadership signed every flashy ai tool ugc software promised crank content faster team ever could guess everything mess software work ai creators flaked ugc platform delivered single usable video weeks packaging typos wrong aspect ratios revenue tanked social accounts dead nothing passed legal tech bros slacking nonstop trying fix problems created cut actual creatives guy tiktok told ai could replace us",
          "wrong profession",
          "cashier folded faster payment method",
          "looking high roi products added new trending rising winning products usa germany canada united kingdom added new list countries track rising winning trending products products gaining demand sales yet viral products used following ecommerce dropshipping affiliate commission marketing order request also send order us track winning rising trending products products yet viral order winning product please send us message well also order website existing traffic build websites generate traffic fast two weeks google search engine using drop domain",
          "new manager comes loud talking structure consistency suddenly wfh flex hours swapping pto asked move two days cousin wedding goes sorry make exceptions anyone fair alright put request unused pto days straight end quarter overlap coverage got approved like minutes lol okay couple days later full panic mode wait handling workload dunno assumed plan exceptions right cover deal fallout stuff piled clients got pissy two people quit came back new hr memo managers approve flexible pto case case basis turns fair looks different one getting screwed",
          "monday morning wife let go job felt coming saw coming looking way bullshyt happened want anymore wednesday company suck actually sent text basically saying know forth head know knew wife looked phone like believe bytch words mine said work remember know screwed right said started laughing sending text nerve people",
          "start happily trans woman would never detransition rise egg culture neopronouns people using pronouns greater trans community many ways lost plot watering means trans people trans convinced trans people sold story create gender like fashion style stories detransition trans community often hand waved away detransitioners often assumed bad actors detransition get support trans community likely labeled terf common conspriacy theory trans community detransitioners largely gender critical shills scares people away detransitioning feel transition right feel terrible many people falsely led believe trans stuck awful scenario",
          "know apparently americans huge tendency lean things like walls columns counters standing around shift weight one leg curious american specific thing also everyone else stand weight feet hurt guys stand straight feet like soldier",
          "edit confuses sheer stupidity worked cia dumb know showing photo would bring geo finder nuts woodwork people found based single trees birds flying sky ffs known thing fake going found left thinking intentional guess knew fake known would debunked would damage disclosure effort sucks like lue silly credit goes user locating exact spot zooming becomes incredibly obvious photo ufo uap even see rivers background leading away fields",
          "democrats need respond one ideal sits others head want us prosper happy want know still agree want find common ground edit thank everyone responded could get everyone wishes prosperity say thank see tomorrow ask deomcrats thing",
          "last night video posted terrifyingasfuck woman sedated c section physician put penis mouth recorded nursing staff put hidden cameras concerned might tried report reddit category matched regardless reported non consentual intimate content morning woke learn reddit reviewed post determined break reddit site wide rules reddit condones rape videos knew site problems never expected",
          "name one biggest lies ever sold people subtle widespread deeply shaping small insignificant universe wrapped science sounding language whispered education systems media modern culture speck rock spinning around star random universe meaning worldview strips life purpose beauty depth existence real connection thing lie come science came people chose interpret yes universe vast vast mean meaningless tree question sky size grows toward ancient ones satellites equations already knew part something cosmic sacred intelligent feel small looking stars felt woven real truth universe universe conscious life aware life human part source moves everything people believe lie insignificance become easier control accept empty systems chase distractions forget power intuition connection land source yeah space might vast spirit awareness far vaster",
          "brother got married bride sister law specific expectations wanted everyone family wear wedding colors people flew state everyone made effort make feel celebrated day wedding made offhanded clearly pointed remarks side family never takes anything seriously expecting us take seriously either comments made rounds feelings hurt wedding even began still showed looked great participated fast forward getting wedding photos video single photo side family posted one entire minute highlight reel faces family except second clip parents bride groom rest us like never existed texted cordially asked could send pictures siblings since none posted responded never took pictures wild remember helping people adjust corsages doubled gaslighting gave six months asked suddenly idea talking fine petty revenge comes getting married days engaged months planning moment since tried erase us hired great photographer videographer know videographer secret mission make look like getting attention track hover near like star show feel seen final cut appear even one second like made sure even invite originally word must gotten cornered family dinner said unfortunately work day wedding still able make stunned said fine airbnb booked whether coming ugh cope spelled name wrong wedding invite purpose first move video blackout last asking advice asking mean exactly fair happy finally talk freely",
          "think girlfriend thinks otherwise context girlfriend sister days ago sister called told water broke left work took hospital told girlfriend met us sister asked husband deployed want alone obliged whole time gave birth healthy baby girl girlfriend thinks weird incestuous vulnerable state think arguing past days getting tired think wanted sister ask instead dating long enough sister feel comfortable state keep asking real reason upset tell situation sucks sister loves wants included everything idk came told needs therapy soon child think understands bond siblings aitah",
          "every day lie corporate wellness app every day gives money questions shame cash works unitedhealthcare uhc little program called uhc rewards sounds like scam actually real life glitch capitalism give money like actual money healthy things like walking steps sleeping hours sounds noble right juicy bit uhc lets track stuff apple health apple health lets manually enter data like damn word doc wearable gps sweaty treadmill selfies sitting pajamas typing steps phone like larping runner add seven blissful hours pretend sleep boom money day step goals plus weekly bonuses steps sleep also get connecting tracker adorable tracker answering surveys checking boxes like promise die quarter every day looking year seconds thumb exercise made already used buy new set dice going scam megacorp least roll initiative afterward listen know thinking fraud nah manual entry literally allowed system feature built thing trust us gently abuse trust passive income yeah get paid lie health app call data entry uhc calls wellness dice call win try insurance gon na bleed dry might well tap back little",
          "f seen read plenty story spoiled kids blown kids candles thrown fit theyre allowed husband apparently friday daughters th birthday day make food choice small cake party usually later date ate got cake ready excited explained throughout day sisters birthday wait cake lit candles sang happy birthday blew candles might might asshole husband grabbed lighter tried relight baby blow said daughters birthday refuse allow son one spoiled kids cant understand day face fell immediately said trying help keep baby happy dropped kinda quiet rest night didnt mean come harsh didnt want daughter feel like share day wasnt",
          "f married husband four years two young kids together f months got together upfront fact believe strict monogamy always honest sometimes wants sleep women agreed condition always open respectful lying sneaking around everyone get us works jealous type emotionally connected great dad really involved live comfortably owns businesses well financially live nice big house gated neighborhood ate able travel whenever want able stay home kids without worrying money issue started last week cousin saw bar another woman apparently recognized took photo sent sister sister immediately called panic saying cheating told already knew secret completely flipped said letting disrespected hurting kids staying marriage like went setting horrible example even said tell mom dad tried explain something agreed kids safe loved parents present acting like brainwashed manipulated honestly see issue agreement affect raise children function family stuck anxiety family finding judging even though genuinely okay arrangement feel like projecting values onto marriage even trying understand different relationships work different ways aita caring husband sleeps women even though married kids",
          "said said think restaurants refuse split checks ways lazy incompetent matter many people group matter physically chose sit next common argument hear well zelle venmo figure job sit fiddling calculator app figure much gratuity tax bill person literally register additionally every person afford drop one sitting mean go since x amount money expected spend ever factor dining silly argument honestly believe policy comes personal laziness lack organization needs stop need stop judging large parties rowdy loud forced split bill",
          "call centre work mobile se ruapy monthly salary extra work extra payment",
          "honest vote carney doubts last liberal terms top whole global elite banker turned politician narrative give greatest impression convinced would try help regular hard working canadians watching press conference yesterday made see different side shocked clear straight point finance perspective dawned probably took massive pay cut become pm based quick google search pm salary around c k definitely lot someone carney background experience could making way private sector far less stress without taking responsibility leading entire country makes think motivation service know many walk away potential job opportunities saying suddenly diehard fan making rethink stance",
          "last year five close millennial friends diagnosed cancer healthy lifestyles one medal winning marathon runner age breast cancer stage another age cervical cancer stage another age rectal cancer stage ii another age stomach cancer stage iii worst age stage iva highly lethal highly aggressive liver cancer came blue expect parents grandparents get cancer late early feels way young scared sad friends also immune anxiety every little pain means turn next happening well like actual fuck",
          "back college one semester took bunch books researching big project back internet research admissible needed properly cite sources school life got away forgot return books kinda forgot end semester got late library dues bill mail think fees like cents per book per day least books month late money pay library fines could get grades transcript semester instead sheepishly returning books paying fines put books backpack returned correct places shelves called library next day questioned validity letter regarding overdue books librarian left hold minutes returned phone apologizing seemed books fact returned library dues erased hold back transcript",
          "nearly years living spot remember cleaned damn thing lied cleaning cleaning litter boxes would literally hop shower feel nastiness still sitting layer slime grossness went strike touched finally broke today today going live music reading local spot told clean litter boxes today showering decided dump em scrub em shower sitting looking orange slime built around tub decided finally done cleaned litter boxes sprayed tub walls curtain hopped scrubbed whole thing cleaning rinsed brown brackish water walls multiple times scrubbed orange slime away done time still barely passable sick believe showering mess begging pleading grown ass man fucking help nasty ass apartment together kicker gets mad get upset things apparently using super special big boy cleanup time voice instead getting frustrated year old man help makes evil bitch understand rude people go figure anyway im done even think realizes continued getting ready went along plans walked door barely see later arguing silently head rest time even bother starting real genuinely worth ruining night anyway needed get chest much could rant feeling like actually screw im done pretty liberating",
          "two daughters graduated college moved back find job house late husband house robert context dad got divorced years ago got remarried robert year old son tom girls good relationship robert fact hated dad filled heads lived dad chose going college robert passed away months ago long battle disease son tom girls dad got remarried last year woman basically witch girls stopped visiting lived rental apartment college dad used pay rent stopped wife fought girls get job pay rent asked could move tom course said yes although knew felt tom moved nice tom also distant days ago expected call needed leave house tom bed day sick asked girls look hrs til got back left quickly hour later got text tom asking come home threw room said called sisters help one responded immediately tried call lines busy best come home earlier thinking girls home turned one downstairs entire time said using kitchen appliances hear tom going believe til tom said tried text respond checked phones tried deny right message read response blew called pathetic argued making act like parent placing resposibility knew hated robert fine might little understandable tom kid part treated like knew neglected purpose told one week move started arguing even crying saying harsh acting worse dad new wife said discussion giving silent treatment basically making feel guilty whole thing maybe made wrong decision seeing neglected brother merely resentment hate makes feel upset quite concerned around",
          "f moved got boarding school abroad dad cheated mom f woman f time ended divorcing ever since years older past years every family holiday clearly money hes stupid stubborn understand year easter flew back home asked friend mine come pretend boyfriend days home dinner dad pulled aside told felt uncomfortable situation told anything wrong love age told ruined everyones easter selfish bringing someone age dinner flew back school getting messages relatives saying apologize dad break boyfriend responded think wrong hes made life uncomfortable since moment cheated mom aita edit seems like many think lie lol would met friend book club moved us im europe great father figure tbh friends would buy dinner actually spend time hes recently divorced hs sweetheart would spent easter alone anyway therefore decided take show around know immature people know extremely immature wanted show feels thanks lot advice everyone ill update christmas lol",
          "move aside spa time people",
          "ysk could save thousands protect future may u department education commence collecting student loans five year hiatus going throw thousands american lives chaos know rights dealing collection agencies u department education begin federal student loan collections actions help borrowers get back repayment starters legal advice collections agent california student aid commission csac working third party collection agency lot likely changed date today invite anyone information contribute comments know rights u citizen debt begin reviewing fair debt collection practices act found federal trade commission site every collector boogey man breaking rules result person debt debtor suing collection agent agency etc loan waived damages paid pay particular attention section outline way communicate considered harassment know repayment options available find information repayment federal student aid website always options repayment saying realistic experience hide head sand find information default payment plan options experience better options repayment default time two main solutions consolidation department education rehabilitation plan anyone still actively collecting recently job please comment whether still exist rehabilitation possible best path forward nine month program admittedly high monthly payment would put loan back good standing repair credit hit received falling default making voluntary payments even small ones helps know debt every penny counts however news probably already alerted hopefully reading contract time signing government garnish wages social security way escape therefore sending month balance help stave government ability garnish making best faith effort repay complicates involuntary collection activities additionally helpful keep ever increasing interest bay help prevent loan bouncing across offices understand happening loan loan fallen default important understand going happen impacts pay much pay end day loan default packaged portfolio defaulted loans example let say portfolio built people defaulted student loans portfolio bid third party agencies specialize debt collection loan transferred government dinged collection charge remember exact phrase amount something around loan balance means loan time went default moment arrives third party collection agency get interest hits daily balance sure specific percentage people eventually talked floored thought years failed payment end though first collection agency fails collect balance portfolio shopped around agencies initial collection charge gets tacked onto balance time leaves office therefore time left office go another balance would moment arrives next conclusion hope information help correct anything said provide insight recent collection practices also happy answer anything based upon past",
          "always early indicator hoes saying intel us regards need",
          "giving compliments men",
          "stereotype maga full misinformed racists true another reason act way edit special member maga claimed evidence kilmar ms trump sexually assaulted e jean carroll take someone like seriously",
          "govt utter shit value life value livelihood value future generations economy sucks forver debt attained permanent label eternal beggar still chose stay denial thumping trumpets rejoicing war total waste entire population wish could nuke already people land flora fauna affected aftermath radiation",
          "baby janitor calls boss day long week mopping floors cleaning messes hardworking baby janitor finally picks phone ask boss day tiny cleaner get rest head back work watch hilarious cute moment unfold",
          "clarification nobody friends dated homeless broke bums",
          "hey everyone moved england recently someone called plant pot normal brits insult people calling random objects strange insults bracing",
          "work pm factory five seven days week therefore sleep day everything closes pm pm except fast food restaurants close night gas stations rarely get good day shopping essentials even rarely get appointments things like doctor dentist seems like doctors dentists offices close even earlier everything else also work state minimum wage afford get things delivered got bad refill needed medication ended er find doctor network take pm world always jobs take place night needs places open night screw sleep schedule end falling asleep line needed go walmart pick groceries want rushing home shops work also huge problem around stigma sleeping sun lazy feet night allowed sleep next shift edit advocating everything open time asking grace towards night shift things open earlier later want come home covered grease sweat immediately go doctors sit around hours waiting things open love could get appointment time healthcare places close around honestly begging places close instead asking world revolve around third shift night owls general knees begging treated like human work horse job work sleep work like free time go things without watching clock breaking sleep schedule earlier",
          "praying love like filmed respectfully public space consent privacy violated",
          "ysk measles highly lethal danger poses serious three reasons first contagious disease known humankind spanish flu infection rate measles infection rate second measles hide body years cross blood brain barrier cause death long forgot third extreme danger measles immune system throughout life body contracts fights diseases keeps record fight diseases measles comes burns records next time catch sniffle might turn life threatening lung infection",
          "anybody opposes trump going immediately fired came new acting director fema",
          "recovering alcoholic sober years one thing came sobriety love cooking beginning kept busy want drink hungry love process making delicious meal loved ones recently family meal one components meal chicken marsala love chicken marsala make eat time one ingredients cooking marsala wine brought meal sister asked chicken said chicken marsala asked used wine said use cooking wine regular wine started argument using owning cooking wine alcoholic sister said relapsing cooking basically lying sober argued back get drunk eating food cooking wine ingesting alcohol whole recipe cup wine portion even less make delicious gets buzzed also trigger cravings drink buy bottle use cook sits untouched cabinet need cook next time ended leaving yelled talk actually sober mother agrees lying sobriety eating foods wine looked online people think honest cook alcohol aita cooking cooking wine recovering alcoholic",
          "ok bye spam time go work fr",
          "parents made money us proportionality would scoff us asking toy back day way poor buy kids cards games shit questions asked way parents stingy kids end stingy kids since idk let know think crossed mind",
          "posting bold thing ever done",
          "f decided wear wig brother wedding proposed thrilled cheered dorm room wedding stressed everyone come breaking point first bridal event bride handed experience packages bridesmaids including destination trip recent college grad entry level salary discussed hairstyles bridal party agreed updos given humidity months later bride texts changed style wants wear wig recently done big chop dyed natural hair major milestone asked braids okay said followed texts uniformity asked send wig details months bridal shower asked bought wig told stylist cost respond fast enough still signed contract stylist tried compromise install wig stylist style said stylist work behind anyone else install said uncomfortable price process replied cut dyed hair extra costs uniformity okay therapy shared often felt like family scapegoat boundaries defiance therapist said people get used performing raise bar every time gut said wearing wig explained parents mom called selfish dad said child say added bride get wants wedding party texted bride respected decision could support crowd responded stings told stay change everything show unity control love disappear forwarded family controlling others clashed maid honor dropped brother says talks negatively family brought dad shouted one side blamed mental health told attend wedding brother said care wedding party lifted guilt told still show insert edit bride finally sent message saying condescending choice last minute center new chapter bible says wife comes first kicked responded truth expressed discomfort early words cruel clarifying shared scripture ephesians respect goes ways respect marriage respect sent brother text love comes first fall line discussion aita refusing wear wig standing truth edit note brother said care party agreed said would sit audience support brother sibling ofc want wedding",
          "first year university student last week anthropology class professor lecturing different belief systems made joke ancestor veneration saying like dead relatives watching like spiritual netflix class laughed silent stoned cause think funny half japanese family honoring ancestors something taken seriously visit graves make offerings participate traditions like obon something grew hearing reduced joke made really uncomfortable make scene quietly left later professor emailed saying behavior disruptive brought concerns office hours responded explaining perspective wondering overreacted classmates support others say sensitive trying dramatic feel respected know aita",
          "hi fednews federal specialist two weeks ago filed formal disclosure congress potential major security incident inside agency asked investigation posting remind every public servant speaking matters alone feel empowered transparency key happened high level noticed odd metrics gathered data built reports reported internally escalated chain command disclosed congress npr krebsonsecurity full timeline details also disclosure public spoke internal reporting failed loved job team agency mission opportunity serve people great nation internal channels stalled weighed clearance paycheck career potential national impact staying silent country cybersecurity public trust worth risk fear mutes us fail oath fear apathy death democracy lessons learned document everything conversations metrics screenshots ticket numbers timestamps use work devices keep classified data classified use protected channels first ig hotlines cisa us cert cleared counsel escalate stonewalled compromised know rights u c guarantees direct path congress invoke precisely build support net early line legal help trusted colleagues friends family keep grounded take safety seriously check car install cameras alarms vary routines lock digital life seem dramatic guard mental health stress real therapy exercise simply talking helps chose attach name stand behind actions welcome open debate secure anonymous avenues closing thought us entered public service uphold constitution serve millions may never know names duty runs deeper politics fear know difference right wrong something agency keeps night hope storm passes keep head gather facts protect speak duty hardest matters exactly matters dan dms open resource recommendations questions stay safe keep lights",
          "f run bakery business built ground past five years started hobby college registered business steady clients dedicated workspace consistent orders month mostly weddings birthdays events take lot pride baking fun anymore livelihood sil f getting married beginning june wife older sister friendly terms always vibe like really take seriously made comments like must nice getting play kitchen day lucky people pay something could probably learn youtube always smile like joke really brushed comments past since happening time want stir drama earlier month asked make wedding cake said sure asked mind sent inspo pics four tier cake smooth buttercream floral piping real flowers top cascading one side wanted chocolate sponge raspberry filling terms taste plus wanted deliver venue morning wedding rather picking day got done discussing everything gave quote phone generous family discount sil replied almost instantly think charging cake would essentially wedding gift told typically wedding cakes gifts much time work take happy buy something registry instead still make cake discounted price wanted happy said transactional cake clearly want part special day hanging clear made cakes free small simple ones people care friends going rough time sil fiance pay cake like exactly respected work past meanwhile sil telling anyone listen making big day trying profit happiness seriously mil called really ask felt try understand coming seemed overwhelmed kind desperate stop turning bigger family fight kept going stressed sil bit much basically begged reconsider wife completely side told mom stop trying smooth things expense even admitted sorta wishes said yes avoid fallout",
          "done pretending great buying opportunity americans extra cash laying around watching k bleed dip f cking wipeout people lost years gains cabinet clowns saying stay course like bro trying stay alive build damn portfolio stop acting like crash gift slow motion disaster wrecking real people lives",
          "ex husband share custody year old daughter year old son divorced years ago co parented difficulty ever since ex remarried tensions three us majority time ex wife came huge expectations would kids involved would none realistic thought would agree giving ex primary custody would one weekend month mom happened expected everything mom related split equally us alternating mother day taking turns mother day events school activities even changing listed mom certain forms really believed something would something would cause zero problems schools doctors expected kids call mom soon wedding ring finger believed would encourage meaning force call mom long standing expectation never got met one time expected legal authority ex would get make certain decisions kids without ex input went school doctors saw summer camp go long also expected decide religion wanted change last name hyphenated name mine ex fully expected happen year throwing tantrum shut idea ex wife comes money used things way getting expectations met made increasingly bitter toward alienated kids pushy controlling trying change lives fit believes case point tried fight get private school pressured ask wanted daughter cheer music classes times week wanted son football boxing six times week kids interested activities brought along multiple times tried make take part told boys girls insulted parents son best friend attempted stop contact two kids hated refusing back kids hated thinking kids wishing dad would divorce know asked least twice wife learned blamed kids make point spending little time possible appreciate bothers ex wife discussed told bitter making appreciate said made lives better matter kids think say ex wife child together last year coming mother day first one mom day always sore topic kids anyone ex treating like mom officially one believed would mean kids would mother day going forward set record straight asked ex come insane idea spend day celebrating wife join mother day celebrations said worth celebrating first time child mother day kids shut idea hard told would spend day wife tried turn fight walked away answered calls since sent texts telling need reconsider ignored well sent sister told petty even consider meeting middle somewhere stated rude everything said reason kids like stepmother half sibling needed figure walked away well texts ex followed thing giving pause fact ex family like new wife fact ex sister said making question tiny bit ta",
          "actually incredibly difficult find single actual republican democrats saying think republicans think edit coming left leaning person",
          "f resident anesthesia branch work schedule heavy though years earn well though barely get time going parlour etc want rest sundays note well maintained girl like keep groomed stylish bf civil engineer place got cosy super hairy hair fun told got disgusted hair mainting hygiene note keep super clean got cosy took bath applied lotions asked smell something said hair looks bad likes smooth got irritated said nose hair need trimmed look big felt disgusted kiss touched lips told trimmed chest hair whole touching neck got offended talking apologise said smell bad told super hairy mature enough understand p n star hairless time take far though morning trimmed lmao though like chest hair coming shirt buttons edit people research pubes equate bring unhygienic keep clean well go atleast back hair well countless hair body never shamed edit two going breakup unless becomes pattern discussion done many good things last three years edit three please stop telling breakup yta nta esh also call disgusting said find pubes disgusting lots difference discussion like adults soon see road bump reason breakup willing change attitude though pushover someone believes breakingup",
          "australian always hear people go dangerous australia stupid fine snakes pretty fucking avoidable go bush wear thick clothes boots ans stomp around best snake health care world spiders one died spider bite since america get spider bite related deaths year sharks swim water sharks swim around life guards swim close coast avoidable especially tourist crocodile specific area go also america alligators literally dangerous animal could cause harm dingos go desert desert alone tourist dumb also big fyi anyone brings kangaroos telling almost kangaroo attacks see online fault kangaroos skittish animals managed piss kangaroo blaming america bears bears could maul snake gon na painful bite vomit bears could eat limbs leave bleeding death wolves fucking dangerous mfers maul death coyotes also america real actual massive teeth animals could kill also mountain lions actual real predator australia literallydont stupid dumb stay away places animals live fine worst situation getting anti venom bear could leave limbs gone",
          "source big box ceos flat told trump prices going steady right go food told shelves empty administration official familiar meeting told axios another official briefed meeting said ceos told trump disruptions could become noticeable two weeks",
          "kept losing packages security cams caught culprit neighbor bold ever walk right take boxes porch ordered special delivery glitter bomb inside fake package timed usually steal sure enough vanished within hours thirty minutes later heard yelling glitter everywhere touched single box since packages arriving safely",
          "hello long time lurker first time poster throw away cause want affiliated main f dating girl f months great red flag seen bit messy leaving things without putting away including trash anyway yesterday went karaoke club got super wasted spilled drink us big deal went apartment shower nothing sexy anything drunk remember looking streak bottom shower asked shit said oopsy poopsy pushed ball shit drain toe know say kinda stood chick really pooped told drunk could talk tomorrow today fast forward morning woke could get saw yesterday head tried keep light laugh pooping maybe try get toilet future goes explain feels comfortable want hide anymore asked poops shower time asked could refrain shower agreed feel like move past look kind want break reacting",
          "post contains content supported old reddit click view full post",
          "hrs ago sister died due complications ozempic getting dark web died pain confusion pursuit fitting societal beauty standard fucking made bullshit pushed us advertisers senseless fair know say hurt much life wasted years old much live feel real edit know real ozempic point stands died felt unhappy body made risky choices fit beauty standard",
          "already seen much civil unrest might well called divided states america wholeheartedly believe countries alienated joined forces invade us would enough public support save entire us either second civil war would start bloodier first maybe states fracture smaller countries kind unrest going since cold war vietnam era maybe longer getting worse know many people hate know pay taxes barely get benefits healthcare system shit late stage capitalism sent everyone except select working class facing recession record breaking inflation mention price gouging essentials rent groceries gas even get started quality food prevalence fast food everyone realizing system rigged make us poor sick long something like last people say enough enough seems like people especially educated people waking called american dream edit matter big military internal strife splintering also people want fight country public sentiment falling think roman empire guys defensible split apart saying seems happening use critical thinking guys need go college real edit muting day expecting blow also getting lot personal attacks righty tighties insult anyone group original post simply wanted open discussion see people felt state affairs sides ones take offense speaks character first impression leave rude personal insults bc make real argument hope day deserve",
          "da wei speech yesterday national chiao tung university china honkai star rail mentioned satisfied team amphoreus team creative desire high many unnecessary designs elysia designed former president nctu animation club check social media constantly many extreme voices data team verify community things game rarely clipping issues supported ai technology release internal meeting originally wanted give chance see anniversary version content would perform end still felt version content good enough stuff made several investments young randomly invested purely personal interest e g brain computer interface nuclear fusion comac commercial aircraft corporation china later really manage investments much particularly invested brain computer interfaces nctu professor also wanted start business nuclear fusion project done american educated returnee classmate one powerpoint presentation conned da wei small goal ran money conned another small goal another powerpoint note small goal chinese meme referring million rmb host jack said money bring happiness happy da wei yes happy company think could succeed still managed create product defeated us arknights metioned sumeru genshin beginning zenless zone zero great campus recruitment boss know exactly many people recruited year mihoyo campus recruitment really competitive even cai miao one original founders besides da wei secretly participated written test pass one person applied mihoyo campus recruitment knew mihoyo interviewers hired directly many people recruited da wei sighed would great person like want end company source",
          "deeply tired game fans damn annoyingly negative show still even annoyed show fans overly negative time people complaining stuff might explained later tired ellie hate different character based game character thought done hating joel death years ago get gods sake game dictating many people feel show meant rip game stop expecting clarify played like half game played enough understand game considered masterpiece many respect source material think change everything think people expect majority content stay edit believe everyone watches show many valid criticisms like clothes clean story writing anything game fans take far",
          "affair sister husband yes regret truly disgusted past self found sister publicly shamed fair enough told parents also fair also told parents fair chose stay husband blamed seducing unfaithful forgave decided reconcile left face consequences parents kicked scramble find somewhere live every time found new job parents sister would contact coworkers call homewrecker would harass wherever went gossiping status one treated differently face stares whispers unbearable leave city move another escape mental health people might say overreacting really followed like plague moved met nice elderly couple never kids took mark helen mean offered stay wanted nice place often visited day mean world knew happened even joked said something along lines afraid steal husband homewrecker told homewrecker entire personality move learn eventually met husband four children adults except one kids know parents past situation grew considering mark helen grandparents alongside laws last saturday received message hope find heart read message know much pain hardship want honest everything deeply regret things unfolded us especially hurtful things said past truly sorry pain caused actions lasting consequences never got know grandchildren realize much missed xxxx husband cheated left someone else see much suffering woman left alone two kids caring disabled child autistic child hard trying carry despite everything strong enough difficult situation struggling financially enough space resources help directly deeply want support children asking forgiveness know father deserve hope see trying make amends even late way help us financial support guidance assist serna children would mean world us want right willing give us chance love got message pretty angry seen parents years willing see even consider helping sister kids responded yet husband willing send harsh letter behalf considering ignoring would asshole let husband write harsh reply edit got live grandparents kicked also clear oldest child little kids anymore thank al support came expecting get bashed",
          "oop oop u fresh_peanut_ f boyfriend keeps letting friend come dates thanks u arifault suggesting boru trigger warning manipulation slander mood spoiler baffling original post apr ok got predicament first place boyfriend really likes friend liam like brother saved life etc dates even brought one single friends date could double liam date failed honestly asked bf liam dates says liam lonely nobody else siblings girlfriend boyfriend kind guilts know sounds awful liam fucking package guilt mom died young dad talk anymore liam anyone else talk honestly think boyfriend guilt tripping think relationship anymore nothing changes leaving gone months like sure feel bad liam really know problem also dates movie nights hes going mall hes tl dr boyfriend keeps bringing friend dates basically guilt trips kicking friend also know sounds made still believe much real basically need validation ok break boyfriend whole post relevant comments fjbp ending fully validated based post put foot plan dates tell friend invited period oop said post always like guilt trips letting come saying loud kind made realize manipulative top comment tsukiii ok break sign third wheel relationship spend much time liam wants single dude edit called soon ex boyfriend meet gon na break gon na tell exact reason honestly swear liam though like considering possibility breaking even liam manipulates letting liam come update apr editors note changed initial x xavier easier reading update broke ex gon na call xavier went agreed meet guess brought guessed liam annoyed point told wanted speak privately brings fucking liam uncomfortable break someone front best friend pissed told said wanted speak privately said say front liam eventually get annoyed say thats want liam always private life dates everywhere basically said remember told liams circumstance blah blah blah said something like sorry give fuck liams going right breaking meanwhile liam standing looking confused get back later basically get fight park gets point tell manipulates kicking liam dates everything told liam went like brother xavier saved xavier life dead mom dad absent siblings friends girlfriend xavier looks like got caught something liam gets angry saying like tell really funny really awful time turns none xavier told true liam fiancée real brother sister mom dead anyway definitely broke xavier like minutes later liam dms basically saying xavier told liam wasent comfortable alone xavier thought wanted dates sir said reason agreed fiancée living europe finish study abroad program nothing better xavier flat liar glad broke mad got lied oh well honestly turn events expecting get somewhere tl dr xavier liar turns everything told liam false play game something repost sub oop contact oop comment linked posts remember rule",
          "donald trump tariffs already triggering thousands layoffs american manufacturing plants mostly midwest east companies ejecting workers wake trump purported plan use levies bring manufacturing jobs back country",
          "comment linked posts op original post u ok hospital r advice r collegerant credit u direct caterpillar finding one trigger warnings abuse authority professor secretly docking points anytime sees someone phone dozens us risk failing kept phones desk might lose job lined graduate also posted collegerant april professor recently revealed docking points time sees anyone cell phone lecture even lying desk using docked points alone even text lectures keep phone face desk habit late semester risk failing class pay thousands dollars afford another semester lose job lined graduate talked smiled referred single sentence buried five page syllabus says cell phones visible lectures never called attention said anything rule looked smug like court case instead screwing random struggling college kid contrived loophole far tried speaking professor tried submitting complaint school grade appeal system denied without explanation seem way appeal tried speaking department head seem care literally said important read syllabus feel like options know comments replies additional context commentator might trying scare intention actually deducting points spoke anyone previously took class op yes actually came light trap pulls semesters people knew word mouth careful get memo neither bunch kids class shock serious docking points commentator syllabus even say anything docking points looked syllabus says retains discretion adjust anyone grade light infraction edit clarify unfortunately infraction referring phone well number things listed paragraph like readings etc read like boiler plate paragraph middle long syllabus never thought enforce rigidly harshly even register phone desk could even infraction commentator reply deleted comment professor nah go see thr dean person encourage others go well professor nah go see thr dean person encourage others go well tried ability meet person dean department head high walk meet far tell update april post removed recovered dc believe much original post blew implemented much advice got crossroads background original post see tldr professor secretly docking points students time phone visible class based single sentence buried syllabus phone resting desk facedown using docked points visible consensus escalate issue advice got great things track yesterday update update read everyone feedback emailed dean school newspaper response know least two students class tried emailing dean well without luck ran math guaranteed fail class deductions stand nothing lose wrote petition one taken seriously coming us individually think important show couple disgruntled college kids whining bad grade plan get signatures send petition dean school newspaper hit small snag reached five classmates trust signing petition get ball rolling thought great idea feel comfortable first people sign get around someone last thread suggested using website bopetition com lets make signatures start anonymous un anonymize enough people sign way one first person sign hit major snag yesterday getting ready send petition professor sent us email attaching amended syllabus amended syllabus exactly except paragraph says grade disputes must raised exclusively grade appeal system attempt dispute grade alternative channels including limited direct outreach faculty professor name result automatic failing final grade zero percent without exception welp thought end one would interested signing surprisingly three people spoke independently messaged asking still going petition promised would sign pissed think new policy retaliatory three people even talked reached said heard planning send petition would sign sent think bunch others would tell heard petition cats bag sure exactly many others grade docked phone policy asking around seems like least half class kind deduction decide proceed light update syllabus considering going petition app make fully anonymous plausible deniability final result would say people class signed relevant comment chain commentator okay teaching higher ed years seems like professor trying get actually job unethical hell playing people lives docking points without upfront kind thing would ever biggest red flag basically end semester means anticipating bunch people trying dispute grades give bunch failing grade policy like sit actually much grading impression getting also want tell see whining gpas really affect ability engage forms professional development got bad grade one class undergrad gpa never recovered explain gpa applied grad school always taken grading really seriously sorry jerk commentator op gotten dragged every sub posted glad another person higher ed agrees teaching higher ed ft years adjuncting student teaching since experience policy like absolutely would fly especially considering vague penalties hell told even restrict technology classes many students accommodations note taking software recording lectures etc allowing student use accommodations one else essentially outs accommodations new policy professor trying implement clearly retaliatory seen professors disciplined crap like trying make students afraid question complete abuse authority op thanks lol surprised rule punishment oriented college subs reminder original poster comment linked posts",
          "f three children ex kon months ago sister f confessed kon slept together week said regretted needed us okay told mistake got caught moment crush kon needed hate loved wanted us make things work kon even try deny told sleeping around years slept sister sister denied strongly broke immediately told get lost said never wanted see disgusted repulsed care bad felt wanted feel bad wanted hurt would never hurt much right forget got checked broke kon make sure give anything cheating negative stds incredibly thankful amount cheating talked still surprised catch anything ended dating kon rejected story told others said felt guilty needed good come clearly would never give time day true swore would forgive even therapy become secure belief broke relationship beyond repair regardless whether one time believe full affair wrong never come back really care happens died tomorrow would grieve make appearance funeral recently sister found kon cheated cheat passed along stds stis know specifics believe also waiting make sure give hiv although say paid enough attention know big concern cautious thought experience would make forgiving wrong showed place shut door face without saying word showed brothers house heading inside shooed told sorry scared much needed ignored kept going brother told welcome tried time respond told care anything deserves everything got stupid end told needed scared told like found partner years father children cheating could used sister betrayed well cheating said one time would told want disgusting self touch said saw disgusting backstabber told care given every std sun want nothing die hole care seen since apparently distraught also topic gossip social circles lost shared friends shared similar sentiment couple asked even feel little bad cruel turning away second time even apologies said felt like found way work close long time sisters life whatever stupid crap said feel guilty even feel bad kind empathy aita though",
          "would normal people fight rich right slaves something importance",
          "visited oldham first time thought bad right certainly biggest shithole country somewhere else country bad people make",
          "gf years recently suggested open relationship know case misheard asked elaborate yeah pretty much would think wanted us able sex others took deep breath said done seen stories open relationships know way hell ever want one tried take back told fact nerve even ask deal breaker fyi never done anything another person never suggested way ever gave hints something want even listen ignored kept trying explain apologize packed stuff went stay parents trying call honestly feel like asking open relationship basically asking permission cheat",
          "working footwork past months",
          "bake hobby actually pretty good like get paid table weddings baby showers kind good sister pregnant wanted make cake gender reveal cool problem asked send info could prep inside classic pink blue filling says oh want surprised make neutral reveal find together like huh want gender reveal cake gender revealed says someone email info later someone never deadline comes still gender make cake grey inside grey outside full cement vibes even added little fondant clouds effect still tasted great visually grim hell reveal day comes cut sister looks pissed husband confused people start murmuring pulls aside like would make grey passive aggressive calmly reminded one told gender literally data work told guess go full improv someone baby cake mom says embarrassed front family tried harder tried harder summon gender vibes alta making neutral reveal cake history edit actually follow asked couple days reveal info sent said something like yeah someone taking care figured handled want pester since seemed chill time",
          "george lucas called rogue minute conversation saw rogue one time ever spoken loved really lot things say like call source",
          "thank everyone commented last post shown alone people gone also feel vindicated decision pay half mortgage deed thank anyways tonight got talking arrangement said want prenup mentioned last update told final offer couples therapy getting married buy house told get rental temporarily figure everything come agreement outright refused said want waste money renting said entitled money buy house marry win divorce said fine get married asked breaking said know needed space lost called btch gold digger told owe know got number said used one ever want went ranting yelling minutes grandma came us told leave staying night hotel called repeatedly left angry voicemails feel numb baby confused keeps asking upset dad went hate much everyone mentioned might gotten manosphere red pill content right looked subscribed youtube sure enough saw joe rogan fresh fit podcast justpearlythings adin ross safe say fallen manosphere rabbit hole know man fell love gone nothing definitely signs notice always said saving money buying house also said one occasion man house got really big provider protector put together behavior change pretty recently like last months life shit show writing somewhat therapeutic thank support",
          "long week wanted one night turned notifications made dinner took long bath binge watched show boyfriend texted times asking okay respond hours finally replied upset said okay go offline without notice told needed reset personal said felt like ignoring purpose triggered anxiety feel kind bad also feel like allowed disconnect aita",
          "title says year old daughter supposed go dinner friends sleep girlfriends home next town suddenly called said something feel right coming home know feeling came let say sixth sense immensely proud felt something decided go home instead waiting see would happen try hard keep girls safe world live turns teaching trust gut matters know always said think would understand tonight kept save trusting instincts calling us parents",
          "f recently inherited decent sum money dad passed away unexpectedly january biological child never legally adopted stepbrother stepmom son first marriage known since teenagers always polite never close dad everything left clear even lawyer present went last year stepbrother mentioned know intentional oversight lawyer said ironclad estate settled stepmom reached asking willing right thing split money stepbrother said told cold selfish dad would wanted kids taken care snapped little told kid never adopted son include definitely never treated us got college helped tuition stepbrother said needed learn responsibility sucks relationship mine fix half extended family calling heartless even boyfriend said gets upset asshole keeping money exactly dad left",
          "work digital marketing company thinks google without perks snacks flexibility fun office culture laura laura new team lead master degree leadership overpriced private school latin motto absolutely real world application showed day one color coded notebooks laminated daily affirmation desk energy someone thinks girlbossing personality trait uses phrases like vertical synergy unlocking cross functional efficiency aligning kpis vision completely unironically day started came introduce bring much suitcase arm like going read coffee like statement intent like look kind things read leader anyway last week sent email whole team said quote noticed people getting little relaxed start times beginning monday expect everyone desks sharp earlier later thanks earlier later say less normally get work around grab coffee chat coworkers go emails calmly hey dot wants get monday rolls around walk building scan badge power walk desk open laptop laura pings teams hey everything okay saw rushing replied screenshot email response went week every day arrived exactly coffee hand sometimes still wearing jacket looking like rolled bed slowly rest team caught started nobody showed early got weirdly synchronized like part corporate flash mob tuesday scheduled daily standup one joined appeared like clockwork friday another email hit inboxes thanks punctuality week starting monday feel free manage time see fit long work getting done trust like went back showing little early warm coffee zero passive aggressive micromanagement thanks leadership laura",
          "almost months surgeries later still feels like world ended day",
          "black guy seeing lot pro nazi black people community right go hitler wrote book mein kampf dumbass niggas praising jews responsible bringing negroes rhineland ultimate idea bastardizing white race hate thus lowering cultural political level jew might dominate hundreds mixed black folks forced sterilized nazi germany organized german eugenicists called black mixed people rhineland bastards also hitler expressed views black culture time degenerate said jazz music eroding white american culture nazi eugenicists argued black people inferior whites skull shapes ect ect also documented black person soldier hitler black guy forced sterlized join treat blacks reverence pathetic pieces lying worthless shit loathed us hitler believed jews responsible bringing black people germany bastardize white race hitler believed jazz music black culture degenerate hitler nazi germany forced hundreds black people sterilized hitler allow black people serve army believed blacks inferior exception handful blacks forcibly sterilized black come fuck worthless ass niggas undermining absolute hell blacks go evil mother fuckers power supporting regime solely drugged bitch made washed mother fucker kanye said genuinly wish pieces shit could experience nazi germany first hand come back tell everyone inclusive nazis fucking retards",
          "talking mate used walk pubs deep voice confidence half time one cared got thinking much life quietly changed last years like fact could go school trip france come back marlboro reds crate strongbow go without phone tell mum back dark somehow survive even stuff like smoking indoors woolworths pick n mix feels bit fever dream ish something weird back would raise serious eyebrows",
          null
         ],
         "marker": {
          "opacity": 0.5,
          "size": 5
         },
         "mode": "markers+text",
         "name": "0_said_like_told",
         "text": [
          "",
          "",
          "",
          "",
          "",
          "",
          "",
          "",
          "",
          "",
          "",
          "",
          "",
          "",
          "",
          "",
          "",
          "",
          "",
          "",
          "",
          "",
          "",
          "",
          "",
          "",
          "",
          "",
          "",
          "",
          "",
          "",
          "",
          "",
          "",
          "",
          "",
          "",
          "",
          "",
          "",
          "",
          "",
          "",
          "",
          "",
          "",
          "",
          "",
          "",
          "",
          "",
          "",
          "",
          "",
          "",
          "",
          "",
          "",
          "",
          "",
          "",
          "",
          "",
          "",
          "",
          "",
          "",
          "",
          "",
          "",
          "",
          "",
          "",
          "",
          "",
          "",
          "",
          "",
          "",
          "",
          "",
          "",
          "",
          "",
          "",
          "",
          "",
          "",
          "",
          "",
          "",
          "",
          "",
          "",
          "",
          "",
          "",
          "",
          "",
          "",
          "",
          "",
          "",
          "",
          "",
          "",
          "",
          "",
          "",
          "",
          "",
          "",
          "",
          "",
          "",
          "",
          "",
          "",
          "",
          "",
          "",
          "",
          "",
          "",
          "",
          "",
          "",
          "",
          "",
          "",
          "",
          "",
          "",
          "",
          "",
          "",
          "",
          "",
          "",
          "",
          "",
          "",
          "",
          "",
          "",
          "",
          "",
          "",
          "",
          "",
          "",
          "",
          "",
          "",
          "",
          "",
          "",
          "",
          "",
          "",
          "",
          "",
          "",
          "",
          "",
          "",
          "",
          "",
          "",
          "",
          "",
          "",
          "",
          "",
          "",
          "",
          "",
          "",
          "",
          "",
          "",
          "",
          "",
          "",
          "",
          "",
          "",
          "",
          "",
          "",
          "",
          "",
          "",
          "",
          "",
          "",
          "",
          "",
          "",
          "",
          "",
          "",
          "",
          "",
          "",
          "",
          "",
          "",
          "",
          "",
          "",
          "",
          "",
          "",
          "",
          "",
          "",
          "",
          "",
          "",
          "",
          "",
          "",
          "",
          "",
          "",
          "",
          "",
          "",
          "",
          "",
          "",
          "",
          "",
          "",
          "",
          "",
          "",
          "",
          "",
          "",
          "",
          "",
          "",
          "",
          "",
          "",
          "",
          "",
          "",
          "",
          "",
          "",
          "",
          "",
          "",
          "",
          "",
          "",
          "",
          "",
          "",
          "",
          "",
          "",
          "",
          "",
          "",
          "",
          "",
          "",
          "",
          "",
          "",
          "",
          "",
          "",
          "",
          "",
          "",
          "",
          "",
          "",
          "",
          "",
          "",
          "",
          "",
          "",
          "",
          "",
          "",
          "",
          "",
          "",
          "",
          "",
          "",
          "",
          "",
          "",
          "",
          "",
          "",
          "",
          "",
          "",
          "",
          "",
          "",
          "",
          "",
          "",
          "0_said_like_told"
         ],
         "textfont": {
          "size": 12
         },
         "type": "scattergl",
         "x": {
          "bdata": "yA7RQFzq10AXFc1ATdDfQKu87kDcnc9AF1u6QN9T50DNO81Aon7kQC1i2kBigr9AlsLWQAqjw0AcoNJAaBW/QFHruUAZ3cxApwPPQETevEA/2dJAF+25QBod40B4YbpA7kLKQBUTwkB41MpAsOPkQHrF2UCytb5AT4PaQAqo60AOasJAicTRQMf1vkDIMNpAx2+/QGFSyEBq6NJAFevJQB0h30BedtZAiEH9QJrVwkDTHsJARWvWQPObz0A9z7lACJjvQMhE9EDeR9ZAkgXYQJx1ukBUaeBA6xL7QPYy8UBXpexAAMj4QBME/EBD7dVAtErRQFsW1UAbnudAjWXEQL7N+0A+J9ZA7Y+4QLqb5EAn9cZALsu3QJad+0CLvudATGrjQKQd10Ca/eJAYdnaQFRtzkB0+ehAOCfOQF8rtkCOoLZAJzK7QHBqvEAVceVAsKDAQF5HwEAyifNAotXKQKuHwECnjc5AkQ/FQDaDyUBt/O9AuozTQAtuxEBj9OFAeYq3QBD9ukDAqcVA55bWQIoXvUBQI8BAJqvPQCjivUCQht1AHmi3QJEe0UAkPdpAnbjeQMQf6UAjYuJAxEXOQOwl9EDfb85AY8vAQOPQxEDJyu5AwCq5QJli0kBzts9A3c36QFNu2kCiS8BAiK67QLzTukAuQuZAePsIQZiIv0AURMZAI4DbQLIJuUBLUONAyozLQJ4k2UAknLlADPbnQOlj6UCmi91A0BThQPpO20DpydJA177gQAjr6UDk39BAGHTDQDV81UAJfbtACKjqQBKwxkCG5dxA5pHgQIfA60DJJcdAsZC1QNP+5EBXKN9AQ4rUQFLc5kCqTL9A1xXPQHdn0EByIbhAy/TQQCkVzUBRptRA3KPfQNSwyECvk+xAR+HnQCMRuUDMUtFAznbxQKtQ3ECf5uFAYN66QGFM60DY/OBA5wzWQKfsxkAf7dtAUt/MQBJN0UCQ6eBAeobRQPIv0UCNKuNAF2fkQC1BuEBSjeNAuorIQH+s3EDBa9ZAWuW/QBpUzkA28+JAVZvNQHew0UB3gtFAzw67QBfCuUDqW9BAZGO+QBUn4EDlkt1A58+8QJvm6EAhSdBAyFDMQOISvkAMzNNA4KzQQCBR6ED4ActASCfcQBOZz0DwzM5AaxrhQHDx1kApvs5AGV7LQFJu1UDsvbhAmN3YQISt70C8yOZAnFbMQAH13kCF/9xAVKjuQLla1kACychAqKrlQDEP+kBoDLpA9VbFQJjP2kDrLexA/2rjQD7R40BAm/dAEsfhQPCv5UAEzdRAXS/oQI9Q7EBBZdBAWgTsQDOj30DoAchAR9rAQA1E3kCEz8NA+oa9QBqh4UDIr+VAS+3QQLChwUBBUbpAjdjbQPemvEDfrcBAPyLkQE36wkAq4+tAvcHWQLTv00CZYdBA/hLpQAE2xkB1A+NAFyjjQGlN7kDfIOJAsx3dQJsC0kDiXupA8M62QKL20UDbvMxAxCm+QPf/0kCSFs5Aj5jPQADNuUBfddFADzzYQMAa5UB0v91Ac7voQF0/00Az3fBA9grRQNxB0ECGuehAus0BQcY8vUCgFcVAIwjdQAaLukCFcbtAsdLZQPr37kDtpMpADYn/QF68zUC0NPpAlmXBQDecy0D7hchAX5C8QN8B5UAyzMFAl5jSQFrt3UAqoNRA",
          "dtype": "f4"
         },
         "y": {
          "bdata": "XKyGwGelecDC0kLA7CxpwCG0bMBwAEnAEZtgwOLTS8BOHCvArh9QwFHzNcAxOjfAzO2AwOr+NcAFMEPASIcwwOGJKMCkEDjAf9RWwJvRIcAbSVHAyxolwJ4QYcB5OTXAX7AvwB3DM8Da2THA31RLwDVgccChMkzAT3A+wBG8ecDtOVfAH1yIwGx4NMBIMXbAuIxWwPYuWcDNbCjA2uJWwAATYMBLVGfAmzt3wKpCMcDarD3ASQdJwOv2EcDdNj/AxCh+wGn9b8Apq3vAI6VQwI0MMcAti27AM3hxwLF6b8DmtUjAxnh4wMd1aMAxPnLA0JuHwMKGbcBC+G7AXz9EwJJdbsAe6inAtR5IwIhnZMB+pErAH9JOwIZvcsARHXHA5X9uwEj9VsDUcTTAhis8wK4SQ8DU83vAv4YUwFFQVMDoJ1nAcvlewGPvQcBwqFfAQP9VwE2WUMB8shXAZo0swNOzVsBitkHAKb4mwObjL8DsM27A26mCwPi+QMBx8TPAYidEwPQkVMCNJSjAolVLwK5fQcD8x1LAMlKJwGw+TMD7cJTAvC5CwO3/h8AzTXXAUYJYwKL3IcD7hkfARswswO1uccCu9xXAnb1UwH5kMcB8uz/AWIokwBAtVMAIRFfAKBNxwBoEesD3vUzAPI9OwPGkHMCar0HABgtjwOETUcDrtEnAHyuTwAc0P8DDrjLAKpkpwNarOsCIbiXAaXJ0wLlWSsBO65PAoS6WwHAePMC3E4TAka1owM0FRsAg44XAH/lAwAROLMAYS2HAB6FywFumPcCmMCrABkBewI3PdMDGdSTA4gVTwChxZcCuNjvAR62OwCNjfcDRjzTA2hiLwDZYiMCfSUHAZbiGwCIAO8AQjWvA8ElpwJLQc8C5UXnAb81twELmScDMPEfAzu12wOMVlcCJTVfAtHobwFtxdMAWYzbAuq9pwO9GVMDIl4XAePYzwLmphsCIlVvA4AIswIHlh8B/UVLACQJXwD0HMMBqTljARydKwHVwc8BltjHAe31VwABjF8CgYWrA8cBZwO4ST8CSSzHAbxw6wCedTsCQAInAAGMXwF2ZRsBwQZXAwodLwPjVf8ACKobAjR4vwDNpQ8AUDTHARHSHwO+hJsDnVC3AvVOUwGmqi8CGkz/AfUdGwKrlU8B4AEzA4sgpwOcSSsBrFUDAH6aLwLjUbMCc837AKIsewJTmO8C8yZTAbeFTwPZca8B6NyTA3ztQwDR0b8CoNyjAjZlTwCJ7PcAnF3vAOpl7wDePV8AAvXzANGhawNU6SsBpKW3AKgRDwD+NVMD0DojAF6yEwCqBWcAiNEnArksxwPgpacArwjTA5Pc6wFLTV8CVO2fA2waIwOPOTsCZ3mHARSo8wDLxQMDhbTLAoihewMqfasB0BHbAOidrwJephsBvloXA/uRFwJPuPsBQ5D3AUdJnwIWog8DxjTLAjgCUwFhnTMB0WFXAUA1bwAJZDsBW4ErAe6NdwP91isBDwlPAXEJ7wPnlQsDU1YfA6XdGwIe7NMBT8pTAiZBPwDQxM8CexoLAkqxNwKzEh8DSB3fA8G1kwChvQsBJTjfAA3SUwM3LYMBk0j3A5zaAwANsM8A/WivAe1kMwL4VTsCRs1jAkQw/wAleKcC5hy7AiCUzwOiEasBa+kfAc4WFwLRkOsBVuFbA",
          "dtype": "f4"
         }
        },
        {
         "hoverinfo": "text",
         "hovertext": [
          "𝗙𝗢𝗟𝗘 𝗣𝗨𝗕𝗟𝗜𝗦𝗛𝗜𝗡𝗚 ____________________________ 𝗫𝗵𝗲𝗻𝘀𝗶𝗹𝗮 𝘅 𝗟𝗲𝗱𝗿𝗶 𝗩𝘂𝗹𝗮 𝗠𝗮 𝗞𝘁𝗵𝗲 𝗢𝗳𝗳𝗶𝗰𝗶𝗮𝗹 𝗩𝗶𝗱𝗲𝗼 ____________________________ subscribe 𝗫𝗛𝗘𝗡𝗦𝗜𝗟𝗔 𝗠𝗬𝗥𝗧𝗘𝗭𝗔𝗝 official channel turn notified new songs listen spotify download itunes ____________________________ produced 𝗘𝗡𝗚𝗟𝗜𝗩𝗘𝗥𝗦𝗔𝗟 beat 𝗘𝗡𝗚𝗟𝗜𝗩𝗘𝗥𝗦𝗔𝗟 lyrics 𝗫𝗛𝗘𝗡𝗦𝗜𝗟𝗔 𝗟𝗘𝗗𝗥𝗜 𝗩𝗨𝗟𝗔 𝗝 𝗚𝗔𝗦𝗛𝗜 mix master 𝗦𝗢𝗦 directed 𝗙𝗔𝗧 𝗚𝗝𝗔𝗞𝗢𝗩𝗔 published 𝗙𝗢𝗟𝗘 𝗣𝗨𝗕𝗟𝗜𝗦𝗛𝗜𝗡𝗚 ____________________________ connect 𝗫𝗛𝗘𝗡𝗦𝗜𝗟𝗔 instagram connect 𝗟𝗘𝗗𝗥𝗜 𝗩𝗨𝗟𝗔 instagram connect 𝗘𝗡𝗚𝗟𝗜𝗩𝗘𝗥𝗦𝗔𝗟 instagram connect 𝗦𝗢𝗦 instagram connect 𝗙𝗔𝗧 𝗚𝗝𝗔𝗞𝗢𝗩𝗔 instagram connect 𝗙𝗢𝗟𝗘 𝗣𝗨𝗕𝗟𝗜𝗦𝗛𝗜𝗡𝗚 instagram ____________________________ listen 𝗔𝗹𝗯𝗮𝗻𝗶𝗮𝗻 𝗛𝗶𝘁𝘀 playlists spotify ____________________________ xhensila myrtezaj fole publishing rights reserved",
          "helga marianne gemeinsam urlaub fliegen aktuellen preise urlaub fast unbezahlbar _______________________________________________________________________ krabbenshop kostenlos abonnieren verpassen instagram facebook tiktok freshtorge merch hoodies tickets eierlikör kostenlos abonnieren verpassen instagram facebook tiktok",
          "friedrich merz neuer kanzler bundesrepublik deutschland allerdings erst wahlgang wahlgang gescheitert geschichte bundesrepublik nie gegeben los bundestag darum geht video findet video erwähnten liveblog at_medium social media at_campaign youtube at_specific mrwissen go meldung wahl friedrich merz bundeskanzler website deutschen bundestags unvereinbarkeitsbeschluss cdu parteien afd linke kanal gehört funk netzwerk ard zdf weitere infos youtube funk web app impressum kostenlos abonnieren findet mrwissen go instagram thumbnail designer david weber schnitt animationen mirko drotschmann design christopher hesse",
          "christian gäste wien eingeladen heimlich romina wusste normaler vlog tag begann wurde komplette achterbahnfahrt zweifel verwirrung kleine katastrophen ende moment moment christian gefragt romina ja gesagt verlobung schnell vergessen tag mehr perfekt moment immer",
          "friede sei ruf erste papst usa leo xiv jubelnden menschen petersplatz donnerstagabend begrüßt fuhr fort hoffe friedensgruß völker menschen erreicht sei unbewaffneter entwaffnender friede neue papst anknüpfend vorgänger erklärte leo xiv gott menschen bedingungen liebe bewegten worten erinnerte schwache stimme vorgängers franziskus letzten segen ostersonntag gesprochen segen wolle fortsetzen gott liebt sagte neue papst böse gewinnen mehrfach betonte leo kirche sei aufgerufen brücken bauen dialog suchen streckenweise improvisierten ansprache fuhr fort gemeinsam unterwegs frieden gerechtigkeit furcht suchen gemeinsam missionare unterwegs ende rede wechselte italienischen spanische grüßte früheres bistum chiclayo peru gläubiges volk erlebt bischof gemeinsamen begleitet prevost bischof südamerikanischen land italienisch fuhr fort synodale kirche nah leiden vorgänger franziskus leo traditionelle rote stola vier evangelisten umgelegt segnungsgloggia trat sichtbar bewegt lächelnd mehrfach winkend grüßte jubelnde menge quelle videomaterial reuters domradio medienstiftung unterstützen lebendigen katholischen journalismus spende christlichen werten stimme geben säkulareren gesellschaft gehört neben journalistischen projekten fördern gottesdienstübertragungen bauen kanäle christliche community unterstützen domradio de helfen hochwertigen lebendigen katholischen journalismus zugänglich",
          "viele influencer brille gut gönnt emma alexi günstiger all links smarte brillen heute warum viele influencer ausgepackt angefasst tragekomfort style technik brille even realities app transkribieren teleprompter übersetzer even ki navigation fazit packstation alex böhm postnummer packstation neu wulmstorf abonnieren glocke vergessen inhalt schnitt alex kamera stativ alex lena transparenz video werbung beinhaltet placement emma kampagnen link vorteile nachteile",
          "listen music video lorde c universal music nz ltd",
          "heimspiel spieltag ulm sprichen trainer pressekonferenz folge netzwerk facebook x instagram tiktok discord whatsapp linkedin",
          "aymen tischtennisplatte out now streamen aymen instagram folgen aymen tiktok folgen moonboys folgen produzent pzy cutz dj jape mix felix eschmann master niklas neumann video taylo contact info",
          "reezy dalé funkel official video das neue album born spinner von reezy erscheint hier exklusiv die album bundles vorbestellen dalé prod reezy sonus reezy abonnieren mix master mixed reezy mastered odrizz directed edit john tewelde instagram color grading leeroy tickets für die music home arena tour reezy hier alle musikvideos von reezy hier reezy instagram reezy tiktok teenagerforever instagram",
          "samra bei nacht jetzt kareem album box sichern sichere dir hier deine tickets für die samra live tour produced erol produced veysigz additional chris jarbee mastering sascha busy bühren grafikdesign single cover designnow video kamyab samra folgen instagram tik tok kontakt info",
          "songs telegram channel",
          "jungs musso folgen produced baki metin han yasin eray han mix master metin han video created sherif shereazy sakr kamera assistent bts photos vincent pötzsch",
          "katseye reacts gnarly music video stream gnarly follow katseye youtube instagram tiktok x weverse official website newsletter",
          "티빙에서 스트리밍 countdown ep 캣츠아이 날리 katseye gnarly clean ver world k pop chart show countdown every thur pm kst mnet live air 매주 목요일 저녁 시 엠넷 생방송",
          "instagram tiktok werbung vergesst kanal abonnieren daumen oben dazulassen chrissi",
          "edit expecting much interest post realized whiny bitch sorry happen right cheap probably get premium point money right still think able choose song unless pay thing bogus though small rant ahead spotify makes angry want talk primarily use yt music shocked saw choose play specific song album spotify mobile even search click specifically unless pay premium plays suggested song instead something similar one want listen made artist understand tactic get people buy premium doesnt make want buy premium makes want go back yt music major feature locked behind premium background play choose song make playlists listen much want including things posted youtube like video game soundtracks would want support spotify use youtube music edit someone comments put perfectly creating problem coax buying premium seen music streaming site allow something simple choose specific song yes understand used worse understand used pay entire cds wait listen music world live anymore world changing alarmingly fast point maybe buying music physical copies used norm anymore norm set free streaming sites like youtube soundcloud even newgrounds among others remember yes pay premium premium experience pay choose song listen",
          "hsv aufgestiegen momente unbeschreiblich einfach genießen folge netzwerk tiktok instagram whatsapp x facebook linkedin discord",
          "deutsche memes folge quellen folgt insta danke kevin alex jan unterstützung beim video alex vfx effekte unterstützt zave it werbung mehr twitch twitter musik benutze werbung epidemic sounds bezahlt pro monat dafür ganz musik benutzen könnt nen gratis monat testen holen link macht kriege ab moment bezahlt falls abo gratismonat verlängert kanalmitglied",
          "wer millionär katastrophe jahres wer millionär rtl könnt schreiben oniondogster geht holy werbung code oniondog rabatt ersten bestellung code oniondog heute schauen echte katastrophe auftritt tamara löchel ganz sicher geschichte formats eingehen bereits seit wer millionär günther jauch quotengaranten rtl obwohl schon viele millionengewinner echte superbrains gab gibt natürlich immer kandidaten wirklich frage probleme genau zwei failkandidaten millionen euro woche heute gemeinsam anschauen folgen wwm wohl definitiv geschichte formats eingehen natürlich gibt lustigsten stellen highlights wer millionär kommentiert parodiert analysiert einzig echten oniondog spaß",
          "anzeige hey versprochen kommen infos links flexispot flexispot april aktion rabatt starten neuer energie frühling entdecken sessel lotus flexispot holen lotus rabatt sichern lotus zusätzlichen rabatt code kollotus gültig mai entdecken h side table flexispot wirklich happy beiden produkten empfehlen",
          "folgt instagram twitch twitter youtube main kanal modemarke werbung instagram shop drops aktiv checkt eli willy ab eliasn socials youtube youtube kanal instagram twitter twitch niklas wilson socials youtube instagram twitter twitch beats by instagram",
          "starten erneut weltrekordversuch größte bottleneck spare beim flexispot brand month rabatt flexispot schreibtisch e plus flexispot stuhl bs ab mai uhr mai nutzen gelegenheit sicher bs stuhl rabatt rabatt rennen cashback mai ab uhr pcs aktuelle deals fertig pcs dubaro aktueller gaming stuhl verpasse deal mehr whatsapp kanal instagram kanal cpu gpu bestenlisten cpu prozessor ranking gpu grafikkarten ranking bottleneck rechner aktuelles testsystem geizhals bestpreise mainboard mainboard mainboard cpu kühler ram amd ram intel gpu ssd netzteil benchtable wärmeleitpaste monitor power measure geile empfehlungen deals starker gaming pc starker gaming pc starker gaming pc starker gaming pc fertig pcs bester gaming stuhl tolle laptop angebote angebote hardware aktuelle kaufberatungen beste gaming pcs beste cpus prozessoren beste gpus grafikkarten beste gaming laptops beste gaming monitore beste k uhd monitore beste gaming mäuse beste linkshänder mäuse beste gaming tastaturen beste gaming headsets beste gaming stühle beste bürostühle beste vr brille schaut mal vorbei twitch kanal discord server tiktok instagram twitter facebook _______ partnerprogramme hyperlinks videobeschreibung kommentaren btw handelt regel affiliate links falle kaufes erhalte kleine provision teilnehmenden shop z b amazon preis dadurch teuer danke unterstützung all songs licensed by artlist io epidemic sound",
          "best of album oli p bestellen videos oli p playlist gratis unverbindlich youtube schlager kanal schlager playlist könnt oli p folgen facebook instagram könnt schlager folgen facebook instagram meisten besten schlagervideos zeiten a andrea berg z frank zander",
          "vestel sesm x ile profesyonel kahve deneyimini evinize taşıyın bar basınç ayarlanabilir espresso seçenekleriyle fincanda mükemmelliği yakalayın trendyol süper lig haftasında fenerbahçe ile bellona kayserispor karşı karşıya geldi ülker stadyumu nda oynanan mücadele eşitlikle sona erdi sarı lacivertlilerin gollerini dakikada anderson talisca dakikada allan saint maximin yine dakikada penaltıdan anderson talisca kaydetti bellona kayserispor un golleri dakikada ramazan civelek dakikada kendi kalesine dominik livakovic te talha sarıarslan dan geldi bu sonuçla zirve yarışındaki fenerbahçe kritik puan kaybı yaşayarak puanını yaptı lider galatasaray ın puan gerisinde kaldı bellona kayserispor puana yükseldi ligin bir sonraki haftasında fenerbahçe deplasmanda gaziantep fk ile karşılaşacak bellona kayserispor sahasında çaykur rizespor u ağırlayacak premier lig bundesliga ligue den en özel içerikler güncel özet videolar çok dahası bein sports türkiye youtube kanalında bein sports un en güncel programlarını spor dolu içeriklerini takip etmek için kanala abone olmayı unutmayın trendyol süper lig özetleri bein sports arşiv bizi sosyal medyada takip edin facebook twitter instagram daha fazlası için en çok zlenen galatasaray videoları en çok zlenen fenerbahçe videoları en çok zlenen beşiktaş videoları en çok zlenen trabzonspor videoları",
          "theme ate posted part nicki minaj yall better stop complaining",
          "serkan yavuz kritik trennung samira nächste skandal affäre eva kostenpflichtiges statement sorgen aufschrei liebes samira folgt nächste paukenschlag serkan affäre kollegin eva gehabt netz schockiert wäre genug veröffentlichte statement situation bezahlung abrufbar fans follower fassungslos werfen mangelnde transparenz geldgier wellen netz schlagen hoch geht quelle letztes video kostenlos abonnieren mails abonnieren folgt schon instagram homepage kooperations anfragen info rtl rtl",
          "könnt holy probieren code tomatolix gibt rabatt erste bestellung werbung blitzer sorgen regelmäßig diskussion sehen abzocke wichtigen beitrag verkehrssicherheit läuft arbeit mobilen verkehrsüberwachung wirklich ab herauszufinden begleite tag lang team mönchengladbach temposünder straßenverkehr kontrolliert folgt gerne instagram tiktok twitter twitch kannst inhalte unterstützen kanalmitglied paypal lieblings t shirts equipment kameras hauptkamera große vlogkamera kleine vlogkamera gopro objektive standardobjektiv hauptkamera objektiv vlogkamera lieblingsobjektiv ton mikrofon vlogkamera ansteckmikrofon mikrofon voice over schnitt postproduktion imac musik epidemic sound link kannst audio bibliothek tage kostenlos testen hierbei handelt affiliate links darüber anmeldest produkt kaufst bezahlst mehr bekomme provision",
          "monkey bibi latest video",
          "freunden schweizer alpen survival shelter gebaut richtig schön mal projekt zusammen freunden draußen natur starten spaß video bald real life guys _________ anzeige holy ausprobieren wollt guckt gerne vorbei nutzt gerne rabattcodes life rabatt erste bestellung life _________ macher festival freuen riesig jahr macher festival sehen könnt tickets kaufen krasseste sommerparty jahres dabei lohnt _________ shop _________ social media behind the scenes tiktok the real life guys bauteam johannes daniel max kamera schnitt julius josia sinan ___________ musik videos epidemic sound artlist motion array ___________ pressefotos anfragen anfrage e mail geschäftliche anfragen cooperations",
          "könnt ganze folge ard mediathek anschauen beim kacktor monats wählt unterdurchschnittlichsten treffer monats je unattraktiver desto besser april geschichte schönsten kacktore frühlingsmonat zusammengestellt wer gewinnt goldene klobrille vergesst mail nummer favoriten zeigler senden immerhin wartet jemanden schicker turnbeutel tor thijmen goppel sv wehen wiesbaden tor tony sperfeld fsv saxonia tangermünde tor timo hübers fc köln tor patrick bruns alemannia salzbergen tor bjarne thoelke fc saarbrücken habt wahl geht abstimmung kacktor monats april hinterlasst like video gefallen zwwdf ard mediathek mehr sendung zwwdf instagram wollt bilder videos geschichten rund fußball arnd zeigler teilen schreibt mail zeigler beitrag wurde produziert aussagen fakten entsprechen stand wurden aktualisiert",
          "werbung gibt s aktuell dächer aluxe ultraline classic mehr infos terrassen gibt s instagram tiktok podcast anfragen info kamera schnitt richtlinien reactions freuen kreative reactions echten mehrwert bieten qualität urheberrechte wahren gelten folgende richtlinien nichteinhaltung behalten recht video claimen entfernen reaktionen livestream stunden veröffentlichung videos gestattet stunden veröffentlichung reaktionsvideo youtube veröffentlicht reactions sollten weder beleidigend abwertend gegenüber gezeigten inhalten beteiligten personen partnern konstruktive respektvolle kritik erwünscht reaction sowohl videobeschreibung video eindeutig originalvideo kanal hinweisen einschließlich links original reaction mehrwert bieten kopien originals entfernt werbung originalvideo darf vorherige absprache übersprungen herausgeschnitten partner ermöglichen überhaupt erst erstellung contents kannst reactions youtube twitch monetarisieren videos dürfen bewerbung kommerzieller angebote verwendet z b eigene placements reaction",
          "written composed al shami music producer elian debs mix master office studios artist management music life directed jad rahme digital distribution listen jinak digital platforms keep listening al shami anghami spotify apple music deezer youtube music soundcloud subscribe al shami channel best latest official music videos behind scenes live performances follow al shami instagram facebook tiktok snapchat x lyrics كلمات جيناك جيناك بنت الأصل لي وما حد خذها مني بعناد الزلم يلي يريد العركة يقرب يمي جيبو الزلم ياخدوا يلي يريدوا بالثأر لشد العزم واحرق أرضهم بالنار جيبو الزلم ياخدوا يلي يريدوا بالثأر يشد العزم واحرق قلبهم بالنار وعلى عيني بالسلم اما اللي يجيني من الزلم واليدخل بيتي و يحترم لفرشلو أرضي بمال وين ولد العم لندبك شوبي حتى الكلب ما يشم بخوفي يا أبو العبد يا مربي زنودي بيي خلفت ذياب بلجم الزلم ماكن لحم الزلم آكل طاريكي مو عادي بتروح فداه رجال والطاري ما ينجاب كيف هالأصل ينعاب ريت الغزل ينعاد بالدان يكوي القلب يرمي رماد جيناك جيناك بنت الأصل لي وما حد خذها مني بعناد الزلم يلي يريد العركة يقرب يمي",
          "offizielle video ideal amo kommenden album ssj ssj amo pre saven ideal überall streamen amo streamen amo folgen produziert svrn beats video by taylo cover by calentura mix svrn beats master lex barkey abonniert kanal idéal folgen deutschrap idéal folgen vdsidc folgen idéal studios folgen idéal frankfurt main",
          "gesehen darüber gelacht memes heute sitzen vier echte internet legenden hosts neuen sag folge s knifflig erkennst wer berühmten clips steckt ganz requisiten filtersound replay sicher internet vergisst gesichter schon mal vielen dank großartigen menschen memes rüya christof alexandra davis schulz kasim danke großes lob rate teams derya okan aylin blessed b houssein funk content netzwerk ard zdf youtube funkofficial instagram funk tiktok funk website",
          "harald glööckler versteht alice weidels motivation teilnahme my style rocks",
          "sep chris live beim drop dabei o_o original video merch shirts hoodies caps findet verpasst livestreams folgt könnt link amazon shoppen hierbei handelt affiliate link kauf link umsatz beteiligt auswirkungen preis reacts stream vods best ofs merch pcs podcast",
          "tak år venner følg min youtube se hele rejsen",
          "immer mehr kriminelle nutzen plattformen airbnb booking com schmutziges geschäft illegale pop up bordelle mitten ganz normalen wohnhäusern wer steckt geschäft organisieren täter netzwerke hilflos behörden vermieter innen plattformen wirklich recherchiert frankfurt norditalien irland vermieter innen expert innen betroffenen gesprochen exklusive einblicke machenschaften krimineller hintermänner erhalten gehts kapitel bordell statt ferienwohnung sexarbeit eigenen wohnung online anzeigen sexarbeit illegale nutzung ferienwohnungen undercover pop up bordell analysieren material betroffenen wer bietet apartments strukturen mafia großen anbieter leicht zdf streamingportal weitere spannende folgen findet zdfmediathek spur verpassen lasst abo film annkathrin weis jan philipp scholz kamera steph ketelhut jasper engel martin langner schnitt christian gruber ton lorenz brehm johannes rudolph björn schubert martin kleinmichel tonmischung günter haas marco breidenbach producer jessica szczakiel grafik finally studio produktionsleitung katharina meirich produktion zdf henrike adam petra pecher produktion nordend film lennart reip thorsten eppert redaktion zdf nina behlendorf malte borowiack leitung sendung markus wenniges produktion nordend film gmbh spur erste doku format deutschen fernsehen forensischen aufarbeitung gesellschaftspolitischen themen ereignissen widmet recherche team rekonstruiert geschichten missstände hosts ort recherchieren verfügbaren mitteln investigativ datengetrieben digital",
          "turkuvaz medya nın futbolseverler ile buluşturduğu ziraat türkiye kupası nda yarı final heyecanı tümosan konyaspor galatasaray mücadelesi ile sürdü sarı kırmızılılar mücadeleyi kazanarak adını finale yazdıran ilk takım oldu dakika de victor osimhen de lucas torreira ile fileleri havalandıran cimbom ilk yarıyı önde kapattı kinci yarının dakikasında sallai ile farkı e çıkaran sarı kırmızılılara tümosan konyaspor da pedrinho cevap verdi dakika te fark yeniden ye düştü dakikada rolland sallai fileleri bir kez daha havalandırarak farkı yeniden e çıkardı de yusuf demir golü ile galatasaray öne geçti bu gol ile birlikte skor belirlendi youtube da spor canlı yayını zlemek çin spor da bir gün nasıl yaşanıyor",
          "beautxvlogs",
          "ganze folgen joyn temperaturen steigen eispreise höchste zeit herauszufinden perfekte eis zuhause macht klaas thematik trotz dringlichkeit hineinarbeiten konnte kommt percy hilfe zufall neuerdings spezialist gefrorenes facebook instagram twitter x tiktok klaas bisher vieles aufgefallen expertise allerdings kaum dabei show nimmt ziel genau ändern irgendwann ende vielleicht jahren klaas experte sendung anfang dienstags uhr prosieben joyn impressum",
          "wer steckt deutschen stimme itachi uchiha yugi muto gojo nico robin sung jin woo kaito kid ratenden müssen heute herausfinden anime charaktere grandiosen stimmen stecken stimmen meisten gedächtnis geblieben lieblings animes wer habt könnt erkennen vielen dank großartigen synchronschauspielerinnen sascha dreager simone brahmann marco eßer konrad bösherz rene dawn claude julien hagegge danke großes lob rate teams danergy ssega sira blessed noah funk content netzwerk ard zdf youtube funkofficial instagram funk tiktok funk website",
          "armes deutschland carola männer geht cyberghostvpn werbung armes deutschland rtl passiert carola stefan bedroht rettet danach nein nein wahr darum geht lohnt arbeiten deutschland sozialreportage armes deutschland geht frage sozialen brennpunkten dabei begleitet menschen armutsgrenze seite tun mindestlohn arbeiten seite diejenigen leben kosten staates genießen dabei carola gearbeitet carola nie richtig seit vielen jahren bezieht kölnerin sozialleistungen landete trennung angeblich gewalttätigen freundes straße findet irgendwie antrieb situation ändern willi willi ausbildung koch gärtner abgeschlossen arbeitet schon seit vielen jahren gabelstaplerfahrer meistens zeitarbeitsfirmen dennoch große probleme geregeltes leben führen neben schulden meistens wohnung zelt leben",
          "aktuell großflächiger stromausfall evtl sogar blackout spanien teilen portugals frankreichs erst infos los erste vermutung ursache video ausrüstung krisenfall findest amazonshop strom sparen kostemlosen wechselservice remind me checkliste krisenvorsorge kostenlosen download link surao survivalshop rabattcode fast chiemgau gehts jackery powerstations rabattcode viele jackeryprodukte chiemgau olight taschenlampen rabattcode outdoorchiemgau link ademax stromaggregate rabattcode chiemgau ________________________________________________________________________ kanal finanziell unterstützen paypal me vielen dank unterstützung ________________________________________________________________________ lieblingsausrüstung olight taschenlampen rabattcode outdoorchiemgau messer wolfgangs ambulo rabattcode wolfgangs outdoorchiemgau link wasserfilter elanwell isomatte klymit schlafsack winter snugpak elite schlafsack sommer gruezibag hängematte amazonas helikon tex supertarp dd tarp pro mc x rucksack bob tatonka yukon funkgerät retevis ra gaskocher rabattcode chiemgau _________________________________________________________________________ notvorrat convar energieriegel panzerkeks tage notpaket ___________________________________________________________________ kleidung lodenjacke winterjacke sommer regenjacke ________________________________________________________________________ film studioausrüstung findest kamera sony zv e kamera sony fdr ax kamera sony ax dji action drohne dji mini pro insta one x grad kamera ________________________________________________________________________ facebookseite instagram twitter homepage www outdoor chiemgau info merchandiseartikel t shirts caps tassen etc fotos pixabay affiliate links denen kanal unterstützt falle kaufes kleine provision erhalten mehrkosten vielen dank unterstützung",
          "spielen spitzenreiter trikots danke support findest instagram kanal private links instagram spidey holzi music by don t worry be potato",
          "thanks social media",
          "eigentlich wollten honig holen roh wild ungefiltert habt kliemannsland fynn kliemann brian jakubowski nie gesehen verstehen willst warum kliemannsland schau video viele unfassbare dinge gebaut kreativen sonderanfertigungen individuellem messebau erzielen dabei immer höchstqualität kundenprojekten umso wilder alltag sofort ende immer fertig kliemannsland tag tag immer verrückteren ort ort events feiern kannst einzigartige eventlocation ideen bauen lassen kannst einfach wochenende kostenlos spielen vorbeikommen kannst glauben wahnsinn hintergrund hält frisch bringt gegensatz hohen qualitätsansprüchen kundenprojekten genau richtigen mix nie kliemannsland komm vorbei samstag sonntag uhr geöffnet kostenlos möchtest event feiern dürfen bauen versprechen fynn macht probs filmcrew kamera leo schäfer schnitt andy heyde mb qgpkvlwyqdr",
          "megalodon remix streamen crhymetv abonnieren danke artists beteiligten start reihenfolge p mp freshly jaill vega sido juju caney eno dardan azad olexesh zined haze makko kwam e bonez lx ski aggu celo abdi nate kolja saliou frauenarzt ak ausserkontrolle nizi samra sa big toe kontra k curse laas crackaveli reeperbahn kareem eizi eiz finch silva achtvier kaisa natron veysel sil a jonesmann tom hengst ak otw massiv hakan abi bissu dumm produced by jugglerz levin mix master by lex barkey video by benny video gefallen gebt daumen hoch dafür teilt freunden schreibt meinung kommentare verpassen abonniert",
          "infos streamen michael patrick kelly echter rockstar fanta klassiker mfg gemacht gehört geschichtsbücher energie klasse gänsehaut pur einfach unfassbar gut kanal abonnieren habt mehr bock heißen content holt rtl premium max family sing song instagram sing song facebook sing song tiktok rtl app store rtl musik app store rtl google play rtl musik google play rtl amazon",
          "wurde minecraft helden eingeladen projekt viele weitere youtuber limitierung vorgenommen solange situation erzwingt darf niemanden hand besiegen heutigen video tatsächlich jemand bereits angetan weswegen pazifist lange durchhalten herauszufinden passiert schaut video unbedingt ende ganze minecraft helden mysticsmp craft attack youtuber insel dreamsmp art darstellung inspiriert parrot aka parrotx serie lifesteal smp unstable universe hauptkanal reallife kanal video socials twitter instagram tiktok discord tags einfach ignorieren lol minecraft helden minecraft helden mysticsmp mysticsmp toobad lukeucraft arikate einfachgustaf paluten bastighg wichtiger benx tordi gamingguides minecraft java minecraft bedrock icrimax minecraft insel youtuber insel hardcore einholzkopf thejocraft players spieler minecraft players recreate civilisation minecraft deutsch disclaimer ganze fiktiv handlungen keinerlei einfluss reale ereignisse musik epidemic sound cosmetics code platin hoffe gefällt video",
          "already know recreate video last year",
          "mini panzer gebaut treten echten panzer neue action cam insta gibt werbung spaß video bald real life guys ps tausend dank master milo absolut verrückten videodreh echten panzer schaut gerne mal milo vorbei pss freuen riesig jahr macher festival sehen könnt tickets kaufen größte sommerparty jahres dabei lohnt _________ shop _________ social media behind the scenes tiktok the real life guys bauteam johannes daniel max kamera schnitt julius josia sinan ___________ musik videos epidemic sound artlist motion array ___________ pressefotos anfragen anfrage e mail geschäftliche anfragen cooperations",
          "wahrscheinlich schon wohnungsübergabe dabei immer glatt läuft klar übergabe genau aussieht sketch spaß podcast offline ehrlich ᵂ ᴱ ᴿ ᴮ ᵁ ᴺ ᴳ varion klamotten merch ᵂ ᴱ ᴿ ᴮ ᵁ ᴺ ᴳ social media varion sketch content twitch varion live twitter instagram tiktok facebook flovarion shorts content cut luc musik outro song no copyright music retro s funky jazz hop instrumental copyright free music sundance remix",
          "cc 한국어 japanese spanish chinese english subs tablo x rm stop rain stream tablo rm animation studio shockunit animation produced producer qubic katrina minett producer lynn bartsch fansight co rights reserved",
          "ganze folgen joyn kriegen promis arsch geschoben schauen normalos röhre promi moderator klaas heufer umlauf zufällig ausgewählter normalo okay rauli legen all hemmungen ab test dran mythos promibonus facebook instagram twitter x tiktok klaas bisher vieles aufgefallen expertise allerdings kaum dabei show nimmt ziel genau ändern irgendwann ende vielleicht jahren klaas experte sendung anfang dienstags uhr prosieben joyn impressum",
          "olakala app mci fitness app letztes video",
          "katholische kirche neuen papst leo xiv bürgerlich robert francis prevost wahlgang wurde konklave gewählt wofür steht neue papst us amerikaner vergangenheit donald trump geäußert darum geht video kurze biografie neuen papstes findet hintergründe wahl namens video erwähnte artikel new york times hintergründe vorwürfen rund missbrauch katholischen kirche x account robert f prevost kanal gehört funk netzwerk ard zdf weitere infos youtube funk web app impressum kostenlos abonnieren findet mrwissen go instagram thumbnail designer david weber schnitt animationen christopher hesse design christopher hesse producer gregor bauernfeind",
          "instagram video gained k views beat",
          "copyright original video yt albaner elvs turkey c rapbattle disclaimer e",
          "abonne compte youtube découvrir toutes nouvelles vidéos livre nouveau clip intitulé unique featuring mia guissé attends retours réalisé reverse studios auteurs djelykaba bintou mia guissé bakhaw dioum compositeur akatche label keyzit production distributeur keyzit distribution publishing keyzit publishing blz publishing follow djelykaba bintou facebook instagram booking tel keyzit labels",
          "re upload wegen falscher botanischer namen entschuldigt bitte fehler www renature garten de gestalten naturgärten plane naturnahen garten mitteleuropaweite planung umsetzung raum ca km löchgau viele kennen meisten fürchten giersch gilt durchsetzungsstark schwer kontrollieren video zeige statt giersch kämpfen kannst garten integrieren gleichzeitig ausbreitung griff bekommen radikale ausrottung durchdachte nachhaltige lösung einklang natur erfährst warum giersch stark ausbreitet rolle ökosystem spielt gezielt begrenzen sogar sinnvoll nutzen kannst praktische tipps umsetzung naturgarten methode besonders geeignet garten vielfalt stabilität natürliche prozesse setzen schau rein erfahre giersch leben kannst statt kämpfen mehr projekte inspiration instagram sichere bezugsquellen heimische pflanzen saatgut infos naturgarten infos heimische pflanzen",
          "aktuellste folge schon joyn schauen km fahrrad marokko bikepacking abenteuer folge live kanal onlineshop instagram findest komplette ausrüstung bekommst rabatt yfood code fritz bekommst rabatt revolution race code fritz bekommst rabatt online angelschein code fritz kannst tage kanutour eigene faust youtube mitglied unterstützen möchtest",
          "provided to youtube by universal music group geboren leben kontra k ness geboren leben letzte wölfe released on mixing engineer producer beatzarre djorkaeff mastering engineer yunus kingsize cimen vocalist kontra k vocalist ness vocal engineer gabriel geber composer lyricist maximilian diehn composer lyricist graf composer vincent stein composer konstantin scherer composer thilo brandt auto generated by youtube",
          "samra feat kolja goldstein roll berlin kareem album box sichern sichere tickets samra live tour produced by chris jarbee produced by lukas piano sample by joezee magestick mastering by sascha busy bühren grafikdesign single cover by designnow video bysergen isici janusz regie kamera edit sergen isici samra folgen instagram tik tok kontakt info",
          "playboys amg erscheint limited fanbox single buscape out now produced by lolo sfx by tom erdinger mix lolo lolobeatz master lex barkey lexbarkey video kmn gang kontakt allgemeine fragen mgmt presse mgmt management two sides folgt instagram azet bobby van damme albi",
          "aktuellen sendung quer geht elektroschrott abschiebung brandenburg selbstverständlich kanzlerwahl mehr seht immer radfahrer klage hört immer öfter verkehrsteilnehmern gerade zahlreichen rennradler gibt vorwürfe angeblich heizen manchmal extra gesperrten tour de france strecke ignorieren dabei rote ampeln gefährden fußgänger radfahrer außerhalb münchens perlacher forst oberhaching gemeinde einst ausbau radwegs eingesetzt attraktivität förmlich überrollt geister rief radeln mehr quer ard mediathek quer beim br instagram tiktok facebook twitter",
          "bekannte gangster rapper xatar bürgerlich giware hajabi tot jährige starb nacht donnerstag freitag berlin deutsche medien übereinstimmend berichten zahlreiche musiker szene etwa farid bang haftbefehl drückten social media beileid news neuste trends infos youtube lieblingsstars influencer tiktoker youtuber mehr verpassen schaut vorbei abonniert kanal itsin tv informieren täglich trends stars style kino tv wetter life astro welt sport geld einfach webseite anklicken mehr it s themen gibt tiktok instagram pinterest facebook x ehem twitter impressum",
          "beste liga welt dino hamburger sv verein lange ununterbrochen vertreten hanseaten schon seit gefühlten ewigkeit jahre feststecken chance wahrscheinlich groß nie zuvor endlich aufstieg packen grund genug aktuelle lage hsv blicken seit merlin polzin traineramt übernommen geht stetig bergauf ballbesitz fußball entwickelt variabler walter ball führungsqualität scheint deutlich besser baumgart immerhin blühen spieler hoch niederlage eintracht braunschweig gewichten schwebt nächste krise köpfen hsv geht darum mentalität zeigen intro trainerwechsel polzin besser macht taktik veränderung neuen prinzipien teamgeist kaderbreite schlüssel aufstieg hsv aufstieg realistisch social kanäle wichtig trikots videos getragen spiegeln sympathien wider dient lediglich aktuelle thema untermalen",
          "gönrgy checkt gönrgy insta ab werbung affiliate links shop a livestreams pc a b partner noblechairs a b sämtliche a gekennzeichneten links stellen werbung dar sämtliche b gekennzeichneten links hängen partnerprogrammen zusammen dienen potentiellen käufer orientierung verweisen explizit bestimmte produkte sofern links genutzt falle kaufentscheidung provision ausgeschüttet",
          "apprendre l anglais facilement avec mes vidéos learn english easily videos",
          "bundesamt verfassungsschutz stuft alternative deutschland afd gesichert rechtsextremistisch wurde heute bekannt sehen hintergründe bedeutet konkret partei darum geht video video erwähnte pressemitteilung bundesamts verfassungsschutz pressemitteilung afd reaktion darauf auftrag arbeitsweise bundesamts verfassungsschutz zusammenfassung kritik verfassungsschutz untersuchung cdu nahen konrad adenauer stiftung findet video erwähnte gutachten einstufung afd verdachtsfall verfügung gestellt netzpolitik org urteil klage afd einstufung verdachtsfall hintergründe parteiverbotsverfahren kanal gehört funk netzwerk ard zdf weitere infos youtube funk web app impressum kostenlos abonnieren findet mrwissen go instagram thumbnail designer david weber schnitt animationen mirko drotschmann design christopher hesse",
          "cette jeune fille ans a victime deepfake choqués vu vidéo trouvez ça grave toujours problèmes comme ça jeunes filles âge effet a cette vidéo a très viral tiktok cause sujet tristesse dégage suite homme a décidé prendre photo faire quelque chose compromettant grave cette vidéo but préventive là sensibiliser dangers internet faites attention lorsque exposer proches surtout enfants gens malveillants peuvent utiliser faire choses très très grave malsaines avis",
          "scherbenhaus jetzt vorbestellen bengel hier streamen gzuz abonnieren gzuz folgen bengel produced waterboutus mary cratez waterboutus mary cratez mix master lex barkey kamera edit grading pascal kerouche cover und grafiken bobby analog",
          "ende ära trikots danke support findest instagram kanal private links instagram spidey holzi music by don t worry be potato",
          "youtube feiert geburtstag april ging erste video online kanal ehrenpflaume jahr schon jahre alt erste video tag monte kam september grund genug jahre später mal marcel zuhause vorbeizuschauen darüber reden zeit verändert gibt immer spaß menge ernsthafte gespräche freue kommentare lass gerne like video gefallen abonniere kanal eh schon längst getan hast cooles gewinnspiel gibt s gibts mehr infos ende videos instagram fette props ehrenkammeramänner julian bogner julian pfeil super bilder ganz speziell mal julian b mega schnitt lasst fall abo beiden julian bogner instagram julian pfeil",
          "ganze folgen joyn leichter bahncard bekommen mietvertrag steht fest lässt schnellzug genauso gut leben überteuerten zimmer wohnung nina chuba macht test erdreistet kompletten heimeligen alltag ice auszubreiten inklusive wäsche aufhängen zwiebeln braten fernsehabend facebook instagram twitter x tiktok klaas bisher vieles aufgefallen expertise allerdings kaum dabei show nimmt ziel genau ändern irgendwann ende vielleicht jahren klaas experte sendung anfang dienstags uhr prosieben joyn impressum",
          "manchmal braucht leben einfach pause manchmal braucht mut zurückzukommen falls jemand umfeld unterstützung brauchst telefonseelsorge de kostenfrei anonym weitere informationen telefonseelsorge de danke seid instagram jessi instagram johannes",
          "studio choom original katseye gnarly 스튜디오 춤 오리지널 캣츠아이 날리 감다살 느좋 퍼포를 한 단어로 설명하면 gnarly 캣츠아이가 스춤 제대로 찢었다 ㄷㄷ stream various performance video subscribe youtube facebook instagram naver tv",
          "zuschauern min zeit gegeben minecraft bauen ende kaufe hättet zeit gebaut anzeige idealo runterladen beim shopping besten preis finden sparen idealo idealo days extra rabatten marken livestream eigenen server mietenl social media twitch instagram community discord cutter motion design equipment gesamtes setup",
          "werbung holt doomsday last survivors sichert gewinne wert tritt allianzen werbung affiliate links insta insta x insta acepro instagram twitch youtube zweitkanal tiktok merch bmw motorrad equipment lederkombi rückenprotektor protektorenweste stiefel gopro akkus halterung mikrofon adapter speicherkarten sena headwave iphone videobearbeitung fotobearbeitung i fotobearbeitung ii werbung links gekennzeichnet affiliate links kommt link einkauf zustande provision beteiligt entstehen dabei selbstverständlich weiteren kosten eigentlichen einkaufspreis danke unterstützung angaben gewährleistung änderungen ausgeschlossen",
          "grünewürfelflow jetzt streamen instagram directed dop additional footage produced edited vfx thank beat mix master",
          "quelle flizzy wash flizzy back kommt instagram broadcast kanal fler news gewinnspiele uvm folgt überall bevor ausraste youtube twitch streamen abonniert verpasst stream pc kanalmitglied exklusive vorteile erhalten twitch instagram facebook discord spotify playlist twitter tiktok whatsapp fler verabschiedet xatar kunst straße haltung waslos rooz",
          "click worship worship gather prepare facebook twitter instagram tiktok video animation produced noruwei digital creative director cgi artist elia pellegrini chief creative producer nicola morino rca creative niki roberton leo araujo shoshana reist",
          "merch ab erhältlich staffel startet prank extraklasse mo douzi max komplett hops genommen vorwand content großen mma event drehen landet mo plötzlich mini flugzeug flugangst überwinden schaffen zwei wochen montags uhr gibt s frische folgen abonniert aktiviert glocke verpasst lasst kommentar algo independent moves produktion starring max coga mo douzi mitwirkende prank pilot max borchert lockvögel mery kurupinar noa marie produktion showrunner erhan dogan redaktion konzeption produktionsleitung tristan richter kameraleitung marcel birkel kamera bilal falkou antonio bila kenzo schwert marcel birkel schnitt animation bilal falkou ton sounddesign berkay karaca vielen dank motorflugschule egelsbach gmbh kooperationsanfragen erhan abonnieren folgt max mo tiktok max mo folgt max coga madmaxcoga folgt mo douzi modouzi",
          "habemus papam katholische kirche neuen papst us amerikaner robert francis prevost neuer papst leo xiv nachfolger ostermontag verstorbenen papst franziskus späten donnerstagnachtmittag lang ersehnte moment weißer rauch sixtinischen kapelle vierte wahlgang entscheidende gibt neuen papst kardinäle heilige geist wahl getroffen",
          "neue single hhhk linesky kolja goldstein hhhk linesky plattformen streamen kouwe ouwe album box exklusiv vorbestellen kolja goldstein instagram kolja goldstein tiktok hhhk linesky produced by chryziz sott directed by moonstarmedia edit moonstarmedia",
          "letztens kam gedanke arbeitende bevölkerung zahlen rentenversicherungsbeiträge ältere generation deutschland fließt mehr unserer produktivität rentner wochenende beschäftigt einfache website erstellt sehen könnt gehalts ältere generation geht könnt sogar urkunde ausdrucken d folgendes oft übersehen krankenkasse funktioniert deutschland ebenfalls umlageverfahren bereits heute fließen ausgaben menschen pflegeversicherung großer teil steuern bundeshaushalt ca zuschuss rentenversicherung verwendet steuern pensionen finanziert beliefen ausgaben staates pensionen hinterbliebenenversorgung beihilfen rund milliarden euro gez beitrags gehen betriebsrenten drauf weiß fehlt z b kapitalerträge umsatzsteuer vereinfacht z b steuerklassen ja bezieht arbeitgeberanteil trotzdem sensibilisieren system schon grenzwertig jahr kritischer interessante arbeitende bevölkerung scheint gar ändern letzten bundestagswahl linke jungen wählern ersten platz geholt linke renten erhöhen mindestrente einführen heutigen durchschnitt liegt renteneintrittsalter senken tolle ausgangslage hänge erst mal urkunde wand",
          "gab nie handlaser temu fake hdb schweiß shop rund ums thema schweißen mehr wig schweißgerät mag schweißgerät instagram xxproduktplazierungxx",
          "jahren youtube kanal ehrenpflaume gestartet zweite video damals online ging tag jean pierre krämer inzwischen millionen menschen geschaut zeit dortmunder lieblingsmenschen mal besuchen sagen menge leben privat beruflich passiert absoluten ehrengast gehört jp ganze reihe ganz spannende sachen gezeigt erzählt absolute news erfahrt spaß beim gucken schreibt meinung fragen anregungen gerne kommentare lasst fettes like video gefallen fette props ehrenkammeramänner julian bogner julian pfeil super bilder ganz speziell mal julian b mega schnitt lasst fall abo beiden julian bogner instagram julian pfeil",
          "mai ziehen mehr teilnehmende traditionellen revolutionären mai neukölln demo linke linksextremistische gruppen aufgerufen rbb informationen protestierenden jedoch heterogen hinweis grund neuer angaben anzahl teilnehmer innen aktualisiert video bericht rbb abendschau ganze sendung läuft abend uhr rbb fernsehen nachschauen könnt www rbb online de abendschau __________________ moderation volker wieprecht reporter arndt breitfeld bericht christian titze uwe wichert",
          "checkt partner videos ab sportwetten kanzlei anzeige kontakt kooperationsanfragen geschäftliche anfragen management ___________________________________________________________________________________________ willkommen folge zweiten find the pro staffel matchday freunde heute präsentieren neue folge find the pro format geht darum profi fußball spieler anhand geschichten ballfertigkeiten identifizieren teilnehmern verbirgt echter profi liegt jury enttarnen herausforderer treten verschiedenen spannenden challenges gegeneinander könnt profi erkennen teilt vermutungen kommentaren sei dabei nächsten folge folge link broadcast channel instagram abonniere kanal aktiviere glocke weiteren videos verpassen folge instagram youtube tiktok snapchat jury ausgabe lazar samardzic sead kolasinac berat djimsiti charles de ketelaere dank geht partner jako",
          "top fehler vermögen schrumpfen lassen kostenloses depot eröffnen finanzfluss copilot app vermögen ℹ weitere infos video heutige video thematisiert wohlstandskiller langfristig persönliche vermögen schmälern erklären faktoren negativ vermögensaufbau auswirkt fallstricke umgehen kannst sparrechner kreditrechner quellenverzeichnis empfehlungen depot kreditkarte girokonto bonus kryptobörse bonus tagesgeld zinsvergleich besten zinsangebote tagesgeldvergleich festgeldvergleich nützliche tools finanzen haushaltsbuch excel kommer weltportfolio excel schritt schritt anleitung investieren podcast instagram mehr neue finanzfluss buch intro falsch kalkulierter immobilienkauf rente kümmern falsche investmentprodukte konsumschulden scheidung hierbei handelt werbe affiliate link link klickst kaufst abschließt erhalten je anbieter provision entstehen dadurch mehrkosten unterstützt projekt danken support",
          "schmerz jetzt streamen catch tour tickets de catch tour tickets ch kanal jetzt abonnieren dardan folgen produktion recording mix menju video alldifferent www alldifferent de director rick yng producer allan anders production team karim ebrahim ismail önder sabah anders daniel baltamatis vielen dank la gondola due iron box gym",
          "offizielle video luana amo kommenden album ssj ssj bundle amo vorbestellen ssj amo pre saven luana überall streamen amo streamen amo folgen produziert lord jko ptl dj samir leero rose video by lucca mille www instagram com lucca mille executive producer producer production assistant concept dop edit grading vfx cover by calentura mix svrn beats master lex barkey abonniert kanal idéal folgen deutschrap idéal folgen vdsidc folgen idéal studios folgen idéal frankfurt main",
          "cho streamen tour tickets lacazette directed video producer drohnenshots beat mix master anfragen lac",
          "stream music produced bigbang lyrics butrint imeri tayna video sekuence executive producer denis avdiu mgmt avd digital media l l c distributed protected avd digital butrint imeri instagram mgmt",
          "mertdede kanal abonnieren mertabizockt mertabitalks mertabireacts mertabiclips cutter discord instagram twitch tiktok spotify impressum mertabi lyaison gmbh c o mertabimula freihalderstr b jettingen scheppach",
          "forever album forever world release show ausstellung münchen jetzt tickets sichern raf camora kanal abonnieren _______________________________________________ raf camora folgen raf camora folgen streamen auf instagram amazon music spotify apple music",
          "beste kalorienfreie softdrink alternative holy code seltix rabatt erste bestellung code seltix gibt nochmal rabatt italien verschenkt schönsten dörfer landes ganze häuser warum abgelegenes dorf gereist herauszufinden wirklich aktion steckt kanal modemarke instagram geschäftliche anfragen business inquiries seltix gekennzeichnet werbung",
          "werbung sichert buchung jahresplans link bonusmonate danke partner nordvpn werbung affiliate links insta insta x insta acepro instagram twitch youtube zweitkanal tiktok merch bmw motorrad equipment lederkombi rückenprotektor protektorenweste stiefel gopro akkus halterung mikrofon adapter speicherkarten sena headwave iphone videobearbeitung fotobearbeitung i fotobearbeitung ii werbung links gekennzeichnet affiliate links kommt link einkauf zustande provision beteiligt entstehen dabei selbstverständlich weiteren kosten eigentlichen einkaufspreis danke unterstützung angaben gewährleistung änderungen ausgeschlossen",
          "dle 아이들 girlfriend official music video composed 소연 pop time daily likey lyrics 소연 arranged pop time daily likey 소연 lyrics 기억나 너가 반쯤 미쳤던 cranky boy 또 작년에 만난 몸만 좋던 mama boy 그 새낀 말해 뭐해 ha night seconds cry baby 어차피 뭐 그딴 그 거지 같은 love yeah hurry hurry hurry 잊고 hang club 말했잖아 시간만 아깝다고 정성을 담아 꼭 복수해 주자 woo woo 불타는 friday night woo woo cheers single life 우린 끝나지 않아 평생 함께하자 그만 좀 질질 짜 girl got better better girlfriend really really like good 애인 let go chat shit ex girlfriend better boyfriend girlfriend better boyfriend girlfriend better boyfriend give fuck love cause 아이들 uh give fuck love cause 아이들 uh give fuck love cause 아이들 uh give fuck love cause 아이들 uh 다시 만나잔 연락은 양심도 없지 그 새낀 참 뻔뻔해 설마 만날 건 아니지 갈 거면 너 나랑 절교해 답장은 쓰레긴 우리의 안중 아주 lovely하게 cussing deserves lucky look baby 이것 좀 봐봐 주옥같이 예쁘잖아 야 바보야 천 배는 아까워 정말 어디든 pop flash let upload instagram 맘껏 웃어봐 자 복수해 주자 woo woo 불타는 friday night woo woo cheers single life 우린 끝나지 않아 평생 함께하자 그만 좀 질질 짜 girl got better better girlfriend really really like good 애인 let go chat shit ex girlfriend better boyfriend girlfriend better boyfriend girlfriend better boyfriend love give fuck love love cause 아이들 uh love give fuck love endless cause 아이들 uh promise give fuck love 영원히 cause 아이들 uh give fuck love girlfriends cause 아이들 uh dle official youtube dle official x dle official facebook dle official instagram dle official weibo dle official weverse rights reserved cube entertainment inc",
          "spaß video freunde original video sei live dabei kommt pc partner werbung twitter instagram merch cutter",
          "zusammenarbeit professor andreas müller universität kiel ostermontag teilt vatikan papst franziskus oberhaupt katholischen kirche verstorben franziskus erste papst langen amtstradition europa stammt papsttum blickt fast jährige geschichte zurück frühzeit christentums etablieren päpste west mitteleuropa oberhaupt kirche weltliche macht wächst bedeutung christentums wort entscheidend darum geht könige kaiser legitimieren wer steht höher papst kaiser streitfrage jahrhunderte konfliktreich ausgefochten kirche allgemeinen wandelt amt papstes laufe zeit spätestens aufklärung beginnt politische einfluss päpste langsam schwinden wort jedoch heute millionen menschen gewicht päpste geschichte besonders geprägt papst heutigen kalender tun umbrüche amt laufe jahrhunderte erlebt erfahrt video kapitel darum geht s anfänge papsttums papst kaiser gang canossa zwei päpste abendländische schisma papsttum frühen neuzeit machtverlust papsttum moderne literatur bernward schmidt kirchengeschichte mittelalters martin greschat hg papsttum band i ii volker reinhardt pontifex stefan weinfurter volker leppin christoph strohm hubert wolf alfried wieczorek hg päpste schau unbedingt rein terra x history instagram terra x zdf streamen terra x history youtube produktion objektiv media gmbh moderation mirko drotschmann autor matthias schöberl producer andreas sommer produktionsassistenz annika späth lena giesinger redaktion om verena glanos motion design christian wischnewski schnitt christian wischnewski thumbnail david weber zdf kai jostmeier kim krämer",
          "melde masterschool beginne karriere schon heute werbung quellen weiterführende literatur vielen dank the david suzuki foundation wusstest blutgefäße kilometer lang genug zweimal erde wickeln lieblings fun facts buch app video verwenden warte kilometer schon ansage woher stammt zahl wissen stimmt kanäle englisch spanisch französisch portugiesisch arabisch hindi japanisch koreanisch könnt unterstützen beste unterstützen shop kaufen patreon supporten shop patreon mehr kurzgesagt folgt tiktok reddit instagram twitter facebook diskord rundschreiben musik kurzgesagt soundtracks epic mountain spotify soundcloud bandcamp youtube facebook soundtrack video soundcloud bandcamp",
          "cinema vlog",
          "tut begegnung eigentlich problem hund greift hunde besitzerin sagt telefoniert einfach verantwortungslos sagen hund trägt ja maulkorb hund reagiert weiß warum trägt wegen sowas bekommt hund immer immer mehr angst fremden hunden",
          "supermarkt beim shoppen wartet tücke knallerfrau martina hill gibt s best of besten momenten beim einkaufen knallerfrauen abonnieren mehr martina hill knallerfrauen mama knallerfrauen büro knallerfrauen international videos findest ganze folge online sehen martina hill zurück unglaublich wandelbar vollem körpereinsatz schlüpft martina hill knallerfrauen verschiedensten frauenrollen mal sexy vamp mal einfallsreiche mutter mal vermeintlich taffe businessfrau frauen provokant absurd einfach mal völlig verrückt alltag meistern zumindest versuchen immer überraschend dingen brüllen komisch martina hill facebook offizielle facebook seite knallerfrauen mehr comedy youtube joko klaas dreisten drei kesslers knigge switch reloaded quatsch comedy club rabenmütter impressum",
          "werbung betr burger schaut gerne saschas veganem burger store betr burgers vorbei erwarten richtig leckere vegane burger cremige oatshakes viele weitere specials simon utrecht straße hamburg www betr de vielen dank franziska herrlich uncharmant folgt kanäle weitere kanäle produktionsteam regie produktion sascha dos santos leon buchholz kamera ton leon buchholz carsten wiechowski grischa strege ben ermert elias peters edit hendrik messner management florian asché",
          "schwer bewaffnete polizisten gepanzerte fahrzeuge absperrungen los hamburg witz verbrennen gerade milliarden euro hamburg schön warm drogen zutun erfährst hamburg freitag rund tonnen kokain höchsten sicherheitsvorkehrungen vernichtet worden straßenverkaufswert gigantische milliarden euro transport müllverbrennungsanlage hamburg billbrook glich hochsicherheits einsatz drei tonner bundespolizei brachten drogen verbrennungsort eskortiert rund schwer bewaffneten spezialkräften sogar panzerwagen survivor kam einsatz rund anlage zudem dutzende zollbeamte maschinenpistolen postiert angst überfall kriminelle banden groß kokain stammt mehreren spektakulären drogenfunden vergangenen monate hamburger hafen immer große mengen rauschgifts entdeckt meist containern südamerika wurden sommer einzigen container zehn tonnen kokain gefunden zweitgrößte drogenfund europa jahr zuvor entdeckten ermittler drei tonnen versteckt alten feuerwehrauto frachter brasilien laufenden ermittlungsverfahren wurden beschlagnahmten drogen streng gesicherten lagerstätten norddeutschland aufbewahrt abschluss verfahren wurden endgültig vernichtet kokain völlig nutzlos verglüht verbrennung freigesetzte energie fernwärmegewinnung genutzt tausende hamburger haushalte wärme versorgt wohliges gefühl ganz gefährlichen rausch",
          "vivians tochter kommt schwerbehindert welt lange hofft vivian richtigen therapien helfen klar kind nie eigenständiges leben führen tru doku abonnieren nachdem vivian sohn bekommt kurz darauf kindsvater trennt baut gutes eigenes leben junge alleinerziehende mutter zweites mal ungeplant schwanger passt zunächst gar plan entscheidet dennoch abtreibung ende schwangerschaft treten komplikationen vivian landet notaufnahme ärzt innen krankenhaus zeitpunkt sicher vivians ungeborene tochter bauch optimal versorgt trotz auffälliger werte kommt tochter diagnose welt vivian beginnt zeit bangens tochter schwerstbehindert vivian lange wahrhaben besucht unzählige therapien hoffnung bisherigen entwicklungsverzögerungen aufzuholen tages macht physiotherapeutin deutlich tochter niemals normales leben führen vivian bricht welt zusammen sieht gezwungen realität auseinanderzusetzen tochter schwerbehindert leben lang hilfe angewiesen video gefallen lass like weitere tru dokus schwester nie tanzen ja paar raven trotz rollstuhl mann pflegt willkommen tru doku tru doku ergänzt woche vielfalt zdf formate dokus schicksalsgeschichten junger menschen dienstag gibt kanal neue dokus ganz unterschiedliche menschen perspektive erzählen wer tun bewegt host sprecher heißt filmen protagonistinnen protagonisten wort kommen eigene geschichte erzählen _______________ film paula rasch mira brünner kamera pablo gollmer hidalgo ton aloys kerrec schnitt kristin scherlitz hofmann redaktion zdf reportage lisa borgemeister leo spors drive beta redaktionsleitung nico reimer produktion franziska panne florian fimpel social media moritz steinacker anna ceramicola mediaproducing isabel rudek executive producer hannes jakobsen johannes middelbeck catherine harwardt _______________ mehr tru dienstag kanal zdfmediathek instagram tiktok habt themenvorschläge schreibt tru_doku wollt verpassen abo instagram herz kritiker hater kategorie doku reportage",
          "ganze folge joyn falls kurzem hotel leipzip übernachtet spät laut zwei durchschnittliche männerstimmen zehn mal gurkenfürst flur habt rufen hören wisst warum empfohlen ab jahren joko klaas prosieben mittwochs uhr prosieben joko klaas facebook folge twitter instagram gegner groß rot mächtiger je joko klaas fordern gemeinsam ganzen sender heraus dabei gilt gesamte prosieben universum bestehen kräftemessen eingeladen gegner spiele entscheidet alleine prosieben triumphieren joko klaas überlässt sender minütigen live sendeplatz freien gestaltung siegt arbeitgeber müssen bedingungslos dienste stellen _______________________ impressum",
          "clips edit",
          "schnelle bestes rumpsteak ever rezept henssler schnell einfach kochen mehr schnelle gerichte rezepte video anleitungen findet braucht neue stielkasserolle schaut küchenutensilien seid hobby profiköche leckere zutaten feinkost gibt s braucht neue inspirationen beim kochen schnelle tolle rezepte braucht unterstützung beim kochen hilfreiche ratgeber findet geht s rezept einkaufsliste personen el cashewkerne kleines stück ingwer ½ rote peperoni frühlingszwiebel el hensslers würzöl sesam el gerösteter sesam hensslers würzmix hensslers gewürzsalz el butter zitrone el hensslers sojasauce rumpsteak newsletter abonnieren rabatt sichern hensslers schnelle leckere rezepte hensslers produktwelt instagram tiktok facebook schnelle pasta rezepte pasta pasta schnellsten rezepten henssler schnelle fleischgerichte schnelle rezepte besten fleisch zubereitet henssler schnelle salat rezepte leckere salat gerichte henssler schnell einfach gemacht schnelle vegetarische rezepte vegetarische gerichte henssler praktischen tipps",
          "check erobert deutsche internet egal versicherungen pauschalreisen handyvertrag viele deutsche führt mehr plattform vorbei sicher wenigsten wissen unternehmen überrollt gerade branche gehört zwei stillen ultra kompetitiven milliardären kapitel check deutsche internet kapert stillen milliardäre irres marketing maximale marktmacht speedboot strategie fazit findet quellen autoren jakob arnold jakob schreiber christopher nagorr host jakob schreiber redaktion jakob schreiber redaktion funk lukas meya schnitt yannick grün grafik andreas brand kerri san luis faktencheck johanna gans _________________________________________ kostet welt nimmt zuschauer faszinierende welt wirtschaft warum mittlerweile abo vertickt wurde nvidia wertvollsten unternehmen welt warum explodieren hafermilchpreise fragen stecken interessante geschäftsmodelle spannende unternehmensgeschichten wkdw erzählt kostet welt produktion frankfurter allgemeinen zeitung funk funk gemeinschaftsangebot arbeitsgemeinschaft rundfunkanstalten bundesrepublik deutschland ard zweiten deutschen fernsehens zdf ______________________________________________ funk datenschutzrechtlichen bestimmungen plattform sowie erhebung analyse nutzung userdaten einfluss rahmen unserer möglichkeiten gehen größten sensibilität daten weitere informationen thema datenschutz findest unserer website yeah gehören schaut mal rein youtube instagram tiktok website netiquette",
          "warum phaeton v tdi gekostet erfahrt video spare autodoc code maeximiliano app werbung montag uhr findet neues video kanal artem letzten video abonniert zweitkanal update videos mehr content findet instagram maeximiliano s klasse gestartet probiere selber reparieren werkstätten kopfschüttelnd abgelehnt wurde egal seltene bentleys unfallschäden richten beim audi rs v biturbo motor ausbauen beim r getriebeschaden selber reparieren abonniert kanal begleitet projekten",
          "endlich hause ersten liga langersehnten aufstiegssong spotify streamen merchandise instagram facebook produktion rabbicorn films gmbh post produktion slaughterhouse gmbh konzep regie jan behrens friends dop pixelsniffer aka pasel head of postproduction philipp breidthardt ad jérome dupius ac phil petry ac dennis gäthgens oberbeleuchter david voigt art direktorin susan egashira styling melina uhlich editorin kathrin de silva vfx artistin verena huber colorist robin schmude sound design till berg ton studio recording mix mastering skill music i boogiepark studios alex henke denny meissner leon christen c www wendt produkt de",
          "instagram strava day one twitch tiktok esn code arda performall elis und ardas training und ernährungspläne neuer podcast von arda ein abo da lassen wäre süper music licensed lickd biggest mainstream stock music platform content creators remind nickelback license id omb l want use music famous artists try lickd get track credits unlimited stock music",
          "weißer rauch schornstein sixtinischen kapelle aufgestiegen kardinäle neuen papst gewählt habemus papam kardinal robert francis prevost usa nächste papst gibt namen leo xiv weitere informationen liveblog aktuellen informationen weitere nachrichten tagesschau livestream sendungen livestreams dokumentation reportagen ard mediathek",
          "listen vone follow dhurata dora instagram facebook tiktok youtube spotify produced jugglerz levin lyrics melody dhurata dora lira styling dania dodona avdiu hair kaci make arber bytyqi executive producer ilir balija video entermedia sony music dhurata dora rights reserved",
          "gamerbrother youtube twitch livestreams instagram twitter tik tok broski kanal gamerbrother clips at broski sport show marke tno links hängen partnerprogrammen zusammen dienen potentiellen käufer orientierung verweisen explizit bestimmte produkte sofern links genutzt falle kaufentscheidung provision ausgeschüttet playlisten schalke realtalks team bewertungen fifa reaktionen impressum gamerbrother inhaltlich verantwortlich abs mstv c o fairplay management gmbh schauenburgerstr kiel mail gamerbrother telefon ust id de",
          "sei eigener anwalt pepperpapers de hol musterwiderspruch elektronische patientenakte kapitelmarker intro digitaler rentenausweis zwang epa tun haken sache mehrere bundesregierung spare geld pepperpapers privat abo hol mehr benefits pro abo hast ärger finanzamt buche direkt erste hilfe beratung mach schlau hol infos rund geld pepperpapers newsblog taxpro newsblog sei eigener anwalt pepperpapers de hol musterwiderspruch elektronische patientenakte quellen video koalitionsvertrag pdf download frankfurter rundschau april millionen davon betroffen merz regierung plant änderung beim rentenausweis statistisches bundesamt pressemitteilung nr n april deutsche rentenversicherung rentenausweis ________________________________________ sei eigener anwalt pepperpapers de hol rechtsdokument ________________________________________ geht geld melde kostenlos pepperpapers newsletter vorteile blick erfahre erstes neuen gesetzen passenden rechtsdokumenten erhalte exklusive insider tipps rechtsexperten kostenfrei unverbindlich erhältlich gang anwalt _______________________________________ taxpro gmbh steuerrechts experten frankfurt main profis steuerangelegenheiten betriebsprüfung steuerfahndung steuerstrafverfahren gerichtsprozessen steuersachen _______________________________________ hotline e mail team ________________________________________ hören taxpro podcasts rein überall podcasts gibt apple podcasts spotify soundcloud rtl amazon music ________________________________________ werfen blick schulter lernen team kennen",
          "fliegen wien peinliche influencer sachen spaß __ amazon lieblingsprodukte podcast joey parfummarke stalk hauptkanal instagram tiktok __ geschäftliche emailadresse beautx affiliate link erhalte umsatzbeteiligung verkäufen link generiert wurden __ habt tollen tag macht schönsten julia",
          "chrissi gerade urlaub thailand dachte endlich antrag mache mitglied klamotten instagram tiktok twitch family echtso gaming tiptaptube chrissi ash marie",
          "mittlerweile wurde erste offizielle untersuchungsbericht absturz cargo vilnius veröffentlicht sprechen ersten erkenntnisse kannst aeronewsgermany unterstützen creator code kanalmitglied patreon vielen dank großartigen support instagram kamera licht links videobeschreibung afilliate links bedeutet links kauft bekomme kleine provision preis verändert danke unterstützung inhalt intro sabotage brandsatz mangelhafte arbeit cockpit anflug vereisungsbedingungen kleiner fehler großer wirkung schnell hoch anflug strömungsabriss bodennähe cockpit control confusion danke fürs zuschauen bildnachweise video bild verwendet meinung richtig entsprechenden quellenangabe videobeschreibung versehen melde gerne e mail adresse lösung gekümmert impressum kanalinfo",
          "bundles directed outtathisworld produced sikk samon mix master volker idr gebhardt video dop edit grading lucca mille produktionsassistenz harryhollywood alle social media links genetikk fabian kowallik coach aaron otw channel abonnieren outta world records",
          "si antes te hubiera conocido listen full version youtube channel",
          "hol willkommensbonus kostenloses konto revolut holst werbung schau zuerst stunden blind date abonniere verpassen willst e freund video dabei schreib instagram infos streamer reagieren livestream jederzeit erlaubt upload reaktionen youtube erlaubt geh instagram mehr content mikevallas neue videos tiktok mikevallas kommentiere wer beim nächsten minecraft blind date dabei like abo lassen falls spaß hattest singles blind date leon katharina notifications anmachen gern sachen anmachst business email mike",
          "spaß neuen video podcast youtube sei live dabei kommt pc partner werbung merch twitter instagram buch podcast papaplatte vlog playlist cutter",
          "anzeige code desy kannst finanzguru plus monate kostenlos nutzen gilt neukunden hochzeit immer mehr statussymbol angefangen verlobung beim junggesellenabschied verschuldung hochzeit flex außenwirkung likes wichtiger ja wort zusammenarbeit nele mohrbach quellen nieren bubble tea podcast live köln nieren bubble tea podcast spotify apple hoffe gefällt video ja freue abo like desy instagram tiktok",
          "rabatt code nahimsky prepmymeal beste fleisch schalengerichten halal rue drop out now werbung geschäftliche anfragen business instagram willst beim nächsten video mitwirken schreibe nachricht instagram per e mail ahmed unterstützt gönrgy vielen dank honest kebab location europapassage foodmeile ballindamm hamburg jury holle bernd kandidaten",
          "bessan ismail x fouad jned خطية official music video بيسان اسماعيل و فؤاد جنيد subscribe lyrics amjad jomaa composed produced fouad jned directed abed al wahab khatib assistant director hamoudi almlk digital media manager ghassan ayoub lyrics كلمات الاغنية بهواك ومافيي انساك ياضو عينيي وبدونك وحياة عيونك حتى الضحكة صعبانة عليي وسكابا يادموعي ع غيابو سكابا وغيابا طفا شموعي وتعبني غيابا ما ح احكي خطية انساي جوا روحي عتم وفيك ضو يت معك جرحي عديت كلمة حكيتا ونهيتا انت الاصل وكل ناسي لو ماتو كل حواسي كاسي كالعلقم مر وسنين أيامي بدونك كنت بسماكي كالطير الحر صادوني وحرموني عيونك وحسافة تكوني لغيري زفي دمع ياعيون تحت جناحك ياطيري لغيرك ماكون ما ح احكي خطية انساي جوا روحي عتم وفيك ضو يت معك جرحي عديت كلمة حكيتا ونهيتا انت الاصل وكل ناسي لو ماتو كل حواسي listen خطية digital platforms listen bessan ismail digital platforms connect bessan ismail facebook instagram tiktok snapchat threads twitter connect fouad jned tiktok instagram facebook digital distribution",
          "carola feiert geburtstag frisch lothar zusammen sachen ex freund stefan beim abholen kommt streit carola offen männergeschichten hochhaus spricht sammelt lothar pfand versucht trotzdem schönen tag bereiten bleibt wirklich große liebe sieht carolas zukunft job staffel armes deutschland stempeln abrackern zeigt echte leben rand gesellschaft bürgergeld obdachlosigkeit altersarmut reportage begleitet menschen täglich ums überleben kämpfen harter arbeit leben staatskosten stellt frage lohnt arbeit deutschland authentische schicksale soziale brennpunkte bewegende geschichten mitten leben zeit echte inhalte programmmarke rtlzwei dokus präsentiert rtlzwei gesellschaftlich relevante themen fragestellungen einzelfilme verbindet gewichtige gemeinsamkeit bildschirm kommen hochwertige journalistische inhalte jung packend erzählt widerspruch rtlzwei dokus webseite komplette folgen rtl",
          "like us pt music nation",
          "anzeige ladet nächste reise airlo runter benutzt code desy rabatt katy perry fliegt frauen weltall schreiben geschichte richtige feminismus female empowerment bewegung dystopische beginn weltraumtourismus marketingkampagne blue origin jeff bezos weltraum neuen spielplatz milliardäre warum ausgerechnet feminismus dafür benutzt zusammenarbeit tom siebold quellen könnt awards abstimmen nieren bubble tea podcast live köln nieren bubble tea podcast spotify apple hoffe gefällt video ja freue abo like desy instagram tiktok",
          "click worship behold new offerings worship gather facebook twitter instagram tiktok video animation produced noruwei digital creative director cgi artist elia pellegrini chief creative producer nicola morino rca creative niki roberton leo araujo shoshana reist",
          "katseye 캣츠아이 gnarly show musiccore mbc 방송 clips available imbc mbc imbc 무단 전재 재배포 및 이용 ai학습 포함 금지",
          "social media instagram quellen",
          "gespannt termine online buchbar link bio hört musik spotify speichert playlist spotify mrsmrsea folgt mehr musik content tiktok instagram youtube mrsmrsea danke support",
          "wer findet perfekte outfit heute drei kategorien teilnehmer perfekte outfit zusammenstellen anschließend jury präsentieren ganze findet natürlich zeitdruck alsterhaus hamburg statt jury kandidaten alsterhaus hamburg vielen dank zuschauen support mifcom system werbung",
          "findet informationen hetzner cloud neukunden sparen code auer music credits outro beats strange things bezahlte inhalte hetzner spot samples video auer advertisement policy auer sample policy auer patreon zugriff auer discord timestamps intro hetzner werbung problem geschmolzene stecker kundenservice grafikkartendesign stromkabel geschmolzenen stecker theorien ursache defekte stecker austausch steckers funktionstest fehleranalyse widerstände strom molex widerstand spezifikation zusammenfassung fazit outro",
          "zweiter kanal erlebnisse mache live streams twitch unterstützen stream push benachrichtigung kurzer anmeldung erhalten telegram kalenderdienst vip sieh exklusive streams making of streams vieles mehr",
          "mattin quälen km nachtfahrt training erstes ultra race live kanal mattin onlineshop instagram findest komplette ausrüstung bekommst rabatt yfood code fritz bekommst rabatt revolution race code fritz bekommst rabatt online angelschein code fritz kannst tage kanutour eigene faust youtube mitglied unterstützen möchtest",
          "gesamte wohnung geklaut ballon gehangen großes danke edeka erst edeka blümchen herzstücken siebten himmel geschickt lewin d zweitkanal täglich videos gibts livestreams täglich live whatsapp gruppe community discord song video spotify lea jo musik instagram twitter",
          "fynn kliemann zurück diy künstler wohl ehemals beliebteste heimwerker landes downfall drei jahren zurückgekämpft kliemannsland lebt neues album tod stand zwischenzeitlich platz charts kunstaustellung werke wert fast euro angeboten kliemann gelungen comeback vorbereitet wirklich verändert versprochen darum folge gehen anschuldigungen drei jahren zdf magazin royal jan böhmermann kliemann veröffentlicht wurden vordergründig ging bereicherung maskendeal dahinter steckte vorwurf kliemann längst mehr business diy flankiert wurde kliemanns rückkehr interviews matze hielscher hotel matze drei stunden eher freundschaftlichen fragen auseinandersetzen durfte aufwändig produzierten doku ard fall zusätzlich nochmal nacherzählt erhält kliemann raum tim meltzer verbal unterstützt kritiker wurde eingeladen sätze steuern fynn kliemann hoffe vermisst findet video dreht frage kliemann wirklich verändert wortreichen entschuldigungen ernst gemeint ende show quellenliste fynn kliemann zurück fynn kliemann auferstanden ruinen downfall entschuldigung veränderung comeback fazit teil crew teil schiffs segeln under flagge schaut mal rein youtube instagram tiktok website herz kritiker hater",
          "triff falschen becher bekommst bestrafung k likes doppelt viele becher besorgen härtere aufgaben whatsapp kanal alex freerun fabian baggeler rick azas lucy lacht theresa kirchner dürfen falschen becher treffen müssen wahrheit pflicht special aufgabe wer richtigen becher trifft pro cup gewinnen danke immer fleißig kommentieren immer drei kommentare nächsten video erwähnen lest jemand überhaupt beschreibung ja schaltet glocke fügt emoji kommentar hinzu weis lest d instagram alex lucy rick fabi theresa tiktok alex lucy rick fabi theresa folgt theresa kirchner lucy lacht rick azas flyhaus fabi",
          "staffel episode ersten nachforschungen ergeben boden steckt großes dabei tatsächlich seltenen panzer zweiten weltkrieg handelt bewiesen michael manousakis truppe feuer flamme steel buddies überlegen mehr polen panther graben wann projekt zügig starten bevor wind sache bekommen koloss ort stelle schlamm ziehen reichlich equipment erforderlich mehr motor gibt s tonnen stahl ketten sammler museumsbetreiber berichtet steel buddies spektakulären entdeckung matthias jahrzehntelang recherchiert glaubt wissen panther zweiten weltkrieg verborgen liegt erhaltene panzer typs rar entsprechend teuer befindet koloss tatsächlich sumpfgebiet polen michael manousakis geschäftsfreund vermutet lässt ort herausfinden sollten annahmen bestätigen bergung schlamm bedeckten monstrums kinderspiel lassen jungs ölverschmierten overalls panther projekt abonniert kanal taucht motorwelt dmax mehr dmax motor instagram facebook tiktok",
          "fette props ehrenkammeramänner julian bogner jonas drechsler super bilder ganz speziell mal julian b mega schnitt lasst fall abo beiden julian bogner instagram julian pfeil instagram",
          "kurz uhr stieg weißer rauch sixtinischen kapelle vatikan neuer papst gewählt petersdom wurde verkündet wer wollt verpassen abonniert youtube channel social media besucht facebook stuttgarter zeitung stuttgarter nachrichten folgt instagram stz stn bluesky stz stn folgt stz linkedin tiktok pinterest kanal videos bringen stuttgart region baden württemberg näher versorgen aktuellen nachrichten spannenden geschichten reportagen interviews habt themenvorschläge schreibt kommentare",
          "manchmal sagen bilder mehr worte video einstimmung letztes heimspiel allianz arena produziert s mehr gekribbelt gedacht einfach tolle erinnerungen viele wunderbare momente begegnungen jahre beim fc bayern pflichtspielen profis platz titel dabei ende rausgesprungen merci schwierigeren momenten unterstützt begleitet schön s herzliches dankeschön geht bereitstellen videosequenzen",
          "spielen geoguessr irl profi esportler naja krass genieße live gaming kanal instagram twitter community discord neuster song werbung partner mikrofone nutzen drehs movemic mikrofon streaming sm db bezahlt tiktok videos",
          "neonazis rudeln offener straße politisch andersdenkende verprügeln schon mal baseballschläger jahren frühen neunziger heute heute erleben nächste generation rechter schläger jüngsten neuzugänge nennen deutsche jugend voran lose ansammlung jung nazis vorwiegend hauptstadt spur gewalt hinterlässt spiegel tv durfte lka ermittlungen vereinigung exklusiv begleiten rechtsstaat rechts spiegel tv film thomas heise weitere reportagen thema findest rechtsrock ss lieder nazi aufmarsch hauptstadt pilgerort rechtsextreme kubitscheks denkfabrik junge alternative rechtsradikalen radikal ___________ true crime kanalmitglied exklusive vorteile erhalten",
          "donald trump zweiten mal tage amt kommt vielleicht länger passiert project wurde umgesetzt zufall trump ja gar nix tun kabinett milliardären fernsehstars wurde aufgestellt abgeführt reichsten mensch welt elon musk klug doge geschafft richtig geld sparen gleichzeitig trump bisschen neues beef anzufangen nachbarländern kanada mexiko grönland wirtschaft zölle aufgebessert gefährliche dei beendet großem stil abgeschoben manchmal falschen leute abgeschoben wurden upsi kleines bisschen staatsstreich faschismus dabei zeit trump lästerschwestern podcast instagram twitter tiktok kapitel donald trump genie trumps geniales kabinett geld sparen doge weniger krieg trumps geniale wirtschaft endlich schluss dei trumps geniale deportationen schritte richtung faschismus danke produktion saskia goette kamera schnitt robin blase animation gerlinde schrön redaktion robin blase grafik victoria müller musik epidemic sound vielen dank lukas illig diren gülveren produktion richtig cool gmbh fotocredit thumbnail via getty images foto elon musk angela weiss kontributor foto el salvador anadolu kontributor",
          "deutsche memes folge quellen folgt insta danke kevin alex jan unterstützung beim video alex vfx effekte unterstützt zave it werbung mehr twitch twitter musik benutze werbung epidemic sounds bezahlt pro monat dafür ganz musik benutzen könnt nen gratis monat testen holen link macht kriege ab moment bezahlt falls abo gratismonat verlängert kanalmitglied",
          "grünewürfelflow jetzt streamen instagram directed dop additional footage edited vfx beat mix master",
          "giesswein checkt coolen schuhe klamotten giesswein spart code naturensoehne fette wool peaks merino runners shop zweitkanal discord angelschein online fishing king rabatt soehne kochbuch buch onlineshop amazon wunschzettel unterstützer instagram spende via paypal __ findet links diversen ausrüstungsgegenständen videos nutzen outdoor ausrüstung entdecke bekleidung ausrüstung asmc sichere code sonsofasmc immer mindestens rabatt gesamte sortiment anfänger ausrüstung rucksack plane mora messer beil säge paracord feuerstahl erste hilfe set bushcraft ausrüstung rucksack helle messer beil säge taschenmesser naturschnur ultralight ausrüstung rucksack schlafsack kopfkissen tarp hängematte titan löffel titan tasse trek n eat wildtopf outdoor bekleidung revolutionrace rabatt code naturensoehne koch ausrüstung petromax feuertopf ft petromax deckelheber petromax gr gusseiserne pfanne petromax schmiedeeiserne pfanne petromax pfannenknecht petromax ringreiniger petromax kaffeekocher petromax feuerschale petromax kühlbox markierten links handelt amazon petromax partnerlinks kleine provision bekommen raufklickt bestellt wer unterstützen mag dadurch herzlich eingeladen dadurch entstehen natürlich zusätzlichen kosten liebe grüße andy gerrit __ youtube facebook instagram kontakt naturensoehne spende via paypal __ copyright filminhalte eigentum naturensöhne",
          "glaub streamen neue album lan juks vorbestellen tickets jahre kool savas arena tour produced kwake laskah abija emraymusic master lex barkey videoidee savas yurderi video roman romacher kameraassistent dennis romacher beleuchter ruben hensel produktionsassistentin dana naul darsteller jack orsen rick hübner statisten statistinnen oliver polak paul stella matti micha anika danke kool savas channel abonnieren",
          "keça kurdan streamen folgt aleyna instagram tiktok production caid masri btm soundz video monkeyfilms produktion directed dop edited by emin simsek contact info",
          "coachella festival grade vielen influencern social media sehen steckt eigentlich dunkles bunten fassade letztes video werbung formel skin code aliciajoe ersten zwei monate monat danach monat monats set gilt neukund innen _________________________________ reactions videos grundsätzlich immer erlaubt upload reaction bestenfalls erst stunden veröffentlichung stattfinden _________________________________ quellen thumbnail fotomontage _________________________________ twitch kanal aliciajoe instagram aliciajoe reaction kanal genug internet heute",
          "instagram strava day one twitch tiktok esn code arda performall elis und ardas training und ernährungspläne neuer podcast von arda ein abo da lassen wäre süper music licensed lickd biggest mainstream stock music platform content creators way go kaleo license id xqjv dlgjdb want use music famous artists try lickd get track credits unlimited stock music",
          "sverige älskar sin självbild som ett jämlikt land men det är en bekväm lögn vi berättar för oss själva för att slippa konfrontera den verklighet som de flesta redan ser praktiken är sverige ett klassamhälle och skillnaderna växer för varje år skolor välbärgade områden fungerar som privata elitsatsningar med högpresterande elever engagerade föräldrar och resurser överflöd arbetarklassens eller invandrartäta områden kämpar lärare för att få barn att ens dyka upp till lektionen ordningsproblem brist på studiero och låga förväntningar är standard ändå låtsas vi att alla barn har lika möjligheter privata aktörer inom vård skola och omsorg har gjort valfrihet till ett kodord för segregation den som har pengar får bättre vård snabbare kan välja bort stökiga skolor och slipper stå kö till tandläkaren den som inte har det får ta det som blir över allt detta finansieras med våra gemensamma skattemedel men resultatet är ett system där det lönar sig att vara rik och där fattiga betalar för sin egen underordning samtidigt får man inte prata om klass längre gör man det anklagas man för att vilja spela offer sprida missunnsamhet eller dra allt över en kam som om det är ett större problem att någon kritiserar orättvisor än att orättvisorna finns det här är inte ett jämlikt samhälle det är ett samhälle som blundar pekar finger åt de som protesterar och kallar sig solidariskt medan det ruttnar inifrån så vad säger ni har sverige någonsin varit jämlikt eller har vi bara varit skickliga på att dölja klassamhället bakom vackra ord",
          "neues buch ausgetriggert lass persönlich unterstützen charismatisch kostenloser min test infos redefabrik seminare kurse campus etc akademie vertiefende kurse besten bücher kommunikation rhetorik kostenloses hörbuch wahl meisterkurs rhetorik meisterkurs schlagfertigkeit ausgetriggert menschen lesen argumentieren stress heikle gespräche psychologie überzeugens menschen gewinnen methodenkoffer grundlagen kommunikation freunde gewinnt deal überzeugt instagram podcast itunes spotify suchen facebook newsletter linkedin amazon links verwendet unterstützt zahlt natürlich gleichen preis bekomme provision ansonsten amazon gehen",
          "grösste sportliche herausforderung vorbereitung race across america mattin werbung yfood probiert mal spart code mattin youtube werbung rabatt holy birthday aktion code mattin sparen neukunden code mattin sparen bestandskunden gesamte bestellung survival mattin instagram name survival mattin official merchandise shop outro song markierten links handelt partnerlinks mattin kleine provision bekommt links raufklickt bestellt wer unterstützen möchte dadurch herzlich eingeladen dadurch entstehen natürlich zusätzlichen kosten",
          "aufgepasst bekommt geschenkt einfach revolut kostenloses konto eröffnen link zahlung tätigen werbung icon league team fokus eagles folgt snapchat instagram instagram acc twitch twitter delay sports youtube kanal youtube kanal youtube gaming kanal modemarke instagram shop vitamin wasser instagram verein delay sports instagram mitglied abonniert fokus fokus instagram fokus twitter fokus youtube sämtliche gekennzeichneten links stellen werbung dar",
          "fri run sun seoul utc kbs world tv youtube live pm seoul utc music bank lyrics song festival never stop online compilation concert season season exclusive bts stage editor pick legend video subscribe kbs world tv official pages youtube subscribe homepage facebook twitter instagram line android download ios download",
          "aktuelle wetter deutschland mai heute knallt s lokal ganz ordentlich unwetter möglich stürzen höchstwerte komplett keller nächste woche meist trocken deutlich frischer größtenteils grad nachts grad regional bodenfrost möglich mehr diplom meteorologe dominik jung wetter app android wetter app ios webseite besucht tiktok facebook instagram twitter quelle profikarten urhg urheber videos youtube kanal wetternet besitzen somit alleinige veröffentlichungsrecht vervielfältigung verbreitung videos urhg zustimmung untersagt zieht rechtliche konsequenzen",
          "wieso aufrufe bekommst pro video wege beheben",
          "anzeige lade goal battle herunter fordere freunde diyarac kawa x match heraus android ios nutze außerdem code gb diamanten erhalten längste sieges serie sichern _______________________ kontakt kooperationsanfragen geschäftliche anfragen management _______________________ willkommen folge zweiten find the pro staffel diesmal sogar mma edition matchday freunde heute präsentieren besondere folge find the pro mma edition format geht darum profi mma kämpfer anhand geschichten fertigkeiten identifizieren teilnehmern verbirgt echter profi liegt jury enttarnen herausforderer treten verschiedenen spannenden challenges gegeneinander könnt profi erkennen teilt vermutungen kommentaren sei dabei nächsten folge folge link broadcast channel instagram abonniere kanal aktiviere glocke weiteren videos verpassen folge instagram youtube tiktok jury ausgabe max holzer jan holzer ali bumaye danke yigit muk spitfiregym gastfreundschaft bereitstellung halle gym yigit teilnehmer dank geht partner jako",
          "abiball katastrophe ab sofort besser kostenlos mehr spaß surfen holt opera werbung einholzkopf plüsch shop werbung video erzähle informatik programmieren generell umgang computern gelernt hoffe animationsvideo gefallen falls ja liket video gerne abonniert mehr c zeichnen davon arbeit macht spaß c ja zeichne selber nutze ai videos handmade moral image generation sowas find persönlich fragwürdig folgt social medias twitter twitch instagram facebook benutzt jemand musik artlist io epidemic sound ab sonic untertale lud and schlatts musical emporium by philip milman cc by music for all by anthpo loganfeecemusic cc by mail geschäftliche anfragen einholzkopf",
          "indien pakistan stehen schon lange feindlich gegenüber droht neue eskalation hintergründe rolle spielt dabei beide länder atomare waffen verfügen darum geht video aktuelle entwicklungen konflikt indien pakistan hintergründe teilung britisch indiens konflikt kaschmir simla agreement indus water treaty simulation video beziehe kanal gehört funk netzwerk ard zdf weitere infos youtube funk web app impressum kostenlos abonnieren findet mrwissen go instagram thumbnail designer david weber schnitt animationen mirko drotschmann design christopher hesse",
          "höre veysel berdo lieben hassen ii veysel instagram veysel tiktok veysel facebook berdo instagram berdo tiktok veysel x berdo lieben hassen ii back to the future veysel reist zurück ersten hit bringt lieben hassen neuem beat neuem vibe neuem feature miksu produzierte original erschien weckte aufmerksamkeit haftbefehl brachte essener ersten deal jahre später gibt update denkwürdigen klassiker nrw rap neuem beat bouncy neuem mix julez johnny good plus neuen lyrics veysel berdo wien",
          "wow tag realistisch haha genieße live gaming kanal instagram twitter community discord neuster song werbung partner mikrofone nutzen drehs movemic mikrofon streaming sm db bezahlt tiktok videos",
          "de fatbike kon niet ontbreken deze video",
          "spaß neuen video kommt pc partner werbung podcast youtube sei live dabei merch twitter instagram buch podcast papaplatte vlog playlist cutter",
          "freundin lucy probiert heute blind männern erkennen k likes runde besten freund rick freunden erkennen alex freerun freundin fremden frauen erkennen gab rückrunde erkennen männern schaffen bekommt bestrafung danke immer fleißig kommentieren immer drei kommentare nächsten video erwähnen lest jemand überhaupt beschreibung ja schaltet glocke fügt emoji kommentar hinzu weis lest d danke teilnehmer mitgemacht rick faruk julien adam luca kai instagram alex lucy tiktok alex lucy folgt theresa kirchner lucy lacht rick azas flyhaus fabi",
          "instagram strava day one twitch tiktok esn code arda performall elis und ardas training und ernährungspläne neuer podcast von arda ein abo da lassen wäre süper music licensed lickd biggest mainstream stock music platform content creators cold ice foreigner license id vvnz ryvej want use music famous artists try lickd get track credits unlimited stock music",
          "video zeigen krassesten rückabwicklungsfall je erlebt mäuseschaden anwalt hitzigen diskussionen riesigen liste mängeln berechtigt wer trägt verantwortung kannst daraus lernen lage geraten interesse wohnmobil schaut gerne unserer webseite nutzt kontaktformular meldet direkt kommt einfach persönlich vorbei besucht reisemobile mkk gmbh westspange gelnhausen deutschland kontaktmöglichkeiten telefon fax e mail info website folgt social media warum reisemobile mkk bieten sofort verfügbare fahrzeuge viele automatikgetriebe riesige preisnachlässe knaus sunlight malibu kommt vorbei überzeugt unschlagbaren angeboten montag samstag termin genießt tolle beratung guten kaffee",
          "monte freundin testen burger betr burger montanablack vlog montanablack gönrgy werbung verwendete musik outro bosshafte beats rettungsschwimmer",
          "crayon er mai jour historique travailleurs vu fête travail émilien a profité passer cdd cdi compagnie coups va être validé émission retrouver intégralement tf coups jours",
          "weitere folgen könnt rtl streamen alex bloch spannender mission automesse china lockt neuen innovationen heißesten fahrzeug vorstellungen vielem mehr großes thema deutschen hersteller chinesischen vorsprung sachen technik software design aufholen kanal abonnieren auto mobil facebook auto mobil instagram auto mobil tiktok auto mobil webseite vox instagram vox facebook vox twitter",
          "what i eat a day lebensmittel haul aka absolutes lieblingsvideo __ amazon lieblingsprodukte podcast joey parfummarke stalk hauptkanal instagram tiktok __ geschäftliche emailadresse beautx affiliate link erhalte umsatzbeteiligung verkäufen link generiert wurden __ habt tollen tag macht schönsten julia",
          "outfit check luxus streetstyle wiener rich kid mode talk on the fly gibt s exklusive einblicke style vorbilder must haves winter trends modetipps interview gefallen gerne liken folgen mehr spannende inhalte",
          "deutsche memes folge quellen folgt insta danke kevin alex jan unterstützung beim video alex vfx effekte unterstützt zave it werbung mehr twitch twitter musik benutze werbung epidemic sounds bezahlt pro monat dafür ganz musik benutzen könnt nen gratis monat testen holen link macht kriege ab moment bezahlt falls abo gratismonat verlängert kanalmitglied",
          "bojan kanal abonnieren bojan x eno rapstar überall streamen produced mixed thisisyt video calogero cimino mastered robin schmidt bojan folgen instagram tiktok",
          "häuser grundstücke luxus immobilien reich bauunternehmers christoph gröner wuchs jahrelang krise gröner reich unbezahlte rechnungen insolvenz verfahren razzia exactly reporter tom fugmann marcel siepmann blicken fassade selfmade millionärs mdr investigativ abonnieren unternehmer christoph gröner schillerndsten figuren deutschen immobiliengeschäft leipzig expandierte ganz deutschland macher hochgearbeitet inszenierte gern meinungsstark selbstbewusst christoph gröner liebte großen auftritte charity veranstaltungen leipziger opernball sammelte porsches sponsorte preise pferdesport fußballvereine fussball bundesliga rb leipzig herta bsc halben jahr bruch staatsanwaltschaft leipzig lässt geschäftsräume leipzig berlin durchsuchen wegen verdachts insolvenzverschleppung sowie veruntreuung arbeitsentgelten mehrere gröner firmen laufen insolvenzverfahren herrscht vielen baustellen stillstand reden denen gröners projekten beteiligt handwerkern architekten externen dienstleistern erfahrungen gleichen viele seien geleistete arbeit bezahlt worden müssen ansprüche gericht durchsetzen geld kommen anwalt schreibt bislang gröner gruppe berechtigte forderung beglichen forderungen strittig bleibt gute recht mandanten zahlung verweigern pflicht zahlung ergebnissen gerichtlicher nachprüfungen abhängig exactly fragt christoph gröner blender sagt vorwürfen angeschlagenes unternehmen retten film tom fugmann marcel siepmann film gefallen lass like intro macht bauunternehmer christoph gröner brisant rechnung bezahlt architekt götz peter kaiser ging gericht offene honoraransprüche verfahren gröner firma landgericht leipzig gröners anwalt strittige forderungen porsches pferdesport fußballvereine christoph gröner umgibt luxus insider schwierige kontaktaufnahme ehemalige mitarbeiter angst anonymes interview insider wütende geschäftspartner vorwürfe gröner macht gröner strafbar einordnung insolvenzrechtlers stephan madaus geschäfte gröner andreas stolle geschäftsführer reinwald gmbh auftritte fernsehen plattform christoph gröner wer leidtragenden heizung plötzlich anonymer mieter berichtet franziska riekewald fraktionsvorsitzende linke leipzig setzt aufklärung bereichern unternehmen gröner gruppe nebenkosten mieter hoch schulden stadtwerken leipzig immobilien verkaufen rettet gröner villen saint tropez angebot karl helga wagenplatz leipzig streit bebaubarkeit grundstücks immobilien investor emerald fund kündigt kredite gröner kämpft imperium retten mehr mdr investigativ tiktok teamrecherche instagram ard team recherche instagram fotos videos podcast investigativ rubrik ard mediathek",
          "abonnieren verpassen werbung schau air up unterstütze videos code mike blinddate erhältst ab mai uhr rabatt aufs gesamte air up sortiment ausgenommen batman flasche leon katharina s box video kommt gleich online zweitkanal box passiert video podcast folge kommt bald abonnieren willst box schreib instagram infos streamer reagieren livestream jederzeit erlaubt upload reaktionen youtube erst tagen erlaubt geh instagram mehr content neue videos tiktok kommentiere nächstes sollen like abo lassen falls spaß hattest leute video sophie leon o alex katharina amalia leon g mike tamara joyce ines notifications anmachen gern sachen anmachst business email mike",
          "lasst gern wissen video fandet danke lotti fürs filmen lottis insta socials insta tiktok",
          "teste produkte verdiene dabei echtes geld melde kostenlos testerheld ___________________________________________________________________________________________ spare shilajit fitgun code diyar anzeige ___________________________________________________________________________________________ danke super location tolle unterstützung vorort yigit spitfiregym ___________________________________________________________________________________________ willkommen folge zweiten find the pro staffel matchday freunde heute präsentieren find the pro rapper edition heutigen folge suchen rapper labelvertrag verschiedenen challenges versucht jury herauszufinden wer teilnehmern richtigen plattenvertrag teilnehmer geben plattenvertrag besitzt wirklich seid gespannt jury richtigen kandidaten findet sei dabei nächsten folge folge link broadcast channel instagram abonniere kanal aktiviere glocke weiteren videos verpassen folge instagram youtube tiktok snapchat jury ausgabe serdar bogarekin daniel slump zahide berkay dank geht partner jako rapper belal ozan pano choya sherwan",
          "barcodes ltd box sichern streamen asche kanal abonnieren asche folgen bestellt letztenb limitierten barcodes deluxe boxen sichert sowohl barcodes ersten teil cd www ascheshop de gehen passende grösse auswählen vorbestellen grössen s xxl bereits ausverkauft video gefallen lasst like kommentar asche instagram asche spotify prod by bcase asche l video by mix master recording video assistent",
          "deutsche bahn stecken toxischen beziehung immer mehr menschen fahren bahn enttäuscht staatskonzern rekord verspätungen zugausfällen bahnvorstand hunderten tochterfirmen beschäftigt politik bahn fast ignoriert verfallen gleise weichen ex verkehrsminister volker wissing ex fdp ampel regierung ordentlich angepackt deutschlandticket generalsanierung bringt wende geht s koalitionsvertrag union spd gecheckt wissen bahn endlich comeback feiern darum geht intro toxisch bahn ging letzten jahre comeback bahn fazit quellen findet bundestag feuer drin kaum bekommt oben treiben jan schipmann aline abboud victoria reichelt lennart glaser informieren hitzige debatten parlament liefern highlights zentrum macht gibt instagram oben tiktok oben schaut gerne vorbei autoren jakob gierth redaktionsleitung jan schipmann lennart glaser redaktion funk philipp reichert andrej reisin content production chris krätzmann leon scheuermann post production chris krätzmann leon scheuermann motion graphic design jule sztefka oben produziert funk funk gemeinschaftsangebot arbeitsgemeinschaft rundfunkanstalten bundesrepublik deutschland ard zweiten deutschen fernsehens zdf funk datenschutzrechtlichen bestimmungen plattform sowie erhebung analyse nutzung userdaten einfluss rahmen unserer möglichkeiten gehen größten sensibilität daten weitere informationen thema datenschutz findest unserer website",
          "scharber gibt s eigendlich erfahrungen kunden zahlungen immer ok firma engine monkeys venlo wurde sensibilisiert verfahren läuft mehr infos folgen spass gehts schaber ausstattung fräsmaschine grob g cam software ncg cam fräswerkzeuge haimer bohrwerkzeuge osg botek gewindewerkzeuge osg werkzeugaufnahmen haimer voreinstellgerät haimer schrumpfgerät haimer spanntechnik lang technik messwerkzeuge mitutoyo laserschweisstechnik alphalaser maschinenkühlmittel hangsterfer s industrie sauger freddy instagram facebook website if you have any questions feel free and write a e mail info",
          "geheimnis papstwahl geniale inszenierung kardinäle kontinenten kommen zusammen wählen eingeschlossen sixtinischen kapelle rom geheimen reihen papst kontakt außenwelt dabei strikt untersagt boden eingelassene störsender handys nachrichten internet wahl abgeschirmt schwarzem rauch wahlgang geklappt weißem rauch funktioniert drinnen konklave passiert wissen geheim blackbox bekannt lediglich abläufe papstwahl warum papstwähler überhaupt eingeschlossen kam warum wahl derart großes geheimnis gemacht geschichte geht weit zurück video produktion zdf team autorin karoline knop schnitt markus hermanns kapitel intro geheimnis papstwahl frühe gemeindeleiter bischof rom papst verbot nicäa kardinäle wahlgremium erfindung konklaves längste papstwahl geschichte wahlreform reformen jpii abonnieren einfach klicken filme infos terra x gibt terra x facebook terra x instagram",
          "ganze folge joyn joko klaas zurück straße biegen direkt richtung wald ab geht stock stein wackelige brücken rutschige flussläufe hinunter wären ja kommunikativen sowie logistischen hürden innerhalb pkws empfohlen ab jahren joko klaas prosieben mittwochs uhr prosieben joko klaas facebook folge twitter instagram gegner groß rot mächtiger je joko klaas fordern gemeinsam ganzen sender heraus dabei gilt gesamte prosieben universum bestehen kräftemessen eingeladen gegner spiele entscheidet alleine prosieben triumphieren joko klaas überlässt sender minütigen live sendeplatz freien gestaltung siegt arbeitgeber müssen bedingungslos dienste stellen _______________________ impressum",
          "heute geliebtes pferd böckchen gehen lassen verlust trifft tief hoffe verständnis heute sagen lage live gehen gerade momenten bewusst wofür kämpfen warum gemeinsam wichtig püppis erbe weiterzutragen schnell möglich irgendwann gibt morgen mehr leben sekunde nächste ändern träume leben wann livestream täglich uhr könnt mitglied unserer tollen community wichtig video inhalte urheberrechtlich geschützt jegliche vervielfältigung verbreitung bearbeitung öffentliche wiedergabe außerhalb grenzen urheberrechts bedarf vorherigen schriftlichen zustimmung rechteinhabers zuwiderhandlungen rechtliche konsequenzen ziehen",
          null
         ],
         "marker": {
          "opacity": 0.5,
          "size": 5
         },
         "mode": "markers+text",
         "name": "1_instagram_video_tiktok",
         "text": [
          "",
          "",
          "",
          "",
          "",
          "",
          "",
          "",
          "",
          "",
          "",
          "",
          "",
          "",
          "",
          "",
          "",
          "",
          "",
          "",
          "",
          "",
          "",
          "",
          "",
          "",
          "",
          "",
          "",
          "",
          "",
          "",
          "",
          "",
          "",
          "",
          "",
          "",
          "",
          "",
          "",
          "",
          "",
          "",
          "",
          "",
          "",
          "",
          "",
          "",
          "",
          "",
          "",
          "",
          "",
          "",
          "",
          "",
          "",
          "",
          "",
          "",
          "",
          "",
          "",
          "",
          "",
          "",
          "",
          "",
          "",
          "",
          "",
          "",
          "",
          "",
          "",
          "",
          "",
          "",
          "",
          "",
          "",
          "",
          "",
          "",
          "",
          "",
          "",
          "",
          "",
          "",
          "",
          "",
          "",
          "",
          "",
          "",
          "",
          "",
          "",
          "",
          "",
          "",
          "",
          "",
          "",
          "",
          "",
          "",
          "",
          "",
          "",
          "",
          "",
          "",
          "",
          "",
          "",
          "",
          "",
          "",
          "",
          "",
          "",
          "",
          "",
          "",
          "",
          "",
          "",
          "",
          "",
          "",
          "",
          "",
          "",
          "",
          "",
          "",
          "",
          "",
          "",
          "",
          "",
          "",
          "",
          "",
          "",
          "",
          "",
          "",
          "",
          "",
          "",
          "",
          "",
          "",
          "",
          "",
          "",
          "",
          "",
          "",
          "",
          "",
          "",
          "",
          "",
          "",
          "",
          "",
          "",
          "",
          "",
          "",
          "",
          "",
          "",
          "",
          "",
          "",
          "",
          "",
          "",
          "",
          "",
          "",
          "",
          "",
          "",
          "",
          "",
          "",
          "1_instagram_video_tiktok"
         ],
         "textfont": {
          "size": 12
         },
         "type": "scattergl",
         "x": {
          "bdata": "3Q83QYcVSkHGEUVBNsZaQRGETEHvekFBJBU4QflKQkGsGzZBCDw+QfP5OUFsKDpB6do4QTI0MUEEBDJBNBk/QXA0NkGOWEJBHTw4QbyaSEFwRUlBSWA4QUzFSEGwvDpBZJhKQW0wN0Gs30NB6LlJQQqmM0GrC0xBFRNKQVXOQ0GOujVB4y06QUcNQUGqJEJBMrQ9QcPRPUH2aUtBI+pKQWyhMkFBk0dBVpU/QWviTkEjPExBZPY6QXsZOkFAIEpB81Q3QeypPEHH1TxBLtEwQa3xS0EQHDpBIloxQTyOR0EX/TVBGxFLQcIiNEGZPzpBCUM9QbmJR0FxqUdBI7I3QdhkOkHwWTdBF7NIQdn4NkFNsk9Bs0pDQRV9PkGFK0dBbohBQVTdOkERrTlBKl1DQRDyR0G7XEFBTPUxQSjZPkHuBERBMFIzQR/ePUHSdzlBvmZKQRO5TUHeyDlBNjVQQSZ5RUGbbEJBaZpEQaqrUkFfIUtBFiY6QZYFO0GYoDlBC7w4QSYgPkH8xzlBCT5GQXqaQ0GIqzVBp2o+QV7iTUE8xklBlBkxQe9xQUHS9T9BcY9GQazMUkFdsU9BPXtKQW7aMEE92EtBWv5PQZ0aQUFoETpBgwM5QTt8TEFiETdBKi47QZNGTEGOIkVBnU09QWdJRkEAHDpBI2dIQa3kQ0HlFz5BvSJAQVXTRUHRRF1BcJhQQTJ1N0GjuUNBN4o5QYSOMkHytjpBF6w3QW8WRkE3+jlB4pk8QY4HR0FOvTtBt8JOQRA7Q0Hx71VBR5FBQYb6QkHppj1BDGA9QXCoTEEXz0pB1b83QTRFM0FSDEhBK/Q6QehGOUH2ZktBgrw4QdC7S0Eb6EVBEZ5HQRk0PUEVqDVBzExDQTN7PkFtj1NBdiU1QZZkREEZ+ThBLdU9QSKzPkGs9T1BnrpDQcbeOEGPcUpBo+44QZjJSUHysT1BX+NFQYfxRUFXRDhBYwg4QZhqUUGvOUNBLZs/QQxnTEFwMzxBaEpVQZ7QSkGX+UlBUv1KQWLRREF/VUFB",
          "dtype": "f4"
         },
         "y": {
          "bdata": "YVGHwMQmecAqZXXAqhmbv3UNZMDyEonAr4iFwFe/dsCZv3bAa0ZzwESTZsCLZIrAzGxkwPBhg8Any4XAtJuDwFz4iMDBHY3AaomAwED4ZcBCrWrAsqKPwPGQa8COYG/AbD1HwIwygcAnnITAWJdwwOcDecBZfX3A24N9wCsjicC2n33Abn5twMJRhMD/In7AjuKQwJT6j8CJtXnAVs9FwMrqd8CA0nfAAS98wDcidcBf7X7Axe2DwKCKi8AFVHrA8f5owC6fhsAaFYzAs7Z7wGnDfcCT7ofAcRZVwEiqecBDvHTAGOxpwEjjjcBlzYTArkF1wBCWhcAXBmnAPjxnwHi0ZMBlz2DAeneCwEXFesD5S3jArkeLwA7BfcC6GoTAoaqAwNXsZcBJ0oLA+2CAwNyqdcAM7onAuqyDwJIQjMBGTovAQ9dzwPDqicBX4HvALutswPpTXcAstGzArdlswH//bcBDkYLAf7CFwNsNZcB9knPAqLZnwCLXacDqjWjAYdSDwI06cMDDY3rACXRiwNVgjMABGIDAhK2MwNzfZcBKvHPAIul7wMYzisAaNmzA2YRbwN5nbMC7x2nAL/p0wHEIbcDPhnHASadvwOpZfsBMI2jA2VWHwGr0YcBq1G/AZ86PwFVYdMCcD5LAQpOLwCFqh8BBBGjAFy/6vxHJgcBYv5DA0oV3wGPUYsAB6RtAku9twGj5hsD3d3/AGqWAwBTJg8DGAorA45qFwNsPZcB3W4HAQ/6NwKSdZ8Drb4TA+WptwIypfcC4KIbA47B+wHO7h8DRG4rAO6CMwD6WfcABfmfA8eR9wD43c8DJiWbANP5swJydecB2c4HA6kGHwKvsQ8CtV4PAN0NswBodkMC+RobA30KIwFbNjMDz+mHAUCZ6wKzIc8AYJGfATQyOwPDXi8CD0ZDA2FuBwFEbiMAf2X3AVeZ+wDgsWMCQhIzAJF2RwGGHc8BLmH7AiVZ0wLPlasCmVIDAfCSIwINogMBBSIHAsZtpwC/qeMBesX/AYpd0wMqxiMDHiXnA",
          "dtype": "f4"
         }
        },
        {
         "hoverinfo": "text",
         "hovertext": [
          "salga temporada",
          "supirnya pada cupuu sutanto",
          "giờ chuẩn bị đi chơi",
          "balerinnaaaa cappucinna",
          "vệ sinh tai viêm khó đó nha",
          "shimpanzinni bananinni",
          "arvatkaa mihin ollaan menos",
          "saka",
          "sanarsın yeşil pasaportumuz var kırdı",
          "musiala magic",
          "unsaon ni pag gamit",
          "habubi",
          "jajjde birom",
          "habosh babosh sprite whats next le",
          "băieții mei",
          "bobritto bandito",
          "bagi mówi best fylyng",
          "kenan yıldız",
          "true story balerina cappucina crocodilo tralala",
          "rodzinna majówka",
          "hossain",
          "phyokoko ပ င ဥ လ င သ လ ပ ဟ လ ဟ တစ ယ က ရ က ခ င တ န ရ ရ က",
          "arriba culichi boss",
          "partie jacob x brazilian phonk original content",
          "correcta chavales",
          "aspettando fumata",
          "khỉ con moon té xe vui nhộn",
          "bailalo rocky",
          "moccia",
          "pogledaj kraja",
          "empieza",
          "jedu na kole athena",
          "meu jogador",
          "hihihi",
          "hoy va guapo",
          "nancy ajram ah w noss",
          "coda gellata",
          "batalla basurero",
          "bailalo rocky",
          "balerinna cappucinna",
          "fail ajajja",
          "pedro pinochini",
          "idemooo jakoooo",
          "lah yekhlik lia insta_soukaina mouhout",
          "mögen",
          "terlalu pagi muka bengkak plus jerawat hormon bulanan",
          "per jovan buha sam amick",
          "baumblüte",
          "ako lang ba naiinis sa mga born na namimilit mag simba sa kanila na kesyoo daw parehas naman daw jesus yong sinasamba nila catholic daw hahah lol alam nyo naman ata pinag kaiba ng mga protestant catholic diba di naman kayo e nakakainis lang nakaka frustrate mga born na namimilit di ko nilalahat pero karamihan sa amin ganon nakaka walang galang na kasi",
          "bomboclaaat",
          "barella",
          "innamorata",
          "noooo politzia",
          "genio",
          "xangai",
          "avocadini antilopini",
          "arda güler",
          "vietnamese türke",
          "yıldız goal",
          null
         ],
         "marker": {
          "opacity": 0.5,
          "size": 5
         },
         "mode": "markers+text",
         "name": "2_mga_daw_naman",
         "text": [
          "",
          "",
          "",
          "",
          "",
          "",
          "",
          "",
          "",
          "",
          "",
          "",
          "",
          "",
          "",
          "",
          "",
          "",
          "",
          "",
          "",
          "",
          "",
          "",
          "",
          "",
          "",
          "",
          "",
          "",
          "",
          "",
          "",
          "",
          "",
          "",
          "",
          "",
          "",
          "",
          "",
          "",
          "",
          "",
          "",
          "",
          "",
          "",
          "",
          "",
          "",
          "",
          "",
          "",
          "",
          "",
          "",
          "",
          "",
          "2_mga_daw_naman"
         ],
         "textfont": {
          "size": 12
         },
         "type": "scattergl",
         "x": {
          "bdata": "G5pCQUVLR0G5Z0hBlZRAQcaFSEGYhEpBqrhHQYlWRkETcUJBgsVBQfh0SEH/HkVBYyBEQSi1PEHwKUVBHGI9QR/1REEwfUJBPX84QQ7CQ0HXD0lBvFZFQTIfPEH2JkVBek5BQZjxRUFWpEdBQpg8QUVYQkEQXEZBzoVDQR0pTUGGbEZBU5pGQUk9SEFi/khBIEJBQdfHREFi1DxB7a0/Qe5JRkHNFD5BbxJEQRSIR0GiDURBet9EQabBRUHwfThBNlFHQcQuRUEpBD9B/9dEQSFbRUG1REFB7TVEQbT9PkH+STtBRgVHQTP2P0HAn0NB",
          "dtype": "f4"
         },
         "y": {
          "bdata": "mebNvqWycr6eaDI9u6HbvvLdf7xmwqK+eomFvE5bI76524s+93mtvgoxpr0hU+O+LwvqvQuxDr/LWQW/JMr3vh04eb4gW48+euJNv/YTYb6g9aa+EwvVPSJAmL7zNVA+REPXvhQBMb8k8Gm8JE/wvkBaw75a8u49eXRFvzeSEr6cCwq/BkCzvp+jlb3QJqg+BQjLvvhrwr4FB/e+u7vqvk3eXj1/LwG/PkhDve1G+j0LlmW+ub1/PlRFFT6OETG/YgXMvJWZWb7r7du+L0Mjv9up4r5uKUG/gkonv//P6L4NGbO96s5oPjRxmj4zHHi+",
          "dtype": "f4"
         }
        },
        {
         "hoverinfo": "text",
         "hovertext": [
          "naja vielleicht finde jemanden",
          "date suche richtigen frau chahine neue folge online",
          "räder ps ungewiss endgegner hilti lkw",
          "vraiment triste",
          "folge gern mehr",
          "laufrad mal ganz heute gibt s akustik version ganz entspannt unplugged freude einfach mal reinhören mitwippen",
          "ärmster geburtstag jemals",
          "das sind die besten memos",
          "rund menschen fragen tödlichen polizeischüssen jährigen lorenz a gingen unterstützer freunde antirassisten straße vorfall untersucht",
          "teil nächste post folgen vergessen",
          "leben gebettelt",
          "être payé regardant publicités",
          "nu hjälper vi varandra kommentarsfältet",
          "worüber macht sorgen kommentiert",
          "polizei freund helfer lia",
          "daisy ist toll wow",
          "großes danke",
          "bleibt freund definitiv zuhause",
          "verschiedne nationalitäten",
          "gilts mindestens zwei freunde mitnehmen wahllokal gehen stimmen afd abgeben wohlstand sicherheit zukunft verändern gemeinsam deutschland",
          "zusammengefasst fehlt",
          "markus kaktus sitzt bus neben nuss",
          "banane chiasamen sättigend verdauungsfördernd perfekt gesunden abnehmen schnell gemacht super lecker",
          "staatskrise gerade noch abgewendet",
          "wirklich größer geworden",
          "vini unbedingt weiterspielen",
          "mädchen übertriebenen morgen routine",
          "regarder jusqu fin pov quand daronne réveille",
          "geist fährt",
          "die docent zo lief",
          "tout jours demande mdrr",
          "ralf trifft mümmelmann",
          "einfach nisa wurde geleakt",
          "händen selbstbräuner",
          "afd gesichert rechtsextremistisch sagt verfassungsschutz",
          "mal probiert lieben üben",
          "immer fassungslos darüber menschen gibt gehässig böse glaubt leben kommt zurück",
          "mache freitag krank",
          "wolf schönste braut welt",
          "verliebt kandidaten erkenne wunderschöne synchronsprecherin",
          "friedrich merz scheitert ersten wahlgang kanzlerwahl kanal abo",
          "direkt ehrlich",
          "sagt hallo britisch kurzhaar",
          "lasst firma ruhe",
          "polizei stürmt haus findet",
          "heißt sonnenuntergang finnisch",
          "weit gekommen",
          "kreuz hohem besuch torsten sträter berichtet einladung papst tatsächlich echt wahr stattfand",
          "naja ist halt oder",
          "ding wurde immer letzten tag aufgeschoben",
          "einfach mini me",
          "egal kommt i m stronger than this gerade hören müssen you re stronger than the situation you re facing right now updaten danach fühle erstmal zeit gebraucht darauf klar kommen zeit dürft immer nehmen überfordert situation seid danke verständnis",
          "make up heute gemakeupt",
          "obacht wen anfasst",
          "türe halt eingetreten",
          null
         ],
         "marker": {
          "opacity": 0.5,
          "size": 5
         },
         "mode": "markers+text",
         "name": "3_than_einfach_ist",
         "text": [
          "",
          "",
          "",
          "",
          "",
          "",
          "",
          "",
          "",
          "",
          "",
          "",
          "",
          "",
          "",
          "",
          "",
          "",
          "",
          "",
          "",
          "",
          "",
          "",
          "",
          "",
          "",
          "",
          "",
          "",
          "",
          "",
          "",
          "",
          "",
          "",
          "",
          "",
          "",
          "",
          "",
          "",
          "",
          "",
          "",
          "",
          "",
          "",
          "",
          "",
          "",
          "",
          "",
          "",
          "",
          "3_than_einfach_ist"
         ],
         "textfont": {
          "size": 12
         },
         "type": "scattergl",
         "x": {
          "bdata": "IshVQZlwVUFcJlhBx+hSQY+ZWUEeBFdB2ghZQcANW0En7V1BoEVXQUjvW0GVo1NBxkVTQWcaU0EVi1RB2i5WQQ+6XEHmV1tButVUQQopXEEgdFlBs6daQVu9WkERzVxBs7deQXlXWUHCP1pBXbNWQbfNWUGrYlRBHjhUQZywV0HJ5lhB3w9aQVuuXEGnv1tBSAddQf40U0G6wlZBmD5YQeifXEF0UVtBTm5cQZGVVkHoM1JBG/FcQe6QW0HJB15BLvRXQSE0WkH0PlZBAUpcQdNaV0EvWldBRnBYQXbHWEE=",
          "dtype": "f4"
         },
         "y": {
          "bdata": "E0wVv1+RZL/Z3lq/NYB5v384Yb9ypfa+wxF7v7CjWb9aZ2O/QHxhvzc9Pr/jMHu/h9nwvjeeUb8Y8Vq/zN5gv2F+bL87XYe/jcdav/wWQb9yDnS/0LH2vqTgGr8PZS2/8I9Wv4bYZ7/5nie/UZZav7L4U79nkg2/rsJXvzELMr8BuYS/kilDv1LZPL/bSDC/H6s7vy6LS7+BHUy/8eBkv1HWI7/+PVa/H1kjv7wFVb/E0Fa/QVg/v38PUb/j2ki/VDuCv+ZWi7+7dH6/b38iv6IYV7+hIn2/dzGGvw/+T78=",
          "dtype": "f4"
         }
        },
        {
         "hoverinfo": "text",
         "hovertext": [
          "much aimed",
          "wooo",
          "wait till end",
          "wait",
          "hope ok",
          "need stopped",
          "boom",
          "know",
          "showed late",
          "congrats",
          "um yeah",
          "got outsmarted",
          "whyyy",
          "wait end",
          "right",
          "got moves",
          "omg omg omgggggg",
          "good",
          "wait",
          "hahahahahha",
          "get",
          "good",
          "end",
          "expect result",
          "stop",
          "hmmm",
          "help pls",
          "okay thx",
          "ever",
          "get",
          "finallyyyy",
          "wait",
          "wanted first line",
          "joke tomorrow",
          "hahaahah",
          "ending hilarious",
          "worst friend",
          "noooooo",
          "even",
          "sweet",
          "found funny lol",
          "plz back",
          "yez",
          "omg",
          "ever tried",
          "idk going get used",
          "ok",
          "sure",
          "cool",
          "kinda obvious",
          "end",
          null
         ],
         "marker": {
          "opacity": 0.5,
          "size": 5
         },
         "mode": "markers+text",
         "name": "4_wait_omg_end",
         "text": [
          "",
          "",
          "",
          "",
          "",
          "",
          "",
          "",
          "",
          "",
          "",
          "",
          "",
          "",
          "",
          "",
          "",
          "",
          "",
          "",
          "",
          "",
          "",
          "",
          "",
          "",
          "",
          "",
          "",
          "",
          "",
          "",
          "",
          "",
          "",
          "",
          "",
          "",
          "",
          "",
          "",
          "",
          "",
          "",
          "",
          "",
          "",
          "",
          "",
          "",
          "",
          "4_wait_omg_end"
         ],
         "textfont": {
          "size": 12
         },
         "type": "scattergl",
         "x": {
          "bdata": "yjz6QCXq9UAtGfRAH/rwQOZz9ECxp/RAB5HxQDP18EByDvRA0eL5QMH180AB3O1Av6/xQCtq80D6mfJA//nuQEav8UBVBflArkLwQHkq8UC7mO5AE2D6QBBO9ECSDPhAbf/0QJtn8kCvZ/ZAJ6z1QN11/UAR+e5AcczxQD4C8UCHePhAt+X4QCoc8UAhCvdAhC4CQbx68UDo1fdAirj4QEgOAEG4BfdAjZb0QOWY8kApjP9AIljtQEOW90DtffZA9HT4QNcO80BzpPVAWSL1QA==",
          "dtype": "f4"
         },
         "y": {
          "bdata": "93gDv9E3Abw9+QW/gbvYvqJ5Tb7zNQy/4RrTvqeJwL7N2vS+2rikvNilZ7xg+gi/tknjvYv+A78vdLC+zKEAv7q3RD2jk1i9eNblvnMeoz1BdwS/VDZuvYc1Br+bMBq/iOgEvyWCl71sDq6+y2ksuxJ1yr7bx/O+gjgWvpbd1r4A4xq/8mOtvms0lD1SnBy/arLYvgzbNj1HjJq+V5wKvcx4/b1jcWy+YansvJebgjyRi7y+WRAHv9qIKL02f1a9dAQ0vV1hJb48aQ+/KIWPvg==",
          "dtype": "f4"
         }
        },
        {
         "hoverinfo": "text",
         "hovertext": [
          "mgk come pick cover directed sam cahill follow mgk",
          "jk takes best photos wilkins",
          "lamelo ball plays smooth",
          "already lax back gravy genuinely never felt worse",
          "david beckham art football",
          "hammarby jan gunnar solli received yellow card",
          "best duos football",
          "messi really said move",
          "madness looks like tomorrowland brasil",
          "somebody watching ib monk",
          "neymar",
          "john wick tuff",
          "great goal andrés",
          "fifa street",
          "toretto ronaldo prepare cars shaw joins",
          "grwm storytime abonnée",
          "skills touch challenge u players",
          "grwm board meeting",
          "cristiano ronaldo",
          "owen locke scores half n fc",
          "assist best",
          "redick notes players phenomenal shape others could better shape collectively need better shape source",
          "red devil buy high quality football jerseys profile",
          "grwm",
          "lionel messi superhuman skills",
          "jackson",
          "ronaldo hit cameraman",
          "ever seen penalty save attempt like",
          "axel grismau",
          "raphinha crazy goal",
          "tackle ggs",
          "ksi put ball back goal wait speed reaction",
          "prime ronaldo",
          "ja loves rookie",
          "grün fallschirm",
          "invited mcgivern",
          "way football team joined tooo tuff",
          "goosebumps scott",
          "ronaldo minotaurus monster fusion",
          "messi skill toying goalkeeper",
          "ronaldo reaction",
          "robert geiss mindset",
          "fifa street estilo brasileiro",
          "when shedeur get drafted",
          "get glynis involved",
          "mistake shape growth",
          "way joined tuff",
          "kid grew nikola jokic dunks",
          "j",
          null
         ],
         "marker": {
          "opacity": 0.5,
          "size": 5
         },
         "mode": "markers+text",
         "name": "5_ronaldo_shape_football",
         "text": [
          "",
          "",
          "",
          "",
          "",
          "",
          "",
          "",
          "",
          "",
          "",
          "",
          "",
          "",
          "",
          "",
          "",
          "",
          "",
          "",
          "",
          "",
          "",
          "",
          "",
          "",
          "",
          "",
          "",
          "",
          "",
          "",
          "",
          "",
          "",
          "",
          "",
          "",
          "",
          "",
          "",
          "",
          "",
          "",
          "",
          "",
          "",
          "",
          "",
          "5_ronaldo_shape_football"
         ],
         "textfont": {
          "size": 12
         },
         "type": "scattergl",
         "x": {
          "bdata": "AEYlQYcLJUFQqy5B5mMyQaeTMUE95DFByB4sQSVYMUHd/jVBC0gvQaAENEHrIjZBdToxQbZmOEH8YTJBG80qQcyfLUFiiSpBVYYyQQgnMUErZixBBYotQcE0MEFenSpBuA8xQQpuJEFXJDJBIuEvQTPhLEHpHjNBnlcqQTgRMEGiWjJBpPwmQY9LKkG6PytBRD01QV+uLUHCezJBVBcxQTodMkEcVStBW9c2QQ93MkHGRCVBxzctQSd8NUGg7CRBxa4kQTLALkE=",
          "dtype": "f4"
         },
         "y": {
          "bdata": "zNK1PkyokT1eaJk+Fwbov/Uyyz7cDVI+QsUDPl7GtT6jMWo+jwrMvyBb5z4cvUq+IB+GPhLKfD4M/tE+RxRJv2//SD7LxUC/Be/XPk4UUz7rFQA+lHArPp5Ipj6KZFC/Rdy0PmsaMT1SONU+Pjz+Peb2Kr+JU6s+s+lPv2hNgj6XJ9c+HZvePbbsUb+pqAq/4r8cvk+wEL/EI9o+KZSwPn+g2D46GBa/DP5hPuE3gD4l57m/XKsrvvsgLL6Jq5498nIXPWfthb0=",
          "dtype": "f4"
         }
        },
        {
         "hoverinfo": "text",
         "hovertext": [
          "squishy soli ingredienti farina crema mani sapone mani piace",
          "casa riunione condominiale",
          "apelați la el",
          "que encontro maravilhoso provando que os quadris realmente não mentem se reuniu com e para celebrar aniversário hino atemporal hips lie um marco que continua fazendo história na cultura pop vídeo repost",
          "shakira em su nueva gira por brazil en rio de janeiro",
          "posso desiderare amici migliori",
          "aime gingembre",
          "ponte bien mantón guapa regato",
          "coleta em estação quando por que e como usar essa técnica coleta em estação é uma alternativa extremamente útil na rotina de reprodução equina principalmente quando uso fantasma manequim não é viável nesse método garanhão é contido em pé dentro de um tronco apropriado e coleta é realizada com animal em posição estática sem necessidade da monta mas como saber quando utilizar indicações principais garanhões com histórico de lesões ou dificuldades locomotoras animais idosos garanhões agressivos ou que não se adaptam ao manequim situações em que contenção tradicional oferece mais segurança vantagens da técnica menor risco de acidentes para animal e equipe redução estresse físico viabiliza uso reprodutivo de garanhões valiosos que não podem montar técnica rápida e eficiente quando bem executada pontos de atenção coleta em estação exige contenção adequada treinamento prévio e acima de tudo conhecimento técnico nem todos os garanhões aceitam de forma imediata e qualidade sêmen deve ser sempre avaliada com critério essa é uma das muitas ferramentas que reprodução equina oferece e dominar cada uma delas é essencial para um trabalho técnico seguro e eficiente fica dica para quem está na lida ou em formação conhecer comportamento garanhão respeitar seus limites e adaptar técnica à realidade plantel faz toda diferença",
          "verdad puso echarle mal ojo",
          "super rutina ejercicios adelgazar sentado rutina super efectiva perder peso apta personas desgaste articular además va ayudar mantener buena salud ósea probarla ver beneficios puedes realizarla diario",
          "temos de acabar com esta mania de nos adaptarmos tudo e todos ou respeitam nossa cultura ou então podem comprar bilhete de regresso casa",
          "en la jeepeta va puestisimo",
          "elas foram expulsas casa final é surpreendente",
          "sabe ni andar bien pero si bailar sevillanas",
          "si españa existiera inventarla",
          "ladainha de todos os santos com essa oração solene os cardeais entram na capela sistina para dar início ao conclave é um dos momentos mais reverentes da vida da igreja quando se invoca céu inteiro para discernir novo sucessor de pedro",
          "creéis quedado bien",
          "esperando audio perfecto",
          "la quoi",
          "ý là sao á",
          "únete competencia roi spot binance opera gana parte usd recompensas",
          "palestrante ms palestrante ms palestrante ms",
          "acompañe pintarme cabello no salió bien",
          "a quoi comme handicap abonne marre",
          "ecco altro esempio risorsa pagherà pensioni",
          "ende lachen",
          "ser celoso sise venda seria mejor terminar sospechat",
          "não sei que aconteceu",
          "ligue som hoje é dia mundial da baleia e é incrível pensar que somos vivos durante mesma época maior animal de todos os tempos",
          "já lhes disse uma e outra vez não vão intimidar",
          "piace promessa",
          "este jogo de sobrevivência é uma obra prima",
          "melhor jogador mundo ataca novamente",
          "será que se primeiro ministro vou ser duro e autoritário quero que saibam resposta por mim",
          "bon appétit",
          "part ça se passe pas comme prévu merci polaroïd",
          "aquí la explicación barrial lg manuregato",
          "gringos e eu",
          "vuole fare formula angelo duro film fine mondo",
          "isto acontece todos os dias",
          "pasquale saluto",
          "jueves feria venía venir",
          "correvano verso sola direzione",
          "olha que ele criou com essas madeiras que ningue queria",
          "the walking dead madrid suerte verte ventana casa",
          "grappigste momenten van peppa big met ai stemmen",
          "siento vale aprende cosas hablan",
          "replying to pronta essere sminuita tutte persone credono presentato porsche amiche passato serata assieme",
          null
         ],
         "marker": {
          "opacity": 0.5,
          "size": 5
         },
         "mode": "markers+text",
         "name": "6_que_de_em",
         "text": [
          "",
          "",
          "",
          "",
          "",
          "",
          "",
          "",
          "",
          "",
          "",
          "",
          "",
          "",
          "",
          "",
          "",
          "",
          "",
          "",
          "",
          "",
          "",
          "",
          "",
          "",
          "",
          "",
          "",
          "",
          "",
          "",
          "",
          "",
          "",
          "",
          "",
          "",
          "",
          "",
          "",
          "",
          "",
          "",
          "",
          "",
          "",
          "",
          "",
          "6_que_de_em"
         ],
         "textfont": {
          "size": 12
         },
         "type": "scattergl",
         "x": {
          "bdata": "9NxHQWRWTkHIVkpBeHFLQV69SkGUz0xBJahKQRvISkEYbUtBIIlNQUtnS0GZT0xBUKNLQTVCTkHsb1RB4jxMQb6nS0Fqh0tBe4pIQeAXSUHcoUpBE2JKQQbYR0E8LEtBmalKQUGWTUFaJFBBDRtMQQINTEGmuktB4jdMQXZ1S0GeBUxBffdLQYG4S0FZ8EhBsyZOQZ2RSkEYKEtBft9KQerdS0Hlm0xBPNFPQXmDSkFXH0tBwLxPQb3xTkGQQExByAFMQdrxS0E=",
          "dtype": "f4"
         },
         "y": {
          "bdata": "AJWsv/H8xr/C/qy/ZDTNv9E+xr9wfaS/PIKDv1aNm7/f8di/VlG5vxzI0L/I/Mq/3smnv0q/yb8eZOu/+Ymxv3Nuyb90Gby//njzvyzjmL8mwre/PvOnv9Rwfb+RfJi/rR6LvzIhur9G/F6/kIHIv1/6t79/f9C/jwnJvyUQmr+KD8O/WZPCvx4qy79e1HS/1iWXvxaPrr/XW7m/ZzG2v1+Xvr9mVp6/vwWsvzINrL8YOMW/eU3Qv8s6nb/WsrW/zhetv9Xus78=",
          "dtype": "f4"
         }
        },
        {
         "hoverinfo": "text",
         "hovertext": [
          "gsw hou box scores nba yahoo nbsp game summary west first round game series tied location toyota center officials tony brothers kevin scott james williams ray acosta team q q q q total golden state warriors houston rockets nbsp team stats team pts fg fg p p ft ft oreb treb ast pf stl blk golden state warriors houston rockets nbsp player stats gsw golden state warriors min pts fgm pm ftm orb drb reb ast stl blk pf buddy hield sf jimmy butler iii pf draymond green c brandin podziemski sg stephen curry pg jonathan kuminga moses moody kevon looney quinten post gui santos trayce jackson davis pat spencer braxton key kevin knox ii gary payton ii hou houston rockets min pts fgm pm ftm orb drb reb ast stl blk pf dillon brooks sf amen thompson pf alperen sengun c jalen green sg fred vanvleet pg steven adams jabari smith jr tari eason jeff green aaron holiday jock landale reed sheppard jae sean tate cam whitmore nate williams",
          "clippers lose denver nuggets game fade em",
          "marlins players getting gaming game postponed via edwards",
          "breaking phoenix suns fired coach mike budenholzer th place record lone season sources tell espn breaking phoenix suns fired coach mike budenholzer th place record lone season sources tell espn",
          "lebron plays much via",
          "thomas bester mann",
          "espn recap boxscore gamecast nba com boxscore shotchart nbsp q q q q final lac lac den den nbsp team fg pt ft reb ast stl blk pf pts lac lac den den nbsp den den min fg pt ft reb ast stl blk pf pts porter jr sf gordon pf n jokic c c braun sg j murray pg r westbrook p watson jordan j strawther j pickett h tyson z nnaji totals dnp vlatko cancar dario saric inactive daron holmes ii nbsp lac lac min fg pt ft reb ast stl blk pf pts k leonard sf jones jr pf zubac c n powell sg j harden pg n batum k dunn b bogdanovic k brown j miller eubanks c christie totals dnp amir coffey patty mills ben simmons inactive nbsp pitp nd pts fb pts big ld ben pts tot tov tov pts lac lac den den nbsp lead changes times tied gametime attendance officials marc davis courtney kirkland ben taylor justin van duyne",
          "york knicks boston celtics td garden boston espn tv radio time clock final q q q q total nyk bos stats new york knicks player mins pts fgm pm ftm orb drb reb ast stl blk pf anunoby j hart k towns bridges j brunson robinson mcbride c payne boston celtics player mins pts fgm pm ftm orb drb reb ast stl blk pf j brown j tatum horford white j holiday p pritchard l kornet k porziņģis stats team fgm pm ftm ast pf stl blk oreb dreb reb nyk bos use reddit stream com get autorefreshing version page note data accurate nba com please message u nba_gdt_bot suggestions notice bugs bot",
          "denver nuggets defeated oklahoma city thunder aaron gordon knocked game winning pm seconds remaining nikola jokić totals points rebounds lead nuggets aaron gordon points rebounds jamal murray points combined points shai gilgeous alexander tallied points rebounds assists thunder loss nuggets move best seven series game take place wednesday may pm et tnt never miss moment latest news trending stories highlights bring closer favorite players teams download subscribe nba",
          "link comment tables r coloradoavalanche comments ke k game_thread_colorado_avalanche_at_dallas_stars_ mqg hg r coloradoavalanche avalanche dallas r dallasstars stars airlines center updates time clock final teams st nd rd total col r coloradoavalanche dal r dallasstars stats team shots hits blocks fow giveaways takeaways power play pim col r coloradoavalanche dal r dallasstars period time team strength description nd col r coloradoavalanche short handed josh manson wrist shot assist logan connor rd col r coloradoavalanche even nathan mackinnon snap shot assist ryan lindgren valeri nichushkin rd dal r dallasstars even mikko rantanen wrist shot assist oskar bäck ilya lyubushkin rd dal r dallasstars power play mikko rantanen wrap around shot assist thomas harley matt duchene rd dal r dallasstars power play wyatt johnston snap shot assist matt duchene mikko rantanen rd dal r dallasstars even mikko rantanen snap shot assist tyler seguin esa lindell period time team type min description st col r coloradoavalanche min default p kelly holding default lyubushkin cs ljubuškin fi ljubushkin sk ljubuškin st dal r dallasstars min default j benn high sticking double minor default v nichushkin cs v ničuškin fi v nitshushkin sk v ničuškin nd col r coloradoavalanche min default sam malinski interference default r hintz rd dal r dallasstars min default duchene tripping default necas cs nečas sk nečas rd col r coloradoavalanche min default c makar tripping default r hintz rd col r coloradoavalanche min default j drury holding default seguin officials referees wes mccauley dan rourke linesmen scott cherrey kiel murchison bot correct sources sources uses linked table notice error due incorrect source want suggest source click issue message subreddit aissue message terotheterror",
          "momma got game via isabel torres",
          "nyk bos box scores nba yahoo nbsp game summary east conf semifinals game nyk leads location td garden officials james capers mark lindsay kevin scott team q q q q total new york knicks boston celtics nbsp team stats team pts fg fg p p ft ft oreb treb ast pf stl blk new york knicks boston celtics nbsp player stats nyk new york knicks min pts fgm pm ftm orb drb reb ast stl blk pf og anunoby sf josh hart pf karl anthony towns c mikal bridges sg jalen brunson pg mitchell robinson miles mcbride cameron payne precious achiuwa pacôme dadiet ariel hukporti tyler kolek landry shamet p j tucker delon wright bos boston celtics min pts fgm pm ftm orb drb reb ast stl blk pf jaylen brown sf jayson tatum pf al horford c derrick white sg jrue holiday pg payton pritchard luke kornet kristaps porziņģis torrey craig jd davison sam hauser neemias queta baylor scheierman xavier tillman jordan walsh",
          "espn recap boxscore gamecast nba com boxscore shotchart nbsp q q q q ot final okc okc den den nbsp team fg pt ft reb ast stl blk pf pts okc okc den den nbsp den den min fg pt ft reb ast stl blk pf pts porter jr sf gordon pf n jokic c c braun sg j murray pg r westbrook p watson z nnaji totals dnp vlatko cancar deandre jordan jalen pickett dario saric julian strawther hunter tyson inactive daron holmes ii nbsp okc okc min fg pt ft reb ast stl blk pf pts j williams sf c holmgren pf hartenstein c l dort sg gilgeous alexander pg j williams caruso c wallace joe wiggins totals dnp ousmane dieng dillon jones ajay mitchell kenrich williams inactive nikola topic nbsp pitp nd pts fb pts big ld ben pts tot tov tov pts okc okc den den nbsp lead changes times tied gametime attendance officials james capers eric dalen ben taylor ray acosta",
          "love wallace blank",
          "york knicks boston celtics td garden boston espn tv radio time clock final q q q q ot total nyk bos stats new york knicks player mins pts fgm pm ftm orb drb reb ast stl blk pf anunoby j hart k towns bridges j brunson mcbride robinson c payne p achiuwa boston celtics player mins pts fgm pm ftm orb drb reb ast stl blk pf j brown j tatum k porziņģis white j holiday horford p pritchard l kornet hauser stats team fgm pm ftm ast pf stl blk oreb dreb reb nyk bos use reddit stream com get autorefreshing version page note data accurate nba com please message u nba_gdt_bot suggestions notice bugs bot",
          "watch full game nhl playoff highlights second round matchup edmonton oilers vegas golden knights may victor olofsson jack eichel point nights enough leon draisaitl teamed connor mcdavid win overtime extending series lead breaking news scores stats analysis real time highlights subscribe nhl follow nhl social media nhl x nhl facebook nhl instagram",
          "dallas mavericks eliminated nba championship contention dallas mavericks traded superstar luka doncic mid february shocking trade mavericks gm nico harrison claims defence wins championships fade em",
          "able stay game via sports network",
          "nico harrison dallas fire via mavericks",
          "gsw min box scores nba yahoo nbsp game summary west conf semifinals game series tied location target center officials sean corbin bill kennedy zach zarba tre maddox team q q q q total golden state warriors minnesota timberwolves nbsp team stats team pts fg fg p p ft ft oreb treb ast pf stl blk golden state warriors minnesota timberwolves nbsp player stats gsw golden state warriors min pts fgm pm ftm orb drb reb ast stl blk pf buddy hield sf jimmy butler iii pf draymond green c brandin podziemski sg stephen curry pg gary payton ii moses moody gui santos kevon looney quinten post jonathan kuminga pat spencer trayce jackson davis braxton key kevin knox ii min minnesota timberwolves min pts fgm pm ftm orb drb reb ast stl blk pf jaden mcdaniels sf julius randle pf rudy gobert c anthony edwards sg mike conley pg donte divincenzo naz reid nickeil alexander walker terrence shannon jr jaylen clark luka garza joe ingles leonard miller josh minott rob dillingham",
          "charania breaking gregg popovich longer head coach san antonio spurs transitioning full time team president sources told espn iconic popovich basketball hall famer nba time winningest coach led spurs five championships source",
          "source pistons restricted purchases possible home games matchup games credit card billing address located michigan certain parts ohio indiana ontario canada knicks fans notorious traveling well recently made road arenas sound like madison square garden including last season first round games ers philadelphia",
          "watch highlights inside nba shaq charles barkley kenny smith ernie johnson subscribe updated latest videos connect nba tnt follow nba tnt twitter like nba tnt facebook follow nba tnt instagram",
          "watch full game nhl highlights matchup edmonton oilers los angeles kings april condensing stanley cup playoff action minute recap st period nd period rd period breaking news scores stats analysis real time highlights subscribe nhl follow nhl social media nhl x nhl facebook nhl instagram",
          "espn recap boxscore gamecast nba com boxscore shotchart nbsp q q q q final den den okc okc nbsp team fg pt ft reb ast stl blk pf pts den den okc okc nbsp den den min fg pt ft reb ast stl blk pf pts porter jr sf gordon pf n jokic c c braun sg j murray pg r westbrook p watson j strawther totals dnp vlatko cancar deandre jordan zeke nnaji jalen pickett dario saric hunter tyson inactive daron holmes ii nbsp okc okc min fg pt ft reb ast stl blk pf pts j williams sf c holmgren pf hartenstein c l dort sg gilgeous alexander pg joe caruso c wallace j williams wiggins totals dnp ousmane dieng dillon jones ajay mitchell kenrich williams inactive nikola topic nbsp pitp nd pts fb pts big ld ben pts tot tov tov pts den den okc okc nbsp lead changes times tied gametime attendance officials john goble brent barnaky josh tiven karl lane",
          "golden state stephen curry sustained grade left hamstring strain ruled game minnesota thursday sources tell espn first strained muscle curry career exact return timetable unclear due first rehab like source",
          "den okc box scores nba yahoo nbsp game summary west conf semifinals game series tied location paycom center officials john goble brent barnaky josh tiven karl lane team q q q q total denver nuggets oklahoma city thunder nbsp team stats team pts fg fg p p ft ft oreb treb ast pf stl blk denver nuggets oklahoma city thunder nbsp player stats den denver nuggets min pts fgm pm ftm orb drb reb ast stl blk pf michael porter jr sf aaron gordon pf nikola jokić c christian braun sg jamal murray pg russell westbrook peyton watson julian strawther vlatko čančar deandre jordan zeke nnaji jalen pickett dario šarić hunter tyson daron holmes ii okc oklahoma city thunder min pts fgm pm ftm orb drb reb ast stl blk pf jalen williams sf chet holmgren pf isaiah hartenstein c luguentz dort sg shai gilgeous alexander pg isaiah joe alex caruso cason wallace jaylin williams aaron wiggins ousmane dieng dillon jones ajay mitchell kenrich williams nikola topić",
          "watch full game nhl playoff highlights first round matchup los angeles kings edmonton oilers may condensing stanley cup playoff action minute recap st period nd period rd period breaking news scores stats analysis real time highlights subscribe nhl follow nhl social media nhl x nhl facebook nhl instagram",
          "bengals something else swear",
          "watch full game nhl playoff highlights second round matchup edmonton oilers vegas golden knights may mark stone started things pair goals st period zach hyman go ahead goal would lead oilers comeback rd period giving game win golden knights st period nd period rd period breaking news scores stats analysis real time highlights subscribe nhl follow nhl social media nhl x nhl facebook nhl instagram",
          "crab touchdown pass would known via",
          "min gsw box scores nba yahoo nbsp game summary west conf semifinals game series tied location chase center officials scott foster david guthrie mitchell ervin team q q q q total minnesota timberwolves golden state warriors nbsp team stats team pts fg fg p p ft ft oreb treb ast pf stl blk minnesota timberwolves golden state warriors nbsp player stats min minnesota timberwolves min pts fgm pm ftm orb drb reb ast stl blk pf jaden mcdaniels sf julius randle pf rudy gobert c anthony edwards sg mike conley pg donte divincenzo naz reid nickeil alexander walker jaylen clark rob dillingham luka garza joe ingles leonard miller josh minott terrence shannon jr gsw golden state warriors min pts fgm pm ftm orb drb reb ast stl blk pf jimmy butler iii sf draymond green pf trayce jackson davis c buddy hield sg brandin podziemski pg gary payton ii quinten post jonathan kuminga kevon looney moses moody stephen curry braxton key kevin knox ii gui santos pat spencer",
          "hou gsw box scores nba yahoo nbsp game summary west first round game gsw leads location chase center officials james capers jb derosa mitchell ervin team q q q q total houston rockets golden state warriors nbsp team stats team pts fg fg p p ft ft oreb treb ast pf stl blk houston rockets golden state warriors nbsp player stats hou houston rockets min pts fgm pm ftm orb drb reb ast stl blk pf amen thompson sf dillon brooks pf alperen sengun c jalen green sg fred vanvleet pg steven adams tari eason jabari smith jr aaron holiday cam whitmore jeff green reed sheppard nate williams jock landale jae sean tate gsw golden state warriors min pts fgm pm ftm orb drb reb ast stl blk pf gary payton ii sf jimmy butler iii pf draymond green c buddy hield sg stephen curry pg brandin podziemski moses moody quinten post kevon looney braxton key gui santos kevin knox ii trayce jackson davis pat spencer jonathan kuminga",
          "want contact play tennis brooks said classic brooks right never one scared speak mind even says going go well many around would openly admitted targeting curry injured thumb way brooks injured ankle would attack ankle every single time brooks said whatever saying broadcast keep saying brooks notably hit curry hand multiple occasions series warriors superstar shoots foul according rule book taking full advantage article",
          "draft lottery tomorrow fans teams make post season favourite year end event draft lottery every time draft lottery held begin hear suggestions fixed rigged proof proof year potential proofs lottery conspiracy theorists may come flagg always destined go lottery winners utah jazz white washington wizards october st wizards owner ted leonsis suddenly announced entered agreement keep wizards dc ending chatter move virginia agreement promised new stadium renovation team could consider relocation sudden change leonsis must promised rights cooper flagg course mention someone named flagg playing nation capital obvious charlotte hornets lamelo one popular young players league leading east backcourt star votes play seems rather obvious pair flagg given gen z team plus hornets sold summer new ownership care shitty draft though league must promised pick course new orleans pelicans saw much attention pelicans zion got rookie needs partner crime better another generational duke prospect flagg philadelphia ers philly massive market one talked superstars league joel embiid franchise life support right nba want lose giving flagg would fix brooklyn nets nets reside biggest market league yet quite shed knicks little brother label giving flagg could change things toronto raptors lottery rigged every year nba needs throw curveballs throw fans scent rig every year obvious give flagg raptors accomplish san antonio spurs league wants wemby face league face league middling roster give another stud pair fox let ratings flow houston rockets phx unprotected pick houston huge market brink dynasty saw great performed playoffs adding flagg high flying sengun core guaranteed ratings also ensures great environment flagg grow develop modern american superstar nba needs combine built china market yao successful franchise houston would positive league portland trail blazers portland refused tank year going meaningless run end season nba wants send message likes utah washington tanking help give flagg portland dallas mavericks self explanatory know going chicago bulls chicago absolutely massive market struggling nba simply better place chicago good easy decision send flagg sacramento kings kings months ago sent franchise player de aaron fox spurs play wemby received pittance return would well wemby next face league nba desperately needed star next promised flagg kings acquiesced gave fox next nothing flagg real prize atlanta hawks overall pick back back years psh yeah right obviously rigged like cavs rigged",
          "nyk bos box scores nba yahoo nbsp game summary east conf semifinals game series tied location td garden officials jb derosa marc davis ben taylor team q q q q ot total new york knicks boston celtics nbsp team stats team pts fg fg p p ft ft oreb treb ast pf stl blk new york knicks boston celtics nbsp player stats nyk new york knicks min pts fgm pm ftm orb drb reb ast stl blk pf og anunoby sf josh hart pf karl anthony towns c mikal bridges sg jalen brunson pg miles mcbride mitchell robinson cameron payne precious achiuwa pacôme dadiet ariel hukporti tyler kolek landry shamet p j tucker delon wright bos boston celtics min pts fgm pm ftm orb drb reb ast stl blk pf jaylen brown sf jayson tatum pf kristaps porziņģis c derrick white sg jrue holiday pg al horford payton pritchard luke kornet sam hauser torrey craig jd davison neemias queta baylor scheierman xavier tillman jordan walsh",
          "ind cle box scores nba yahoo nbsp game summary east conf semifinals game series tied location rocket arena officials zach zarba sean wright tre maddox gediminas petraitis team q q q q total indiana pacers cleveland cavaliers nbsp team stats team pts fg fg p p ft ft oreb treb ast pf stl blk indiana pacers cleveland cavaliers nbsp player stats ind indiana pacers min pts fgm pm ftm orb drb reb ast stl blk pf aaron nesmith sf pascal siakam pf myles turner c andrew nembhard sg tyrese haliburton pg bennedict mathurin jarace walker j mcconnell obi toppin ben sheppard thomas bryant tony bradley johnny furphy james johnson isaiah jackson cle cleveland cavaliers min pts fgm pm ftm orb drb reb ast stl blk pf max strus sf evan mobley pf jarrett allen c sam merrill sg donovan mitchell pg ty jerome de andre hunter dean wade isaac okoro darius garland javonte green chuma okeke craig porter jr tristan thompson jaylon tyson",
          "okc den box scores nba yahoo nbsp game summary west conf semifinals game series tied location ball arena officials james capers eric dalen ben taylor ray acosta team q q q q ot total oklahoma city thunder denver nuggets nbsp team stats team pts fg fg p p ft ft oreb treb ast pf stl blk oklahoma city thunder denver nuggets nbsp player stats okc oklahoma city thunder min pts fgm pm ftm orb drb reb ast stl blk pf jalen williams sf chet holmgren pf isaiah hartenstein c luguentz dort sg shai gilgeous alexander pg jaylin williams alex caruso cason wallace isaiah joe aaron wiggins ousmane dieng dillon jones ajay mitchell kenrich williams nikola topić den denver nuggets min pts fgm pm ftm orb drb reb ast stl blk pf michael porter jr sf aaron gordon pf nikola jokić c christian braun sg jamal murray pg russell westbrook peyton watson zeke nnaji vlatko čančar deandre jordan jalen pickett dario šarić julian strawther hunter tyson daron holmes ii",
          "min lal box scores nba yahoo nbsp game summary west first round game min leads location crypto com arena officials james capers ben taylor justin van duyne team q q q q total minnesota timberwolves los angeles lakers nbsp team stats team pts fg fg p p ft ft oreb treb ast pf stl blk minnesota timberwolves los angeles lakers nbsp player stats min minnesota timberwolves min pts fgm pm ftm orb drb reb ast stl blk pf jaden mcdaniels sf julius randle pf rudy gobert c anthony edwards sg mike conley pg donte divincenzo naz reid nickeil alexander walker terrence shannon jr jaylen clark luka garza joe ingles leonard miller josh minott rob dillingham lal los angeles lakers min pts fgm pm ftm orb drb reb ast stl blk pf rui hachimura sf lebron james pf jaxson hayes c austin reaves sg luka dončić pg dorian finney smith gabe vincent jarred vanderbilt jordan goodwin bronny james dalton knecht alex len shake milton markieff morris maxi kleber",
          "take every game way seriously",
          "pacers defeated cavaliers tonight cleveland myles turner led pacers points go blocks rebounds aaron nesmith contributed points fg p points game donovan mitchell finished team high points along assists cavaliers losing effort pacers lead series never miss moment latest news trending stories highlights bring closer favorite players teams download subscribe nba",
          "ind cle box scores nba yahoo nbsp game summary east conf semifinals game ind leads location rocket arena officials tony brothers david guthrie eric dalen nick buchert team q q q q total indiana pacers cleveland cavaliers nbsp team stats team pts fg fg p p ft ft oreb treb ast pf stl blk indiana pacers cleveland cavaliers nbsp player stats ind indiana pacers min pts fgm pm ftm orb drb reb ast stl blk pf aaron nesmith sf pascal siakam pf myles turner c andrew nembhard sg tyrese haliburton pg bennedict mathurin obi toppin j mcconnell ben sheppard thomas bryant jarace walker tony bradley johnny furphy james johnson isaiah jackson cle cleveland cavaliers min pts fgm pm ftm orb drb reb ast stl blk pf max strus sf dean wade pf jarrett allen c ty jerome sg donovan mitchell pg sam merrill isaac okoro javonte green craig porter jr darius garland de andre hunter evan mobley chuma okeke tristan thompson jaylon tyson",
          "spring official page leaguepedia liquipedia eventvods com new lol esports karmine corp karmine corp finish st lec spring split g leaguepedia liquipedia website twitter facebook youtube subreddit kc leaguepedia liquipedia website twitter facebook youtube g vs kc winner g esports bans bans g g jayce rumble yone ambessa ahri k ct h b kc maokai azir taliyah viktor hwei k ht g vs brokenblade jax top gnar canna skewmond xinzhao jng vi yike caps galio mid sylas vladi hans sama varus bot kaisa caliste labrov nautilus sup neeko targamas kc vs g winner karmine corp bans bans g kc maokai missfortune pantheon wukong wukong k h b g jayce yone rumble rakan karma k ct kc vs canna gwen top shen brokenblade yike naafiri jng lillia skewmond vladi taliyah mid viktor caps caliste ezreal bot caitlyn hans sama targamas alistar sup braum labrov g vs kc winner karmine corp bans bans g g jayce rumble akali poppy aatrox k kc maokai pantheon zyra renataglasc fiddlesticks k c h ht ht b g vs brokenblade warwick top ambessa canna skewmond drmundo jng sejuani yike caps yone mid azir vladi hans sama kalista bot missfortune caliste labrov rell sup rakan targamas patch fearless draft thread created post match team",
          "travis hunter headed jacksonville via buffaloes football",
          "controversial game ending pistons well force game close game detroit pistons eliminated nba playoffs new york knicks games fade em",
          "main roster braun strowman shayna baszler dakota kai kayden carter katana chance nxt cora jade gigi dolin gallus joe coffey mark coffey wolfgang eddy thorpe riley osborne oro mensah jakara jackson javier bernal",
          null
         ],
         "marker": {
          "opacity": 0.5,
          "size": 5
         },
         "mode": "markers+text",
         "name": "7_pf_pts_nbsp",
         "text": [
          "",
          "",
          "",
          "",
          "",
          "",
          "",
          "",
          "",
          "",
          "",
          "",
          "",
          "",
          "",
          "",
          "",
          "",
          "",
          "",
          "",
          "",
          "",
          "",
          "",
          "",
          "",
          "",
          "",
          "",
          "",
          "",
          "",
          "",
          "",
          "",
          "",
          "",
          "",
          "",
          "",
          "",
          "",
          "",
          "",
          "",
          "7_pf_pts_nbsp"
         ],
         "textfont": {
          "size": 12
         },
         "type": "scattergl",
         "x": {
          "bdata": "7jIPQd8mEEGZ7hJBbckPQdheFEEaWBBBejAPQUWID0HK7A9BI+0PQcljE0EVHw9BaLgPQdZ8D0GXaw9Byk0UQdhtEEHlJhNBebcRQZ++DkGTAhBBZdEQQSIqEEFcahRBjKEPQbctD0FX9w9Bxw0UQTWcE0GIXxRBxIEYQT1UDkGBDQ9Bj3QPQSjCDkHy7w5BBv4OQanTD0Hj5A5Bx50PQdOLD0HvvQ5BMYsPQbojE0H5PRBBOfgNQWOqEEE=",
          "dtype": "f4"
         },
         "y": {
          "bdata": "uq71P1qz2T+P4bM/v13qPz61zD9zLO0/Kpv4P4Cw8D8plOo/9VH/P56Xoz9EYfc/++73P1WN/j9i9O8/Q40AQE9n3D+NB7A//NXKP8tU+j/vfuc/HEvjP7bn8T8qYgBAQJf5PxKG+z+KG/E/as79P8Vefz8YfwBAmi6eP4Fs9j99q/g/DyD5P62P9D9nsvc/W3f4P9+i9z8ZFvg/jwX1P/lh7j8B8vM/5S7/P1KXnj/EFd8/e7v1PxVu5z8=",
          "dtype": "f4"
         }
        },
        {
         "hoverinfo": "text",
         "hovertext": [
          "real madrid consigue victoria santiago bernabéu frente rc celta intenso partido doblete mbappé gol arda güler dan tres importantes puntos lucha liderato j laliga ea sports suscríbete canal laliga ea sports",
          "klaren hinspiel möchte united endgültig ticket europa league finale lösen setzt dabei portugiesen bruno fernandes vergangene woche doppelpack glänzen konnte hinspiel klatsche bilbao old trafford ran beiden williams brüder verzichten momentan trefferliste anführen uefa europa league uefa conference league matchday live rtl free tv diverse einzelspiele konferenz rtl live übertragungen highlights mehr fußball europa league gibt s rtl weitere highlights uefa europa league gibt s abonnieren vergessen folge social media kanälen instagram tiktok facebook infos uefa europa league europa league saison gehen neben deutschen teams eintracht frankfurt tsg hoffenheim weitere mannschaften start zählen hochkarätige teams tottenham hotspur olympique lyon fenerbahce galatasaray istanbul fc porto as rom manchester united athletic bilbao europa league jahr ganz besondere angelegenheit finale findet mai bilbao statt",
          "milan strolled victory inter san siro booked place final rome may rossoneri scored jovic brace serbian added third final minutes yet another goal season reijnders coppa italia frecciarossa official channel serie providing latest highlights interviews news features keep date things italian football subscribe channel find serie questo è il canale ufficiale della serie dove potrai avere accesso ai momenti salienti alle interviste alle notizie e alle funzionalità del momento per rimanere aggiornato sulle ultime novità del campionato iscriviti qui al canale per maggiori informazioni sulla serie",
          "el barça remonta un barça psg ucl",
          "spaß highlights spiels inter mailand fc barcelona halbfinale uefa champions league prime video tore martinez calhanoglu e garcia olmo raphinha acerbi frattesi highlights analysen gibt prime video mehr verpassen amazon prime video instagram tiktok",
          "spieltag empfängt fc barcelona woche borussia dortmund halbfinale champions league eingezogen liga celta vigo spielverlauf f torres b iglesias b iglesias b iglesias d olmo raphinha raphinha highlights königsklasse siehst besten highlights internationalen fußball siehst link registrieren dazn kostenlos nutzen bit ly daznforfree geht s dazn programm dazn dazn facebook besten highlights wettbewerben youtube dazn uefa champions league youtube abonnieren dazn darts youtube abonnieren dazn fightclub youtube abonnieren dazn heimat fußballs dazn sehen fans besten wettbewerbe ort uefa champions league fifa klub wm bundesliga ab erstmalig inkl legendären konferenz sowie besten internationalen ligen laliga serie a ligue darüber hinaus bietet dazn fans neben fußball breiteste beste angebot spitzensport u a besten us sport nfl nba handball ehf champions league ehf european league darts pdc dp world tour liv golf tour golf kampfsport ufc pfl größten boxkämpfen ort dazn erlebe sport live abruf geräten dazn dazn livesport streamingdienst fans erlaubt sport erleben möchten egal live hause unterwegs zeitversetzt rückblick dazn bietet sportübertragungen pro jahr beinhaltet umfangreichste sportangebot jemals einzelnen anbieter gegeben impressum",
          "matheus nunes scored dramatic th minute winner city secured crucial three points race champions league win aston villa subscribe official man city youtube channel find latest videos manchester city including premier league champions league fa cup league cup goals highlights behind scenes footage training much get closer likes jack grealish bunny shaw kevin de bruyne lauren hemp erling haaland joško gvardiol phil foden vivianne miedema rest pep guardiola nick cushing teams",
          "conference league halbfinale betis sevilla fiorentina geht betis ex united star antony reihen heilsbringer florenz steht dritten mal folge halbfinale turniers finals verloren anschließend mal deutschen nationalspieler robin gosens jahr titel italien holen uefa europa league uefa conference league matchday live rtl free tv diverse einzelspiele konferenz rtl live übertragungen highlights mehr fußball europa league gibt s rtl weitere highlights uefa europa league gibt s abonnieren vergessen folge social media kanälen instagram tiktok facebook infos uefa europa league europa league saison gehen neben deutschen teams eintracht frankfurt tsg hoffenheim weitere mannschaften start zählen hochkarätige teams tottenham hotspur olympique lyon fenerbahce galatasaray istanbul fc porto as rom manchester united athletic bilbao europa league jahr ganz besondere angelegenheit finale findet mai bilbao statt",
          "spitzenspiel finish gesamten gamereport siehst spiele liga live magentasport mehr live sport geht fußball live eishockey live basketball live magentasport facebook magentasport instagram magentasport tiktok",
          "tabellenführer primera division empfängt spieltag rcd mallorca spielverlauf d olmo highlights königsklasse siehst besten highlights internationalen fußball siehst link registrieren dazn kostenlos nutzen bit ly daznforfree geht s dazn programm dazn dazn facebook besten highlights wettbewerben youtube dazn uefa champions league youtube abonnieren dazn darts youtube abonnieren dazn fightclub youtube abonnieren dazn heimat fußballs dazn sehen fans besten wettbewerbe ort uefa champions league fifa klub wm bundesliga ab erstmalig inkl legendären konferenz sowie besten internationalen ligen laliga serie a ligue darüber hinaus bietet dazn fans neben fußball breiteste beste angebot spitzensport u a besten us sport nfl nba handball ehf champions league ehf european league darts pdc dp world tour liv golf tour golf kampfsport ufc pfl größten boxkämpfen ort dazn erlebe sport live abruf geräten dazn dazn livesport streamingdienst fans erlaubt sport erleben möchten egal live hause unterwegs zeitversetzt rückblick dazn bietet sportübertragungen pro jahr beinhaltet umfangreichste sportangebot jemals einzelnen anbieter gegeben impressum",
          "subscribe sky sports football watch sky sports harry kane finally hands silverware bayern munich lift bundesliga title bid farewell thomas muller efl highlights efl cup highlights wsl highlights spfl highlights bundesliga highlights buy season shirts sky sports youtube sky sports sky sports boxing sky sports cricket sky sports darts sky sports f sky sports golf sky sports news sky sports premier league sky sports retro facebook instagram tiktok x website enquire licensing sky sports content find",
          "ufc trifft belal muhammad jack della maddalena siehst beste fightsport action boxsport ufc link registrieren dazn kostenlos nutzen bit ly daznforfree geht s dazn programm dazn dazn facebook besten highlights wettbewerben youtube dazn uefa champions league youtube abonnieren dazn darts youtube abonnieren dazn fightclub youtube abonnieren erlebe tausende sportevents hd qualität geräten dazn gibt s europäischen top fußball uefa champions league bundesliga laliga serie a ligue sowie besten us sport nfl nba fight sports darts golf vieles mehr wann willst erlebe sport live abruf geräten dazn dazn livesport streamingdienst fans erlaubt sport erleben möchten egal live hause unterwegs zeitversetzt rückblick dazn bietet sportübertragungen pro jahr beinhaltet umfangreichste sportangebot jemals einzelnen anbieter gegeben impressum",
          "pl matchday highlights chelsea premier league victory liverpool stamford bridge subscribe channel recommended playlists premier league highlights extended highlights usa tour men training chelsea new signings enzo maresca download chelsea fc official mobile app exclusive content latest updates team news launches visit chelsea football club founded chelsea football club english professional football club based fulham west london stamford bridge home club competing premier league top division english football club many successes winning five premier league titles club first major honour league championship followed fa cup first european honour cup winners cup became third english club win club world cup pride london chelsea fc one successful clubs terms overall trophies club three major european competitions twice taken crown domestically winning six league titles eight fa cups five league cups four fa community shields internationally chelsea uefa champions league uefa europa league uefa cup winners cup uefa super cup twice fifa club world cup since inception chelsea youtube channel provides access build training behind scenes moments matchday action along unseen edits player focus reece james cole palmer enzo fernandez sam kerr lauren james many channel get authentic look great club including memorable nights world class heroes peter osgood gianfranco zola frank lampard john terry didier drogba eden hazard",
          "modern champions league classic inter barcleona played one best champions league ties time serie side edged way ucl final ucl today gang reacted barcelona heartbreak alongside david beckham every bit incredible action best champions league tie ever seen stream ucl paramount watch ucl extended highlights watch ucl today thierry henry kate scott micah richards jamie carragher subscribe cbs sports golazo channels",
          "gesamten gamereport siehst spiele liga live magentasport mehr live sport geht fußball live eishockey live basketball live magentasport facebook magentasport instagram magentasport tiktok",
          "willkommen delay sports berlin youtube account möchtest teil unserer jugend melde direkt trainier b jugend c jugend geht trikot spenden kostenlose doku checkt angebote esn ab sichert maximalen rabatt code eli werbung instagram instagram delay jugend könnt delay sports berlin mitglied vergessen delay donnerstag heißt uhr upload",
          "watch every match mls season pass apple tv plays subscribe follow us tiktok instagram twitter like us facebook para español instagram twitter facebook facebook com espanol mls information mls go league official website en español",
          "harry maguire trifft nachspielzeit lyon old trafford tobt legendärer abend verlängerung utd steht tatsächlich halbfinale europa league premier league red devils läuft winkt titel saison retten athletic bilbao nico williams co bringt extra motivation finale europa league findet eigenen stadion statt uefa europa league uefa conference league matchday live rtl free tv diverse einzelspiele konferenz rtl live übertragungen highlights mehr fußball europa league gibt s rtl weitere highlights uefa europa league gibt s abonnieren vergessen folge social media kanälen instagram tiktok facebook infos uefa europa league europa league saison gehen neben deutschen teams eintracht frankfurt tsg hoffenheim weitere mannschaften start zählen hochkarätige teams tottenham hotspur olympique lyon fenerbahce galatasaray istanbul fc porto as rom manchester united athletic bilbao europa league jahr ganz besondere angelegenheit finale findet mai bilbao statt",
          "juni deutsche nationalmannschaft ersten mal titel uefa nations league holen münchen stuttgart steigt final four deutschland europameister spanien vize weltmeister frankreich portugal erinnerungen wach heim europameisterschaft vergangenen sommer nationalmannschaft fans begeisterte deutschland vier stimmungsvolle turnierwochen erlebte champions league finale borussia dortmund real madrid niclas füllkrug em quartier herzogenaurach angekommen ebenso frischgebackenen ucl sieger toni kroos antonio rüdiger neben sportlichen vorbereitung stand erste hilfe kurs gesamte team programm notfall richtig reagieren besonderen besuch sorgte gordon herbert ehemalige trainer deutschen basketball nationalmannschaft gemeinsam nba profis franz moritz wagner orlando magic camp kam testspiel ukraine nürnberg feierte maxi beier jugend esv kirchmöser debüt dfb trikot kurz darauf wurde endgültige em kader bekannt gegeben alexander nübel letzte spieler gestrichen wurde abschließenden härtetest griechenland mönchengladbach sorgte pascal groß traumtor sieg schlechte nachricht erreichte team kurz darauf aleksandar pavlović wegen akuten mandelentzündung krankenhaus rückte emre can team spaß folge insgesamt tage lang begleitete kamerateam dfb team rahmen uefa euro trainingslager testspiele turnier team heim em produktion omr frames regie führten tom häussler jonas kozinowski abonniere kanal aktiviere glocke instagram tiktok twitch facebook x bereal",
          "get first look f gameplay minutes exclusive footage across multiple tracks hosted matt gallagher alex jacques f may play days early may iconic edition f official gameplay reveal team driver selection austria reverse track miami lidar track driver radio oscar piastri podium sequence silverstone reverse track silverstone reverse pitstop bahrain lidar track suzuka lidar track melbourne lidar track wet zandvoort reverse track driver radio george russell get news conditions restrictions apply see ea com games f f game disclaimers details",
          "fc bayern saison titel holen meisterschaft gewisse genugtuung nachdem letzte saison bayer leverkusen double gewinnen konnte eigentlich bayern natürlich haus mehr saison triple ziel max eberl transfersommer nutzen kader hochglanz polieren neue große namen sollen kommen verschaffen überblick kommt transfer puzzle fc bayern intro torhüter position abwehr mittelfeld angriff outro abonnieren instagram whatsapp e mail adresse infokick bilder maxppp videos pressbox by stats perform musik epidemic sound",
          "vamos barcelona matchday",
          "hamburger sv aufgestiegen deutlichen sieg ulm brechen volksparkstadion dämme sport app channel abonnieren sport facebook sport tiktok sport instagram sport whatsapp sport bluesky sport videowelt bundesliga",
          "halbfinal hinspiel uefa champions league empfängt fc barcelona inter mailand spielverlauf m thuram d dumphries l yamal f torres d dumphries y sommer et highlights königsklasse siehst besten highlights internationalen fußball siehst link registrieren dazn kostenlos nutzen bit ly daznforfree geht s dazn programm dazn dazn facebook besten highlights wettbewerben youtube dazn uefa champions league youtube abonnieren dazn darts youtube abonnieren dazn fightclub youtube abonnieren erlebe tausende sportevents hd qualität geräten dazn gibt s europäischen top fußball uefa champions league bundesliga laliga serie a ligue sowie besten us sport nfl nba fight sports darts golf vieles mehr wann willst erlebe sport live abruf geräten dazn dazn livesport streamingdienst fans erlaubt sport erleben möchten egal live hause unterwegs zeitversetzt rückblick dazn bietet sportübertragungen pro jahr beinhaltet umfangreichste sportangebot jemals einzelnen anbieter gegeben impressum",
          "thomas müller saays good bye allianz arena emotional moment team mates fans wan na see musiala müller kane co subscribe hit bell du willst mehr von musiala müller kane co sehen abonniere uns jetzt und aktiviere die glocke quieres ver más de musiala müller kane cía suscríbete ahora activa la campana instagram tiktok facebook twitter snapchat fc bayern tv plus website fc bayern tv fc bayern newsletter",
          "spaß highlights sprint beim großen preis miami miami international autodrome lauf formel saison sky sport formel highlights xxl länge onboards team radios compilations u v m exklusiven sky sport formel kanal abonnieren sky sport app sky sport instagram sky sport tik tok",
          "spieltag laliga empfängt real valladolid fc barcelona spielverlauf i sanchez raphinha f lopez highlights königsklasse siehst besten highlights internationalen fußball siehst link registrieren dazn kostenlos nutzen bit ly daznforfree geht s dazn programm dazn dazn facebook besten highlights wettbewerben youtube dazn uefa champions league youtube abonnieren dazn darts youtube abonnieren dazn fightclub youtube abonnieren dazn heimat fußballs dazn sehen fans besten wettbewerbe ort uefa champions league fifa klub wm bundesliga ab erstmalig inkl legendären konferenz sowie besten internationalen ligen laliga serie a ligue darüber hinaus bietet dazn fans neben fußball breiteste beste angebot spitzensport u a besten us sport nfl nba handball ehf champions league ehf european league darts pdc dp world tour liv golf tour golf kampfsport ufc pfl größten boxkämpfen ort dazn erlebe sport live abruf geräten dazn dazn livesport streamingdienst fans erlaubt sport erleben möchten egal live hause unterwegs zeitversetzt rückblick dazn bietet sportübertragungen pro jahr beinhaltet umfangreichste sportangebot jemals einzelnen anbieter gegeben impressum",
          "watch live local primetime games nfl redzone nfl network plus nfl com check channels nfl mundo nfl brasil nfl uk nfl fantasy football nfl play football nfl throwback nfl films nfl network",
          "asking whole clip hamburg germany h r r etc",
          "barça barça",
          "königlichen gast beim tabellenzwöflten getafe spielverlauf a güler highlights königsklasse siehst besten highlights internationalen fußball siehst link registrieren dazn kostenlos nutzen bit ly daznforfree geht s dazn programm dazn dazn facebook besten highlights wettbewerben youtube dazn uefa champions league youtube abonnieren dazn darts youtube abonnieren dazn fightclub youtube abonnieren dazn heimat fußballs dazn sehen fans besten wettbewerbe ort uefa champions league fifa klub wm bundesliga ab erstmalig inkl legendären konferenz sowie besten internationalen ligen laliga serie a ligue darüber hinaus bietet dazn fans neben fußball breiteste beste angebot spitzensport u a besten us sport nfl nba handball ehf champions league ehf european league darts pdc dp world tour liv golf tour golf kampfsport ufc pfl größten boxkämpfen ort dazn erlebe sport live abruf geräten dazn dazn livesport streamingdienst fans erlaubt sport erleben möchten egal live hause unterwegs zeitversetzt rückblick dazn bietet sportübertragungen pro jahr beinhaltet umfangreichste sportangebot jemals einzelnen anbieter gegeben impressum",
          "barcelona vs inter milan champions league",
          "fc union vfb stuttgart lieferten tor spektakel geschichtsbücher richtig freuen konnten darüber berliner punktgewinn beim ersten halbzeit turbulenten rekordträchtigen bundesliga heimspiel stadion alten försterei bescherte union vorzeitigen verbleib fußball bundesliga gibt highlights bundesliga uefa champions league dfb pokals highlights ausgewählter partien bundesliga frauen bundesliga abonniert kanal brodelt vierthöchsten deutschen spielklasse traditionsklubs regionalliga nordost vehement reform unfairen aufstiegsregelung einfordern gerät westen verein finanzielle schieflage teils grotesken auswüchsen beim fc düren spielbetrieb mithilfe spieler castings aufrechterhalten neuen folge bolzplatz schauen chaos genauer sportstudio instagram sportstudio tiktok sportstudio whatsapp gastgeber legten bundesliga heimspiel blitzstart andrej ilic staubte kurzer distanz ab eisernen bemüht schwaben räume rauben blieben höchst gefährlich zweiten treffer diogo leite knappe viertelstunde später schien große union party sicher wurde erst richtig wild meldete stuttgart deniz undavs fernschuss ersten treffer seit januar zurück enzo millot legte schnell gefühl leopold querfeld setzte drauf ball ansatzlos metern tor drosch spätestens rannten beide teams rücksicht verluste spiel eskalierte komplett ersten halbzeit quasi abwehrarbeit existierte belohnten jeff chabot chris führich immer stärker drückenden vfb führung wobei ilic partie zweiten treffer diesmal per kopf nächste wendung verlieh bundesliga geschichte schrieb acht tore halbzeit gab bundesliga nie halbzeit schienen steffen baumgart vfb coach sebastian hoeneß richtigen worte gefunden abwehrreihen standen sicherer vergleich teils vogelwilden zuständen abschnitt eins direktes resultat flachte partie ab großchancen gab kaum distanzschuss unions benedict hollerbach flog klar tor aufstellungen fc union berlin rönnow doekhi querfeld leite trimmel khedira rothe haberer bénes schäfer tousart ilic ljubicic hollerbach skarke trainer steffen baumgart vfb stuttgart nübel stergiou stenzel jeltsch chabot hendriks mittelstädt karazor stiller millot undav führich bruun larsen demirovi trainer sebastian hoeneß schiedsrichter tobias stieler sölden kommentator gari paubandt",
          "enjoy highlights semi final al nassr ksa kawasaki frontale jpn afc champions league elite finals jeddah goals ito mane ozeki ienaga yahya subscribe home asian football download afc live app follow club action one place follow afc champions league elite action official platforms facebook instagram tiktok x x arabic x japanese",
          "subscribe sky sports football watch sky sports bayern munich forward harry kane gives first interview major title winner lifting bundesliga trophy efl highlights efl cup highlights wsl highlights spfl highlights bundesliga highlights buy season shirts sky sports youtube sky sports sky sports boxing sky sports cricket sky sports darts sky sports f sky sports golf sky sports news sky sports premier league sky sports retro facebook instagram tiktok x website enquire licensing sky sports content find",
          "barça",
          "manchster united empfängt flutlicht old trafford olympique lyon rückspiel viertelfinales europa league hinspiel trennten beiden teams spannenden spiel last minute treffer youngstar ryan cherki findet aufgrund patzers united torwart andre onana ziel netz sorgt dadurch offenes rückspiel manchester reds ruben amorim offensivstärke rund bruno fernandes alejandro garnacho eigenen fans zuhause verzaubern großen schritt richtung europa league titel live übertragungen highlights mehr fußball rtl kanal abonnieren thumbnail imago",
          "spaß highlights spiels fc arsenal paris saint germain halbfinale uefa champions league prime video tore dembele highlights analysen gibt prime video mehr verpassen amazon prime video instagram tiktok",
          "vorstand fc köln zustimmung gemeinsamen ausschusses entschieden geschäftsführer sport christian keller cheftrainer gerhard struber sofortiger wirkung aufgaben entbinden thomas kessler übernimmt sportdirektor sportliche leitung neuer cheftrainer friedhelm funkel erhält vertrag ende laufenden spielzeit heutigen pressekonferenz sprechen cheftrainer friedhelm funkel sportdirektor thomas kessler präsident werner wolf presse pk livestream präsentiert __________ offiziellen fc kanäle findet instagram facebook twitter homepage fanshop",
          "spaß highlights qualifying beim großen preis miami miami international autodrome lauf formel saison sky sport formel highlights xxl länge onboards team radios compilations u v m exklusiven sky sport formel kanal abonnieren sky sport app sky sport instagram sky sport tik tok",
          "goin superbowl like abra oo na na category sports spells",
          "juni deutsche nationalmannschaft ersten mal titel uefa nations league holen münchen stuttgart steigt final four deutschland europameister spanien vize weltmeister frankreich portugal erinnerungen wach heim europameisterschaft vergangenen sommer nationalmannschaft fans begeisterte deutschland vier stimmungsvolle turnierwochen erlebte exklusive dokumentation team heim em nimmt reise deutschen nationalmannschaft rund europameisterschaft deutschland sommer ersten folge blicken zurück anfänge cheftrainer julian nagelsmann türkei österreich länderspiele frankreich niederlande nähern start em beginn vorbereitung weimarer land teambuilding einheit sek ankunft herzogenaurach spaß ersten folge insgesamt tage lang begleitete kamerateam dfb team rahmen uefa euro trainingslager testspiele turnier team heim em produktion omr frames regie führten tom häussler jonas kozinowski abonniere kanal aktiviere glocke instagram tiktok twitch facebook x bereal",
          "spieltag primeira liga treffen benfica lissabon sporting lissabon aufeinander kommentator jörg steiger spielverlauf trincao kerem akturkoglu sportdigital fussball social media facebook instagram tiktok twitter kannst sportdigital fussball empfangen empfangswege sportdigital fussball sportdigital fussball live stream überall dabei meistens hd zweikanalton deutschland österreich schweiz sportdigital fussball pay tv paketen kabel iptv anbieter sowie satellit web app empfangbar wann immer willst sportdigital fussball live fußball welt rund uhr sportdigital fussball bietet internationalen spitzenfußball wettbewerben kontinenten kannst rund uhr internationalen top fußball ligen live genießen zeigen live spiele vielen unterschiedlichen zeitzonen welt morgens fußball asien mittags fußball zentral europa nachmittags abends west europa sowie nachts mittel südamerika sportdigital fussball ligen wettbewerbe überblick a league australien afc champions league afc asien cup afc u asien cup afc wm qualifikation asien caf afrika cup caf wm qualifikation afrika concacaf gold cup nord mittelamerika conmebol copa américa südamerika copa del rey supercopa spanien ekstraklasa polen eredivisie knvb beker niederlande chance liga tschechien j league japan liga profesional copa de la liga profesional argentinien primeira liga portugal scottish premiership schottland saudi pro league saudi arabien lfctv liverpool fc city tv manchester city zeigt sportdigital fussball zudem wöchentlich re live spiele hintergründe beider englischen renommier clubs außerdem bieten menge hochglanz magazine dokus rund internationalen fußball sodass wertvolle insights welt internationalen fußball megastars erhältst darüber hinaus bieten woche scooore verschiedene highlight shows internationalen topligen sowie wöchentliches round up wirklich wichtigen themen welt fußballs",
          "checkt kostenlose girokonto trade republic ab schiedsrichter kämpfen respekt la liga seit zeit hart kritisiert insbesondere real madrid königlichen bezeichnen schiris korrupt seien fair objektiv tiefpunkt gab s finale copa del rey barca ricardo de burgos bengoetxea bereits spiel hart attackiert wurde grund genug skandalösen fall blicken insbesondere rolle antonio rüdiger müssen beleuchten führungsspieler wichtiger teil dfb teams verhalten konsequenzen geben ja hoch sollen real madrid scheint schiedsrichtern besessen auslöser skandal wenige jahre zurückreicht fc barcelona spielt große rolle immerhin wurde fall negreira heute vollständig aufgeklärt ehemalige schiri vize boss mio eur katalanen erhalten unklar heute wofür genau seitdem wittert real ecken enden bestechung korruption februar bereits ermittlungen schiri jose luis munuera montero führte kam jedoch heraus interessenkonflikt gibt außerdem sprechen ber rolle realtv vereinssender gezielt schiris verunglimpft konsequenzen verein reagieren eigenen spieler schiris viele themen spaß beim video intro spanische schiedsrichter korrupt real vs barca copa del rey real wirklich benachteiligt profi schiris spanien ändern social kanäle wichtig trikots videos getragen spiegeln sympathien wider dient lediglich aktuelle thema untermalen",
          null
         ],
         "marker": {
          "opacity": 0.5,
          "size": 5
         },
         "mode": "markers+text",
         "name": "8_league_dazn_highlights",
         "text": [
          "",
          "",
          "",
          "",
          "",
          "",
          "",
          "",
          "",
          "",
          "",
          "",
          "",
          "",
          "",
          "",
          "",
          "",
          "",
          "",
          "",
          "",
          "",
          "",
          "",
          "",
          "",
          "",
          "",
          "",
          "",
          "",
          "",
          "",
          "",
          "",
          "",
          "",
          "",
          "",
          "",
          "",
          "",
          "",
          "8_league_dazn_highlights"
         ],
         "textfont": {
          "size": 12
         },
         "type": "scattergl",
         "x": {
          "bdata": "TsheQbqnX0FNWV5BDGpbQa2yWkEhtl5BkzBgQW7oX0Gby1tBdLleQQWdW0E3yV5BIexfQTgZX0HxYVxBeHNaQX9BXUHJJ2BBL5teQcMPWEH8bVdB9ElbQW6IWkGhLl9BNsdZQXHuWEENvF5BvN1cQazQWEGcsFtB+mReQWd0XUH+ZF1BeBNbQaC6WkEz4FtBR7RfQYWuWkFjmlpB5wlZQcD3WkGiB19B49BeQVkEX0GhvVxB",
          "dtype": "f4"
         },
         "y": {
          "bdata": "DTcqwNa8KsDqeRzAMzsNwFmyLcA1KS3AjOomwO3NKsAIyTzANHMvwE2oMsBffS/Ah+YowCSHJMCudznAN+FAwIZUL8AHnCrAuuktwD5sNMA5hR7AfRsLwA8dNMA0BS/A7xAmwNDHMsCW2S7AkQwzwNELIsBXKw7AZyEywM9gFsB6uDXA2aAywEDwMMCTcQ/AeUIqwOuDLcBl9UDAMCgxwPKdOcB31C7Aza8xwIUILcCScivA",
          "dtype": "f4"
         }
        },
        {
         "hoverinfo": "text",
         "hovertext": [
          "الرد على",
          "نقولها منتالي",
          "أنا شوري على الزلم يصبح قرار",
          "بحب الحب الي جمعنا",
          "يا اللي انت فاكر ان انت فراقت",
          "حل مشكلة المتابعين قدر تعبي بلايك",
          "جهة اتصالك",
          "ذكر ذلك الرجال",
          "eviticus niv foreigner resides among land mistreat foreigner residing among must treated native born love foreigners egypt mom cool dad melting edit edgy sorry",
          "نجمت الهلس عض بشراسه",
          "رديني لعيونك",
          "اليوم ز ففت من بيت الأب لبيت الزوج قصة الغياب هذا كله أني قبل عرسي قدمت على فيزا الدراسة من جديد على خاطر بدلت الجامعة من بريستول ل لندن كنت نتصور أنو بعد العرس راح نبدأ حياة جديدة كيما كنت نحلم الفيزا ترفضت بالرغم إني طالبة من قبل ووضعي مثالي في uk الرفض كان بسبب ناس ما يخدموش خدمتهم بضمير كيما يلزم وجامعة كل همها الدراهم و مرة بسبب محامي لا مبالي دفعت الثمن غالي خسرت عام من قرايتي وخسرت فرحة أيام العسل كنت حابة نعيشها مع راجلي و نسافر معاه بعد عرسنا و نبداو الحياة الزوجية سوا و اضطريت نودعه بعد العرس مباشرة بيني و بينكن والله صعب عروس تودع زوجها بعد العرس دايركت",
          "ويبقى السؤال",
          "في وجوهنا يحبونا وفي ضهرنا يسبونا",
          "انا جامي نسمح ف عشقي",
          "بسبب التزاحم الشديد في الطوابير أطفال يبكون ويصرخون في غزة بينما أجسادهم الصغيرة تكافح للحصول على بعض الطعام وسط جوع يعيشه سكان القطاع",
          "khaled l artiste donya _دنيا",
          "أرح سمعك وقلبك",
          "feel sorry afghan women hope one day get rights",
          "اقوى تيم حاليا تيم الوشق المصري",
          "بابا هاتلي فانوس اهلا رمضان المنشد انس سيد المنشد احمد حسن والمبدعة ريتال",
          "لا اريد من الحياة ان تصبح سهلة اريد من الله ان يجعلني قويا لمواجهتها",
          "راحه نفسيه",
          "ولاد الشمس مزنوقين في بااكو elmufti samii desouky",
          "إذا كنت من الخليج وتفكر بالزواج هذا الفيديو ممكن يغير حياتك",
          "انسان عينها عليا",
          "오랜만에 돌아온",
          "اكتب تاريخ ميلادك يمكن تلاقي اخوك",
          "بس قولو ما شاء الله",
          "مریم نواز سامنے آ جائے تو ہم چینل بدل دیتے ہیں ہم اسے دیکھنا ہی نہیں چاہتے",
          "على الصقر لا تقرب ابعد يا غراب",
          "كوردستان عفرين",
          "اوضاع تحير فينا",
          "لا يؤلمني التقدم فهو أمر محتوم إنما تؤامني بعض progress hurt inevitable",
          "الدنيا عامله معايا الغلط حفله تنكريه",
          "انا لا اتغير على احد ولا احقد على احد",
          "حل مشكلة المتابعين",
          "دعاء شوال حمزة بوديب دعاء شهر شوال حمزة بوديب دعاء يريح القلوب حمزة بوديب اللهم امين يارب العالمين",
          "يجبل ورافض في الوقوع حملك عليا",
          "يراودني خيالك",
          "اشترك في قناة حسين الجسمي الرسمية حسين الجسمي فستانك الأبيض استمعوا على جميع المنصات كلمات أمير طعيمه الحان هشام جمال توزيع مادي ميكساچ بيشوي مجدي الكلمات خطوه ورا خطوه بتمشيهـا دي اللحظه اللي انا مستنيها والارض اللي بتمشي فوقيها مفيش قدك يا حبيبتي عليها خطوة ورا خطوة بقربلك جايلك علشان افرح قلبك وعمري اللي فات قبل م اقابلك مش بحسب ايامه من قبلك فستانك الابيض اللي هياخد منك حتــــه وعشان اليوم ده رسمت عملت انا مليون خطه والناس بتغني و الدنيا بتعزف زفة والمزيكا تعلى ومعاها بتعلى السقفه والناس بتغني و الدنيا بتعزف زفة والمزيكا تعلى ومعاها بتعلى السقفه حبيبتي و عمري و اميرتي يا بكرة اللي ماددلي ايديه يا قصري و بيتي و جزيرتي وحلم قدرت اوصل ليه و قالوا الشعر عن ليلى و كتبوا في سحرها دواوين و انا و ليلى بقينا لبعض في دنيتنا سوا عايشين فستانك الابيض اللي هياخد منك حتــــه وعشان اليوم ده رسمت عملت انا مليون خطه والناس بتغني و الدنيا بتعزف زفة والمزيكا تعلى ومعاها بتعلى السقفه والناس بتغني و الدنيا بتعزف زفة والمزيكا تعلى ومعاها بتعلى السقفه خطوه ورا خطوه بنمشيها دي اللحظه اللي انا مستنيها hussain al jassmi rights reserved ـــــــــــــ official website official itunes official itunes connect official twitter official instagram official facebook official youtube official soundcloud",
          "اذا كان الله معك",
          "দ র থ ক আম ক ক ছ ম ন ষ দ খত প র ন ক ন ত স মন এস জড য ধর বল আপ আম আপন র ব গ ফ য ন",
          null
         ],
         "marker": {
          "opacity": 0.5,
          "size": 5
         },
         "mode": "markers+text",
         "name": "9_في_على_من",
         "text": [
          "",
          "",
          "",
          "",
          "",
          "",
          "",
          "",
          "",
          "",
          "",
          "",
          "",
          "",
          "",
          "",
          "",
          "",
          "",
          "",
          "",
          "",
          "",
          "",
          "",
          "",
          "",
          "",
          "",
          "",
          "",
          "",
          "",
          "",
          "",
          "",
          "",
          "",
          "",
          "",
          "",
          "",
          "",
          "9_في_على_من"
         ],
         "textfont": {
          "size": 12
         },
         "type": "scattergl",
         "x": {
          "bdata": "TFtiQddiYUEocWFBd4xgQWhBYkFyzmBBXEtfQVdgX0HCJGFBn8NhQW1QYEHcvl5B7bBhQfs6YkECk2FBiYlfQSWqYEH5nGBBC3pdQdSVYUEjt19B8lVgQUELYEHSFGFBxeVfQddZYkE0AmNBvwdhQcb5X0FUOmBBxAxiQY4sYkGbeWJB/HdhQdkEYUHw32FBA5ZhQXM4X0FllmFBT65gQW89XkEhwWFBbJxeQajRYEE=",
          "dtype": "f4"
         },
         "y": {
          "bdata": "a2AxQBq0LUCmIy5Ad1IqQHQyMUDIuytAvzklQP3FJUBe/CxAfnEvQM5oKUBWbCNA7ecuQPNlMUACnS5Au9wmQKkeKkCOgipAFVAeQEMEL0AqgSdAVf0pQIZoKEC4zixAzEEoQDm3MUBtsTNArJIsQLchKEDwrSlAbZIwQCdSMUA1ezJAKI8uQOGkLECnNC9A5p4uQDSNJUCuwS5AVWEqQIBIIUDVqi9AKyAjQCydK0A=",
          "dtype": "f4"
         }
        },
        {
         "hoverinfo": "text",
         "hovertext": [
          "t z",
          "t z",
          "t z",
          "t z",
          "officially fallen victim temu got",
          "t z",
          "t z",
          "t z",
          "t z",
          "t z",
          "t z",
          "część",
          "t z",
          "część",
          "t z",
          "t z",
          "t z",
          "t z",
          "t z",
          "t z",
          "passing tek",
          "część",
          "zsá",
          "sa tête",
          "tecnologia",
          "t z",
          "t z",
          "t z",
          "t z",
          "t z",
          "t z",
          "t z",
          "t z",
          "t z",
          "im typpa girl",
          "t z",
          "t z",
          "t z",
          "tg akimbo_",
          "t z",
          "t z",
          "t z",
          "bts",
          null
         ],
         "marker": {
          "opacity": 0.5,
          "size": 5
         },
         "mode": "markers+text",
         "name": "10_część_tecnologia_tête",
         "text": [
          "",
          "",
          "",
          "",
          "",
          "",
          "",
          "",
          "",
          "",
          "",
          "",
          "",
          "",
          "",
          "",
          "",
          "",
          "",
          "",
          "",
          "",
          "",
          "",
          "",
          "",
          "",
          "",
          "",
          "",
          "",
          "",
          "",
          "",
          "",
          "",
          "",
          "",
          "",
          "",
          "",
          "",
          "",
          "10_część_tecnologia_tête"
         ],
         "textfont": {
          "size": 12
         },
         "type": "scattergl",
         "x": {
          "bdata": "zApMQQsmTEGsJkxB+25MQXHMJUEH+ktBqY1MQXA8TEF760tBXAJMQWAgTEFIyktBV0lMQc6LS0HtM0xBU8RLQaokTEEhlkxBZblLQbpVTEHcVCVBv2FLQRQpTUG34CVBsV1KQW5tS0EuwkxBh15MQbRpTEHchEtBuFNMQf30S0GS/ktBBhZMQWlXTEH7xExBdG9LQTWvTEGnbydBI2JMQVJ0TUEqRkxB63sXQU9fR0E=",
          "dtype": "f4"
         },
         "y": {
          "bdata": "FWsNQQaQDUH5kw1Bod0NQZVZZD//uw1B5fkNQU2KDUEhSw1BC14NQUeGDUHEKhBBOLwNQfAdEEHYlA1BBDINQe+TDUEoSQ1BVxQNQeC/DUHClWA/o5AQQa4+DUFl8GI/dV4LQcOSDkGXCA5BXYUNQR67DUH/vAxBoaoNQQ5MDUGNYw1B+GwNQdcuDUEJPw1BP80MQX8FDkH1Plk/grgNQat/DkFPkQ1BmiuLvjne/EA=",
          "dtype": "f4"
         }
        },
        {
         "hoverinfo": "text",
         "hovertext": [
          "act game started get bit dificult thought late game grind however still loved every second issue became fights started taking min complete normal enemies sponges thought good let push forward paid attention thing always kept popping picto learned wtf mean googled spend lumina say wtf hit played hours game pictos per character single lumina learned many fights wished character could damage many fights lost oh well lesson make sure carefully read tutorial screen enjoy game",
          "achieving peace team effort season streaming august max max max culture defining entertainment service every mood variety genres include favorite series movies iconic brands treasured franchises delivers irresistible stories every time reuniting life long favorites uncovering new ones discovered yet something every moment every feeling every iconic series award winning movies fresh originals family favorites featuring worlds harry potter dc universe hbo discover best entertainment every mood subscribe max get max follow max follow max youtube follow max instagram follow max tiktok follow max twitter follow max facebook",
          "bask springtime aura enjoy cherry blossom season grand hub festival accord blossomdance seasonal event taking place monster hunter wilds limited time join festivities earn new free hunter palico layered armor well new seikret decoration event runs april may pdt april may bst join hunt official website japanese french italian german spanish polish brazilian portuguese traditional chinese simplified chinese korean monster hunter wilds monster hunter wilds next generation acclaimed monster hunter series monster hunter protecting balance ecosystem hunting monsters world dynamic ever changing environments use resources gain hunts craft ever powerful weapons armor quest unravel mysteries new lands experience evolved action improved immersion series monster hunter wilds available ps xbox series x pc steam capcom co ltd rights reserved",
          "driving back imperial invasion take every blaster ship disposal unless feel strong pull dark side drop fortnite galactic battle launching today play fortnite battle royale completely free player pvp mode one giant map battle bus last one standing wins esrb rating teen violence instagram twitter facebook tiktok learn",
          "new star wars themed season arrives soon drop fortnite galactic battle may play fortnite battle royale completely free player pvp mode one giant map battle bus last one standing wins esrb rating teen violence instagram twitter facebook tiktok learn",
          "suits best show original content",
          "take part battle high seas adorning new hero skins samurai king kyudo queen grand monk royal ninja cyclone prince choose side legendary tale salty sea winds even saltier sea monsters rolling village get aboard high seas scenery bring ancient battle life base follow us socials twitter instagram facebook tiktok attack defend strategize download free mobile devices supr cl playclashofclans rage filled barbarians glorious mustaches pyromaniac wizards raise army lead clan victory build village fend raiders battle millions players worldwide forge powerful clan others destroy enemy clans please note clash clans free download play however game items also purchased real money also terms service privacy policy must least years age play download clash clans network connection also required features build village unbeatable fortress raise army barbarians archers hog riders wizards dragons mighty fighters battle players worldwide take trophies join together players form ultimate clan fight rival clans epic clan wars build unique units multiple levels upgrades discover favorite attacking army countless combinations troops spells heroes clan reinforcements defend village multitude cannons towers mortars bombs traps walls fight goblin king campaign realm chief problems visit privacy policy terms service parent guide",
          "star wars season fortnite secret locations added",
          "cuz get played healer last games fuck disappointing played c invis jeff know times lost worst feeling ever put k heals people arent fucking thing would want support shitty team least play vanguard get kills usually since using mostly van guar last season healer watch shitty ness unfold even keep alive continue shitty would anyone wan na edit glad everyone took well lol lot replies actually interesting said best healer hopefully get better",
          "unknown beckons join us may pt reveal edge fate upcoming year destiny follow destiny facebook twitter instagram discord follow bungie facebook twitter instagram dive free play world destiny experience responsive first person shooter combat explore mysteries solar system unleash elemental abilities powerful enemies create guardian collect unique weapons armor gear customize look playstyle experience destiny cinematic story alone friends join guardians challenging co op missions compete variety pvp modes",
          "pwinsider sabu passes away mike johnson pm pwinsider com extremely saddened report former ecw world champion sabu one vibrant groundbreaking professional wrestlers era sabu real name terry brunk passed away working additional details time sabu worked final match wrestlemania weekend las vegas defeating joey janela appeared last weekend tri state wrestling alliance reunion show convention ecw arena appears final public appearance writing lot life career sabu behalf everyone associated pwinsider com like send deepest condolences sabu family friend fans",
          "available ps october learn discover bold new story warrior japan mission vengeance set years critically acclaimed ghost tsushima ghost yōtei standalone experience set rural japan story follows haunted lone mercenary named atsu thirsty revenge travels beautiful rugged landscapes northern japan hunting killed family many years earlier rated mature",
          "go kvatch whenever want ignore main mission go fighter guild mage anything kill entire imperial city game world fun way suits best",
          "smith showed legend showed aura farm west philly insta feed anything possible smith new album based true story drops friday ers deluna",
          "recent support strike going marvel rivals wanted share experience really shows many support players speaking enough right necros outright said stream hates support players called idiots morons kind statement coming big voice community real damage streamers get opt influence following say matters community seeing consequences recent match playing support bad nearly k healing two deaths damage blocked dps k less total damage dealt still someone voice chat told necros right support players brain dead exact problem mindset validated amplified makes playing role feel increasingly thankless clear support players playing support lack mechanical skill play dps play dps like mechanically easy difficult heroes every role reason lot us choose support actually fulfilling fun us keep teammate alive set someone else kill us fun chasing elims asking glorified seen hardest role think want basic respect tiring called brain dead worthless stats solid playing role way meant played honestly players show appreciation usually tanks especially non dive frontline tanks know go seconds without healing lot support hate seems come dps mains usually get health packs mobility someone plays dps tank take second think support team really problem easy target game work without teamwork support getting dove lot stay protect keeping support alive preventing enemy teams divers getting kills still great value team",
          "today special state play presentation creative director graeme timmins senior project producer anthony nicholson showed deepest ever look borderlands explosive carnage filled gameplay including new vault hunters wildest weapons ever new traversal mechanics seamless new planet explore break free borderlands sep borderlands mayhem fueled looter shooter jam packed billions weapons outrageous enemies intense co op action explore dangerous hidden planet kairos one four new badass vault hunters break free oppressive timekeeper ruthless dictator dominates masses high world altering catastrophe threatens perfect order unleashing mayhem across planet ignite resistance blast way mechanical monstrosities bloodthirsty bandits vicious beasts new traversal mechanics like double jumping gliding dodging fixed point grappling fight solo co op three players immense sci fi adventure packed free form combat exploration pulse pounding boss fights infinitely varied loot drops eclectic cast unforgettable characters new old may contain content inappropriate children visit www esrb org rating information",
          "comes new challenger overwatch x street fighter take fighting skills next level legendary characters street fighter square overwatch master iconic moves discover martial artist overwatch x street fighter arrives game may overwatch free play everyone console pc capcom _ follow latest news instagram tiktok twitter facebook",
          "x instagram tiktok facebook enter arena build battle deck outsmart enemy fast real time battles creators clash clans comes real time multiplayer battle game starring favourite clash characters start battling players around world become master strategy deck building choose unique cards battle deck head arena battle place cards right knock enemy king princesses towers strategic fast paced match collect upgrade cards hog rider collect upgrade cards featuring clash clans troops spells defences know love many others win battles progress new arenas unlock powerful new cards collection battle way top battle way league global tournaments match best players world compete glory rewards seasonal events unlock new seasonal items like tower skins emotes powerful magic items season pass participate fun challenges put skills test join clan go war join form clan players share cards battle clan wars big rewards see arena",
          "war see one fought shadows war beneath war command elite squad gritty authentic story set twilight clone wars star wars zero company single player turn based tactics game developed bit reactor collaboration respawn entertainment lucasfilm games step shoes hawks former republic officer leads zero company unconventional outfit professionals hire hailing across galaxy hawks zero company recruited operation pits emerging threat consume galaxy left unchecked succeed hawks lead team uneasy allies must set aside differences overcome nearly impossible odds star wars zero company launches pc playstation xbox series x wishlist follow us x facebook eastarwars instagram threads ea starwars tiktok",
          "together remember season world champion mvp beloved player maciej shushei ratuszniak honor legacy players unlock shushei forever title free additionally play games gragas unlock fnatic gragas skin thank maciej link",
          "dream vs daquavis pvp duel pvp challenge first challenge duel next skills challenge win follow socials twitter instagram snapchat daquavis starting training arc beginning thank everyone helped train last week duel much training necessary beat hunters beating daquavis main focus",
          "new wasabi powers new skins balance changes kairostime subscribe brawl stars creator code join become channel member video going cover new wasabi powers new skins costs animations well balance changes even details credit cost ultra legendary brawlers business email kairos follow discord server twitter threads twitch instagram facebook page tiktok partners set apart rest check samsung galaxy level game tribe gaming youtube twitter discord instagram tiktok epic support youtube sponsorship perks patreon sponsorship perks twitch subscriber perks kairostime merch brawl stars playlists brawl stars olympics competitive tier list mini games challenges let play lex pro interviews strategy guides brawler guides thumbnail video may contain artwork content affiliated endorsed sponsored specifically approved supercell supercell responsible information see supercell fan content policy www supercell com fan content policy",
          "grow squad loot bosses bust friends collect evolve star supercell characters clash clans brawl stars hay day clash royale boom beach play squad busters miss updates follow channels",
          "john cena undisputed wwe title cody rhodes wrestlemania time world champion gets taken viper catch wwe action netflix peacock usa network cw network watch wwe watch wwe netflix watch wwe peacock follow wwe exciting action subscribe wwe youtube check wwe com news updates find latest superstar gear wweshop check channels wwe vault wwe español wwe nxt wcw upupdowndown celtic warrior workouts wwe music wwe social media x facebook instagram tiktok",
          "every great champion stands silent sacrifices another",
          "galactic reckoning coming heroes ready strike back assault led emperor palpatine shadows island fate hangs balance draw lightsaber ready blaster may fortnite galactic battle play fortnite battle royale completely free player pvp mode one giant map battle bus last one standing wins esrb rating teen violence instagram twitter facebook tiktok learn",
          "go dive deeper topics free day trial premium subscription video sponsored brilliant thanks lot support next limited pin dropping soon subscribe newsletter find first sources reading happens time machine breaks end stranded millions years ago landed world nothing like today facing deadly storms unbearable heat breathing toxic air survive long enough make back home channels german spanish french portuguese arabic hindi japanese korean support us make living would pleasure support us get products designed join patreon bird army discussions social media instagram tiktok reddit discord twitter bluesky facebook newsletter voice kurzgesagt voice steve taylor music minutes kurzgesagt soundtracks epic mountain spotify soundcloud bandcamp youtube facebook soundtrack video soundcloud bandcamp want help us caption video please send subtitles subtitle find info subtitle files work youtube thank patreon bird army many thanks wonderful patreons support us every month made video possible thomas heffernan lily allan curtis gick patrick bonner mee chan benno inma reis erin mckeehan danielle ritchie fernando gámez losada krunk owen smith alex bouez david mccormack kévain g brentd katie garber kevin aluwi icyberg boris cobaltergeist matzuta jaken tor tina martinez thenocturnist arjun singh sidney story manliorn tnt tv gaming offbeatbunny haezan marcin gajda jindřich vlášek",
          "promos great doubt character feels promos hit much every week repetitive cena cutting promo opponent successfully putting sleep one finisher start ugly pattern travis scott interferes backlash something good cena heel turn story could much better instead like ruin wrestling remove part wwe legacy makes zero sense rock wwe legend tko board member team cena given goal surely favorable rock wrestling ruined right saw first signs potentially great final run cena declared royal rumble promo singles match long time past prime felt like confidence beat current main event guy felt hopeless desperate time story promising following rr interview declaration ec showed desperation ec match booked perfectly went last capitalized advantageous situation win increased confidence without rock sell soul bullshit build could promos cena wanting top one last time feeling glory days retiring undefeated final title run vacating title technically still babyface every week cena could booked sound increasingly desperate heelish saying need validation tired feeling weak inferior front modern generation push absolute limit since losing option need get rid insecurity feel powerful whatever takes win heel turn could happened mania following rest arc could cena delusional could justify actions saying would thing position nothing wrong gon na leave soon anyway big deal getting hold title temporarily means necessary could probably face old peers like randy punk aj even r truth would try convince could much better ruining legacy right exit",
          "every game console matter well poorly sold gon na disappointments thrown especially said disappointments came st party developers big candidates based purchases starting biggest letdown mario strikers battle league frantically buying game play multiplayer matches friends realized terrible mistake made chewing single player content matter days nothing game besides regular soccer matches online abysmal amount content available launch even laughable sequel thought perception mario strikers whole would ruined forever went ahead booted strikers charged wii nope game holds incredibly well bad sequel around mario golf super rush speaking bad sequels super rush decided simplify golfing mechanics point fun play someone adored ds game mario golf world tour packed content modes unlockables worthwhile paid dlc top super rush felt like playing catch free updates animal crossing fans felt new horizons first released wait months features already available ds predecessor yikes splatoon personal pick general consensus really got splatoon splatoon time third game came around new modes online disconnects either first two games experience longer grind unlockables could rival modern day hero shooter call old missed pick play nature splatoon get splatoon also fact sold first game hubworld back paid dlc utter nonsense",
          "gaslight district gothic crime drama following undead family cheat lie steal way survival long world ended help us greenlight full season consider getting limited edition merch created nick szopko amazing glitch team",
          "play flex wait people pick characters pick mine shit remember last time solo tank even someone picks tank selection screen always swap join tank guys understand unfun go emma thor beating shit front lines shit happening gm lobbies crazy tank players",
          "ultra legendary brawler rarity new brawlers deadly geisha terrible karaoke singer brawl moba new hypercharges new skins new game modes new event free gift download subscribe",
          "vice city usa jason lucia always known deck stacked easy score goes wrong find darkest side sunniest place america middle criminal conspiracy stretching across state leonida forced rely ever want make alive explore vice city beyond trailer captured entirely game playstation comprised equal parts gameplay cutscenes song hot together artist pointer sisters written sharon robinson published universal music corp behalf buchu music robinhill music ascap courtesy rca records division sony music entertainment",
          null
         ],
         "marker": {
          "opacity": 0.5,
          "size": 5
         },
         "mode": "markers+text",
         "name": "11_battle_new_wwe",
         "text": [
          "",
          "",
          "",
          "",
          "",
          "",
          "",
          "",
          "",
          "",
          "",
          "",
          "",
          "",
          "",
          "",
          "",
          "",
          "",
          "",
          "",
          "",
          "",
          "",
          "",
          "",
          "",
          "",
          "",
          "",
          "",
          "",
          "",
          "11_battle_new_wwe"
         ],
         "textfont": {
          "size": 12
         },
         "type": "scattergl",
         "x": {
          "bdata": "5GsMQWqEC0HDihRBCAMRQVY5EUHtCgtBdy8dQX4nEUHe3Q1Bdr0SQQS+F0GbbRRBvAcQQdqfF0GEVhBBSkASQdraEUEXZxFBRO8RQR/SFUFKzxJBf2AWQTPPEUFaPxdBiaERQcGREUFzZCBBfC0XQcFfDEEx3hVBNBgQQXqYE0Fg7h1BJD4TQQ==",
          "dtype": "f4"
         },
         "y": {
          "bdata": "ouBvwF3OXcAvdWjAoIlswCYMb8BzuF7ACBhswHhbbcAZx3HAVk1rwHr0f8DHdHHAJEFxwI+pdMDYWHLAR49rwNGYccD3027AmFxvwCGOcsA2yXPAWdh4wJSxcMB5r3/ADd14wOzrcMBXeWvAozF/wAeOccCs52vAQEJywClObsDWh23AxVlwwA==",
          "dtype": "f4"
         }
        },
        {
         "hoverinfo": "text",
         "hovertext": [
          "paulinka wróciła",
          "bez problemu dźwigam też ciężar kampanii",
          "wszystkiego najlepszego dla pani doroty",
          "wyobraź sobie że idziesz na zajęcia jesteś świadkiem czego takiego",
          "w każdym z nas są dwa wilki",
          "kto jeździ z dareczka drivereczką w cyrku się nie śmieje jazdy totu l współpraca barterowa",
          "chcesz namówić bliską osobę głosowania na mnie pokaż mu wideo wymieniam powodów dla których warto maja oddać na mnie głos",
          "probability theory tanktoon ranzar",
          "postanowil ze napisze tevo posta czysto z poczucia wielkiej frustracji jestem wkurwiona jako kobieta zyjaca w polsce kobieta mloda pracujaca studiujaca pratnerka dzisiaj musialam wykupic recepte na tabletke dzien po zdarzyl sie ten kryzysowy moment strach przd niechciana ciaza zadzwonilam wiec lekarza jestem ubezpieczona mam opcje telekonsultacji z lekarzem internista wiec ja wybralam oczywiscie ze zostalam zjechana od gory dolu za ze chce zabic moje dziecko przeciez morderstwo powinnam sie zastanowic nad swoim zyciem ok rozlaczylam sie dzwonie kolejnego lekarza tym razem z powodzeniem ale tez jakby slyszac ten dzwiek irytqcji w cudzym glosie coz przynajmniej dostalam w koncu po co przyszlam pakuje sie wiec z chlopem auta lekko w panice bo minelo juz troche czasu jak wiemy kazda godzina jest na wage zlota przy okazji dowiaduje sie ze moje apteki w ktorych sa farmaceuci moga wystawic mi recepte na tabletke dzien po znikna tak program pilotazowy ktory jest wg mnie jedna z niewielu rzeczy w tym chorym kraju ktore jeszcze jakos dzialaly zniknie czerwiec koniec refundacji tego programu ja juz pomijam wszystko inne co jest nie tak w naszym panstwie ale zeby nawet nie mozna bylo zadbac swoje zdrowie swoja przyszlosc bo banda idiotow twierdzi ze morderstwo noz w kieszeni mi sie otwiera takie rzeczy powinny byc od reki nie mowie juz aborcji bo uwazam ze powinna byc jakos uregulowana ale jebana antykoncepcja jest problemem dlaczego sex w polce jest kurwa tak strasznie trudny owiany swietoscia kazdy go uprawia kazdy potrzeby prezerwatywa moze byc wadliwa co gdy wszystko zawiedzie ta ciaza sie pojawi chuj w dupe wycieczka czech lub holadnii nie tania z reszta jestem pelna zlosci niezgody kazdy prawo wlasnych wierzen pogladow momentu w ktorym nie odbiera cudzej decyzyjnosci jego zyciu nie robi krzywdy ja kupije mieszkanie zaraz chce mieszkac w tym kraju ale powiedzcie mi jak ja mam tu kurwa zyc funkcjonowac bo kazdego dnia trace checi zycia tutaj jebac kaje godek dziekuje",
          "dubai schockolade kuchen zutaten gebratene kadayef teig pistaziencreme creme g mascarpone gr gezuckerte kondensmilch ml schlagsahne ganache gr schokolade ml schlagsahne",
          "mały nerwusek",
          "doradca sławomira mentzena prawicowy ekstremista który chce odebrać kobietom całkowitą wolność zakaz decydowania własnym ciele udziału w życiu publicznym nawet uprawiania sportu brzmi jak scenariusz z książki margaret atwood niestety nie rzeczywistość jaką proponuje konfederacja maja powiedz nie brunatnej prawicy głosuj na prawdziwą wolność bezpieczeństwo głosuj na mnie",
          "x poćwiartowane zwłoki w walizce kolejne makabryczne odkrycie tym razem w ustce woj pomorskie przypadkowy przechodzień zauważył w niewielkiej rzece walizkę kiedy ją wyciągnął na brzeg otworzył przeżył szok w środku miały znajdować się ludzkie szczątki walizka została znaleziona w pobliżu ulicy rybackiej póki co śledczy nie wykluczają żadnej wersji wydarzeń źródło rmf",
          "mentzen próbuje tu straszyć imigrantami próbuje wywołać w strach na tym strachu grać prawda jest taka że kiedy jeżdżę po polsce słyszę że młode kobiety boją jego jego pomysłów podczas debaty w super express",
          "trzymajcie jeszcze z dźwiękiem",
          "make time unite dancers decydujący moment występu czy zdążę odczepić się od lin dołączyć swoich tancerzy na czas walica",
          "senyszyn króciutko z korwinem",
          "dhëndri vs nusja hiseni",
          "danke ganzem herzen mega abend",
          "dino merlin x bh telecom x samsung predstavljaju godino vrela mi official visual album stream mi apple music deezer spotify dino merlin shop godino vrela ko koga brigo moja noćas pozdravlja kojim brigo moja tužnim pozdravom zbogom il doviđenja hej čekat ću te sve dok ti usne rumene ne zašute hej ljubit ću te sve dok mi suze ne zamagle sive pute godino vrela ko kome brigo moja noćas nazdravlja kojim brigo moja gorkim otrovom ništa od pomirenja hej čekat ću te sve dok ti usne rumene ne zašute hej ljubit ću te sve dok mi suze ne zamagle sive pute ko koga brigo moja noćas ne voli kaže da zauvijek drugom odlazi sretno ti bilo vilo sve ti se pozlatilo hej čekat ću te muzika tekst dino merlin aranžman adis sirbubalo srđan kurpjel klavijature harmonika programiranje adis sirbubalo bas klavijature programiranje srđan kurpjel akustična gitara alen lemešević gitare gruzijski vokali zviad mgebry prateći vokali maya sar aida mušanović arsić snimanje mix mahir sarihodžić mastering randy merrill sterling sound edgewater nj producent dino merlin izdavač magaza nakladnik idm music zagreb new york youtube network digital distribution emdc režija scenarij kukla direktor fotografije lazar bogdanović producent aleksandar pejčić organizator tamara hristov asistenti produkcije filip mitić predrag mikić st ad draža živanović nd ad boris đerman scenograf orjen đurić montaža branimir živković stefan rokvić asistent montaže online editor mastering nikola egerić kolor cvet pro nikolai smirnov vfx primer studio andrija grkić koreograf tamara pjević jakša filipovac st ac marko jokić gaffer igor pavlović šef scene dragan gagi jović stedicam vladimir arsenijević sfx losos kostimografkinja jana zaharijević asistentkinja kostimografkinje anja vranješ garderoberka đorđina todorović mua dino merlin dragan vurdelja mua glumci teodora milošević stevan racić cecilija vurdelja aleksandra hedji monika knežević frizura dino merlin ensar dervišbegović nikola stanojković studio firefly studios rentali media plus šapa lights catering jerry catering fotografija urša premik bts ivica nikolić grafički dizajn marin berović glumci nebojša živanović steva samardžić mile babić dragoljub mijačić zoran ignjatović predrag todorović branko petljanski srđan ilić vladimir rus momčilo mrčković novica paunović duško knežević ljubiša krstić slavoljub stefanović jovan milutinović margareta milanović una odobašić ivona jevtović jelena milosavljević aleksandra stanojević",
          "wasza narodowa sensejszyn",
          "szokujące wyznanie chłopaka zatrzymanego po tragedii na uw powiedział że na świecie są drapieżniki ofiary że chciał być tym pierwszym twierdzi że decyzję podjął tuż przed całym zajściem pracownica uczelni była przypadkową osobą czy poczuł wyrzuty według prokuratora czasem tak czasem nie szczerze przeraża mnie ile takich chorych newsów słyszymy ostatnio",
          "ganz wichtig",
          "ik ben geboren en getogen nederland overal waar ik ga vragen ze je komt uit amsterdam ik kan het horen net als alle andere nederlandse kindjes werd ik ook oud met het sinterklaasjournaal de winter koninginnedag ik zal nooit wennen aan koningsdag de lente hema softijsjes de zomer en kastanjes zoeken de herfst exact hetzelfde geldt voor de marokkaanse straatjochies op fatbikes toch er altijd een verschil geweest tussen mij en die jongens ik werd kansen gegeven en hun niet op de basisschool zat de meester aan een aparte tafel om mij de stof van mijn rekentijger boekje uit te leggen terwijl ik zat te leren lichtjaren cijfercodes en formules zag ik vanuit de hoeken van mijn ogen dat ibrahim er ook naar snakte om dat kleurrijke rekenboekje z n handen te hebben mijn moeder net als ik hier opgegroeid ze vertelde altijd dat ze veel moeite ervaarde als kind ze zat niet per se vast tussen haar marokkaanse thuis en haar nederlandse wereld maar tussen de persoon die ze wilde worden en de persoon die de nederlandse maatschappij haar toestond te zijn mijn moeder wou de atletiek maar die kans ze niet gegeven omdat ze mohamedaan ik moest aanzien hoe ibrahim op de exact zelfde wijze werd behandeld als mijn moeder en voelde haast schuldig voor het hebben van dat rekentijger boekje ik toen besloten dat ik hem dat boekje elke vrijdag mee zou geven zolang ik het maandag terug kreeg dit hebben zo gedaan van tot e ik kwam hem vorige donderdag na jaar tegen dankzij dat rekentijger boekje hij zijn passie voor wiskunde gevonden zijn school vond het mbo beter geschikt voor een jongen zoals hij hij omhoog geklommen van vmbo basis naar de universiteit waar hij nu wiskunde studeert zijn vrije tijd geeft hij wiskunde bijles aan jochies zoals hem die niet werden ondersteunt en aangemoedigd op de basisschool het onderwijs gepaard met je afkomst maar één van de vele factoren die samenhangen met kansenongelijkheid hoe meer van deze factoren je je eigen mag noemen hoe groter deze ongelijkheid nu heb ik het geluk dat ik niet val onder veel van deze factoren maar voor marokkaanse jongens dat anders verder het zo dat jongeren met minder kansen sneller beland raken criminaliteit armoede verslaving dit soort herrieschoppers zijn niks meer dan slachtoffer van kansenongelijkheid als marokkaanse heb ik erg veel moeite met de dingen die ik hier lees de marokkaanse gemeenschap en met name marokkaanse jongens ik ben er ook slachtoffer van nageroepen worden door deze jochies maar als je je bewust wordt hoe ze deze toestand beland zijn geraakt verandert jouw kijk op ze dit zijn jongens waar de nederlandse maatschappij niet naar wilt probeert te luisteren de racistische opmerkingen die ik keer op keer moet lezen scheuren mijn hart wij marokkanen zijn overal zijn je huisarts vuilnisman vrouw advocaat juffrouw klusjesman vrouw je buren en nog zoveel meer racisme lost niks op en maakt het verbeteren van de toestand van deze jongeren nog moeilijker het geen geval van slecht integreren als het jongeren zijn die gewoon hier nederland zijn geboren en getogen ze zijn exact wat nederland ze toestaat te zijn het centraal bureau voor statistiek het cbs hier al een langere tijd van bewust en er zijn ook initiatieven gevolgd hieruit zo zien ook dat kinderen van buitenlandse afkomst vaker hogere school adviezen krijgen als hun kansen vergroot worden het eindeloze racisme moet maar een keer stoppen niet alleen marokkanen ervaren dit maar ook turken surinamers antillianen ik kan helaas doorgaan effectief focust een racist op het straatbeeld van zestien jarige jongetjes op een fatbike en negeert daarbij de bijdrage die hebben aan de nederlandse samenleving als marokkaan nee als nederlander met een buitenlandse afkomst deze subreddit meemaken zeer teleurstellend ik merk dat comments als snel vol kunnen raken met haatzaaiend gedrag en foutieve informatie laten elkaar netjes behandelen en letten op de dingen die zeggen wil je meer leren dit zijn handige linkjes die goed gepaard gaan met hetgeen dat ik zojuist heb besproken note ik ben niet lang een redditor dus weet niet de linkjes de layout veranderen",
          "macie jakieś teorie spiskowe może poserduszkuje niektóre prawdziwe",
          "hania przesadziła ale trudno dobijamy nie poddam się kto najlepiej potraktuje ten filmik dostanie pozdrowienia od hani można wygrać pozdro nie zwracajcie uwagi na mój głos hania",
          "badania wykazują że nawet społeczeństwa myli lewo z prawem odwrotnie przy zwiększonym stresie tak naprawdę przy bodźcu wywołującym emocje np lęk które które przejawiają się też spięciem na układzie nerwowym w ciele tym łatwiej pomyłkę tego typu ekscytacja też może przyczynić się mniejszej uważności polecam poćwiczyć przed lekcją swój mózg medytacją lub ćwiczeniem czucia siebie w ciele dajcie znać czy łapiecie czym mówię mieliście tak kiedyś może jakaś wesoła historia podzielenia się też jest dawaj zaobserwuj żeby zobaczyć marka w akcji",
          null
         ],
         "marker": {
          "opacity": 0.5,
          "size": 5
         },
         "mode": "markers+text",
         "name": "12_ik_de_ze",
         "text": [
          "",
          "",
          "",
          "",
          "",
          "",
          "",
          "",
          "",
          "",
          "",
          "",
          "",
          "",
          "",
          "",
          "",
          "",
          "",
          "",
          "",
          "",
          "",
          "",
          "",
          "",
          "",
          "12_ik_de_ze"
         ],
         "textfont": {
          "size": 12
         },
         "type": "scattergl",
         "x": {
          "bdata": "5MJRQb1uVEHtH1NBn71TQeWbUUFgK1RBEglVQRgKVEGh7VVBcpRVQfJwU0GzllVBuqlVQW6pVkHnslNBHzRVQfYZVEFvx09BHvpRQUcRVkFjSFFB3uNVQSixUUEQ/1VBZxhUQckwVUG531VBWyJUQQ==",
          "dtype": "f4"
         },
         "y": {
          "bdata": "lhYCPBLebD7rvWg9ES4mPoRKFD5la1w+wu2RPiOMWz5o68M+eUCoPgHX4j1OK7Q+0p66Pqkv2D49U449IAy5PgpjCT4pzra+0O28vr2Jyz7PLNo9X+K9Pn6Tdb12ScQ+1FvrPUzAnz4TDsU+GnlCPg==",
          "dtype": "f4"
         }
        },
        {
         "hoverinfo": "text",
         "hovertext": [
          "little niece hair",
          "ai hair salon hair styles part ii picture example made another ai hair style template want another one please write styles want see please use share",
          "loved one follow hairstyle inspo",
          "man vs wife father puts nair daughter hair",
          "hair long wash head like hair long got ta get creative cover length plastic bag wash roots saving time water sanity beauty needs hacks",
          "pradascope new lash lengthening mascara",
          "makeup para eventos",
          "go follow hair page ig",
          "slime hair mask",
          "anzeige no makeup makeup fürs erste mal uni gym cosmetics",
          "going dinner boyfriend curled hair done full face make got back told going wash face could take make get comfortable looked face said shocked wearing make kidding eyebrows done eyeliner blush contour lashes whole yards men please tell going trying cute seriously notice thank answers",
          "weeks old manners tongue blue blue sweet license please contact licensing",
          "ad paid partnership ny love new colossal bubble mascara maybelline",
          "spray painting bone",
          "attempt clean girl makeup ib hottest webley products used foundation cosmetics concealer eraser concealer beauty blush loose powder powder blush face glue setting spray lipiv total baller lip liner uk mascara lipgloss",
          "shopsphere new website created one day old already orders sure good surprised product called smartsip digital smart water bottle thermos made high quality stainless steel interested would greatly appreciated could check link",
          "requested makeup tut",
          "diagnostic makeup assya",
          "italian haircut morrone",
          "full vid yt post selfie forget tag hair creds",
          "hair hold memories",
          "full asmr ballroom hair removal",
          null
         ],
         "marker": {
          "opacity": 0.5,
          "size": 5
         },
         "mode": "markers+text",
         "name": "13_hair_makeup_mascara",
         "text": [
          "",
          "",
          "",
          "",
          "",
          "",
          "",
          "",
          "",
          "",
          "",
          "",
          "",
          "",
          "",
          "",
          "",
          "",
          "",
          "",
          "",
          "",
          "13_hair_makeup_mascara"
         ],
         "textfont": {
          "size": 12
         },
         "type": "scattergl",
         "x": {
          "bdata": "Y2glQdf0J0GiiSdBCO0lQaB9KEFXXitBaWIuQTIMKEHNDSZBdBUwQaBIKUHMCy1BWYAtQS6uKUGiKC1BILMuQUQSLkGsbC5Bq2soQX4SMEEnfSZByggnQZ2BKkE=",
          "dtype": "f4"
         },
         "y": {
          "bdata": "E2z/v42pDMDbyQnANI8CwKnwEcC8bxvAUUsdwAnUDcCcWwXAPN4YwALLFMDs5CbAI/IfwNwJFMDmahrA9UQfwJ+DG8CQTBrA0xv/v4ejZ8BmhgfAToIKwL8sFsA=",
          "dtype": "f4"
         }
        },
        {
         "hoverinfo": "text",
         "hovertext": [
          "geil diggi glänzt auto neu produkte nutzen alltäglich affiliate link entstehen kosten nachteile kauf link erwirtschaftet einstellig prozentuale provision tiktok twitch highlights facebook instagram website jean pierre kraemer jp performance gmbh zwei begriffe spaß leistung power freche sprüche schnelle autos turbotechnik turboumbauten ladedruck vieles mehr stehen videos biete einblick tägliche leben firma leistungssteigerungen technische details erklärungen soundfiles messwerte vergleiche neuvorstellungen präsentationen quasi live all projekten events reisen große weite welt dabei egal audi bmw chrysler dodge ferrari ford gmc honda infiniti jaguar koenigsegg lamborghini mercedes nissan opel porsche range rover skoda tesla volkswagen wiesmann dabei fast a z p denkt i like big boost genau richtig frei motto fährste quer siehste mehr siehst aufnahmen drifts drags spielerein große jungs halt gerne anregungen wünsche sonstiges hast kannst gerne melden info www jp performance de",
          "lange warten ende yasins kompressor viper darf endlich zeigen steckt liter zehn zylinder priese ladedruck d bevor losgehen marco julian hürden meistern kommt shop immer suche interessanten besonderen fahrzeugen youngtimer oldtimer zeitgenössischem zubehör sowie ersatzteilen oldtimer verkauf angeboten findest bestand autohaus zeitlos wenigen schritten richtigen motoröl liqui moly neuen liqui moly x halle x retromotion bundles findet youtube kanalmitgliedschaft prüfstandstermin buchen instagram facebook web kanal erwarten dienstag freitag sonntag uhr neue videos dabei geht hauptsächlich leidenschaft alten autos marken offen egal audi opel vw bmw ford fiat lancia mercedes renault citroen seat viele viele mehr geht audi zylinder turbo umbauten vw polo umbauten oldtimer youngtimer meile rennen low budget tuning motorswaps zeiten messen leistung messen softwareoptimierung umbauten reparaturen instandsetzungen gebrauchtwagen erklärungen ratschläge autovorstellungen natürlich tipps tricks marco jahre sammeln konnte d unserer halle seid öffnungszeiten natürlich herzlichst willkommen freuen besuch d adresse defdahl dortmund s navi defdahl dortmund fragen anregungen anfragen gerne info",
          "auto wirklich mazda cx liter sechszylinder diesel allein motor macht schon echten traumwagen mazda legt drauf statt downsizing gibt s echtes rightsizing cx dabei stark effizient laut hersteller verbrauch gerade mal litern km liegen großen suv reihensechser fast schön wahr testen natürlich unserer verbrauchsfahrt nehmen mazda cx ordentlich ran vergleichen direkt skoda kodiaq sparsam cx wirklich hält liter diesel mazda verspricht youtube kanal abonnieren impressum gibts coolen qlmd klamotten matthias daily updates gibts instagram facebook tiktok",
          "porsche gt exhaust valvetronics",
          "motorradfahrer aufgepasst frankreich gibt große neuerung beim thema vorbeischlängeln betrifft zwei rädern unterwegs video erfahrt rechtlich geändert bedingungen durchschlängeln erlaubt sieht s eigentlich deutschland österreich italien niederlanden adac jurist stephan miller nimmt aktuelle rechtslage mehreren ländern lupe zeigen worauf achten müsst stau dahinschmelzen wollt bleibt spannend unterschiede könnten größer kaum motorradfahren hitze müssen kleidung tourenlänge technik wissen motorradfahren stau rettungsgasse durchschlängeln erlaubt frankreich motorrad schneller stau braucht rat adac juristinnen juristen mitglied seid kostenfreie rechtsberatung mobilitätsthemen wollt braucht einfach anrufen mo fr uhr adac rasmus kaessmann istock com deepblue you _________________________________________________________________ besucht social media kanälen facebook x instagram tiktok pinterest soundcloud blog abonniert gerne newsletter adac mitglied hilfe rat schutz",
          "never thought mercedes would build unstable cars",
          "heute bergen marco jungs halle dortmund opel manta b sr verlassenen garage kultige oldtimer letzten lebensjahre dunkelheit verbracht verborgenen schatz blech verbirgt erfahrt video d kommt shop immer suche interessanten besonderen fahrzeugen youngtimer oldtimer zeitgenössischem zubehör sowie ersatzteilen oldtimer verkauf angeboten findest bestand autohaus zeitlos wenigen schritten richtigen motoröl liqui moly neuen liqui moly x halle x retromotion bundles findet youtube kanalmitgliedschaft prüfstandstermin buchen instagram facebook web kanal erwarten dienstag freitag sonntag uhr neue videos dabei geht hauptsächlich leidenschaft alten autos marken offen egal audi opel vw bmw ford fiat lancia mercedes renault citroen seat viele viele mehr geht audi zylinder turbo umbauten vw polo umbauten oldtimer youngtimer meile rennen low budget tuning motorswaps zeiten messen leistung messen softwareoptimierung umbauten reparaturen instandsetzungen gebrauchtwagen erklärungen ratschläge autovorstellungen natürlich tipps tricks marco jahre sammeln konnte d unserer halle seid öffnungszeiten natürlich herzlichst willkommen freuen besuch d adresse defdahl dortmund s navi defdahl dortmund fragen anregungen anfragen gerne info",
          "disclaimer content video created owned unless stated otherwise unauthorized use copyrighted material strictly prohibited moin leute hello everyone welcome back brand new touristenfahrten public driving video nurburgring nordschleife time highlights carfreitag day started wet meant lot drifts spins weather turned dry people could push little let know moment favorite comments corners track filmed brunnchen adenauer forst touristenfahrten cars video nissan r gtr nurburgring toyota supra nurburgring bmw e drift nurburgring audi almost crash nurburgring vw jetta fail nurburgring fiat l nurburgring volvo drift nurburgring bmw drift nurburgring bmw g drift nurburgring bmw fail nurburgring bmw e fail nurburgring jaguar fpace svr fail nurburgring mazda mx almost crash nurburgring vw golf r drift nurburgring lexus fail nurburgring hyundai n fail nurburgring bmw fail nurburgring many",
          "check car damaged car vertical bought crash damaged aston martin db miles odometer car pretty much brand new found crashed pdi inspection got customer wait months parts finally arrived still havent managed get car started chance win aston martin vantage thanks bob machine shop thanks keezy customs get car wrapped content check second channel merchandise follow aswell",
          "heute seht schweizer c s m v bi turbo motor freien werkstatt schlecht instandgesetzt wurde nachbar hebebühne maybach v m v bi turbo mercedes niederlassung schlechten service bekommen seht selber werbung link ravenol shop sparen gewinnen könnt code mz link hazet werkzeugwagen geht mz shop spezialisten gebiet amg mercedes motorenbau allerhöchstem niveau akribisch genau mikrometer präzise stellen sicher fahrzeuge sowie motoren höchstleistungen zuverlässig erreichen tun größter leidenschaft seit vielen jahren führt sogar mehreren weltmeisterschaftstiteln internationalen motorsport detail zählt spezialisiert folgende motoren ausschließlich amg mercedes m sowie v amg kompressor e g s cl m sowie v legendären amg m kompressor slr w m bzw ccm v sauger c e ml r s cl m v bi turbo e s coupe g m v sauger sls amg r m v bi turbo g m v bi turbo ls ls z b c glc gle gls e s g m v bi turbo amg gt gts gtc gtr m sowie v bi turbo amg s cl g maybach m sowie v sauger bi turbo c c c e e glc usw m sowie v bi turbo e cls s ml gle m sowie v bi turbo amg s pullmann maybach diesel sowie zylinder benzin motoren setzen instand aktuelle motorsport projekte dtm amg e evo tourenwagen legenden einsetzen sowie tourenwagen goldene ära hwa c l kompressor w ex event werksfahrzeug clk w amg dtm trackday fahrzeug mercedes e m trackday fahrzeug",
          "grab special edition yfood use code mat youtube bought wrecked porsche gt rs spent months rebuilding putting test racing formula driver porsche isnt fully complete yet im going upgrading best chance racing formula driver check micks channel content check second channel merchandise follow aswell",
          "get car vertical using code carwow time incredible koenigsegg drag race mat team flown sweden run jesko absolut regera koenigsegg test track let see two compare starting jesko absolut powered litre twin turbo v running e produces hp nm power sent rear wheels via speed multi clutch gearbox car weighs kg new costs around regera also powered litre twin turbo v also fitted three electric motors combine car running e produces hp nm power sent rear wheels via single speed torque converter gearbox tips scales kg new costs around jesko may slightly power regera three electric motors prove difference one way find let race subscribe change car carwow chiron super sport v jesko attack",
          "morlock motors big deals westerwald joyn nachdem morlocks schon paar zwischenstopps mussten psh koshs fahrtüchtig steht reparatur stopp bisschen sightseeing trotzdem drin freigegeben ab jahren michael manousakis crew stahl geld westerwald weltweit fahrzeuge maschinen flugzeuge militärausrüstung morlock motors europas größter us handel chef michael manousakis kauft ganzen welt seltene fahrzeuge ungewöhnliches equipment art müssen dutzende massive militärfahrzeuge helikopter wenigen tagen exotischen insel deutschland überführt abonniere kanal folge verpassen folgen morlock motors mehr kabel eins facebook kabel eins instagram impressum",
          "nasser öl geführter zahnriemen schien einst gute idee pure tech ecoboost tdi findet verwendung heute macht konstruktionsprinzip probleme motorschaden gehen nennen betroffenen modelle erklären tun neuheiten tests fahrberichte rund ums auto findet website facebook instagram twitter tiktok",
          "schneller chiron mehr r motormagazin grip motormagazin immer sonntags uhr",
          "krasseste alltagshobel überhaupt www goapr de glänzt auto neu produkte nutzen alltäglich affiliate link entstehen kosten nachteile kauf link erwirtschaftet einstellig prozentuale provision tiktok twitch highlights facebook instagram website jean pierre kraemer jp performance gmbh zwei begriffe spaß leistung power freche sprüche schnelle autos turbotechnik turboumbauten ladedruck vieles mehr stehen videos biete einblick tägliche leben firma leistungssteigerungen technische details erklärungen soundfiles messwerte vergleiche neuvorstellungen präsentationen quasi live all projekten events reisen große weite welt dabei egal audi bmw chrysler dodge ferrari ford gmc honda infiniti jaguar koenigsegg lamborghini mercedes nissan opel porsche range rover skoda tesla volkswagen wiesmann dabei fast a z p denkt i like big boost genau richtig frei motto fährste quer siehste mehr siehst aufnahmen drifts drags spielerein große jungs halt gerne anregungen wünsche sonstiges hast kannst gerne melden info www jp performance de",
          "marco beifahrer darf fehlen glänzt auto neu produkte nutzen alltäglich affiliate link entstehen kosten nachteile kauf link erwirtschaftet einstellig prozentuale provision tiktok twitch highlights facebook instagram website jean pierre kraemer jp performance gmbh zwei begriffe spaß leistung power freche sprüche schnelle autos turbotechnik turboumbauten ladedruck vieles mehr stehen videos biete einblick tägliche leben firma leistungssteigerungen technische details erklärungen soundfiles messwerte vergleiche neuvorstellungen präsentationen quasi live all projekten events reisen große weite welt dabei egal audi bmw chrysler dodge ferrari ford gmc honda infiniti jaguar koenigsegg lamborghini mercedes nissan opel porsche range rover skoda tesla volkswagen wiesmann dabei fast a z p denkt i like big boost genau richtig frei motto fährste quer siehste mehr siehst aufnahmen drifts drags spielerein große jungs halt gerne anregungen wünsche sonstiges hast kannst gerne melden info www jp performance de",
          "toyota supra aprendiendo derrapar",
          "projekt freu glänzt auto neu produkte nutzen alltäglich affiliate link entstehen kosten nachteile kauf link erwirtschaftet einstellig prozentuale provision tiktok twitch highlights facebook instagram website jean pierre kraemer jp performance gmbh zwei begriffe spaß leistung power freche sprüche schnelle autos turbotechnik turboumbauten ladedruck vieles mehr stehen videos biete einblick tägliche leben firma leistungssteigerungen technische details erklärungen soundfiles messwerte vergleiche neuvorstellungen präsentationen quasi live all projekten events reisen große weite welt dabei egal audi bmw chrysler dodge ferrari ford gmc honda infiniti jaguar koenigsegg lamborghini mercedes nissan opel porsche range rover skoda tesla volkswagen wiesmann dabei fast a z p denkt i like big boost genau richtig frei motto fährste quer siehste mehr siehst aufnahmen drifts drags spielerein große jungs halt gerne anregungen wünsche sonstiges hast kannst gerne melden info www jp performance de",
          "e bikes günstiger sparen code jonah sandy munro original video skoda enyaq facelift vs tesla model y",
          null
         ],
         "marker": {
          "opacity": 0.5,
          "size": 5
         },
         "mode": "markers+text",
         "name": "14_nurburgring_turbo_bmw",
         "text": [
          "",
          "",
          "",
          "",
          "",
          "",
          "",
          "",
          "",
          "",
          "",
          "",
          "",
          "",
          "",
          "",
          "",
          "",
          "",
          "",
          "14_nurburgring_turbo_bmw"
         ],
         "textfont": {
          "size": 12
         },
         "type": "scattergl",
         "x": {
          "bdata": "EJRYQQmhV0HIiVhB1Y1YQaUCVkH0dFhBvL9XQU8XWUFmQVdB5mBYQU81WEEYw1hBGb1XQSLqV0GR4VZBP6xYQXNoWEFX1lhBknpYQUmZWEEWI1hB",
          "dtype": "f4"
         },
         "y": {
          "bdata": "dGyNwEyai8Die43ADJ2NwGAyicDXY43A+vqLwB6cjcCKoYvAwTWNwP0ijcAb243ATtiLwPFcjMCdW4rAka+NwBs0jcCHXY3A9mONwC6sjcBus4zA",
          "dtype": "f4"
         }
        },
        {
         "hoverinfo": "text",
         "hovertext": [
          "cat brainrot",
          "collection cats braving wind waves",
          "cats funny moments",
          "clingy cat",
          "hardworking cat day trade love comfort",
          "poverty makes cats anything",
          "aventador kitty",
          "pup lives better life us real leclerc",
          "live wallpaper k anime kitten cartoon night butterfly",
          "funny kittens broke air video",
          "crazy cat posture",
          "matter ft barking cat",
          "kitten belly dances puppy drops beat must see cuteness",
          "another dazzling belly dance cutest kitten",
          "chihuahua diaper dance",
          "puppy hiccups",
          "diaper calf",
          "taught cat walk",
          "cat fall",
          null
         ],
         "marker": {
          "opacity": 0.5,
          "size": 5
         },
         "mode": "markers+text",
         "name": "15_cat_kitten_cats",
         "text": [
          "",
          "",
          "",
          "",
          "",
          "",
          "",
          "",
          "",
          "",
          "",
          "",
          "",
          "",
          "",
          "",
          "",
          "",
          "",
          "15_cat_kitten_cats"
         ],
         "textfont": {
          "size": 12
         },
         "type": "scattergl",
         "x": {
          "bdata": "U08oQdq7IkHBmCJBtaUjQa1gI0EtBiNBe5odQbLCIEELGx9BDSAiQX4+I0HpZSNBz7QfQRbmH0E81R9BjA0hQTxuH0HPTyNB/bMiQTXjIUE=",
          "dtype": "f4"
         },
         "y": {
          "bdata": "d2CYv5vyp7+AfaS/wxOfv9gKoL8aSaO/LfvJv/hJtr8h9L+/i6G6v8zwnr9GfKC/YU6+v3c6vb9sNL+/Zy64v4aWxr+z85+/Jyaiv3sBr78=",
          "dtype": "f4"
         }
        },
        {
         "hoverinfo": "text",
         "hovertext": [
          "viral template",
          "f students repost pga fucking tiktoks regler",
          "top best viral phonk funk songs april",
          "seeing lots tiktoks tweets posts people hating duolingo uninstalling whatnot everyone suddenly turned duolingo thought people loved edit stole replies alternatives duolingo comments lingonaut app work progress duolingo subreddit back tree sentence discussions ads heart free like duo less monetization free deutsche welle german great look right good busuu babbel like hello talk dw combined mango languages like rosetta stone pimsleur",
          "important things go viral tiktok content creator things matter",
          "video going around tiktok showing intro text movie robinhood removed original text say times tyranny injustice law oppresses people outlaw takes place history england turn century time instead amazon version shows blank page seconds unclear censorship accidental oversight link original",
          "ranking liked tiktok videos",
          "hacer vídeo viral tiktok",
          "everyone keep straight face loveme tiff via collab",
          "top best viral phonk songs",
          "hacerte viral tiktok",
          "go viral tiktok million",
          "go viral",
          "tiktokviral aïssata",
          "tiktok",
          "hey everyone making content tiktok launched rumble channel bring even awesome content new platform motivational videos love working know rumble big youtube yet excited build something fresh love join early check link one videos also tips growing rumble channel favorite creators drop comments love learn hope see",
          "viral sound",
          "go viral tiktok tricks",
          null
         ],
         "marker": {
          "opacity": 0.5,
          "size": 5
         },
         "mode": "markers+text",
         "name": "16_viral_duolingo_tiktok",
         "text": [
          "",
          "",
          "",
          "",
          "",
          "",
          "",
          "",
          "",
          "",
          "",
          "",
          "",
          "",
          "",
          "",
          "",
          "",
          "16_viral_duolingo_tiktok"
         ],
         "textfont": {
          "size": 12
         },
         "type": "scattergl",
         "x": {
          "bdata": "J8wlQaENJkGGcCVBEeElQUV2JUGgBCtBs5cmQdtXJ0HpLydBRHolQaQuJkGh2iVBeL4lQQqMJkEiaCZBMWwkQYm/JUFDhCVBcUImQQ==",
          "dtype": "f4"
         },
         "y": {
          "bdata": "V1KUwJkBksAdHpPARQKTwKqIk8AUaozA306SwHRHk8Bv14/AsM6TwM3Nk8A2CpTAq3aUwGsPk8B82pPATkqPwA8RlMA64pPAGKySwA==",
          "dtype": "f4"
         }
        },
        {
         "hoverinfo": "text",
         "hovertext": [
          "fun stay blast conga line dancing season fraggle rock back rock look puppeteers go somewhere hidden second row big gaggle fraggles good news see seasons emmy award winning series jim henson company tv right",
          "last case last rites last rites theaters september new line cinema comes ninth entry billion theatrical conjuring universe conjuring last rites directed franchise veteran michael chaves produced franchise architects james wan peter safran conjuring last rites delivers another thrilling chapter iconic conjuring cinematic universe based real events vera farmiga patrick wilson reunite one last case renowned real life paranormal investigators ed lorraine warren powerful spine chilling addition global box office breaking franchise farmiga wilson star alongside mia tomlinson ben hardy portray ed lorraine daughter judy warren boyfriend tony spera well steve coulter returning father gordon rebecca calder elliot cowan kíla lord cassidy beau gadsdon john brotherton shannon kook chaves directs screenplay ian goldberg richard naing david leslie johnson mcgoldrick story david leslie johnson mcgoldrick james wan based characters created chad hayes carey w hayes executive producers michael clear judson scott natalia safran john rickard hans ritter david leslie johnson mcgoldrick chaves joined behind camera creative team including director photography eli born production designer john frankish editors elliot greenberg gregory plotkin visual effects supervisor scott edelstein visual effects producer eric bruneau costume designer graham churchyard casting rose wicksteed sophie kingston smith music supervisor ian broucek music composer benjamin wallfisch new line cinema presents safran company atomic monster production conjuring last rites film released worldwide warner bros pictures theaters imax north america september internationally beginning september",
          "raid brings back ajay devgn fearless irs officer amay patnaik taking toughest mission yet ajay delivers strong intense performance anchors film riteish deshmukh impresses fresh avatar cold calculating villain dada manohar bhai clash film biggest highlight director raj kumar gupta crafts gripping political thriller sharp visuals tense atmosphere timely message power corruption though dramatic first keeps hooked strong writing impactful performances powerful sequel driven solid storytelling stellar lead performances screen play full impact story line character like ajay devgan ritesh deshmukh plays best acting skill saurabh sukla presence sceen like ice cake must watch movie paisa wasool",
          "get nordvpn year plan extra months free risk free nordvpn day money back guarantee planes thousand times better answer question never asked great minds like know wan na know obviously hope like cool awesome video made whomst also cool awesome thank watching team produced collaboration jellybox gene goldstein executive producer bluesky instagram laura estrella director bluesky instagram sean aitchison production bluesky jane mahoney production bluesky instagram brooke burnett animator bluesky david kalev roy animator bluesky instagram cris mestre animator bluesky instagram willard worm animator instagram mazzy foy animator bluesky instagram danny reyes animator bluesky instagram harry barnett animator bluesky instagram joel spencer animator bluesky instagram tanimayto animator bluesky instagram whole bunch stuff twitter instagram",
          "get new bodybuilding transformation system launch week download macrofactor weeks free references proximity failure sleep mortality written directed jeff nippard stephanie buttermore filmed matt dziadecki dal shoots jeff nippard cam cline edited rickie ho sam ding jeff nippard graphics rickie ho sam ding jeff nippard music arranged jeff nippard sam ding music sourced epidemic sound research assistance max edsey experiment design jeff nippard alysha souza derrick van every stu phillips canadian natural pro bodybuilder internationally qualified powerlifter bsc biochemistry chemistry passion science training years drug free fluctuate lbs lean lbs bulked disclaimers jeff nippard doctor medical professional always consult physician starting exercise program use information strictly risk jeff nippard assume liability direct indirect losses damages may result use information contained video including limited economic loss injury illness death",
          "get groove laal pari song india biggest franchise housefull starring akshay kumar abhishek bachchan riteish deshmukh jacqueline fernandez sonam bajwa nargis fakhri sanjay dutt jackie shroff nana patekar chitrangada singh fardeen khan chunky pandey johnny lever shreyas talpade dino morea ranjeet soundarya sharma nikitin dheer akashdeep sabir produced sajid nadiadwala directed tarun mansukhani story screenplay sajid nadiadwala housefull releases cinemas th june full song available jiosaavn spotify hungama apple music gaana amazon prime music youtube music credits singers yo yo honey singh simar kaur music yo yo honey singh lyrics yo yo honey singh alfaaz mix master vinod verma promo edit yash parikh choreography remo dsouza song audio conceived dinesh auluck music label series download desibeats download tapbeats ___________________________________ enjoy stay connected us subscribe series like us facebook follow us x follow us instagram follow us snapchat",
          "stacey ganiyan ginagawa niya kay ashtine ashley colet oo years old stacey sinasabunutan jhoanna ahhh years old group women promote women empowerment female strength lots young girls fans held event baby blooms fairly recently really asking context also nothing video exactly looks like three hanging two boys jokes made video add apparently colet took video posted dump account double yikes",
          "stevie martin invents new way humans move fatiha el ghorri sweeps taskmaster garden small broom watch full episodes uk buy taskmaster merch broadcast award winning bafta emmy award nominated entertainment show taskmaster tyrant greg davies man cuckoo help loyal assistant alex horne horne section show creator sets test wiles wit wisdom five hyper competitive comedians comedians risked life limb dignity hope making taskmaster proud far include frank skinner frank skinner show mel giedroyc great british bake romesh ranganathan asian provocateur hugh dennis outnumbered sally phillips bridget jones diary rose matafeo edinburgh comedy award winner russell howard russell howard hour unaware awaits wax sealed envelope one competitor become victorious owner royal task ness golden head crowned next taskmaster champion",
          "time play final games squid game season june netflix info squid game season failed rebellion death friend secret betrayal picking aftermath season bloody cliffhanger third final season netflix popular series finds gi hun k player lowest point yet squid game stops one gi hun forced make important choices face overwhelming despair surviving players thrust deadlier games test everyone resolve round choices lead increasingly grave consequences meanwhile ho resumes role front man welcome mysterious vips brother jun ho continues search elusive island unaware traitor midst gi hun make right decisions front man finally break spirit director hwang dong hyuk made history th primetime emmys becoming first asian win outstanding directing drama series helms series director writer producer season stars lee jung jae lee byung hun yim si wan kang ha neul wi ha jun park gyu young park sung hoon yang dong geun kang ae sim jo yu ri chae kuk hee lee david roh jae jun suk ho special appearance park hee soon watch netflix netflix netflix one world leading entertainment services million paid memberships countries enjoying tv series films games across wide variety genres languages members play pause resume watching much want anytime anywhere change plans time squid game season official teaser netflix",
          "michael patrick kelly one official video listen one pre order pre save traces music lyrics michael patrick kelly andrew jackson duck blackwell producer daniel flamm johannes herbst michael ilbert michael patrick kelly recorded air studios hoxa london uk hansa mixing room berlin germany mastering randy merrill sterling sound new york p columbia division sony music entertainment germany gmbh publisher sony music publishing germany gmbh songs pulse prs ascap video credits directed marvin ströter dop edit drone additional production marvin ströter art direction michael patrick kelly production harald pauly selina schmucker hair make angelique kamuf set assistance bts footage celina rabanus still photography assistance shanti tan actress leia holtwick special thanks kerstin ströter felix weidmann eric ees sell hein van zijl horst wegener production company wevame international slu cooperation wupperwerft gmbh subscribe channel get b want content blurry eyes throwback beautiful madness roundabouts et voilà visit michael patrick kelly",
          "welcome aboard captain subnautica design lead anthony gallegos invites join us road early access share enticing glimpses expect game later wishlist steam epic xbox join community discord x tiktok bluesky instagram facebook",
          "five new comics battling greg davies gold head fatiha el ghorri jason mantzoukas mathew baynton rosie ramsey stevie martin watch full episodes uk buy taskmaster merch broadcast award winning bafta emmy award nominated entertainment show taskmaster tyrant greg davies man cuckoo help loyal assistant alex horne horne section show creator sets test wiles wit wisdom five hyper competitive comedians comedians risked life limb dignity hope making taskmaster proud far include frank skinner frank skinner show mel giedroyc great british bake romesh ranganathan asian provocateur hugh dennis outnumbered sally phillips bridget jones diary rose matafeo edinburgh comedy award winner russell howard russell howard hour unaware awaits wax sealed envelope one competitor become victorious owner royal task ness golden head crowned next taskmaster champion",
          "anxiety doechii directed james mackel adele drive production company adele drive executive producers anthony top dawg tiffith anthony moosa tiffith ep langston griffith siebens production company avenue produced jolene mendes sophia sabella pablo feldman director photography nico aguilar production designer hensel martinez choreographer robbie blue stunt coordinator robert brown creative directors james mackel connor tingley sammy mcentire langston griffith siebens editor sammy mcentire vfx pendulum colorist bryan smaller featuring courtney hargrett sydney hargrett production manager rachel nagao production coordinator megan short location manager ron dabach production accountant jessica feder first assistant director jonas morales second assistant director damon limbrick second second assistant director jane kim assistant choreographer marie spieldenner first assistant camera connor lambert second assistant camera jordan oglesby loader mckay todd steadicam operator chris loh crane operator clay platner crane tech ned hurlbut matrix techs simon shin doug mccormick vtr bob mills chief lighting technician tony varoula assistant chief lighting technician davidson electrics fred palluzi nick arnold hyphenate driver electric anthony olmos key grip john day best boy grip stu brumbaugh grips sara elia adam baker hermexial drexilus dolly grip kenneth colbentz hyphenate driver grip peter yauri transportation gang boss rick antonette art directors helen morales adam miko justin brown set decorator natalia brito lead person leo arroyo hyphenates talyn latour maximo huete set dresser nick de la rosa set dresser drew wall scenics danielle manning anya dikareva krystall schott hailee field shoppers heidy orellana simone arielle moscovitch kaylinn duffy alina çelik graphic designer mackenzie murray remy levy art assistant dylan dobler special effects pyro john eggett doechii team assistant doechii caroline fromm stylist sam woolf styling assistant juliette hill makeup artist chelsea uchenna hair evalyn denis bts stills xavier scott marshall bts video zenzele moore ysaguirre capitol music group capitol creative chase salomon capitol digital danielle nicholson dancers stunts background wardrobe costume designer lisa madonna assistant costume designers dani dolinger justin rose courtney sydney wardrobe costume designer rasheeda raines dancers background hair makeup key makeup artist key body painter nadia reese stone additional makeup artists body painters laurel charleston megan dupuy morrisa pena additional makeup artist elise gehrke additional hair stylist gabriela aceves dancer agencies bloc uta msa ctg go principal dancers peyton matthias andrea bess ardyn flynt keera kittles randi moraga kaylin motton hezekiah anthony lucas debiasi mariyah hawkins gavin morales selena hamilton janae holster anthony ciaccio aysia ianiero zachary venegas rex kline jakevis thomason gabi barra dyllan blackburn jordyn green kenneth espiritu jalen rashad anthony curley dai boyd hannah winship hamly tavarez angel mammolitti robbie olmos jaylen pea augustine perez ensemble dancers shanie blais shelby davis nevaeh eloi kailani rae forest lee davon rashawn denna thompson chaz buzan ava berstine mitchell tina jarmusz sofie loeken ally waller alyssa sniff matthew kubitz austin lee jaelyn heath gregg sainvilus kyndall ash liv battista dominique laraine preslee tucker kyla chaney ania crist athena cruz jordan gaskin alexandria schacter daniel asamoah zion harris seth kai grayson mcguire phi voba jj allen caryn mueller carlin dixon rauf yasit stunt performers tyler elliott joe santos brian lk lavecchia background marquise smith martyrs smith sara salazar andrea salazar katie molloy emma molloy olga fridman yulia maleko medics heidi rodriguez krisztina barabas production assistants john bonin donovan watson patrick wirth omar gutierrez luther sartor joseph steven huegel cameron robson jonathan davis jhovanny esparza daved olivencia danny mullen anthony vega julio almaguer matt dulberg jeffrey petro dylan myers julie nyznik julian domingues bella soto matmen alfredo papadaki post post producer sammy mcentire vfx supervisor ryan zum mallen vfx producer damian giampietro vfx creative director sammy mcentire compositors victor velasco diana iatsenko qc dena zum mallen set vfx supervisor ben kadie additional vfx cleanup paume post production sound design adam carl color house company color producer mario castro special thanks sony kodak panavision amanda sasaki calvert studios image locations",
          "official music video young dumb avril lavigne ft simple plan crew director brad bischoff producer kyle bullington producer taylor stone associate producer sam persall director photography jimmy liu nyeango b cam operator jordan temkin skate unit operator johnny campos st assistant camera mark villa nd assistant camera michelle alanis camera utility michael nerud dit rafaele vesco vfx supervisor jose quintero gaffer kevin kim best boy electric rodolfo martinez key grip matt toledo best boy grip edwin allen richards iv swing phil sanchez production designer sarah lund art director joanna cabalquinto set dresser gavin sullivan wardrobe stylist ilona howe hair makeup phil nathaniel pa skyler piltch pa matt berry pa elliot cockayne social media manager jaclyn moy drum tech sage weeber stage tech crishia peet bts photographer travis allen post editor brad bischoff post production supervisor kyle bullington post production supervisor jose quintero colorist sam howells talent cheerleader savannah coffee jock chris albano prom king jasesan emeret prom queen kiera ann morris avril lavigne cami ritzler bellhop david moskowitz skater nadia fleenor skater michelle steilen skater jordan cramer skater matt jones tattoo artist cory hackbarth tattoo design emmanuel facio avril hair gabe pandero hair lauren bates makeup autumn skibinski",
          "azizam azizam subscribe ed channel follow ed instagram tiktok facebook twitter discord official website credits written directed saman kesh commissioner dan curwin producer nicole powell production company branded executive producers otis bell clancie brennan director photography kaname onoyama addit l cinematography la omer ganai choreographer charlie mayhew st ad james amos pm guy fuhrer uk bria wentzel la production designer ricky eyres ed sheeran styling amp grooming liberty shaw ed sheeran styling hilary owen food stylists hami sharafi tanya sadourian costume designer natalie humphries additional styling la makeup hair lead ameneh mahloudji casting editor emma blackman cartel vfx territory studio sound aaron taffel colourist luke morrison etc starring googoosh andy omid djalili shervin alenabi eyelar ilya salmanzadeh azizam lyrics azizam meet floor tonight show move like water dancing lights mine mine azizam wan na nowhere wan na one space wan na tangled wrapped cloud wan na close face well tomorrow wait losing time place till sun awake like magnet care say way love game come play azizam meet floor tonight show move like water dancing lights mine mine azizam azizam azizam wan na get lost ocean drown wan na careless free wan na live moment found wan na see well tomorrow wait losing time place till sun awake like magnet care say way love game come play azizam meet floor tonight show move like water dancing lights mine mine azizam azizam meet floor tonight show move like water dancing lights mine mine azizam azizam azizam azizam",
          "official video lose miley cyrus listen download lose something beautiful album may pre order text lyrics stay less go toe toe hanging wire stumbled road say leaving playing liar cause looking like movie star worn coat yeah throw away mind happens time stay ecstasy far away pray coming round say wish true knew someday one would choose thought lose tv know tears streaming like favorite show tonight memories fade like denim jeans try chase running mind cause god looking like looking like movie star worn coat throw away mind happens time oh stay ecstasy far away pray coming round say wish true knew someday one would choose thought lose na na na na na na na na na na yeah looking like movie star worn coat throw away pride happens time god happens time oh stay ecstasy far away pray coming round baby say wish true knew someday one would choose knew someday thought lose credits columbia records live nation present miley cyrus xyz films production miley cyrus something beautiful directed miley cyrus jacob bixenman brendan walter produced miley cyrus panos cosmatos nick spicer nate bolotin aram tertzakian executive producers adam folk ron perry tom mackay krista wegener michael rapino brad wavra ryan kroft associate producer marcela victoria director photography benoît debie production designer david meyer choreography stephen galloway costume design bradley kenneth edited brendan walter music produced miley cyrus shawn everett michael pollack jonathan rado maxx morando engineered shawn everett ian gold pièce eatah village assistant engineer jc leresche mixed mastered shawn everett mix assistant ian gold connect miley cyrus site twitter instagram tiktok facebook discord",
          "katseye 캣츠아이 gnarly official mv stream gnarly follow katseye youtube instagram tiktok x weverse official website newsletter credits director cody critcheloe creative director humberto leon visual director joão moraes executive creator sungdeuk son head creative production jay ihn visual creative andrew ibea tiffany suh sieun jung tyler murrah performance direction grant gilmore sohey sugihara contributing choreography sienna lalau director photography sunghun hong production designer yesol kim costumer heejun jang hair gabe sin suhyeon jeon semin park makeup jeonghwan park nail seunghwi yu edited jinhyuck jang dakota giglio church edit cgi kwangwon lee sangwon park vinyl creative cgi yeowon jeong myeongjae song ngoc pham vfx kent hill color jiyun yeom lucid color production ambience executive producer downy jung producers minye cho sangah jeon presented hybe x geffen",
          null
         ],
         "marker": {
          "opacity": 0.5,
          "size": 5
         },
         "mode": "markers+text",
         "name": "17_production_azizam_director",
         "text": [
          "",
          "",
          "",
          "",
          "",
          "",
          "",
          "",
          "",
          "",
          "",
          "",
          "",
          "",
          "",
          "",
          "",
          "17_production_azizam_director"
         ],
         "textfont": {
          "size": 12
         },
         "type": "scattergl",
         "x": {
          "bdata": "U/opQQHeKEHhfChBgZEnQWUIK0EzgipBMfApQezZKUF2xSJBWNApQaIsJ0HEUClBRDMqQc7AKUHIjCpB4dInQaFyKkFLEClB",
          "dtype": "f4"
         },
         "y": {
          "bdata": "gqlhwI65XMAOMF3AAHRowHJbV8ADoGLAlHZPwGHrX8CvkG7A7+lfwMJKaMBF/1/AfRZcwClqWsBn2WHAJxRdwFzBXsDAjF/A",
          "dtype": "f4"
         }
        },
        {
         "hoverinfo": "text",
         "hovertext": [
          "yeah natural",
          "relatable",
          "american",
          "me",
          "official",
          "incroyable",
          "loud",
          "description",
          "title",
          "description",
          "better like",
          "title",
          "vs",
          "rude",
          "scene tho",
          "pro",
          "know belong",
          null
         ],
         "marker": {
          "opacity": 0.5,
          "size": 5
         },
         "mode": "markers+text",
         "name": "18_description_title_incroyable",
         "text": [
          "",
          "",
          "",
          "",
          "",
          "",
          "",
          "",
          "",
          "",
          "",
          "",
          "",
          "",
          "",
          "",
          "",
          "18_description_title_incroyable"
         ],
         "textfont": {
          "size": 12
         },
         "type": "scattergl",
         "x": {
          "bdata": "oBMIQdnBB0FPhAZBDgkDQTgCBkGmFghBpT4IQZTcA0GiKANB6j0EQaLKAkHUNQNBXdkFQaFcBkEswANBUvUFQXr1CUHCsgVB",
          "dtype": "f4"
         },
         "y": {
          "bdata": "Y9kLvxz3Fb/yVKu989EIPmA7Wr5HthO/P/Esv4m9Nr9Koy+/LNk5vzX+eb5UWy+/VaJ7vaoHF78TqSE+dMTHvbWHUb8VMtO+",
          "dtype": "f4"
         }
        },
        {
         "hoverinfo": "text",
         "hovertext": [
          "speedquiz",
          "lirili larila performs jubi slide guys made get real italian brainrot toy link bio",
          "speedrun brainrot animals tralalerotralala",
          "impossible brainrot speedrun part",
          "italian brainrot song brainrot movie tragic tragic tragic song created",
          "speedrun edit",
          "guess italian brainrot character background",
          "tralalero tralala italian brainrot song brainrot movie tragic tragic tragic song created",
          "brainrot speedrun impossible level part",
          "tralalelo tralala x bombardiro brainrot movie tragic tragic tragic song",
          "brainrot song",
          "italian brainrot avengers endgame part",
          "italian brainrot vs gnome challenge",
          "brainrot animation",
          "guess italian brain rot animal emojis quiz",
          "tralalero tralala x wakawaka brainrot movie tragic tragic tragic song",
          null
         ],
         "marker": {
          "opacity": 0.5,
          "size": 5
         },
         "mode": "markers+text",
         "name": "19_brainrot_tragic_italian",
         "text": [
          "",
          "",
          "",
          "",
          "",
          "",
          "",
          "",
          "",
          "",
          "",
          "",
          "",
          "",
          "",
          "",
          "19_brainrot_tragic_italian"
         ],
         "textfont": {
          "size": 12
         },
         "type": "scattergl",
         "x": {
          "bdata": "+9oYQf4lL0ELBitBXQQrQTYSL0F+FypBvYQuQUt8L0GXOCtBOiQxQTM/LEFTwi1BcwgtQU4uLEFdQi5Bi24wQcI3LEE=",
          "dtype": "f4"
         },
         "y": {
          "bdata": "W3uDv1mbk79lEpe/sRGZv43akb+Iupq/AimWvyDhj7+PKJi/QoqJv+V6lr/7bZe/BbWZv2bVl78Ztpa/je6Lv0zak78=",
          "dtype": "f4"
         }
        },
        {
         "hoverinfo": "text",
         "hovertext": [
          "season coming",
          "adventure lifetime",
          "summer volleyball",
          "our little life",
          "said lets go vacation heaven",
          "yellow rain",
          "prison break évolution",
          "getting ready summer",
          "pop morning",
          "baby bootcamp",
          "returned nature refuge months renewed",
          "months",
          "backpack backpack",
          "always summer",
          "month girl",
          null
         ],
         "marker": {
          "opacity": 0.5,
          "size": 5
         },
         "mode": "markers+text",
         "name": "20_summer_backpack_months",
         "text": [
          "",
          "",
          "",
          "",
          "",
          "",
          "",
          "",
          "",
          "",
          "",
          "",
          "",
          "",
          "",
          "20_summer_backpack_months"
         ],
         "textfont": {
          "size": 12
         },
         "type": "scattergl",
         "x": {
          "bdata": "sDoOQc/TEkGfUQ1B2AoQQTKME0E4wwxBYlYQQQ0jDkGxCg1B7A8QQdlVEEG0/wxBBeQPQcrYDEFFJA5B8BkPQQ==",
          "dtype": "f4"
         },
         "y": {
          "bdata": "zxbqvyqPK8AXR+W/pbCNv9aOiL/VOfS/qfbMv59Q3r/as82/Y43Cv5PdGsCIM+K/dzy3v3Xk4b8U6Ma/2Qfcvw==",
          "dtype": "f4"
         }
        },
        {
         "hoverinfo": "text",
         "hovertext": [
          "demain autres astuces nutrition",
          "brioche comme boulangerie ingrédients ml lait tiede g levure boulangère cuillère soupe sucre cuillère soupe huile végétale g farine sachet sucre vanille pincée sel g beurre mou oeuf crème pâtissière g lait cuill soupe sucre cuill café arôme vanille jaune œuf cuillère soupe maïzena bien remuer tout porter feu moyen tout remuant jusqu épaississement lorsque épais éteindre feu couvrir crème filme alimentaire puis réserver frigo pendant mn après temps fouetter crème obtenir consistance homogène crème apporte côté plus gourmand brioche obligatoire donc voir",
          "recette plus facile meilleurs croissants pouvez faire chez désormais régaler toute famille ingrédients g farine ml lait tiede oeuf ml huile cuill soupe g sucre cuill soupe sachet sucre vanille g levure boulangère g beurre mou feuilletage cuill soupe maïzena chaque étape expliquée vidéo",
          "tarte tomate refait cette année tarte a fait connaître reseaux juste exceptionnellement délicieuse ingrédients g g farine cas huile olive yaourt grecque g quelques graines sésames nigelle tomates jaune noire rouge oignon rouge cas miel gousse ail cas moutarde chapelure stracciatella buratta bol viens mélangez farine huile olive yaourt sésame formes boule pâte viens réserver frais pendant h ensuite étales pâte papier cuisson viens disposez moutarde chapelure tomate rende eau rondelles tomates ensuite mélanges oignons émincés bol miel disposes dessus tarte gousse ail rabats bords tarte enfournes min a attends refroidisse peu disposes quelques feuilles basilic optionnel stracciatella milieu",
          "anzeige eigene gewürze flammkuchentoast zutaten toasts g schmand g frischkäse crème fraîche g schinkenwürfel handvoll geriebener käse plus extra bestreuen scheiben sandwich toast stabileren steaksalz zubereitung creme anrühren schmand frischkäse crème fraîche schüssel glatt rühren füllen schinkenwürfel handvoll geriebenen käse creme mischen steaksalz würzen bestreichen creme großzügig toastscheiben streichen käse toppen geriebenen käse belegten toasts streuen backen vorgeheizten backofen c ober unterhitze backen oberfläche schön goldbraun ca minuten je ofen tipp schmeckt heiß besten perfekt snack schnelles abendessen partyfood",
          "canapé extérieur palettes palettes canapé cette technique super facile rapide réaliser super salon jardin rapidement cher",
          "einfachste apfelkuchen welt geht total einfach unglaublich lecker braucht handvoll zutaten außerdem sieht richtig schön zutaten äpfel g mehl g zucker g erythrit eier ml milch einfach geht s zuerst schneiden äpfel kleine stücke geben einfach zutaten teig schüssel mixen schön schneebesen danach kommen schon äpfel aufs backblech darüber teig schön verteilen blech kommt ober unterhitze circa minuten ofen herausholen puderzucker darübergeben genießen sicher lieben werdet spaß beim nachmachen guten appetit",
          "salade concombre saumon avocat waouh fallait absolument teste cette salade vraiment cette recette devez absolument essayer parfait quand zéro envie cuisiner quand envie bien manger ingrédients personne concombre avocat poignée saumon fumé oignon rouge soupe saint moret jus citron soupe huile olive ciboulette ciselé sel graines sésame ail oignons séchés instructions coupe concombre fines rondelles émince oignon rouge coupe avocat dés ajoute poisson fumé bol part mélange saint moret citron huile olive ciboulette sel verse cette sauce salade mélange bien saupoudre généreusement graines sésame ail oignon séché régalez recette by soycetogenica",
          "antwort folgt mehr schnelle kreative rezepte speichern vergessen wollt nochmal zutaten packung puddingpulver vanille wonach g zucker becher magerquark ei rolle blätterteig geht s rühr spaß zusammen schüssel puddingpulver zucker quark ei einfach zusammenrühren cremige masse entsteht blätterteig roll blätterteig verteile quark pudding mischung gleichmäßig drauf legst entweder zweite lage blätterteig drüber klappst hälfte rüber je nachdem hast streifen schneiden pizzaschneider schneidest gefüllten teig schöne stangen gerade schräg ganz willst ab ofen backblech backpapier grad ober unterhitze ca minuten backen schön goldbraun kurz abkühlen lassen s schaffst warten direkt reinbeißen optional zuckerguss",
          "tl dr cadbury dairy milk bars sold uk manufactured poland provably different flavour manufactured birmingham yes background around three years ago conducted scientific taste test caterpillar cakes published casualuk moderate interest keeping eye similar chocolate based questions high priority friend recently linked concerning claim cadbury dairy milk bars theory goes historically cadbury made chocolate bournville birmingham moved production factories poland bars also sold uk alongside bournville site allegedly inferior raising deep ethical problem essentially knock chocolate sold real thing formal comparison two types made tantalisingly possible identifying codes printed back bars scouring shops revealed shortage obo bars bourneville insignificant number osk bars osk allegedly means skarbimierz poland bars still sold poland alongside birmingham question remains timely properly assess conducted blinded taste test obo vs osk bars determine indeed different rated superior methods two questions study sought answer obo bars different flavour osk bars one generally found preferable objectives explored via single blinded taste test obo osk dairy milk bars purchased shops uk sheffield london obo bars came multipack segment design osk bars expiry dates reasonably matched one chosen random bbe chocolate prepared half segments blinded study team member take part experiment chocolate assigned two numbers split evenly four bowls labelled bowls obo osk sixteen volunteers took part taste test participants make total four comparisons comparison would use two samples different bowls ordered fashion two volunteer comparisons would compare like like one instance obo vs obo another osk vs osk two comparisons would compare different chocolates participants informed purpose including known control trials mitigate placebo effects make volunteer feel able label given comparison different participants additionally reminded different chocolates may fact also taste ordering comparisons randomised subjects balance first level general order different trials second level balance different trials participants tasted obo first osk first comparison subjects first indicated response sheet believed chocolates taste different via tickbox options selected different gave whole number rate flavour worst imaginable chocolate best imaginable chocolate statistical analysis examined pattern responses across individual participant using binomial testing words number participants correctly identified four comparisons terms different compared expected number participants would chance alone see happened often expected thus indicating chocolates fact different two different baseline random chance probabilities used test worked different assumptions manner participants may make decisions one may arguably underestimate frequently correct answers could picked chance another arguably overestimates information given calculation figures end study event significant result posthoc analyses would compare chocolate ratings subgroup participants correctly differentiated two final exploratory analysis participants invited eat additional dairy milk bars sourced south africa coded osa asked opinion bars openly different recipe expected different results sixteen participants six rated four comparisons correctly respect different chocolates binomal test outcome compared liberal estimate event indicated inflated rate highly statistically significant degree p also significantly greater frequency compared conservative estimate event p flavour ratings six individuals consistent within e person rated chocolate preferable times different comparison however neither chocolate consistently preferred test rating scores non significant p pertinently chocolate type rated preferable three members group six south african chocolate called shit like american crap making realise marking polish stuff far harsh conclusion results produce compelling evidence birmingham dairy milk noticeably different flavour polish dairy milk serious questions therefore raised practice selling bars uk shelves product appears little half people may sufficiently developed taste reliably tell apart discerning individuals notice difference rate far greater chance fact results obtained statistically significant degrees despite small size study intentionally challenging statistical design suggestive particularly strong effect strikingly however study different mean better bar enjoyed equal taste preference among foodies group whether absolves cadbury guilt mixing products together authors work comment although encourage legal philosophical experts address issue haste british public urged stay away south african dairy milk calculation binomial test baselines first approach calculating probability person getting four chocolate comparisons correct purely random chance assumed decision making process could equivalent winning four coin flips row event however account expectation participants two comparisons chocolate two different chocolate subjects instructed pick two two way across responses likely motivation pattern answers way arguably equivalent correctly calling four coin flips knowing two heads two tails event human psychology complex true behaviour volunteers somewhere nonetheless figures used analyses explore either extreme",
          "stand affordable recipe given priced per serving recipe per serving well serving even look like like oh add cents onion even cents onion people judge prices based grocery store total price per serving much important regular people worried budget also conveniently leave leftover ingredients well talk using third coconut milk might cents worth count two thirds leave behind already paid",
          "ernährungstipps zucker gibt ja viele dran aussagen zero zucker influencern glucose goddess zucker okay problem zucker kalorien wissenschaftlichen studien beim thema zucker überraschend uneindeutig deshalb nerden rein ernährungswissenschaften holt tee macht gemütlich steigen mehr maithink x folgen maithink x show maithink xperts talks instagram youtube kanal abonnieren infos hilfsangebote essstörungen info seite bundesinstitut öffentliche gesundheit übersicht hilfsangebote kapitel intro zucker okay basics passiert körper glucose goddess blutzuckerkurven zucker vs kalorien energy balance model carbohydrate insulin model larssche brücke suchtpotenzial netiquette produktion mai thi nguyen kim bildundtonfabrik zdfneo impressum quellen agarwal et al j alzheimers dis ahmed et al biomed pharmacother bmel brand miller et al j clin nutr bundesanstalt landwirtschaft ernährung bundesministerium gesundheit eckel diabetologia gaesser angadi iscience gracner et al science hall et al j clin nutr huang et al bmj hwang et al alzheimers dement jeong et al sci rep ludwig et al eur j clin nutr koster et al obesity malik hu j coll cardiol moon et al obes facts murray rosenbloom nutr rev nilsson et al j clin nutr pi sunyer postgrad med te morenga et al bmj tiruneh int j disabil hum dev vera ponce et al endocr metab sci verordnung eu nr visontay et al bmc med res methodol who wirtschaftliche vereinigung zucker verein zuckerindustrie wirtschaftliche vereinigung zucker stand februar",
          "transformation inshape nutrition",
          "low carb zucchini rolle sooo schnell zubereitet unglaublich lecker sättigt total ganzen proteine zutaten zucchini eier g light reibekäse g hack ml milch g feta käse salz paprikapulver sesam tomatenmark zucchini scheiben schneiden backblech verteilen eier aufschlagen verrühren zusammen reibekäse milch gewürzen zucchini laufen lassen kommt sesam spiel blech min umluft ofen geben danach hack tomatenmark anbraten blech ofen nehmen reibekäse feta hack darauf verteilen ganze einrollen nochmal kurz ofen geben sodass käse schmilzt fertig spaß beim nachkochen findet low carb varianten",
          null
         ],
         "marker": {
          "opacity": 0.5,
          "size": 5
         },
         "mode": "markers+text",
         "name": "21_different_bars_et",
         "text": [
          "",
          "",
          "",
          "",
          "",
          "",
          "",
          "",
          "",
          "",
          "",
          "",
          "",
          "",
          "21_different_bars_et"
         ],
         "textfont": {
          "size": 12
         },
         "type": "scattergl",
         "x": {
          "bdata": "ZfY/QWvpPkHxMT9BCXs+QaXpPkHS6j5B7kI/Qe/2PkG5ID9BfZQ8QcoFPkGs8T9BIUI/Qb1ZP0Gx6z5B",
          "dtype": "f4"
         },
         "y": {
          "bdata": "+50hwJYrIsA/tyLAZoQfwGjwIsDCFSHAeTUjwEy8IcDmLSPA/QkcwODJH8BWGiLAcgcjwClBI8BHmSHA",
          "dtype": "f4"
         }
        },
        {
         "hoverinfo": "text",
         "hovertext": [
          "wrt asmr triggers today",
          "sleepy asmr triggers deep sleep relaxation",
          "asmr journal pink butterfly floral cozy warm space positivity products linked bio journal amazon supplies temu",
          "bio",
          "ysk empty packets jar save beads next time need prevent humidity small medium sized space never go bad become unusable eventually saturated pick humidity need refresh put oven f hour good new keep small airtight jar time buy pair shoes electronics anything includes silica gel beads save often come handy every month thank",
          "asmr full fridge restock satisfying sounds aesthetic vibes shop everything bio",
          "tecnologya",
          "link bio best performance enhancers",
          "mask slipped",
          "save woods kit available bio",
          "tracksuit bodycream link bio took surprise",
          "asmr soap crashing",
          "mins pure asmr relaxation sleep",
          null
         ],
         "marker": {
          "opacity": 0.5,
          "size": 5
         },
         "mode": "markers+text",
         "name": "22_bio_asmr_triggers",
         "text": [
          "",
          "",
          "",
          "",
          "",
          "",
          "",
          "",
          "",
          "",
          "",
          "",
          "",
          "22_bio_asmr_triggers"
         ],
         "textfont": {
          "size": 12
         },
         "type": "scattergl",
         "x": {
          "bdata": "9yYPQUAqD0HMpBNBSvcUQQ+EE0ET6hBBPvwkQUk2FEHmuSFBxaoTQcmFFEF8Ig9BSyIPQRisFEE=",
          "dtype": "f4"
         },
         "y": {
          "bdata": "PEAgwIH3HMA59BfAdeIQwM9JGcA77SDAl1lZPxcHE8DJ4gHAzf4TwKTaEMBrxR/Aei0cwHtbB8A=",
          "dtype": "f4"
         }
        },
        {
         "hoverinfo": "text",
         "hovertext": [
          "таджичка поёт катюшу с летием великой победы",
          "не могу без кофты с ним жить",
          "ответ пользователю",
          "replying тунг тунг тунг сахур",
          "хахахаха до конца",
          "giveaway само за инстаграм искаш ли да спечелиш броя протеиново кисело мляко йоанна и брандирана чаша как да участваш последвай напиши в коментар кое е твоето любимо фитнес ястие с кисело мляко тагни приятел който също би се включил по желание награда броя протеиново кисело мляко йоанна специална чаша победителят ще бъде изтеглен на и обявен на стори в моя профил",
          "готовим паста карбонара",
          "используете масло перед мытьём у меня есть инстаграм zai dz если хотите еще больше роликов переходите пришлось создать себе аккаунт в тик ток потому что непонятный пользователь из саудовской аравии копировал мои ролики из инсты и весьма успешно выдавал себя за меня в тик ток теперь я лишила его такой возможности надеюсь на ваш актив",
          "май лидл пони алдинозавър и била камила lidl pony aldinozevur billa kamilla",
          "когда хейтерам не понравился мой лак inst luna_basendji",
          "трек tralalelo tralala уже на всех площадках",
          "новый способ подачи блюд",
          null
         ],
         "marker": {
          "opacity": 0.5,
          "size": 5
         },
         "mode": "markers+text",
         "name": "23_на_тунг_кисело",
         "text": [
          "",
          "",
          "",
          "",
          "",
          "",
          "",
          "",
          "",
          "",
          "",
          "",
          "23_на_тунг_кисело"
         ],
         "textfont": {
          "size": 12
         },
         "type": "scattergl",
         "x": {
          "bdata": "mVZpQQw8aUFkSmlB1B9lQSYoaUETsGlBc0RpQf2vaUENOWlBJVNpQQNkaUFeVWlBQQFpQQ==",
          "dtype": "f4"
         },
         "y": {
          "bdata": "JZlVP9pZUz/KK1M/9MBIPxOmVD9VKlo/g4xUPyhmWT/VeVY/8JJVPxpUVj+/bVU/dclUPw==",
          "dtype": "f4"
         }
        },
        {
         "hoverinfo": "text",
         "hovertext": [
          "ranking best school pranks",
          "award best prank goes",
          "clean anatoly prank",
          "replying sg bangin bathroom prank",
          "walk nastyyy go ahead cousin",
          "anatoly mop prank kg",
          "mind granny cops prank",
          "pranking friends",
          "oh word angryginge liked one",
          "replying put wet paper towel fine",
          "le prankeur pranké",
          "fart spray elevator prank fart spray prank",
          null
         ],
         "marker": {
          "opacity": 0.5,
          "size": 5
         },
         "mode": "markers+text",
         "name": "24_prank_fart_anatoly",
         "text": [
          "",
          "",
          "",
          "",
          "",
          "",
          "",
          "",
          "",
          "",
          "",
          "",
          "24_prank_fart_anatoly"
         ],
         "textfont": {
          "size": 12
         },
         "type": "scattergl",
         "x": {
          "bdata": "m/DxQN2X8UBVx/JAe7bwQAeb8EBKDvVA+YHwQMHn8UC3D/JA6kvxQLaa8UAMQ/FA5MbxQA==",
          "dtype": "f4"
         },
         "y": {
          "bdata": "UW7iv3P54b9jX+W/WV7nv9AE279tsuO/VXLjv+304L+YV9i/7Qz4v9jh4L8dquS/YITjvw==",
          "dtype": "f4"
         }
        },
        {
         "hoverinfo": "text",
         "hovertext": [
          "the legend of zelda breath of the wild mögen vergehen kommt direkt gaming knast spiel sagen sinnlose kritik gar puren hate verbreiten bioshock spiel legendär top games of all time vielleicht sogar nein sagt trant mag bioshock deswegen sitzt gittern kuro mag hollow knight skandal schlechten meinungen müssen kuro markus trant gefängnis büßen lange games nochmal gezockt wirklich beurteilen kritik gerechtfertigt einfach unpopular opinion komplett dumm erwartet sekunden spiel gar abgeholt bioshock the legend of zelda breath of the wild hollow knight social media kanäle game two facebook instagram podcast gehts lang itunes spotify rss feed gehören zdfneo mehr davon gibt s instagram youtube zdf mediathek impressum netiquette",
          "elder scrolls iv oblivion remastered experience beloved classic modern look refined suite features updates previously broadcast",
          "first played skyrim first elder scrolls game immediately supported stormcloaks due classic rebellions supposed fascism cliche however many playthroughs became sympathizer empire prepare next great war obvious thalmor wanted empire fragmented believed playing ulfric hands would ultimately play thalmor interestingly playing oblivion remaster noticed noble loyal motivated empire soldiers citizens kvatch three imperial soldiers joined fray saw smoke roadside every mounted legionnaire ensures run trouble let know one palace guards told works better city denizens even death emperor citizens tamriel mourning recognize empire skyrim mede septim empire nice see could translate could oblivion exemplifies civilization offer unified society reinforces decision civil war skyrim edit also shoutout everyone stormcloak side providing reasonings discussion much better differing opinions helps see sides better light",
          "years anticipation minecraft finally receiving major visual upgrade bringing enhanced lighting shadows atmospheric effects blocky world love announcement sparked excitement skepticism among players particularly regarding platform availability performance compares existing mods",
          "elder scrolls iv oblivion remastered experience beloved classic modern look refined suite features updates bethesda game studios foundational open world role playing game set stage nearly everything accomplished years since remastered returning players newcomers alike experience iconic rpg breathtaking new look get depth look refinements oblivion remastered visuals gameplay information elder scrolls please visit follow us social media instagram twitter x facebook bluesky discord esrb rating mature violence blood gore sexual themes",
          "elder scrolls iv oblivion remastered pc ps xbox series x remaster beloved rpg classic let talk subscribe",
          "pathetic upvote farming scrolled posts say exact thing oblivion amazing skyrim amazing morrowind amazing realise game qualities others morrowinds story superior gameplay horrible oblivion great story bugs terrible like bad bethesda game quests break original remaster without reddit help would able continue side quests daedric realms oblivion superior games enemy variety design also top notch skyrims combat overall good outdated better elder scrolls skyrim better open world actually tonnes random encounters opinion better immersion main story bad dlcs good oblivion amazing cities something else love game know post really oblivion related mainly post matter worry lol edit people seem think like skyrim oblivion true prefer oblivion grew everyone arguing im sad oblivion better skyrim need understand posts point",
          "links elder scrolls iv oblivion remastered modernizes game year new stunning visuals refined gameplay explore vast landscape cyrodiil like never stop forces oblivion overtaking land one greatest rpgs ever award winning bethesda game studios rediscover cyrodiil journey rich world tamriel battle across planes oblivion handcrafted details meticulously recreated ensure moment exploration awe inspiring navigate story noble warrior sinister assassin wizened sorcerer scrappy blacksmith forge path play way want experience epic adventure step inside universe bursting captivating stories encounter unforgettable cast characters master swordcraft wield powerful magic fight save tamriel daedric invasion complete story experience everything oblivion offer previously released story expansions shivering isles knights nine additional downloadable content included elder scrolls iv oblivion remastered official description subscribe bestest friend",
          "welcome elder scrolls oblivion remaster announced released depending whatever whim todd howard bethesda might ok post video upload yeah released bethesda softworks hard work something new felt perfect time spiffing brit return oblivion break one last time create perfect character become god find last glitch oblivion pull exploit eluded internet many years sit back get comfortable find elder scrolls oblivion perfectly balanced game exploits perhaps todd howard added special gameplay features video going packed funny clips montage style british humor enjoyed check exploit videos featuring strategy games complaints todd howard might custom magic spells elder scrolls good morrowind also rather similar robbaz valefisk rt game style content sit back enjoy spiffing brit chapters someone remake game build hero workshop elf get let get going counter intuitive quest hold potion works beyond reasonable limits spell crafting get low time punch substantial challenge getting big fight join channel get access perks patreon twitter discord title thank god broken elder scrolls oblivion perfectly balanced game exploits",
          "release the elder scrolls iv oblivion ziemlich überrascht bethesda rollenspiel shadow drop veröffentlicht natürlich müssen legendären game neuauflage review verpassen grafik gameplay trotz remaster statt remake geändert ebenfalls heißes thema letzten wochen extraction arc raiders embark studios leuten the finals battlefield marathon neuen spiel bungie studio halo destiny gab direkt zwei playtests parallel genre zuhause neuen folge unserer kategorie ausgegraben beschäftigen kuro prakti ramon außerdem final fantasy bzw x spiel ramon leidenschaft videospielen geweckt erwartet the elder scrolls iv oblivion extraction shooters final fantasy x social media kanäle game two facebook instagram podcast gehts lang itunes spotify rss feed gehören zdfneo mehr davon gibt s instagram youtube zdf mediathek impressum netiquette",
          "explore cyrodiil like never elder scrolls iv oblivion remastered available xbox series x game pass playstation pc elder scrolls iv oblivion remastered modernizes game year new stunning visuals refined gameplay explore vast landscape cyrodiil like never stop forces oblivion overtaking land one greatest rpgs ever award winning bethesda game studios information elder scrolls please visit follow us social media instagram twitter x facebook bluesky discord esrb rating mature violence blood gore sexual themes",
          "see alot players min maxing attempting use skills keep character overleveling viable strategy og oblivion leveling system made hard achieve perfect level using multiple skills og oblivion could easily mess build leveling wrong time getting main attributes remaster fixed gives attribute points spend please every level regardless skills used get level reason still level trying save bruma seige unless making role play build minimal combat skills avoiding leveling depriving character better loot real reason",
          null
         ],
         "marker": {
          "opacity": 0.5,
          "size": 5
         },
         "mode": "markers+text",
         "name": "25_oblivion_scrolls_elder",
         "text": [
          "",
          "",
          "",
          "",
          "",
          "",
          "",
          "",
          "",
          "",
          "",
          "",
          "25_oblivion_scrolls_elder"
         ],
         "textfont": {
          "size": 12
         },
         "type": "scattergl",
         "x": {
          "bdata": "E6wLQUBWC0FyNAtBhYILQVB9C0HzYAtB5hwLQdFKC0FVZgtBkkMLQdo+C0ELCgtBLFQLQQ==",
          "dtype": "f4"
         },
         "y": {
          "bdata": "cxWNwJp7jsDux43AmZ6NwEKsjsCLdI7A2G2OwP1mjsC6e47AGZiOwFuhjsBza47AJkGOwA==",
          "dtype": "f4"
         }
        },
        {
         "hoverinfo": "text",
         "hovertext": [
          "かかったら",
          "途中カラス来てびっくりした笑 左 これめっちゃ頭痛くなる",
          "這耳朵會不會背了",
          "爱情最后的归宿",
          "公式tiktok開設 劇場版 鬼滅の刃 無限城編 第一章 全国劇場にて 月 日 金 公開 決戦の火蓋を切る",
          "台湾加油 罢免国民党",
          "ᥫ",
          "အလ တ song ပ င ခ င ဒ ပ င",
          "ဒ ဝ န",
          "𝓐 𝓡 𝓐",
          "got またすぐにお会いしましょう stay",
          null
         ],
         "marker": {
          "opacity": 0.5,
          "size": 5
         },
         "mode": "markers+text",
         "name": "26_これめっちゃ頭痛くなる_公開_全国劇場にて",
         "text": [
          "",
          "",
          "",
          "",
          "",
          "",
          "",
          "",
          "",
          "",
          "",
          "26_これめっちゃ頭痛くなる_公開_全国劇場にて"
         ],
         "textfont": {
          "size": 12
         },
         "type": "scattergl",
         "x": {
          "bdata": "OO6HQXn2h0GM7IdBfACIQQfqh0Gm/YdB/P6HQVv8h0EG/IdBsfuHQd+Th0GU7odB",
          "dtype": "f4"
         },
         "y": {
          "bdata": "q8GNv/ALjr8aW42/Y5eOvzvzjb+1U46/oF2Ov8p1jr92SI6/9UGOv7Ovib8NvI2/",
          "dtype": "f4"
         }
        },
        {
         "hoverinfo": "text",
         "hovertext": [
          "tung tung tung sahur ballerina capuchina",
          "tung tung tung tung sahur brainrot game",
          "tung tung tung tung sahur nela",
          "oha brainrot redbull tung tung sahur",
          "tung tung tung sahur nooo",
          "tung tung tung ronaldo",
          "tung tung comes ones oversleep sahur",
          "tung tung tung tung sahur nela intro",
          "tung tung tung sahur edit",
          "sultan salahuddin ayub edit",
          "full track already released available spotify tung tung tung sahur ballerina cappuccino",
          null
         ],
         "marker": {
          "opacity": 0.5,
          "size": 5
         },
         "mode": "markers+text",
         "name": "27_tung_sahur_nela",
         "text": [
          "",
          "",
          "",
          "",
          "",
          "",
          "",
          "",
          "",
          "",
          "",
          "27_tung_sahur_nela"
         ],
         "textfont": {
          "size": 12
         },
         "type": "scattergl",
         "x": {
          "bdata": "zX9DQYY8REGqLkRBSRJEQcJ3Q0G61kNBrxVEQc/yQ0FgAURBnMRDQWQpQ0Ga10NB",
          "dtype": "f4"
         },
         "y": {
          "bdata": "uGSBP81HiT/30IQ/9RWHP8wqij/CRIQ/0oSIP/rriT+N2oY/F815P+8hgD/8ZIU/",
          "dtype": "f4"
         }
        },
        {
         "hoverinfo": "text",
         "hovertext": [
          "novo modelo no capcut",
          "template makes person memoji rm ib sc violet",
          "new template",
          "try new template edits backup",
          "needed non profit bylaws could see template also pennsylvania board directors",
          "new capcut template new template new template",
          "nunca muda template",
          "new glow template",
          "new template",
          "new trend template 𝙄 𝙇 𝘼",
          "try new template edits backup dibee boo ice",
          null
         ],
         "marker": {
          "opacity": 0.5,
          "size": 5
         },
         "mode": "markers+text",
         "name": "28_template_new_capcut",
         "text": [
          "",
          "",
          "",
          "",
          "",
          "",
          "",
          "",
          "",
          "",
          "",
          "28_template_new_capcut"
         ],
         "textfont": {
          "size": 12
         },
         "type": "scattergl",
         "x": {
          "bdata": "7cM1QbJ1NUH9gjVBLHk1QUN8NUHkiDVBkQs2QcGANUHbvDVBYXs1QdVcNUEHlDVB",
          "dtype": "f4"
         },
         "y": {
          "bdata": "qToJQDFrDkBQEg5ACmQOQPAsDkAaBw5A1xALQBf3DUCDTA1AufsNQH//DkChaw1A",
          "dtype": "f4"
         }
        },
        {
         "hoverinfo": "text",
         "hovertext": [
          "song comes weeks",
          "beautiful things song would like us next",
          "third song mona lisa motion everywhere thursday february",
          "dancehall would incomplete without songs share favorite song",
          "cher performing believe years",
          "mona lisa motion plattforms",
          "check mona lisa motion plattforms",
          "waited years dance trend ib",
          "mcm x lunatix dance",
          "top unexpected singing moments",
          null
         ],
         "marker": {
          "opacity": 0.5,
          "size": 5
         },
         "mode": "markers+text",
         "name": "29_mona_motion_song",
         "text": [
          "",
          "",
          "",
          "",
          "",
          "",
          "",
          "",
          "",
          "",
          "29_mona_motion_song"
         ],
         "textfont": {
          "size": 12
         },
         "type": "scattergl",
         "x": {
          "bdata": "9WQdQcFYHUGY0R5BhWIdQeu+IEF/Gh9B0SEfQWddH0H+KRtBtm0hQZ6WHkE=",
          "dtype": "f4"
         },
         "y": {
          "bdata": "wV0FwN7iA8AXRhDACkMIwOb4B8AGKxHAmuESwKgXFcAR9v6/hQHuv0bwCMA=",
          "dtype": "f4"
         }
        }
       ],
       "layout": {
        "annotations": [
         {
          "showarrow": false,
          "text": "D1",
          "x": -3.4594814658164976,
          "y": 2.4967188239097595,
          "yshift": 10
         },
         {
          "showarrow": false,
          "text": "D2",
          "x": 8.04539526104927,
          "xshift": 10,
          "y": 10.39060845375061
         }
        ],
        "height": 750,
        "shapes": [
         {
          "line": {
           "color": "#CFD8DC",
           "width": 2
          },
          "type": "line",
          "x0": 8.04539526104927,
          "x1": 8.04539526104927,
          "y0": -5.397170805931092,
          "y1": 10.39060845375061
         },
         {
          "line": {
           "color": "#9E9E9E",
           "width": 2
          },
          "type": "line",
          "x0": -3.4594814658164976,
          "x1": 19.55027198791504,
          "y0": 2.4967188239097595,
          "y1": 2.4967188239097595
         }
        ],
        "template": {
         "data": {
          "bar": [
           {
            "error_x": {
             "color": "rgb(36,36,36)"
            },
            "error_y": {
             "color": "rgb(36,36,36)"
            },
            "marker": {
             "line": {
              "color": "white",
              "width": 0.5
             },
             "pattern": {
              "fillmode": "overlay",
              "size": 10,
              "solidity": 0.2
             }
            },
            "type": "bar"
           }
          ],
          "barpolar": [
           {
            "marker": {
             "line": {
              "color": "white",
              "width": 0.5
             },
             "pattern": {
              "fillmode": "overlay",
              "size": 10,
              "solidity": 0.2
             }
            },
            "type": "barpolar"
           }
          ],
          "carpet": [
           {
            "aaxis": {
             "endlinecolor": "rgb(36,36,36)",
             "gridcolor": "white",
             "linecolor": "white",
             "minorgridcolor": "white",
             "startlinecolor": "rgb(36,36,36)"
            },
            "baxis": {
             "endlinecolor": "rgb(36,36,36)",
             "gridcolor": "white",
             "linecolor": "white",
             "minorgridcolor": "white",
             "startlinecolor": "rgb(36,36,36)"
            },
            "type": "carpet"
           }
          ],
          "choropleth": [
           {
            "colorbar": {
             "outlinewidth": 1,
             "tickcolor": "rgb(36,36,36)",
             "ticks": "outside"
            },
            "type": "choropleth"
           }
          ],
          "contour": [
           {
            "colorbar": {
             "outlinewidth": 1,
             "tickcolor": "rgb(36,36,36)",
             "ticks": "outside"
            },
            "colorscale": [
             [
              0,
              "#440154"
             ],
             [
              0.1111111111111111,
              "#482878"
             ],
             [
              0.2222222222222222,
              "#3e4989"
             ],
             [
              0.3333333333333333,
              "#31688e"
             ],
             [
              0.4444444444444444,
              "#26828e"
             ],
             [
              0.5555555555555556,
              "#1f9e89"
             ],
             [
              0.6666666666666666,
              "#35b779"
             ],
             [
              0.7777777777777778,
              "#6ece58"
             ],
             [
              0.8888888888888888,
              "#b5de2b"
             ],
             [
              1,
              "#fde725"
             ]
            ],
            "type": "contour"
           }
          ],
          "contourcarpet": [
           {
            "colorbar": {
             "outlinewidth": 1,
             "tickcolor": "rgb(36,36,36)",
             "ticks": "outside"
            },
            "type": "contourcarpet"
           }
          ],
          "heatmap": [
           {
            "colorbar": {
             "outlinewidth": 1,
             "tickcolor": "rgb(36,36,36)",
             "ticks": "outside"
            },
            "colorscale": [
             [
              0,
              "#440154"
             ],
             [
              0.1111111111111111,
              "#482878"
             ],
             [
              0.2222222222222222,
              "#3e4989"
             ],
             [
              0.3333333333333333,
              "#31688e"
             ],
             [
              0.4444444444444444,
              "#26828e"
             ],
             [
              0.5555555555555556,
              "#1f9e89"
             ],
             [
              0.6666666666666666,
              "#35b779"
             ],
             [
              0.7777777777777778,
              "#6ece58"
             ],
             [
              0.8888888888888888,
              "#b5de2b"
             ],
             [
              1,
              "#fde725"
             ]
            ],
            "type": "heatmap"
           }
          ],
          "histogram": [
           {
            "marker": {
             "line": {
              "color": "white",
              "width": 0.6
             }
            },
            "type": "histogram"
           }
          ],
          "histogram2d": [
           {
            "colorbar": {
             "outlinewidth": 1,
             "tickcolor": "rgb(36,36,36)",
             "ticks": "outside"
            },
            "colorscale": [
             [
              0,
              "#440154"
             ],
             [
              0.1111111111111111,
              "#482878"
             ],
             [
              0.2222222222222222,
              "#3e4989"
             ],
             [
              0.3333333333333333,
              "#31688e"
             ],
             [
              0.4444444444444444,
              "#26828e"
             ],
             [
              0.5555555555555556,
              "#1f9e89"
             ],
             [
              0.6666666666666666,
              "#35b779"
             ],
             [
              0.7777777777777778,
              "#6ece58"
             ],
             [
              0.8888888888888888,
              "#b5de2b"
             ],
             [
              1,
              "#fde725"
             ]
            ],
            "type": "histogram2d"
           }
          ],
          "histogram2dcontour": [
           {
            "colorbar": {
             "outlinewidth": 1,
             "tickcolor": "rgb(36,36,36)",
             "ticks": "outside"
            },
            "colorscale": [
             [
              0,
              "#440154"
             ],
             [
              0.1111111111111111,
              "#482878"
             ],
             [
              0.2222222222222222,
              "#3e4989"
             ],
             [
              0.3333333333333333,
              "#31688e"
             ],
             [
              0.4444444444444444,
              "#26828e"
             ],
             [
              0.5555555555555556,
              "#1f9e89"
             ],
             [
              0.6666666666666666,
              "#35b779"
             ],
             [
              0.7777777777777778,
              "#6ece58"
             ],
             [
              0.8888888888888888,
              "#b5de2b"
             ],
             [
              1,
              "#fde725"
             ]
            ],
            "type": "histogram2dcontour"
           }
          ],
          "mesh3d": [
           {
            "colorbar": {
             "outlinewidth": 1,
             "tickcolor": "rgb(36,36,36)",
             "ticks": "outside"
            },
            "type": "mesh3d"
           }
          ],
          "parcoords": [
           {
            "line": {
             "colorbar": {
              "outlinewidth": 1,
              "tickcolor": "rgb(36,36,36)",
              "ticks": "outside"
             }
            },
            "type": "parcoords"
           }
          ],
          "pie": [
           {
            "automargin": true,
            "type": "pie"
           }
          ],
          "scatter": [
           {
            "fillpattern": {
             "fillmode": "overlay",
             "size": 10,
             "solidity": 0.2
            },
            "type": "scatter"
           }
          ],
          "scatter3d": [
           {
            "line": {
             "colorbar": {
              "outlinewidth": 1,
              "tickcolor": "rgb(36,36,36)",
              "ticks": "outside"
             }
            },
            "marker": {
             "colorbar": {
              "outlinewidth": 1,
              "tickcolor": "rgb(36,36,36)",
              "ticks": "outside"
             }
            },
            "type": "scatter3d"
           }
          ],
          "scattercarpet": [
           {
            "marker": {
             "colorbar": {
              "outlinewidth": 1,
              "tickcolor": "rgb(36,36,36)",
              "ticks": "outside"
             }
            },
            "type": "scattercarpet"
           }
          ],
          "scattergeo": [
           {
            "marker": {
             "colorbar": {
              "outlinewidth": 1,
              "tickcolor": "rgb(36,36,36)",
              "ticks": "outside"
             }
            },
            "type": "scattergeo"
           }
          ],
          "scattergl": [
           {
            "marker": {
             "colorbar": {
              "outlinewidth": 1,
              "tickcolor": "rgb(36,36,36)",
              "ticks": "outside"
             }
            },
            "type": "scattergl"
           }
          ],
          "scattermap": [
           {
            "marker": {
             "colorbar": {
              "outlinewidth": 1,
              "tickcolor": "rgb(36,36,36)",
              "ticks": "outside"
             }
            },
            "type": "scattermap"
           }
          ],
          "scattermapbox": [
           {
            "marker": {
             "colorbar": {
              "outlinewidth": 1,
              "tickcolor": "rgb(36,36,36)",
              "ticks": "outside"
             }
            },
            "type": "scattermapbox"
           }
          ],
          "scatterpolar": [
           {
            "marker": {
             "colorbar": {
              "outlinewidth": 1,
              "tickcolor": "rgb(36,36,36)",
              "ticks": "outside"
             }
            },
            "type": "scatterpolar"
           }
          ],
          "scatterpolargl": [
           {
            "marker": {
             "colorbar": {
              "outlinewidth": 1,
              "tickcolor": "rgb(36,36,36)",
              "ticks": "outside"
             }
            },
            "type": "scatterpolargl"
           }
          ],
          "scatterternary": [
           {
            "marker": {
             "colorbar": {
              "outlinewidth": 1,
              "tickcolor": "rgb(36,36,36)",
              "ticks": "outside"
             }
            },
            "type": "scatterternary"
           }
          ],
          "surface": [
           {
            "colorbar": {
             "outlinewidth": 1,
             "tickcolor": "rgb(36,36,36)",
             "ticks": "outside"
            },
            "colorscale": [
             [
              0,
              "#440154"
             ],
             [
              0.1111111111111111,
              "#482878"
             ],
             [
              0.2222222222222222,
              "#3e4989"
             ],
             [
              0.3333333333333333,
              "#31688e"
             ],
             [
              0.4444444444444444,
              "#26828e"
             ],
             [
              0.5555555555555556,
              "#1f9e89"
             ],
             [
              0.6666666666666666,
              "#35b779"
             ],
             [
              0.7777777777777778,
              "#6ece58"
             ],
             [
              0.8888888888888888,
              "#b5de2b"
             ],
             [
              1,
              "#fde725"
             ]
            ],
            "type": "surface"
           }
          ],
          "table": [
           {
            "cells": {
             "fill": {
              "color": "rgb(237,237,237)"
             },
             "line": {
              "color": "white"
             }
            },
            "header": {
             "fill": {
              "color": "rgb(217,217,217)"
             },
             "line": {
              "color": "white"
             }
            },
            "type": "table"
           }
          ]
         },
         "layout": {
          "annotationdefaults": {
           "arrowhead": 0,
           "arrowwidth": 1
          },
          "autotypenumbers": "strict",
          "coloraxis": {
           "colorbar": {
            "outlinewidth": 1,
            "tickcolor": "rgb(36,36,36)",
            "ticks": "outside"
           }
          },
          "colorscale": {
           "diverging": [
            [
             0,
             "rgb(103,0,31)"
            ],
            [
             0.1,
             "rgb(178,24,43)"
            ],
            [
             0.2,
             "rgb(214,96,77)"
            ],
            [
             0.3,
             "rgb(244,165,130)"
            ],
            [
             0.4,
             "rgb(253,219,199)"
            ],
            [
             0.5,
             "rgb(247,247,247)"
            ],
            [
             0.6,
             "rgb(209,229,240)"
            ],
            [
             0.7,
             "rgb(146,197,222)"
            ],
            [
             0.8,
             "rgb(67,147,195)"
            ],
            [
             0.9,
             "rgb(33,102,172)"
            ],
            [
             1,
             "rgb(5,48,97)"
            ]
           ],
           "sequential": [
            [
             0,
             "#440154"
            ],
            [
             0.1111111111111111,
             "#482878"
            ],
            [
             0.2222222222222222,
             "#3e4989"
            ],
            [
             0.3333333333333333,
             "#31688e"
            ],
            [
             0.4444444444444444,
             "#26828e"
            ],
            [
             0.5555555555555556,
             "#1f9e89"
            ],
            [
             0.6666666666666666,
             "#35b779"
            ],
            [
             0.7777777777777778,
             "#6ece58"
            ],
            [
             0.8888888888888888,
             "#b5de2b"
            ],
            [
             1,
             "#fde725"
            ]
           ],
           "sequentialminus": [
            [
             0,
             "#440154"
            ],
            [
             0.1111111111111111,
             "#482878"
            ],
            [
             0.2222222222222222,
             "#3e4989"
            ],
            [
             0.3333333333333333,
             "#31688e"
            ],
            [
             0.4444444444444444,
             "#26828e"
            ],
            [
             0.5555555555555556,
             "#1f9e89"
            ],
            [
             0.6666666666666666,
             "#35b779"
            ],
            [
             0.7777777777777778,
             "#6ece58"
            ],
            [
             0.8888888888888888,
             "#b5de2b"
            ],
            [
             1,
             "#fde725"
            ]
           ]
          },
          "colorway": [
           "#1F77B4",
           "#FF7F0E",
           "#2CA02C",
           "#D62728",
           "#9467BD",
           "#8C564B",
           "#E377C2",
           "#7F7F7F",
           "#BCBD22",
           "#17BECF"
          ],
          "font": {
           "color": "rgb(36,36,36)"
          },
          "geo": {
           "bgcolor": "white",
           "lakecolor": "white",
           "landcolor": "white",
           "showlakes": true,
           "showland": true,
           "subunitcolor": "white"
          },
          "hoverlabel": {
           "align": "left"
          },
          "hovermode": "closest",
          "mapbox": {
           "style": "light"
          },
          "paper_bgcolor": "white",
          "plot_bgcolor": "white",
          "polar": {
           "angularaxis": {
            "gridcolor": "rgb(232,232,232)",
            "linecolor": "rgb(36,36,36)",
            "showgrid": false,
            "showline": true,
            "ticks": "outside"
           },
           "bgcolor": "white",
           "radialaxis": {
            "gridcolor": "rgb(232,232,232)",
            "linecolor": "rgb(36,36,36)",
            "showgrid": false,
            "showline": true,
            "ticks": "outside"
           }
          },
          "scene": {
           "xaxis": {
            "backgroundcolor": "white",
            "gridcolor": "rgb(232,232,232)",
            "gridwidth": 2,
            "linecolor": "rgb(36,36,36)",
            "showbackground": true,
            "showgrid": false,
            "showline": true,
            "ticks": "outside",
            "zeroline": false,
            "zerolinecolor": "rgb(36,36,36)"
           },
           "yaxis": {
            "backgroundcolor": "white",
            "gridcolor": "rgb(232,232,232)",
            "gridwidth": 2,
            "linecolor": "rgb(36,36,36)",
            "showbackground": true,
            "showgrid": false,
            "showline": true,
            "ticks": "outside",
            "zeroline": false,
            "zerolinecolor": "rgb(36,36,36)"
           },
           "zaxis": {
            "backgroundcolor": "white",
            "gridcolor": "rgb(232,232,232)",
            "gridwidth": 2,
            "linecolor": "rgb(36,36,36)",
            "showbackground": true,
            "showgrid": false,
            "showline": true,
            "ticks": "outside",
            "zeroline": false,
            "zerolinecolor": "rgb(36,36,36)"
           }
          },
          "shapedefaults": {
           "fillcolor": "black",
           "line": {
            "width": 0
           },
           "opacity": 0.3
          },
          "ternary": {
           "aaxis": {
            "gridcolor": "rgb(232,232,232)",
            "linecolor": "rgb(36,36,36)",
            "showgrid": false,
            "showline": true,
            "ticks": "outside"
           },
           "baxis": {
            "gridcolor": "rgb(232,232,232)",
            "linecolor": "rgb(36,36,36)",
            "showgrid": false,
            "showline": true,
            "ticks": "outside"
           },
           "bgcolor": "white",
           "caxis": {
            "gridcolor": "rgb(232,232,232)",
            "linecolor": "rgb(36,36,36)",
            "showgrid": false,
            "showline": true,
            "ticks": "outside"
           }
          },
          "title": {
           "x": 0.05
          },
          "xaxis": {
           "automargin": true,
           "gridcolor": "rgb(232,232,232)",
           "linecolor": "rgb(36,36,36)",
           "showgrid": false,
           "showline": true,
           "ticks": "outside",
           "title": {
            "standoff": 15
           },
           "zeroline": false,
           "zerolinecolor": "rgb(36,36,36)"
          },
          "yaxis": {
           "automargin": true,
           "gridcolor": "rgb(232,232,232)",
           "linecolor": "rgb(36,36,36)",
           "showgrid": false,
           "showline": true,
           "ticks": "outside",
           "title": {
            "standoff": 15
           },
           "zeroline": false,
           "zerolinecolor": "rgb(36,36,36)"
          }
         }
        },
        "title": {
         "font": {
          "color": "Black",
          "size": 22
         },
         "text": "<b>Documents and Topics</b>",
         "x": 0.5,
         "xanchor": "center",
         "yanchor": "top"
        },
        "width": 1200,
        "xaxis": {
         "visible": false
        },
        "yaxis": {
         "visible": false
        }
       }
      }
     },
     "metadata": {},
     "output_type": "display_data"
    }
   ],
   "source": [
    "\n",
    "# Visualisierung nach Topic\n",
    "topic_model.visualize_documents(texts, topics=topics)"
   ]
  },
  {
   "cell_type": "markdown",
   "id": "c6986d07",
   "metadata": {},
   "source": [
    "#  Save"
   ]
  },
  {
   "cell_type": "code",
   "execution_count": 11,
   "id": "6a34bd1c",
   "metadata": {},
   "outputs": [],
   "source": [
    "df_clean.to_csv(RAW_DIR / \"social_media_data_with_topics.csv\")\n"
   ]
  },
  {
   "cell_type": "code",
   "execution_count": 12,
   "id": "1d57b1b3",
   "metadata": {},
   "outputs": [
    {
     "data": {
      "text/html": [
       "<div>\n",
       "<style scoped>\n",
       "    .dataframe tbody tr th:only-of-type {\n",
       "        vertical-align: middle;\n",
       "    }\n",
       "\n",
       "    .dataframe tbody tr th {\n",
       "        vertical-align: top;\n",
       "    }\n",
       "\n",
       "    .dataframe thead th {\n",
       "        text-align: right;\n",
       "    }\n",
       "</style>\n",
       "<table border=\"1\" class=\"dataframe\">\n",
       "  <thead>\n",
       "    <tr style=\"text-align: right;\">\n",
       "      <th></th>\n",
       "      <th>source</th>\n",
       "      <th>id</th>\n",
       "      <th>title</th>\n",
       "      <th>text</th>\n",
       "      <th>username</th>\n",
       "      <th>likes</th>\n",
       "      <th>comments</th>\n",
       "      <th>shares</th>\n",
       "      <th>plays</th>\n",
       "      <th>timestamp</th>\n",
       "      <th>published_at</th>\n",
       "      <th>url</th>\n",
       "      <th>datetime</th>\n",
       "      <th>date</th>\n",
       "      <th>title_language</th>\n",
       "      <th>title_clean</th>\n",
       "      <th>title_char_count</th>\n",
       "      <th>title_word_count</th>\n",
       "      <th>title_uppercase_count</th>\n",
       "      <th>title_exclamation_count</th>\n",
       "      <th>title_question_count</th>\n",
       "      <th>title_emoji_count</th>\n",
       "      <th>title_mention_count</th>\n",
       "      <th>title_hashtag_count</th>\n",
       "      <th>title_avg_word_length</th>\n",
       "      <th>title_sentiment</th>\n",
       "      <th>title_sentiment_score</th>\n",
       "      <th>text_language</th>\n",
       "      <th>text_clean</th>\n",
       "      <th>text_char_count</th>\n",
       "      <th>text_word_count</th>\n",
       "      <th>text_uppercase_count</th>\n",
       "      <th>text_exclamation_count</th>\n",
       "      <th>text_question_count</th>\n",
       "      <th>text_emoji_count</th>\n",
       "      <th>text_mention_count</th>\n",
       "      <th>text_hashtag_count</th>\n",
       "      <th>text_avg_word_length</th>\n",
       "      <th>text_sentiment</th>\n",
       "      <th>text_sentiment_score</th>\n",
       "      <th>engagement_rate</th>\n",
       "      <th>hour</th>\n",
       "      <th>weekday</th>\n",
       "      <th>year</th>\n",
       "      <th>month</th>\n",
       "      <th>day_period</th>\n",
       "      <th>is_weekend</th>\n",
       "      <th>topic</th>\n",
       "      <th>roberta_sentiment</th>\n",
       "    </tr>\n",
       "  </thead>\n",
       "  <tbody>\n",
       "    <tr>\n",
       "      <th>3</th>\n",
       "      <td>tiktok</td>\n",
       "      <td>7472584144510373125</td>\n",
       "      <td>NaN</td>\n",
       "      <td>i think it was a bad idea</td>\n",
       "      <td>maligoshik</td>\n",
       "      <td>0.492308</td>\n",
       "      <td>0.058979</td>\n",
       "      <td>0.149425</td>\n",
       "      <td>0.572996</td>\n",
       "      <td>1970-01-01 00:00:01.739846584+00:00</td>\n",
       "      <td>2025-05-12 13:56:29+00:00</td>\n",
       "      <td>https://v16-webapp-prime.tiktok.com/video/tos/...</td>\n",
       "      <td>2025-05-12 13:56:29+00:00</td>\n",
       "      <td>2025-05-12</td>\n",
       "      <td>unknown</td>\n",
       "      <td>NaN</td>\n",
       "      <td>0.0</td>\n",
       "      <td>0.0</td>\n",
       "      <td>0.0</td>\n",
       "      <td>0.0</td>\n",
       "      <td>0.0</td>\n",
       "      <td>0.0</td>\n",
       "      <td>0.0</td>\n",
       "      <td>0.0</td>\n",
       "      <td>0.0</td>\n",
       "      <td>neutral</td>\n",
       "      <td>0.0</td>\n",
       "      <td>en</td>\n",
       "      <td>think bad idea</td>\n",
       "      <td>14.0</td>\n",
       "      <td>3.0</td>\n",
       "      <td>0.0</td>\n",
       "      <td>0.0</td>\n",
       "      <td>0.0</td>\n",
       "      <td>0.0</td>\n",
       "      <td>0.0</td>\n",
       "      <td>0.0</td>\n",
       "      <td>4.0</td>\n",
       "      <td>negative</td>\n",
       "      <td>-0.7</td>\n",
       "      <td>0.273435</td>\n",
       "      <td>13.0</td>\n",
       "      <td>Monday</td>\n",
       "      <td>2025.0</td>\n",
       "      <td>5.0</td>\n",
       "      <td>afternoon</td>\n",
       "      <td>False</td>\n",
       "      <td>-1</td>\n",
       "      <td>LABEL_0</td>\n",
       "    </tr>\n",
       "    <tr>\n",
       "      <th>4</th>\n",
       "      <td>tiktok</td>\n",
       "      <td>7461927005689302280</td>\n",
       "      <td>NaN</td>\n",
       "      <td>welcome to the thanos world!! #squidgame #squi...</td>\n",
       "      <td>team_thanos_player230</td>\n",
       "      <td>0.006703</td>\n",
       "      <td>0.028503</td>\n",
       "      <td>0.001095</td>\n",
       "      <td>0.037793</td>\n",
       "      <td>1970-01-01 00:00:01.737365272+00:00</td>\n",
       "      <td>2025-05-12 13:56:20+00:00</td>\n",
       "      <td>https://webapp-sg.tiktok.com/bf63b8aa40b9ff0ca...</td>\n",
       "      <td>2025-05-12 13:56:20+00:00</td>\n",
       "      <td>2025-05-12</td>\n",
       "      <td>unknown</td>\n",
       "      <td>NaN</td>\n",
       "      <td>0.0</td>\n",
       "      <td>0.0</td>\n",
       "      <td>0.0</td>\n",
       "      <td>0.0</td>\n",
       "      <td>0.0</td>\n",
       "      <td>0.0</td>\n",
       "      <td>0.0</td>\n",
       "      <td>0.0</td>\n",
       "      <td>0.0</td>\n",
       "      <td>neutral</td>\n",
       "      <td>0.0</td>\n",
       "      <td>en</td>\n",
       "      <td>welcome thanos world</td>\n",
       "      <td>20.0</td>\n",
       "      <td>3.0</td>\n",
       "      <td>0.0</td>\n",
       "      <td>0.0</td>\n",
       "      <td>0.0</td>\n",
       "      <td>0.0</td>\n",
       "      <td>0.0</td>\n",
       "      <td>0.0</td>\n",
       "      <td>6.0</td>\n",
       "      <td>positive</td>\n",
       "      <td>0.8</td>\n",
       "      <td>0.059165</td>\n",
       "      <td>13.0</td>\n",
       "      <td>Monday</td>\n",
       "      <td>2025.0</td>\n",
       "      <td>5.0</td>\n",
       "      <td>afternoon</td>\n",
       "      <td>False</td>\n",
       "      <td>-1</td>\n",
       "      <td>LABEL_2</td>\n",
       "    </tr>\n",
       "    <tr>\n",
       "      <th>5</th>\n",
       "      <td>tiktok</td>\n",
       "      <td>7461757350492278048</td>\n",
       "      <td>NaN</td>\n",
       "      <td>This is a great goal 😳😭 @Fabio Andrés #golazo ...</td>\n",
       "      <td>risingballers</td>\n",
       "      <td>0.022272</td>\n",
       "      <td>0.012754</td>\n",
       "      <td>0.026598</td>\n",
       "      <td>0.033222</td>\n",
       "      <td>1970-01-01 00:00:01.737325774+00:00</td>\n",
       "      <td>2025-05-12 13:56:20+00:00</td>\n",
       "      <td>https://v16-webapp-prime.tiktok.com/video/tos/...</td>\n",
       "      <td>2025-05-12 13:56:20+00:00</td>\n",
       "      <td>2025-05-12</td>\n",
       "      <td>unknown</td>\n",
       "      <td>NaN</td>\n",
       "      <td>0.0</td>\n",
       "      <td>0.0</td>\n",
       "      <td>0.0</td>\n",
       "      <td>0.0</td>\n",
       "      <td>0.0</td>\n",
       "      <td>0.0</td>\n",
       "      <td>0.0</td>\n",
       "      <td>0.0</td>\n",
       "      <td>0.0</td>\n",
       "      <td>neutral</td>\n",
       "      <td>0.0</td>\n",
       "      <td>en</td>\n",
       "      <td>great goal andrés</td>\n",
       "      <td>17.0</td>\n",
       "      <td>3.0</td>\n",
       "      <td>0.0</td>\n",
       "      <td>0.0</td>\n",
       "      <td>0.0</td>\n",
       "      <td>0.0</td>\n",
       "      <td>0.0</td>\n",
       "      <td>0.0</td>\n",
       "      <td>5.0</td>\n",
       "      <td>positive</td>\n",
       "      <td>0.8</td>\n",
       "      <td>0.214484</td>\n",
       "      <td>13.0</td>\n",
       "      <td>Monday</td>\n",
       "      <td>2025.0</td>\n",
       "      <td>5.0</td>\n",
       "      <td>afternoon</td>\n",
       "      <td>False</td>\n",
       "      <td>5</td>\n",
       "      <td>LABEL_2</td>\n",
       "    </tr>\n",
       "    <tr>\n",
       "      <th>6</th>\n",
       "      <td>tiktok</td>\n",
       "      <td>7462429961345879318</td>\n",
       "      <td>NaN</td>\n",
       "      <td>glaube er hatte nicht so bock auf mich..💀 #for...</td>\n",
       "      <td>allroundii</td>\n",
       "      <td>0.017508</td>\n",
       "      <td>0.015076</td>\n",
       "      <td>0.018989</td>\n",
       "      <td>0.031088</td>\n",
       "      <td>1970-01-01 00:00:01.737482377+00:00</td>\n",
       "      <td>2025-05-12 13:56:20+00:00</td>\n",
       "      <td>NaN</td>\n",
       "      <td>2025-05-12 13:56:20+00:00</td>\n",
       "      <td>2025-05-12</td>\n",
       "      <td>unknown</td>\n",
       "      <td>NaN</td>\n",
       "      <td>0.0</td>\n",
       "      <td>0.0</td>\n",
       "      <td>0.0</td>\n",
       "      <td>0.0</td>\n",
       "      <td>0.0</td>\n",
       "      <td>0.0</td>\n",
       "      <td>0.0</td>\n",
       "      <td>0.0</td>\n",
       "      <td>0.0</td>\n",
       "      <td>neutral</td>\n",
       "      <td>0.0</td>\n",
       "      <td>de</td>\n",
       "      <td>glaube bock</td>\n",
       "      <td>11.0</td>\n",
       "      <td>2.0</td>\n",
       "      <td>0.0</td>\n",
       "      <td>0.0</td>\n",
       "      <td>0.0</td>\n",
       "      <td>0.0</td>\n",
       "      <td>0.0</td>\n",
       "      <td>0.0</td>\n",
       "      <td>5.0</td>\n",
       "      <td>neutral</td>\n",
       "      <td>0.0</td>\n",
       "      <td>0.180779</td>\n",
       "      <td>13.0</td>\n",
       "      <td>Monday</td>\n",
       "      <td>2025.0</td>\n",
       "      <td>5.0</td>\n",
       "      <td>afternoon</td>\n",
       "      <td>False</td>\n",
       "      <td>-1</td>\n",
       "      <td>LABEL_1</td>\n",
       "    </tr>\n",
       "    <tr>\n",
       "      <th>7</th>\n",
       "      <td>tiktok</td>\n",
       "      <td>7483193151004445974</td>\n",
       "      <td>NaN</td>\n",
       "      <td>#CapCut Speedquiz 🤯🧠✅️ #fyp #viral_video #quiz...</td>\n",
       "      <td>brainyy.quiz</td>\n",
       "      <td>0.000715</td>\n",
       "      <td>0.016347</td>\n",
       "      <td>0.002264</td>\n",
       "      <td>0.003353</td>\n",
       "      <td>1970-01-01 00:00:01.742316683+00:00</td>\n",
       "      <td>2025-05-12 13:56:20+00:00</td>\n",
       "      <td>NaN</td>\n",
       "      <td>2025-05-12 13:56:20+00:00</td>\n",
       "      <td>2025-05-12</td>\n",
       "      <td>unknown</td>\n",
       "      <td>NaN</td>\n",
       "      <td>0.0</td>\n",
       "      <td>0.0</td>\n",
       "      <td>0.0</td>\n",
       "      <td>0.0</td>\n",
       "      <td>0.0</td>\n",
       "      <td>0.0</td>\n",
       "      <td>0.0</td>\n",
       "      <td>0.0</td>\n",
       "      <td>0.0</td>\n",
       "      <td>neutral</td>\n",
       "      <td>0.0</td>\n",
       "      <td>nl</td>\n",
       "      <td>speedquiz</td>\n",
       "      <td>9.0</td>\n",
       "      <td>1.0</td>\n",
       "      <td>0.0</td>\n",
       "      <td>0.0</td>\n",
       "      <td>0.0</td>\n",
       "      <td>0.0</td>\n",
       "      <td>0.0</td>\n",
       "      <td>0.0</td>\n",
       "      <td>9.0</td>\n",
       "      <td>neutral</td>\n",
       "      <td>0.0</td>\n",
       "      <td>0.085936</td>\n",
       "      <td>13.0</td>\n",
       "      <td>Monday</td>\n",
       "      <td>2025.0</td>\n",
       "      <td>5.0</td>\n",
       "      <td>afternoon</td>\n",
       "      <td>False</td>\n",
       "      <td>19</td>\n",
       "      <td>LABEL_1</td>\n",
       "    </tr>\n",
       "  </tbody>\n",
       "</table>\n",
       "</div>"
      ],
      "text/plain": [
       "   source                   id title  \\\n",
       "3  tiktok  7472584144510373125   NaN   \n",
       "4  tiktok  7461927005689302280   NaN   \n",
       "5  tiktok  7461757350492278048   NaN   \n",
       "6  tiktok  7462429961345879318   NaN   \n",
       "7  tiktok  7483193151004445974   NaN   \n",
       "\n",
       "                                                text               username  \\\n",
       "3                          i think it was a bad idea             maligoshik   \n",
       "4  welcome to the thanos world!! #squidgame #squi...  team_thanos_player230   \n",
       "5  This is a great goal 😳😭 @Fabio Andrés #golazo ...          risingballers   \n",
       "6  glaube er hatte nicht so bock auf mich..💀 #for...             allroundii   \n",
       "7  #CapCut Speedquiz 🤯🧠✅️ #fyp #viral_video #quiz...           brainyy.quiz   \n",
       "\n",
       "      likes  comments    shares     plays                           timestamp  \\\n",
       "3  0.492308  0.058979  0.149425  0.572996 1970-01-01 00:00:01.739846584+00:00   \n",
       "4  0.006703  0.028503  0.001095  0.037793 1970-01-01 00:00:01.737365272+00:00   \n",
       "5  0.022272  0.012754  0.026598  0.033222 1970-01-01 00:00:01.737325774+00:00   \n",
       "6  0.017508  0.015076  0.018989  0.031088 1970-01-01 00:00:01.737482377+00:00   \n",
       "7  0.000715  0.016347  0.002264  0.003353 1970-01-01 00:00:01.742316683+00:00   \n",
       "\n",
       "                published_at  \\\n",
       "3  2025-05-12 13:56:29+00:00   \n",
       "4  2025-05-12 13:56:20+00:00   \n",
       "5  2025-05-12 13:56:20+00:00   \n",
       "6  2025-05-12 13:56:20+00:00   \n",
       "7  2025-05-12 13:56:20+00:00   \n",
       "\n",
       "                                                 url  \\\n",
       "3  https://v16-webapp-prime.tiktok.com/video/tos/...   \n",
       "4  https://webapp-sg.tiktok.com/bf63b8aa40b9ff0ca...   \n",
       "5  https://v16-webapp-prime.tiktok.com/video/tos/...   \n",
       "6                                                NaN   \n",
       "7                                                NaN   \n",
       "\n",
       "                    datetime        date title_language title_clean  \\\n",
       "3  2025-05-12 13:56:29+00:00  2025-05-12        unknown         NaN   \n",
       "4  2025-05-12 13:56:20+00:00  2025-05-12        unknown         NaN   \n",
       "5  2025-05-12 13:56:20+00:00  2025-05-12        unknown         NaN   \n",
       "6  2025-05-12 13:56:20+00:00  2025-05-12        unknown         NaN   \n",
       "7  2025-05-12 13:56:20+00:00  2025-05-12        unknown         NaN   \n",
       "\n",
       "   title_char_count  title_word_count  title_uppercase_count  \\\n",
       "3               0.0               0.0                    0.0   \n",
       "4               0.0               0.0                    0.0   \n",
       "5               0.0               0.0                    0.0   \n",
       "6               0.0               0.0                    0.0   \n",
       "7               0.0               0.0                    0.0   \n",
       "\n",
       "   title_exclamation_count  title_question_count  title_emoji_count  \\\n",
       "3                      0.0                   0.0                0.0   \n",
       "4                      0.0                   0.0                0.0   \n",
       "5                      0.0                   0.0                0.0   \n",
       "6                      0.0                   0.0                0.0   \n",
       "7                      0.0                   0.0                0.0   \n",
       "\n",
       "   title_mention_count  title_hashtag_count  title_avg_word_length  \\\n",
       "3                  0.0                  0.0                    0.0   \n",
       "4                  0.0                  0.0                    0.0   \n",
       "5                  0.0                  0.0                    0.0   \n",
       "6                  0.0                  0.0                    0.0   \n",
       "7                  0.0                  0.0                    0.0   \n",
       "\n",
       "  title_sentiment  title_sentiment_score text_language            text_clean  \\\n",
       "3         neutral                    0.0            en        think bad idea   \n",
       "4         neutral                    0.0            en  welcome thanos world   \n",
       "5         neutral                    0.0            en     great goal andrés   \n",
       "6         neutral                    0.0            de           glaube bock   \n",
       "7         neutral                    0.0            nl             speedquiz   \n",
       "\n",
       "   text_char_count  text_word_count  text_uppercase_count  \\\n",
       "3             14.0              3.0                   0.0   \n",
       "4             20.0              3.0                   0.0   \n",
       "5             17.0              3.0                   0.0   \n",
       "6             11.0              2.0                   0.0   \n",
       "7              9.0              1.0                   0.0   \n",
       "\n",
       "   text_exclamation_count  text_question_count  text_emoji_count  \\\n",
       "3                     0.0                  0.0               0.0   \n",
       "4                     0.0                  0.0               0.0   \n",
       "5                     0.0                  0.0               0.0   \n",
       "6                     0.0                  0.0               0.0   \n",
       "7                     0.0                  0.0               0.0   \n",
       "\n",
       "   text_mention_count  text_hashtag_count  text_avg_word_length  \\\n",
       "3                 0.0                 0.0                   4.0   \n",
       "4                 0.0                 0.0                   6.0   \n",
       "5                 0.0                 0.0                   5.0   \n",
       "6                 0.0                 0.0                   5.0   \n",
       "7                 0.0                 0.0                   9.0   \n",
       "\n",
       "  text_sentiment  text_sentiment_score  engagement_rate  hour weekday    year  \\\n",
       "3       negative                  -0.7         0.273435  13.0  Monday  2025.0   \n",
       "4       positive                   0.8         0.059165  13.0  Monday  2025.0   \n",
       "5       positive                   0.8         0.214484  13.0  Monday  2025.0   \n",
       "6        neutral                   0.0         0.180779  13.0  Monday  2025.0   \n",
       "7        neutral                   0.0         0.085936  13.0  Monday  2025.0   \n",
       "\n",
       "   month day_period  is_weekend  topic roberta_sentiment  \n",
       "3    5.0  afternoon       False     -1           LABEL_0  \n",
       "4    5.0  afternoon       False     -1           LABEL_2  \n",
       "5    5.0  afternoon       False      5           LABEL_2  \n",
       "6    5.0  afternoon       False     -1           LABEL_1  \n",
       "7    5.0  afternoon       False     19           LABEL_1  "
      ]
     },
     "execution_count": 12,
     "metadata": {},
     "output_type": "execute_result"
    }
   ],
   "source": [
    "df_clean.head()"
   ]
  }
 ],
 "metadata": {
  "kernelspec": {
   "display_name": "venv",
   "language": "python",
   "name": "python3"
  },
  "language_info": {
   "codemirror_mode": {
    "name": "ipython",
    "version": 3
   },
   "file_extension": ".py",
   "mimetype": "text/x-python",
   "name": "python",
   "nbconvert_exporter": "python",
   "pygments_lexer": "ipython3",
   "version": "3.10.0"
  }
 },
 "nbformat": 4,
 "nbformat_minor": 5
}
